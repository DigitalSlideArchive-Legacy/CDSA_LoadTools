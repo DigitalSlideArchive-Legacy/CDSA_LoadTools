{
 "cells": [
  {
   "cell_type": "code",
   "execution_count": 4,
   "metadata": {
    "collapsed": false
   },
   "outputs": [],
   "source": [
    "import pymongo\n",
    "import os,sys\n",
    "import dsa_mongo_common_functions as dsa\n",
    "import cdsa_loader_helper_functions as cdsa_helpers\n",
    "\n",
    "client = pymongo.MongoClient('localhost',27017)\n",
    "db_ptr = client['TCGA_Pyramid_DB']\n",
    "pyramid_root = '/PYRAMIDS/PYRAMIDS/CDSA/' \n",
    "reload(dsa)\n",
    "reload(cdsa_helpers)\n",
    "\n",
    "pyramid_db = client['CDSA_Pyramid_DB']\n",
    "\n",
    "\n",
    "load_errors_db = client['CDSA_LoadErrors']\n",
    "pyr_err_db = load_errors_db['Pyramid_Dups']"
   ]
  },
  {
   "cell_type": "code",
   "execution_count": 5,
   "metadata": {
    "collapsed": false
   },
   "outputs": [
    {
     "name": "stdout",
     "output_type": "stream",
     "text": [
      "65 pyramid collection sets are available\n",
      "['DLBC_Frozen', 'OV_Frozen', 'ESCA_Frozen', 'TGCT_Frozen', 'CHOL_Diagnostic', 'LUSC_Frozen', 'HNSC_Diagnostic', 'PAAD_Diagnostic', 'UCEC_Diagnostic', 'BLCA_Diagnostic', 'BLCA_Frozen', 'UCS_Diagnostic', 'COAD_Frozen', 'KIRP_Diagnostic', 'DLBC_Diagnostic', 'LUAD_Diagnostic', 'LUAD_Frozen', 'UCS_Frozen', 'ESCA_Diagnostic', 'UVM_Frozen', 'THCA_Frozen', 'MESO_Diagnostic', 'CESC_Frozen', 'READ_Diagnostic', 'PRAD_Frozen', 'COAD_Diagnostic', 'THYM_Frozen', 'SKCM_Frozen', 'BRCA_Frozen', 'BRCA_Diagnostic', 'KIRC_Frozen', 'MESO_Frozen', 'PCPG_Diagnostic', 'READ_Frozen', 'THCA_Diagnostic', 'TGCT_Diagnostic', 'STAD_Diagnostic', 'THYM_Diagnostic', 'KIRP_Frozen', 'CHOL_Frozen', 'SKCM_Diagnostic', 'LGG_Diagnostic', 'SARC_Frozen', 'PRAD_Diagnostic', 'STAD_Frozen', 'GBM_Diagnostic', 'LGG_Frozen', 'LIHC_Frozen', 'GBM_DIAG_ANALYSIS_TIF', 'OV_Diagnostic', 'GBM_Frozen', 'UVM_Diagnostic', 'LIHC_Diagnostic', 'KICH_Frozen', 'UCEC_Frozen', 'ACC_Frozen', 'KICH_Diagnostic', 'SARC_Diagnostic', 'LUSC_Diagnostic', 'PAAD_Frozen', 'KIRC_Diagnostic', 'CESC_Diagnostic', 'PCPG_Frozen', 'ACC_Diagnostic', 'HNSC_Frozen']\n"
     ]
    }
   ],
   "source": [
    "pyramid_collections = [x for x in os.listdir(pyramid_root) if os.path.isdir(os.path.join(pyramid_root,x)) ]\n",
    "print len(pyramid_collections),'pyramid collection sets are available'\n",
    "print pyramid_collections"
   ]
  },
  {
   "cell_type": "code",
   "execution_count": 7,
   "metadata": {
    "collapsed": false
   },
   "outputs": [],
   "source": [
    "#collection_id='PRAD_Frozen'\n",
    "#print pyramid_collections ## This lists all the top level folders\n",
    "#pyr_err_db.drop()"
   ]
  },
  {
   "cell_type": "code",
   "execution_count": 8,
   "metadata": {
    "collapsed": false
   },
   "outputs": [
    {
     "name": "stdout",
     "output_type": "stream",
     "text": [
      "\u001b[KProcessed: 45 pyramidsPROCESSING  DLBC_Frozen\n",
      "\u001b[KProcessed: 2321 pyramidsPROCESSING  OV_Frozen\n",
      "\u001b[KProcessed: 248 pyramidsPROCESSING  ESCA_Frozen\n",
      "\u001b[KProcessed: 156 pyramidsPROCESSING  TGCT_Frozen\n",
      "\u001b[KProcessed: 36 pyramidsPROCESSING  CHOL_Diagnostic\n",
      "\u001b[KProcessed: 1395 pyramidsPROCESSING  LUSC_Frozen\n",
      "\u001b[KProcessed: 591 pyramidsPROCESSING  HNSC_Diagnostic\n",
      "\u001b[KProcessed: 58 pyramidsPROCESSING  PAAD_Diagnostic\n",
      "\u001b[KProcessed: 651 pyramidsPROCESSING  UCEC_Diagnostic\n",
      "\u001b[KProcessed: 545 pyramidsPROCESSING  BLCA_Diagnostic\n",
      "\u001b[KProcessed: 796 pyramidsPROCESSING  BLCA_Frozen\n",
      "\u001b[KProcessed: 95 pyramidsPROCESSING  UCS_Diagnostic\n",
      "\u001b[KProcessed: 1663 pyramidsPROCESSING  COAD_Frozen\n",
      "\u001b[KProcessed: 332 pyramidsPROCESSING  KIRP_Diagnostic\n",
      "\u001b[KProcessed: 30 pyramidsPROCESSING  DLBC_Diagnostic\n",
      "\u001b[KProcessed: 677 pyramidsPROCESSING  LUAD_Diagnostic\n",
      "\u001b[KProcessed: 1470 pyramidsPROCESSING  LUAD_Frozen\n",
      "\u001b[KProcessed: 63 pyramidsPROCESSING  UCS_Frozen\n",
      "\u001b[KProcessed: 163 pyramidsPROCESSING  ESCA_Diagnostic\n",
      "\u001b[KProcessed: 78 pyramidsPROCESSING  UVM_Frozen\n",
      "\u001b[KProcessed: 835 pyramidsPROCESSING  THCA_Frozen\n",
      "\u001b[KProcessed: 95 pyramidsPROCESSING  MESO_Diagnostic\n",
      "\u001b[KProcessed: 460 pyramidsPROCESSING  CESC_Frozen\n",
      "\u001b[KProcessed: 202 pyramidsPROCESSING  READ_Diagnostic\n",
      "\u001b[KProcessed: 765 pyramidsPROCESSING  PRAD_Frozen\n",
      "\u001b[KProcessed: 516 pyramidsPROCESSING  COAD_Diagnostic\n",
      "\u001b[KProcessed: 137 pyramidsPROCESSING  THYM_Frozen\n",
      "\u001b[KProcessed: 495 pyramidsPROCESSING  SKCM_Frozen\n",
      "\u001b[KProcessed: 5844 pyramidsPROCESSING  BRCA_Frozen\n",
      "\u001b[KProcessed: 1408 pyramidsPROCESSING  BRCA_Diagnostic\n",
      "\u001b[KTotal Processed: 1408  Newly Processed: 0 Dup Slides or Already Loaded: 1408   Dup Pyramids 0PROCESSING  KIRC_Frozen\n",
      "\u001b[KProcessed: 88 pyramidsPROCESSING  MESO_Frozen\n",
      "\u001b[KProcessed: 376 pyramidsPROCESSING  PCPG_Diagnostic\n",
      "\u001b[KProcessed: 738 pyramidsPROCESSING  READ_Frozen\n",
      "\u001b[KProcessed: 572 pyramidsPROCESSING  THCA_Diagnostic\n",
      "\u001b[KTotal Processed: 572  Newly Processed: 0 Dup Slides or Already Loaded: 572   Dup Pyramids 0PROCESSING  TGCT_Diagnostic\n",
      "\u001b[KProcessed: 529 pyramidsPROCESSING  STAD_Diagnostic\n",
      "\u001b[KProcessed: 181 pyramidsPROCESSING  THYM_Diagnostic\n",
      "\u001b[KProcessed: 517 pyramidsPROCESSING  KIRP_Frozen\n",
      "\u001b[KProcessed: 51 pyramidsPROCESSING  CHOL_Frozen\n",
      "\u001b[KProcessed: 516 pyramidsPROCESSING  SKCM_Diagnostic\n",
      "\u001b[KProcessed: 849 pyramidsPROCESSING  LGG_Diagnostic\n",
      "\u001b[KProcessed: 298 pyramidsPROCESSING  SARC_Frozen\n",
      "\u001b[KProcessed: 187 pyramidsPROCESSING  PRAD_Diagnostic\n",
      "\u001b[KProcessed: 1067 pyramidsPROCESSING  STAD_Frozen\n",
      "\u001b[KProcessed: 1362 pyramidsPROCESSING  GBM_Diagnostic\n",
      "\u001b[KProcessed: 937 pyramidsPROCESSING  LGG_Frozen\n",
      "\u001b[KProcessed: 703 pyramidsPROCESSING  LIHC_Frozen\n",
      "\u001b[KProcessed: 179 pyramidsPROCESSING  GBM_DIAG_ANALYSIS_TIF\n",
      "\u001b[KProcessed: 7 pyramidsPROCESSING  OV_Diagnostic\n",
      "\u001b[KProcessed: 1704 pyramidsPROCESSING  GBM_Frozen\n",
      "\u001b[KProcessed: 63 pyramidsPROCESSING  UVM_Diagnostic\n",
      "\u001b[KProcessed: 395 pyramidsPROCESSING  LIHC_Diagnostic\n",
      "\u001b[KProcessed: 249 pyramidsPROCESSING  KICH_Frozen\n",
      "\u001b[KProcessed: 1819 pyramidsPROCESSING  UCEC_Frozen\n",
      "\u001b[KProcessed: 177 pyramidsPROCESSING  ACC_Frozen\n",
      "\u001b[KProcessed: 149 pyramidsPROCESSING  KICH_Diagnostic\n",
      "\u001b[KProcessed: 682 pyramidsPROCESSING  SARC_Diagnostic\n",
      "\u001b[KProcessed: 519 pyramidsPROCESSING  LUSC_Diagnostic\n",
      "\u001b[KProcessed: 220 pyramidsPROCESSING  PAAD_Frozen\n",
      "\u001b[KProcessed: 474 pyramidsPROCESSING  KIRC_Diagnostic\n",
      "\u001b[KProcessed: 398 pyramidsPROCESSING  CESC_Diagnostic\n",
      "\u001b[KProcessed: 193 pyramidsPROCESSING  PCPG_Frozen\n",
      "\u001b[KProcessed: 227 pyramidsPROCESSING  ACC_Diagnostic\n",
      "\u001b[KProcessed: 943 pyramidsPROCESSING  HNSC_Frozen\n",
      "\u001b[KTotal Processed: 943  Newly Processed: 0 Dup Slides or Already Loaded: 943   Dup Pyramids 0"
     ]
    }
   ],
   "source": [
    "for collection_id in pyramid_collections:\n",
    "    curr_pyramid_slide_list = dsa.find_pyramid_images(collection_id,[pyramid_root])\n",
    "    print \"PROCESSING \",collection_id\n",
    "    \n",
    "    duplicated_pyramids = 0\n",
    "\n",
    "    pyramids_processed = 0\n",
    "    newly_processed = 0\n",
    "    already_processed = 0\n",
    "    #pyramid_db[collection_id].drop()\n",
    "\n",
    "    for pyr in curr_pyramid_slide_list:\n",
    "        pyramid_name = os.path.basename(pyr)\n",
    "        qry = pyramid_db[collection_id].find_one( {'pyramid_name': pyramid_name})\n",
    "        if not qry:\n",
    "            fs = os.path.getsize(pyr)\n",
    "            (openslide_could_open, width, height, filesize, orig_resolution, slide_name,md5, pyramid_properties) = cdsa_helpers.openslide_test_file_mongo( pyr, 'pyramid', client)\n",
    "\n",
    "            pyramid_metadata = { 'pyramid_w_path': pyr, 'pyramid_name': pyramid_name, 'file_size':fs, 'width':width, 'height':height,\n",
    "                                 'pyramid_properties': cdsa_helpers.clean_openslide_keys ( pyramid_properties), 'slide_md5': md5, \n",
    "                                 'conversion_info': 'TBD'\n",
    "                                 }\n",
    "                #print slide_metadata\n",
    "            pyramid_db[collection_id].insert_one(pyramid_metadata)\n",
    "            newly_processed +=1 \n",
    "        else:\n",
    "            ## Now I need to see if the file I am scanning is the same file already loaded, or if I inadvertently\n",
    "            ## made multiple pyramids for the same svs file\n",
    "            if qry['pyramid_w_path'] != pyr:\n",
    "                img_size_in_db = os.path.getsize(pyr)\n",
    "                new_img_size = os.path.getsize(qry['pyramid_w_path'])\n",
    "                if img_size_in_db != new_img_size:\n",
    "#                     print\n",
    "#                     print qry['pyramid_w_path']\n",
    "#                     print pyr\n",
    "                    \n",
    "                    pyr_err_db.insert_one( {'pyr_in_db': qry['pyramid_w_path'], 'pyr_thats_duped': pyr } )\n",
    "                    duplicated_pyramids +=1\n",
    "            already_processed +=1\n",
    "\n",
    "        pyramids_processed +=1        \n",
    "        output = \"Total Processed: %d  Newly Processed: %d Dup Slides or Already Loaded: %d   Dup Pyramids %d\" % (pyramids_processed, newly_processed, already_processed, duplicated_pyramids )\n",
    "        dsa.LinePrinter(output)\n"
   ]
  },
  {
   "cell_type": "code",
   "execution_count": 26,
   "metadata": {
    "collapsed": false
   },
   "outputs": [
    {
     "name": "stdout",
     "output_type": "stream",
     "text": [
      "{u'openslide.level[3].height': u'5723', u'openslide.level[8].width': u'249', u'openslide.level[4].width': u'3995', u'openslide.level[7].tile-width': u'256', u'openslide.level[4].height': u'2861', u'openslide.level[0].width': u'63922', u'openslide.level[7].tile-height': u'256', u'openslide.quickhash-1': u'2c8f9d303053733a664830e0fbf4ecd09d11eabdef2d7e17b10704b21b5323e1', u'openslide.level[6].tile-height': u'256', u'openslide.level[2].height': u'11447', u'openslide.level[1].height': u'22894', u'openslide.level[4].tile-height': u'256', u'openslide.level[3].width': u'7990', u'openslide.level[1].width': u'31961', u'openslide.level[5].height': u'1430', u'openslide.level[3].tile-width': u'256', u'openslide.level[2].width': u'15980', u'openslide.level[7].height': u'357', u'openslide.level[0].tile-height': u'256', u'openslide.level[5].tile-height': u'256', u'openslide.level-count': u'9', u'tiff.ResolutionUnit': u'centimeter', u'openslide.level[0].height': u'45788', u'tiff.YResolution': u'10', u'openslide.level[3].downsample': u'8.0004746235082855', u'openslide.level[5].downsample': u'32.01429696993042', u'openslide.level[1].tile-height': u'256', u'openslide.level[5].width': u'1997', u'openslide.level[0].downsample': u'1', u'openslide.level[8].downsample': u'256.97540724696535', u'openslide.level[3].tile-height': u'256', u'openslide.level[8].height': u'178', u'openslide.level[7].width': u'499', u'openslide.level[6].width': u'998', u'openslide.level[4].downsample': u'16.002347481713201', u'openslide.level[8].tile-width': u'256', u'openslide.level[6].downsample': u'64.044630519780824', u'openslide.level[6].tile-width': u'256', u'openslide.level[0].tile-width': u'256', u'openslide.level[2].tile-width': u'256', u'tiff.XResolution': u'10', u'openslide.level[4].tile-width': u'256', u'openslide.level[1].downsample': u'2', u'openslide.level[2].downsample': u'4.0000625782227779', u'openslide.level[7].downsample': u'128.17895174101704', u'openslide.level[6].height': u'715', u'openslide.level[5].tile-width': u'256', u'openslide.vendor': u'generic-tiff', u'openslide.level[2].tile-height': u'256', u'openslide.level[1].tile-width': u'256', u'openslide.level[8].tile-height': u'256'}\n"
     ]
    }
   ],
   "source": [
    "print sld_properties"
   ]
  }
 ],
 "metadata": {
  "kernelspec": {
   "display_name": "Python 2",
   "language": "python",
   "name": "python2"
  },
  "language_info": {
   "codemirror_mode": {
    "name": "ipython",
    "version": 2
   },
   "file_extension": ".py",
   "mimetype": "text/x-python",
   "name": "python",
   "nbconvert_exporter": "python",
   "pygments_lexer": "ipython2",
   "version": "2.7.6"
  }
 },
 "nbformat": 4,
 "nbformat_minor": 0
}
