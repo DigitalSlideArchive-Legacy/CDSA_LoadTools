{
 "cells": [
  {
   "cell_type": "code",
   "execution_count": 3,
   "metadata": {
    "collapsed": true
   },
   "outputs": [],
   "source": [
    "import girder_client\n",
    "import os,sys, glob\n",
    "sys.path.append(\"../../helperLibs\")  \n",
    "import DSAHelperFunctions as DSA"
   ]
  },
  {
   "cell_type": "code",
   "execution_count": 4,
   "metadata": {},
   "outputs": [
    {
     "name": "stdout",
     "output_type": "stream",
     "text": [
      "Login or email: admin\n",
      "Password for admin: ········\n"
     ]
    }
   ],
   "source": [
    "## Connecting to computablebrain and going to create a DICOM tag on each directory if it doesnt' already have one\n",
    "## That way it will natively embed and display DICOM related metadata\n",
    "CB_ApiURL = \"http://computablebrain.emory.edu:8080/api/v1\"\n",
    "\n",
    "gc = girder_client.GirderClient(apiUrl=CB_ApiURL)\n",
    "gc.authenticate(interactive=True)"
   ]
  },
  {
   "cell_type": "code",
   "execution_count": 5,
   "metadata": {
    "collapsed": true
   },
   "outputs": [],
   "source": [
    "RootDICOM_FolderID  = '5b3e616e92ca9a001a802f6b'"
   ]
  },
  {
   "cell_type": "code",
   "execution_count": 6,
   "metadata": {},
   "outputs": [
    {
     "name": "stdout",
     "output_type": "stream",
     "text": [
      "\u001b[KProcessing subject ATX_001_002_BASELINE_CSI20121010; subjects processed: 121; DICOM folders just converted: 0  "
     ]
    }
   ],
   "source": [
    "subjsProcessed = 0\n",
    "foldersProcessed = 0\n",
    "\n",
    "for fldr in gc.listFolder(RootDICOM_FolderID):\n",
    "    ## PatientID in this case follows ATX-001 which is the studyName\n",
    "    subjsProcessed +=1\n",
    "    ## Now list the items in each subject directory and see if they have the DICOM tag associated with them\n",
    "    itemList = gc.listItem(fldr['_id'])\n",
    "    for i in itemList:\n",
    "        if 'dicom' not in i.keys():\n",
    "            gc.post('/item/%s/parseDicom' % i['_id'])\n",
    "            foldersProcessed+=1\n",
    "        DSA.LinePrinter(\"Processing subject %s; subjects processed: %d; DICOM folders just converted: %d \" % (fldr['name'], subjsProcessed, foldersProcessed))"
   ]
  }
 ],
 "metadata": {
  "kernelspec": {
   "display_name": "Python 2",
   "language": "python",
   "name": "python2"
  },
  "language_info": {
   "codemirror_mode": {
    "name": "ipython",
    "version": 2
   },
   "file_extension": ".py",
   "mimetype": "text/x-python",
   "name": "python",
   "nbconvert_exporter": "python",
   "pygments_lexer": "ipython2",
   "version": "2.7.13"
  }
 },
 "nbformat": 4,
 "nbformat_minor": 2
}
