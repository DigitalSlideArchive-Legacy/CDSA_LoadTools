{
 "cells": [
  {
   "cell_type": "code",
   "execution_count": null,
   "metadata": {
    "collapsed": true
   },
   "outputs": [],
   "source": [
    "# Attach Aperio XML file to a slide\n",
    "# This script takes Aperio folder ID loaded into Girder and recursively\n",
    "# assigns Aperio file to a slide. Assming you have the Aperio files in Girder\n",
    "# you only need to modify two variables to make this script work:\n",
    "# BASE_URL and APERIO_FOLDER_ID"
   ]
  },
  {
   "cell_type": "code",
   "execution_count": null,
   "metadata": {
    "collapsed": true
   },
   "outputs": [],
   "source": [
    "#URL to the API\n",
    "BASE_URL = 'http://candygram.neurology.emory.edu:8080/api/v1'\n",
    "\n",
    "#Folder ID containing Aperio XML files\n",
    "APERIO_FOLDER_ID = '588fa8d492ca9a000b471588'"
   ]
  },
  {
   "cell_type": "code",
   "execution_count": null,
   "metadata": {
    "collapsed": true
   },
   "outputs": [],
   "source": [
    "import json\n",
    "import girder_client\n",
    "import collections\n",
    "import sys\n",
    "sys.path.append(\"../utils\")\n",
    "from girder_utils import *"
   ]
  },
  {
   "cell_type": "code",
   "execution_count": null,
   "metadata": {
    "collapsed": false
   },
   "outputs": [],
   "source": [
    "gc = girder_client.GirderClient(apiUrl=BASE_URL)\n",
    "gc.authenticate(interactive=True)"
   ]
  },
  {
   "cell_type": "code",
   "execution_count": null,
   "metadata": {
    "collapsed": false
   },
   "outputs": [],
   "source": [
    "#Get list fo folders\n",
    "folders = recurseGetResource(gc, APERIO_FOLDER_ID, 'folder', 'folder')\n",
    "\n",
    "#For each folder recurse and get all items\n",
    "for folder in folders:\n",
    "    items = recurseGetItems(gc, folder[\"_id\"])\n",
    "\n",
    "    for item in items:\n",
    "        params = {\"id\": item[\"_id\"], \"recursive\": True}\n",
    "        \n",
    "        try:\n",
    "            resp = gc.post(\"/tcga/aperio\", parameters=params)\n",
    "            print resp[\"aperio\"][\"image\"]\n",
    "        except:\n",
    "            pass"
   ]
  },
  {
   "cell_type": "code",
   "execution_count": null,
   "metadata": {
    "collapsed": true
   },
   "outputs": [],
   "source": []
  }
 ],
 "metadata": {
  "kernelspec": {
   "display_name": "Python 2",
   "language": "python",
   "name": "python2"
  },
  "language_info": {
   "codemirror_mode": {
    "name": "ipython",
    "version": 2
   },
   "file_extension": ".py",
   "mimetype": "text/x-python",
   "name": "python",
   "nbconvert_exporter": "python",
   "pygments_lexer": "ipython2",
   "version": "2.7.12"
  }
 },
 "nbformat": 4,
 "nbformat_minor": 0
}
