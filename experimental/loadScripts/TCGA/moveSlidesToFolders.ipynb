{
 "cells": [
  {
   "cell_type": "markdown",
   "metadata": {},
   "source": [
    "# This script will attempt to reorganize the data I loaded into Girder in \"batch\" mode for the candygram test site\n"
   "cell_type": "code",
   "execution_count": null,
   "metadata": {
    "collapsed": true
   },
   "outputs": [],
   "source": [
    "# WARNING: before running this script make sure you created the proper TCGA folder structure.\n",
    "# See the notebook: createFolderStructure\n",
    "# TCGA folder structure should be as follows:\n",
    "#   collection -> cohorts -> cases (patient folders) -> slide folders\n",
    "\n",
    "# This script will move slides from the main cohort folders into their corresponding slide folders, \n",
    "# leaving the cohort folders without any items (images)                "
   ]
  },
  {
   "cell_type": "code",
   "execution_count": null,
   "metadata": {
    "collapsed": true
   },
   "outputs": [],
   "source": [
    "#URL to the API\n",
    "BASE_URL = 'http://candygram.neurology.emory.edu:8080/api/v1'\n",
    "\n",
    "#TCGA collection name\n",
    "COLLECTION_NAME = 'TCGA'"
   ]
  },
  {
   "cell_type": "code",
   "execution_count": 1,
   "metadata": {
    "collapsed": false
   },
   "outputs": [],
   "source": [
    "import json\n",
    "import girder_client\n",
    "import collections\n",
    "from utils import *\n",
    "\n",
    "BASE_URL = 'http://candygram.neurology.emory.edu:8080/api/v1'\n",
    "COLLECTION_NAME = 'TCGA'",
    "import sys\n",
    "sys.path.append(\"../utils\")\n",
    "from girder_utils import *"
   ]
  },
  {
   "cell_type": "code",
   "execution_count": 2,
   "metadata": {
    "collapsed": false
   },
   "outputs": [
    {
     "name": "stdout",
     "output_type": "stream",
     "text": [
      "Login or email: admin\n",
      "Password for admin: ········\n"
     ]
    }
   ],
   "execution_count": null,
   "metadata": {
    "collapsed": false
   },
   "outputs": [],
   "source": [
    "gc = girder_client.GirderClient(apiUrl=BASE_URL)\n",
    "gc.authenticate(interactive=True)"
   ]
  },
  {
   "cell_type": "code",
   "execution_count": null,
   "metadata": {
    "collapsed": false
   },
   "outputs": [],
   "source": [
    "##Going to get my collection by ID so I can interact with it\n",
    "requestUrl = 'resource/lookup?path=collection/%s' % COLLECTION_NAME\n",
    "collectionData = gc.getResource(requestUrl)\n",
    "collectionId = collectionData['_id']"
   ]
  },
  {
   "cell_type": "code",
   "execution_count": null,
   "metadata": {
    "collapsed": false
   },
   "source": [
    "#Second, for each cohort (main folder) loop through the items\n",
    "#Then move the item to its corresponding patient folder\n",
    "#Use folderName2Id to map patient ID to folder ID\n",
    "folders = recurseGetResource(gc, collectionId, 'folder', 'collection')\n",
    "print \"Moving items to slide folders...\"\n",
    "\n",
    "for folder in folders:\n",
    "    print \"Working on \" + folder[\"name\"]\n",
    "    offset = -1\n",
    "    \n",
    "    while True:\n",
    "        items = list(gc.listItem(folder[\"_id\"], limit=500, offset=offset + 1))\n",
    "        for item in items:\n",
    "            folderName = item[\"name\"].split(\".\",1)[0]\n",
    "            requestUrl = 'resource/search?q=%s&mode=prefix&types=%%5B%%22folder%%22%%5D&level=0&limit=10&offset=0' % folderName\n",
    "            results = gc.getResource(requestUrl)[\"folder\"]\n",
    "           \n",
    "            if len(results):\n",
    "                folderId = results[0]['_id']\n",
    "                try:\n",
    "                    gc.put(\"item/\" + item[\"_id\"], {\"folderId\": folderId})\n",
    "                except:\n",
    "                    print \"failed \" + folderName\n",
    "                    pass\n",
    "            \n",
    "        if len(items) < 500: break\n",
    "        offset += 500\n",
    "        \n",
    "print \"Done\""
   ]
  },
  {
   "cell_type": "code",
   "execution_count": null,
   "metadata": {
    "collapsed": true
   },
   "source": []
  }
 ],
 "metadata": {
  "kernelspec": {
   "display_name": "Python 2",
   "language": "python",
   "name": "python2"
  },
  "language_info": {
   "codemirror_mode": {
    "name": "ipython",
    "version": 2
   },
   "file_extension": ".py",
   "mimetype": "text/x-python",
   "name": "python",
   "nbconvert_exporter": "python",
   "pygments_lexer": "ipython2",
   "version": "2.7.12"
  }
 },
 "nbformat": 4,
 "nbformat_minor": 0
}
