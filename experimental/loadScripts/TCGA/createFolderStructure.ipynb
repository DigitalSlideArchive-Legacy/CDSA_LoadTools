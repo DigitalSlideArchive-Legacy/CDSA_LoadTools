{
 "cells": [
  {
   "cell_type": "code",
   "execution_count": 1,
   "metadata": {
    "collapsed": true
   },
   "outputs": [],
   "source": [
    "# Create the proper folder structure for the TCGA dataset. This script assumes the following:\n",
    "#  TCGA slides are loaded into a collection\n",
    "#  Under the collection are the cohorts folders (ACC, LGG, GBM, etc.)\n",
    "#  Under each cohort are the list of slides\n",
    "\n",
    "# The create folder structure will be as follows:\n",
    "# collection -> cohorts -> cases (patient folders) -> slide folders"
   ]
  },
  {
   "cell_type": "code",
   "execution_count": 1,
   "metadata": {
    "collapsed": true
   },
   "outputs": [],
   "source": [
    "#URL to the API\n",
    "BASE_URL = 'http://gauss.neurology.emory.edu:8080/api/v1'\n",
    "\n",
    "#TCGA collection name\n",
    "COLLECTION_NAME = 'TCGA'"
   ]
  },
  {
   "cell_type": "code",
   "execution_count": 5,
   "metadata": {
    "collapsed": false
   },
   "outputs": [],
   "source": [
    "import json\n",
    "import girder_client\n",
    "import collections\n",
    "import sys\n",
    "sys.path.append(\"../utils\")\n",
    "from girder_utils import *"
   ]
  },
  {
   "cell_type": "code",
   "execution_count": 8,
   "metadata": {
    "collapsed": false
   },
   "outputs": [
    {
     "name": "stdout",
     "output_type": "stream",
     "text": [
      "Login or email: admin\n",
      "Password for admin: ········\n"
     ]
    }
   ],
   "source": [
    "gc = girder_client.GirderClient(apiUrl=BASE_URL)\n",
    "gc.authenticate(interactive=True)"
   ]
  },
  {
   "cell_type": "code",
   "execution_count": 9,
   "metadata": {
    "collapsed": false
   },
   "outputs": [],
   "source": [
    "##Going to get my collection by ID so I can interact with it\n",
    "requestUrl = 'resource/lookup?path=collection/%s' % COLLECTION_NAME\n",
    "collectionData = gc.getResource(requestUrl)\n",
    "collectionId = collectionData['_id']"
   ]
  },
  {
   "cell_type": "code",
   "execution_count": null,
   "metadata": {
    "collapsed": false
   },
   "outputs": [
    {
     "name": "stdout",
     "output_type": "stream",
     "text": [
      "cleaning up folder acc\n",
      "cleaning up folder blca\n"
     ]
    }
   ],
   "source": [
    "#First, for every cohort (main folder) do the following\n",
    "#  1. Get list of items and subfolders\n",
    "#  2. Map folder name to folder ID\n",
    "#  3. Delete any item with filename starting with .TCGA\n",
    "#  4. Create a folder for each patient, of the folder does not exist\n",
    "folders = recurseGetResource(gc, collectionId, 'folder', 'collection')\n",
    "\n",
    "for folder in folders:\n",
    "    print \"cleaning up folder \" + folder[\"name\"]\n",
    "    offset = -1\n",
    "    folderId = folder[\"_id\"]\n",
    "    \n",
    "    while True:\n",
    "        items = list(gc.listItem(folderId, limit=500, offset=offset + 1))\n",
    "        for item in items:\n",
    "            name = item[\"name\"]\n",
    "        \n",
    "            if name.startswith('TCGA-'):\n",
    "                patientFolderName = name[0:12]\n",
    "                slideFolderName = name.split(\".\",1)[0]\n",
    "            \n",
    "                try:\n",
    "                    patientFolder = gc.createFolder(folderId, patientFolderName, parentType='folder')\n",
    "                except:\n",
    "                    requestUrl = 'resource/search?q=%s&mode=prefix&types=%%5B%%22folder%%22%%5D&level=0&limit=10&offset=0' % patientFolderName\n",
    "                    patientFolder = gc.getResource(requestUrl)[\"folder\"][0]\n",
    "                    pass\n",
    "\n",
    "                try:\n",
    "                    gc.createFolder(patientFolder[\"_id\"], slideFolderName)\n",
    "                    print \"Creating slide folder \" + folderName\n",
    "                except:\n",
    "                    pass\n",
    "                \n",
    "        if len(items) < 500: break\n",
    "        offset += 500"
   ]
  },
  {
   "cell_type": "code",
   "execution_count": null,
   "metadata": {
    "collapsed": true
   },
   "outputs": [],
   "source": []
  }
 ],
 "metadata": {
  "kernelspec": {
   "display_name": "Python 2",
   "language": "python",
   "name": "python2"
  },
  "language_info": {
   "codemirror_mode": {
    "name": "ipython",
    "version": 2
   },
   "file_extension": ".py",
   "mimetype": "text/x-python",
   "name": "python",
   "nbconvert_exporter": "python",
   "pygments_lexer": "ipython2",
   "version": "2.7.13"
  }
 },
 "nbformat": 4,
 "nbformat_minor": 0
}
