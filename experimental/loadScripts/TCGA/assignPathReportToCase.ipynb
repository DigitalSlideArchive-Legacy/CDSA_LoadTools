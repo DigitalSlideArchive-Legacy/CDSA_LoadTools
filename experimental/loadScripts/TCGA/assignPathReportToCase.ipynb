{
 "cells": [
  {
   "cell_type": "code",
   "execution_count": null,
   "metadata": {
    "collapsed": true
   },
   "outputs": [],
   "source": [
    "# Attach pathology report to a slide\n",
    "# This script takes pathology report folder ID loaded into Girder and recursively\n",
    "# assigns report file to a slide. Assming you have the pathology reports files in Girder\n",
    "# you only need to modify two variables to make this script work:\n",
    "# BASE_URL and PATH_FOLDER_ID"
   ]
  },
  {
   "cell_type": "code",
   "execution_count": 1,
   "metadata": {
    "collapsed": true
   },
   "outputs": [],
   "source": [
    "#URL to the API\n",
    "#https://girder.neuro.emory.edu/api/v1\n",
    "#http://candygram.neurology.emory.edu:8080/api/v1\n",
    "BASE_URL = 'http://digitalslidearchive.emory.edu:8080/api/v1'\n",
    "\n",
    "#Folder ID containing pathology reports\n",
    "PATH_FOLDER_ID = '596f8a9292ca9a000d83e1fd'"
   ]
  },
  {
   "cell_type": "code",
   "execution_count": 2,
   "metadata": {
    "collapsed": true
   },
   "outputs": [],
   "source": [
    "import json\n",
    "import girder_client\n",
    "import collections\n",
    "import sys\n",
    "sys.path.append(\"../utils\")\n",
    "from girder_utils import *"
   ]
  },
  {
   "cell_type": "code",
   "execution_count": 4,
   "metadata": {
    "collapsed": false
   },
   "outputs": [
    {
     "name": "stdout",
     "output_type": "stream",
     "text": [
      "Login or email: admin\n",
      "Password for admin: ········\n"
     ]
    }
   ],
   "source": [
    "gc = girder_client.GirderClient(apiUrl=BASE_URL)\n",
    "gc.authenticate(interactive=True)"
   ]
  },
  {
   "cell_type": "code",
   "execution_count": null,
   "metadata": {
    "collapsed": false
   },
   "outputs": [],
   "source": [
    "#Second, for each cohort (main folder) loop through the items\n",
    "#Then move the item to its corresponding patient folder\n",
    "#Use folderName2Id to map patient ID to folder ID\n",
    "\n",
    "folders = recurseGetResource(gc, PATH_FOLDER_ID, 'folder', 'folder')\n",
    "\n",
    "for folder in folders:\n",
    "    items = recurseGetItems(gc, folder[\"_id\"])\n",
    "    for item in items:\n",
    "        params = {\"id\": item[\"_id\"], \"recursive\": True}\n",
    "        \n",
    "        try:\n",
    "            resp = gc.post(\"/tcga/pathology\", parameters=params)\n",
    "            print resp[\"tcga\"]\n",
    "        except:\n",
    "            pass"
   ]
  },
  {
   "cell_type": "markdown",
   "metadata": {
    "collapsed": true
   },
   "source": []
  }
 ],
 "metadata": {
  "kernelspec": {
   "display_name": "Python 2",
   "language": "python",
   "name": "python2"
  },
  "language_info": {
   "codemirror_mode": {
    "name": "ipython",
    "version": 2
   },
   "file_extension": ".py",
   "mimetype": "text/x-python",
   "name": "python",
   "nbconvert_exporter": "python",
   "pygments_lexer": "ipython2",
   "version": "2.7.13"
  }
 },
 "nbformat": 4,
 "nbformat_minor": 0
}
