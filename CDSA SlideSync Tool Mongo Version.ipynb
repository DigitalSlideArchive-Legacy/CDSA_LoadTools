{
 "cells": [
  {
   "cell_type": "code",
   "execution_count": 1,
   "metadata": {
    "collapsed": false
   },
   "outputs": [],
   "source": [
    "import pymongo\n",
    "import os,csv,sys\n",
    "import openslide\n",
    "\n",
    "client = pymongo.MongoClient('localhost',27017)\n",
    "tcga_mirror_root = '/TCGA_MIRROR/tcga-data.nci.nih.gov/tcgafiles/ftp_auth/distro_ftpusers/anonymous/tumor/'\n",
    "tcga_slide_db = client['TCGA_Slide_DB']\n",
    "load_errors_db = client['CDSA_LoadErrors']\n"
   ]
  },
  {
   "cell_type": "code",
   "execution_count": 5,
   "metadata": {
    "collapsed": false
   },
   "outputs": [
    {
     "name": "stdout",
     "output_type": "stream",
     "text": [
      "35 svs collection sets are available\n",
      "['coad', 'uvm', 'sarc', 'acc', 'prad', 'laml', 'paad', 'dlbc', 'lusc', 'thca', 'lgg', 'pcpg', 'luad', 'ucec', 'meso', 'brca', 'blca', 'kirp', 'thym', 'ucs', 'read', 'kirc', 'gbm', 'kich', 'stad', 'chol', 'lcml', 'hnsc', 'ov', 'tgct', 'skcm', 'esca', 'cesc', 'lihc', 'cntl']\n"
     ]
    }
   ],
   "source": [
    "svs_collections = [x for x in os.listdir(tcga_mirror_root) if os.path.isdir(os.path.join(tcga_mirror_root,x)) ]\n",
    "print len(svs_collections),'svs collection sets are available'\n",
    "print svs_collections"
   ]
  },
  {
   "cell_type": "code",
   "execution_count": 3,
   "metadata": {
    "collapsed": false
   },
   "outputs": [
    {
     "data": {
      "text/plain": [
       "<module 'cdsa_loader_helper_functions' from 'cdsa_loader_helper_functions.pyc'>"
      ]
     },
     "execution_count": 3,
     "metadata": {},
     "output_type": "execute_result"
    }
   ],
   "source": [
    "import dsa_mongo_common_functions as dsa\n",
    "import cdsa_loader_helper_functions as cdsa_helpers\n",
    "reload(dsa)\n",
    "reload(cdsa_helpers)"
   ]
  },
  {
   "cell_type": "code",
   "execution_count": 4,
   "metadata": {
    "collapsed": false
   },
   "outputs": [
    {
     "name": "stdout",
     "output_type": "stream",
     "text": [
      "/TCGA_MIRROR/tcga-data.nci.nih.gov/tcgafiles/ftp_auth/distro_ftpusers/anonymous/tumor/\n",
      "\u001b[KTotal Processed: 1267  Newly Processed: 0 Dup Slides or Already Loaded: 1267  RESCANNED Slides 0Openslide returned an error om tje StandardError block /TCGA_MIRROR/tcga-data.nci.nih.gov/tcgafiles/ftp_auth/distro_ftpusers/anonymous/tumor/coad/bcr/nationwidechildrens.org/diagnostic_images/slide_images/nationwidechildrens.org_COAD.diagnostic_images.Level_1.138.10.0/TCGA-AA-3489-01Z-00-DX1.AE299B70-B14C-4FFE-B1F9-38B2EB267FA9.svs\n",
      "SHIT IT DIED!\n",
      "insert into `corrupt_or_unreadable_svs_files` (full_file_name,filesize) Values ('/TCGA_MIRROR/tcga-data.nci.nih.gov/tcgafiles/ftp_auth/distro_ftpusers/anonymous/tumor/coad/bcr/nationwidechildrens.org/diagnostic_images/slide_images/nationwidechildrens.org_COAD.diagnostic_images.Level_1.138.10.0/TCGA-AA-3489-01Z-00-DX1.AE299B70-B14C-4FFE-B1F9-38B2EB267FA9.svs',7610002) \n",
      "UNABLE TO OPEN FILE?? /TCGA_MIRROR/tcga-data.nci.nih.gov/tcgafiles/ftp_auth/distro_ftpusers/anonymous/tumor/coad/bcr/nationwidechildrens.org/diagnostic_images/slide_images/nationwidechildrens.org_COAD.diagnostic_images.Level_1.138.10.0/TCGA-AA-3489-01Z-00-DX1.AE299B70-B14C-4FFE-B1F9-38B2EB267FA9.svs\n",
      "\u001b[KTotal Processed: 1288  Newly Processed: 0 Dup Slides or Already Loaded: 1287  RESCANNED Slides 0"
     ]
    },
    {
     "name": "stderr",
     "output_type": "stream",
     "text": [
      "Verify failed with: ()\n",
      "Verify failed with:"
     ]
    },
    {
     "name": "stdout",
     "output_type": "stream",
     "text": [
      "Openslide returned an error om tje StandardError block /TCGA_MIRROR/tcga-data.nci.nih.gov/tcgafiles/ftp_auth/distro_ftpusers/anonymous/tumor/coad/bcr/nationwidechildrens.org/diagnostic_images/slide_images/nationwidechildrens.org_COAD.diagnostic_images.Level_1.138.10.0/TCGA-AA-3511-01Z-00-DX1.F66F89C7-147D-4EE9-A482-61C3033EF443.svs\n",
      "SHIT IT DIED!\n",
      "insert into `corrupt_or_unreadable_svs_files` (full_file_name,filesize) Values ('/TCGA_MIRROR/tcga-data.nci.nih.gov/tcgafiles/ftp_auth/distro_ftpusers/anonymous/tumor/coad/bcr/nationwidechildrens.org/diagnostic_images/slide_images/nationwidechildrens.org_COAD.diagnostic_images.Level_1.138.10.0/TCGA-AA-3511-01Z-00-DX1.F66F89C7-147D-4EE9-A482-61C3033EF443.svs',10442472) \n",
      "UNABLE TO OPEN FILE?? /TCGA_MIRROR/tcga-data.nci.nih.gov/tcgafiles/ftp_auth/distro_ftpusers/anonymous/tumor/coad/bcr/nationwidechildrens.org/diagnostic_images/slide_images/nationwidechildrens.org_COAD.diagnostic_images.Level_1.138.10.0/TCGA-AA-3511-01Z-00-DX1.F66F89C7-147D-4EE9-A482-61C3033EF443.svs\n",
      "\u001b[KTotal Processed: 1299  Newly Processed: 0 Dup Slides or Already Loaded: 1297  RESCANNED Slides 0"
     ]
    },
    {
     "name": "stderr",
     "output_type": "stream",
     "text": [
      " ()\n",
      "Verify failed with:"
     ]
    },
    {
     "name": "stdout",
     "output_type": "stream",
     "text": [
      "Openslide returned an error om tje StandardError block /TCGA_MIRROR/tcga-data.nci.nih.gov/tcgafiles/ftp_auth/distro_ftpusers/anonymous/tumor/coad/bcr/nationwidechildrens.org/diagnostic_images/slide_images/nationwidechildrens.org_COAD.diagnostic_images.Level_1.138.10.0/TCGA-AA-3496-01Z-00-DX1.B109A6F3-02E0-4181-B69A-00CBA758C074.svs\n",
      "SHIT IT DIED!\n",
      "insert into `corrupt_or_unreadable_svs_files` (full_file_name,filesize) Values ('/TCGA_MIRROR/tcga-data.nci.nih.gov/tcgafiles/ftp_auth/distro_ftpusers/anonymous/tumor/coad/bcr/nationwidechildrens.org/diagnostic_images/slide_images/nationwidechildrens.org_COAD.diagnostic_images.Level_1.138.10.0/TCGA-AA-3496-01Z-00-DX1.B109A6F3-02E0-4181-B69A-00CBA758C074.svs',8600540) \n",
      "UNABLE TO OPEN FILE?? /TCGA_MIRROR/tcga-data.nci.nih.gov/tcgafiles/ftp_auth/distro_ftpusers/anonymous/tumor/coad/bcr/nationwidechildrens.org/diagnostic_images/slide_images/nationwidechildrens.org_COAD.diagnostic_images.Level_1.138.10.0/TCGA-AA-3496-01Z-00-DX1.B109A6F3-02E0-4181-B69A-00CBA758C074.svs\n",
      "\u001b[KTotal Processed: 1343  Newly Processed: 0 Dup Slides or Already Loaded: 1340  RESCANNED Slides 0"
     ]
    },
    {
     "name": "stderr",
     "output_type": "stream",
     "text": [
      " ()\n",
      "Verify failed with:"
     ]
    },
    {
     "name": "stdout",
     "output_type": "stream",
     "text": [
      "Openslide returned an error om tje StandardError block /TCGA_MIRROR/tcga-data.nci.nih.gov/tcgafiles/ftp_auth/distro_ftpusers/anonymous/tumor/coad/bcr/nationwidechildrens.org/diagnostic_images/slide_images/nationwidechildrens.org_COAD.diagnostic_images.Level_1.138.9.0/TCGA-AA-3489-01Z-00-DX1.AE299B70-B14C-4FFE-B1F9-38B2EB267FA9.svs\n",
      "SHIT IT DIED!\n",
      "insert into `corrupt_or_unreadable_svs_files` (full_file_name,filesize) Values ('/TCGA_MIRROR/tcga-data.nci.nih.gov/tcgafiles/ftp_auth/distro_ftpusers/anonymous/tumor/coad/bcr/nationwidechildrens.org/diagnostic_images/slide_images/nationwidechildrens.org_COAD.diagnostic_images.Level_1.138.9.0/TCGA-AA-3489-01Z-00-DX1.AE299B70-B14C-4FFE-B1F9-38B2EB267FA9.svs',7610002) \n",
      "UNABLE TO OPEN FILE?? /TCGA_MIRROR/tcga-data.nci.nih.gov/tcgafiles/ftp_auth/distro_ftpusers/anonymous/tumor/coad/bcr/nationwidechildrens.org/diagnostic_images/slide_images/nationwidechildrens.org_COAD.diagnostic_images.Level_1.138.9.0/TCGA-AA-3489-01Z-00-DX1.AE299B70-B14C-4FFE-B1F9-38B2EB267FA9.svs\n",
      "\u001b[KTotal Processed: 1364  Newly Processed: 0 Dup Slides or Already Loaded: 1360  RESCANNED Slides 0"
     ]
    },
    {
     "name": "stderr",
     "output_type": "stream",
     "text": [
      " ()\n",
      "Verify failed with:"
     ]
    },
    {
     "name": "stdout",
     "output_type": "stream",
     "text": [
      "Openslide returned an error om tje StandardError block /TCGA_MIRROR/tcga-data.nci.nih.gov/tcgafiles/ftp_auth/distro_ftpusers/anonymous/tumor/coad/bcr/nationwidechildrens.org/diagnostic_images/slide_images/nationwidechildrens.org_COAD.diagnostic_images.Level_1.138.9.0/TCGA-AA-3511-01Z-00-DX1.F66F89C7-147D-4EE9-A482-61C3033EF443.svs\n",
      "SHIT IT DIED!\n",
      "insert into `corrupt_or_unreadable_svs_files` (full_file_name,filesize) Values ('/TCGA_MIRROR/tcga-data.nci.nih.gov/tcgafiles/ftp_auth/distro_ftpusers/anonymous/tumor/coad/bcr/nationwidechildrens.org/diagnostic_images/slide_images/nationwidechildrens.org_COAD.diagnostic_images.Level_1.138.9.0/TCGA-AA-3511-01Z-00-DX1.F66F89C7-147D-4EE9-A482-61C3033EF443.svs',10442472) \n",
      "UNABLE TO OPEN FILE?? /TCGA_MIRROR/tcga-data.nci.nih.gov/tcgafiles/ftp_auth/distro_ftpusers/anonymous/tumor/coad/bcr/nationwidechildrens.org/diagnostic_images/slide_images/nationwidechildrens.org_COAD.diagnostic_images.Level_1.138.9.0/TCGA-AA-3511-01Z-00-DX1.F66F89C7-147D-4EE9-A482-61C3033EF443.svs\n",
      "\u001b[KTotal Processed: 1375  Newly Processed: 0 Dup Slides or Already Loaded: 1370  RESCANNED Slides 0"
     ]
    },
    {
     "name": "stderr",
     "output_type": "stream",
     "text": [
      " ()\n",
      "Verify failed with:"
     ]
    },
    {
     "name": "stdout",
     "output_type": "stream",
     "text": [
      "Openslide returned an error om tje StandardError block /TCGA_MIRROR/tcga-data.nci.nih.gov/tcgafiles/ftp_auth/distro_ftpusers/anonymous/tumor/coad/bcr/nationwidechildrens.org/diagnostic_images/slide_images/nationwidechildrens.org_COAD.diagnostic_images.Level_1.138.9.0/TCGA-AA-3496-01Z-00-DX1.B109A6F3-02E0-4181-B69A-00CBA758C074.svs\n",
      "SHIT IT DIED!\n",
      "insert into `corrupt_or_unreadable_svs_files` (full_file_name,filesize) Values ('/TCGA_MIRROR/tcga-data.nci.nih.gov/tcgafiles/ftp_auth/distro_ftpusers/anonymous/tumor/coad/bcr/nationwidechildrens.org/diagnostic_images/slide_images/nationwidechildrens.org_COAD.diagnostic_images.Level_1.138.9.0/TCGA-AA-3496-01Z-00-DX1.B109A6F3-02E0-4181-B69A-00CBA758C074.svs',8600540) \n",
      "UNABLE TO OPEN FILE?? /TCGA_MIRROR/tcga-data.nci.nih.gov/tcgafiles/ftp_auth/distro_ftpusers/anonymous/tumor/coad/bcr/nationwidechildrens.org/diagnostic_images/slide_images/nationwidechildrens.org_COAD.diagnostic_images.Level_1.138.9.0/TCGA-AA-3496-01Z-00-DX1.B109A6F3-02E0-4181-B69A-00CBA758C074.svs\n",
      "\u001b[KTotal Processed: 1464  Newly Processed: 0 Dup Slides or Already Loaded: 1456  RESCANNED Slides 2"
     ]
    },
    {
     "name": "stderr",
     "output_type": "stream",
     "text": [
      " ()\n",
      "Verify failed with:"
     ]
    },
    {
     "name": "stdout",
     "output_type": "stream",
     "text": [
      "Openslide returned an error om tje StandardError block /TCGA_MIRROR/tcga-data.nci.nih.gov/tcgafiles/ftp_auth/distro_ftpusers/anonymous/tumor/coad/bcr/nationwidechildrens.org/diagnostic_images/slide_images/nationwidechildrens.org_COAD.diagnostic_images.Level_1.138.8.0/TCGA-AA-3489-01Z-00-DX1.AE299B70-B14C-4FFE-B1F9-38B2EB267FA9.svs\n",
      "SHIT IT DIED!\n",
      "insert into `corrupt_or_unreadable_svs_files` (full_file_name,filesize) Values ('/TCGA_MIRROR/tcga-data.nci.nih.gov/tcgafiles/ftp_auth/distro_ftpusers/anonymous/tumor/coad/bcr/nationwidechildrens.org/diagnostic_images/slide_images/nationwidechildrens.org_COAD.diagnostic_images.Level_1.138.8.0/TCGA-AA-3489-01Z-00-DX1.AE299B70-B14C-4FFE-B1F9-38B2EB267FA9.svs',7610002) \n",
      "UNABLE TO OPEN FILE?? /TCGA_MIRROR/tcga-data.nci.nih.gov/tcgafiles/ftp_auth/distro_ftpusers/anonymous/tumor/coad/bcr/nationwidechildrens.org/diagnostic_images/slide_images/nationwidechildrens.org_COAD.diagnostic_images.Level_1.138.8.0/TCGA-AA-3489-01Z-00-DX1.AE299B70-B14C-4FFE-B1F9-38B2EB267FA9.svs\n",
      "\u001b[KTotal Processed: 1484  Newly Processed: 0 Dup Slides or Already Loaded: 1475  RESCANNED Slides 2"
     ]
    },
    {
     "name": "stderr",
     "output_type": "stream",
     "text": [
      " ()\n",
      "Verify failed with:"
     ]
    },
    {
     "name": "stdout",
     "output_type": "stream",
     "text": [
      "Openslide returned an error om tje StandardError block /TCGA_MIRROR/tcga-data.nci.nih.gov/tcgafiles/ftp_auth/distro_ftpusers/anonymous/tumor/coad/bcr/nationwidechildrens.org/diagnostic_images/slide_images/nationwidechildrens.org_COAD.diagnostic_images.Level_1.138.8.0/TCGA-AA-3511-01Z-00-DX1.F66F89C7-147D-4EE9-A482-61C3033EF443.svs\n",
      "SHIT IT DIED!\n",
      "insert into `corrupt_or_unreadable_svs_files` (full_file_name,filesize) Values ('/TCGA_MIRROR/tcga-data.nci.nih.gov/tcgafiles/ftp_auth/distro_ftpusers/anonymous/tumor/coad/bcr/nationwidechildrens.org/diagnostic_images/slide_images/nationwidechildrens.org_COAD.diagnostic_images.Level_1.138.8.0/TCGA-AA-3511-01Z-00-DX1.F66F89C7-147D-4EE9-A482-61C3033EF443.svs',10442472) \n",
      "UNABLE TO OPEN FILE?? /TCGA_MIRROR/tcga-data.nci.nih.gov/tcgafiles/ftp_auth/distro_ftpusers/anonymous/tumor/coad/bcr/nationwidechildrens.org/diagnostic_images/slide_images/nationwidechildrens.org_COAD.diagnostic_images.Level_1.138.8.0/TCGA-AA-3511-01Z-00-DX1.F66F89C7-147D-4EE9-A482-61C3033EF443.svs\n",
      "\u001b[KTotal Processed: 1495  Newly Processed: 0 Dup Slides or Already Loaded: 1485  RESCANNED Slides 2"
     ]
    },
    {
     "name": "stderr",
     "output_type": "stream",
     "text": [
      " ()\n",
      "Verify failed with:"
     ]
    },
    {
     "name": "stdout",
     "output_type": "stream",
     "text": [
      "Openslide returned an error om tje StandardError block /TCGA_MIRROR/tcga-data.nci.nih.gov/tcgafiles/ftp_auth/distro_ftpusers/anonymous/tumor/coad/bcr/nationwidechildrens.org/diagnostic_images/slide_images/nationwidechildrens.org_COAD.diagnostic_images.Level_1.138.8.0/TCGA-AA-3496-01Z-00-DX1.B109A6F3-02E0-4181-B69A-00CBA758C074.svs\n",
      "SHIT IT DIED!\n",
      "insert into `corrupt_or_unreadable_svs_files` (full_file_name,filesize) Values ('/TCGA_MIRROR/tcga-data.nci.nih.gov/tcgafiles/ftp_auth/distro_ftpusers/anonymous/tumor/coad/bcr/nationwidechildrens.org/diagnostic_images/slide_images/nationwidechildrens.org_COAD.diagnostic_images.Level_1.138.8.0/TCGA-AA-3496-01Z-00-DX1.B109A6F3-02E0-4181-B69A-00CBA758C074.svs',8600540) \n",
      "UNABLE TO OPEN FILE?? /TCGA_MIRROR/tcga-data.nci.nih.gov/tcgafiles/ftp_auth/distro_ftpusers/anonymous/tumor/coad/bcr/nationwidechildrens.org/diagnostic_images/slide_images/nationwidechildrens.org_COAD.diagnostic_images.Level_1.138.8.0/TCGA-AA-3496-01Z-00-DX1.B109A6F3-02E0-4181-B69A-00CBA758C074.svs\n",
      "\u001b[KTotal Processed: 1779  Newly Processed: 0 Dup Slides or Already Loaded: 1766  RESCANNED Slides 4"
     ]
    },
    {
     "name": "stderr",
     "output_type": "stream",
     "text": [
      " ()\n",
      "Verify failed with:"
     ]
    },
    {
     "name": "stdout",
     "output_type": "stream",
     "text": [
      "Openslide returned an error om tje StandardError block /TCGA_MIRROR/tcga-data.nci.nih.gov/tcgafiles/ftp_auth/distro_ftpusers/anonymous/tumor/coad/bcr/nationwidechildrens.org/diagnostic_images/slide_images/nationwidechildrens.org_COAD.diagnostic_images.Level_1.76.3.0/TCGA-AA-3506-01Z-00-DX1.08CFD143-1A4C-4262-831E-79D9C4BBF453.svs\n",
      "SHIT IT DIED!\n",
      "insert into `corrupt_or_unreadable_svs_files` (full_file_name,filesize) Values ('/TCGA_MIRROR/tcga-data.nci.nih.gov/tcgafiles/ftp_auth/distro_ftpusers/anonymous/tumor/coad/bcr/nationwidechildrens.org/diagnostic_images/slide_images/nationwidechildrens.org_COAD.diagnostic_images.Level_1.76.3.0/TCGA-AA-3506-01Z-00-DX1.08CFD143-1A4C-4262-831E-79D9C4BBF453.svs',10839534) \n",
      "UNABLE TO OPEN FILE?? /TCGA_MIRROR/tcga-data.nci.nih.gov/tcgafiles/ftp_auth/distro_ftpusers/anonymous/tumor/coad/bcr/nationwidechildrens.org/diagnostic_images/slide_images/nationwidechildrens.org_COAD.diagnostic_images.Level_1.76.3.0/TCGA-AA-3506-01Z-00-DX1.08CFD143-1A4C-4262-831E-79D9C4BBF453.svs\n",
      "\u001b[KTotal Processed: 1783  Newly Processed: 0 Dup Slides or Already Loaded: 1769  RESCANNED Slides 4"
     ]
    },
    {
     "name": "stderr",
     "output_type": "stream",
     "text": [
      " ()\n",
      "Verify failed with:"
     ]
    },
    {
     "name": "stdout",
     "output_type": "stream",
     "text": [
      "Openslide returned an error om tje StandardError block /TCGA_MIRROR/tcga-data.nci.nih.gov/tcgafiles/ftp_auth/distro_ftpusers/anonymous/tumor/coad/bcr/nationwidechildrens.org/diagnostic_images/slide_images/nationwidechildrens.org_COAD.diagnostic_images.Level_1.76.3.0/TCGA-AA-3488-01Z-00-DX1.EDF60198-F7AB-45BB-9A1B-C2E2FA141989.svs\n",
      "SHIT IT DIED!\n",
      "insert into `corrupt_or_unreadable_svs_files` (full_file_name,filesize) Values ('/TCGA_MIRROR/tcga-data.nci.nih.gov/tcgafiles/ftp_auth/distro_ftpusers/anonymous/tumor/coad/bcr/nationwidechildrens.org/diagnostic_images/slide_images/nationwidechildrens.org_COAD.diagnostic_images.Level_1.76.3.0/TCGA-AA-3488-01Z-00-DX1.EDF60198-F7AB-45BB-9A1B-C2E2FA141989.svs',8169406) \n",
      "UNABLE TO OPEN FILE?? /TCGA_MIRROR/tcga-data.nci.nih.gov/tcgafiles/ftp_auth/distro_ftpusers/anonymous/tumor/coad/bcr/nationwidechildrens.org/diagnostic_images/slide_images/nationwidechildrens.org_COAD.diagnostic_images.Level_1.76.3.0/TCGA-AA-3488-01Z-00-DX1.EDF60198-F7AB-45BB-9A1B-C2E2FA141989.svs\n",
      "\u001b[KTotal Processed: 1792  Newly Processed: 0 Dup Slides or Already Loaded: 1777  RESCANNED Slides 4"
     ]
    },
    {
     "name": "stderr",
     "output_type": "stream",
     "text": [
      " ()\n",
      "Verify failed with:"
     ]
    },
    {
     "name": "stdout",
     "output_type": "stream",
     "text": [
      "Openslide returned an error om tje StandardError block /TCGA_MIRROR/tcga-data.nci.nih.gov/tcgafiles/ftp_auth/distro_ftpusers/anonymous/tumor/coad/bcr/nationwidechildrens.org/diagnostic_images/slide_images/nationwidechildrens.org_COAD.diagnostic_images.Level_1.76.3.0/TCGA-AA-3510-01Z-00-DX1.B4FCE76A-3B60-4D7D-9F3E-973AE17EA8E2.svs\n",
      "SHIT IT DIED!\n",
      "insert into `corrupt_or_unreadable_svs_files` (full_file_name,filesize) Values ('/TCGA_MIRROR/tcga-data.nci.nih.gov/tcgafiles/ftp_auth/distro_ftpusers/anonymous/tumor/coad/bcr/nationwidechildrens.org/diagnostic_images/slide_images/nationwidechildrens.org_COAD.diagnostic_images.Level_1.76.3.0/TCGA-AA-3510-01Z-00-DX1.B4FCE76A-3B60-4D7D-9F3E-973AE17EA8E2.svs',9950312) \n",
      "UNABLE TO OPEN FILE?? /TCGA_MIRROR/tcga-data.nci.nih.gov/tcgafiles/ftp_auth/distro_ftpusers/anonymous/tumor/coad/bcr/nationwidechildrens.org/diagnostic_images/slide_images/nationwidechildrens.org_COAD.diagnostic_images.Level_1.76.3.0/TCGA-AA-3510-01Z-00-DX1.B4FCE76A-3B60-4D7D-9F3E-973AE17EA8E2.svs\n",
      "\u001b[KTotal Processed: 1796  Newly Processed: 0 Dup Slides or Already Loaded: 1780  RESCANNED Slides 4"
     ]
    },
    {
     "name": "stderr",
     "output_type": "stream",
     "text": [
      " ()\n",
      "Verify failed with:"
     ]
    },
    {
     "name": "stdout",
     "output_type": "stream",
     "text": [
      "Openslide returned an error om tje StandardError block /TCGA_MIRROR/tcga-data.nci.nih.gov/tcgafiles/ftp_auth/distro_ftpusers/anonymous/tumor/coad/bcr/nationwidechildrens.org/diagnostic_images/slide_images/nationwidechildrens.org_COAD.diagnostic_images.Level_1.76.3.0/TCGA-AA-3495-01Z-00-DX1.67DEE36B-724E-4B4F-B3A9-B4E8CCCEFA80.svs\n",
      "SHIT IT DIED!\n",
      "insert into `corrupt_or_unreadable_svs_files` (full_file_name,filesize) Values ('/TCGA_MIRROR/tcga-data.nci.nih.gov/tcgafiles/ftp_auth/distro_ftpusers/anonymous/tumor/coad/bcr/nationwidechildrens.org/diagnostic_images/slide_images/nationwidechildrens.org_COAD.diagnostic_images.Level_1.76.3.0/TCGA-AA-3495-01Z-00-DX1.67DEE36B-724E-4B4F-B3A9-B4E8CCCEFA80.svs',10496896) \n",
      "UNABLE TO OPEN FILE?? /TCGA_MIRROR/tcga-data.nci.nih.gov/tcgafiles/ftp_auth/distro_ftpusers/anonymous/tumor/coad/bcr/nationwidechildrens.org/diagnostic_images/slide_images/nationwidechildrens.org_COAD.diagnostic_images.Level_1.76.3.0/TCGA-AA-3495-01Z-00-DX1.67DEE36B-724E-4B4F-B3A9-B4E8CCCEFA80.svs\n",
      "\r",
      "\u001b[KTotal Processed: 1797  Newly Processed: 0 Dup Slides or Already Loaded: 1780  RESCANNED Slides 4"
     ]
    },
    {
     "name": "stderr",
     "output_type": "stream",
     "text": [
      " ()\n",
      "Verify failed with:"
     ]
    },
    {
     "name": "stdout",
     "output_type": "stream",
     "text": [
      "Openslide returned an error om tje StandardError block /TCGA_MIRROR/tcga-data.nci.nih.gov/tcgafiles/ftp_auth/distro_ftpusers/anonymous/tumor/coad/bcr/nationwidechildrens.org/diagnostic_images/slide_images/nationwidechildrens.org_COAD.diagnostic_images.Level_1.76.3.0/TCGA-AA-3492-01Z-00-DX1.32D79909-71D5-4843-847E-AECA5DBC963D.svs\n",
      "SHIT IT DIED!\n",
      "insert into `corrupt_or_unreadable_svs_files` (full_file_name,filesize) Values ('/TCGA_MIRROR/tcga-data.nci.nih.gov/tcgafiles/ftp_auth/distro_ftpusers/anonymous/tumor/coad/bcr/nationwidechildrens.org/diagnostic_images/slide_images/nationwidechildrens.org_COAD.diagnostic_images.Level_1.76.3.0/TCGA-AA-3492-01Z-00-DX1.32D79909-71D5-4843-847E-AECA5DBC963D.svs',9013124) \n",
      "UNABLE TO OPEN FILE?? /TCGA_MIRROR/tcga-data.nci.nih.gov/tcgafiles/ftp_auth/distro_ftpusers/anonymous/tumor/coad/bcr/nationwidechildrens.org/diagnostic_images/slide_images/nationwidechildrens.org_COAD.diagnostic_images.Level_1.76.3.0/TCGA-AA-3492-01Z-00-DX1.32D79909-71D5-4843-847E-AECA5DBC963D.svs\n",
      "\u001b[KTotal Processed: 1802  Newly Processed: 0 Dup Slides or Already Loaded: 1784  RESCANNED Slides 4"
     ]
    },
    {
     "name": "stderr",
     "output_type": "stream",
     "text": [
      " ()\n",
      "Verify failed with:"
     ]
    },
    {
     "name": "stdout",
     "output_type": "stream",
     "text": [
      "Openslide returned an error om tje StandardError block /TCGA_MIRROR/tcga-data.nci.nih.gov/tcgafiles/ftp_auth/distro_ftpusers/anonymous/tumor/coad/bcr/nationwidechildrens.org/diagnostic_images/slide_images/nationwidechildrens.org_COAD.diagnostic_images.Level_1.76.3.0/TCGA-AA-3509-01Z-00-DX1.EAE46823-3132-486F-8C2A-C0F548A08335.svs\n",
      "SHIT IT DIED!\n",
      "insert into `corrupt_or_unreadable_svs_files` (full_file_name,filesize) Values ('/TCGA_MIRROR/tcga-data.nci.nih.gov/tcgafiles/ftp_auth/distro_ftpusers/anonymous/tumor/coad/bcr/nationwidechildrens.org/diagnostic_images/slide_images/nationwidechildrens.org_COAD.diagnostic_images.Level_1.76.3.0/TCGA-AA-3509-01Z-00-DX1.EAE46823-3132-486F-8C2A-C0F548A08335.svs',11994936) \n",
      "UNABLE TO OPEN FILE?? /TCGA_MIRROR/tcga-data.nci.nih.gov/tcgafiles/ftp_auth/distro_ftpusers/anonymous/tumor/coad/bcr/nationwidechildrens.org/diagnostic_images/slide_images/nationwidechildrens.org_COAD.diagnostic_images.Level_1.76.3.0/TCGA-AA-3509-01Z-00-DX1.EAE46823-3132-486F-8C2A-C0F548A08335.svs\n",
      "\u001b[KTotal Processed: 1808  Newly Processed: 0 Dup Slides or Already Loaded: 1789  RESCANNED Slides 4"
     ]
    },
    {
     "name": "stderr",
     "output_type": "stream",
     "text": [
      " ()\n",
      "Verify failed with:"
     ]
    },
    {
     "name": "stdout",
     "output_type": "stream",
     "text": [
      "Openslide returned an error om tje StandardError block /TCGA_MIRROR/tcga-data.nci.nih.gov/tcgafiles/ftp_auth/distro_ftpusers/anonymous/tumor/coad/bcr/nationwidechildrens.org/diagnostic_images/slide_images/nationwidechildrens.org_COAD.diagnostic_images.Level_1.76.3.0/TCGA-AA-3494-01Z-00-DX1.E275AF20-3AA7-4191-BD1F-FFE744CA6A2F.svs\n",
      "SHIT IT DIED!\n",
      "insert into `corrupt_or_unreadable_svs_files` (full_file_name,filesize) Values ('/TCGA_MIRROR/tcga-data.nci.nih.gov/tcgafiles/ftp_auth/distro_ftpusers/anonymous/tumor/coad/bcr/nationwidechildrens.org/diagnostic_images/slide_images/nationwidechildrens.org_COAD.diagnostic_images.Level_1.76.3.0/TCGA-AA-3494-01Z-00-DX1.E275AF20-3AA7-4191-BD1F-FFE744CA6A2F.svs',9102328) \n",
      "UNABLE TO OPEN FILE?? /TCGA_MIRROR/tcga-data.nci.nih.gov/tcgafiles/ftp_auth/distro_ftpusers/anonymous/tumor/coad/bcr/nationwidechildrens.org/diagnostic_images/slide_images/nationwidechildrens.org_COAD.diagnostic_images.Level_1.76.3.0/TCGA-AA-3494-01Z-00-DX1.E275AF20-3AA7-4191-BD1F-FFE744CA6A2F.svs\n",
      "\u001b[KTotal Processed: 1913  Newly Processed: 0 Dup Slides or Already Loaded: 1891  RESCANNED Slides 6"
     ]
    },
    {
     "name": "stderr",
     "output_type": "stream",
     "text": [
      " ()\n",
      "Verify failed with:"
     ]
    },
    {
     "name": "stdout",
     "output_type": "stream",
     "text": [
      "Openslide returned an error om tje StandardError block /TCGA_MIRROR/tcga-data.nci.nih.gov/tcgafiles/ftp_auth/distro_ftpusers/anonymous/tumor/coad/bcr/nationwidechildrens.org/diagnostic_images/slide_images/nationwidechildrens.org_COAD.diagnostic_images.Level_1.116.8.0/TCGA-AA-3655-01Z-00-DX1.D78D8DBE-E74F-491D-AC9C-10E4C4E7BB02.svs\n",
      "SHIT IT DIED!\n",
      "insert into `corrupt_or_unreadable_svs_files` (full_file_name,filesize) Values ('/TCGA_MIRROR/tcga-data.nci.nih.gov/tcgafiles/ftp_auth/distro_ftpusers/anonymous/tumor/coad/bcr/nationwidechildrens.org/diagnostic_images/slide_images/nationwidechildrens.org_COAD.diagnostic_images.Level_1.116.8.0/TCGA-AA-3655-01Z-00-DX1.D78D8DBE-E74F-491D-AC9C-10E4C4E7BB02.svs',13432152) \n",
      "UNABLE TO OPEN FILE?? /TCGA_MIRROR/tcga-data.nci.nih.gov/tcgafiles/ftp_auth/distro_ftpusers/anonymous/tumor/coad/bcr/nationwidechildrens.org/diagnostic_images/slide_images/nationwidechildrens.org_COAD.diagnostic_images.Level_1.116.8.0/TCGA-AA-3655-01Z-00-DX1.D78D8DBE-E74F-491D-AC9C-10E4C4E7BB02.svs\n",
      "\u001b[KTotal Processed: 1916  Newly Processed: 0 Dup Slides or Already Loaded: 1893  RESCANNED Slides 6"
     ]
    },
    {
     "name": "stderr",
     "output_type": "stream",
     "text": [
      " ()\n",
      "Verify failed with:"
     ]
    },
    {
     "name": "stdout",
     "output_type": "stream",
     "text": [
      "Openslide returned an error om tje StandardError block /TCGA_MIRROR/tcga-data.nci.nih.gov/tcgafiles/ftp_auth/distro_ftpusers/anonymous/tumor/coad/bcr/nationwidechildrens.org/diagnostic_images/slide_images/nationwidechildrens.org_COAD.diagnostic_images.Level_1.116.8.0/TCGA-AA-3712-01Z-00-DX1.00E0ACE2-8CC5-4063-9C65-3CDD7F21B189.svs\n",
      "SHIT IT DIED!\n",
      "insert into `corrupt_or_unreadable_svs_files` (full_file_name,filesize) Values ('/TCGA_MIRROR/tcga-data.nci.nih.gov/tcgafiles/ftp_auth/distro_ftpusers/anonymous/tumor/coad/bcr/nationwidechildrens.org/diagnostic_images/slide_images/nationwidechildrens.org_COAD.diagnostic_images.Level_1.116.8.0/TCGA-AA-3712-01Z-00-DX1.00E0ACE2-8CC5-4063-9C65-3CDD7F21B189.svs',8597952) \n",
      "UNABLE TO OPEN FILE?? /TCGA_MIRROR/tcga-data.nci.nih.gov/tcgafiles/ftp_auth/distro_ftpusers/anonymous/tumor/coad/bcr/nationwidechildrens.org/diagnostic_images/slide_images/nationwidechildrens.org_COAD.diagnostic_images.Level_1.116.8.0/TCGA-AA-3712-01Z-00-DX1.00E0ACE2-8CC5-4063-9C65-3CDD7F21B189.svs\n",
      "\u001b[KTotal Processed: 1922  Newly Processed: 0 Dup Slides or Already Loaded: 1898  RESCANNED Slides 6"
     ]
    },
    {
     "name": "stderr",
     "output_type": "stream",
     "text": [
      " ()\n",
      "Verify failed with:"
     ]
    },
    {
     "name": "stdout",
     "output_type": "stream",
     "text": [
      "Openslide returned an error om tje StandardError block /TCGA_MIRROR/tcga-data.nci.nih.gov/tcgafiles/ftp_auth/distro_ftpusers/anonymous/tumor/coad/bcr/nationwidechildrens.org/diagnostic_images/slide_images/nationwidechildrens.org_COAD.diagnostic_images.Level_1.116.8.0/TCGA-AA-3713-01Z-00-DX1.8148ACEB-7C1E-4D29-B908-F3729657EA4F.svs\n",
      "SHIT IT DIED!\n",
      "insert into `corrupt_or_unreadable_svs_files` (full_file_name,filesize) Values ('/TCGA_MIRROR/tcga-data.nci.nih.gov/tcgafiles/ftp_auth/distro_ftpusers/anonymous/tumor/coad/bcr/nationwidechildrens.org/diagnostic_images/slide_images/nationwidechildrens.org_COAD.diagnostic_images.Level_1.116.8.0/TCGA-AA-3713-01Z-00-DX1.8148ACEB-7C1E-4D29-B908-F3729657EA4F.svs',8573530) \n",
      "UNABLE TO OPEN FILE?? /TCGA_MIRROR/tcga-data.nci.nih.gov/tcgafiles/ftp_auth/distro_ftpusers/anonymous/tumor/coad/bcr/nationwidechildrens.org/diagnostic_images/slide_images/nationwidechildrens.org_COAD.diagnostic_images.Level_1.116.8.0/TCGA-AA-3713-01Z-00-DX1.8148ACEB-7C1E-4D29-B908-F3729657EA4F.svs\n",
      "\u001b[KTotal Processed: 1939  Newly Processed: 0 Dup Slides or Already Loaded: 1914  RESCANNED Slides 6"
     ]
    },
    {
     "name": "stderr",
     "output_type": "stream",
     "text": [
      " ()\n",
      "Verify failed with:"
     ]
    },
    {
     "name": "stdout",
     "output_type": "stream",
     "text": [
      "Openslide returned an error om tje StandardError block /TCGA_MIRROR/tcga-data.nci.nih.gov/tcgafiles/ftp_auth/distro_ftpusers/anonymous/tumor/coad/bcr/nationwidechildrens.org/diagnostic_images/slide_images/nationwidechildrens.org_COAD.diagnostic_images.Level_1.116.8.0/TCGA-AA-3660-01Z-00-DX1.CCD0F50D-9991-4CC2-AC77-AD1F78D8CFEB.svs\n",
      "SHIT IT DIED!\n",
      "insert into `corrupt_or_unreadable_svs_files` (full_file_name,filesize) Values ('/TCGA_MIRROR/tcga-data.nci.nih.gov/tcgafiles/ftp_auth/distro_ftpusers/anonymous/tumor/coad/bcr/nationwidechildrens.org/diagnostic_images/slide_images/nationwidechildrens.org_COAD.diagnostic_images.Level_1.116.8.0/TCGA-AA-3660-01Z-00-DX1.CCD0F50D-9991-4CC2-AC77-AD1F78D8CFEB.svs',8893474) \n",
      "UNABLE TO OPEN FILE?? /TCGA_MIRROR/tcga-data.nci.nih.gov/tcgafiles/ftp_auth/distro_ftpusers/anonymous/tumor/coad/bcr/nationwidechildrens.org/diagnostic_images/slide_images/nationwidechildrens.org_COAD.diagnostic_images.Level_1.116.8.0/TCGA-AA-3660-01Z-00-DX1.CCD0F50D-9991-4CC2-AC77-AD1F78D8CFEB.svs\n",
      "\r",
      "\u001b[KTotal Processed: 1940  Newly Processed: 0 Dup Slides or Already Loaded: 1914  RESCANNED Slides 6"
     ]
    },
    {
     "name": "stderr",
     "output_type": "stream",
     "text": [
      " ()\n",
      "Verify failed with:"
     ]
    },
    {
     "name": "stdout",
     "output_type": "stream",
     "text": [
      "Openslide returned an error om tje StandardError block /TCGA_MIRROR/tcga-data.nci.nih.gov/tcgafiles/ftp_auth/distro_ftpusers/anonymous/tumor/coad/bcr/nationwidechildrens.org/diagnostic_images/slide_images/nationwidechildrens.org_COAD.diagnostic_images.Level_1.116.8.0/TCGA-AA-3662-01Z-00-DX1.625F1BCC-5E59-411E-AE23-6F43CE6122B2.svs\n",
      "SHIT IT DIED!\n",
      "insert into `corrupt_or_unreadable_svs_files` (full_file_name,filesize) Values ('/TCGA_MIRROR/tcga-data.nci.nih.gov/tcgafiles/ftp_auth/distro_ftpusers/anonymous/tumor/coad/bcr/nationwidechildrens.org/diagnostic_images/slide_images/nationwidechildrens.org_COAD.diagnostic_images.Level_1.116.8.0/TCGA-AA-3662-01Z-00-DX1.625F1BCC-5E59-411E-AE23-6F43CE6122B2.svs',9915016) \n",
      "UNABLE TO OPEN FILE?? /TCGA_MIRROR/tcga-data.nci.nih.gov/tcgafiles/ftp_auth/distro_ftpusers/anonymous/tumor/coad/bcr/nationwidechildrens.org/diagnostic_images/slide_images/nationwidechildrens.org_COAD.diagnostic_images.Level_1.116.8.0/TCGA-AA-3662-01Z-00-DX1.625F1BCC-5E59-411E-AE23-6F43CE6122B2.svs\n",
      "\u001b[KTotal Processed: 1946  Newly Processed: 0 Dup Slides or Already Loaded: 1919  RESCANNED Slides 6"
     ]
    },
    {
     "name": "stderr",
     "output_type": "stream",
     "text": [
      " ()\n",
      "Verify failed with:"
     ]
    },
    {
     "name": "stdout",
     "output_type": "stream",
     "text": [
      "Openslide returned an error om tje StandardError block /TCGA_MIRROR/tcga-data.nci.nih.gov/tcgafiles/ftp_auth/distro_ftpusers/anonymous/tumor/coad/bcr/nationwidechildrens.org/diagnostic_images/slide_images/nationwidechildrens.org_COAD.diagnostic_images.Level_1.116.8.0/TCGA-AA-3697-01Z-00-DX1.AAB8DB74-F76D-4D0A-A50E-E7F97504A3C4.svs\n",
      "SHIT IT DIED!\n",
      "insert into `corrupt_or_unreadable_svs_files` (full_file_name,filesize) Values ('/TCGA_MIRROR/tcga-data.nci.nih.gov/tcgafiles/ftp_auth/distro_ftpusers/anonymous/tumor/coad/bcr/nationwidechildrens.org/diagnostic_images/slide_images/nationwidechildrens.org_COAD.diagnostic_images.Level_1.116.8.0/TCGA-AA-3697-01Z-00-DX1.AAB8DB74-F76D-4D0A-A50E-E7F97504A3C4.svs',10081986) \n",
      "UNABLE TO OPEN FILE?? /TCGA_MIRROR/tcga-data.nci.nih.gov/tcgafiles/ftp_auth/distro_ftpusers/anonymous/tumor/coad/bcr/nationwidechildrens.org/diagnostic_images/slide_images/nationwidechildrens.org_COAD.diagnostic_images.Level_1.116.8.0/TCGA-AA-3697-01Z-00-DX1.AAB8DB74-F76D-4D0A-A50E-E7F97504A3C4.svs\n",
      "\u001b[KTotal Processed: 1951  Newly Processed: 0 Dup Slides or Already Loaded: 1923  RESCANNED Slides 6"
     ]
    },
    {
     "name": "stderr",
     "output_type": "stream",
     "text": [
      " ()\n",
      "Verify failed with:"
     ]
    },
    {
     "name": "stdout",
     "output_type": "stream",
     "text": [
      "Openslide returned an error om tje StandardError block /TCGA_MIRROR/tcga-data.nci.nih.gov/tcgafiles/ftp_auth/distro_ftpusers/anonymous/tumor/coad/bcr/nationwidechildrens.org/diagnostic_images/slide_images/nationwidechildrens.org_COAD.diagnostic_images.Level_1.116.8.0/TCGA-AA-3663-01Z-00-DX1.9AEDC003-2062-4876-8993-A5CEE4DDE1A9.svs\n",
      "SHIT IT DIED!\n",
      "insert into `corrupt_or_unreadable_svs_files` (full_file_name,filesize) Values ('/TCGA_MIRROR/tcga-data.nci.nih.gov/tcgafiles/ftp_auth/distro_ftpusers/anonymous/tumor/coad/bcr/nationwidechildrens.org/diagnostic_images/slide_images/nationwidechildrens.org_COAD.diagnostic_images.Level_1.116.8.0/TCGA-AA-3663-01Z-00-DX1.9AEDC003-2062-4876-8993-A5CEE4DDE1A9.svs',12572176) \n",
      "UNABLE TO OPEN FILE?? /TCGA_MIRROR/tcga-data.nci.nih.gov/tcgafiles/ftp_auth/distro_ftpusers/anonymous/tumor/coad/bcr/nationwidechildrens.org/diagnostic_images/slide_images/nationwidechildrens.org_COAD.diagnostic_images.Level_1.116.8.0/TCGA-AA-3663-01Z-00-DX1.9AEDC003-2062-4876-8993-A5CEE4DDE1A9.svs\n",
      "\u001b[KTotal Processed: 4548  Newly Processed: 0 Dup Slides or Already Loaded: 4421  RESCANNED Slides 104/TCGA_MIRROR/tcga-data.nci.nih.gov/tcgafiles/ftp_auth/distro_ftpusers/anonymous/tumor/\n",
      "/TCGA_MIRROR/tcga-data.nci.nih.gov/tcgafiles/ftp_auth/distro_ftpusers/anonymous/tumor/\n",
      "\u001b[KTotal Processed: 2542  Newly Processed: 0 Dup Slides or Already Loaded: 2542  RESCANNED Slides 0/TCGA_MIRROR/tcga-data.nci.nih.gov/tcgafiles/ftp_auth/distro_ftpusers/anonymous/tumor/\n",
      "\u001b[KTotal Processed: 1032  Newly Processed: 0 Dup Slides or Already Loaded: 1032  RESCANNED Slides 0/TCGA_MIRROR/tcga-data.nci.nih.gov/tcgafiles/ftp_auth/distro_ftpusers/anonymous/tumor/\n",
      "\u001b[KTotal Processed: 3726  Newly Processed: 0 Dup Slides or Already Loaded: 3691  RESCANNED Slides 35/TCGA_MIRROR/tcga-data.nci.nih.gov/tcgafiles/ftp_auth/distro_ftpusers/anonymous/tumor/\n",
      "/TCGA_MIRROR/tcga-data.nci.nih.gov/tcgafiles/ftp_auth/distro_ftpusers/anonymous/tumor/\n",
      "\u001b[KTotal Processed: 1484  Newly Processed: 0 Dup Slides or Already Loaded: 1482  RESCANNED Slides 2/TCGA_MIRROR/tcga-data.nci.nih.gov/tcgafiles/ftp_auth/distro_ftpusers/anonymous/tumor/\n",
      "\u001b[KTotal Processed: 290  Newly Processed: 0 Dup Slides or Already Loaded: 289  RESCANNED Slides 1/TCGA_MIRROR/tcga-data.nci.nih.gov/tcgafiles/ftp_auth/distro_ftpusers/anonymous/tumor/\n",
      "\u001b[KTotal Processed: 6001  Newly Processed: 0 Dup Slides or Already Loaded: 5971  RESCANNED Slides 30/TCGA_MIRROR/tcga-data.nci.nih.gov/tcgafiles/ftp_auth/distro_ftpusers/anonymous/tumor/\n",
      "\u001b[KTotal Processed: 3244  Newly Processed: 0 Dup Slides or Already Loaded: 3243  RESCANNED Slides 1/TCGA_MIRROR/tcga-data.nci.nih.gov/tcgafiles/ftp_auth/distro_ftpusers/anonymous/tumor/\n",
      "\u001b[KTotal Processed: 6425  Newly Processed: 0 Dup Slides or Already Loaded: 6293  RESCANNED Slides 132/TCGA_MIRROR/tcga-data.nci.nih.gov/tcgafiles/ftp_auth/distro_ftpusers/anonymous/tumor/\n",
      "\u001b[KTotal Processed: 3203  Newly Processed: 0 Dup Slides or Already Loaded: 3203  RESCANNED Slides 0/TCGA_MIRROR/tcga-data.nci.nih.gov/tcgafiles/ftp_auth/distro_ftpusers/anonymous/tumor/\n",
      "\u001b[KTotal Processed: 2693  Newly Processed: 0 Dup Slides or Already Loaded: 2693  RESCANNED Slides 0"
     ]
    },
    {
     "name": "stderr",
     "output_type": "stream",
     "text": [
      " ()\n",
      "Verify failed with:"
     ]
    },
    {
     "name": "stdout",
     "output_type": "stream",
     "text": [
      "Openslide returned an error om tje StandardError block /TCGA_MIRROR/tcga-data.nci.nih.gov/tcgafiles/ftp_auth/distro_ftpusers/anonymous/tumor/luad/bcr/nationwidechildrens.org/diagnostic_images/slide_images/nationwidechildrens.org_LUAD.diagnostic_images.Level_1.119.12.0/TCGA-05-4425-01Z-00-DX1.82B093EE-49BC-4FD9-91AC-4CC89944309D.svs\n",
      "SHIT IT DIED!\n",
      "insert into `corrupt_or_unreadable_svs_files` (full_file_name,filesize) Values ('/TCGA_MIRROR/tcga-data.nci.nih.gov/tcgafiles/ftp_auth/distro_ftpusers/anonymous/tumor/luad/bcr/nationwidechildrens.org/diagnostic_images/slide_images/nationwidechildrens.org_LUAD.diagnostic_images.Level_1.119.12.0/TCGA-05-4425-01Z-00-DX1.82B093EE-49BC-4FD9-91AC-4CC89944309D.svs',6382442) \n",
      "UNABLE TO OPEN FILE?? /TCGA_MIRROR/tcga-data.nci.nih.gov/tcgafiles/ftp_auth/distro_ftpusers/anonymous/tumor/luad/bcr/nationwidechildrens.org/diagnostic_images/slide_images/nationwidechildrens.org_LUAD.diagnostic_images.Level_1.119.12.0/TCGA-05-4425-01Z-00-DX1.82B093EE-49BC-4FD9-91AC-4CC89944309D.svs\n",
      "\u001b[KTotal Processed: 2699  Newly Processed: 0 Dup Slides or Already Loaded: 2698  RESCANNED Slides 0"
     ]
    },
    {
     "name": "stderr",
     "output_type": "stream",
     "text": [
      " ()\n",
      "Verify failed with:"
     ]
    },
    {
     "name": "stdout",
     "output_type": "stream",
     "text": [
      "Openslide returned an error om tje StandardError block /TCGA_MIRROR/tcga-data.nci.nih.gov/tcgafiles/ftp_auth/distro_ftpusers/anonymous/tumor/luad/bcr/nationwidechildrens.org/diagnostic_images/slide_images/nationwidechildrens.org_LUAD.diagnostic_images.Level_1.119.12.0/TCGA-05-4384-01Z-00-DX1.CA68BF29-BBE3-4C8E-B48B-554431A9EE13.svs\n",
      "SHIT IT DIED!\n",
      "insert into `corrupt_or_unreadable_svs_files` (full_file_name,filesize) Values ('/TCGA_MIRROR/tcga-data.nci.nih.gov/tcgafiles/ftp_auth/distro_ftpusers/anonymous/tumor/luad/bcr/nationwidechildrens.org/diagnostic_images/slide_images/nationwidechildrens.org_LUAD.diagnostic_images.Level_1.119.12.0/TCGA-05-4384-01Z-00-DX1.CA68BF29-BBE3-4C8E-B48B-554431A9EE13.svs',10143374) \n",
      "UNABLE TO OPEN FILE?? /TCGA_MIRROR/tcga-data.nci.nih.gov/tcgafiles/ftp_auth/distro_ftpusers/anonymous/tumor/luad/bcr/nationwidechildrens.org/diagnostic_images/slide_images/nationwidechildrens.org_LUAD.diagnostic_images.Level_1.119.12.0/TCGA-05-4384-01Z-00-DX1.CA68BF29-BBE3-4C8E-B48B-554431A9EE13.svs\n",
      "\u001b[KTotal Processed: 2711  Newly Processed: 0 Dup Slides or Already Loaded: 2709  RESCANNED Slides 0"
     ]
    },
    {
     "name": "stderr",
     "output_type": "stream",
     "text": [
      " ()\n",
      "Verify failed with:"
     ]
    },
    {
     "name": "stdout",
     "output_type": "stream",
     "text": [
      "Openslide returned an error om tje StandardError block /TCGA_MIRROR/tcga-data.nci.nih.gov/tcgafiles/ftp_auth/distro_ftpusers/anonymous/tumor/luad/bcr/nationwidechildrens.org/diagnostic_images/slide_images/nationwidechildrens.org_LUAD.diagnostic_images.Level_1.119.12.0/TCGA-05-4390-01Z-00-DX1.858E64DF-DD3E-4F43-B7C1-CE35B33F1C90.svs\n",
      "SHIT IT DIED!\n",
      "insert into `corrupt_or_unreadable_svs_files` (full_file_name,filesize) Values ('/TCGA_MIRROR/tcga-data.nci.nih.gov/tcgafiles/ftp_auth/distro_ftpusers/anonymous/tumor/luad/bcr/nationwidechildrens.org/diagnostic_images/slide_images/nationwidechildrens.org_LUAD.diagnostic_images.Level_1.119.12.0/TCGA-05-4390-01Z-00-DX1.858E64DF-DD3E-4F43-B7C1-CE35B33F1C90.svs',11234386) \n",
      "UNABLE TO OPEN FILE?? /TCGA_MIRROR/tcga-data.nci.nih.gov/tcgafiles/ftp_auth/distro_ftpusers/anonymous/tumor/luad/bcr/nationwidechildrens.org/diagnostic_images/slide_images/nationwidechildrens.org_LUAD.diagnostic_images.Level_1.119.12.0/TCGA-05-4390-01Z-00-DX1.858E64DF-DD3E-4F43-B7C1-CE35B33F1C90.svs\n",
      "\u001b[KTotal Processed: 3680  Newly Processed: 0 Dup Slides or Already Loaded: 3668  RESCANNED Slides 9"
     ]
    },
    {
     "name": "stderr",
     "output_type": "stream",
     "text": [
      " ()\n",
      "Verify failed with:"
     ]
    },
    {
     "name": "stdout",
     "output_type": "stream",
     "text": [
      "Openslide returned an error om tje StandardError block /TCGA_MIRROR/tcga-data.nci.nih.gov/tcgafiles/ftp_auth/distro_ftpusers/anonymous/tumor/luad/bcr/nationwidechildrens.org/diagnostic_images/slide_images/nationwidechildrens.org_LUAD.diagnostic_images.Level_1.238.4.0/TCGA-97-8547-01Z-00-DX1.873DFBAA-2875-481F-BF47-2C12B1D96CE6.svs\n",
      "SHIT IT DIED!\n",
      "insert into `corrupt_or_unreadable_svs_files` (full_file_name,filesize) Values ('/TCGA_MIRROR/tcga-data.nci.nih.gov/tcgafiles/ftp_auth/distro_ftpusers/anonymous/tumor/luad/bcr/nationwidechildrens.org/diagnostic_images/slide_images/nationwidechildrens.org_LUAD.diagnostic_images.Level_1.238.4.0/TCGA-97-8547-01Z-00-DX1.873DFBAA-2875-481F-BF47-2C12B1D96CE6.svs',1655573221) \n",
      "UNABLE TO OPEN FILE?? /TCGA_MIRROR/tcga-data.nci.nih.gov/tcgafiles/ftp_auth/distro_ftpusers/anonymous/tumor/luad/bcr/nationwidechildrens.org/diagnostic_images/slide_images/nationwidechildrens.org_LUAD.diagnostic_images.Level_1.238.4.0/TCGA-97-8547-01Z-00-DX1.873DFBAA-2875-481F-BF47-2C12B1D96CE6.svs\n",
      "\u001b[KTotal Processed: 3684  Newly Processed: 0 Dup Slides or Already Loaded: 3671  RESCANNED Slides 9"
     ]
    },
    {
     "name": "stderr",
     "output_type": "stream",
     "text": [
      " (\"cannot identify image file '/TCGA_MIRROR/tcga-data.nci.nih.gov/tcgafiles/ftp_auth/distro_ftpusers/anonymous/tumor/luad/bcr/nationwidechildrens.org/diagnostic_images/slide_images/nationwidechildrens.org_LUAD.diagnostic_images.Level_1.238.4.0/TCGA-97-8547-01Z-00-DX1.873DFBAA-2875-481F-BF47-2C12B1D96CE6.svs'\",)\n",
      "Verify failed with:"
     ]
    },
    {
     "name": "stdout",
     "output_type": "stream",
     "text": [
      "Openslide returned an error om tje StandardError block /TCGA_MIRROR/tcga-data.nci.nih.gov/tcgafiles/ftp_auth/distro_ftpusers/anonymous/tumor/luad/bcr/nationwidechildrens.org/diagnostic_images/slide_images/nationwidechildrens.org_LUAD.diagnostic_images.Level_1.238.4.0/TCGA-97-8176-01Z-00-DX1.444FE201-4F7B-47B5-8FE5-6CB31E524E6E.svs\n",
      "SHIT IT DIED!\n",
      "insert into `corrupt_or_unreadable_svs_files` (full_file_name,filesize) Values ('/TCGA_MIRROR/tcga-data.nci.nih.gov/tcgafiles/ftp_auth/distro_ftpusers/anonymous/tumor/luad/bcr/nationwidechildrens.org/diagnostic_images/slide_images/nationwidechildrens.org_LUAD.diagnostic_images.Level_1.238.4.0/TCGA-97-8176-01Z-00-DX1.444FE201-4F7B-47B5-8FE5-6CB31E524E6E.svs',1871901705) \n",
      "UNABLE TO OPEN FILE?? /TCGA_MIRROR/tcga-data.nci.nih.gov/tcgafiles/ftp_auth/distro_ftpusers/anonymous/tumor/luad/bcr/nationwidechildrens.org/diagnostic_images/slide_images/nationwidechildrens.org_LUAD.diagnostic_images.Level_1.238.4.0/TCGA-97-8176-01Z-00-DX1.444FE201-4F7B-47B5-8FE5-6CB31E524E6E.svs\n",
      "\u001b[KTotal Processed: 4059  Newly Processed: 0 Dup Slides or Already Loaded: 4038  RESCANNED Slides 16"
     ]
    },
    {
     "name": "stderr",
     "output_type": "stream",
     "text": [
      " (\"cannot identify image file '/TCGA_MIRROR/tcga-data.nci.nih.gov/tcgafiles/ftp_auth/distro_ftpusers/anonymous/tumor/luad/bcr/nationwidechildrens.org/diagnostic_images/slide_images/nationwidechildrens.org_LUAD.diagnostic_images.Level_1.238.4.0/TCGA-97-8176-01Z-00-DX1.444FE201-4F7B-47B5-8FE5-6CB31E524E6E.svs'\",)\n",
      "Verify failed with:"
     ]
    },
    {
     "name": "stdout",
     "output_type": "stream",
     "text": [
      "Openslide returned an error om tje StandardError block /TCGA_MIRROR/tcga-data.nci.nih.gov/tcgafiles/ftp_auth/distro_ftpusers/anonymous/tumor/luad/bcr/nationwidechildrens.org/diagnostic_images/slide_images/nationwidechildrens.org_LUAD.diagnostic_images.Level_1.238.1.0/TCGA-97-8547-01Z-00-DX1.873DFBAA-2875-481F-BF47-2C12B1D96CE6.svs\n",
      "SHIT IT DIED!\n",
      "insert into `corrupt_or_unreadable_svs_files` (full_file_name,filesize) Values ('/TCGA_MIRROR/tcga-data.nci.nih.gov/tcgafiles/ftp_auth/distro_ftpusers/anonymous/tumor/luad/bcr/nationwidechildrens.org/diagnostic_images/slide_images/nationwidechildrens.org_LUAD.diagnostic_images.Level_1.238.1.0/TCGA-97-8547-01Z-00-DX1.873DFBAA-2875-481F-BF47-2C12B1D96CE6.svs',1655573221) \n",
      "UNABLE TO OPEN FILE?? /TCGA_MIRROR/tcga-data.nci.nih.gov/tcgafiles/ftp_auth/distro_ftpusers/anonymous/tumor/luad/bcr/nationwidechildrens.org/diagnostic_images/slide_images/nationwidechildrens.org_LUAD.diagnostic_images.Level_1.238.1.0/TCGA-97-8547-01Z-00-DX1.873DFBAA-2875-481F-BF47-2C12B1D96CE6.svs\n",
      "\u001b[KTotal Processed: 4061  Newly Processed: 0 Dup Slides or Already Loaded: 4039  RESCANNED Slides 16"
     ]
    },
    {
     "name": "stderr",
     "output_type": "stream",
     "text": [
      " (\"cannot identify image file '/TCGA_MIRROR/tcga-data.nci.nih.gov/tcgafiles/ftp_auth/distro_ftpusers/anonymous/tumor/luad/bcr/nationwidechildrens.org/diagnostic_images/slide_images/nationwidechildrens.org_LUAD.diagnostic_images.Level_1.238.1.0/TCGA-97-8547-01Z-00-DX1.873DFBAA-2875-481F-BF47-2C12B1D96CE6.svs'\",)\n",
      "Verify failed with:"
     ]
    },
    {
     "name": "stdout",
     "output_type": "stream",
     "text": [
      "Openslide returned an error om tje StandardError block /TCGA_MIRROR/tcga-data.nci.nih.gov/tcgafiles/ftp_auth/distro_ftpusers/anonymous/tumor/luad/bcr/nationwidechildrens.org/diagnostic_images/slide_images/nationwidechildrens.org_LUAD.diagnostic_images.Level_1.238.1.0/TCGA-97-8176-01Z-00-DX1.444FE201-4F7B-47B5-8FE5-6CB31E524E6E.svs\n",
      "SHIT IT DIED!\n",
      "insert into `corrupt_or_unreadable_svs_files` (full_file_name,filesize) Values ('/TCGA_MIRROR/tcga-data.nci.nih.gov/tcgafiles/ftp_auth/distro_ftpusers/anonymous/tumor/luad/bcr/nationwidechildrens.org/diagnostic_images/slide_images/nationwidechildrens.org_LUAD.diagnostic_images.Level_1.238.1.0/TCGA-97-8176-01Z-00-DX1.444FE201-4F7B-47B5-8FE5-6CB31E524E6E.svs',1871901705) \n",
      "UNABLE TO OPEN FILE?? /TCGA_MIRROR/tcga-data.nci.nih.gov/tcgafiles/ftp_auth/distro_ftpusers/anonymous/tumor/luad/bcr/nationwidechildrens.org/diagnostic_images/slide_images/nationwidechildrens.org_LUAD.diagnostic_images.Level_1.238.1.0/TCGA-97-8176-01Z-00-DX1.444FE201-4F7B-47B5-8FE5-6CB31E524E6E.svs\n",
      "\u001b[KTotal Processed: 4151  Newly Processed: 0 Dup Slides or Already Loaded: 4127  RESCANNED Slides 17"
     ]
    },
    {
     "name": "stderr",
     "output_type": "stream",
     "text": [
      " (\"cannot identify image file '/TCGA_MIRROR/tcga-data.nci.nih.gov/tcgafiles/ftp_auth/distro_ftpusers/anonymous/tumor/luad/bcr/nationwidechildrens.org/diagnostic_images/slide_images/nationwidechildrens.org_LUAD.diagnostic_images.Level_1.238.1.0/TCGA-97-8176-01Z-00-DX1.444FE201-4F7B-47B5-8FE5-6CB31E524E6E.svs'\",)\n",
      "Verify failed with:"
     ]
    },
    {
     "name": "stdout",
     "output_type": "stream",
     "text": [
      "Openslide returned an error om tje StandardError block /TCGA_MIRROR/tcga-data.nci.nih.gov/tcgafiles/ftp_auth/distro_ftpusers/anonymous/tumor/luad/bcr/nationwidechildrens.org/diagnostic_images/slide_images/nationwidechildrens.org_LUAD.diagnostic_images.Level_1.144.15.0/TCGA-05-4410-01Z-00-DX1.E5B66334-4949-4F45-9200-296B1A2F1AD5.svs\n",
      "SHIT IT DIED!\n",
      "insert into `corrupt_or_unreadable_svs_files` (full_file_name,filesize) Values ('/TCGA_MIRROR/tcga-data.nci.nih.gov/tcgafiles/ftp_auth/distro_ftpusers/anonymous/tumor/luad/bcr/nationwidechildrens.org/diagnostic_images/slide_images/nationwidechildrens.org_LUAD.diagnostic_images.Level_1.144.15.0/TCGA-05-4410-01Z-00-DX1.E5B66334-4949-4F45-9200-296B1A2F1AD5.svs',14228686) \n",
      "UNABLE TO OPEN FILE?? /TCGA_MIRROR/tcga-data.nci.nih.gov/tcgafiles/ftp_auth/distro_ftpusers/anonymous/tumor/luad/bcr/nationwidechildrens.org/diagnostic_images/slide_images/nationwidechildrens.org_LUAD.diagnostic_images.Level_1.144.15.0/TCGA-05-4410-01Z-00-DX1.E5B66334-4949-4F45-9200-296B1A2F1AD5.svs\n",
      "\u001b[KTotal Processed: 4537  Newly Processed: 0 Dup Slides or Already Loaded: 4503  RESCANNED Slides 26"
     ]
    },
    {
     "name": "stderr",
     "output_type": "stream",
     "text": [
      " ()\n",
      "Verify failed with:"
     ]
    },
    {
     "name": "stdout",
     "output_type": "stream",
     "text": [
      "Openslide returned an error om tje StandardError block /TCGA_MIRROR/tcga-data.nci.nih.gov/tcgafiles/ftp_auth/distro_ftpusers/anonymous/tumor/luad/bcr/nationwidechildrens.org/diagnostic_images/slide_images/nationwidechildrens.org_LUAD.diagnostic_images.Level_1.84.13.0/TCGA-05-5425-01Z-00-DX1.85865B2F-4888-43DD-A501-458BEFCF832B.svs\n",
      "SHIT IT DIED!\n",
      "insert into `corrupt_or_unreadable_svs_files` (full_file_name,filesize) Values ('/TCGA_MIRROR/tcga-data.nci.nih.gov/tcgafiles/ftp_auth/distro_ftpusers/anonymous/tumor/luad/bcr/nationwidechildrens.org/diagnostic_images/slide_images/nationwidechildrens.org_LUAD.diagnostic_images.Level_1.84.13.0/TCGA-05-5425-01Z-00-DX1.85865B2F-4888-43DD-A501-458BEFCF832B.svs',9169362) \n",
      "UNABLE TO OPEN FILE?? /TCGA_MIRROR/tcga-data.nci.nih.gov/tcgafiles/ftp_auth/distro_ftpusers/anonymous/tumor/luad/bcr/nationwidechildrens.org/diagnostic_images/slide_images/nationwidechildrens.org_LUAD.diagnostic_images.Level_1.84.13.0/TCGA-05-5425-01Z-00-DX1.85865B2F-4888-43DD-A501-458BEFCF832B.svs\n",
      "\r",
      "\u001b[KTotal Processed: 4538  Newly Processed: 0 Dup Slides or Already Loaded: 4503  RESCANNED Slides 26"
     ]
    },
    {
     "name": "stderr",
     "output_type": "stream",
     "text": [
      " ()\n",
      "Verify failed with:"
     ]
    },
    {
     "name": "stdout",
     "output_type": "stream",
     "text": [
      "Openslide returned an error om tje StandardError block /TCGA_MIRROR/tcga-data.nci.nih.gov/tcgafiles/ftp_auth/distro_ftpusers/anonymous/tumor/luad/bcr/nationwidechildrens.org/diagnostic_images/slide_images/nationwidechildrens.org_LUAD.diagnostic_images.Level_1.84.13.0/TCGA-05-5420-01Z-00-DX1.8C253A99-44FD-48B6-AF31-D808CCB7DB1E.svs\n",
      "SHIT IT DIED!\n",
      "insert into `corrupt_or_unreadable_svs_files` (full_file_name,filesize) Values ('/TCGA_MIRROR/tcga-data.nci.nih.gov/tcgafiles/ftp_auth/distro_ftpusers/anonymous/tumor/luad/bcr/nationwidechildrens.org/diagnostic_images/slide_images/nationwidechildrens.org_LUAD.diagnostic_images.Level_1.84.13.0/TCGA-05-5420-01Z-00-DX1.8C253A99-44FD-48B6-AF31-D808CCB7DB1E.svs',12090692) \n",
      "UNABLE TO OPEN FILE?? /TCGA_MIRROR/tcga-data.nci.nih.gov/tcgafiles/ftp_auth/distro_ftpusers/anonymous/tumor/luad/bcr/nationwidechildrens.org/diagnostic_images/slide_images/nationwidechildrens.org_LUAD.diagnostic_images.Level_1.84.13.0/TCGA-05-5420-01Z-00-DX1.8C253A99-44FD-48B6-AF31-D808CCB7DB1E.svs\n",
      "\u001b[KTotal Processed: 4544  Newly Processed: 0 Dup Slides or Already Loaded: 4508  RESCANNED Slides 26"
     ]
    },
    {
     "name": "stderr",
     "output_type": "stream",
     "text": [
      " ()\n",
      "Verify failed with:"
     ]
    },
    {
     "name": "stdout",
     "output_type": "stream",
     "text": [
      "Openslide returned an error om tje StandardError block /TCGA_MIRROR/tcga-data.nci.nih.gov/tcgafiles/ftp_auth/distro_ftpusers/anonymous/tumor/luad/bcr/nationwidechildrens.org/diagnostic_images/slide_images/nationwidechildrens.org_LUAD.diagnostic_images.Level_1.84.13.0/TCGA-05-5423-01Z-00-DX1.CCCF5FDB-ACAD-4D9D-80DF-556F0D6284AF.svs\n",
      "SHIT IT DIED!\n",
      "insert into `corrupt_or_unreadable_svs_files` (full_file_name,filesize) Values ('/TCGA_MIRROR/tcga-data.nci.nih.gov/tcgafiles/ftp_auth/distro_ftpusers/anonymous/tumor/luad/bcr/nationwidechildrens.org/diagnostic_images/slide_images/nationwidechildrens.org_LUAD.diagnostic_images.Level_1.84.13.0/TCGA-05-5423-01Z-00-DX1.CCCF5FDB-ACAD-4D9D-80DF-556F0D6284AF.svs',11672134) \n",
      "UNABLE TO OPEN FILE?? /TCGA_MIRROR/tcga-data.nci.nih.gov/tcgafiles/ftp_auth/distro_ftpusers/anonymous/tumor/luad/bcr/nationwidechildrens.org/diagnostic_images/slide_images/nationwidechildrens.org_LUAD.diagnostic_images.Level_1.84.13.0/TCGA-05-5423-01Z-00-DX1.CCCF5FDB-ACAD-4D9D-80DF-556F0D6284AF.svs\n",
      "\u001b[KTotal Processed: 4551  Newly Processed: 0 Dup Slides or Already Loaded: 4514  RESCANNED Slides 26"
     ]
    },
    {
     "name": "stderr",
     "output_type": "stream",
     "text": [
      " ()\n",
      "Verify failed with:"
     ]
    },
    {
     "name": "stdout",
     "output_type": "stream",
     "text": [
      "Openslide returned an error om tje StandardError block /TCGA_MIRROR/tcga-data.nci.nih.gov/tcgafiles/ftp_auth/distro_ftpusers/anonymous/tumor/luad/bcr/nationwidechildrens.org/diagnostic_images/slide_images/nationwidechildrens.org_LUAD.diagnostic_images.Level_1.84.13.0/TCGA-05-5428-01Z-00-DX1.8018AD62-F1CE-4BFF-8EFD-3F2D4513FC11.svs\n",
      "SHIT IT DIED!\n",
      "insert into `corrupt_or_unreadable_svs_files` (full_file_name,filesize) Values ('/TCGA_MIRROR/tcga-data.nci.nih.gov/tcgafiles/ftp_auth/distro_ftpusers/anonymous/tumor/luad/bcr/nationwidechildrens.org/diagnostic_images/slide_images/nationwidechildrens.org_LUAD.diagnostic_images.Level_1.84.13.0/TCGA-05-5428-01Z-00-DX1.8018AD62-F1CE-4BFF-8EFD-3F2D4513FC11.svs',8955412) \n",
      "UNABLE TO OPEN FILE?? /TCGA_MIRROR/tcga-data.nci.nih.gov/tcgafiles/ftp_auth/distro_ftpusers/anonymous/tumor/luad/bcr/nationwidechildrens.org/diagnostic_images/slide_images/nationwidechildrens.org_LUAD.diagnostic_images.Level_1.84.13.0/TCGA-05-5428-01Z-00-DX1.8018AD62-F1CE-4BFF-8EFD-3F2D4513FC11.svs\n",
      "\r",
      "\u001b[KTotal Processed: 4552  Newly Processed: 0 Dup Slides or Already Loaded: 4514  RESCANNED Slides 26"
     ]
    },
    {
     "name": "stderr",
     "output_type": "stream",
     "text": [
      " ()\n",
      "Verify failed with:"
     ]
    },
    {
     "name": "stdout",
     "output_type": "stream",
     "text": [
      "Openslide returned an error om tje StandardError block /TCGA_MIRROR/tcga-data.nci.nih.gov/tcgafiles/ftp_auth/distro_ftpusers/anonymous/tumor/luad/bcr/nationwidechildrens.org/diagnostic_images/slide_images/nationwidechildrens.org_LUAD.diagnostic_images.Level_1.84.13.0/TCGA-05-5715-01Z-00-DX1.D3F0A1FA-2507-45FF-823F-F9981E62BB4C.svs\n",
      "SHIT IT DIED!\n",
      "insert into `corrupt_or_unreadable_svs_files` (full_file_name,filesize) Values ('/TCGA_MIRROR/tcga-data.nci.nih.gov/tcgafiles/ftp_auth/distro_ftpusers/anonymous/tumor/luad/bcr/nationwidechildrens.org/diagnostic_images/slide_images/nationwidechildrens.org_LUAD.diagnostic_images.Level_1.84.13.0/TCGA-05-5715-01Z-00-DX1.D3F0A1FA-2507-45FF-823F-F9981E62BB4C.svs',7961930) \n",
      "UNABLE TO OPEN FILE?? /TCGA_MIRROR/tcga-data.nci.nih.gov/tcgafiles/ftp_auth/distro_ftpusers/anonymous/tumor/luad/bcr/nationwidechildrens.org/diagnostic_images/slide_images/nationwidechildrens.org_LUAD.diagnostic_images.Level_1.84.13.0/TCGA-05-5715-01Z-00-DX1.D3F0A1FA-2507-45FF-823F-F9981E62BB4C.svs\n",
      "\u001b[KTotal Processed: 4556  Newly Processed: 0 Dup Slides or Already Loaded: 4517  RESCANNED Slides 26"
     ]
    },
    {
     "name": "stderr",
     "output_type": "stream",
     "text": [
      " ()\n",
      "Verify failed with:"
     ]
    },
    {
     "name": "stdout",
     "output_type": "stream",
     "text": [
      "Openslide returned an error om tje StandardError block /TCGA_MIRROR/tcga-data.nci.nih.gov/tcgafiles/ftp_auth/distro_ftpusers/anonymous/tumor/luad/bcr/nationwidechildrens.org/diagnostic_images/slide_images/nationwidechildrens.org_LUAD.diagnostic_images.Level_1.84.13.0/TCGA-05-5429-01Z-00-DX1.20729065-FADA-4E43-98D7-AFA5FB4A0447.svs\n",
      "SHIT IT DIED!\n",
      "insert into `corrupt_or_unreadable_svs_files` (full_file_name,filesize) Values ('/TCGA_MIRROR/tcga-data.nci.nih.gov/tcgafiles/ftp_auth/distro_ftpusers/anonymous/tumor/luad/bcr/nationwidechildrens.org/diagnostic_images/slide_images/nationwidechildrens.org_LUAD.diagnostic_images.Level_1.84.13.0/TCGA-05-5429-01Z-00-DX1.20729065-FADA-4E43-98D7-AFA5FB4A0447.svs',8736228) \n",
      "UNABLE TO OPEN FILE?? /TCGA_MIRROR/tcga-data.nci.nih.gov/tcgafiles/ftp_auth/distro_ftpusers/anonymous/tumor/luad/bcr/nationwidechildrens.org/diagnostic_images/slide_images/nationwidechildrens.org_LUAD.diagnostic_images.Level_1.84.13.0/TCGA-05-5429-01Z-00-DX1.20729065-FADA-4E43-98D7-AFA5FB4A0447.svs\n",
      "\u001b[KTotal Processed: 7162  Newly Processed: 0 Dup Slides or Already Loaded: 7111  RESCANNED Slides 37/TCGA_MIRROR/tcga-data.nci.nih.gov/tcgafiles/ftp_auth/distro_ftpusers/anonymous/tumor/\n",
      "\u001b[KTotal Processed: 1313  Newly Processed: 0 Dup Slides or Already Loaded: 1309  RESCANNED Slides 4"
     ]
    },
    {
     "name": "stderr",
     "output_type": "stream",
     "text": [
      " ()\n",
      "Verify failed with:"
     ]
    },
    {
     "name": "stdout",
     "output_type": "stream",
     "text": [
      "Openslide returned an error om tje StandardError block /TCGA_MIRROR/tcga-data.nci.nih.gov/tcgafiles/ftp_auth/distro_ftpusers/anonymous/tumor/ucec/bcr/nationwidechildrens.org/diagnostic_images/slide_images/nationwidechildrens.org_UCEC.diagnostic_images.Level_1.186.4.0/TCGA-E6-A2P9-01Z-00-DX1.CFE4D87E-45D6-40ED-9E87-E80E1A63D04B.svs\n",
      "SHIT IT DIED!\n",
      "insert into `corrupt_or_unreadable_svs_files` (full_file_name,filesize) Values ('/TCGA_MIRROR/tcga-data.nci.nih.gov/tcgafiles/ftp_auth/distro_ftpusers/anonymous/tumor/ucec/bcr/nationwidechildrens.org/diagnostic_images/slide_images/nationwidechildrens.org_UCEC.diagnostic_images.Level_1.186.4.0/TCGA-E6-A2P9-01Z-00-DX1.CFE4D87E-45D6-40ED-9E87-E80E1A63D04B.svs',109559808) \n",
      "UNABLE TO OPEN FILE?? /TCGA_MIRROR/tcga-data.nci.nih.gov/tcgafiles/ftp_auth/distro_ftpusers/anonymous/tumor/ucec/bcr/nationwidechildrens.org/diagnostic_images/slide_images/nationwidechildrens.org_UCEC.diagnostic_images.Level_1.186.4.0/TCGA-E6-A2P9-01Z-00-DX1.CFE4D87E-45D6-40ED-9E87-E80E1A63D04B.svs\n",
      "\u001b[KTotal Processed: 4167  Newly Processed: 0 Dup Slides or Already Loaded: 4160  RESCANNED Slides 6/TCGA_MIRROR/tcga-data.nci.nih.gov/tcgafiles/ftp_auth/distro_ftpusers/anonymous/tumor/\n",
      "\u001b[KTotal Processed: 745  Newly Processed: 0 Dup Slides or Already Loaded: 745  RESCANNED Slides 0/TCGA_MIRROR/tcga-data.nci.nih.gov/tcgafiles/ftp_auth/distro_ftpusers/anonymous/tumor/\n",
      "\u001b[KTotal Processed: 4710  Newly Processed: 0 Dup Slides or Already Loaded: 4683  RESCANNED Slides 27"
     ]
    },
    {
     "name": "stderr",
     "output_type": "stream",
     "text": [
      " (\"cannot identify image file '/TCGA_MIRROR/tcga-data.nci.nih.gov/tcgafiles/ftp_auth/distro_ftpusers/anonymous/tumor/ucec/bcr/nationwidechildrens.org/diagnostic_images/slide_images/nationwidechildrens.org_UCEC.diagnostic_images.Level_1.186.4.0/TCGA-E6-A2P9-01Z-00-DX1.CFE4D87E-45D6-40ED-9E87-E80E1A63D04B.svs'\",)\n",
      "Verify failed with:"
     ]
    },
    {
     "name": "stdout",
     "output_type": "stream",
     "text": [
      "Openslide returned an error om tje StandardError block /TCGA_MIRROR/tcga-data.nci.nih.gov/tcgafiles/ftp_auth/distro_ftpusers/anonymous/tumor/brca/bcr/nationwidechildrens.org/diagnostic_images/slide_images/nationwidechildrens.org_BRCA.diagnostic_images.Level_1.296.5.0/TCGA-OL-A5RW-01Z-00-DX1.E16DE8EE-31AF-4EAF-A85F-DB3E3E2C3BFF.svs\n",
      "SHIT IT DIED!\n",
      "insert into `corrupt_or_unreadable_svs_files` (full_file_name,filesize) Values ('/TCGA_MIRROR/tcga-data.nci.nih.gov/tcgafiles/ftp_auth/distro_ftpusers/anonymous/tumor/brca/bcr/nationwidechildrens.org/diagnostic_images/slide_images/nationwidechildrens.org_BRCA.diagnostic_images.Level_1.296.5.0/TCGA-OL-A5RW-01Z-00-DX1.E16DE8EE-31AF-4EAF-A85F-DB3E3E2C3BFF.svs',25565706) \n",
      "UNABLE TO OPEN FILE?? /TCGA_MIRROR/tcga-data.nci.nih.gov/tcgafiles/ftp_auth/distro_ftpusers/anonymous/tumor/brca/bcr/nationwidechildrens.org/diagnostic_images/slide_images/nationwidechildrens.org_BRCA.diagnostic_images.Level_1.296.5.0/TCGA-OL-A5RW-01Z-00-DX1.E16DE8EE-31AF-4EAF-A85F-DB3E3E2C3BFF.svs\n",
      "\r",
      "\u001b[KTotal Processed: 4711  Newly Processed: 0 Dup Slides or Already Loaded: 4683  RESCANNED Slides 27"
     ]
    },
    {
     "name": "stderr",
     "output_type": "stream",
     "text": [
      " ()\n",
      "Verify failed with:"
     ]
    },
    {
     "name": "stdout",
     "output_type": "stream",
     "text": [
      "Openslide returned an error om tje StandardError block /TCGA_MIRROR/tcga-data.nci.nih.gov/tcgafiles/ftp_auth/distro_ftpusers/anonymous/tumor/brca/bcr/nationwidechildrens.org/diagnostic_images/slide_images/nationwidechildrens.org_BRCA.diagnostic_images.Level_1.296.5.0/TCGA-OL-A5S0-01Z-00-DX1.49A7AC9D-C186-406C-BA67-2D73DE82E13B.svs\n",
      "SHIT IT DIED!\n",
      "insert into `corrupt_or_unreadable_svs_files` (full_file_name,filesize) Values ('/TCGA_MIRROR/tcga-data.nci.nih.gov/tcgafiles/ftp_auth/distro_ftpusers/anonymous/tumor/brca/bcr/nationwidechildrens.org/diagnostic_images/slide_images/nationwidechildrens.org_BRCA.diagnostic_images.Level_1.296.5.0/TCGA-OL-A5S0-01Z-00-DX1.49A7AC9D-C186-406C-BA67-2D73DE82E13B.svs',33757202) \n",
      "UNABLE TO OPEN FILE?? /TCGA_MIRROR/tcga-data.nci.nih.gov/tcgafiles/ftp_auth/distro_ftpusers/anonymous/tumor/brca/bcr/nationwidechildrens.org/diagnostic_images/slide_images/nationwidechildrens.org_BRCA.diagnostic_images.Level_1.296.5.0/TCGA-OL-A5S0-01Z-00-DX1.49A7AC9D-C186-406C-BA67-2D73DE82E13B.svs\n",
      "\u001b[KTotal Processed: 4713  Newly Processed: 0 Dup Slides or Already Loaded: 4684  RESCANNED Slides 27"
     ]
    },
    {
     "name": "stderr",
     "output_type": "stream",
     "text": [
      " ()\n",
      "Verify failed with:"
     ]
    },
    {
     "name": "stdout",
     "output_type": "stream",
     "text": [
      "Openslide returned an error om tje StandardError block /TCGA_MIRROR/tcga-data.nci.nih.gov/tcgafiles/ftp_auth/distro_ftpusers/anonymous/tumor/brca/bcr/nationwidechildrens.org/diagnostic_images/slide_images/nationwidechildrens.org_BRCA.diagnostic_images.Level_1.296.5.0/TCGA-OL-A5RX-01Z-00-DX1.15A0D4F4-2744-4D44-8883-27FF83D9C824.svs\n",
      "SHIT IT DIED!\n",
      "insert into `corrupt_or_unreadable_svs_files` (full_file_name,filesize) Values ('/TCGA_MIRROR/tcga-data.nci.nih.gov/tcgafiles/ftp_auth/distro_ftpusers/anonymous/tumor/brca/bcr/nationwidechildrens.org/diagnostic_images/slide_images/nationwidechildrens.org_BRCA.diagnostic_images.Level_1.296.5.0/TCGA-OL-A5RX-01Z-00-DX1.15A0D4F4-2744-4D44-8883-27FF83D9C824.svs',48987138) \n",
      "UNABLE TO OPEN FILE?? /TCGA_MIRROR/tcga-data.nci.nih.gov/tcgafiles/ftp_auth/distro_ftpusers/anonymous/tumor/brca/bcr/nationwidechildrens.org/diagnostic_images/slide_images/nationwidechildrens.org_BRCA.diagnostic_images.Level_1.296.5.0/TCGA-OL-A5RX-01Z-00-DX1.15A0D4F4-2744-4D44-8883-27FF83D9C824.svs\n",
      "\u001b[KTotal Processed: 4719  Newly Processed: 0 Dup Slides or Already Loaded: 4689  RESCANNED Slides 27"
     ]
    },
    {
     "name": "stderr",
     "output_type": "stream",
     "text": [
      " ()\n",
      "Verify failed with:"
     ]
    },
    {
     "name": "stdout",
     "output_type": "stream",
     "text": [
      "Openslide returned an error om tje StandardError block /TCGA_MIRROR/tcga-data.nci.nih.gov/tcgafiles/ftp_auth/distro_ftpusers/anonymous/tumor/brca/bcr/nationwidechildrens.org/diagnostic_images/slide_images/nationwidechildrens.org_BRCA.diagnostic_images.Level_1.296.5.0/TCGA-OL-A5RV-01Z-00-DX1.920AC243-1DAC-4854-BEB6-1CBCC950F26B.svs\n",
      "SHIT IT DIED!\n",
      "insert into `corrupt_or_unreadable_svs_files` (full_file_name,filesize) Values ('/TCGA_MIRROR/tcga-data.nci.nih.gov/tcgafiles/ftp_auth/distro_ftpusers/anonymous/tumor/brca/bcr/nationwidechildrens.org/diagnostic_images/slide_images/nationwidechildrens.org_BRCA.diagnostic_images.Level_1.296.5.0/TCGA-OL-A5RV-01Z-00-DX1.920AC243-1DAC-4854-BEB6-1CBCC950F26B.svs',71912702) \n",
      "UNABLE TO OPEN FILE?? /TCGA_MIRROR/tcga-data.nci.nih.gov/tcgafiles/ftp_auth/distro_ftpusers/anonymous/tumor/brca/bcr/nationwidechildrens.org/diagnostic_images/slide_images/nationwidechildrens.org_BRCA.diagnostic_images.Level_1.296.5.0/TCGA-OL-A5RV-01Z-00-DX1.920AC243-1DAC-4854-BEB6-1CBCC950F26B.svs\n",
      "\u001b[KTotal Processed: 4721  Newly Processed: 0 Dup Slides or Already Loaded: 4690  RESCANNED Slides 27"
     ]
    },
    {
     "name": "stderr",
     "output_type": "stream",
     "text": [
      " ()\n",
      "Verify failed with:"
     ]
    },
    {
     "name": "stdout",
     "output_type": "stream",
     "text": [
      "Openslide returned an error om tje StandardError block /TCGA_MIRROR/tcga-data.nci.nih.gov/tcgafiles/ftp_auth/distro_ftpusers/anonymous/tumor/brca/bcr/nationwidechildrens.org/diagnostic_images/slide_images/nationwidechildrens.org_BRCA.diagnostic_images.Level_1.296.5.0/TCGA-OL-A5RY-01Z-00-DX1.AE4E9D74-FC1C-4C1E-AE6D-5DF38899BBA6.svs\n",
      "SHIT IT DIED!\n",
      "insert into `corrupt_or_unreadable_svs_files` (full_file_name,filesize) Values ('/TCGA_MIRROR/tcga-data.nci.nih.gov/tcgafiles/ftp_auth/distro_ftpusers/anonymous/tumor/brca/bcr/nationwidechildrens.org/diagnostic_images/slide_images/nationwidechildrens.org_BRCA.diagnostic_images.Level_1.296.5.0/TCGA-OL-A5RY-01Z-00-DX1.AE4E9D74-FC1C-4C1E-AE6D-5DF38899BBA6.svs',70088074) \n",
      "UNABLE TO OPEN FILE?? /TCGA_MIRROR/tcga-data.nci.nih.gov/tcgafiles/ftp_auth/distro_ftpusers/anonymous/tumor/brca/bcr/nationwidechildrens.org/diagnostic_images/slide_images/nationwidechildrens.org_BRCA.diagnostic_images.Level_1.296.5.0/TCGA-OL-A5RY-01Z-00-DX1.AE4E9D74-FC1C-4C1E-AE6D-5DF38899BBA6.svs\n",
      "\u001b[KTotal Processed: 4723  Newly Processed: 0 Dup Slides or Already Loaded: 4691  RESCANNED Slides 27"
     ]
    },
    {
     "name": "stderr",
     "output_type": "stream",
     "text": [
      " ()\n",
      "Verify failed with:"
     ]
    },
    {
     "name": "stdout",
     "output_type": "stream",
     "text": [
      "Openslide returned an error om tje StandardError block /TCGA_MIRROR/tcga-data.nci.nih.gov/tcgafiles/ftp_auth/distro_ftpusers/anonymous/tumor/brca/bcr/nationwidechildrens.org/diagnostic_images/slide_images/nationwidechildrens.org_BRCA.diagnostic_images.Level_1.296.5.0/TCGA-OL-A5RU-01Z-00-DX1.A48CAF2D-9310-4611-B27D-400F3A324607.svs\n",
      "SHIT IT DIED!\n",
      "insert into `corrupt_or_unreadable_svs_files` (full_file_name,filesize) Values ('/TCGA_MIRROR/tcga-data.nci.nih.gov/tcgafiles/ftp_auth/distro_ftpusers/anonymous/tumor/brca/bcr/nationwidechildrens.org/diagnostic_images/slide_images/nationwidechildrens.org_BRCA.diagnostic_images.Level_1.296.5.0/TCGA-OL-A5RU-01Z-00-DX1.A48CAF2D-9310-4611-B27D-400F3A324607.svs',56349850) \n",
      "UNABLE TO OPEN FILE?? /TCGA_MIRROR/tcga-data.nci.nih.gov/tcgafiles/ftp_auth/distro_ftpusers/anonymous/tumor/brca/bcr/nationwidechildrens.org/diagnostic_images/slide_images/nationwidechildrens.org_BRCA.diagnostic_images.Level_1.296.5.0/TCGA-OL-A5RU-01Z-00-DX1.A48CAF2D-9310-4611-B27D-400F3A324607.svs\n",
      "\r",
      "\u001b[KTotal Processed: 4724  Newly Processed: 0 Dup Slides or Already Loaded: 4691  RESCANNED Slides 27"
     ]
    },
    {
     "name": "stderr",
     "output_type": "stream",
     "text": [
      " ()\n",
      "Verify failed with:"
     ]
    },
    {
     "name": "stdout",
     "output_type": "stream",
     "text": [
      "Openslide returned an error om tje StandardError block /TCGA_MIRROR/tcga-data.nci.nih.gov/tcgafiles/ftp_auth/distro_ftpusers/anonymous/tumor/brca/bcr/nationwidechildrens.org/diagnostic_images/slide_images/nationwidechildrens.org_BRCA.diagnostic_images.Level_1.296.5.0/TCGA-OL-A5RZ-01Z-00-DX1.6394C05E-1C34-4F4B-8859-F5E961E7EFF9.svs\n",
      "SHIT IT DIED!\n",
      "insert into `corrupt_or_unreadable_svs_files` (full_file_name,filesize) Values ('/TCGA_MIRROR/tcga-data.nci.nih.gov/tcgafiles/ftp_auth/distro_ftpusers/anonymous/tumor/brca/bcr/nationwidechildrens.org/diagnostic_images/slide_images/nationwidechildrens.org_BRCA.diagnostic_images.Level_1.296.5.0/TCGA-OL-A5RZ-01Z-00-DX1.6394C05E-1C34-4F4B-8859-F5E961E7EFF9.svs',41071550) \n",
      "UNABLE TO OPEN FILE?? /TCGA_MIRROR/tcga-data.nci.nih.gov/tcgafiles/ftp_auth/distro_ftpusers/anonymous/tumor/brca/bcr/nationwidechildrens.org/diagnostic_images/slide_images/nationwidechildrens.org_BRCA.diagnostic_images.Level_1.296.5.0/TCGA-OL-A5RZ-01Z-00-DX1.6394C05E-1C34-4F4B-8859-F5E961E7EFF9.svs\n",
      "\u001b[KTotal Processed: 5657  Newly Processed: 0 Dup Slides or Already Loaded: 5623  RESCANNED Slides 27"
     ]
    },
    {
     "name": "stderr",
     "output_type": "stream",
     "text": [
      " ()\n",
      "Verify failed with:"
     ]
    },
    {
     "name": "stdout",
     "output_type": "stream",
     "text": [
      "Openslide returned an error om tje StandardError block /TCGA_MIRROR/tcga-data.nci.nih.gov/tcgafiles/ftp_auth/distro_ftpusers/anonymous/tumor/brca/bcr/nationwidechildrens.org/tissue_images/slide_images/nationwidechildrens.org_BRCA.tissue_images.Level_1.47.6.0/TCGA-A8-A06U-01A-01-TS1.63824040-373f-4c6c-a74e-881c127567a6.svs\n",
      "SHIT IT DIED!\n",
      "insert into `corrupt_or_unreadable_svs_files` (full_file_name,filesize) Values ('/TCGA_MIRROR/tcga-data.nci.nih.gov/tcgafiles/ftp_auth/distro_ftpusers/anonymous/tumor/brca/bcr/nationwidechildrens.org/tissue_images/slide_images/nationwidechildrens.org_BRCA.tissue_images.Level_1.47.6.0/TCGA-A8-A06U-01A-01-TS1.63824040-373f-4c6c-a74e-881c127567a6.svs',9876408) \n",
      "UNABLE TO OPEN FILE?? /TCGA_MIRROR/tcga-data.nci.nih.gov/tcgafiles/ftp_auth/distro_ftpusers/anonymous/tumor/brca/bcr/nationwidechildrens.org/tissue_images/slide_images/nationwidechildrens.org_BRCA.tissue_images.Level_1.47.6.0/TCGA-A8-A06U-01A-01-TS1.63824040-373f-4c6c-a74e-881c127567a6.svs\n",
      "\u001b[KTotal Processed: 7310  Newly Processed: 0 Dup Slides or Already Loaded: 7267  RESCANNED Slides 35"
     ]
    },
    {
     "name": "stderr",
     "output_type": "stream",
     "text": [
      " ()\n",
      "Verify failed with:"
     ]
    },
    {
     "name": "stdout",
     "output_type": "stream",
     "text": [
      "Openslide returned an error om tje StandardError block /TCGA_MIRROR/tcga-data.nci.nih.gov/tcgafiles/ftp_auth/distro_ftpusers/anonymous/tumor/brca/bcr/nationwidechildrens.org/tissue_images/slide_images/nationwidechildrens.org_BRCA.tissue_images.Level_1.47.4.0/TCGA-A8-A06U-01A-01-TS1.svs\n",
      "SHIT IT DIED!\n",
      "insert into `corrupt_or_unreadable_svs_files` (full_file_name,filesize) Values ('/TCGA_MIRROR/tcga-data.nci.nih.gov/tcgafiles/ftp_auth/distro_ftpusers/anonymous/tumor/brca/bcr/nationwidechildrens.org/tissue_images/slide_images/nationwidechildrens.org_BRCA.tissue_images.Level_1.47.4.0/TCGA-A8-A06U-01A-01-TS1.svs',9876408) \n",
      "UNABLE TO OPEN FILE?? /TCGA_MIRROR/tcga-data.nci.nih.gov/tcgafiles/ftp_auth/distro_ftpusers/anonymous/tumor/brca/bcr/nationwidechildrens.org/tissue_images/slide_images/nationwidechildrens.org_BRCA.tissue_images.Level_1.47.4.0/TCGA-A8-A06U-01A-01-TS1.svs\n",
      "\u001b[KTotal Processed: 9343  Newly Processed: 0 Dup Slides or Already Loaded: 9283  RESCANNED Slides 51"
     ]
    },
    {
     "name": "stderr",
     "output_type": "stream",
     "text": [
      " ()\n",
      "Verify failed with:"
     ]
    },
    {
     "name": "stdout",
     "output_type": "stream",
     "text": [
      "Openslide returned an error om tje StandardError block /TCGA_MIRROR/tcga-data.nci.nih.gov/tcgafiles/ftp_auth/distro_ftpusers/anonymous/tumor/brca/bcr/nationwidechildrens.org/tissue_images/slide_images/nationwidechildrens.org_BRCA.tissue_images.Level_1.47.7.0/TCGA-A8-A06U-01A-01-TS1.63824040-373f-4c6c-a74e-881c127567a6.svs\n",
      "SHIT IT DIED!\n",
      "insert into `corrupt_or_unreadable_svs_files` (full_file_name,filesize) Values ('/TCGA_MIRROR/tcga-data.nci.nih.gov/tcgafiles/ftp_auth/distro_ftpusers/anonymous/tumor/brca/bcr/nationwidechildrens.org/tissue_images/slide_images/nationwidechildrens.org_BRCA.tissue_images.Level_1.47.7.0/TCGA-A8-A06U-01A-01-TS1.63824040-373f-4c6c-a74e-881c127567a6.svs',9876408) \n",
      "UNABLE TO OPEN FILE?? /TCGA_MIRROR/tcga-data.nci.nih.gov/tcgafiles/ftp_auth/distro_ftpusers/anonymous/tumor/brca/bcr/nationwidechildrens.org/tissue_images/slide_images/nationwidechildrens.org_BRCA.tissue_images.Level_1.47.7.0/TCGA-A8-A06U-01A-01-TS1.63824040-373f-4c6c-a74e-881c127567a6.svs\n",
      "\u001b[KTotal Processed: 9562  Newly Processed: 0 Dup Slides or Already Loaded: 9499  RESCANNED Slides 53"
     ]
    },
    {
     "name": "stderr",
     "output_type": "stream",
     "text": [
      " ()\n",
      "Verify failed with:"
     ]
    },
    {
     "name": "stdout",
     "output_type": "stream",
     "text": [
      "Openslide returned an error om tje StandardError block /TCGA_MIRROR/tcga-data.nci.nih.gov/tcgafiles/ftp_auth/distro_ftpusers/anonymous/tumor/brca/bcr/nationwidechildrens.org/tissue_images/slide_images/nationwidechildrens.org_BRCA.tissue_images.Level_1.47.8.0/TCGA-A8-A06U-01A-01-TS1.63824040-373f-4c6c-a74e-881c127567a6.svs\n",
      "SHIT IT DIED!\n",
      "insert into `corrupt_or_unreadable_svs_files` (full_file_name,filesize) Values ('/TCGA_MIRROR/tcga-data.nci.nih.gov/tcgafiles/ftp_auth/distro_ftpusers/anonymous/tumor/brca/bcr/nationwidechildrens.org/tissue_images/slide_images/nationwidechildrens.org_BRCA.tissue_images.Level_1.47.8.0/TCGA-A8-A06U-01A-01-TS1.63824040-373f-4c6c-a74e-881c127567a6.svs',9876408) \n",
      "UNABLE TO OPEN FILE?? /TCGA_MIRROR/tcga-data.nci.nih.gov/tcgafiles/ftp_auth/distro_ftpusers/anonymous/tumor/brca/bcr/nationwidechildrens.org/tissue_images/slide_images/nationwidechildrens.org_BRCA.tissue_images.Level_1.47.8.0/TCGA-A8-A06U-01A-01-TS1.63824040-373f-4c6c-a74e-881c127567a6.svs\n",
      "\u001b[KTotal Processed: 11337  Newly Processed: 0 Dup Slides or Already Loaded: 11271  RESCANNED Slides 55"
     ]
    },
    {
     "name": "stderr",
     "output_type": "stream",
     "text": [
      " ()\n",
      "Verify failed with:"
     ]
    },
    {
     "name": "stdout",
     "output_type": "stream",
     "text": [
      "Openslide returned an error om tje StandardError block /TCGA_MIRROR/tcga-data.nci.nih.gov/tcgafiles/ftp_auth/distro_ftpusers/anonymous/tumor/brca/bcr/nationwidechildrens.org/tissue_images/slide_images/nationwidechildrens.org_BRCA.tissue_images.Level_1.47.5.0/TCGA-A8-A06U-01A-01-TS1.63824040-373f-4c6c-a74e-881c127567a6.svs\n",
      "SHIT IT DIED!\n",
      "insert into `corrupt_or_unreadable_svs_files` (full_file_name,filesize) Values ('/TCGA_MIRROR/tcga-data.nci.nih.gov/tcgafiles/ftp_auth/distro_ftpusers/anonymous/tumor/brca/bcr/nationwidechildrens.org/tissue_images/slide_images/nationwidechildrens.org_BRCA.tissue_images.Level_1.47.5.0/TCGA-A8-A06U-01A-01-TS1.63824040-373f-4c6c-a74e-881c127567a6.svs',9876408) \n",
      "UNABLE TO OPEN FILE?? /TCGA_MIRROR/tcga-data.nci.nih.gov/tcgafiles/ftp_auth/distro_ftpusers/anonymous/tumor/brca/bcr/nationwidechildrens.org/tissue_images/slide_images/nationwidechildrens.org_BRCA.tissue_images.Level_1.47.5.0/TCGA-A8-A06U-01A-01-TS1.63824040-373f-4c6c-a74e-881c127567a6.svs\n",
      "\u001b[KTotal Processed: 11458  Newly Processed: 0 Dup Slides or Already Loaded: 11391  RESCANNED Slides 55"
     ]
    },
    {
     "name": "stderr",
     "output_type": "stream",
     "text": [
      " ()\n",
      "/home/dagutman/Envs/dsa-tools/local/lib/python2.7/site-packages/PIL/Image.py:2261: DecompressionBombWarning: Image size (3141324174 pixels) exceeds limit of 89478485 pixels, could be decompression bomb DOS attack.\n",
      "  DecompressionBombWarning)\n"
     ]
    },
    {
     "name": "stdout",
     "output_type": "stream",
     "text": [
      "Openslide returned an error om tje StandardError block /TCGA_MIRROR/tcga-data.nci.nih.gov/tcgafiles/ftp_auth/distro_ftpusers/anonymous/tumor/brca/bcr/nationwidechildrens.org/tissue_images/slide_images/nationwidechildrens.org_BRCA.tissue_images.Level_1.96.1.0/TCGA-AR-A1AI-01A-01-TSA.svs\n",
      "SHIT IT DIED!\n",
      "insert into `corrupt_or_unreadable_svs_files` (full_file_name,filesize) Values ('/TCGA_MIRROR/tcga-data.nci.nih.gov/tcgafiles/ftp_auth/distro_ftpusers/anonymous/tumor/brca/bcr/nationwidechildrens.org/tissue_images/slide_images/nationwidechildrens.org_BRCA.tissue_images.Level_1.96.1.0/TCGA-AR-A1AI-01A-01-TSA.svs',348765761) \n",
      "UNABLE TO OPEN FILE?? /TCGA_MIRROR/tcga-data.nci.nih.gov/tcgafiles/ftp_auth/distro_ftpusers/anonymous/tumor/brca/bcr/nationwidechildrens.org/tissue_images/slide_images/nationwidechildrens.org_BRCA.tissue_images.Level_1.96.1.0/TCGA-AR-A1AI-01A-01-TSA.svs\n",
      "\u001b[KTotal Processed: 12249  Newly Processed: 0 Dup Slides or Already Loaded: 12173  RESCANNED Slides 63"
     ]
    },
    {
     "name": "stderr",
     "output_type": "stream",
     "text": [
      "Verify failed with: ('aperio.AppMag',)\n",
      "Verify failed with:"
     ]
    },
    {
     "name": "stdout",
     "output_type": "stream",
     "text": [
      "Openslide returned an error om tje StandardError block /TCGA_MIRROR/tcga-data.nci.nih.gov/tcgafiles/ftp_auth/distro_ftpusers/anonymous/tumor/brca/bcr/nationwidechildrens.org/tissue_images/slide_images/nationwidechildrens.org_BRCA.tissue_images.Level_1.96.0.0/TCGA-AR-A1AI-01A-01-TSA.svs\n",
      "SHIT IT DIED!\n",
      "insert into `corrupt_or_unreadable_svs_files` (full_file_name,filesize) Values ('/TCGA_MIRROR/tcga-data.nci.nih.gov/tcgafiles/ftp_auth/distro_ftpusers/anonymous/tumor/brca/bcr/nationwidechildrens.org/tissue_images/slide_images/nationwidechildrens.org_BRCA.tissue_images.Level_1.96.0.0/TCGA-AR-A1AI-01A-01-TSA.svs',348765761) \n",
      "UNABLE TO OPEN FILE?? /TCGA_MIRROR/tcga-data.nci.nih.gov/tcgafiles/ftp_auth/distro_ftpusers/anonymous/tumor/brca/bcr/nationwidechildrens.org/tissue_images/slide_images/nationwidechildrens.org_BRCA.tissue_images.Level_1.96.0.0/TCGA-AR-A1AI-01A-01-TSA.svs\n",
      "\u001b[KTotal Processed: 12698  Newly Processed: 0 Dup Slides or Already Loaded: 12621  RESCANNED Slides 63/TCGA_MIRROR/tcga-data.nci.nih.gov/tcgafiles/ftp_auth/distro_ftpusers/anonymous/tumor/\n",
      "\u001b[KTotal Processed: 2738  Newly Processed: 0 Dup Slides or Already Loaded: 2736  RESCANNED Slides 2/TCGA_MIRROR/tcga-data.nci.nih.gov/tcgafiles/ftp_auth/distro_ftpusers/anonymous/tumor/\n",
      "\u001b[KTotal Processed: 863  Newly Processed: 0 Dup Slides or Already Loaded: 863  RESCANNED Slides 0"
     ]
    },
    {
     "name": "stderr",
     "output_type": "stream",
     "text": [
      " ('aperio.AppMag',)\n",
      "Verify failed with:"
     ]
    },
    {
     "name": "stdout",
     "output_type": "stream",
     "text": [
      "Openslide returned an error om tje StandardError block /TCGA_MIRROR/tcga-data.nci.nih.gov/tcgafiles/ftp_auth/distro_ftpusers/anonymous/tumor/kirp/bcr/nationwidechildrens.org/diagnostic_images/slide_images/nationwidechildrens.org_KIRP.diagnostic_images.Level_1.432.2.0/TCGA-UZ-A9PQ-01Z-00-DX1.C2CB0E94-2548-4399-BCAB-E4D556D533EF.svs\n",
      "SHIT IT DIED!\n",
      "insert into `corrupt_or_unreadable_svs_files` (full_file_name,filesize) Values ('/TCGA_MIRROR/tcga-data.nci.nih.gov/tcgafiles/ftp_auth/distro_ftpusers/anonymous/tumor/kirp/bcr/nationwidechildrens.org/diagnostic_images/slide_images/nationwidechildrens.org_KIRP.diagnostic_images.Level_1.432.2.0/TCGA-UZ-A9PQ-01Z-00-DX1.C2CB0E94-2548-4399-BCAB-E4D556D533EF.svs',1027488688) \n",
      "UNABLE TO OPEN FILE?? /TCGA_MIRROR/tcga-data.nci.nih.gov/tcgafiles/ftp_auth/distro_ftpusers/anonymous/tumor/kirp/bcr/nationwidechildrens.org/diagnostic_images/slide_images/nationwidechildrens.org_KIRP.diagnostic_images.Level_1.432.2.0/TCGA-UZ-A9PQ-01Z-00-DX1.C2CB0E94-2548-4399-BCAB-E4D556D533EF.svs\n",
      "\u001b[KTotal Processed: 1078  Newly Processed: 0 Dup Slides or Already Loaded: 1077  RESCANNED Slides 0"
     ]
    },
    {
     "name": "stderr",
     "output_type": "stream",
     "text": [
      " ()\n",
      "Verify failed with:"
     ]
    },
    {
     "name": "stdout",
     "output_type": "stream",
     "text": [
      "Openslide returned an error om tje StandardError block /TCGA_MIRROR/tcga-data.nci.nih.gov/tcgafiles/ftp_auth/distro_ftpusers/anonymous/tumor/kirp/bcr/nationwidechildrens.org/diagnostic_images/slide_images/nationwidechildrens.org_KIRP.diagnostic_images.Level_1.432.4.0/TCGA-UZ-A9PQ-01Z-00-DX1.C2CB0E94-2548-4399-BCAB-E4D556D533EF.svs\n",
      "SHIT IT DIED!\n",
      "insert into `corrupt_or_unreadable_svs_files` (full_file_name,filesize) Values ('/TCGA_MIRROR/tcga-data.nci.nih.gov/tcgafiles/ftp_auth/distro_ftpusers/anonymous/tumor/kirp/bcr/nationwidechildrens.org/diagnostic_images/slide_images/nationwidechildrens.org_KIRP.diagnostic_images.Level_1.432.4.0/TCGA-UZ-A9PQ-01Z-00-DX1.C2CB0E94-2548-4399-BCAB-E4D556D533EF.svs',1027488688) \n",
      "UNABLE TO OPEN FILE?? /TCGA_MIRROR/tcga-data.nci.nih.gov/tcgafiles/ftp_auth/distro_ftpusers/anonymous/tumor/kirp/bcr/nationwidechildrens.org/diagnostic_images/slide_images/nationwidechildrens.org_KIRP.diagnostic_images.Level_1.432.4.0/TCGA-UZ-A9PQ-01Z-00-DX1.C2CB0E94-2548-4399-BCAB-E4D556D533EF.svs\n",
      "\u001b[KTotal Processed: 1222  Newly Processed: 0 Dup Slides or Already Loaded: 1220  RESCANNED Slides 0"
     ]
    },
    {
     "name": "stderr",
     "output_type": "stream",
     "text": [
      " ()\n",
      "Verify failed with:"
     ]
    },
    {
     "name": "stdout",
     "output_type": "stream",
     "text": [
      "Openslide returned an error om tje StandardError block /TCGA_MIRROR/tcga-data.nci.nih.gov/tcgafiles/ftp_auth/distro_ftpusers/anonymous/tumor/kirp/bcr/nationwidechildrens.org/diagnostic_images/slide_images/nationwidechildrens.org_KIRP.diagnostic_images.Level_1.432.3.0/TCGA-UZ-A9PQ-01Z-00-DX1.C2CB0E94-2548-4399-BCAB-E4D556D533EF.svs\n",
      "SHIT IT DIED!\n",
      "insert into `corrupt_or_unreadable_svs_files` (full_file_name,filesize) Values ('/TCGA_MIRROR/tcga-data.nci.nih.gov/tcgafiles/ftp_auth/distro_ftpusers/anonymous/tumor/kirp/bcr/nationwidechildrens.org/diagnostic_images/slide_images/nationwidechildrens.org_KIRP.diagnostic_images.Level_1.432.3.0/TCGA-UZ-A9PQ-01Z-00-DX1.C2CB0E94-2548-4399-BCAB-E4D556D533EF.svs',1027488688) \n",
      "UNABLE TO OPEN FILE?? /TCGA_MIRROR/tcga-data.nci.nih.gov/tcgafiles/ftp_auth/distro_ftpusers/anonymous/tumor/kirp/bcr/nationwidechildrens.org/diagnostic_images/slide_images/nationwidechildrens.org_KIRP.diagnostic_images.Level_1.432.3.0/TCGA-UZ-A9PQ-01Z-00-DX1.C2CB0E94-2548-4399-BCAB-E4D556D533EF.svs\n",
      "\u001b[KTotal Processed: 1410  Newly Processed: 0 Dup Slides or Already Loaded: 1407  RESCANNED Slides 0"
     ]
    },
    {
     "name": "stderr",
     "output_type": "stream",
     "text": [
      " ()\n",
      "Verify failed with:"
     ]
    },
    {
     "name": "stdout",
     "output_type": "stream",
     "text": [
      "Openslide returned an error om tje StandardError block /TCGA_MIRROR/tcga-data.nci.nih.gov/tcgafiles/ftp_auth/distro_ftpusers/anonymous/tumor/kirp/bcr/nationwidechildrens.org/diagnostic_images/slide_images/nationwidechildrens.org_KIRP.diagnostic_images.Level_1.432.1.0/TCGA-UZ-A9PQ-01Z-00-DX1.C2CB0E94-2548-4399-BCAB-E4D556D533EF.svs\n",
      "SHIT IT DIED!\n",
      "insert into `corrupt_or_unreadable_svs_files` (full_file_name,filesize) Values ('/TCGA_MIRROR/tcga-data.nci.nih.gov/tcgafiles/ftp_auth/distro_ftpusers/anonymous/tumor/kirp/bcr/nationwidechildrens.org/diagnostic_images/slide_images/nationwidechildrens.org_KIRP.diagnostic_images.Level_1.432.1.0/TCGA-UZ-A9PQ-01Z-00-DX1.C2CB0E94-2548-4399-BCAB-E4D556D533EF.svs',1027488688) \n",
      "UNABLE TO OPEN FILE?? /TCGA_MIRROR/tcga-data.nci.nih.gov/tcgafiles/ftp_auth/distro_ftpusers/anonymous/tumor/kirp/bcr/nationwidechildrens.org/diagnostic_images/slide_images/nationwidechildrens.org_KIRP.diagnostic_images.Level_1.432.1.0/TCGA-UZ-A9PQ-01Z-00-DX1.C2CB0E94-2548-4399-BCAB-E4D556D533EF.svs\n",
      "\u001b[KTotal Processed: 1456  Newly Processed: 0 Dup Slides or Already Loaded: 1452  RESCANNED Slides 0"
     ]
    },
    {
     "name": "stderr",
     "output_type": "stream",
     "text": [
      " ()\n",
      "Verify failed with:"
     ]
    },
    {
     "name": "stdout",
     "output_type": "stream",
     "text": [
      "Openslide returned an error om tje StandardError block /TCGA_MIRROR/tcga-data.nci.nih.gov/tcgafiles/ftp_auth/distro_ftpusers/anonymous/tumor/kirp/bcr/nationwidechildrens.org/diagnostic_images/slide_images/nationwidechildrens.org_KIRP.diagnostic_images.Level_1.432.0.0/TCGA-UZ-A9PQ-01Z-00-DX1.C2CB0E94-2548-4399-BCAB-E4D556D533EF.svs\n",
      "SHIT IT DIED!\n",
      "insert into `corrupt_or_unreadable_svs_files` (full_file_name,filesize) Values ('/TCGA_MIRROR/tcga-data.nci.nih.gov/tcgafiles/ftp_auth/distro_ftpusers/anonymous/tumor/kirp/bcr/nationwidechildrens.org/diagnostic_images/slide_images/nationwidechildrens.org_KIRP.diagnostic_images.Level_1.432.0.0/TCGA-UZ-A9PQ-01Z-00-DX1.C2CB0E94-2548-4399-BCAB-E4D556D533EF.svs',1027488688) \n",
      "UNABLE TO OPEN FILE?? /TCGA_MIRROR/tcga-data.nci.nih.gov/tcgafiles/ftp_auth/distro_ftpusers/anonymous/tumor/kirp/bcr/nationwidechildrens.org/diagnostic_images/slide_images/nationwidechildrens.org_KIRP.diagnostic_images.Level_1.432.0.0/TCGA-UZ-A9PQ-01Z-00-DX1.C2CB0E94-2548-4399-BCAB-E4D556D533EF.svs\n",
      "\u001b[KTotal Processed: 2284  Newly Processed: 0 Dup Slides or Already Loaded: 2279  RESCANNED Slides 0/TCGA_MIRROR/tcga-data.nci.nih.gov/tcgafiles/ftp_auth/distro_ftpusers/anonymous/tumor/\n",
      "\u001b[KTotal Processed: 119  Newly Processed: 0 Dup Slides or Already Loaded: 119  RESCANNED Slides 0"
     ]
    },
    {
     "name": "stderr",
     "output_type": "stream",
     "text": [
      " ()\n",
      "Verify failed with:"
     ]
    },
    {
     "name": "stdout",
     "output_type": "stream",
     "text": [
      "Openslide returned an error om tje StandardError block /TCGA_MIRROR/tcga-data.nci.nih.gov/tcgafiles/ftp_auth/distro_ftpusers/anonymous/tumor/thym/bcr/nationwidechildrens.org/diagnostic_images/slide_images/nationwidechildrens.org_THYM.diagnostic_images.Level_1.431.4.0/TCGA-4X-A9F9-01Z-00-DXD.ED7DB698-C766-4E84-816A-1DAF551BC67F.svs\n",
      "SHIT IT DIED!\n",
      "insert into `corrupt_or_unreadable_svs_files` (full_file_name,filesize) Values ('/TCGA_MIRROR/tcga-data.nci.nih.gov/tcgafiles/ftp_auth/distro_ftpusers/anonymous/tumor/thym/bcr/nationwidechildrens.org/diagnostic_images/slide_images/nationwidechildrens.org_THYM.diagnostic_images.Level_1.431.4.0/TCGA-4X-A9F9-01Z-00-DXD.ED7DB698-C766-4E84-816A-1DAF551BC67F.svs',906403594) \n",
      "UNABLE TO OPEN FILE?? /TCGA_MIRROR/tcga-data.nci.nih.gov/tcgafiles/ftp_auth/distro_ftpusers/anonymous/tumor/thym/bcr/nationwidechildrens.org/diagnostic_images/slide_images/nationwidechildrens.org_THYM.diagnostic_images.Level_1.431.4.0/TCGA-4X-A9F9-01Z-00-DXD.ED7DB698-C766-4E84-816A-1DAF551BC67F.svs\n",
      "\u001b[KTotal Processed: 269  Newly Processed: 0 Dup Slides or Already Loaded: 267  RESCANNED Slides 1"
     ]
    },
    {
     "name": "stderr",
     "output_type": "stream",
     "text": [
      " ()\n",
      "Verify failed with:"
     ]
    },
    {
     "name": "stdout",
     "output_type": "stream",
     "text": [
      "Openslide returned an error om tje StandardError block /TCGA_MIRROR/tcga-data.nci.nih.gov/tcgafiles/ftp_auth/distro_ftpusers/anonymous/tumor/thym/bcr/nationwidechildrens.org/diagnostic_images/slide_images/nationwidechildrens.org_THYM.diagnostic_images.Level_1.431.6.0/TCGA-4X-A9F9-01Z-00-DXD.ED7DB698-C766-4E84-816A-1DAF551BC67F.svs\n",
      "SHIT IT DIED!\n",
      "insert into `corrupt_or_unreadable_svs_files` (full_file_name,filesize) Values ('/TCGA_MIRROR/tcga-data.nci.nih.gov/tcgafiles/ftp_auth/distro_ftpusers/anonymous/tumor/thym/bcr/nationwidechildrens.org/diagnostic_images/slide_images/nationwidechildrens.org_THYM.diagnostic_images.Level_1.431.6.0/TCGA-4X-A9F9-01Z-00-DXD.ED7DB698-C766-4E84-816A-1DAF551BC67F.svs',906403594) \n",
      "UNABLE TO OPEN FILE?? /TCGA_MIRROR/tcga-data.nci.nih.gov/tcgafiles/ftp_auth/distro_ftpusers/anonymous/tumor/thym/bcr/nationwidechildrens.org/diagnostic_images/slide_images/nationwidechildrens.org_THYM.diagnostic_images.Level_1.431.6.0/TCGA-4X-A9F9-01Z-00-DXD.ED7DB698-C766-4E84-816A-1DAF551BC67F.svs\n",
      "\u001b[KTotal Processed: 463  Newly Processed: 0 Dup Slides or Already Loaded: 460  RESCANNED Slides 1"
     ]
    },
    {
     "name": "stderr",
     "output_type": "stream",
     "text": [
      " ()\n",
      "Verify failed with:"
     ]
    },
    {
     "name": "stdout",
     "output_type": "stream",
     "text": [
      "Openslide returned an error om tje StandardError block /TCGA_MIRROR/tcga-data.nci.nih.gov/tcgafiles/ftp_auth/distro_ftpusers/anonymous/tumor/thym/bcr/nationwidechildrens.org/diagnostic_images/slide_images/nationwidechildrens.org_THYM.diagnostic_images.Level_1.431.5.0/TCGA-4X-A9F9-01Z-00-DXD.ED7DB698-C766-4E84-816A-1DAF551BC67F.svs\n",
      "SHIT IT DIED!\n",
      "insert into `corrupt_or_unreadable_svs_files` (full_file_name,filesize) Values ('/TCGA_MIRROR/tcga-data.nci.nih.gov/tcgafiles/ftp_auth/distro_ftpusers/anonymous/tumor/thym/bcr/nationwidechildrens.org/diagnostic_images/slide_images/nationwidechildrens.org_THYM.diagnostic_images.Level_1.431.5.0/TCGA-4X-A9F9-01Z-00-DXD.ED7DB698-C766-4E84-816A-1DAF551BC67F.svs',906403594) \n",
      "UNABLE TO OPEN FILE?? /TCGA_MIRROR/tcga-data.nci.nih.gov/tcgafiles/ftp_auth/distro_ftpusers/anonymous/tumor/thym/bcr/nationwidechildrens.org/diagnostic_images/slide_images/nationwidechildrens.org_THYM.diagnostic_images.Level_1.431.5.0/TCGA-4X-A9F9-01Z-00-DXD.ED7DB698-C766-4E84-816A-1DAF551BC67F.svs\n",
      "\u001b[KTotal Processed: 614  Newly Processed: 0 Dup Slides or Already Loaded: 610  RESCANNED Slides 1"
     ]
    },
    {
     "name": "stderr",
     "output_type": "stream",
     "text": [
      " ()\n",
      "Verify failed with:"
     ]
    },
    {
     "name": "stdout",
     "output_type": "stream",
     "text": [
      "Openslide returned an error om tje StandardError block /TCGA_MIRROR/tcga-data.nci.nih.gov/tcgafiles/ftp_auth/distro_ftpusers/anonymous/tumor/thym/bcr/nationwidechildrens.org/diagnostic_images/slide_images/nationwidechildrens.org_THYM.diagnostic_images.Level_1.431.7.0/TCGA-4X-A9F9-01Z-00-DXD.ED7DB698-C766-4E84-816A-1DAF551BC67F.svs\n",
      "SHIT IT DIED!\n",
      "insert into `corrupt_or_unreadable_svs_files` (full_file_name,filesize) Values ('/TCGA_MIRROR/tcga-data.nci.nih.gov/tcgafiles/ftp_auth/distro_ftpusers/anonymous/tumor/thym/bcr/nationwidechildrens.org/diagnostic_images/slide_images/nationwidechildrens.org_THYM.diagnostic_images.Level_1.431.7.0/TCGA-4X-A9F9-01Z-00-DXD.ED7DB698-C766-4E84-816A-1DAF551BC67F.svs',906403594) \n",
      "UNABLE TO OPEN FILE?? /TCGA_MIRROR/tcga-data.nci.nih.gov/tcgafiles/ftp_auth/distro_ftpusers/anonymous/tumor/thym/bcr/nationwidechildrens.org/diagnostic_images/slide_images/nationwidechildrens.org_THYM.diagnostic_images.Level_1.431.7.0/TCGA-4X-A9F9-01Z-00-DXD.ED7DB698-C766-4E84-816A-1DAF551BC67F.svs\n",
      "\u001b[KTotal Processed: 742  Newly Processed: 0 Dup Slides or Already Loaded: 737  RESCANNED Slides 1"
     ]
    },
    {
     "name": "stderr",
     "output_type": "stream",
     "text": [
      " ()\n",
      "Verify failed with:"
     ]
    },
    {
     "name": "stdout",
     "output_type": "stream",
     "text": [
      "Openslide returned an error om tje StandardError block /TCGA_MIRROR/tcga-data.nci.nih.gov/tcgafiles/ftp_auth/distro_ftpusers/anonymous/tumor/thym/bcr/nationwidechildrens.org/diagnostic_images/slide_images/nationwidechildrens.org_THYM.diagnostic_images.Level_1.431.3.0/TCGA-4X-A9F9-01Z-00-DXD.ED7DB698-C766-4E84-816A-1DAF551BC67F.svs\n",
      "SHIT IT DIED!\n",
      "insert into `corrupt_or_unreadable_svs_files` (full_file_name,filesize) Values ('/TCGA_MIRROR/tcga-data.nci.nih.gov/tcgafiles/ftp_auth/distro_ftpusers/anonymous/tumor/thym/bcr/nationwidechildrens.org/diagnostic_images/slide_images/nationwidechildrens.org_THYM.diagnostic_images.Level_1.431.3.0/TCGA-4X-A9F9-01Z-00-DXD.ED7DB698-C766-4E84-816A-1DAF551BC67F.svs',906403594) \n",
      "UNABLE TO OPEN FILE?? /TCGA_MIRROR/tcga-data.nci.nih.gov/tcgafiles/ftp_auth/distro_ftpusers/anonymous/tumor/thym/bcr/nationwidechildrens.org/diagnostic_images/slide_images/nationwidechildrens.org_THYM.diagnostic_images.Level_1.431.3.0/TCGA-4X-A9F9-01Z-00-DXD.ED7DB698-C766-4E84-816A-1DAF551BC67F.svs\n",
      "\u001b[KTotal Processed: 905  Newly Processed: 0 Dup Slides or Already Loaded: 899  RESCANNED Slides 1"
     ]
    },
    {
     "name": "stderr",
     "output_type": "stream",
     "text": [
      " ()\n",
      "Verify failed with:"
     ]
    },
    {
     "name": "stdout",
     "output_type": "stream",
     "text": [
      "Openslide returned an error om tje StandardError block /TCGA_MIRROR/tcga-data.nci.nih.gov/tcgafiles/ftp_auth/distro_ftpusers/anonymous/tumor/thym/bcr/nationwidechildrens.org/diagnostic_images/slide_images/nationwidechildrens.org_THYM.diagnostic_images.Level_1.431.8.0/TCGA-4X-A9F9-01Z-00-DXD.ED7DB698-C766-4E84-816A-1DAF551BC67F.svs\n",
      "SHIT IT DIED!\n",
      "insert into `corrupt_or_unreadable_svs_files` (full_file_name,filesize) Values ('/TCGA_MIRROR/tcga-data.nci.nih.gov/tcgafiles/ftp_auth/distro_ftpusers/anonymous/tumor/thym/bcr/nationwidechildrens.org/diagnostic_images/slide_images/nationwidechildrens.org_THYM.diagnostic_images.Level_1.431.8.0/TCGA-4X-A9F9-01Z-00-DXD.ED7DB698-C766-4E84-816A-1DAF551BC67F.svs',906403594) \n",
      "UNABLE TO OPEN FILE?? /TCGA_MIRROR/tcga-data.nci.nih.gov/tcgafiles/ftp_auth/distro_ftpusers/anonymous/tumor/thym/bcr/nationwidechildrens.org/diagnostic_images/slide_images/nationwidechildrens.org_THYM.diagnostic_images.Level_1.431.8.0/TCGA-4X-A9F9-01Z-00-DXD.ED7DB698-C766-4E84-816A-1DAF551BC67F.svs\n",
      "\u001b[KTotal Processed: 1132  Newly Processed: 0 Dup Slides or Already Loaded: 1125  RESCANNED Slides 1"
     ]
    },
    {
     "name": "stderr",
     "output_type": "stream",
     "text": [
      " ()\n",
      "Verify failed with:"
     ]
    },
    {
     "name": "stdout",
     "output_type": "stream",
     "text": [
      "Openslide returned an error om tje StandardError block /TCGA_MIRROR/tcga-data.nci.nih.gov/tcgafiles/ftp_auth/distro_ftpusers/anonymous/tumor/thym/bcr/nationwidechildrens.org/diagnostic_images/slide_images/nationwidechildrens.org_THYM.diagnostic_images.Level_1.431.10.0/TCGA-4X-A9F9-01Z-00-DXD.ED7DB698-C766-4E84-816A-1DAF551BC67F.svs\n",
      "SHIT IT DIED!\n",
      "insert into `corrupt_or_unreadable_svs_files` (full_file_name,filesize) Values ('/TCGA_MIRROR/tcga-data.nci.nih.gov/tcgafiles/ftp_auth/distro_ftpusers/anonymous/tumor/thym/bcr/nationwidechildrens.org/diagnostic_images/slide_images/nationwidechildrens.org_THYM.diagnostic_images.Level_1.431.10.0/TCGA-4X-A9F9-01Z-00-DXD.ED7DB698-C766-4E84-816A-1DAF551BC67F.svs',906403594) \n",
      "UNABLE TO OPEN FILE?? /TCGA_MIRROR/tcga-data.nci.nih.gov/tcgafiles/ftp_auth/distro_ftpusers/anonymous/tumor/thym/bcr/nationwidechildrens.org/diagnostic_images/slide_images/nationwidechildrens.org_THYM.diagnostic_images.Level_1.431.10.0/TCGA-4X-A9F9-01Z-00-DXD.ED7DB698-C766-4E84-816A-1DAF551BC67F.svs\n",
      "\u001b[KTotal Processed: 1306  Newly Processed: 0 Dup Slides or Already Loaded: 1298  RESCANNED Slides 1"
     ]
    },
    {
     "name": "stderr",
     "output_type": "stream",
     "text": [
      " ()\n",
      "Verify failed with:"
     ]
    },
    {
     "name": "stdout",
     "output_type": "stream",
     "text": [
      "Openslide returned an error om tje StandardError block /TCGA_MIRROR/tcga-data.nci.nih.gov/tcgafiles/ftp_auth/distro_ftpusers/anonymous/tumor/thym/bcr/nationwidechildrens.org/diagnostic_images/slide_images/nationwidechildrens.org_THYM.diagnostic_images.Level_1.431.9.0/TCGA-4X-A9F9-01Z-00-DXD.ED7DB698-C766-4E84-816A-1DAF551BC67F.svs\n",
      "SHIT IT DIED!\n",
      "insert into `corrupt_or_unreadable_svs_files` (full_file_name,filesize) Values ('/TCGA_MIRROR/tcga-data.nci.nih.gov/tcgafiles/ftp_auth/distro_ftpusers/anonymous/tumor/thym/bcr/nationwidechildrens.org/diagnostic_images/slide_images/nationwidechildrens.org_THYM.diagnostic_images.Level_1.431.9.0/TCGA-4X-A9F9-01Z-00-DXD.ED7DB698-C766-4E84-816A-1DAF551BC67F.svs',906403594) \n",
      "UNABLE TO OPEN FILE?? /TCGA_MIRROR/tcga-data.nci.nih.gov/tcgafiles/ftp_auth/distro_ftpusers/anonymous/tumor/thym/bcr/nationwidechildrens.org/diagnostic_images/slide_images/nationwidechildrens.org_THYM.diagnostic_images.Level_1.431.9.0/TCGA-4X-A9F9-01Z-00-DXD.ED7DB698-C766-4E84-816A-1DAF551BC67F.svs\n",
      "\u001b[KTotal Processed: 1747  Newly Processed: 0 Dup Slides or Already Loaded: 1738  RESCANNED Slides 1/TCGA_MIRROR/tcga-data.nci.nih.gov/tcgafiles/ftp_auth/distro_ftpusers/anonymous/tumor/\n",
      "\u001b[KTotal Processed: 302  Newly Processed: 0 Dup Slides or Already Loaded: 302  RESCANNED Slides 0/TCGA_MIRROR/tcga-data.nci.nih.gov/tcgafiles/ftp_auth/distro_ftpusers/anonymous/tumor/\n",
      "\u001b[KTotal Processed: 786  Newly Processed: 0 Dup Slides or Already Loaded: 786  RESCANNED Slides 0"
     ]
    },
    {
     "name": "stderr",
     "output_type": "stream",
     "text": [
      " ()\n",
      "Verify failed with:"
     ]
    },
    {
     "name": "stdout",
     "output_type": "stream",
     "text": [
      "Openslide returned an error om tje StandardError block /TCGA_MIRROR/tcga-data.nci.nih.gov/tcgafiles/ftp_auth/distro_ftpusers/anonymous/tumor/read/bcr/nationwidechildrens.org/diagnostic_images/slide_images/nationwidechildrens.org_READ.diagnostic_images.Level_1.102.7.0/TCGA-AG-3742-01Z-00-DX1.E662D7A7-1022-4120-BCB8-845732E07D63.svs\n",
      "SHIT IT DIED!\n",
      "insert into `corrupt_or_unreadable_svs_files` (full_file_name,filesize) Values ('/TCGA_MIRROR/tcga-data.nci.nih.gov/tcgafiles/ftp_auth/distro_ftpusers/anonymous/tumor/read/bcr/nationwidechildrens.org/diagnostic_images/slide_images/nationwidechildrens.org_READ.diagnostic_images.Level_1.102.7.0/TCGA-AG-3742-01Z-00-DX1.E662D7A7-1022-4120-BCB8-845732E07D63.svs',8117692) \n",
      "UNABLE TO OPEN FILE?? /TCGA_MIRROR/tcga-data.nci.nih.gov/tcgafiles/ftp_auth/distro_ftpusers/anonymous/tumor/read/bcr/nationwidechildrens.org/diagnostic_images/slide_images/nationwidechildrens.org_READ.diagnostic_images.Level_1.102.7.0/TCGA-AG-3742-01Z-00-DX1.E662D7A7-1022-4120-BCB8-845732E07D63.svs\n",
      "\u001b[KTotal Processed: 797  Newly Processed: 0 Dup Slides or Already Loaded: 796  RESCANNED Slides 0"
     ]
    },
    {
     "name": "stderr",
     "output_type": "stream",
     "text": [
      " ()\n",
      "Verify failed with:"
     ]
    },
    {
     "name": "stdout",
     "output_type": "stream",
     "text": [
      "Openslide returned an error om tje StandardError block /TCGA_MIRROR/tcga-data.nci.nih.gov/tcgafiles/ftp_auth/distro_ftpusers/anonymous/tumor/read/bcr/nationwidechildrens.org/diagnostic_images/slide_images/nationwidechildrens.org_READ.diagnostic_images.Level_1.102.7.0/TCGA-AG-3732-01Z-00-DX1.5EC57511-2B19-4005-BCA0-333C387C66E6.svs\n",
      "SHIT IT DIED!\n",
      "insert into `corrupt_or_unreadable_svs_files` (full_file_name,filesize) Values ('/TCGA_MIRROR/tcga-data.nci.nih.gov/tcgafiles/ftp_auth/distro_ftpusers/anonymous/tumor/read/bcr/nationwidechildrens.org/diagnostic_images/slide_images/nationwidechildrens.org_READ.diagnostic_images.Level_1.102.7.0/TCGA-AG-3732-01Z-00-DX1.5EC57511-2B19-4005-BCA0-333C387C66E6.svs',8078678) \n",
      "UNABLE TO OPEN FILE?? /TCGA_MIRROR/tcga-data.nci.nih.gov/tcgafiles/ftp_auth/distro_ftpusers/anonymous/tumor/read/bcr/nationwidechildrens.org/diagnostic_images/slide_images/nationwidechildrens.org_READ.diagnostic_images.Level_1.102.7.0/TCGA-AG-3732-01Z-00-DX1.5EC57511-2B19-4005-BCA0-333C387C66E6.svs\n",
      "\u001b[KTotal Processed: 812  Newly Processed: 0 Dup Slides or Already Loaded: 810  RESCANNED Slides 0"
     ]
    },
    {
     "name": "stderr",
     "output_type": "stream",
     "text": [
      " ()\n",
      "Verify failed with:"
     ]
    },
    {
     "name": "stdout",
     "output_type": "stream",
     "text": [
      "Openslide returned an error om tje StandardError block /TCGA_MIRROR/tcga-data.nci.nih.gov/tcgafiles/ftp_auth/distro_ftpusers/anonymous/tumor/read/bcr/nationwidechildrens.org/diagnostic_images/slide_images/nationwidechildrens.org_READ.diagnostic_images.Level_1.122.5.0/TCGA-AG-3592-01Z-00-DX1.61880D0C-B777-482B-9543-FCA685731B9B.svs\n",
      "SHIT IT DIED!\n",
      "insert into `corrupt_or_unreadable_svs_files` (full_file_name,filesize) Values ('/TCGA_MIRROR/tcga-data.nci.nih.gov/tcgafiles/ftp_auth/distro_ftpusers/anonymous/tumor/read/bcr/nationwidechildrens.org/diagnostic_images/slide_images/nationwidechildrens.org_READ.diagnostic_images.Level_1.122.5.0/TCGA-AG-3592-01Z-00-DX1.61880D0C-B777-482B-9543-FCA685731B9B.svs',10545368) \n",
      "UNABLE TO OPEN FILE?? /TCGA_MIRROR/tcga-data.nci.nih.gov/tcgafiles/ftp_auth/distro_ftpusers/anonymous/tumor/read/bcr/nationwidechildrens.org/diagnostic_images/slide_images/nationwidechildrens.org_READ.diagnostic_images.Level_1.122.5.0/TCGA-AG-3592-01Z-00-DX1.61880D0C-B777-482B-9543-FCA685731B9B.svs\n",
      "\u001b[KTotal Processed: 815  Newly Processed: 0 Dup Slides or Already Loaded: 812  RESCANNED Slides 0"
     ]
    },
    {
     "name": "stderr",
     "output_type": "stream",
     "text": [
      " ()\n",
      "Verify failed with:"
     ]
    },
    {
     "name": "stdout",
     "output_type": "stream",
     "text": [
      "Openslide returned an error om tje StandardError block /TCGA_MIRROR/tcga-data.nci.nih.gov/tcgafiles/ftp_auth/distro_ftpusers/anonymous/tumor/read/bcr/nationwidechildrens.org/diagnostic_images/slide_images/nationwidechildrens.org_READ.diagnostic_images.Level_1.122.5.0/TCGA-AG-3591-01Z-00-DX1.C06D77F2-D55E-433E-A84D-41E6273C8C61.svs\n",
      "SHIT IT DIED!\n",
      "insert into `corrupt_or_unreadable_svs_files` (full_file_name,filesize) Values ('/TCGA_MIRROR/tcga-data.nci.nih.gov/tcgafiles/ftp_auth/distro_ftpusers/anonymous/tumor/read/bcr/nationwidechildrens.org/diagnostic_images/slide_images/nationwidechildrens.org_READ.diagnostic_images.Level_1.122.5.0/TCGA-AG-3591-01Z-00-DX1.C06D77F2-D55E-433E-A84D-41E6273C8C61.svs',7995752) \n",
      "UNABLE TO OPEN FILE?? /TCGA_MIRROR/tcga-data.nci.nih.gov/tcgafiles/ftp_auth/distro_ftpusers/anonymous/tumor/read/bcr/nationwidechildrens.org/diagnostic_images/slide_images/nationwidechildrens.org_READ.diagnostic_images.Level_1.122.5.0/TCGA-AG-3591-01Z-00-DX1.C06D77F2-D55E-433E-A84D-41E6273C8C61.svs\n",
      "\u001b[KTotal Processed: 817  Newly Processed: 0 Dup Slides or Already Loaded: 813  RESCANNED Slides 0"
     ]
    },
    {
     "name": "stderr",
     "output_type": "stream",
     "text": [
      " ()\n",
      "Verify failed with:"
     ]
    },
    {
     "name": "stdout",
     "output_type": "stream",
     "text": [
      "Openslide returned an error om tje StandardError block /TCGA_MIRROR/tcga-data.nci.nih.gov/tcgafiles/ftp_auth/distro_ftpusers/anonymous/tumor/read/bcr/nationwidechildrens.org/diagnostic_images/slide_images/nationwidechildrens.org_READ.diagnostic_images.Level_1.122.5.0/TCGA-AG-3731-01Z-00-DX1.9C30A84C-DD47-47C4-8899-3A1EF5153E1A.svs\n",
      "SHIT IT DIED!\n",
      "insert into `corrupt_or_unreadable_svs_files` (full_file_name,filesize) Values ('/TCGA_MIRROR/tcga-data.nci.nih.gov/tcgafiles/ftp_auth/distro_ftpusers/anonymous/tumor/read/bcr/nationwidechildrens.org/diagnostic_images/slide_images/nationwidechildrens.org_READ.diagnostic_images.Level_1.122.5.0/TCGA-AG-3731-01Z-00-DX1.9C30A84C-DD47-47C4-8899-3A1EF5153E1A.svs',9592584) \n",
      "UNABLE TO OPEN FILE?? /TCGA_MIRROR/tcga-data.nci.nih.gov/tcgafiles/ftp_auth/distro_ftpusers/anonymous/tumor/read/bcr/nationwidechildrens.org/diagnostic_images/slide_images/nationwidechildrens.org_READ.diagnostic_images.Level_1.122.5.0/TCGA-AG-3731-01Z-00-DX1.9C30A84C-DD47-47C4-8899-3A1EF5153E1A.svs\n",
      "\u001b[KTotal Processed: 822  Newly Processed: 0 Dup Slides or Already Loaded: 817  RESCANNED Slides 0"
     ]
    },
    {
     "name": "stderr",
     "output_type": "stream",
     "text": [
      " ()\n",
      "Verify failed with:"
     ]
    },
    {
     "name": "stdout",
     "output_type": "stream",
     "text": [
      "Openslide returned an error om tje StandardError block /TCGA_MIRROR/tcga-data.nci.nih.gov/tcgafiles/ftp_auth/distro_ftpusers/anonymous/tumor/read/bcr/nationwidechildrens.org/diagnostic_images/slide_images/nationwidechildrens.org_READ.diagnostic_images.Level_1.122.5.0/TCGA-AG-3725-01Z-00-DX1.86CF8220-F410-49E4-A840-E42AE8C5D8B2.svs\n",
      "SHIT IT DIED!\n",
      "insert into `corrupt_or_unreadable_svs_files` (full_file_name,filesize) Values ('/TCGA_MIRROR/tcga-data.nci.nih.gov/tcgafiles/ftp_auth/distro_ftpusers/anonymous/tumor/read/bcr/nationwidechildrens.org/diagnostic_images/slide_images/nationwidechildrens.org_READ.diagnostic_images.Level_1.122.5.0/TCGA-AG-3725-01Z-00-DX1.86CF8220-F410-49E4-A840-E42AE8C5D8B2.svs',4970418) \n",
      "UNABLE TO OPEN FILE?? /TCGA_MIRROR/tcga-data.nci.nih.gov/tcgafiles/ftp_auth/distro_ftpusers/anonymous/tumor/read/bcr/nationwidechildrens.org/diagnostic_images/slide_images/nationwidechildrens.org_READ.diagnostic_images.Level_1.122.5.0/TCGA-AG-3725-01Z-00-DX1.86CF8220-F410-49E4-A840-E42AE8C5D8B2.svs\n",
      "\u001b[KTotal Processed: 849  Newly Processed: 0 Dup Slides or Already Loaded: 843  RESCANNED Slides 0"
     ]
    },
    {
     "name": "stderr",
     "output_type": "stream",
     "text": [
      " ()\n",
      "Verify failed with:"
     ]
    },
    {
     "name": "stdout",
     "output_type": "stream",
     "text": [
      "Openslide returned an error om tje StandardError block /TCGA_MIRROR/tcga-data.nci.nih.gov/tcgafiles/ftp_auth/distro_ftpusers/anonymous/tumor/read/bcr/nationwidechildrens.org/diagnostic_images/slide_images/nationwidechildrens.org_READ.diagnostic_images.Level_1.46.7.0/TCGA-AG-4009-01Z-00-DX1.A66BDD56-216C-4424-8168-9295A307F98F.svs\n",
      "SHIT IT DIED!\n",
      "insert into `corrupt_or_unreadable_svs_files` (full_file_name,filesize) Values ('/TCGA_MIRROR/tcga-data.nci.nih.gov/tcgafiles/ftp_auth/distro_ftpusers/anonymous/tumor/read/bcr/nationwidechildrens.org/diagnostic_images/slide_images/nationwidechildrens.org_READ.diagnostic_images.Level_1.46.7.0/TCGA-AG-4009-01Z-00-DX1.A66BDD56-216C-4424-8168-9295A307F98F.svs',9218322) \n",
      "UNABLE TO OPEN FILE?? /TCGA_MIRROR/tcga-data.nci.nih.gov/tcgafiles/ftp_auth/distro_ftpusers/anonymous/tumor/read/bcr/nationwidechildrens.org/diagnostic_images/slide_images/nationwidechildrens.org_READ.diagnostic_images.Level_1.46.7.0/TCGA-AG-4009-01Z-00-DX1.A66BDD56-216C-4424-8168-9295A307F98F.svs\n",
      "\u001b[KTotal Processed: 851  Newly Processed: 0 Dup Slides or Already Loaded: 844  RESCANNED Slides 0"
     ]
    },
    {
     "name": "stderr",
     "output_type": "stream",
     "text": [
      " ()\n",
      "Verify failed with:"
     ]
    },
    {
     "name": "stdout",
     "output_type": "stream",
     "text": [
      "Openslide returned an error om tje StandardError block /TCGA_MIRROR/tcga-data.nci.nih.gov/tcgafiles/ftp_auth/distro_ftpusers/anonymous/tumor/read/bcr/nationwidechildrens.org/diagnostic_images/slide_images/nationwidechildrens.org_READ.diagnostic_images.Level_1.46.7.0/TCGA-AG-3891-01Z-00-DX1.82E8836A-91E7-48CA-A7C1-501A00F20298.svs\n",
      "SHIT IT DIED!\n",
      "insert into `corrupt_or_unreadable_svs_files` (full_file_name,filesize) Values ('/TCGA_MIRROR/tcga-data.nci.nih.gov/tcgafiles/ftp_auth/distro_ftpusers/anonymous/tumor/read/bcr/nationwidechildrens.org/diagnostic_images/slide_images/nationwidechildrens.org_READ.diagnostic_images.Level_1.46.7.0/TCGA-AG-3891-01Z-00-DX1.82E8836A-91E7-48CA-A7C1-501A00F20298.svs',12981818) \n",
      "UNABLE TO OPEN FILE?? /TCGA_MIRROR/tcga-data.nci.nih.gov/tcgafiles/ftp_auth/distro_ftpusers/anonymous/tumor/read/bcr/nationwidechildrens.org/diagnostic_images/slide_images/nationwidechildrens.org_READ.diagnostic_images.Level_1.46.7.0/TCGA-AG-3891-01Z-00-DX1.82E8836A-91E7-48CA-A7C1-501A00F20298.svs\n",
      "\u001b[KTotal Processed: 1929  Newly Processed: 0 Dup Slides or Already Loaded: 1908  RESCANNED Slides 13/TCGA_MIRROR/tcga-data.nci.nih.gov/tcgafiles/ftp_auth/distro_ftpusers/anonymous/tumor/\n",
      "\u001b[KTotal Processed: 8437  Newly Processed: 0 Dup Slides or Already Loaded: 8351  RESCANNED Slides 86/TCGA_MIRROR/tcga-data.nci.nih.gov/tcgafiles/ftp_auth/distro_ftpusers/anonymous/tumor/\n",
      "\u001b[KTotal Processed: 184  Newly Processed: 0 Dup Slides or Already Loaded: 184  RESCANNED Slides 0"
     ]
    },
    {
     "name": "stderr",
     "output_type": "stream",
     "text": [
      " ()\n",
      "Verify failed with:"
     ]
    },
    {
     "name": "stdout",
     "output_type": "stream",
     "text": [
      "Openslide returned an error om tje StandardError block /TCGA_MIRROR/tcga-data.nci.nih.gov/tcgafiles/ftp_auth/distro_ftpusers/anonymous/tumor/gbm/bcr/intgen.org/diagnostic_images/slide_images/intgen.org_GBM.diagnostic_images.Level_1.5.1.0/TCGA-02-0321-01Z-00-DX1.3c57c27d-4a4f-45af-bf8b-2bde421a42fa.svs.dzi.tif\n",
      "SHIT IT DIED!\n",
      "insert into `corrupt_or_unreadable_svs_files` (full_file_name,filesize) Values ('/TCGA_MIRROR/tcga-data.nci.nih.gov/tcgafiles/ftp_auth/distro_ftpusers/anonymous/tumor/gbm/bcr/intgen.org/diagnostic_images/slide_images/intgen.org_GBM.diagnostic_images.Level_1.5.1.0/TCGA-02-0321-01Z-00-DX1.3c57c27d-4a4f-45af-bf8b-2bde421a42fa.svs.dzi.tif',23708056) \n",
      "UNABLE TO OPEN FILE?? /TCGA_MIRROR/tcga-data.nci.nih.gov/tcgafiles/ftp_auth/distro_ftpusers/anonymous/tumor/gbm/bcr/intgen.org/diagnostic_images/slide_images/intgen.org_GBM.diagnostic_images.Level_1.5.1.0/TCGA-02-0321-01Z-00-DX1.3c57c27d-4a4f-45af-bf8b-2bde421a42fa.svs.dzi.tif\n",
      "\u001b[KTotal Processed: 7827  Newly Processed: 0 Dup Slides or Already Loaded: 7754  RESCANNED Slides 72/TCGA_MIRROR/tcga-data.nci.nih.gov/tcgafiles/ftp_auth/distro_ftpusers/anonymous/tumor/\n",
      "\u001b[KTotal Processed: 1364  Newly Processed: 0 Dup Slides or Already Loaded: 1318  RESCANNED Slides 46/TCGA_MIRROR/tcga-data.nci.nih.gov/tcgafiles/ftp_auth/distro_ftpusers/anonymous/tumor/\n",
      "\u001b[KTotal Processed: 49  Newly Processed: 0 Dup Slides or Already Loaded: 49  RESCANNED Slides 0"
     ]
    },
    {
     "name": "stderr",
     "output_type": "stream",
     "text": [
      " ()\n",
      "Verify failed with:"
     ]
    },
    {
     "name": "stdout",
     "output_type": "stream",
     "text": [
      "Openslide returned an error om tje StandardError block /TCGA_MIRROR/tcga-data.nci.nih.gov/tcgafiles/ftp_auth/distro_ftpusers/anonymous/tumor/stad/bcr/intgen.org/diagnostic_images/slide_images/intgen.org_STAD.diagnostic_images.Level_1.57.1.0/TCGA-BR-4366-01Z-00-DX1.1b5b7fce-bfbb-461d-9381-30eb37698b9e.svs\n",
      "SHIT IT DIED!\n",
      "insert into `corrupt_or_unreadable_svs_files` (full_file_name,filesize) Values ('/TCGA_MIRROR/tcga-data.nci.nih.gov/tcgafiles/ftp_auth/distro_ftpusers/anonymous/tumor/stad/bcr/intgen.org/diagnostic_images/slide_images/intgen.org_STAD.diagnostic_images.Level_1.57.1.0/TCGA-BR-4366-01Z-00-DX1.1b5b7fce-bfbb-461d-9381-30eb37698b9e.svs',482306) \n",
      "UNABLE TO OPEN FILE?? /TCGA_MIRROR/tcga-data.nci.nih.gov/tcgafiles/ftp_auth/distro_ftpusers/anonymous/tumor/stad/bcr/intgen.org/diagnostic_images/slide_images/intgen.org_STAD.diagnostic_images.Level_1.57.1.0/TCGA-BR-4366-01Z-00-DX1.1b5b7fce-bfbb-461d-9381-30eb37698b9e.svs\n",
      "\u001b[KTotal Processed: 52  Newly Processed: 0 Dup Slides or Already Loaded: 51  RESCANNED Slides 0"
     ]
    },
    {
     "name": "stderr",
     "output_type": "stream",
     "text": [
      " ()\n",
      "Verify failed with:"
     ]
    },
    {
     "name": "stdout",
     "output_type": "stream",
     "text": [
      "Openslide returned an error om tje StandardError block /TCGA_MIRROR/tcga-data.nci.nih.gov/tcgafiles/ftp_auth/distro_ftpusers/anonymous/tumor/stad/bcr/intgen.org/diagnostic_images/slide_images/intgen.org_STAD.diagnostic_images.Level_1.57.1.0/TCGA-BR-4357-01Z-00-DX1.63cd361b-d8a7-4a99-aed7-4355b32397f6.svs\n",
      "SHIT IT DIED!\n",
      "insert into `corrupt_or_unreadable_svs_files` (full_file_name,filesize) Values ('/TCGA_MIRROR/tcga-data.nci.nih.gov/tcgafiles/ftp_auth/distro_ftpusers/anonymous/tumor/stad/bcr/intgen.org/diagnostic_images/slide_images/intgen.org_STAD.diagnostic_images.Level_1.57.1.0/TCGA-BR-4357-01Z-00-DX1.63cd361b-d8a7-4a99-aed7-4355b32397f6.svs',475670) \n",
      "UNABLE TO OPEN FILE?? /TCGA_MIRROR/tcga-data.nci.nih.gov/tcgafiles/ftp_auth/distro_ftpusers/anonymous/tumor/stad/bcr/intgen.org/diagnostic_images/slide_images/intgen.org_STAD.diagnostic_images.Level_1.57.1.0/TCGA-BR-4357-01Z-00-DX1.63cd361b-d8a7-4a99-aed7-4355b32397f6.svs\n",
      "\r",
      "\u001b[KTotal Processed: 53  Newly Processed: 0 Dup Slides or Already Loaded: 51  RESCANNED Slides 0"
     ]
    },
    {
     "name": "stderr",
     "output_type": "stream",
     "text": [
      " ()\n",
      "Verify failed with:"
     ]
    },
    {
     "name": "stdout",
     "output_type": "stream",
     "text": [
      "Openslide returned an error om tje StandardError block /TCGA_MIRROR/tcga-data.nci.nih.gov/tcgafiles/ftp_auth/distro_ftpusers/anonymous/tumor/stad/bcr/intgen.org/diagnostic_images/slide_images/intgen.org_STAD.diagnostic_images.Level_1.57.1.0/TCGA-BR-4362-01Z-00-DX1.f12e9fd5-4d05-408b-8462-a2cc9a75edae.svs\n",
      "SHIT IT DIED!\n",
      "insert into `corrupt_or_unreadable_svs_files` (full_file_name,filesize) Values ('/TCGA_MIRROR/tcga-data.nci.nih.gov/tcgafiles/ftp_auth/distro_ftpusers/anonymous/tumor/stad/bcr/intgen.org/diagnostic_images/slide_images/intgen.org_STAD.diagnostic_images.Level_1.57.1.0/TCGA-BR-4362-01Z-00-DX1.f12e9fd5-4d05-408b-8462-a2cc9a75edae.svs',478414) \n",
      "UNABLE TO OPEN FILE?? /TCGA_MIRROR/tcga-data.nci.nih.gov/tcgafiles/ftp_auth/distro_ftpusers/anonymous/tumor/stad/bcr/intgen.org/diagnostic_images/slide_images/intgen.org_STAD.diagnostic_images.Level_1.57.1.0/TCGA-BR-4362-01Z-00-DX1.f12e9fd5-4d05-408b-8462-a2cc9a75edae.svs\n",
      "\u001b[KTotal Processed: 58  Newly Processed: 0 Dup Slides or Already Loaded: 55  RESCANNED Slides 0"
     ]
    },
    {
     "name": "stderr",
     "output_type": "stream",
     "text": [
      " ()\n",
      "Verify failed with:"
     ]
    },
    {
     "name": "stdout",
     "output_type": "stream",
     "text": [
      "Openslide returned an error om tje StandardError block /TCGA_MIRROR/tcga-data.nci.nih.gov/tcgafiles/ftp_auth/distro_ftpusers/anonymous/tumor/stad/bcr/intgen.org/diagnostic_images/slide_images/intgen.org_STAD.diagnostic_images.Level_1.57.1.0/TCGA-BR-4361-01Z-00-DX1.427c9a42-7772-41d2-814e-3da7d9fffe34.svs\n",
      "SHIT IT DIED!\n",
      "insert into `corrupt_or_unreadable_svs_files` (full_file_name,filesize) Values ('/TCGA_MIRROR/tcga-data.nci.nih.gov/tcgafiles/ftp_auth/distro_ftpusers/anonymous/tumor/stad/bcr/intgen.org/diagnostic_images/slide_images/intgen.org_STAD.diagnostic_images.Level_1.57.1.0/TCGA-BR-4361-01Z-00-DX1.427c9a42-7772-41d2-814e-3da7d9fffe34.svs',484020) \n",
      "UNABLE TO OPEN FILE?? /TCGA_MIRROR/tcga-data.nci.nih.gov/tcgafiles/ftp_auth/distro_ftpusers/anonymous/tumor/stad/bcr/intgen.org/diagnostic_images/slide_images/intgen.org_STAD.diagnostic_images.Level_1.57.1.0/TCGA-BR-4361-01Z-00-DX1.427c9a42-7772-41d2-814e-3da7d9fffe34.svs\n",
      "\u001b[KTotal Processed: 60  Newly Processed: 0 Dup Slides or Already Loaded: 56  RESCANNED Slides 0"
     ]
    },
    {
     "name": "stderr",
     "output_type": "stream",
     "text": [
      " ()\n",
      "Verify failed with:"
     ]
    },
    {
     "name": "stdout",
     "output_type": "stream",
     "text": [
      "Openslide returned an error om tje StandardError block /TCGA_MIRROR/tcga-data.nci.nih.gov/tcgafiles/ftp_auth/distro_ftpusers/anonymous/tumor/stad/bcr/intgen.org/diagnostic_images/slide_images/intgen.org_STAD.diagnostic_images.Level_1.57.1.0/TCGA-BR-4367-01Z-00-DX1.1f8d0290-2ea8-447c-a8a9-4d83be6f242f.svs\n",
      "SHIT IT DIED!\n",
      "insert into `corrupt_or_unreadable_svs_files` (full_file_name,filesize) Values ('/TCGA_MIRROR/tcga-data.nci.nih.gov/tcgafiles/ftp_auth/distro_ftpusers/anonymous/tumor/stad/bcr/intgen.org/diagnostic_images/slide_images/intgen.org_STAD.diagnostic_images.Level_1.57.1.0/TCGA-BR-4367-01Z-00-DX1.1f8d0290-2ea8-447c-a8a9-4d83be6f242f.svs',478254) \n",
      "UNABLE TO OPEN FILE?? /TCGA_MIRROR/tcga-data.nci.nih.gov/tcgafiles/ftp_auth/distro_ftpusers/anonymous/tumor/stad/bcr/intgen.org/diagnostic_images/slide_images/intgen.org_STAD.diagnostic_images.Level_1.57.1.0/TCGA-BR-4367-01Z-00-DX1.1f8d0290-2ea8-447c-a8a9-4d83be6f242f.svs\n",
      "\r",
      "\u001b[KTotal Processed: 61  Newly Processed: 0 Dup Slides or Already Loaded: 56  RESCANNED Slides 0"
     ]
    },
    {
     "name": "stderr",
     "output_type": "stream",
     "text": [
      " ()\n",
      "Verify failed with:"
     ]
    },
    {
     "name": "stdout",
     "output_type": "stream",
     "text": [
      "Openslide returned an error om tje StandardError block /TCGA_MIRROR/tcga-data.nci.nih.gov/tcgafiles/ftp_auth/distro_ftpusers/anonymous/tumor/stad/bcr/intgen.org/diagnostic_images/slide_images/intgen.org_STAD.diagnostic_images.Level_1.57.1.0/TCGA-BR-4376-01Z-00-DX1.b778cfdb-8a05-4ed3-b528-e42d6bb0f2d1.svs\n",
      "SHIT IT DIED!\n",
      "insert into `corrupt_or_unreadable_svs_files` (full_file_name,filesize) Values ('/TCGA_MIRROR/tcga-data.nci.nih.gov/tcgafiles/ftp_auth/distro_ftpusers/anonymous/tumor/stad/bcr/intgen.org/diagnostic_images/slide_images/intgen.org_STAD.diagnostic_images.Level_1.57.1.0/TCGA-BR-4376-01Z-00-DX1.b778cfdb-8a05-4ed3-b528-e42d6bb0f2d1.svs',478450) \n",
      "UNABLE TO OPEN FILE?? /TCGA_MIRROR/tcga-data.nci.nih.gov/tcgafiles/ftp_auth/distro_ftpusers/anonymous/tumor/stad/bcr/intgen.org/diagnostic_images/slide_images/intgen.org_STAD.diagnostic_images.Level_1.57.1.0/TCGA-BR-4376-01Z-00-DX1.b778cfdb-8a05-4ed3-b528-e42d6bb0f2d1.svs\n",
      "\r",
      "\u001b[KTotal Processed: 62  Newly Processed: 0 Dup Slides or Already Loaded: 56  RESCANNED Slides 0"
     ]
    },
    {
     "name": "stderr",
     "output_type": "stream",
     "text": [
      " ()\n",
      "Verify failed with:"
     ]
    },
    {
     "name": "stdout",
     "output_type": "stream",
     "text": [
      "Openslide returned an error om tje StandardError block /TCGA_MIRROR/tcga-data.nci.nih.gov/tcgafiles/ftp_auth/distro_ftpusers/anonymous/tumor/stad/bcr/intgen.org/diagnostic_images/slide_images/intgen.org_STAD.diagnostic_images.Level_1.57.1.0/TCGA-BR-4368-01Z-00-DX1.ecfc8a41-c65e-4ac4-9b2e-c403ba184f02.svs\n",
      "SHIT IT DIED!\n",
      "insert into `corrupt_or_unreadable_svs_files` (full_file_name,filesize) Values ('/TCGA_MIRROR/tcga-data.nci.nih.gov/tcgafiles/ftp_auth/distro_ftpusers/anonymous/tumor/stad/bcr/intgen.org/diagnostic_images/slide_images/intgen.org_STAD.diagnostic_images.Level_1.57.1.0/TCGA-BR-4368-01Z-00-DX1.ecfc8a41-c65e-4ac4-9b2e-c403ba184f02.svs',482670) \n",
      "UNABLE TO OPEN FILE?? /TCGA_MIRROR/tcga-data.nci.nih.gov/tcgafiles/ftp_auth/distro_ftpusers/anonymous/tumor/stad/bcr/intgen.org/diagnostic_images/slide_images/intgen.org_STAD.diagnostic_images.Level_1.57.1.0/TCGA-BR-4368-01Z-00-DX1.ecfc8a41-c65e-4ac4-9b2e-c403ba184f02.svs\n",
      "\u001b[KTotal Processed: 66  Newly Processed: 0 Dup Slides or Already Loaded: 59  RESCANNED Slides 0"
     ]
    },
    {
     "name": "stderr",
     "output_type": "stream",
     "text": [
      " ()\n",
      "Verify failed with:"
     ]
    },
    {
     "name": "stdout",
     "output_type": "stream",
     "text": [
      "Openslide returned an error om tje StandardError block /TCGA_MIRROR/tcga-data.nci.nih.gov/tcgafiles/ftp_auth/distro_ftpusers/anonymous/tumor/stad/bcr/intgen.org/diagnostic_images/slide_images/intgen.org_STAD.diagnostic_images.Level_1.57.1.0/TCGA-BR-4371-01Z-00-DX1.b45af289-5e56-40dd-80ba-7b8752d0344e.svs\n",
      "SHIT IT DIED!\n",
      "insert into `corrupt_or_unreadable_svs_files` (full_file_name,filesize) Values ('/TCGA_MIRROR/tcga-data.nci.nih.gov/tcgafiles/ftp_auth/distro_ftpusers/anonymous/tumor/stad/bcr/intgen.org/diagnostic_images/slide_images/intgen.org_STAD.diagnostic_images.Level_1.57.1.0/TCGA-BR-4371-01Z-00-DX1.b45af289-5e56-40dd-80ba-7b8752d0344e.svs',474558) \n",
      "UNABLE TO OPEN FILE?? /TCGA_MIRROR/tcga-data.nci.nih.gov/tcgafiles/ftp_auth/distro_ftpusers/anonymous/tumor/stad/bcr/intgen.org/diagnostic_images/slide_images/intgen.org_STAD.diagnostic_images.Level_1.57.1.0/TCGA-BR-4371-01Z-00-DX1.b45af289-5e56-40dd-80ba-7b8752d0344e.svs\n",
      "\r",
      "\u001b[KTotal Processed: 67  Newly Processed: 0 Dup Slides or Already Loaded: 59  RESCANNED Slides 0"
     ]
    },
    {
     "name": "stderr",
     "output_type": "stream",
     "text": [
      " ()\n",
      "Verify failed with:"
     ]
    },
    {
     "name": "stdout",
     "output_type": "stream",
     "text": [
      "Openslide returned an error om tje StandardError block /TCGA_MIRROR/tcga-data.nci.nih.gov/tcgafiles/ftp_auth/distro_ftpusers/anonymous/tumor/stad/bcr/intgen.org/diagnostic_images/slide_images/intgen.org_STAD.diagnostic_images.Level_1.57.1.0/TCGA-BR-4375-01Z-00-DX1.b413da91-d941-41fb-879f-eda667a26daa.svs\n",
      "SHIT IT DIED!\n",
      "insert into `corrupt_or_unreadable_svs_files` (full_file_name,filesize) Values ('/TCGA_MIRROR/tcga-data.nci.nih.gov/tcgafiles/ftp_auth/distro_ftpusers/anonymous/tumor/stad/bcr/intgen.org/diagnostic_images/slide_images/intgen.org_STAD.diagnostic_images.Level_1.57.1.0/TCGA-BR-4375-01Z-00-DX1.b413da91-d941-41fb-879f-eda667a26daa.svs',474300) \n",
      "UNABLE TO OPEN FILE?? /TCGA_MIRROR/tcga-data.nci.nih.gov/tcgafiles/ftp_auth/distro_ftpusers/anonymous/tumor/stad/bcr/intgen.org/diagnostic_images/slide_images/intgen.org_STAD.diagnostic_images.Level_1.57.1.0/TCGA-BR-4375-01Z-00-DX1.b413da91-d941-41fb-879f-eda667a26daa.svs\n",
      "\u001b[KTotal Processed: 70  Newly Processed: 0 Dup Slides or Already Loaded: 61  RESCANNED Slides 0"
     ]
    },
    {
     "name": "stderr",
     "output_type": "stream",
     "text": [
      " ()\n",
      "Verify failed with:"
     ]
    },
    {
     "name": "stdout",
     "output_type": "stream",
     "text": [
      "Openslide returned an error om tje StandardError block /TCGA_MIRROR/tcga-data.nci.nih.gov/tcgafiles/ftp_auth/distro_ftpusers/anonymous/tumor/stad/bcr/intgen.org/diagnostic_images/slide_images/intgen.org_STAD.diagnostic_images.Level_1.57.1.0/TCGA-BR-4370-01Z-00-DX1.a221ca0e-5055-41c3-97a5-d8b9ff847e45.svs\n",
      "SHIT IT DIED!\n",
      "insert into `corrupt_or_unreadable_svs_files` (full_file_name,filesize) Values ('/TCGA_MIRROR/tcga-data.nci.nih.gov/tcgafiles/ftp_auth/distro_ftpusers/anonymous/tumor/stad/bcr/intgen.org/diagnostic_images/slide_images/intgen.org_STAD.diagnostic_images.Level_1.57.1.0/TCGA-BR-4370-01Z-00-DX1.a221ca0e-5055-41c3-97a5-d8b9ff847e45.svs',480746) \n",
      "UNABLE TO OPEN FILE?? /TCGA_MIRROR/tcga-data.nci.nih.gov/tcgafiles/ftp_auth/distro_ftpusers/anonymous/tumor/stad/bcr/intgen.org/diagnostic_images/slide_images/intgen.org_STAD.diagnostic_images.Level_1.57.1.0/TCGA-BR-4370-01Z-00-DX1.a221ca0e-5055-41c3-97a5-d8b9ff847e45.svs\n",
      "\r",
      "\u001b[KTotal Processed: 71  Newly Processed: 0 Dup Slides or Already Loaded: 61  RESCANNED Slides 0"
     ]
    },
    {
     "name": "stderr",
     "output_type": "stream",
     "text": [
      " ()\n",
      "Verify failed with:"
     ]
    },
    {
     "name": "stdout",
     "output_type": "stream",
     "text": [
      "Openslide returned an error om tje StandardError block /TCGA_MIRROR/tcga-data.nci.nih.gov/tcgafiles/ftp_auth/distro_ftpusers/anonymous/tumor/stad/bcr/intgen.org/diagnostic_images/slide_images/intgen.org_STAD.diagnostic_images.Level_1.57.1.0/TCGA-BR-4363-01Z-00-DX1.d2121987-481e-4f39-8cb3-724a9fc18036.svs\n",
      "SHIT IT DIED!\n",
      "insert into `corrupt_or_unreadable_svs_files` (full_file_name,filesize) Values ('/TCGA_MIRROR/tcga-data.nci.nih.gov/tcgafiles/ftp_auth/distro_ftpusers/anonymous/tumor/stad/bcr/intgen.org/diagnostic_images/slide_images/intgen.org_STAD.diagnostic_images.Level_1.57.1.0/TCGA-BR-4363-01Z-00-DX1.d2121987-481e-4f39-8cb3-724a9fc18036.svs',484546) \n",
      "UNABLE TO OPEN FILE?? /TCGA_MIRROR/tcga-data.nci.nih.gov/tcgafiles/ftp_auth/distro_ftpusers/anonymous/tumor/stad/bcr/intgen.org/diagnostic_images/slide_images/intgen.org_STAD.diagnostic_images.Level_1.57.1.0/TCGA-BR-4363-01Z-00-DX1.d2121987-481e-4f39-8cb3-724a9fc18036.svs\n",
      "\u001b[KTotal Processed: 74  Newly Processed: 0 Dup Slides or Already Loaded: 63  RESCANNED Slides 0"
     ]
    },
    {
     "name": "stderr",
     "output_type": "stream",
     "text": [
      " ()\n",
      "Verify failed with:"
     ]
    },
    {
     "name": "stdout",
     "output_type": "stream",
     "text": [
      "Openslide returned an error om tje StandardError block /TCGA_MIRROR/tcga-data.nci.nih.gov/tcgafiles/ftp_auth/distro_ftpusers/anonymous/tumor/stad/bcr/intgen.org/diagnostic_images/slide_images/intgen.org_STAD.diagnostic_images.Level_1.57.1.0/TCGA-BR-4369-01Z-00-DX1.69000607-7c5c-4a97-bdc1-f5a4fdfdd39c.svs\n",
      "SHIT IT DIED!\n",
      "insert into `corrupt_or_unreadable_svs_files` (full_file_name,filesize) Values ('/TCGA_MIRROR/tcga-data.nci.nih.gov/tcgafiles/ftp_auth/distro_ftpusers/anonymous/tumor/stad/bcr/intgen.org/diagnostic_images/slide_images/intgen.org_STAD.diagnostic_images.Level_1.57.1.0/TCGA-BR-4369-01Z-00-DX1.69000607-7c5c-4a97-bdc1-f5a4fdfdd39c.svs',484322) \n",
      "UNABLE TO OPEN FILE?? /TCGA_MIRROR/tcga-data.nci.nih.gov/tcgafiles/ftp_auth/distro_ftpusers/anonymous/tumor/stad/bcr/intgen.org/diagnostic_images/slide_images/intgen.org_STAD.diagnostic_images.Level_1.57.1.0/TCGA-BR-4369-01Z-00-DX1.69000607-7c5c-4a97-bdc1-f5a4fdfdd39c.svs\n",
      "\u001b[KTotal Processed: 102  Newly Processed: 0 Dup Slides or Already Loaded: 90  RESCANNED Slides 0"
     ]
    },
    {
     "name": "stderr",
     "output_type": "stream",
     "text": [
      " ()\n",
      "Verify failed with:"
     ]
    },
    {
     "name": "stdout",
     "output_type": "stream",
     "text": [
      "Openslide returned an error om tje StandardError block /TCGA_MIRROR/tcga-data.nci.nih.gov/tcgafiles/ftp_auth/distro_ftpusers/anonymous/tumor/stad/bcr/intgen.org/diagnostic_images/slide_images/intgen.org_STAD.diagnostic_images.Level_1.48.0.0/TCGA-BR-4294-01Z-00-DX1.247c5447-23e3-4620-a981-19d5f572235a.svs\n",
      "SHIT IT DIED!\n",
      "insert into `corrupt_or_unreadable_svs_files` (full_file_name,filesize) Values ('/TCGA_MIRROR/tcga-data.nci.nih.gov/tcgafiles/ftp_auth/distro_ftpusers/anonymous/tumor/stad/bcr/intgen.org/diagnostic_images/slide_images/intgen.org_STAD.diagnostic_images.Level_1.48.0.0/TCGA-BR-4294-01Z-00-DX1.247c5447-23e3-4620-a981-19d5f572235a.svs',475878) \n",
      "UNABLE TO OPEN FILE?? /TCGA_MIRROR/tcga-data.nci.nih.gov/tcgafiles/ftp_auth/distro_ftpusers/anonymous/tumor/stad/bcr/intgen.org/diagnostic_images/slide_images/intgen.org_STAD.diagnostic_images.Level_1.48.0.0/TCGA-BR-4294-01Z-00-DX1.247c5447-23e3-4620-a981-19d5f572235a.svs\n",
      "\r",
      "\u001b[KTotal Processed: 103  Newly Processed: 0 Dup Slides or Already Loaded: 90  RESCANNED Slides 0"
     ]
    },
    {
     "name": "stderr",
     "output_type": "stream",
     "text": [
      " ()\n",
      "Verify failed with:"
     ]
    },
    {
     "name": "stdout",
     "output_type": "stream",
     "text": [
      "Openslide returned an error om tje StandardError block /TCGA_MIRROR/tcga-data.nci.nih.gov/tcgafiles/ftp_auth/distro_ftpusers/anonymous/tumor/stad/bcr/intgen.org/diagnostic_images/slide_images/intgen.org_STAD.diagnostic_images.Level_1.48.0.0/TCGA-BR-4187-01Z-00-DX1.5358ef4f-c9af-40d4-b366-48876a8503cc.svs\n",
      "SHIT IT DIED!\n",
      "insert into `corrupt_or_unreadable_svs_files` (full_file_name,filesize) Values ('/TCGA_MIRROR/tcga-data.nci.nih.gov/tcgafiles/ftp_auth/distro_ftpusers/anonymous/tumor/stad/bcr/intgen.org/diagnostic_images/slide_images/intgen.org_STAD.diagnostic_images.Level_1.48.0.0/TCGA-BR-4187-01Z-00-DX1.5358ef4f-c9af-40d4-b366-48876a8503cc.svs',482508) \n",
      "UNABLE TO OPEN FILE?? /TCGA_MIRROR/tcga-data.nci.nih.gov/tcgafiles/ftp_auth/distro_ftpusers/anonymous/tumor/stad/bcr/intgen.org/diagnostic_images/slide_images/intgen.org_STAD.diagnostic_images.Level_1.48.0.0/TCGA-BR-4187-01Z-00-DX1.5358ef4f-c9af-40d4-b366-48876a8503cc.svs\n",
      "\r",
      "\u001b[KTotal Processed: 104  Newly Processed: 0 Dup Slides or Already Loaded: 90  RESCANNED Slides 0"
     ]
    },
    {
     "name": "stderr",
     "output_type": "stream",
     "text": [
      " ()\n",
      "Verify failed with:"
     ]
    },
    {
     "name": "stdout",
     "output_type": "stream",
     "text": [
      "Openslide returned an error om tje StandardError block /TCGA_MIRROR/tcga-data.nci.nih.gov/tcgafiles/ftp_auth/distro_ftpusers/anonymous/tumor/stad/bcr/intgen.org/diagnostic_images/slide_images/intgen.org_STAD.diagnostic_images.Level_1.48.0.0/TCGA-BR-4277-01Z-00-DX1.3352ca7d-d9ab-46f4-b236-3540dfe1b07a.svs\n",
      "SHIT IT DIED!\n",
      "insert into `corrupt_or_unreadable_svs_files` (full_file_name,filesize) Values ('/TCGA_MIRROR/tcga-data.nci.nih.gov/tcgafiles/ftp_auth/distro_ftpusers/anonymous/tumor/stad/bcr/intgen.org/diagnostic_images/slide_images/intgen.org_STAD.diagnostic_images.Level_1.48.0.0/TCGA-BR-4277-01Z-00-DX1.3352ca7d-d9ab-46f4-b236-3540dfe1b07a.svs',467356) \n",
      "UNABLE TO OPEN FILE?? /TCGA_MIRROR/tcga-data.nci.nih.gov/tcgafiles/ftp_auth/distro_ftpusers/anonymous/tumor/stad/bcr/intgen.org/diagnostic_images/slide_images/intgen.org_STAD.diagnostic_images.Level_1.48.0.0/TCGA-BR-4277-01Z-00-DX1.3352ca7d-d9ab-46f4-b236-3540dfe1b07a.svs\n",
      "\u001b[KTotal Processed: 105  Newly Processed: 0 Dup Slides or Already Loaded: 90  RESCANNED Slides 0"
     ]
    },
    {
     "name": "stderr",
     "output_type": "stream",
     "text": [
      " ()\n",
      "Verify failed with:"
     ]
    },
    {
     "name": "stdout",
     "output_type": "stream",
     "text": [
      "Openslide returned an error om tje StandardError block /TCGA_MIRROR/tcga-data.nci.nih.gov/tcgafiles/ftp_auth/distro_ftpusers/anonymous/tumor/stad/bcr/intgen.org/diagnostic_images/slide_images/intgen.org_STAD.diagnostic_images.Level_1.48.0.0/TCGA-BR-4184-01Z-00-DX1.aa0818ba-92ea-4337-b9d3-c891161f5f9a.svs\n",
      "SHIT IT DIED!\n",
      "insert into `corrupt_or_unreadable_svs_files` (full_file_name,filesize) Values ('/TCGA_MIRROR/tcga-data.nci.nih.gov/tcgafiles/ftp_auth/distro_ftpusers/anonymous/tumor/stad/bcr/intgen.org/diagnostic_images/slide_images/intgen.org_STAD.diagnostic_images.Level_1.48.0.0/TCGA-BR-4184-01Z-00-DX1.aa0818ba-92ea-4337-b9d3-c891161f5f9a.svs',481768) \n",
      "UNABLE TO OPEN FILE?? /TCGA_MIRROR/tcga-data.nci.nih.gov/tcgafiles/ftp_auth/distro_ftpusers/anonymous/tumor/stad/bcr/intgen.org/diagnostic_images/slide_images/intgen.org_STAD.diagnostic_images.Level_1.48.0.0/TCGA-BR-4184-01Z-00-DX1.aa0818ba-92ea-4337-b9d3-c891161f5f9a.svs\n",
      "\r",
      "\u001b[KTotal Processed: 106  Newly Processed: 0 Dup Slides or Already Loaded: 90  RESCANNED Slides 0"
     ]
    },
    {
     "name": "stderr",
     "output_type": "stream",
     "text": [
      " ()\n",
      "Verify failed with:"
     ]
    },
    {
     "name": "stdout",
     "output_type": "stream",
     "text": [
      "Openslide returned an error om tje StandardError block /TCGA_MIRROR/tcga-data.nci.nih.gov/tcgafiles/ftp_auth/distro_ftpusers/anonymous/tumor/stad/bcr/intgen.org/diagnostic_images/slide_images/intgen.org_STAD.diagnostic_images.Level_1.48.0.0/TCGA-BR-4183-01Z-00-DX1.25a55001-19e6-4f2a-ad84-f8a3a990cc2f.svs\n",
      "SHIT IT DIED!\n",
      "insert into `corrupt_or_unreadable_svs_files` (full_file_name,filesize) Values ('/TCGA_MIRROR/tcga-data.nci.nih.gov/tcgafiles/ftp_auth/distro_ftpusers/anonymous/tumor/stad/bcr/intgen.org/diagnostic_images/slide_images/intgen.org_STAD.diagnostic_images.Level_1.48.0.0/TCGA-BR-4183-01Z-00-DX1.25a55001-19e6-4f2a-ad84-f8a3a990cc2f.svs',484156) \n",
      "UNABLE TO OPEN FILE?? /TCGA_MIRROR/tcga-data.nci.nih.gov/tcgafiles/ftp_auth/distro_ftpusers/anonymous/tumor/stad/bcr/intgen.org/diagnostic_images/slide_images/intgen.org_STAD.diagnostic_images.Level_1.48.0.0/TCGA-BR-4183-01Z-00-DX1.25a55001-19e6-4f2a-ad84-f8a3a990cc2f.svs\n",
      "\r",
      "\u001b[KTotal Processed: 107  Newly Processed: 0 Dup Slides or Already Loaded: 90  RESCANNED Slides 0"
     ]
    },
    {
     "name": "stderr",
     "output_type": "stream",
     "text": [
      " ()\n",
      "Verify failed with:"
     ]
    },
    {
     "name": "stdout",
     "output_type": "stream",
     "text": [
      "Openslide returned an error om tje StandardError block /TCGA_MIRROR/tcga-data.nci.nih.gov/tcgafiles/ftp_auth/distro_ftpusers/anonymous/tumor/stad/bcr/intgen.org/diagnostic_images/slide_images/intgen.org_STAD.diagnostic_images.Level_1.48.0.0/TCGA-BR-4284-01Z-00-DX1.031a8c8b-c983-40d6-b671-a80d8be69796.svs\n",
      "SHIT IT DIED!\n",
      "insert into `corrupt_or_unreadable_svs_files` (full_file_name,filesize) Values ('/TCGA_MIRROR/tcga-data.nci.nih.gov/tcgafiles/ftp_auth/distro_ftpusers/anonymous/tumor/stad/bcr/intgen.org/diagnostic_images/slide_images/intgen.org_STAD.diagnostic_images.Level_1.48.0.0/TCGA-BR-4284-01Z-00-DX1.031a8c8b-c983-40d6-b671-a80d8be69796.svs',473878) \n",
      "UNABLE TO OPEN FILE?? /TCGA_MIRROR/tcga-data.nci.nih.gov/tcgafiles/ftp_auth/distro_ftpusers/anonymous/tumor/stad/bcr/intgen.org/diagnostic_images/slide_images/intgen.org_STAD.diagnostic_images.Level_1.48.0.0/TCGA-BR-4284-01Z-00-DX1.031a8c8b-c983-40d6-b671-a80d8be69796.svs\n",
      "\r",
      "\u001b[KTotal Processed: 108  Newly Processed: 0 Dup Slides or Already Loaded: 90  RESCANNED Slides 0"
     ]
    },
    {
     "name": "stderr",
     "output_type": "stream",
     "text": [
      " ()\n",
      "Verify failed with:"
     ]
    },
    {
     "name": "stdout",
     "output_type": "stream",
     "text": [
      "Openslide returned an error om tje StandardError block /TCGA_MIRROR/tcga-data.nci.nih.gov/tcgafiles/ftp_auth/distro_ftpusers/anonymous/tumor/stad/bcr/intgen.org/diagnostic_images/slide_images/intgen.org_STAD.diagnostic_images.Level_1.48.0.0/TCGA-BR-4265-01Z-00-DX1.6ca8469b-62b8-42f6-b835-96096a305194.svs\n",
      "SHIT IT DIED!\n",
      "insert into `corrupt_or_unreadable_svs_files` (full_file_name,filesize) Values ('/TCGA_MIRROR/tcga-data.nci.nih.gov/tcgafiles/ftp_auth/distro_ftpusers/anonymous/tumor/stad/bcr/intgen.org/diagnostic_images/slide_images/intgen.org_STAD.diagnostic_images.Level_1.48.0.0/TCGA-BR-4265-01Z-00-DX1.6ca8469b-62b8-42f6-b835-96096a305194.svs',464948) \n",
      "UNABLE TO OPEN FILE?? /TCGA_MIRROR/tcga-data.nci.nih.gov/tcgafiles/ftp_auth/distro_ftpusers/anonymous/tumor/stad/bcr/intgen.org/diagnostic_images/slide_images/intgen.org_STAD.diagnostic_images.Level_1.48.0.0/TCGA-BR-4265-01Z-00-DX1.6ca8469b-62b8-42f6-b835-96096a305194.svs\n",
      "\u001b[KTotal Processed: 109  Newly Processed: 0 Dup Slides or Already Loaded: 90  RESCANNED Slides 0"
     ]
    },
    {
     "name": "stderr",
     "output_type": "stream",
     "text": [
      " ()\n",
      "Verify failed with:"
     ]
    },
    {
     "name": "stdout",
     "output_type": "stream",
     "text": [
      "Openslide returned an error om tje StandardError block /TCGA_MIRROR/tcga-data.nci.nih.gov/tcgafiles/ftp_auth/distro_ftpusers/anonymous/tumor/stad/bcr/intgen.org/diagnostic_images/slide_images/intgen.org_STAD.diagnostic_images.Level_1.48.0.0/TCGA-BR-4278-01Z-00-DX1.16897100-f671-4b7c-b35b-672b5f298ee1.svs\n",
      "SHIT IT DIED!\n",
      "insert into `corrupt_or_unreadable_svs_files` (full_file_name,filesize) Values ('/TCGA_MIRROR/tcga-data.nci.nih.gov/tcgafiles/ftp_auth/distro_ftpusers/anonymous/tumor/stad/bcr/intgen.org/diagnostic_images/slide_images/intgen.org_STAD.diagnostic_images.Level_1.48.0.0/TCGA-BR-4278-01Z-00-DX1.16897100-f671-4b7c-b35b-672b5f298ee1.svs',474804) \n",
      "UNABLE TO OPEN FILE?? /TCGA_MIRROR/tcga-data.nci.nih.gov/tcgafiles/ftp_auth/distro_ftpusers/anonymous/tumor/stad/bcr/intgen.org/diagnostic_images/slide_images/intgen.org_STAD.diagnostic_images.Level_1.48.0.0/TCGA-BR-4278-01Z-00-DX1.16897100-f671-4b7c-b35b-672b5f298ee1.svs\n",
      "\r",
      "\u001b[KTotal Processed: 110  Newly Processed: 0 Dup Slides or Already Loaded: 90  RESCANNED Slides 0"
     ]
    },
    {
     "name": "stderr",
     "output_type": "stream",
     "text": [
      " ()\n",
      "Verify failed with:"
     ]
    },
    {
     "name": "stdout",
     "output_type": "stream",
     "text": [
      "Openslide returned an error om tje StandardError block /TCGA_MIRROR/tcga-data.nci.nih.gov/tcgafiles/ftp_auth/distro_ftpusers/anonymous/tumor/stad/bcr/intgen.org/diagnostic_images/slide_images/intgen.org_STAD.diagnostic_images.Level_1.48.0.0/TCGA-BR-4253-01Z-00-DX1.1541e883-de6a-4cd3-a6f5-6866fd5f3439.svs\n",
      "SHIT IT DIED!\n",
      "insert into `corrupt_or_unreadable_svs_files` (full_file_name,filesize) Values ('/TCGA_MIRROR/tcga-data.nci.nih.gov/tcgafiles/ftp_auth/distro_ftpusers/anonymous/tumor/stad/bcr/intgen.org/diagnostic_images/slide_images/intgen.org_STAD.diagnostic_images.Level_1.48.0.0/TCGA-BR-4253-01Z-00-DX1.1541e883-de6a-4cd3-a6f5-6866fd5f3439.svs',480746) \n",
      "UNABLE TO OPEN FILE?? /TCGA_MIRROR/tcga-data.nci.nih.gov/tcgafiles/ftp_auth/distro_ftpusers/anonymous/tumor/stad/bcr/intgen.org/diagnostic_images/slide_images/intgen.org_STAD.diagnostic_images.Level_1.48.0.0/TCGA-BR-4253-01Z-00-DX1.1541e883-de6a-4cd3-a6f5-6866fd5f3439.svs\n",
      "\r",
      "\u001b[KTotal Processed: 111  Newly Processed: 0 Dup Slides or Already Loaded: 90  RESCANNED Slides 0"
     ]
    },
    {
     "name": "stderr",
     "output_type": "stream",
     "text": [
      " ()\n",
      "Verify failed with:"
     ]
    },
    {
     "name": "stdout",
     "output_type": "stream",
     "text": [
      "Openslide returned an error om tje StandardError block /TCGA_MIRROR/tcga-data.nci.nih.gov/tcgafiles/ftp_auth/distro_ftpusers/anonymous/tumor/stad/bcr/intgen.org/diagnostic_images/slide_images/intgen.org_STAD.diagnostic_images.Level_1.48.0.0/TCGA-BR-4256-01Z-00-DX1.682c72f4-e392-4941-bf24-63dd7a4afecc.svs\n",
      "SHIT IT DIED!\n",
      "insert into `corrupt_or_unreadable_svs_files` (full_file_name,filesize) Values ('/TCGA_MIRROR/tcga-data.nci.nih.gov/tcgafiles/ftp_auth/distro_ftpusers/anonymous/tumor/stad/bcr/intgen.org/diagnostic_images/slide_images/intgen.org_STAD.diagnostic_images.Level_1.48.0.0/TCGA-BR-4256-01Z-00-DX1.682c72f4-e392-4941-bf24-63dd7a4afecc.svs',481594) \n",
      "UNABLE TO OPEN FILE?? /TCGA_MIRROR/tcga-data.nci.nih.gov/tcgafiles/ftp_auth/distro_ftpusers/anonymous/tumor/stad/bcr/intgen.org/diagnostic_images/slide_images/intgen.org_STAD.diagnostic_images.Level_1.48.0.0/TCGA-BR-4256-01Z-00-DX1.682c72f4-e392-4941-bf24-63dd7a4afecc.svs\n",
      "\r",
      "\u001b[KTotal Processed: 112  Newly Processed: 0 Dup Slides or Already Loaded: 90  RESCANNED Slides 0"
     ]
    },
    {
     "name": "stderr",
     "output_type": "stream",
     "text": [
      " ()\n",
      "Verify failed with:"
     ]
    },
    {
     "name": "stdout",
     "output_type": "stream",
     "text": [
      "Openslide returned an error om tje StandardError block /TCGA_MIRROR/tcga-data.nci.nih.gov/tcgafiles/ftp_auth/distro_ftpusers/anonymous/tumor/stad/bcr/intgen.org/diagnostic_images/slide_images/intgen.org_STAD.diagnostic_images.Level_1.48.0.0/TCGA-BR-4188-01Z-00-DX1.34ff2bf8-cd91-4f50-a38a-8e3c3693537f.svs\n",
      "SHIT IT DIED!\n",
      "insert into `corrupt_or_unreadable_svs_files` (full_file_name,filesize) Values ('/TCGA_MIRROR/tcga-data.nci.nih.gov/tcgafiles/ftp_auth/distro_ftpusers/anonymous/tumor/stad/bcr/intgen.org/diagnostic_images/slide_images/intgen.org_STAD.diagnostic_images.Level_1.48.0.0/TCGA-BR-4188-01Z-00-DX1.34ff2bf8-cd91-4f50-a38a-8e3c3693537f.svs',482986) \n",
      "UNABLE TO OPEN FILE?? /TCGA_MIRROR/tcga-data.nci.nih.gov/tcgafiles/ftp_auth/distro_ftpusers/anonymous/tumor/stad/bcr/intgen.org/diagnostic_images/slide_images/intgen.org_STAD.diagnostic_images.Level_1.48.0.0/TCGA-BR-4188-01Z-00-DX1.34ff2bf8-cd91-4f50-a38a-8e3c3693537f.svs\n",
      "\r",
      "\u001b[KTotal Processed: 113  Newly Processed: 0 Dup Slides or Already Loaded: 90  RESCANNED Slides 0"
     ]
    },
    {
     "name": "stderr",
     "output_type": "stream",
     "text": [
      " ()\n",
      "Verify failed with:"
     ]
    },
    {
     "name": "stdout",
     "output_type": "stream",
     "text": [
      "Openslide returned an error om tje StandardError block /TCGA_MIRROR/tcga-data.nci.nih.gov/tcgafiles/ftp_auth/distro_ftpusers/anonymous/tumor/stad/bcr/intgen.org/diagnostic_images/slide_images/intgen.org_STAD.diagnostic_images.Level_1.48.0.0/TCGA-BR-4281-01Z-00-DX1.0ed527cd-aad4-4f06-a351-0a2d35713f3d.svs\n",
      "SHIT IT DIED!\n",
      "insert into `corrupt_or_unreadable_svs_files` (full_file_name,filesize) Values ('/TCGA_MIRROR/tcga-data.nci.nih.gov/tcgafiles/ftp_auth/distro_ftpusers/anonymous/tumor/stad/bcr/intgen.org/diagnostic_images/slide_images/intgen.org_STAD.diagnostic_images.Level_1.48.0.0/TCGA-BR-4281-01Z-00-DX1.0ed527cd-aad4-4f06-a351-0a2d35713f3d.svs',472568) \n",
      "UNABLE TO OPEN FILE?? /TCGA_MIRROR/tcga-data.nci.nih.gov/tcgafiles/ftp_auth/distro_ftpusers/anonymous/tumor/stad/bcr/intgen.org/diagnostic_images/slide_images/intgen.org_STAD.diagnostic_images.Level_1.48.0.0/TCGA-BR-4281-01Z-00-DX1.0ed527cd-aad4-4f06-a351-0a2d35713f3d.svs\n",
      "\r",
      "\u001b[KTotal Processed: 114  Newly Processed: 0 Dup Slides or Already Loaded: 90  RESCANNED Slides 0"
     ]
    },
    {
     "name": "stderr",
     "output_type": "stream",
     "text": [
      " ()\n",
      "Verify failed with:"
     ]
    },
    {
     "name": "stdout",
     "output_type": "stream",
     "text": [
      "Openslide returned an error om tje StandardError block /TCGA_MIRROR/tcga-data.nci.nih.gov/tcgafiles/ftp_auth/distro_ftpusers/anonymous/tumor/stad/bcr/intgen.org/diagnostic_images/slide_images/intgen.org_STAD.diagnostic_images.Level_1.48.0.0/TCGA-BR-4259-01Z-00-DX1.4524bfaf-7682-4bab-81b1-1949ca1ee3db.svs\n",
      "SHIT IT DIED!\n",
      "insert into `corrupt_or_unreadable_svs_files` (full_file_name,filesize) Values ('/TCGA_MIRROR/tcga-data.nci.nih.gov/tcgafiles/ftp_auth/distro_ftpusers/anonymous/tumor/stad/bcr/intgen.org/diagnostic_images/slide_images/intgen.org_STAD.diagnostic_images.Level_1.48.0.0/TCGA-BR-4259-01Z-00-DX1.4524bfaf-7682-4bab-81b1-1949ca1ee3db.svs',473338) \n",
      "UNABLE TO OPEN FILE?? /TCGA_MIRROR/tcga-data.nci.nih.gov/tcgafiles/ftp_auth/distro_ftpusers/anonymous/tumor/stad/bcr/intgen.org/diagnostic_images/slide_images/intgen.org_STAD.diagnostic_images.Level_1.48.0.0/TCGA-BR-4259-01Z-00-DX1.4524bfaf-7682-4bab-81b1-1949ca1ee3db.svs\n",
      "\r",
      "\u001b[KTotal Processed: 115  Newly Processed: 0 Dup Slides or Already Loaded: 90  RESCANNED Slides 0"
     ]
    },
    {
     "name": "stderr",
     "output_type": "stream",
     "text": [
      " ()\n",
      "Verify failed with:"
     ]
    },
    {
     "name": "stdout",
     "output_type": "stream",
     "text": [
      "Openslide returned an error om tje StandardError block /TCGA_MIRROR/tcga-data.nci.nih.gov/tcgafiles/ftp_auth/distro_ftpusers/anonymous/tumor/stad/bcr/intgen.org/diagnostic_images/slide_images/intgen.org_STAD.diagnostic_images.Level_1.48.0.0/TCGA-BR-4255-01Z-00-DX1.7c99233e-2bf3-4130-9852-7e7b34784366.svs\n",
      "SHIT IT DIED!\n",
      "insert into `corrupt_or_unreadable_svs_files` (full_file_name,filesize) Values ('/TCGA_MIRROR/tcga-data.nci.nih.gov/tcgafiles/ftp_auth/distro_ftpusers/anonymous/tumor/stad/bcr/intgen.org/diagnostic_images/slide_images/intgen.org_STAD.diagnostic_images.Level_1.48.0.0/TCGA-BR-4255-01Z-00-DX1.7c99233e-2bf3-4130-9852-7e7b34784366.svs',476708) \n",
      "UNABLE TO OPEN FILE?? /TCGA_MIRROR/tcga-data.nci.nih.gov/tcgafiles/ftp_auth/distro_ftpusers/anonymous/tumor/stad/bcr/intgen.org/diagnostic_images/slide_images/intgen.org_STAD.diagnostic_images.Level_1.48.0.0/TCGA-BR-4255-01Z-00-DX1.7c99233e-2bf3-4130-9852-7e7b34784366.svs\n",
      "\r",
      "\u001b[KTotal Processed: 116  Newly Processed: 0 Dup Slides or Already Loaded: 90  RESCANNED Slides 0"
     ]
    },
    {
     "name": "stderr",
     "output_type": "stream",
     "text": [
      " ()\n",
      "Verify failed with:"
     ]
    },
    {
     "name": "stdout",
     "output_type": "stream",
     "text": [
      "Openslide returned an error om tje StandardError block /TCGA_MIRROR/tcga-data.nci.nih.gov/tcgafiles/ftp_auth/distro_ftpusers/anonymous/tumor/stad/bcr/intgen.org/diagnostic_images/slide_images/intgen.org_STAD.diagnostic_images.Level_1.48.0.0/TCGA-BR-4195-01Z-00-DX1.c24db62d-3504-4f0f-a5df-0e2f6044b0f8.svs\n",
      "SHIT IT DIED!\n",
      "insert into `corrupt_or_unreadable_svs_files` (full_file_name,filesize) Values ('/TCGA_MIRROR/tcga-data.nci.nih.gov/tcgafiles/ftp_auth/distro_ftpusers/anonymous/tumor/stad/bcr/intgen.org/diagnostic_images/slide_images/intgen.org_STAD.diagnostic_images.Level_1.48.0.0/TCGA-BR-4195-01Z-00-DX1.c24db62d-3504-4f0f-a5df-0e2f6044b0f8.svs',482260) \n",
      "UNABLE TO OPEN FILE?? /TCGA_MIRROR/tcga-data.nci.nih.gov/tcgafiles/ftp_auth/distro_ftpusers/anonymous/tumor/stad/bcr/intgen.org/diagnostic_images/slide_images/intgen.org_STAD.diagnostic_images.Level_1.48.0.0/TCGA-BR-4195-01Z-00-DX1.c24db62d-3504-4f0f-a5df-0e2f6044b0f8.svs\n",
      "\r",
      "\u001b[KTotal Processed: 117  Newly Processed: 0 Dup Slides or Already Loaded: 90  RESCANNED Slides 0"
     ]
    },
    {
     "name": "stderr",
     "output_type": "stream",
     "text": [
      " ()\n",
      "Verify failed with:"
     ]
    },
    {
     "name": "stdout",
     "output_type": "stream",
     "text": [
      "Openslide returned an error om tje StandardError block /TCGA_MIRROR/tcga-data.nci.nih.gov/tcgafiles/ftp_auth/distro_ftpusers/anonymous/tumor/stad/bcr/intgen.org/diagnostic_images/slide_images/intgen.org_STAD.diagnostic_images.Level_1.48.0.0/TCGA-BR-4267-01Z-00-DX1.74687868-fdfb-4b11-8c72-a42703b5d06d.svs\n",
      "SHIT IT DIED!\n",
      "insert into `corrupt_or_unreadable_svs_files` (full_file_name,filesize) Values ('/TCGA_MIRROR/tcga-data.nci.nih.gov/tcgafiles/ftp_auth/distro_ftpusers/anonymous/tumor/stad/bcr/intgen.org/diagnostic_images/slide_images/intgen.org_STAD.diagnostic_images.Level_1.48.0.0/TCGA-BR-4267-01Z-00-DX1.74687868-fdfb-4b11-8c72-a42703b5d06d.svs',467454) \n",
      "UNABLE TO OPEN FILE?? /TCGA_MIRROR/tcga-data.nci.nih.gov/tcgafiles/ftp_auth/distro_ftpusers/anonymous/tumor/stad/bcr/intgen.org/diagnostic_images/slide_images/intgen.org_STAD.diagnostic_images.Level_1.48.0.0/TCGA-BR-4267-01Z-00-DX1.74687868-fdfb-4b11-8c72-a42703b5d06d.svs\n",
      "\r",
      "\u001b[KTotal Processed: 118  Newly Processed: 0 Dup Slides or Already Loaded: 90  RESCANNED Slides 0"
     ]
    },
    {
     "name": "stderr",
     "output_type": "stream",
     "text": [
      " ()\n",
      "Verify failed with:"
     ]
    },
    {
     "name": "stdout",
     "output_type": "stream",
     "text": [
      "Openslide returned an error om tje StandardError block /TCGA_MIRROR/tcga-data.nci.nih.gov/tcgafiles/ftp_auth/distro_ftpusers/anonymous/tumor/stad/bcr/intgen.org/diagnostic_images/slide_images/intgen.org_STAD.diagnostic_images.Level_1.48.0.0/TCGA-BR-4199-01Z-00-DX1.699c3af8-39c0-4bdd-a665-5308b6a2e037.svs\n",
      "SHIT IT DIED!\n",
      "insert into `corrupt_or_unreadable_svs_files` (full_file_name,filesize) Values ('/TCGA_MIRROR/tcga-data.nci.nih.gov/tcgafiles/ftp_auth/distro_ftpusers/anonymous/tumor/stad/bcr/intgen.org/diagnostic_images/slide_images/intgen.org_STAD.diagnostic_images.Level_1.48.0.0/TCGA-BR-4199-01Z-00-DX1.699c3af8-39c0-4bdd-a665-5308b6a2e037.svs',484638) \n",
      "UNABLE TO OPEN FILE?? /TCGA_MIRROR/tcga-data.nci.nih.gov/tcgafiles/ftp_auth/distro_ftpusers/anonymous/tumor/stad/bcr/intgen.org/diagnostic_images/slide_images/intgen.org_STAD.diagnostic_images.Level_1.48.0.0/TCGA-BR-4199-01Z-00-DX1.699c3af8-39c0-4bdd-a665-5308b6a2e037.svs\n",
      "\r",
      "\u001b[KTotal Processed: 119  Newly Processed: 0 Dup Slides or Already Loaded: 90  RESCANNED Slides 0"
     ]
    },
    {
     "name": "stderr",
     "output_type": "stream",
     "text": [
      " ()\n",
      "Verify failed with:"
     ]
    },
    {
     "name": "stdout",
     "output_type": "stream",
     "text": [
      "Openslide returned an error om tje StandardError block /TCGA_MIRROR/tcga-data.nci.nih.gov/tcgafiles/ftp_auth/distro_ftpusers/anonymous/tumor/stad/bcr/intgen.org/diagnostic_images/slide_images/intgen.org_STAD.diagnostic_images.Level_1.48.0.0/TCGA-BR-4194-01Z-00-DX1.d2ee8fea-c399-4d56-92c5-06f7ab94102d.svs\n",
      "SHIT IT DIED!\n",
      "insert into `corrupt_or_unreadable_svs_files` (full_file_name,filesize) Values ('/TCGA_MIRROR/tcga-data.nci.nih.gov/tcgafiles/ftp_auth/distro_ftpusers/anonymous/tumor/stad/bcr/intgen.org/diagnostic_images/slide_images/intgen.org_STAD.diagnostic_images.Level_1.48.0.0/TCGA-BR-4194-01Z-00-DX1.d2ee8fea-c399-4d56-92c5-06f7ab94102d.svs',475042) \n",
      "UNABLE TO OPEN FILE?? /TCGA_MIRROR/tcga-data.nci.nih.gov/tcgafiles/ftp_auth/distro_ftpusers/anonymous/tumor/stad/bcr/intgen.org/diagnostic_images/slide_images/intgen.org_STAD.diagnostic_images.Level_1.48.0.0/TCGA-BR-4194-01Z-00-DX1.d2ee8fea-c399-4d56-92c5-06f7ab94102d.svs\n",
      "\r",
      "\u001b[KTotal Processed: 120  Newly Processed: 0 Dup Slides or Already Loaded: 90  RESCANNED Slides 0"
     ]
    },
    {
     "name": "stderr",
     "output_type": "stream",
     "text": [
      " ()\n",
      "Verify failed with:"
     ]
    },
    {
     "name": "stdout",
     "output_type": "stream",
     "text": [
      "Openslide returned an error om tje StandardError block /TCGA_MIRROR/tcga-data.nci.nih.gov/tcgafiles/ftp_auth/distro_ftpusers/anonymous/tumor/stad/bcr/intgen.org/diagnostic_images/slide_images/intgen.org_STAD.diagnostic_images.Level_1.48.0.0/TCGA-BR-4201-01Z-00-DX1.7e3cbcf2-eb0e-4582-b5e1-f31c8a9ee5b7.svs\n",
      "SHIT IT DIED!\n",
      "insert into `corrupt_or_unreadable_svs_files` (full_file_name,filesize) Values ('/TCGA_MIRROR/tcga-data.nci.nih.gov/tcgafiles/ftp_auth/distro_ftpusers/anonymous/tumor/stad/bcr/intgen.org/diagnostic_images/slide_images/intgen.org_STAD.diagnostic_images.Level_1.48.0.0/TCGA-BR-4201-01Z-00-DX1.7e3cbcf2-eb0e-4582-b5e1-f31c8a9ee5b7.svs',477480) \n",
      "UNABLE TO OPEN FILE?? /TCGA_MIRROR/tcga-data.nci.nih.gov/tcgafiles/ftp_auth/distro_ftpusers/anonymous/tumor/stad/bcr/intgen.org/diagnostic_images/slide_images/intgen.org_STAD.diagnostic_images.Level_1.48.0.0/TCGA-BR-4201-01Z-00-DX1.7e3cbcf2-eb0e-4582-b5e1-f31c8a9ee5b7.svs\n",
      "\r",
      "\u001b[KTotal Processed: 121  Newly Processed: 0 Dup Slides or Already Loaded: 90  RESCANNED Slides 0"
     ]
    },
    {
     "name": "stderr",
     "output_type": "stream",
     "text": [
      " ()\n",
      "Verify failed with:"
     ]
    },
    {
     "name": "stdout",
     "output_type": "stream",
     "text": [
      "Openslide returned an error om tje StandardError block /TCGA_MIRROR/tcga-data.nci.nih.gov/tcgafiles/ftp_auth/distro_ftpusers/anonymous/tumor/stad/bcr/intgen.org/diagnostic_images/slide_images/intgen.org_STAD.diagnostic_images.Level_1.48.0.0/TCGA-BR-4298-01Z-00-DX1.8881a8f7-7b32-466d-8fe4-18fac2fa3858.svs\n",
      "SHIT IT DIED!\n",
      "insert into `corrupt_or_unreadable_svs_files` (full_file_name,filesize) Values ('/TCGA_MIRROR/tcga-data.nci.nih.gov/tcgafiles/ftp_auth/distro_ftpusers/anonymous/tumor/stad/bcr/intgen.org/diagnostic_images/slide_images/intgen.org_STAD.diagnostic_images.Level_1.48.0.0/TCGA-BR-4298-01Z-00-DX1.8881a8f7-7b32-466d-8fe4-18fac2fa3858.svs',474326) \n",
      "UNABLE TO OPEN FILE?? /TCGA_MIRROR/tcga-data.nci.nih.gov/tcgafiles/ftp_auth/distro_ftpusers/anonymous/tumor/stad/bcr/intgen.org/diagnostic_images/slide_images/intgen.org_STAD.diagnostic_images.Level_1.48.0.0/TCGA-BR-4298-01Z-00-DX1.8881a8f7-7b32-466d-8fe4-18fac2fa3858.svs\n",
      "\r",
      "\u001b[KTotal Processed: 122  Newly Processed: 0 Dup Slides or Already Loaded: 90  RESCANNED Slides 0"
     ]
    },
    {
     "name": "stderr",
     "output_type": "stream",
     "text": [
      " ()\n",
      "Verify failed with:"
     ]
    },
    {
     "name": "stdout",
     "output_type": "stream",
     "text": [
      "Openslide returned an error om tje StandardError block /TCGA_MIRROR/tcga-data.nci.nih.gov/tcgafiles/ftp_auth/distro_ftpusers/anonymous/tumor/stad/bcr/intgen.org/diagnostic_images/slide_images/intgen.org_STAD.diagnostic_images.Level_1.48.0.0/TCGA-BR-4280-01Z-00-DX1.b0cb7872-55cb-4c8b-bc91-70968d9c6c5e.svs\n",
      "SHIT IT DIED!\n",
      "insert into `corrupt_or_unreadable_svs_files` (full_file_name,filesize) Values ('/TCGA_MIRROR/tcga-data.nci.nih.gov/tcgafiles/ftp_auth/distro_ftpusers/anonymous/tumor/stad/bcr/intgen.org/diagnostic_images/slide_images/intgen.org_STAD.diagnostic_images.Level_1.48.0.0/TCGA-BR-4280-01Z-00-DX1.b0cb7872-55cb-4c8b-bc91-70968d9c6c5e.svs',477052) \n",
      "UNABLE TO OPEN FILE?? /TCGA_MIRROR/tcga-data.nci.nih.gov/tcgafiles/ftp_auth/distro_ftpusers/anonymous/tumor/stad/bcr/intgen.org/diagnostic_images/slide_images/intgen.org_STAD.diagnostic_images.Level_1.48.0.0/TCGA-BR-4280-01Z-00-DX1.b0cb7872-55cb-4c8b-bc91-70968d9c6c5e.svs\n",
      "\r",
      "\u001b[KTotal Processed: 123  Newly Processed: 0 Dup Slides or Already Loaded: 90  RESCANNED Slides 0"
     ]
    },
    {
     "name": "stderr",
     "output_type": "stream",
     "text": [
      " ()\n",
      "Verify failed with:"
     ]
    },
    {
     "name": "stdout",
     "output_type": "stream",
     "text": [
      "Openslide returned an error om tje StandardError block /TCGA_MIRROR/tcga-data.nci.nih.gov/tcgafiles/ftp_auth/distro_ftpusers/anonymous/tumor/stad/bcr/intgen.org/diagnostic_images/slide_images/intgen.org_STAD.diagnostic_images.Level_1.48.0.0/TCGA-BR-4279-01Z-00-DX1.3d749e63-3614-4475-b840-5401640f13d8.svs\n",
      "SHIT IT DIED!\n",
      "insert into `corrupt_or_unreadable_svs_files` (full_file_name,filesize) Values ('/TCGA_MIRROR/tcga-data.nci.nih.gov/tcgafiles/ftp_auth/distro_ftpusers/anonymous/tumor/stad/bcr/intgen.org/diagnostic_images/slide_images/intgen.org_STAD.diagnostic_images.Level_1.48.0.0/TCGA-BR-4279-01Z-00-DX1.3d749e63-3614-4475-b840-5401640f13d8.svs',476402) \n",
      "UNABLE TO OPEN FILE?? /TCGA_MIRROR/tcga-data.nci.nih.gov/tcgafiles/ftp_auth/distro_ftpusers/anonymous/tumor/stad/bcr/intgen.org/diagnostic_images/slide_images/intgen.org_STAD.diagnostic_images.Level_1.48.0.0/TCGA-BR-4279-01Z-00-DX1.3d749e63-3614-4475-b840-5401640f13d8.svs\n",
      "\r",
      "\u001b[KTotal Processed: 124  Newly Processed: 0 Dup Slides or Already Loaded: 90  RESCANNED Slides 0"
     ]
    },
    {
     "name": "stderr",
     "output_type": "stream",
     "text": [
      " ()\n",
      "Verify failed with:"
     ]
    },
    {
     "name": "stdout",
     "output_type": "stream",
     "text": [
      "Openslide returned an error om tje StandardError block /TCGA_MIRROR/tcga-data.nci.nih.gov/tcgafiles/ftp_auth/distro_ftpusers/anonymous/tumor/stad/bcr/intgen.org/diagnostic_images/slide_images/intgen.org_STAD.diagnostic_images.Level_1.48.0.0/TCGA-BR-4200-01Z-00-DX1.31024a13-30ee-4c3f-80b1-a21345afbb47.svs\n",
      "SHIT IT DIED!\n",
      "insert into `corrupt_or_unreadable_svs_files` (full_file_name,filesize) Values ('/TCGA_MIRROR/tcga-data.nci.nih.gov/tcgafiles/ftp_auth/distro_ftpusers/anonymous/tumor/stad/bcr/intgen.org/diagnostic_images/slide_images/intgen.org_STAD.diagnostic_images.Level_1.48.0.0/TCGA-BR-4200-01Z-00-DX1.31024a13-30ee-4c3f-80b1-a21345afbb47.svs',478058) \n",
      "UNABLE TO OPEN FILE?? /TCGA_MIRROR/tcga-data.nci.nih.gov/tcgafiles/ftp_auth/distro_ftpusers/anonymous/tumor/stad/bcr/intgen.org/diagnostic_images/slide_images/intgen.org_STAD.diagnostic_images.Level_1.48.0.0/TCGA-BR-4200-01Z-00-DX1.31024a13-30ee-4c3f-80b1-a21345afbb47.svs\n",
      "\r",
      "\u001b[KTotal Processed: 125  Newly Processed: 0 Dup Slides or Already Loaded: 90  RESCANNED Slides 0"
     ]
    },
    {
     "name": "stderr",
     "output_type": "stream",
     "text": [
      " ()\n",
      "Verify failed with:"
     ]
    },
    {
     "name": "stdout",
     "output_type": "stream",
     "text": [
      "Openslide returned an error om tje StandardError block /TCGA_MIRROR/tcga-data.nci.nih.gov/tcgafiles/ftp_auth/distro_ftpusers/anonymous/tumor/stad/bcr/intgen.org/diagnostic_images/slide_images/intgen.org_STAD.diagnostic_images.Level_1.48.0.0/TCGA-BR-4291-01Z-00-DX1.195d55f4-5981-4d1b-b963-ac9f1a5790a9.svs\n",
      "SHIT IT DIED!\n",
      "insert into `corrupt_or_unreadable_svs_files` (full_file_name,filesize) Values ('/TCGA_MIRROR/tcga-data.nci.nih.gov/tcgafiles/ftp_auth/distro_ftpusers/anonymous/tumor/stad/bcr/intgen.org/diagnostic_images/slide_images/intgen.org_STAD.diagnostic_images.Level_1.48.0.0/TCGA-BR-4291-01Z-00-DX1.195d55f4-5981-4d1b-b963-ac9f1a5790a9.svs',476462) \n",
      "UNABLE TO OPEN FILE?? /TCGA_MIRROR/tcga-data.nci.nih.gov/tcgafiles/ftp_auth/distro_ftpusers/anonymous/tumor/stad/bcr/intgen.org/diagnostic_images/slide_images/intgen.org_STAD.diagnostic_images.Level_1.48.0.0/TCGA-BR-4291-01Z-00-DX1.195d55f4-5981-4d1b-b963-ac9f1a5790a9.svs\n",
      "\r",
      "\u001b[KTotal Processed: 126  Newly Processed: 0 Dup Slides or Already Loaded: 90  RESCANNED Slides 0"
     ]
    },
    {
     "name": "stderr",
     "output_type": "stream",
     "text": [
      " ()\n",
      "Verify failed with:"
     ]
    },
    {
     "name": "stdout",
     "output_type": "stream",
     "text": [
      "Openslide returned an error om tje StandardError block /TCGA_MIRROR/tcga-data.nci.nih.gov/tcgafiles/ftp_auth/distro_ftpusers/anonymous/tumor/stad/bcr/intgen.org/diagnostic_images/slide_images/intgen.org_STAD.diagnostic_images.Level_1.48.0.0/TCGA-BR-4257-01Z-00-DX1.fd97fe9a-2e87-455d-9555-38b6621433d1.svs\n",
      "SHIT IT DIED!\n",
      "insert into `corrupt_or_unreadable_svs_files` (full_file_name,filesize) Values ('/TCGA_MIRROR/tcga-data.nci.nih.gov/tcgafiles/ftp_auth/distro_ftpusers/anonymous/tumor/stad/bcr/intgen.org/diagnostic_images/slide_images/intgen.org_STAD.diagnostic_images.Level_1.48.0.0/TCGA-BR-4257-01Z-00-DX1.fd97fe9a-2e87-455d-9555-38b6621433d1.svs',480888) \n",
      "UNABLE TO OPEN FILE?? /TCGA_MIRROR/tcga-data.nci.nih.gov/tcgafiles/ftp_auth/distro_ftpusers/anonymous/tumor/stad/bcr/intgen.org/diagnostic_images/slide_images/intgen.org_STAD.diagnostic_images.Level_1.48.0.0/TCGA-BR-4257-01Z-00-DX1.fd97fe9a-2e87-455d-9555-38b6621433d1.svs\n",
      "\r",
      "\u001b[KTotal Processed: 127  Newly Processed: 0 Dup Slides or Already Loaded: 90  RESCANNED Slides 0"
     ]
    },
    {
     "name": "stderr",
     "output_type": "stream",
     "text": [
      " ()\n",
      "Verify failed with:"
     ]
    },
    {
     "name": "stdout",
     "output_type": "stream",
     "text": [
      "Openslide returned an error om tje StandardError block /TCGA_MIRROR/tcga-data.nci.nih.gov/tcgafiles/ftp_auth/distro_ftpusers/anonymous/tumor/stad/bcr/intgen.org/diagnostic_images/slide_images/intgen.org_STAD.diagnostic_images.Level_1.48.0.0/TCGA-BR-4261-01Z-00-DX1.c7f60061-0f7f-4fb2-9d90-00f0abc7af7f.svs\n",
      "SHIT IT DIED!\n",
      "insert into `corrupt_or_unreadable_svs_files` (full_file_name,filesize) Values ('/TCGA_MIRROR/tcga-data.nci.nih.gov/tcgafiles/ftp_auth/distro_ftpusers/anonymous/tumor/stad/bcr/intgen.org/diagnostic_images/slide_images/intgen.org_STAD.diagnostic_images.Level_1.48.0.0/TCGA-BR-4261-01Z-00-DX1.c7f60061-0f7f-4fb2-9d90-00f0abc7af7f.svs',478188) \n",
      "UNABLE TO OPEN FILE?? /TCGA_MIRROR/tcga-data.nci.nih.gov/tcgafiles/ftp_auth/distro_ftpusers/anonymous/tumor/stad/bcr/intgen.org/diagnostic_images/slide_images/intgen.org_STAD.diagnostic_images.Level_1.48.0.0/TCGA-BR-4261-01Z-00-DX1.c7f60061-0f7f-4fb2-9d90-00f0abc7af7f.svs\n",
      "\r",
      "\u001b[KTotal Processed: 128  Newly Processed: 0 Dup Slides or Already Loaded: 90  RESCANNED Slides 0"
     ]
    },
    {
     "name": "stderr",
     "output_type": "stream",
     "text": [
      " ()\n",
      "Verify failed with:"
     ]
    },
    {
     "name": "stdout",
     "output_type": "stream",
     "text": [
      "Openslide returned an error om tje StandardError block /TCGA_MIRROR/tcga-data.nci.nih.gov/tcgafiles/ftp_auth/distro_ftpusers/anonymous/tumor/stad/bcr/intgen.org/diagnostic_images/slide_images/intgen.org_STAD.diagnostic_images.Level_1.48.0.0/TCGA-BR-4191-01Z-00-DX1.6f25e7af-44be-41bc-85c4-22729d6ec585.svs\n",
      "SHIT IT DIED!\n",
      "insert into `corrupt_or_unreadable_svs_files` (full_file_name,filesize) Values ('/TCGA_MIRROR/tcga-data.nci.nih.gov/tcgafiles/ftp_auth/distro_ftpusers/anonymous/tumor/stad/bcr/intgen.org/diagnostic_images/slide_images/intgen.org_STAD.diagnostic_images.Level_1.48.0.0/TCGA-BR-4191-01Z-00-DX1.6f25e7af-44be-41bc-85c4-22729d6ec585.svs',483204) \n",
      "UNABLE TO OPEN FILE?? /TCGA_MIRROR/tcga-data.nci.nih.gov/tcgafiles/ftp_auth/distro_ftpusers/anonymous/tumor/stad/bcr/intgen.org/diagnostic_images/slide_images/intgen.org_STAD.diagnostic_images.Level_1.48.0.0/TCGA-BR-4191-01Z-00-DX1.6f25e7af-44be-41bc-85c4-22729d6ec585.svs\n",
      "\r",
      "\u001b[KTotal Processed: 129  Newly Processed: 0 Dup Slides or Already Loaded: 90  RESCANNED Slides 0"
     ]
    },
    {
     "name": "stderr",
     "output_type": "stream",
     "text": [
      " ()\n",
      "Verify failed with:"
     ]
    },
    {
     "name": "stdout",
     "output_type": "stream",
     "text": [
      "Openslide returned an error om tje StandardError block /TCGA_MIRROR/tcga-data.nci.nih.gov/tcgafiles/ftp_auth/distro_ftpusers/anonymous/tumor/stad/bcr/intgen.org/diagnostic_images/slide_images/intgen.org_STAD.diagnostic_images.Level_1.48.0.0/TCGA-BR-4190-01Z-00-DX1.5f7cca95-1fe1-451d-96da-4ccbd7d70446.svs\n",
      "SHIT IT DIED!\n",
      "insert into `corrupt_or_unreadable_svs_files` (full_file_name,filesize) Values ('/TCGA_MIRROR/tcga-data.nci.nih.gov/tcgafiles/ftp_auth/distro_ftpusers/anonymous/tumor/stad/bcr/intgen.org/diagnostic_images/slide_images/intgen.org_STAD.diagnostic_images.Level_1.48.0.0/TCGA-BR-4190-01Z-00-DX1.5f7cca95-1fe1-451d-96da-4ccbd7d70446.svs',484702) \n",
      "UNABLE TO OPEN FILE?? /TCGA_MIRROR/tcga-data.nci.nih.gov/tcgafiles/ftp_auth/distro_ftpusers/anonymous/tumor/stad/bcr/intgen.org/diagnostic_images/slide_images/intgen.org_STAD.diagnostic_images.Level_1.48.0.0/TCGA-BR-4190-01Z-00-DX1.5f7cca95-1fe1-451d-96da-4ccbd7d70446.svs\n",
      "\u001b[KTotal Processed: 163  Newly Processed: 0 Dup Slides or Already Loaded: 123  RESCANNED Slides 0"
     ]
    },
    {
     "name": "stderr",
     "output_type": "stream",
     "text": [
      " ()\n",
      "Verify failed with:"
     ]
    },
    {
     "name": "stdout",
     "output_type": "stream",
     "text": [
      "Openslide returned an error om tje StandardError block /TCGA_MIRROR/tcga-data.nci.nih.gov/tcgafiles/ftp_auth/distro_ftpusers/anonymous/tumor/stad/bcr/intgen.org/diagnostic_images/slide_images/intgen.org_STAD.diagnostic_images.Level_1.152.2.0/TCGA-BR-4288-01Z-00-DX1.49bd90bf-d921-4066-b7f6-b2c8a1bb7e9f.svs\n",
      "SHIT IT DIED!\n",
      "insert into `corrupt_or_unreadable_svs_files` (full_file_name,filesize) Values ('/TCGA_MIRROR/tcga-data.nci.nih.gov/tcgafiles/ftp_auth/distro_ftpusers/anonymous/tumor/stad/bcr/intgen.org/diagnostic_images/slide_images/intgen.org_STAD.diagnostic_images.Level_1.152.2.0/TCGA-BR-4288-01Z-00-DX1.49bd90bf-d921-4066-b7f6-b2c8a1bb7e9f.svs',477036) \n",
      "UNABLE TO OPEN FILE?? /TCGA_MIRROR/tcga-data.nci.nih.gov/tcgafiles/ftp_auth/distro_ftpusers/anonymous/tumor/stad/bcr/intgen.org/diagnostic_images/slide_images/intgen.org_STAD.diagnostic_images.Level_1.152.2.0/TCGA-BR-4288-01Z-00-DX1.49bd90bf-d921-4066-b7f6-b2c8a1bb7e9f.svs\n",
      "\u001b[KTotal Processed: 270  Newly Processed: 0 Dup Slides or Already Loaded: 229  RESCANNED Slides 0"
     ]
    },
    {
     "name": "stderr",
     "output_type": "stream",
     "text": [
      " ()\n",
      "Verify failed with:"
     ]
    },
    {
     "name": "stdout",
     "output_type": "stream",
     "text": [
      "Openslide returned an error om tje StandardError block /TCGA_MIRROR/tcga-data.nci.nih.gov/tcgafiles/ftp_auth/distro_ftpusers/anonymous/tumor/stad/bcr/intgen.org/diagnostic_images/slide_images/intgen.org_STAD.diagnostic_images.Level_1.152.3.0/TCGA-BR-4288-01Z-00-DX1.49bd90bf-d921-4066-b7f6-b2c8a1bb7e9f.svs\n",
      "SHIT IT DIED!\n",
      "insert into `corrupt_or_unreadable_svs_files` (full_file_name,filesize) Values ('/TCGA_MIRROR/tcga-data.nci.nih.gov/tcgafiles/ftp_auth/distro_ftpusers/anonymous/tumor/stad/bcr/intgen.org/diagnostic_images/slide_images/intgen.org_STAD.diagnostic_images.Level_1.152.3.0/TCGA-BR-4288-01Z-00-DX1.49bd90bf-d921-4066-b7f6-b2c8a1bb7e9f.svs',477036) \n",
      "UNABLE TO OPEN FILE?? /TCGA_MIRROR/tcga-data.nci.nih.gov/tcgafiles/ftp_auth/distro_ftpusers/anonymous/tumor/stad/bcr/intgen.org/diagnostic_images/slide_images/intgen.org_STAD.diagnostic_images.Level_1.152.3.0/TCGA-BR-4288-01Z-00-DX1.49bd90bf-d921-4066-b7f6-b2c8a1bb7e9f.svs\n",
      "\u001b[KTotal Processed: 1437  Newly Processed: 0 Dup Slides or Already Loaded: 1392  RESCANNED Slides 3"
     ]
    },
    {
     "name": "stderr",
     "output_type": "stream",
     "text": [
      " ()\n",
      "Verify failed with:"
     ]
    },
    {
     "name": "stdout",
     "output_type": "stream",
     "text": [
      "Openslide returned an error om tje StandardError block /TCGA_MIRROR/tcga-data.nci.nih.gov/tcgafiles/ftp_auth/distro_ftpusers/anonymous/tumor/stad/bcr/nationwidechildrens.org/diagnostic_images/slide_images/nationwidechildrens.org_STAD.diagnostic_images.Level_1.95.9.0/TCGA-CG-5722-01Z-00-DX1.C1B50B01-0328-4DAF-8EDA-024D2A7EC07F.svs\n",
      "SHIT IT DIED!\n",
      "insert into `corrupt_or_unreadable_svs_files` (full_file_name,filesize) Values ('/TCGA_MIRROR/tcga-data.nci.nih.gov/tcgafiles/ftp_auth/distro_ftpusers/anonymous/tumor/stad/bcr/nationwidechildrens.org/diagnostic_images/slide_images/nationwidechildrens.org_STAD.diagnostic_images.Level_1.95.9.0/TCGA-CG-5722-01Z-00-DX1.C1B50B01-0328-4DAF-8EDA-024D2A7EC07F.svs',11217932) \n",
      "UNABLE TO OPEN FILE?? /TCGA_MIRROR/tcga-data.nci.nih.gov/tcgafiles/ftp_auth/distro_ftpusers/anonymous/tumor/stad/bcr/nationwidechildrens.org/diagnostic_images/slide_images/nationwidechildrens.org_STAD.diagnostic_images.Level_1.95.9.0/TCGA-CG-5722-01Z-00-DX1.C1B50B01-0328-4DAF-8EDA-024D2A7EC07F.svs\n",
      "\r",
      "\u001b[KTotal Processed: 1438  Newly Processed: 0 Dup Slides or Already Loaded: 1392  RESCANNED Slides 3"
     ]
    },
    {
     "name": "stderr",
     "output_type": "stream",
     "text": [
      " ()\n",
      "Verify failed with:"
     ]
    },
    {
     "name": "stdout",
     "output_type": "stream",
     "text": [
      "Openslide returned an error om tje StandardError block /TCGA_MIRROR/tcga-data.nci.nih.gov/tcgafiles/ftp_auth/distro_ftpusers/anonymous/tumor/stad/bcr/nationwidechildrens.org/diagnostic_images/slide_images/nationwidechildrens.org_STAD.diagnostic_images.Level_1.95.9.0/TCGA-CG-5717-01Z-00-DX1.6E375046-B9C3-49DD-A934-9AE4BE2895E0.svs\n",
      "SHIT IT DIED!\n",
      "insert into `corrupt_or_unreadable_svs_files` (full_file_name,filesize) Values ('/TCGA_MIRROR/tcga-data.nci.nih.gov/tcgafiles/ftp_auth/distro_ftpusers/anonymous/tumor/stad/bcr/nationwidechildrens.org/diagnostic_images/slide_images/nationwidechildrens.org_STAD.diagnostic_images.Level_1.95.9.0/TCGA-CG-5717-01Z-00-DX1.6E375046-B9C3-49DD-A934-9AE4BE2895E0.svs',10498386) \n",
      "UNABLE TO OPEN FILE?? /TCGA_MIRROR/tcga-data.nci.nih.gov/tcgafiles/ftp_auth/distro_ftpusers/anonymous/tumor/stad/bcr/nationwidechildrens.org/diagnostic_images/slide_images/nationwidechildrens.org_STAD.diagnostic_images.Level_1.95.9.0/TCGA-CG-5717-01Z-00-DX1.6E375046-B9C3-49DD-A934-9AE4BE2895E0.svs\n",
      "\r",
      "\u001b[KTotal Processed: 1439  Newly Processed: 0 Dup Slides or Already Loaded: 1392  RESCANNED Slides 3"
     ]
    },
    {
     "name": "stderr",
     "output_type": "stream",
     "text": [
      " ()\n",
      "Verify failed with:"
     ]
    },
    {
     "name": "stdout",
     "output_type": "stream",
     "text": [
      "Openslide returned an error om tje StandardError block /TCGA_MIRROR/tcga-data.nci.nih.gov/tcgafiles/ftp_auth/distro_ftpusers/anonymous/tumor/stad/bcr/nationwidechildrens.org/diagnostic_images/slide_images/nationwidechildrens.org_STAD.diagnostic_images.Level_1.95.9.0/TCGA-CG-5721-01Z-00-DX1.F4E6AF45-0B1D-499E-AE95-6AFC9344F731.svs\n",
      "SHIT IT DIED!\n",
      "insert into `corrupt_or_unreadable_svs_files` (full_file_name,filesize) Values ('/TCGA_MIRROR/tcga-data.nci.nih.gov/tcgafiles/ftp_auth/distro_ftpusers/anonymous/tumor/stad/bcr/nationwidechildrens.org/diagnostic_images/slide_images/nationwidechildrens.org_STAD.diagnostic_images.Level_1.95.9.0/TCGA-CG-5721-01Z-00-DX1.F4E6AF45-0B1D-499E-AE95-6AFC9344F731.svs',6635258) \n",
      "UNABLE TO OPEN FILE?? /TCGA_MIRROR/tcga-data.nci.nih.gov/tcgafiles/ftp_auth/distro_ftpusers/anonymous/tumor/stad/bcr/nationwidechildrens.org/diagnostic_images/slide_images/nationwidechildrens.org_STAD.diagnostic_images.Level_1.95.9.0/TCGA-CG-5721-01Z-00-DX1.F4E6AF45-0B1D-499E-AE95-6AFC9344F731.svs\n",
      "\u001b[KTotal Processed: 1442  Newly Processed: 0 Dup Slides or Already Loaded: 1394  RESCANNED Slides 3"
     ]
    },
    {
     "name": "stderr",
     "output_type": "stream",
     "text": [
      " ()\n",
      "Verify failed with:"
     ]
    },
    {
     "name": "stdout",
     "output_type": "stream",
     "text": [
      "Openslide returned an error om tje StandardError block /TCGA_MIRROR/tcga-data.nci.nih.gov/tcgafiles/ftp_auth/distro_ftpusers/anonymous/tumor/stad/bcr/nationwidechildrens.org/diagnostic_images/slide_images/nationwidechildrens.org_STAD.diagnostic_images.Level_1.95.9.0/TCGA-CG-5730-01Z-00-DX1.FA6F1EEE-3581-4824-AFC2-A5FFC04DF5A2.svs\n",
      "SHIT IT DIED!\n",
      "insert into `corrupt_or_unreadable_svs_files` (full_file_name,filesize) Values ('/TCGA_MIRROR/tcga-data.nci.nih.gov/tcgafiles/ftp_auth/distro_ftpusers/anonymous/tumor/stad/bcr/nationwidechildrens.org/diagnostic_images/slide_images/nationwidechildrens.org_STAD.diagnostic_images.Level_1.95.9.0/TCGA-CG-5730-01Z-00-DX1.FA6F1EEE-3581-4824-AFC2-A5FFC04DF5A2.svs',8230092) \n",
      "UNABLE TO OPEN FILE?? /TCGA_MIRROR/tcga-data.nci.nih.gov/tcgafiles/ftp_auth/distro_ftpusers/anonymous/tumor/stad/bcr/nationwidechildrens.org/diagnostic_images/slide_images/nationwidechildrens.org_STAD.diagnostic_images.Level_1.95.9.0/TCGA-CG-5730-01Z-00-DX1.FA6F1EEE-3581-4824-AFC2-A5FFC04DF5A2.svs\n",
      "\r",
      "\u001b[KTotal Processed: 1443  Newly Processed: 0 Dup Slides or Already Loaded: 1394  RESCANNED Slides 3"
     ]
    },
    {
     "name": "stderr",
     "output_type": "stream",
     "text": [
      " ()\n",
      "Verify failed with:"
     ]
    },
    {
     "name": "stdout",
     "output_type": "stream",
     "text": [
      "Openslide returned an error om tje StandardError block /TCGA_MIRROR/tcga-data.nci.nih.gov/tcgafiles/ftp_auth/distro_ftpusers/anonymous/tumor/stad/bcr/nationwidechildrens.org/diagnostic_images/slide_images/nationwidechildrens.org_STAD.diagnostic_images.Level_1.95.9.0/TCGA-CG-5725-01Z-00-DX1.2FDB162B-9080-434D-AEE0-B867BE8D3786.svs\n",
      "SHIT IT DIED!\n",
      "insert into `corrupt_or_unreadable_svs_files` (full_file_name,filesize) Values ('/TCGA_MIRROR/tcga-data.nci.nih.gov/tcgafiles/ftp_auth/distro_ftpusers/anonymous/tumor/stad/bcr/nationwidechildrens.org/diagnostic_images/slide_images/nationwidechildrens.org_STAD.diagnostic_images.Level_1.95.9.0/TCGA-CG-5725-01Z-00-DX1.2FDB162B-9080-434D-AEE0-B867BE8D3786.svs',6718668) \n",
      "UNABLE TO OPEN FILE?? /TCGA_MIRROR/tcga-data.nci.nih.gov/tcgafiles/ftp_auth/distro_ftpusers/anonymous/tumor/stad/bcr/nationwidechildrens.org/diagnostic_images/slide_images/nationwidechildrens.org_STAD.diagnostic_images.Level_1.95.9.0/TCGA-CG-5725-01Z-00-DX1.2FDB162B-9080-434D-AEE0-B867BE8D3786.svs\n",
      "\u001b[KTotal Processed: 1446  Newly Processed: 0 Dup Slides or Already Loaded: 1396  RESCANNED Slides 3"
     ]
    },
    {
     "name": "stderr",
     "output_type": "stream",
     "text": [
      " ()\n",
      "Verify failed with:"
     ]
    },
    {
     "name": "stdout",
     "output_type": "stream",
     "text": [
      "Openslide returned an error om tje StandardError block /TCGA_MIRROR/tcga-data.nci.nih.gov/tcgafiles/ftp_auth/distro_ftpusers/anonymous/tumor/stad/bcr/nationwidechildrens.org/diagnostic_images/slide_images/nationwidechildrens.org_STAD.diagnostic_images.Level_1.95.9.0/TCGA-CG-5723-01Z-00-DX1.A0FB6EFA-304F-4267-8C6E-D9E750F67FDC.svs\n",
      "SHIT IT DIED!\n",
      "insert into `corrupt_or_unreadable_svs_files` (full_file_name,filesize) Values ('/TCGA_MIRROR/tcga-data.nci.nih.gov/tcgafiles/ftp_auth/distro_ftpusers/anonymous/tumor/stad/bcr/nationwidechildrens.org/diagnostic_images/slide_images/nationwidechildrens.org_STAD.diagnostic_images.Level_1.95.9.0/TCGA-CG-5723-01Z-00-DX1.A0FB6EFA-304F-4267-8C6E-D9E750F67FDC.svs',10416554) \n",
      "UNABLE TO OPEN FILE?? /TCGA_MIRROR/tcga-data.nci.nih.gov/tcgafiles/ftp_auth/distro_ftpusers/anonymous/tumor/stad/bcr/nationwidechildrens.org/diagnostic_images/slide_images/nationwidechildrens.org_STAD.diagnostic_images.Level_1.95.9.0/TCGA-CG-5723-01Z-00-DX1.A0FB6EFA-304F-4267-8C6E-D9E750F67FDC.svs\n",
      "\r",
      "\u001b[KTotal Processed: 1447  Newly Processed: 0 Dup Slides or Already Loaded: 1396  RESCANNED Slides 3"
     ]
    },
    {
     "name": "stderr",
     "output_type": "stream",
     "text": [
      " ()\n",
      "Verify failed with:"
     ]
    },
    {
     "name": "stdout",
     "output_type": "stream",
     "text": [
      "Openslide returned an error om tje StandardError block /TCGA_MIRROR/tcga-data.nci.nih.gov/tcgafiles/ftp_auth/distro_ftpusers/anonymous/tumor/stad/bcr/nationwidechildrens.org/diagnostic_images/slide_images/nationwidechildrens.org_STAD.diagnostic_images.Level_1.95.9.0/TCGA-CG-5728-01Z-00-DX1.F370843C-2958-463F-90F9-DB3F08B8554B.svs\n",
      "SHIT IT DIED!\n",
      "insert into `corrupt_or_unreadable_svs_files` (full_file_name,filesize) Values ('/TCGA_MIRROR/tcga-data.nci.nih.gov/tcgafiles/ftp_auth/distro_ftpusers/anonymous/tumor/stad/bcr/nationwidechildrens.org/diagnostic_images/slide_images/nationwidechildrens.org_STAD.diagnostic_images.Level_1.95.9.0/TCGA-CG-5728-01Z-00-DX1.F370843C-2958-463F-90F9-DB3F08B8554B.svs',6257192) \n",
      "UNABLE TO OPEN FILE?? /TCGA_MIRROR/tcga-data.nci.nih.gov/tcgafiles/ftp_auth/distro_ftpusers/anonymous/tumor/stad/bcr/nationwidechildrens.org/diagnostic_images/slide_images/nationwidechildrens.org_STAD.diagnostic_images.Level_1.95.9.0/TCGA-CG-5728-01Z-00-DX1.F370843C-2958-463F-90F9-DB3F08B8554B.svs\n",
      "\u001b[KTotal Processed: 1450  Newly Processed: 0 Dup Slides or Already Loaded: 1398  RESCANNED Slides 3"
     ]
    },
    {
     "name": "stderr",
     "output_type": "stream",
     "text": [
      " ()\n",
      "Verify failed with:"
     ]
    },
    {
     "name": "stdout",
     "output_type": "stream",
     "text": [
      "Openslide returned an error om tje StandardError block /TCGA_MIRROR/tcga-data.nci.nih.gov/tcgafiles/ftp_auth/distro_ftpusers/anonymous/tumor/stad/bcr/nationwidechildrens.org/diagnostic_images/slide_images/nationwidechildrens.org_STAD.diagnostic_images.Level_1.95.9.0/TCGA-CG-5718-01Z-00-DX1.4BA9B20E-9555-4993-9B55-9E5A9C5C3905.svs\n",
      "SHIT IT DIED!\n",
      "insert into `corrupt_or_unreadable_svs_files` (full_file_name,filesize) Values ('/TCGA_MIRROR/tcga-data.nci.nih.gov/tcgafiles/ftp_auth/distro_ftpusers/anonymous/tumor/stad/bcr/nationwidechildrens.org/diagnostic_images/slide_images/nationwidechildrens.org_STAD.diagnostic_images.Level_1.95.9.0/TCGA-CG-5718-01Z-00-DX1.4BA9B20E-9555-4993-9B55-9E5A9C5C3905.svs',12512184) \n",
      "UNABLE TO OPEN FILE?? /TCGA_MIRROR/tcga-data.nci.nih.gov/tcgafiles/ftp_auth/distro_ftpusers/anonymous/tumor/stad/bcr/nationwidechildrens.org/diagnostic_images/slide_images/nationwidechildrens.org_STAD.diagnostic_images.Level_1.95.9.0/TCGA-CG-5718-01Z-00-DX1.4BA9B20E-9555-4993-9B55-9E5A9C5C3905.svs\n",
      "\u001b[KTotal Processed: 1452  Newly Processed: 0 Dup Slides or Already Loaded: 1399  RESCANNED Slides 3"
     ]
    },
    {
     "name": "stderr",
     "output_type": "stream",
     "text": [
      " ()\n",
      "Verify failed with:"
     ]
    },
    {
     "name": "stdout",
     "output_type": "stream",
     "text": [
      "Openslide returned an error om tje StandardError block /TCGA_MIRROR/tcga-data.nci.nih.gov/tcgafiles/ftp_auth/distro_ftpusers/anonymous/tumor/stad/bcr/nationwidechildrens.org/diagnostic_images/slide_images/nationwidechildrens.org_STAD.diagnostic_images.Level_1.95.9.0/TCGA-CG-5724-01Z-00-DX1.89B75EBF-BF6E-418F-8FA7-F564055EE6DA.svs\n",
      "SHIT IT DIED!\n",
      "insert into `corrupt_or_unreadable_svs_files` (full_file_name,filesize) Values ('/TCGA_MIRROR/tcga-data.nci.nih.gov/tcgafiles/ftp_auth/distro_ftpusers/anonymous/tumor/stad/bcr/nationwidechildrens.org/diagnostic_images/slide_images/nationwidechildrens.org_STAD.diagnostic_images.Level_1.95.9.0/TCGA-CG-5724-01Z-00-DX1.89B75EBF-BF6E-418F-8FA7-F564055EE6DA.svs',7914250) \n",
      "UNABLE TO OPEN FILE?? /TCGA_MIRROR/tcga-data.nci.nih.gov/tcgafiles/ftp_auth/distro_ftpusers/anonymous/tumor/stad/bcr/nationwidechildrens.org/diagnostic_images/slide_images/nationwidechildrens.org_STAD.diagnostic_images.Level_1.95.9.0/TCGA-CG-5724-01Z-00-DX1.89B75EBF-BF6E-418F-8FA7-F564055EE6DA.svs\n",
      "\u001b[KTotal Processed: 1455  Newly Processed: 0 Dup Slides or Already Loaded: 1401  RESCANNED Slides 3"
     ]
    },
    {
     "name": "stderr",
     "output_type": "stream",
     "text": [
      " ()\n",
      "Verify failed with:"
     ]
    },
    {
     "name": "stdout",
     "output_type": "stream",
     "text": [
      "Openslide returned an error om tje StandardError block /TCGA_MIRROR/tcga-data.nci.nih.gov/tcgafiles/ftp_auth/distro_ftpusers/anonymous/tumor/stad/bcr/nationwidechildrens.org/diagnostic_images/slide_images/nationwidechildrens.org_STAD.diagnostic_images.Level_1.95.9.0/TCGA-CG-5732-01Z-00-DX1.56EE8B97-4D88-4EA1-9EC9-B1A9F79C35D5.svs\n",
      "SHIT IT DIED!\n",
      "insert into `corrupt_or_unreadable_svs_files` (full_file_name,filesize) Values ('/TCGA_MIRROR/tcga-data.nci.nih.gov/tcgafiles/ftp_auth/distro_ftpusers/anonymous/tumor/stad/bcr/nationwidechildrens.org/diagnostic_images/slide_images/nationwidechildrens.org_STAD.diagnostic_images.Level_1.95.9.0/TCGA-CG-5732-01Z-00-DX1.56EE8B97-4D88-4EA1-9EC9-B1A9F79C35D5.svs',9209420) \n",
      "UNABLE TO OPEN FILE?? /TCGA_MIRROR/tcga-data.nci.nih.gov/tcgafiles/ftp_auth/distro_ftpusers/anonymous/tumor/stad/bcr/nationwidechildrens.org/diagnostic_images/slide_images/nationwidechildrens.org_STAD.diagnostic_images.Level_1.95.9.0/TCGA-CG-5732-01Z-00-DX1.56EE8B97-4D88-4EA1-9EC9-B1A9F79C35D5.svs\n",
      "\u001b[KTotal Processed: 1457  Newly Processed: 0 Dup Slides or Already Loaded: 1402  RESCANNED Slides 3"
     ]
    },
    {
     "name": "stderr",
     "output_type": "stream",
     "text": [
      " ()\n",
      "Verify failed with:"
     ]
    },
    {
     "name": "stdout",
     "output_type": "stream",
     "text": [
      "Openslide returned an error om tje StandardError block /TCGA_MIRROR/tcga-data.nci.nih.gov/tcgafiles/ftp_auth/distro_ftpusers/anonymous/tumor/stad/bcr/nationwidechildrens.org/diagnostic_images/slide_images/nationwidechildrens.org_STAD.diagnostic_images.Level_1.95.9.0/TCGA-CG-5720-01Z-00-DX1.934A284B-B33A-4C76-B423-2110012B7178.svs\n",
      "SHIT IT DIED!\n",
      "insert into `corrupt_or_unreadable_svs_files` (full_file_name,filesize) Values ('/TCGA_MIRROR/tcga-data.nci.nih.gov/tcgafiles/ftp_auth/distro_ftpusers/anonymous/tumor/stad/bcr/nationwidechildrens.org/diagnostic_images/slide_images/nationwidechildrens.org_STAD.diagnostic_images.Level_1.95.9.0/TCGA-CG-5720-01Z-00-DX1.934A284B-B33A-4C76-B423-2110012B7178.svs',14898204) \n",
      "UNABLE TO OPEN FILE?? /TCGA_MIRROR/tcga-data.nci.nih.gov/tcgafiles/ftp_auth/distro_ftpusers/anonymous/tumor/stad/bcr/nationwidechildrens.org/diagnostic_images/slide_images/nationwidechildrens.org_STAD.diagnostic_images.Level_1.95.9.0/TCGA-CG-5720-01Z-00-DX1.934A284B-B33A-4C76-B423-2110012B7178.svs\n",
      "\r",
      "\u001b[KTotal Processed: 1458  Newly Processed: 0 Dup Slides or Already Loaded: 1402  RESCANNED Slides 3"
     ]
    },
    {
     "name": "stderr",
     "output_type": "stream",
     "text": [
      " ()\n",
      "Verify failed with:"
     ]
    },
    {
     "name": "stdout",
     "output_type": "stream",
     "text": [
      "Openslide returned an error om tje StandardError block /TCGA_MIRROR/tcga-data.nci.nih.gov/tcgafiles/ftp_auth/distro_ftpusers/anonymous/tumor/stad/bcr/nationwidechildrens.org/diagnostic_images/slide_images/nationwidechildrens.org_STAD.diagnostic_images.Level_1.95.9.0/TCGA-CG-5722-01Z-00-DX2.2A4EC4AE-A520-4E86-8E48-E6FFBFC3F340.svs\n",
      "SHIT IT DIED!\n",
      "insert into `corrupt_or_unreadable_svs_files` (full_file_name,filesize) Values ('/TCGA_MIRROR/tcga-data.nci.nih.gov/tcgafiles/ftp_auth/distro_ftpusers/anonymous/tumor/stad/bcr/nationwidechildrens.org/diagnostic_images/slide_images/nationwidechildrens.org_STAD.diagnostic_images.Level_1.95.9.0/TCGA-CG-5722-01Z-00-DX2.2A4EC4AE-A520-4E86-8E48-E6FFBFC3F340.svs',6351708) \n",
      "UNABLE TO OPEN FILE?? /TCGA_MIRROR/tcga-data.nci.nih.gov/tcgafiles/ftp_auth/distro_ftpusers/anonymous/tumor/stad/bcr/nationwidechildrens.org/diagnostic_images/slide_images/nationwidechildrens.org_STAD.diagnostic_images.Level_1.95.9.0/TCGA-CG-5722-01Z-00-DX2.2A4EC4AE-A520-4E86-8E48-E6FFBFC3F340.svs\n",
      "\u001b[KTotal Processed: 1460  Newly Processed: 0 Dup Slides or Already Loaded: 1403  RESCANNED Slides 3"
     ]
    },
    {
     "name": "stderr",
     "output_type": "stream",
     "text": [
      " ()\n",
      "Verify failed with:"
     ]
    },
    {
     "name": "stdout",
     "output_type": "stream",
     "text": [
      "Openslide returned an error om tje StandardError block /TCGA_MIRROR/tcga-data.nci.nih.gov/tcgafiles/ftp_auth/distro_ftpusers/anonymous/tumor/stad/bcr/nationwidechildrens.org/diagnostic_images/slide_images/nationwidechildrens.org_STAD.diagnostic_images.Level_1.95.9.0/TCGA-CG-5727-01Z-00-DX1.2B805B2B-6D29-4F6F-B22E-944091C53127.svs\n",
      "SHIT IT DIED!\n",
      "insert into `corrupt_or_unreadable_svs_files` (full_file_name,filesize) Values ('/TCGA_MIRROR/tcga-data.nci.nih.gov/tcgafiles/ftp_auth/distro_ftpusers/anonymous/tumor/stad/bcr/nationwidechildrens.org/diagnostic_images/slide_images/nationwidechildrens.org_STAD.diagnostic_images.Level_1.95.9.0/TCGA-CG-5727-01Z-00-DX1.2B805B2B-6D29-4F6F-B22E-944091C53127.svs',11418792) \n",
      "UNABLE TO OPEN FILE?? /TCGA_MIRROR/tcga-data.nci.nih.gov/tcgafiles/ftp_auth/distro_ftpusers/anonymous/tumor/stad/bcr/nationwidechildrens.org/diagnostic_images/slide_images/nationwidechildrens.org_STAD.diagnostic_images.Level_1.95.9.0/TCGA-CG-5727-01Z-00-DX1.2B805B2B-6D29-4F6F-B22E-944091C53127.svs\n",
      "\r",
      "\u001b[KTotal Processed: 1461  Newly Processed: 0 Dup Slides or Already Loaded: 1403  RESCANNED Slides 3"
     ]
    },
    {
     "name": "stderr",
     "output_type": "stream",
     "text": [
      " ()\n",
      "Verify failed with:"
     ]
    },
    {
     "name": "stdout",
     "output_type": "stream",
     "text": [
      "Openslide returned an error om tje StandardError block /TCGA_MIRROR/tcga-data.nci.nih.gov/tcgafiles/ftp_auth/distro_ftpusers/anonymous/tumor/stad/bcr/nationwidechildrens.org/diagnostic_images/slide_images/nationwidechildrens.org_STAD.diagnostic_images.Level_1.95.9.0/TCGA-CG-5719-01Z-00-DX1.8E669F41-406C-4AB4-8B73-A079D6690537.svs\n",
      "SHIT IT DIED!\n",
      "insert into `corrupt_or_unreadable_svs_files` (full_file_name,filesize) Values ('/TCGA_MIRROR/tcga-data.nci.nih.gov/tcgafiles/ftp_auth/distro_ftpusers/anonymous/tumor/stad/bcr/nationwidechildrens.org/diagnostic_images/slide_images/nationwidechildrens.org_STAD.diagnostic_images.Level_1.95.9.0/TCGA-CG-5719-01Z-00-DX1.8E669F41-406C-4AB4-8B73-A079D6690537.svs',12158722) \n",
      "UNABLE TO OPEN FILE?? /TCGA_MIRROR/tcga-data.nci.nih.gov/tcgafiles/ftp_auth/distro_ftpusers/anonymous/tumor/stad/bcr/nationwidechildrens.org/diagnostic_images/slide_images/nationwidechildrens.org_STAD.diagnostic_images.Level_1.95.9.0/TCGA-CG-5719-01Z-00-DX1.8E669F41-406C-4AB4-8B73-A079D6690537.svs\n",
      "\u001b[KTotal Processed: 1465  Newly Processed: 0 Dup Slides or Already Loaded: 1406  RESCANNED Slides 3"
     ]
    },
    {
     "name": "stderr",
     "output_type": "stream",
     "text": [
      " ()\n",
      "Verify failed with:"
     ]
    },
    {
     "name": "stdout",
     "output_type": "stream",
     "text": [
      "Openslide returned an error om tje StandardError block /TCGA_MIRROR/tcga-data.nci.nih.gov/tcgafiles/ftp_auth/distro_ftpusers/anonymous/tumor/stad/bcr/nationwidechildrens.org/diagnostic_images/slide_images/nationwidechildrens.org_STAD.diagnostic_images.Level_1.95.9.0/TCGA-CG-5726-01Z-00-DX1.AF4BAEE4-45CE-453F-B4B9-8373A5909315.svs\n",
      "SHIT IT DIED!\n",
      "insert into `corrupt_or_unreadable_svs_files` (full_file_name,filesize) Values ('/TCGA_MIRROR/tcga-data.nci.nih.gov/tcgafiles/ftp_auth/distro_ftpusers/anonymous/tumor/stad/bcr/nationwidechildrens.org/diagnostic_images/slide_images/nationwidechildrens.org_STAD.diagnostic_images.Level_1.95.9.0/TCGA-CG-5726-01Z-00-DX1.AF4BAEE4-45CE-453F-B4B9-8373A5909315.svs',11693606) \n",
      "UNABLE TO OPEN FILE?? /TCGA_MIRROR/tcga-data.nci.nih.gov/tcgafiles/ftp_auth/distro_ftpusers/anonymous/tumor/stad/bcr/nationwidechildrens.org/diagnostic_images/slide_images/nationwidechildrens.org_STAD.diagnostic_images.Level_1.95.9.0/TCGA-CG-5726-01Z-00-DX1.AF4BAEE4-45CE-453F-B4B9-8373A5909315.svs\n",
      "\u001b[KTotal Processed: 1467  Newly Processed: 0 Dup Slides or Already Loaded: 1407  RESCANNED Slides 3"
     ]
    },
    {
     "name": "stderr",
     "output_type": "stream",
     "text": [
      " ()\n",
      "Verify failed with:"
     ]
    },
    {
     "name": "stdout",
     "output_type": "stream",
     "text": [
      "Openslide returned an error om tje StandardError block /TCGA_MIRROR/tcga-data.nci.nih.gov/tcgafiles/ftp_auth/distro_ftpusers/anonymous/tumor/stad/bcr/nationwidechildrens.org/diagnostic_images/slide_images/nationwidechildrens.org_STAD.diagnostic_images.Level_1.95.9.0/TCGA-CG-5734-01Z-00-DX1.52E92249-B566-48B3-8D54-71B945A8C0AB.svs\n",
      "SHIT IT DIED!\n",
      "insert into `corrupt_or_unreadable_svs_files` (full_file_name,filesize) Values ('/TCGA_MIRROR/tcga-data.nci.nih.gov/tcgafiles/ftp_auth/distro_ftpusers/anonymous/tumor/stad/bcr/nationwidechildrens.org/diagnostic_images/slide_images/nationwidechildrens.org_STAD.diagnostic_images.Level_1.95.9.0/TCGA-CG-5734-01Z-00-DX1.52E92249-B566-48B3-8D54-71B945A8C0AB.svs',11014976) \n",
      "UNABLE TO OPEN FILE?? /TCGA_MIRROR/tcga-data.nci.nih.gov/tcgafiles/ftp_auth/distro_ftpusers/anonymous/tumor/stad/bcr/nationwidechildrens.org/diagnostic_images/slide_images/nationwidechildrens.org_STAD.diagnostic_images.Level_1.95.9.0/TCGA-CG-5734-01Z-00-DX1.52E92249-B566-48B3-8D54-71B945A8C0AB.svs\n",
      "\r",
      "\u001b[KTotal Processed: 1468  Newly Processed: 0 Dup Slides or Already Loaded: 1407  RESCANNED Slides 3"
     ]
    },
    {
     "name": "stderr",
     "output_type": "stream",
     "text": [
      " ()\n",
      "Verify failed with:"
     ]
    },
    {
     "name": "stdout",
     "output_type": "stream",
     "text": [
      "Openslide returned an error om tje StandardError block /TCGA_MIRROR/tcga-data.nci.nih.gov/tcgafiles/ftp_auth/distro_ftpusers/anonymous/tumor/stad/bcr/nationwidechildrens.org/diagnostic_images/slide_images/nationwidechildrens.org_STAD.diagnostic_images.Level_1.95.9.0/TCGA-CG-5733-01Z-00-DX1.E284A707-2D4B-438A-8B62-FCFD4510FAD3.svs\n",
      "SHIT IT DIED!\n",
      "insert into `corrupt_or_unreadable_svs_files` (full_file_name,filesize) Values ('/TCGA_MIRROR/tcga-data.nci.nih.gov/tcgafiles/ftp_auth/distro_ftpusers/anonymous/tumor/stad/bcr/nationwidechildrens.org/diagnostic_images/slide_images/nationwidechildrens.org_STAD.diagnostic_images.Level_1.95.9.0/TCGA-CG-5733-01Z-00-DX1.E284A707-2D4B-438A-8B62-FCFD4510FAD3.svs',11109120) \n",
      "UNABLE TO OPEN FILE?? /TCGA_MIRROR/tcga-data.nci.nih.gov/tcgafiles/ftp_auth/distro_ftpusers/anonymous/tumor/stad/bcr/nationwidechildrens.org/diagnostic_images/slide_images/nationwidechildrens.org_STAD.diagnostic_images.Level_1.95.9.0/TCGA-CG-5733-01Z-00-DX1.E284A707-2D4B-438A-8B62-FCFD4510FAD3.svs\n",
      "\u001b[KTotal Processed: 1645  Newly Processed: 0 Dup Slides or Already Loaded: 1572  RESCANNED Slides 14"
     ]
    },
    {
     "name": "stderr",
     "output_type": "stream",
     "text": [
      " ()\n",
      "Verify failed with:"
     ]
    },
    {
     "name": "stdout",
     "output_type": "stream",
     "text": [
      "Openslide returned an error om tje StandardError block /TCGA_MIRROR/tcga-data.nci.nih.gov/tcgafiles/ftp_auth/distro_ftpusers/anonymous/tumor/stad/bcr/nationwidechildrens.org/diagnostic_images/slide_images/nationwidechildrens.org_STAD.diagnostic_images.Level_1.57.1.0/TCGA-BR-4366-01Z-00-DX1.1b5b7fce-bfbb-461d-9381-30eb37698b9e.svs\n",
      "SHIT IT DIED!\n",
      "insert into `corrupt_or_unreadable_svs_files` (full_file_name,filesize) Values ('/TCGA_MIRROR/tcga-data.nci.nih.gov/tcgafiles/ftp_auth/distro_ftpusers/anonymous/tumor/stad/bcr/nationwidechildrens.org/diagnostic_images/slide_images/nationwidechildrens.org_STAD.diagnostic_images.Level_1.57.1.0/TCGA-BR-4366-01Z-00-DX1.1b5b7fce-bfbb-461d-9381-30eb37698b9e.svs',482306) \n",
      "UNABLE TO OPEN FILE?? /TCGA_MIRROR/tcga-data.nci.nih.gov/tcgafiles/ftp_auth/distro_ftpusers/anonymous/tumor/stad/bcr/nationwidechildrens.org/diagnostic_images/slide_images/nationwidechildrens.org_STAD.diagnostic_images.Level_1.57.1.0/TCGA-BR-4366-01Z-00-DX1.1b5b7fce-bfbb-461d-9381-30eb37698b9e.svs\n",
      "\u001b[KTotal Processed: 1648  Newly Processed: 0 Dup Slides or Already Loaded: 1574  RESCANNED Slides 14"
     ]
    },
    {
     "name": "stderr",
     "output_type": "stream",
     "text": [
      " ()\n",
      "Verify failed with:"
     ]
    },
    {
     "name": "stdout",
     "output_type": "stream",
     "text": [
      "Openslide returned an error om tje StandardError block /TCGA_MIRROR/tcga-data.nci.nih.gov/tcgafiles/ftp_auth/distro_ftpusers/anonymous/tumor/stad/bcr/nationwidechildrens.org/diagnostic_images/slide_images/nationwidechildrens.org_STAD.diagnostic_images.Level_1.57.1.0/TCGA-BR-4357-01Z-00-DX1.63cd361b-d8a7-4a99-aed7-4355b32397f6.svs\n",
      "SHIT IT DIED!\n",
      "insert into `corrupt_or_unreadable_svs_files` (full_file_name,filesize) Values ('/TCGA_MIRROR/tcga-data.nci.nih.gov/tcgafiles/ftp_auth/distro_ftpusers/anonymous/tumor/stad/bcr/nationwidechildrens.org/diagnostic_images/slide_images/nationwidechildrens.org_STAD.diagnostic_images.Level_1.57.1.0/TCGA-BR-4357-01Z-00-DX1.63cd361b-d8a7-4a99-aed7-4355b32397f6.svs',475670) \n",
      "UNABLE TO OPEN FILE?? /TCGA_MIRROR/tcga-data.nci.nih.gov/tcgafiles/ftp_auth/distro_ftpusers/anonymous/tumor/stad/bcr/nationwidechildrens.org/diagnostic_images/slide_images/nationwidechildrens.org_STAD.diagnostic_images.Level_1.57.1.0/TCGA-BR-4357-01Z-00-DX1.63cd361b-d8a7-4a99-aed7-4355b32397f6.svs\n",
      "\r",
      "\u001b[KTotal Processed: 1649  Newly Processed: 0 Dup Slides or Already Loaded: 1574  RESCANNED Slides 14"
     ]
    },
    {
     "name": "stderr",
     "output_type": "stream",
     "text": [
      " ()\n",
      "Verify failed with:"
     ]
    },
    {
     "name": "stdout",
     "output_type": "stream",
     "text": [
      "Openslide returned an error om tje StandardError block /TCGA_MIRROR/tcga-data.nci.nih.gov/tcgafiles/ftp_auth/distro_ftpusers/anonymous/tumor/stad/bcr/nationwidechildrens.org/diagnostic_images/slide_images/nationwidechildrens.org_STAD.diagnostic_images.Level_1.57.1.0/TCGA-BR-4362-01Z-00-DX1.f12e9fd5-4d05-408b-8462-a2cc9a75edae.svs\n",
      "SHIT IT DIED!\n",
      "insert into `corrupt_or_unreadable_svs_files` (full_file_name,filesize) Values ('/TCGA_MIRROR/tcga-data.nci.nih.gov/tcgafiles/ftp_auth/distro_ftpusers/anonymous/tumor/stad/bcr/nationwidechildrens.org/diagnostic_images/slide_images/nationwidechildrens.org_STAD.diagnostic_images.Level_1.57.1.0/TCGA-BR-4362-01Z-00-DX1.f12e9fd5-4d05-408b-8462-a2cc9a75edae.svs',478414) \n",
      "UNABLE TO OPEN FILE?? /TCGA_MIRROR/tcga-data.nci.nih.gov/tcgafiles/ftp_auth/distro_ftpusers/anonymous/tumor/stad/bcr/nationwidechildrens.org/diagnostic_images/slide_images/nationwidechildrens.org_STAD.diagnostic_images.Level_1.57.1.0/TCGA-BR-4362-01Z-00-DX1.f12e9fd5-4d05-408b-8462-a2cc9a75edae.svs\n",
      "\u001b[KTotal Processed: 1654  Newly Processed: 0 Dup Slides or Already Loaded: 1578  RESCANNED Slides 14"
     ]
    },
    {
     "name": "stderr",
     "output_type": "stream",
     "text": [
      " ()\n",
      "Verify failed with:"
     ]
    },
    {
     "name": "stdout",
     "output_type": "stream",
     "text": [
      "Openslide returned an error om tje StandardError block /TCGA_MIRROR/tcga-data.nci.nih.gov/tcgafiles/ftp_auth/distro_ftpusers/anonymous/tumor/stad/bcr/nationwidechildrens.org/diagnostic_images/slide_images/nationwidechildrens.org_STAD.diagnostic_images.Level_1.57.1.0/TCGA-BR-4361-01Z-00-DX1.427c9a42-7772-41d2-814e-3da7d9fffe34.svs\n",
      "SHIT IT DIED!\n",
      "insert into `corrupt_or_unreadable_svs_files` (full_file_name,filesize) Values ('/TCGA_MIRROR/tcga-data.nci.nih.gov/tcgafiles/ftp_auth/distro_ftpusers/anonymous/tumor/stad/bcr/nationwidechildrens.org/diagnostic_images/slide_images/nationwidechildrens.org_STAD.diagnostic_images.Level_1.57.1.0/TCGA-BR-4361-01Z-00-DX1.427c9a42-7772-41d2-814e-3da7d9fffe34.svs',484020) \n",
      "UNABLE TO OPEN FILE?? /TCGA_MIRROR/tcga-data.nci.nih.gov/tcgafiles/ftp_auth/distro_ftpusers/anonymous/tumor/stad/bcr/nationwidechildrens.org/diagnostic_images/slide_images/nationwidechildrens.org_STAD.diagnostic_images.Level_1.57.1.0/TCGA-BR-4361-01Z-00-DX1.427c9a42-7772-41d2-814e-3da7d9fffe34.svs\n",
      "\u001b[KTotal Processed: 1656  Newly Processed: 0 Dup Slides or Already Loaded: 1579  RESCANNED Slides 14"
     ]
    },
    {
     "name": "stderr",
     "output_type": "stream",
     "text": [
      " ()\n",
      "Verify failed with:"
     ]
    },
    {
     "name": "stdout",
     "output_type": "stream",
     "text": [
      "Openslide returned an error om tje StandardError block /TCGA_MIRROR/tcga-data.nci.nih.gov/tcgafiles/ftp_auth/distro_ftpusers/anonymous/tumor/stad/bcr/nationwidechildrens.org/diagnostic_images/slide_images/nationwidechildrens.org_STAD.diagnostic_images.Level_1.57.1.0/TCGA-BR-4367-01Z-00-DX1.1f8d0290-2ea8-447c-a8a9-4d83be6f242f.svs\n",
      "SHIT IT DIED!\n",
      "insert into `corrupt_or_unreadable_svs_files` (full_file_name,filesize) Values ('/TCGA_MIRROR/tcga-data.nci.nih.gov/tcgafiles/ftp_auth/distro_ftpusers/anonymous/tumor/stad/bcr/nationwidechildrens.org/diagnostic_images/slide_images/nationwidechildrens.org_STAD.diagnostic_images.Level_1.57.1.0/TCGA-BR-4367-01Z-00-DX1.1f8d0290-2ea8-447c-a8a9-4d83be6f242f.svs',478254) \n",
      "UNABLE TO OPEN FILE?? /TCGA_MIRROR/tcga-data.nci.nih.gov/tcgafiles/ftp_auth/distro_ftpusers/anonymous/tumor/stad/bcr/nationwidechildrens.org/diagnostic_images/slide_images/nationwidechildrens.org_STAD.diagnostic_images.Level_1.57.1.0/TCGA-BR-4367-01Z-00-DX1.1f8d0290-2ea8-447c-a8a9-4d83be6f242f.svs\n",
      "\r",
      "\u001b[KTotal Processed: 1657  Newly Processed: 0 Dup Slides or Already Loaded: 1579  RESCANNED Slides 14"
     ]
    },
    {
     "name": "stderr",
     "output_type": "stream",
     "text": [
      " ()\n",
      "Verify failed with:"
     ]
    },
    {
     "name": "stdout",
     "output_type": "stream",
     "text": [
      "Openslide returned an error om tje StandardError block /TCGA_MIRROR/tcga-data.nci.nih.gov/tcgafiles/ftp_auth/distro_ftpusers/anonymous/tumor/stad/bcr/nationwidechildrens.org/diagnostic_images/slide_images/nationwidechildrens.org_STAD.diagnostic_images.Level_1.57.1.0/TCGA-BR-4368-01Z-00-DX1.ecfc8a41-c65e-4ac4-9b2e-c403ba184f02.svs\n",
      "SHIT IT DIED!\n",
      "insert into `corrupt_or_unreadable_svs_files` (full_file_name,filesize) Values ('/TCGA_MIRROR/tcga-data.nci.nih.gov/tcgafiles/ftp_auth/distro_ftpusers/anonymous/tumor/stad/bcr/nationwidechildrens.org/diagnostic_images/slide_images/nationwidechildrens.org_STAD.diagnostic_images.Level_1.57.1.0/TCGA-BR-4368-01Z-00-DX1.ecfc8a41-c65e-4ac4-9b2e-c403ba184f02.svs',482670) \n",
      "UNABLE TO OPEN FILE?? /TCGA_MIRROR/tcga-data.nci.nih.gov/tcgafiles/ftp_auth/distro_ftpusers/anonymous/tumor/stad/bcr/nationwidechildrens.org/diagnostic_images/slide_images/nationwidechildrens.org_STAD.diagnostic_images.Level_1.57.1.0/TCGA-BR-4368-01Z-00-DX1.ecfc8a41-c65e-4ac4-9b2e-c403ba184f02.svs\n",
      "\u001b[KTotal Processed: 1661  Newly Processed: 0 Dup Slides or Already Loaded: 1582  RESCANNED Slides 14"
     ]
    },
    {
     "name": "stderr",
     "output_type": "stream",
     "text": [
      " ()\n",
      "Verify failed with:"
     ]
    },
    {
     "name": "stdout",
     "output_type": "stream",
     "text": [
      "Openslide returned an error om tje StandardError block /TCGA_MIRROR/tcga-data.nci.nih.gov/tcgafiles/ftp_auth/distro_ftpusers/anonymous/tumor/stad/bcr/nationwidechildrens.org/diagnostic_images/slide_images/nationwidechildrens.org_STAD.diagnostic_images.Level_1.57.1.0/TCGA-BR-4371-01Z-00-DX1.b45af289-5e56-40dd-80ba-7b8752d0344e.svs\n",
      "SHIT IT DIED!\n",
      "insert into `corrupt_or_unreadable_svs_files` (full_file_name,filesize) Values ('/TCGA_MIRROR/tcga-data.nci.nih.gov/tcgafiles/ftp_auth/distro_ftpusers/anonymous/tumor/stad/bcr/nationwidechildrens.org/diagnostic_images/slide_images/nationwidechildrens.org_STAD.diagnostic_images.Level_1.57.1.0/TCGA-BR-4371-01Z-00-DX1.b45af289-5e56-40dd-80ba-7b8752d0344e.svs',474558) \n",
      "UNABLE TO OPEN FILE?? /TCGA_MIRROR/tcga-data.nci.nih.gov/tcgafiles/ftp_auth/distro_ftpusers/anonymous/tumor/stad/bcr/nationwidechildrens.org/diagnostic_images/slide_images/nationwidechildrens.org_STAD.diagnostic_images.Level_1.57.1.0/TCGA-BR-4371-01Z-00-DX1.b45af289-5e56-40dd-80ba-7b8752d0344e.svs\n",
      "\u001b[KTotal Processed: 1664  Newly Processed: 0 Dup Slides or Already Loaded: 1584  RESCANNED Slides 14"
     ]
    },
    {
     "name": "stderr",
     "output_type": "stream",
     "text": [
      " ()\n",
      "Verify failed with:"
     ]
    },
    {
     "name": "stdout",
     "output_type": "stream",
     "text": [
      "Openslide returned an error om tje StandardError block /TCGA_MIRROR/tcga-data.nci.nih.gov/tcgafiles/ftp_auth/distro_ftpusers/anonymous/tumor/stad/bcr/nationwidechildrens.org/diagnostic_images/slide_images/nationwidechildrens.org_STAD.diagnostic_images.Level_1.57.1.0/TCGA-BR-4370-01Z-00-DX1.a221ca0e-5055-41c3-97a5-d8b9ff847e45.svs\n",
      "SHIT IT DIED!\n",
      "insert into `corrupt_or_unreadable_svs_files` (full_file_name,filesize) Values ('/TCGA_MIRROR/tcga-data.nci.nih.gov/tcgafiles/ftp_auth/distro_ftpusers/anonymous/tumor/stad/bcr/nationwidechildrens.org/diagnostic_images/slide_images/nationwidechildrens.org_STAD.diagnostic_images.Level_1.57.1.0/TCGA-BR-4370-01Z-00-DX1.a221ca0e-5055-41c3-97a5-d8b9ff847e45.svs',480746) \n",
      "UNABLE TO OPEN FILE?? /TCGA_MIRROR/tcga-data.nci.nih.gov/tcgafiles/ftp_auth/distro_ftpusers/anonymous/tumor/stad/bcr/nationwidechildrens.org/diagnostic_images/slide_images/nationwidechildrens.org_STAD.diagnostic_images.Level_1.57.1.0/TCGA-BR-4370-01Z-00-DX1.a221ca0e-5055-41c3-97a5-d8b9ff847e45.svs\n",
      "\r",
      "\u001b[KTotal Processed: 1665  Newly Processed: 0 Dup Slides or Already Loaded: 1584  RESCANNED Slides 14"
     ]
    },
    {
     "name": "stderr",
     "output_type": "stream",
     "text": [
      " ()\n",
      "Verify failed with:"
     ]
    },
    {
     "name": "stdout",
     "output_type": "stream",
     "text": [
      "Openslide returned an error om tje StandardError block /TCGA_MIRROR/tcga-data.nci.nih.gov/tcgafiles/ftp_auth/distro_ftpusers/anonymous/tumor/stad/bcr/nationwidechildrens.org/diagnostic_images/slide_images/nationwidechildrens.org_STAD.diagnostic_images.Level_1.57.1.0/TCGA-BR-4363-01Z-00-DX1.d2121987-481e-4f39-8cb3-724a9fc18036.svs\n",
      "SHIT IT DIED!\n",
      "insert into `corrupt_or_unreadable_svs_files` (full_file_name,filesize) Values ('/TCGA_MIRROR/tcga-data.nci.nih.gov/tcgafiles/ftp_auth/distro_ftpusers/anonymous/tumor/stad/bcr/nationwidechildrens.org/diagnostic_images/slide_images/nationwidechildrens.org_STAD.diagnostic_images.Level_1.57.1.0/TCGA-BR-4363-01Z-00-DX1.d2121987-481e-4f39-8cb3-724a9fc18036.svs',484546) \n",
      "UNABLE TO OPEN FILE?? /TCGA_MIRROR/tcga-data.nci.nih.gov/tcgafiles/ftp_auth/distro_ftpusers/anonymous/tumor/stad/bcr/nationwidechildrens.org/diagnostic_images/slide_images/nationwidechildrens.org_STAD.diagnostic_images.Level_1.57.1.0/TCGA-BR-4363-01Z-00-DX1.d2121987-481e-4f39-8cb3-724a9fc18036.svs\n",
      "\u001b[KTotal Processed: 1668  Newly Processed: 0 Dup Slides or Already Loaded: 1586  RESCANNED Slides 14"
     ]
    },
    {
     "name": "stderr",
     "output_type": "stream",
     "text": [
      " ()\n",
      "Verify failed with:"
     ]
    },
    {
     "name": "stdout",
     "output_type": "stream",
     "text": [
      "Openslide returned an error om tje StandardError block /TCGA_MIRROR/tcga-data.nci.nih.gov/tcgafiles/ftp_auth/distro_ftpusers/anonymous/tumor/stad/bcr/nationwidechildrens.org/diagnostic_images/slide_images/nationwidechildrens.org_STAD.diagnostic_images.Level_1.57.1.0/TCGA-BR-4369-01Z-00-DX1.69000607-7c5c-4a97-bdc1-f5a4fdfdd39c.svs\n",
      "SHIT IT DIED!\n",
      "insert into `corrupt_or_unreadable_svs_files` (full_file_name,filesize) Values ('/TCGA_MIRROR/tcga-data.nci.nih.gov/tcgafiles/ftp_auth/distro_ftpusers/anonymous/tumor/stad/bcr/nationwidechildrens.org/diagnostic_images/slide_images/nationwidechildrens.org_STAD.diagnostic_images.Level_1.57.1.0/TCGA-BR-4369-01Z-00-DX1.69000607-7c5c-4a97-bdc1-f5a4fdfdd39c.svs',484322) \n",
      "UNABLE TO OPEN FILE?? /TCGA_MIRROR/tcga-data.nci.nih.gov/tcgafiles/ftp_auth/distro_ftpusers/anonymous/tumor/stad/bcr/nationwidechildrens.org/diagnostic_images/slide_images/nationwidechildrens.org_STAD.diagnostic_images.Level_1.57.1.0/TCGA-BR-4369-01Z-00-DX1.69000607-7c5c-4a97-bdc1-f5a4fdfdd39c.svs\n",
      "\u001b[KTotal Processed: 1846  Newly Processed: 0 Dup Slides or Already Loaded: 1755  RESCANNED Slides 22"
     ]
    },
    {
     "name": "stderr",
     "output_type": "stream",
     "text": [
      " ()\n",
      "Verify failed with:"
     ]
    },
    {
     "name": "stdout",
     "output_type": "stream",
     "text": [
      "Openslide returned an error om tje StandardError block /TCGA_MIRROR/tcga-data.nci.nih.gov/tcgafiles/ftp_auth/distro_ftpusers/anonymous/tumor/stad/bcr/nationwidechildrens.org/diagnostic_images/slide_images/nationwidechildrens.org_STAD.diagnostic_images.Level_1.48.0.0/TCGA-BR-4294-01Z-00-DX1.247c5447-23e3-4620-a981-19d5f572235a.svs\n",
      "SHIT IT DIED!\n",
      "insert into `corrupt_or_unreadable_svs_files` (full_file_name,filesize) Values ('/TCGA_MIRROR/tcga-data.nci.nih.gov/tcgafiles/ftp_auth/distro_ftpusers/anonymous/tumor/stad/bcr/nationwidechildrens.org/diagnostic_images/slide_images/nationwidechildrens.org_STAD.diagnostic_images.Level_1.48.0.0/TCGA-BR-4294-01Z-00-DX1.247c5447-23e3-4620-a981-19d5f572235a.svs',475878) \n",
      "UNABLE TO OPEN FILE?? /TCGA_MIRROR/tcga-data.nci.nih.gov/tcgafiles/ftp_auth/distro_ftpusers/anonymous/tumor/stad/bcr/nationwidechildrens.org/diagnostic_images/slide_images/nationwidechildrens.org_STAD.diagnostic_images.Level_1.48.0.0/TCGA-BR-4294-01Z-00-DX1.247c5447-23e3-4620-a981-19d5f572235a.svs\n",
      "\r",
      "\u001b[KTotal Processed: 1847  Newly Processed: 0 Dup Slides or Already Loaded: 1755  RESCANNED Slides 22"
     ]
    },
    {
     "name": "stderr",
     "output_type": "stream",
     "text": [
      " ()\n",
      "Verify failed with:"
     ]
    },
    {
     "name": "stdout",
     "output_type": "stream",
     "text": [
      "Openslide returned an error om tje StandardError block /TCGA_MIRROR/tcga-data.nci.nih.gov/tcgafiles/ftp_auth/distro_ftpusers/anonymous/tumor/stad/bcr/nationwidechildrens.org/diagnostic_images/slide_images/nationwidechildrens.org_STAD.diagnostic_images.Level_1.48.0.0/TCGA-BR-4187-01Z-00-DX1.5358ef4f-c9af-40d4-b366-48876a8503cc.svs\n",
      "SHIT IT DIED!\n",
      "insert into `corrupt_or_unreadable_svs_files` (full_file_name,filesize) Values ('/TCGA_MIRROR/tcga-data.nci.nih.gov/tcgafiles/ftp_auth/distro_ftpusers/anonymous/tumor/stad/bcr/nationwidechildrens.org/diagnostic_images/slide_images/nationwidechildrens.org_STAD.diagnostic_images.Level_1.48.0.0/TCGA-BR-4187-01Z-00-DX1.5358ef4f-c9af-40d4-b366-48876a8503cc.svs',482508) \n",
      "UNABLE TO OPEN FILE?? /TCGA_MIRROR/tcga-data.nci.nih.gov/tcgafiles/ftp_auth/distro_ftpusers/anonymous/tumor/stad/bcr/nationwidechildrens.org/diagnostic_images/slide_images/nationwidechildrens.org_STAD.diagnostic_images.Level_1.48.0.0/TCGA-BR-4187-01Z-00-DX1.5358ef4f-c9af-40d4-b366-48876a8503cc.svs\n",
      "\r",
      "\u001b[KTotal Processed: 1848  Newly Processed: 0 Dup Slides or Already Loaded: 1755  RESCANNED Slides 22"
     ]
    },
    {
     "name": "stderr",
     "output_type": "stream",
     "text": [
      " ()\n",
      "Verify failed with:"
     ]
    },
    {
     "name": "stdout",
     "output_type": "stream",
     "text": [
      "Openslide returned an error om tje StandardError block /TCGA_MIRROR/tcga-data.nci.nih.gov/tcgafiles/ftp_auth/distro_ftpusers/anonymous/tumor/stad/bcr/nationwidechildrens.org/diagnostic_images/slide_images/nationwidechildrens.org_STAD.diagnostic_images.Level_1.48.0.0/TCGA-BR-4184-01Z-00-DX1.aa0818ba-92ea-4337-b9d3-c891161f5f9a.svs\n",
      "SHIT IT DIED!\n",
      "insert into `corrupt_or_unreadable_svs_files` (full_file_name,filesize) Values ('/TCGA_MIRROR/tcga-data.nci.nih.gov/tcgafiles/ftp_auth/distro_ftpusers/anonymous/tumor/stad/bcr/nationwidechildrens.org/diagnostic_images/slide_images/nationwidechildrens.org_STAD.diagnostic_images.Level_1.48.0.0/TCGA-BR-4184-01Z-00-DX1.aa0818ba-92ea-4337-b9d3-c891161f5f9a.svs',481768) \n",
      "UNABLE TO OPEN FILE?? /TCGA_MIRROR/tcga-data.nci.nih.gov/tcgafiles/ftp_auth/distro_ftpusers/anonymous/tumor/stad/bcr/nationwidechildrens.org/diagnostic_images/slide_images/nationwidechildrens.org_STAD.diagnostic_images.Level_1.48.0.0/TCGA-BR-4184-01Z-00-DX1.aa0818ba-92ea-4337-b9d3-c891161f5f9a.svs\n",
      "\r",
      "\u001b[KTotal Processed: 1849  Newly Processed: 0 Dup Slides or Already Loaded: 1755  RESCANNED Slides 22"
     ]
    },
    {
     "name": "stderr",
     "output_type": "stream",
     "text": [
      " ()\n",
      "Verify failed with:"
     ]
    },
    {
     "name": "stdout",
     "output_type": "stream",
     "text": [
      "Openslide returned an error om tje StandardError block /TCGA_MIRROR/tcga-data.nci.nih.gov/tcgafiles/ftp_auth/distro_ftpusers/anonymous/tumor/stad/bcr/nationwidechildrens.org/diagnostic_images/slide_images/nationwidechildrens.org_STAD.diagnostic_images.Level_1.48.0.0/TCGA-BR-4183-01Z-00-DX1.25a55001-19e6-4f2a-ad84-f8a3a990cc2f.svs\n",
      "SHIT IT DIED!\n",
      "insert into `corrupt_or_unreadable_svs_files` (full_file_name,filesize) Values ('/TCGA_MIRROR/tcga-data.nci.nih.gov/tcgafiles/ftp_auth/distro_ftpusers/anonymous/tumor/stad/bcr/nationwidechildrens.org/diagnostic_images/slide_images/nationwidechildrens.org_STAD.diagnostic_images.Level_1.48.0.0/TCGA-BR-4183-01Z-00-DX1.25a55001-19e6-4f2a-ad84-f8a3a990cc2f.svs',484156) \n",
      "UNABLE TO OPEN FILE?? /TCGA_MIRROR/tcga-data.nci.nih.gov/tcgafiles/ftp_auth/distro_ftpusers/anonymous/tumor/stad/bcr/nationwidechildrens.org/diagnostic_images/slide_images/nationwidechildrens.org_STAD.diagnostic_images.Level_1.48.0.0/TCGA-BR-4183-01Z-00-DX1.25a55001-19e6-4f2a-ad84-f8a3a990cc2f.svs\n",
      "\r",
      "\u001b[KTotal Processed: 1850  Newly Processed: 0 Dup Slides or Already Loaded: 1755  RESCANNED Slides 22"
     ]
    },
    {
     "name": "stderr",
     "output_type": "stream",
     "text": [
      " ()\n",
      "Verify failed with:"
     ]
    },
    {
     "name": "stdout",
     "output_type": "stream",
     "text": [
      "Openslide returned an error om tje StandardError block /TCGA_MIRROR/tcga-data.nci.nih.gov/tcgafiles/ftp_auth/distro_ftpusers/anonymous/tumor/stad/bcr/nationwidechildrens.org/diagnostic_images/slide_images/nationwidechildrens.org_STAD.diagnostic_images.Level_1.48.0.0/TCGA-BR-4253-01Z-00-DX1.1541e883-de6a-4cd3-a6f5-6866fd5f3439.svs\n",
      "SHIT IT DIED!\n",
      "insert into `corrupt_or_unreadable_svs_files` (full_file_name,filesize) Values ('/TCGA_MIRROR/tcga-data.nci.nih.gov/tcgafiles/ftp_auth/distro_ftpusers/anonymous/tumor/stad/bcr/nationwidechildrens.org/diagnostic_images/slide_images/nationwidechildrens.org_STAD.diagnostic_images.Level_1.48.0.0/TCGA-BR-4253-01Z-00-DX1.1541e883-de6a-4cd3-a6f5-6866fd5f3439.svs',480746) \n",
      "UNABLE TO OPEN FILE?? /TCGA_MIRROR/tcga-data.nci.nih.gov/tcgafiles/ftp_auth/distro_ftpusers/anonymous/tumor/stad/bcr/nationwidechildrens.org/diagnostic_images/slide_images/nationwidechildrens.org_STAD.diagnostic_images.Level_1.48.0.0/TCGA-BR-4253-01Z-00-DX1.1541e883-de6a-4cd3-a6f5-6866fd5f3439.svs\n",
      "\r",
      "\u001b[KTotal Processed: 1851  Newly Processed: 0 Dup Slides or Already Loaded: 1755  RESCANNED Slides 22"
     ]
    },
    {
     "name": "stderr",
     "output_type": "stream",
     "text": [
      " ()\n",
      "Verify failed with:"
     ]
    },
    {
     "name": "stdout",
     "output_type": "stream",
     "text": [
      "Openslide returned an error om tje StandardError block /TCGA_MIRROR/tcga-data.nci.nih.gov/tcgafiles/ftp_auth/distro_ftpusers/anonymous/tumor/stad/bcr/nationwidechildrens.org/diagnostic_images/slide_images/nationwidechildrens.org_STAD.diagnostic_images.Level_1.48.0.0/TCGA-BR-4256-01Z-00-DX1.682c72f4-e392-4941-bf24-63dd7a4afecc.svs\n",
      "SHIT IT DIED!\n",
      "insert into `corrupt_or_unreadable_svs_files` (full_file_name,filesize) Values ('/TCGA_MIRROR/tcga-data.nci.nih.gov/tcgafiles/ftp_auth/distro_ftpusers/anonymous/tumor/stad/bcr/nationwidechildrens.org/diagnostic_images/slide_images/nationwidechildrens.org_STAD.diagnostic_images.Level_1.48.0.0/TCGA-BR-4256-01Z-00-DX1.682c72f4-e392-4941-bf24-63dd7a4afecc.svs',481594) \n",
      "UNABLE TO OPEN FILE?? /TCGA_MIRROR/tcga-data.nci.nih.gov/tcgafiles/ftp_auth/distro_ftpusers/anonymous/tumor/stad/bcr/nationwidechildrens.org/diagnostic_images/slide_images/nationwidechildrens.org_STAD.diagnostic_images.Level_1.48.0.0/TCGA-BR-4256-01Z-00-DX1.682c72f4-e392-4941-bf24-63dd7a4afecc.svs\n",
      "\r",
      "\u001b[KTotal Processed: 1852  Newly Processed: 0 Dup Slides or Already Loaded: 1755  RESCANNED Slides 22"
     ]
    },
    {
     "name": "stderr",
     "output_type": "stream",
     "text": [
      " ()\n",
      "Verify failed with:"
     ]
    },
    {
     "name": "stdout",
     "output_type": "stream",
     "text": [
      "Openslide returned an error om tje StandardError block /TCGA_MIRROR/tcga-data.nci.nih.gov/tcgafiles/ftp_auth/distro_ftpusers/anonymous/tumor/stad/bcr/nationwidechildrens.org/diagnostic_images/slide_images/nationwidechildrens.org_STAD.diagnostic_images.Level_1.48.0.0/TCGA-BR-4188-01Z-00-DX1.34ff2bf8-cd91-4f50-a38a-8e3c3693537f.svs\n",
      "SHIT IT DIED!\n",
      "insert into `corrupt_or_unreadable_svs_files` (full_file_name,filesize) Values ('/TCGA_MIRROR/tcga-data.nci.nih.gov/tcgafiles/ftp_auth/distro_ftpusers/anonymous/tumor/stad/bcr/nationwidechildrens.org/diagnostic_images/slide_images/nationwidechildrens.org_STAD.diagnostic_images.Level_1.48.0.0/TCGA-BR-4188-01Z-00-DX1.34ff2bf8-cd91-4f50-a38a-8e3c3693537f.svs',482986) \n",
      "UNABLE TO OPEN FILE?? /TCGA_MIRROR/tcga-data.nci.nih.gov/tcgafiles/ftp_auth/distro_ftpusers/anonymous/tumor/stad/bcr/nationwidechildrens.org/diagnostic_images/slide_images/nationwidechildrens.org_STAD.diagnostic_images.Level_1.48.0.0/TCGA-BR-4188-01Z-00-DX1.34ff2bf8-cd91-4f50-a38a-8e3c3693537f.svs\n",
      "\r",
      "\u001b[KTotal Processed: 1853  Newly Processed: 0 Dup Slides or Already Loaded: 1755  RESCANNED Slides 22"
     ]
    },
    {
     "name": "stderr",
     "output_type": "stream",
     "text": [
      " ()\n",
      "Verify failed with:"
     ]
    },
    {
     "name": "stdout",
     "output_type": "stream",
     "text": [
      "Openslide returned an error om tje StandardError block /TCGA_MIRROR/tcga-data.nci.nih.gov/tcgafiles/ftp_auth/distro_ftpusers/anonymous/tumor/stad/bcr/nationwidechildrens.org/diagnostic_images/slide_images/nationwidechildrens.org_STAD.diagnostic_images.Level_1.48.0.0/TCGA-BR-4255-01Z-00-DX1.7c99233e-2bf3-4130-9852-7e7b34784366.svs\n",
      "SHIT IT DIED!\n",
      "insert into `corrupt_or_unreadable_svs_files` (full_file_name,filesize) Values ('/TCGA_MIRROR/tcga-data.nci.nih.gov/tcgafiles/ftp_auth/distro_ftpusers/anonymous/tumor/stad/bcr/nationwidechildrens.org/diagnostic_images/slide_images/nationwidechildrens.org_STAD.diagnostic_images.Level_1.48.0.0/TCGA-BR-4255-01Z-00-DX1.7c99233e-2bf3-4130-9852-7e7b34784366.svs',476708) \n",
      "UNABLE TO OPEN FILE?? /TCGA_MIRROR/tcga-data.nci.nih.gov/tcgafiles/ftp_auth/distro_ftpusers/anonymous/tumor/stad/bcr/nationwidechildrens.org/diagnostic_images/slide_images/nationwidechildrens.org_STAD.diagnostic_images.Level_1.48.0.0/TCGA-BR-4255-01Z-00-DX1.7c99233e-2bf3-4130-9852-7e7b34784366.svs\n",
      "\r",
      "\u001b[KTotal Processed: 1854  Newly Processed: 0 Dup Slides or Already Loaded: 1755  RESCANNED Slides 22"
     ]
    },
    {
     "name": "stderr",
     "output_type": "stream",
     "text": [
      " ()\n",
      "Verify failed with:"
     ]
    },
    {
     "name": "stdout",
     "output_type": "stream",
     "text": [
      "Openslide returned an error om tje StandardError block /TCGA_MIRROR/tcga-data.nci.nih.gov/tcgafiles/ftp_auth/distro_ftpusers/anonymous/tumor/stad/bcr/nationwidechildrens.org/diagnostic_images/slide_images/nationwidechildrens.org_STAD.diagnostic_images.Level_1.48.0.0/TCGA-BR-4267-01Z-00-DX1.74687868-fdfb-4b11-8c72-a42703b5d06d.svs\n",
      "SHIT IT DIED!\n",
      "insert into `corrupt_or_unreadable_svs_files` (full_file_name,filesize) Values ('/TCGA_MIRROR/tcga-data.nci.nih.gov/tcgafiles/ftp_auth/distro_ftpusers/anonymous/tumor/stad/bcr/nationwidechildrens.org/diagnostic_images/slide_images/nationwidechildrens.org_STAD.diagnostic_images.Level_1.48.0.0/TCGA-BR-4267-01Z-00-DX1.74687868-fdfb-4b11-8c72-a42703b5d06d.svs',467454) \n",
      "UNABLE TO OPEN FILE?? /TCGA_MIRROR/tcga-data.nci.nih.gov/tcgafiles/ftp_auth/distro_ftpusers/anonymous/tumor/stad/bcr/nationwidechildrens.org/diagnostic_images/slide_images/nationwidechildrens.org_STAD.diagnostic_images.Level_1.48.0.0/TCGA-BR-4267-01Z-00-DX1.74687868-fdfb-4b11-8c72-a42703b5d06d.svs\n",
      "\u001b[KTotal Processed: 1855  Newly Processed: 0 Dup Slides or Already Loaded: 1755  RESCANNED Slides 22"
     ]
    },
    {
     "name": "stderr",
     "output_type": "stream",
     "text": [
      " ()\n",
      "Verify failed with:"
     ]
    },
    {
     "name": "stdout",
     "output_type": "stream",
     "text": [
      "Openslide returned an error om tje StandardError block /TCGA_MIRROR/tcga-data.nci.nih.gov/tcgafiles/ftp_auth/distro_ftpusers/anonymous/tumor/stad/bcr/nationwidechildrens.org/diagnostic_images/slide_images/nationwidechildrens.org_STAD.diagnostic_images.Level_1.48.0.0/TCGA-BR-4201-01Z-00-DX1.7e3cbcf2-eb0e-4582-b5e1-f31c8a9ee5b7.svs\n",
      "SHIT IT DIED!\n",
      "insert into `corrupt_or_unreadable_svs_files` (full_file_name,filesize) Values ('/TCGA_MIRROR/tcga-data.nci.nih.gov/tcgafiles/ftp_auth/distro_ftpusers/anonymous/tumor/stad/bcr/nationwidechildrens.org/diagnostic_images/slide_images/nationwidechildrens.org_STAD.diagnostic_images.Level_1.48.0.0/TCGA-BR-4201-01Z-00-DX1.7e3cbcf2-eb0e-4582-b5e1-f31c8a9ee5b7.svs',477480) \n",
      "UNABLE TO OPEN FILE?? /TCGA_MIRROR/tcga-data.nci.nih.gov/tcgafiles/ftp_auth/distro_ftpusers/anonymous/tumor/stad/bcr/nationwidechildrens.org/diagnostic_images/slide_images/nationwidechildrens.org_STAD.diagnostic_images.Level_1.48.0.0/TCGA-BR-4201-01Z-00-DX1.7e3cbcf2-eb0e-4582-b5e1-f31c8a9ee5b7.svs\n",
      "\r",
      "\u001b[KTotal Processed: 1856  Newly Processed: 0 Dup Slides or Already Loaded: 1755  RESCANNED Slides 22"
     ]
    },
    {
     "name": "stderr",
     "output_type": "stream",
     "text": [
      " ()\n",
      "Verify failed with:"
     ]
    },
    {
     "name": "stdout",
     "output_type": "stream",
     "text": [
      "Openslide returned an error om tje StandardError block /TCGA_MIRROR/tcga-data.nci.nih.gov/tcgafiles/ftp_auth/distro_ftpusers/anonymous/tumor/stad/bcr/nationwidechildrens.org/diagnostic_images/slide_images/nationwidechildrens.org_STAD.diagnostic_images.Level_1.48.0.0/TCGA-BR-4279-01Z-00-DX1.3d749e63-3614-4475-b840-5401640f13d8.svs\n",
      "SHIT IT DIED!\n",
      "insert into `corrupt_or_unreadable_svs_files` (full_file_name,filesize) Values ('/TCGA_MIRROR/tcga-data.nci.nih.gov/tcgafiles/ftp_auth/distro_ftpusers/anonymous/tumor/stad/bcr/nationwidechildrens.org/diagnostic_images/slide_images/nationwidechildrens.org_STAD.diagnostic_images.Level_1.48.0.0/TCGA-BR-4279-01Z-00-DX1.3d749e63-3614-4475-b840-5401640f13d8.svs',476402) \n",
      "UNABLE TO OPEN FILE?? /TCGA_MIRROR/tcga-data.nci.nih.gov/tcgafiles/ftp_auth/distro_ftpusers/anonymous/tumor/stad/bcr/nationwidechildrens.org/diagnostic_images/slide_images/nationwidechildrens.org_STAD.diagnostic_images.Level_1.48.0.0/TCGA-BR-4279-01Z-00-DX1.3d749e63-3614-4475-b840-5401640f13d8.svs\n",
      "\r",
      "\u001b[KTotal Processed: 1857  Newly Processed: 0 Dup Slides or Already Loaded: 1755  RESCANNED Slides 22"
     ]
    },
    {
     "name": "stderr",
     "output_type": "stream",
     "text": [
      " ()\n",
      "Verify failed with:"
     ]
    },
    {
     "name": "stdout",
     "output_type": "stream",
     "text": [
      "Openslide returned an error om tje StandardError block /TCGA_MIRROR/tcga-data.nci.nih.gov/tcgafiles/ftp_auth/distro_ftpusers/anonymous/tumor/stad/bcr/nationwidechildrens.org/diagnostic_images/slide_images/nationwidechildrens.org_STAD.diagnostic_images.Level_1.48.0.0/TCGA-BR-4257-01Z-00-DX1.fd97fe9a-2e87-455d-9555-38b6621433d1.svs\n",
      "SHIT IT DIED!\n",
      "insert into `corrupt_or_unreadable_svs_files` (full_file_name,filesize) Values ('/TCGA_MIRROR/tcga-data.nci.nih.gov/tcgafiles/ftp_auth/distro_ftpusers/anonymous/tumor/stad/bcr/nationwidechildrens.org/diagnostic_images/slide_images/nationwidechildrens.org_STAD.diagnostic_images.Level_1.48.0.0/TCGA-BR-4257-01Z-00-DX1.fd97fe9a-2e87-455d-9555-38b6621433d1.svs',480888) \n",
      "UNABLE TO OPEN FILE?? /TCGA_MIRROR/tcga-data.nci.nih.gov/tcgafiles/ftp_auth/distro_ftpusers/anonymous/tumor/stad/bcr/nationwidechildrens.org/diagnostic_images/slide_images/nationwidechildrens.org_STAD.diagnostic_images.Level_1.48.0.0/TCGA-BR-4257-01Z-00-DX1.fd97fe9a-2e87-455d-9555-38b6621433d1.svs\n",
      "\r",
      "\u001b[KTotal Processed: 1858  Newly Processed: 0 Dup Slides or Already Loaded: 1755  RESCANNED Slides 22"
     ]
    },
    {
     "name": "stderr",
     "output_type": "stream",
     "text": [
      " ()\n",
      "Verify failed with:"
     ]
    },
    {
     "name": "stdout",
     "output_type": "stream",
     "text": [
      "Openslide returned an error om tje StandardError block /TCGA_MIRROR/tcga-data.nci.nih.gov/tcgafiles/ftp_auth/distro_ftpusers/anonymous/tumor/stad/bcr/nationwidechildrens.org/diagnostic_images/slide_images/nationwidechildrens.org_STAD.diagnostic_images.Level_1.48.0.0/TCGA-BR-4191-01Z-00-DX1.6f25e7af-44be-41bc-85c4-22729d6ec585.svs\n",
      "SHIT IT DIED!\n",
      "insert into `corrupt_or_unreadable_svs_files` (full_file_name,filesize) Values ('/TCGA_MIRROR/tcga-data.nci.nih.gov/tcgafiles/ftp_auth/distro_ftpusers/anonymous/tumor/stad/bcr/nationwidechildrens.org/diagnostic_images/slide_images/nationwidechildrens.org_STAD.diagnostic_images.Level_1.48.0.0/TCGA-BR-4191-01Z-00-DX1.6f25e7af-44be-41bc-85c4-22729d6ec585.svs',483204) \n",
      "UNABLE TO OPEN FILE?? /TCGA_MIRROR/tcga-data.nci.nih.gov/tcgafiles/ftp_auth/distro_ftpusers/anonymous/tumor/stad/bcr/nationwidechildrens.org/diagnostic_images/slide_images/nationwidechildrens.org_STAD.diagnostic_images.Level_1.48.0.0/TCGA-BR-4191-01Z-00-DX1.6f25e7af-44be-41bc-85c4-22729d6ec585.svs\n",
      "\u001b[KTotal Processed: 2117  Newly Processed: 0 Dup Slides or Already Loaded: 1993  RESCANNED Slides 42"
     ]
    },
    {
     "name": "stderr",
     "output_type": "stream",
     "text": [
      " ()\n",
      "Verify failed with:"
     ]
    },
    {
     "name": "stdout",
     "output_type": "stream",
     "text": [
      "Openslide returned an error om tje StandardError block /TCGA_MIRROR/tcga-data.nci.nih.gov/tcgafiles/ftp_auth/distro_ftpusers/anonymous/tumor/stad/bcr/nationwidechildrens.org/diagnostic_images/slide_images/nationwidechildrens.org_STAD.diagnostic_images.Level_1.57.2.0/TCGA-BR-4366-01Z-00-DX1.1b5b7fce-bfbb-461d-9381-30eb37698b9e.svs\n",
      "SHIT IT DIED!\n",
      "insert into `corrupt_or_unreadable_svs_files` (full_file_name,filesize) Values ('/TCGA_MIRROR/tcga-data.nci.nih.gov/tcgafiles/ftp_auth/distro_ftpusers/anonymous/tumor/stad/bcr/nationwidechildrens.org/diagnostic_images/slide_images/nationwidechildrens.org_STAD.diagnostic_images.Level_1.57.2.0/TCGA-BR-4366-01Z-00-DX1.1b5b7fce-bfbb-461d-9381-30eb37698b9e.svs',482306) \n",
      "UNABLE TO OPEN FILE?? /TCGA_MIRROR/tcga-data.nci.nih.gov/tcgafiles/ftp_auth/distro_ftpusers/anonymous/tumor/stad/bcr/nationwidechildrens.org/diagnostic_images/slide_images/nationwidechildrens.org_STAD.diagnostic_images.Level_1.57.2.0/TCGA-BR-4366-01Z-00-DX1.1b5b7fce-bfbb-461d-9381-30eb37698b9e.svs\n",
      "\u001b[KTotal Processed: 2120  Newly Processed: 0 Dup Slides or Already Loaded: 1995  RESCANNED Slides 42"
     ]
    },
    {
     "name": "stderr",
     "output_type": "stream",
     "text": [
      " ()\n",
      "Verify failed with:"
     ]
    },
    {
     "name": "stdout",
     "output_type": "stream",
     "text": [
      "Openslide returned an error om tje StandardError block /TCGA_MIRROR/tcga-data.nci.nih.gov/tcgafiles/ftp_auth/distro_ftpusers/anonymous/tumor/stad/bcr/nationwidechildrens.org/diagnostic_images/slide_images/nationwidechildrens.org_STAD.diagnostic_images.Level_1.57.2.0/TCGA-BR-4357-01Z-00-DX1.63cd361b-d8a7-4a99-aed7-4355b32397f6.svs\n",
      "SHIT IT DIED!\n",
      "insert into `corrupt_or_unreadable_svs_files` (full_file_name,filesize) Values ('/TCGA_MIRROR/tcga-data.nci.nih.gov/tcgafiles/ftp_auth/distro_ftpusers/anonymous/tumor/stad/bcr/nationwidechildrens.org/diagnostic_images/slide_images/nationwidechildrens.org_STAD.diagnostic_images.Level_1.57.2.0/TCGA-BR-4357-01Z-00-DX1.63cd361b-d8a7-4a99-aed7-4355b32397f6.svs',475670) \n",
      "UNABLE TO OPEN FILE?? /TCGA_MIRROR/tcga-data.nci.nih.gov/tcgafiles/ftp_auth/distro_ftpusers/anonymous/tumor/stad/bcr/nationwidechildrens.org/diagnostic_images/slide_images/nationwidechildrens.org_STAD.diagnostic_images.Level_1.57.2.0/TCGA-BR-4357-01Z-00-DX1.63cd361b-d8a7-4a99-aed7-4355b32397f6.svs\n",
      "\r",
      "\u001b[KTotal Processed: 2121  Newly Processed: 0 Dup Slides or Already Loaded: 1995  RESCANNED Slides 42"
     ]
    },
    {
     "name": "stderr",
     "output_type": "stream",
     "text": [
      " ()\n",
      "Verify failed with:"
     ]
    },
    {
     "name": "stdout",
     "output_type": "stream",
     "text": [
      "Openslide returned an error om tje StandardError block /TCGA_MIRROR/tcga-data.nci.nih.gov/tcgafiles/ftp_auth/distro_ftpusers/anonymous/tumor/stad/bcr/nationwidechildrens.org/diagnostic_images/slide_images/nationwidechildrens.org_STAD.diagnostic_images.Level_1.57.2.0/TCGA-BR-4362-01Z-00-DX1.f12e9fd5-4d05-408b-8462-a2cc9a75edae.svs\n",
      "SHIT IT DIED!\n",
      "insert into `corrupt_or_unreadable_svs_files` (full_file_name,filesize) Values ('/TCGA_MIRROR/tcga-data.nci.nih.gov/tcgafiles/ftp_auth/distro_ftpusers/anonymous/tumor/stad/bcr/nationwidechildrens.org/diagnostic_images/slide_images/nationwidechildrens.org_STAD.diagnostic_images.Level_1.57.2.0/TCGA-BR-4362-01Z-00-DX1.f12e9fd5-4d05-408b-8462-a2cc9a75edae.svs',478414) \n",
      "UNABLE TO OPEN FILE?? /TCGA_MIRROR/tcga-data.nci.nih.gov/tcgafiles/ftp_auth/distro_ftpusers/anonymous/tumor/stad/bcr/nationwidechildrens.org/diagnostic_images/slide_images/nationwidechildrens.org_STAD.diagnostic_images.Level_1.57.2.0/TCGA-BR-4362-01Z-00-DX1.f12e9fd5-4d05-408b-8462-a2cc9a75edae.svs\n",
      "\u001b[KTotal Processed: 2126  Newly Processed: 0 Dup Slides or Already Loaded: 1999  RESCANNED Slides 42"
     ]
    },
    {
     "name": "stderr",
     "output_type": "stream",
     "text": [
      " ()\n",
      "Verify failed with:"
     ]
    },
    {
     "name": "stdout",
     "output_type": "stream",
     "text": [
      "Openslide returned an error om tje StandardError block /TCGA_MIRROR/tcga-data.nci.nih.gov/tcgafiles/ftp_auth/distro_ftpusers/anonymous/tumor/stad/bcr/nationwidechildrens.org/diagnostic_images/slide_images/nationwidechildrens.org_STAD.diagnostic_images.Level_1.57.2.0/TCGA-BR-4361-01Z-00-DX1.427c9a42-7772-41d2-814e-3da7d9fffe34.svs\n",
      "SHIT IT DIED!\n",
      "insert into `corrupt_or_unreadable_svs_files` (full_file_name,filesize) Values ('/TCGA_MIRROR/tcga-data.nci.nih.gov/tcgafiles/ftp_auth/distro_ftpusers/anonymous/tumor/stad/bcr/nationwidechildrens.org/diagnostic_images/slide_images/nationwidechildrens.org_STAD.diagnostic_images.Level_1.57.2.0/TCGA-BR-4361-01Z-00-DX1.427c9a42-7772-41d2-814e-3da7d9fffe34.svs',484020) \n",
      "UNABLE TO OPEN FILE?? /TCGA_MIRROR/tcga-data.nci.nih.gov/tcgafiles/ftp_auth/distro_ftpusers/anonymous/tumor/stad/bcr/nationwidechildrens.org/diagnostic_images/slide_images/nationwidechildrens.org_STAD.diagnostic_images.Level_1.57.2.0/TCGA-BR-4361-01Z-00-DX1.427c9a42-7772-41d2-814e-3da7d9fffe34.svs\n",
      "\u001b[KTotal Processed: 2128  Newly Processed: 0 Dup Slides or Already Loaded: 2000  RESCANNED Slides 42"
     ]
    },
    {
     "name": "stderr",
     "output_type": "stream",
     "text": [
      " ()\n",
      "Verify failed with:"
     ]
    },
    {
     "name": "stdout",
     "output_type": "stream",
     "text": [
      "Openslide returned an error om tje StandardError block /TCGA_MIRROR/tcga-data.nci.nih.gov/tcgafiles/ftp_auth/distro_ftpusers/anonymous/tumor/stad/bcr/nationwidechildrens.org/diagnostic_images/slide_images/nationwidechildrens.org_STAD.diagnostic_images.Level_1.57.2.0/TCGA-BR-4367-01Z-00-DX1.1f8d0290-2ea8-447c-a8a9-4d83be6f242f.svs\n",
      "SHIT IT DIED!\n",
      "insert into `corrupt_or_unreadable_svs_files` (full_file_name,filesize) Values ('/TCGA_MIRROR/tcga-data.nci.nih.gov/tcgafiles/ftp_auth/distro_ftpusers/anonymous/tumor/stad/bcr/nationwidechildrens.org/diagnostic_images/slide_images/nationwidechildrens.org_STAD.diagnostic_images.Level_1.57.2.0/TCGA-BR-4367-01Z-00-DX1.1f8d0290-2ea8-447c-a8a9-4d83be6f242f.svs',478254) \n",
      "UNABLE TO OPEN FILE?? /TCGA_MIRROR/tcga-data.nci.nih.gov/tcgafiles/ftp_auth/distro_ftpusers/anonymous/tumor/stad/bcr/nationwidechildrens.org/diagnostic_images/slide_images/nationwidechildrens.org_STAD.diagnostic_images.Level_1.57.2.0/TCGA-BR-4367-01Z-00-DX1.1f8d0290-2ea8-447c-a8a9-4d83be6f242f.svs\n",
      "\r",
      "\u001b[KTotal Processed: 2129  Newly Processed: 0 Dup Slides or Already Loaded: 2000  RESCANNED Slides 42"
     ]
    },
    {
     "name": "stderr",
     "output_type": "stream",
     "text": [
      " ()\n",
      "Verify failed with:"
     ]
    },
    {
     "name": "stdout",
     "output_type": "stream",
     "text": [
      "Openslide returned an error om tje StandardError block /TCGA_MIRROR/tcga-data.nci.nih.gov/tcgafiles/ftp_auth/distro_ftpusers/anonymous/tumor/stad/bcr/nationwidechildrens.org/diagnostic_images/slide_images/nationwidechildrens.org_STAD.diagnostic_images.Level_1.57.2.0/TCGA-BR-4368-01Z-00-DX1.ecfc8a41-c65e-4ac4-9b2e-c403ba184f02.svs\n",
      "SHIT IT DIED!\n",
      "insert into `corrupt_or_unreadable_svs_files` (full_file_name,filesize) Values ('/TCGA_MIRROR/tcga-data.nci.nih.gov/tcgafiles/ftp_auth/distro_ftpusers/anonymous/tumor/stad/bcr/nationwidechildrens.org/diagnostic_images/slide_images/nationwidechildrens.org_STAD.diagnostic_images.Level_1.57.2.0/TCGA-BR-4368-01Z-00-DX1.ecfc8a41-c65e-4ac4-9b2e-c403ba184f02.svs',482670) \n",
      "UNABLE TO OPEN FILE?? /TCGA_MIRROR/tcga-data.nci.nih.gov/tcgafiles/ftp_auth/distro_ftpusers/anonymous/tumor/stad/bcr/nationwidechildrens.org/diagnostic_images/slide_images/nationwidechildrens.org_STAD.diagnostic_images.Level_1.57.2.0/TCGA-BR-4368-01Z-00-DX1.ecfc8a41-c65e-4ac4-9b2e-c403ba184f02.svs\n",
      "\u001b[KTotal Processed: 2133  Newly Processed: 0 Dup Slides or Already Loaded: 2003  RESCANNED Slides 42"
     ]
    },
    {
     "name": "stderr",
     "output_type": "stream",
     "text": [
      " ()\n",
      "Verify failed with:"
     ]
    },
    {
     "name": "stdout",
     "output_type": "stream",
     "text": [
      "Openslide returned an error om tje StandardError block /TCGA_MIRROR/tcga-data.nci.nih.gov/tcgafiles/ftp_auth/distro_ftpusers/anonymous/tumor/stad/bcr/nationwidechildrens.org/diagnostic_images/slide_images/nationwidechildrens.org_STAD.diagnostic_images.Level_1.57.2.0/TCGA-BR-4371-01Z-00-DX1.b45af289-5e56-40dd-80ba-7b8752d0344e.svs\n",
      "SHIT IT DIED!\n",
      "insert into `corrupt_or_unreadable_svs_files` (full_file_name,filesize) Values ('/TCGA_MIRROR/tcga-data.nci.nih.gov/tcgafiles/ftp_auth/distro_ftpusers/anonymous/tumor/stad/bcr/nationwidechildrens.org/diagnostic_images/slide_images/nationwidechildrens.org_STAD.diagnostic_images.Level_1.57.2.0/TCGA-BR-4371-01Z-00-DX1.b45af289-5e56-40dd-80ba-7b8752d0344e.svs',474558) \n",
      "UNABLE TO OPEN FILE?? /TCGA_MIRROR/tcga-data.nci.nih.gov/tcgafiles/ftp_auth/distro_ftpusers/anonymous/tumor/stad/bcr/nationwidechildrens.org/diagnostic_images/slide_images/nationwidechildrens.org_STAD.diagnostic_images.Level_1.57.2.0/TCGA-BR-4371-01Z-00-DX1.b45af289-5e56-40dd-80ba-7b8752d0344e.svs\n",
      "\u001b[KTotal Processed: 2136  Newly Processed: 0 Dup Slides or Already Loaded: 2005  RESCANNED Slides 42"
     ]
    },
    {
     "name": "stderr",
     "output_type": "stream",
     "text": [
      " ()\n",
      "Verify failed with:"
     ]
    },
    {
     "name": "stdout",
     "output_type": "stream",
     "text": [
      "Openslide returned an error om tje StandardError block /TCGA_MIRROR/tcga-data.nci.nih.gov/tcgafiles/ftp_auth/distro_ftpusers/anonymous/tumor/stad/bcr/nationwidechildrens.org/diagnostic_images/slide_images/nationwidechildrens.org_STAD.diagnostic_images.Level_1.57.2.0/TCGA-BR-4370-01Z-00-DX1.a221ca0e-5055-41c3-97a5-d8b9ff847e45.svs\n",
      "SHIT IT DIED!\n",
      "insert into `corrupt_or_unreadable_svs_files` (full_file_name,filesize) Values ('/TCGA_MIRROR/tcga-data.nci.nih.gov/tcgafiles/ftp_auth/distro_ftpusers/anonymous/tumor/stad/bcr/nationwidechildrens.org/diagnostic_images/slide_images/nationwidechildrens.org_STAD.diagnostic_images.Level_1.57.2.0/TCGA-BR-4370-01Z-00-DX1.a221ca0e-5055-41c3-97a5-d8b9ff847e45.svs',480746) \n",
      "UNABLE TO OPEN FILE?? /TCGA_MIRROR/tcga-data.nci.nih.gov/tcgafiles/ftp_auth/distro_ftpusers/anonymous/tumor/stad/bcr/nationwidechildrens.org/diagnostic_images/slide_images/nationwidechildrens.org_STAD.diagnostic_images.Level_1.57.2.0/TCGA-BR-4370-01Z-00-DX1.a221ca0e-5055-41c3-97a5-d8b9ff847e45.svs\n",
      "\u001b[KTotal Processed: 2137  Newly Processed: 0 Dup Slides or Already Loaded: 2005  RESCANNED Slides 42"
     ]
    },
    {
     "name": "stderr",
     "output_type": "stream",
     "text": [
      " ()\n",
      "Verify failed with:"
     ]
    },
    {
     "name": "stdout",
     "output_type": "stream",
     "text": [
      "Openslide returned an error om tje StandardError block /TCGA_MIRROR/tcga-data.nci.nih.gov/tcgafiles/ftp_auth/distro_ftpusers/anonymous/tumor/stad/bcr/nationwidechildrens.org/diagnostic_images/slide_images/nationwidechildrens.org_STAD.diagnostic_images.Level_1.57.2.0/TCGA-BR-4363-01Z-00-DX1.d2121987-481e-4f39-8cb3-724a9fc18036.svs\n",
      "SHIT IT DIED!\n",
      "insert into `corrupt_or_unreadable_svs_files` (full_file_name,filesize) Values ('/TCGA_MIRROR/tcga-data.nci.nih.gov/tcgafiles/ftp_auth/distro_ftpusers/anonymous/tumor/stad/bcr/nationwidechildrens.org/diagnostic_images/slide_images/nationwidechildrens.org_STAD.diagnostic_images.Level_1.57.2.0/TCGA-BR-4363-01Z-00-DX1.d2121987-481e-4f39-8cb3-724a9fc18036.svs',484546) \n",
      "UNABLE TO OPEN FILE?? /TCGA_MIRROR/tcga-data.nci.nih.gov/tcgafiles/ftp_auth/distro_ftpusers/anonymous/tumor/stad/bcr/nationwidechildrens.org/diagnostic_images/slide_images/nationwidechildrens.org_STAD.diagnostic_images.Level_1.57.2.0/TCGA-BR-4363-01Z-00-DX1.d2121987-481e-4f39-8cb3-724a9fc18036.svs\n",
      "\u001b[KTotal Processed: 2140  Newly Processed: 0 Dup Slides or Already Loaded: 2007  RESCANNED Slides 42"
     ]
    },
    {
     "name": "stderr",
     "output_type": "stream",
     "text": [
      " ()\n",
      "Verify failed with:"
     ]
    },
    {
     "name": "stdout",
     "output_type": "stream",
     "text": [
      "Openslide returned an error om tje StandardError block /TCGA_MIRROR/tcga-data.nci.nih.gov/tcgafiles/ftp_auth/distro_ftpusers/anonymous/tumor/stad/bcr/nationwidechildrens.org/diagnostic_images/slide_images/nationwidechildrens.org_STAD.diagnostic_images.Level_1.57.2.0/TCGA-BR-4369-01Z-00-DX1.69000607-7c5c-4a97-bdc1-f5a4fdfdd39c.svs\n",
      "SHIT IT DIED!\n",
      "insert into `corrupt_or_unreadable_svs_files` (full_file_name,filesize) Values ('/TCGA_MIRROR/tcga-data.nci.nih.gov/tcgafiles/ftp_auth/distro_ftpusers/anonymous/tumor/stad/bcr/nationwidechildrens.org/diagnostic_images/slide_images/nationwidechildrens.org_STAD.diagnostic_images.Level_1.57.2.0/TCGA-BR-4369-01Z-00-DX1.69000607-7c5c-4a97-bdc1-f5a4fdfdd39c.svs',484322) \n",
      "UNABLE TO OPEN FILE?? /TCGA_MIRROR/tcga-data.nci.nih.gov/tcgafiles/ftp_auth/distro_ftpusers/anonymous/tumor/stad/bcr/nationwidechildrens.org/diagnostic_images/slide_images/nationwidechildrens.org_STAD.diagnostic_images.Level_1.57.2.0/TCGA-BR-4369-01Z-00-DX1.69000607-7c5c-4a97-bdc1-f5a4fdfdd39c.svs\n",
      "\u001b[KTotal Processed: 2450  Newly Processed: 0 Dup Slides or Already Loaded: 2305  RESCANNED Slides 53"
     ]
    },
    {
     "name": "stderr",
     "output_type": "stream",
     "text": [
      " ()\n",
      "Verify failed with:"
     ]
    },
    {
     "name": "stdout",
     "output_type": "stream",
     "text": [
      "Openslide returned an error om tje StandardError block /TCGA_MIRROR/tcga-data.nci.nih.gov/tcgafiles/ftp_auth/distro_ftpusers/anonymous/tumor/stad/bcr/nationwidechildrens.org/diagnostic_images/slide_images/nationwidechildrens.org_STAD.diagnostic_images.Level_1.129.8.0/TCGA-CG-5716-01Z-00-DX1.971C2889-E3D7-48BC-8148-F03A7FEFE982.svs\n",
      "SHIT IT DIED!\n",
      "insert into `corrupt_or_unreadable_svs_files` (full_file_name,filesize) Values ('/TCGA_MIRROR/tcga-data.nci.nih.gov/tcgafiles/ftp_auth/distro_ftpusers/anonymous/tumor/stad/bcr/nationwidechildrens.org/diagnostic_images/slide_images/nationwidechildrens.org_STAD.diagnostic_images.Level_1.129.8.0/TCGA-CG-5716-01Z-00-DX1.971C2889-E3D7-48BC-8148-F03A7FEFE982.svs',10883460) \n",
      "UNABLE TO OPEN FILE?? /TCGA_MIRROR/tcga-data.nci.nih.gov/tcgafiles/ftp_auth/distro_ftpusers/anonymous/tumor/stad/bcr/nationwidechildrens.org/diagnostic_images/slide_images/nationwidechildrens.org_STAD.diagnostic_images.Level_1.129.8.0/TCGA-CG-5716-01Z-00-DX1.971C2889-E3D7-48BC-8148-F03A7FEFE982.svs\n",
      "\u001b[KTotal Processed: 2467  Newly Processed: 0 Dup Slides or Already Loaded: 2321  RESCANNED Slides 53"
     ]
    },
    {
     "name": "stderr",
     "output_type": "stream",
     "text": [
      " ()\n",
      "Verify failed with:"
     ]
    },
    {
     "name": "stdout",
     "output_type": "stream",
     "text": [
      "Openslide returned an error om tje StandardError block /TCGA_MIRROR/tcga-data.nci.nih.gov/tcgafiles/ftp_auth/distro_ftpusers/anonymous/tumor/stad/bcr/nationwidechildrens.org/diagnostic_images/slide_images/nationwidechildrens.org_STAD.diagnostic_images.Level_1.129.8.0/TCGA-CG-4437-01Z-00-DX1.3FB7BF81-9E9A-4864-9627-0865486C07A0.svs\n",
      "SHIT IT DIED!\n",
      "insert into `corrupt_or_unreadable_svs_files` (full_file_name,filesize) Values ('/TCGA_MIRROR/tcga-data.nci.nih.gov/tcgafiles/ftp_auth/distro_ftpusers/anonymous/tumor/stad/bcr/nationwidechildrens.org/diagnostic_images/slide_images/nationwidechildrens.org_STAD.diagnostic_images.Level_1.129.8.0/TCGA-CG-4437-01Z-00-DX1.3FB7BF81-9E9A-4864-9627-0865486C07A0.svs',6997454) \n",
      "UNABLE TO OPEN FILE?? /TCGA_MIRROR/tcga-data.nci.nih.gov/tcgafiles/ftp_auth/distro_ftpusers/anonymous/tumor/stad/bcr/nationwidechildrens.org/diagnostic_images/slide_images/nationwidechildrens.org_STAD.diagnostic_images.Level_1.129.8.0/TCGA-CG-4437-01Z-00-DX1.3FB7BF81-9E9A-4864-9627-0865486C07A0.svs\n",
      "\u001b[KTotal Processed: 4321  Newly Processed: 0 Dup Slides or Already Loaded: 4114  RESCANNED Slides 113/TCGA_MIRROR/tcga-data.nci.nih.gov/tcgafiles/ftp_auth/distro_ftpusers/anonymous/tumor/\n",
      "\u001b[KTotal Processed: 264  Newly Processed: 0 Dup Slides or Already Loaded: 264  RESCANNED Slides 0/TCGA_MIRROR/tcga-data.nci.nih.gov/tcgafiles/ftp_auth/distro_ftpusers/anonymous/tumor/\n",
      "/TCGA_MIRROR/tcga-data.nci.nih.gov/tcgafiles/ftp_auth/distro_ftpusers/anonymous/tumor/\n",
      "\u001b[KTotal Processed: 207  Newly Processed: 0 Dup Slides or Already Loaded: 207  RESCANNED Slides 0"
     ]
    },
    {
     "name": "stderr",
     "output_type": "stream",
     "text": [
      " ()\n",
      "Verify failed with:"
     ]
    },
    {
     "name": "stdout",
     "output_type": "stream",
     "text": [
      "Openslide returned an error om tje StandardError block /TCGA_MIRROR/tcga-data.nci.nih.gov/tcgafiles/ftp_auth/distro_ftpusers/anonymous/tumor/hnsc/bcr/intgen.org/tissue_images/slide_images/intgen.org_HNSC.tissue_images.Level_1.164.1.0/TCGA-CR-7385-01A-01-TS1.78e3b7a3-f9f5-46c4-b13d-9f2b28e23d77.svs\n",
      "SHIT IT DIED!\n",
      "insert into `corrupt_or_unreadable_svs_files` (full_file_name,filesize) Values ('/TCGA_MIRROR/tcga-data.nci.nih.gov/tcgafiles/ftp_auth/distro_ftpusers/anonymous/tumor/hnsc/bcr/intgen.org/tissue_images/slide_images/intgen.org_HNSC.tissue_images.Level_1.164.1.0/TCGA-CR-7385-01A-01-TS1.78e3b7a3-f9f5-46c4-b13d-9f2b28e23d77.svs',8390158) \n",
      "UNABLE TO OPEN FILE?? /TCGA_MIRROR/tcga-data.nci.nih.gov/tcgafiles/ftp_auth/distro_ftpusers/anonymous/tumor/hnsc/bcr/intgen.org/tissue_images/slide_images/intgen.org_HNSC.tissue_images.Level_1.164.1.0/TCGA-CR-7385-01A-01-TS1.78e3b7a3-f9f5-46c4-b13d-9f2b28e23d77.svs\n",
      "\u001b[KTotal Processed: 213  Newly Processed: 0 Dup Slides or Already Loaded: 212  RESCANNED Slides 0"
     ]
    },
    {
     "name": "stderr",
     "output_type": "stream",
     "text": [
      " ()\n",
      "Verify failed with:"
     ]
    },
    {
     "name": "stdout",
     "output_type": "stream",
     "text": [
      "Openslide returned an error om tje StandardError block /TCGA_MIRROR/tcga-data.nci.nih.gov/tcgafiles/ftp_auth/distro_ftpusers/anonymous/tumor/hnsc/bcr/intgen.org/tissue_images/slide_images/intgen.org_HNSC.tissue_images.Level_1.164.1.0/TCGA-CR-7388-01A-01-TS1.472564e9-a7fe-4e01-a1fe-fc89570fb7a9.svs\n",
      "SHIT IT DIED!\n",
      "insert into `corrupt_or_unreadable_svs_files` (full_file_name,filesize) Values ('/TCGA_MIRROR/tcga-data.nci.nih.gov/tcgafiles/ftp_auth/distro_ftpusers/anonymous/tumor/hnsc/bcr/intgen.org/tissue_images/slide_images/intgen.org_HNSC.tissue_images.Level_1.164.1.0/TCGA-CR-7388-01A-01-TS1.472564e9-a7fe-4e01-a1fe-fc89570fb7a9.svs',8602086) \n",
      "UNABLE TO OPEN FILE?? /TCGA_MIRROR/tcga-data.nci.nih.gov/tcgafiles/ftp_auth/distro_ftpusers/anonymous/tumor/hnsc/bcr/intgen.org/tissue_images/slide_images/intgen.org_HNSC.tissue_images.Level_1.164.1.0/TCGA-CR-7388-01A-01-TS1.472564e9-a7fe-4e01-a1fe-fc89570fb7a9.svs\n",
      "\u001b[KTotal Processed: 216  Newly Processed: 0 Dup Slides or Already Loaded: 214  RESCANNED Slides 0"
     ]
    },
    {
     "name": "stderr",
     "output_type": "stream",
     "text": [
      " ()\n",
      "Verify failed with:"
     ]
    },
    {
     "name": "stdout",
     "output_type": "stream",
     "text": [
      "Openslide returned an error om tje StandardError block /TCGA_MIRROR/tcga-data.nci.nih.gov/tcgafiles/ftp_auth/distro_ftpusers/anonymous/tumor/hnsc/bcr/intgen.org/tissue_images/slide_images/intgen.org_HNSC.tissue_images.Level_1.164.1.0/TCGA-CR-7374-01A-01-TS1.3d964d61-9a19-468c-acc9-e0b348070cbc.svs\n",
      "SHIT IT DIED!\n",
      "insert into `corrupt_or_unreadable_svs_files` (full_file_name,filesize) Values ('/TCGA_MIRROR/tcga-data.nci.nih.gov/tcgafiles/ftp_auth/distro_ftpusers/anonymous/tumor/hnsc/bcr/intgen.org/tissue_images/slide_images/intgen.org_HNSC.tissue_images.Level_1.164.1.0/TCGA-CR-7374-01A-01-TS1.3d964d61-9a19-468c-acc9-e0b348070cbc.svs',5616954) \n",
      "UNABLE TO OPEN FILE?? /TCGA_MIRROR/tcga-data.nci.nih.gov/tcgafiles/ftp_auth/distro_ftpusers/anonymous/tumor/hnsc/bcr/intgen.org/tissue_images/slide_images/intgen.org_HNSC.tissue_images.Level_1.164.1.0/TCGA-CR-7374-01A-01-TS1.3d964d61-9a19-468c-acc9-e0b348070cbc.svs\n",
      "\u001b[KTotal Processed: 218  Newly Processed: 0 Dup Slides or Already Loaded: 215  RESCANNED Slides 0"
     ]
    },
    {
     "name": "stderr",
     "output_type": "stream",
     "text": [
      " ()\n",
      "Verify failed with:"
     ]
    },
    {
     "name": "stdout",
     "output_type": "stream",
     "text": [
      "Openslide returned an error om tje StandardError block /TCGA_MIRROR/tcga-data.nci.nih.gov/tcgafiles/ftp_auth/distro_ftpusers/anonymous/tumor/hnsc/bcr/intgen.org/tissue_images/slide_images/intgen.org_HNSC.tissue_images.Level_1.164.1.0/TCGA-CR-7390-01A-01-TS1.90a9a363-84ca-4d48-b5e9-bd34bf6b786d.svs\n",
      "SHIT IT DIED!\n",
      "insert into `corrupt_or_unreadable_svs_files` (full_file_name,filesize) Values ('/TCGA_MIRROR/tcga-data.nci.nih.gov/tcgafiles/ftp_auth/distro_ftpusers/anonymous/tumor/hnsc/bcr/intgen.org/tissue_images/slide_images/intgen.org_HNSC.tissue_images.Level_1.164.1.0/TCGA-CR-7390-01A-01-TS1.90a9a363-84ca-4d48-b5e9-bd34bf6b786d.svs',8382892) \n",
      "UNABLE TO OPEN FILE?? /TCGA_MIRROR/tcga-data.nci.nih.gov/tcgafiles/ftp_auth/distro_ftpusers/anonymous/tumor/hnsc/bcr/intgen.org/tissue_images/slide_images/intgen.org_HNSC.tissue_images.Level_1.164.1.0/TCGA-CR-7390-01A-01-TS1.90a9a363-84ca-4d48-b5e9-bd34bf6b786d.svs\n",
      "\u001b[KTotal Processed: 225  Newly Processed: 0 Dup Slides or Already Loaded: 221  RESCANNED Slides 0"
     ]
    },
    {
     "name": "stderr",
     "output_type": "stream",
     "text": [
      " ()\n",
      "Verify failed with:"
     ]
    },
    {
     "name": "stdout",
     "output_type": "stream",
     "text": [
      "Openslide returned an error om tje StandardError block /TCGA_MIRROR/tcga-data.nci.nih.gov/tcgafiles/ftp_auth/distro_ftpusers/anonymous/tumor/hnsc/bcr/intgen.org/tissue_images/slide_images/intgen.org_HNSC.tissue_images.Level_1.164.1.0/TCGA-CR-7379-01A-01-TS1.1b4881f2-f976-42b3-8f75-c5ebbc9560af.svs\n",
      "SHIT IT DIED!\n",
      "insert into `corrupt_or_unreadable_svs_files` (full_file_name,filesize) Values ('/TCGA_MIRROR/tcga-data.nci.nih.gov/tcgafiles/ftp_auth/distro_ftpusers/anonymous/tumor/hnsc/bcr/intgen.org/tissue_images/slide_images/intgen.org_HNSC.tissue_images.Level_1.164.1.0/TCGA-CR-7379-01A-01-TS1.1b4881f2-f976-42b3-8f75-c5ebbc9560af.svs',7578942) \n",
      "UNABLE TO OPEN FILE?? /TCGA_MIRROR/tcga-data.nci.nih.gov/tcgafiles/ftp_auth/distro_ftpusers/anonymous/tumor/hnsc/bcr/intgen.org/tissue_images/slide_images/intgen.org_HNSC.tissue_images.Level_1.164.1.0/TCGA-CR-7379-01A-01-TS1.1b4881f2-f976-42b3-8f75-c5ebbc9560af.svs\n",
      "\u001b[KTotal Processed: 233  Newly Processed: 0 Dup Slides or Already Loaded: 228  RESCANNED Slides 0"
     ]
    },
    {
     "name": "stderr",
     "output_type": "stream",
     "text": [
      " ()\n",
      "Verify failed with:"
     ]
    },
    {
     "name": "stdout",
     "output_type": "stream",
     "text": [
      "Openslide returned an error om tje StandardError block /TCGA_MIRROR/tcga-data.nci.nih.gov/tcgafiles/ftp_auth/distro_ftpusers/anonymous/tumor/hnsc/bcr/intgen.org/tissue_images/slide_images/intgen.org_HNSC.tissue_images.Level_1.164.1.0/TCGA-CR-7365-01A-01-TS1.811bb2b7-66e3-4694-891b-10b436ec300d.svs\n",
      "SHIT IT DIED!\n",
      "insert into `corrupt_or_unreadable_svs_files` (full_file_name,filesize) Values ('/TCGA_MIRROR/tcga-data.nci.nih.gov/tcgafiles/ftp_auth/distro_ftpusers/anonymous/tumor/hnsc/bcr/intgen.org/tissue_images/slide_images/intgen.org_HNSC.tissue_images.Level_1.164.1.0/TCGA-CR-7365-01A-01-TS1.811bb2b7-66e3-4694-891b-10b436ec300d.svs',8147776) \n",
      "UNABLE TO OPEN FILE?? /TCGA_MIRROR/tcga-data.nci.nih.gov/tcgafiles/ftp_auth/distro_ftpusers/anonymous/tumor/hnsc/bcr/intgen.org/tissue_images/slide_images/intgen.org_HNSC.tissue_images.Level_1.164.1.0/TCGA-CR-7365-01A-01-TS1.811bb2b7-66e3-4694-891b-10b436ec300d.svs\n",
      "\u001b[KTotal Processed: 239  Newly Processed: 0 Dup Slides or Already Loaded: 233  RESCANNED Slides 0"
     ]
    },
    {
     "name": "stderr",
     "output_type": "stream",
     "text": [
      " ()\n",
      "Verify failed with:"
     ]
    },
    {
     "name": "stdout",
     "output_type": "stream",
     "text": [
      "Openslide returned an error om tje StandardError block /TCGA_MIRROR/tcga-data.nci.nih.gov/tcgafiles/ftp_auth/distro_ftpusers/anonymous/tumor/hnsc/bcr/intgen.org/tissue_images/slide_images/intgen.org_HNSC.tissue_images.Level_1.164.1.0/TCGA-CR-7402-01A-01-TS1.1fd22a5f-3c69-4fc2-b5c9-7fbd01f52158.svs\n",
      "SHIT IT DIED!\n",
      "insert into `corrupt_or_unreadable_svs_files` (full_file_name,filesize) Values ('/TCGA_MIRROR/tcga-data.nci.nih.gov/tcgafiles/ftp_auth/distro_ftpusers/anonymous/tumor/hnsc/bcr/intgen.org/tissue_images/slide_images/intgen.org_HNSC.tissue_images.Level_1.164.1.0/TCGA-CR-7402-01A-01-TS1.1fd22a5f-3c69-4fc2-b5c9-7fbd01f52158.svs',7829698) \n",
      "UNABLE TO OPEN FILE?? /TCGA_MIRROR/tcga-data.nci.nih.gov/tcgafiles/ftp_auth/distro_ftpusers/anonymous/tumor/hnsc/bcr/intgen.org/tissue_images/slide_images/intgen.org_HNSC.tissue_images.Level_1.164.1.0/TCGA-CR-7402-01A-01-TS1.1fd22a5f-3c69-4fc2-b5c9-7fbd01f52158.svs\n",
      "\r",
      "\u001b[KTotal Processed: 240  Newly Processed: 0 Dup Slides or Already Loaded: 233  RESCANNED Slides 0"
     ]
    },
    {
     "name": "stderr",
     "output_type": "stream",
     "text": [
      " ()\n",
      "Verify failed with:"
     ]
    },
    {
     "name": "stdout",
     "output_type": "stream",
     "text": [
      "Openslide returned an error om tje StandardError block /TCGA_MIRROR/tcga-data.nci.nih.gov/tcgafiles/ftp_auth/distro_ftpusers/anonymous/tumor/hnsc/bcr/intgen.org/tissue_images/slide_images/intgen.org_HNSC.tissue_images.Level_1.164.1.0/TCGA-CR-7401-01A-01-TS1.5473cd39-dca7-4bd3-8410-13d36a2e9eda.svs\n",
      "SHIT IT DIED!\n",
      "insert into `corrupt_or_unreadable_svs_files` (full_file_name,filesize) Values ('/TCGA_MIRROR/tcga-data.nci.nih.gov/tcgafiles/ftp_auth/distro_ftpusers/anonymous/tumor/hnsc/bcr/intgen.org/tissue_images/slide_images/intgen.org_HNSC.tissue_images.Level_1.164.1.0/TCGA-CR-7401-01A-01-TS1.5473cd39-dca7-4bd3-8410-13d36a2e9eda.svs',7917322) \n",
      "UNABLE TO OPEN FILE?? /TCGA_MIRROR/tcga-data.nci.nih.gov/tcgafiles/ftp_auth/distro_ftpusers/anonymous/tumor/hnsc/bcr/intgen.org/tissue_images/slide_images/intgen.org_HNSC.tissue_images.Level_1.164.1.0/TCGA-CR-7401-01A-01-TS1.5473cd39-dca7-4bd3-8410-13d36a2e9eda.svs\n",
      "\u001b[KTotal Processed: 248  Newly Processed: 0 Dup Slides or Already Loaded: 240  RESCANNED Slides 0"
     ]
    },
    {
     "name": "stderr",
     "output_type": "stream",
     "text": [
      " ()\n",
      "Verify failed with:"
     ]
    },
    {
     "name": "stdout",
     "output_type": "stream",
     "text": [
      "Openslide returned an error om tje StandardError block /TCGA_MIRROR/tcga-data.nci.nih.gov/tcgafiles/ftp_auth/distro_ftpusers/anonymous/tumor/hnsc/bcr/intgen.org/tissue_images/slide_images/intgen.org_HNSC.tissue_images.Level_1.164.1.0/TCGA-CR-7372-01A-01-TS1.ef52049e-f636-4d1d-bfb0-58cf853ab420.svs\n",
      "SHIT IT DIED!\n",
      "insert into `corrupt_or_unreadable_svs_files` (full_file_name,filesize) Values ('/TCGA_MIRROR/tcga-data.nci.nih.gov/tcgafiles/ftp_auth/distro_ftpusers/anonymous/tumor/hnsc/bcr/intgen.org/tissue_images/slide_images/intgen.org_HNSC.tissue_images.Level_1.164.1.0/TCGA-CR-7372-01A-01-TS1.ef52049e-f636-4d1d-bfb0-58cf853ab420.svs',9517398) \n",
      "UNABLE TO OPEN FILE?? /TCGA_MIRROR/tcga-data.nci.nih.gov/tcgafiles/ftp_auth/distro_ftpusers/anonymous/tumor/hnsc/bcr/intgen.org/tissue_images/slide_images/intgen.org_HNSC.tissue_images.Level_1.164.1.0/TCGA-CR-7372-01A-01-TS1.ef52049e-f636-4d1d-bfb0-58cf853ab420.svs\n",
      "\u001b[KTotal Processed: 250  Newly Processed: 0 Dup Slides or Already Loaded: 241  RESCANNED Slides 0"
     ]
    },
    {
     "name": "stderr",
     "output_type": "stream",
     "text": [
      " ()\n",
      "Verify failed with:"
     ]
    },
    {
     "name": "stdout",
     "output_type": "stream",
     "text": [
      "Openslide returned an error om tje StandardError block /TCGA_MIRROR/tcga-data.nci.nih.gov/tcgafiles/ftp_auth/distro_ftpusers/anonymous/tumor/hnsc/bcr/intgen.org/tissue_images/slide_images/intgen.org_HNSC.tissue_images.Level_1.164.1.0/TCGA-CR-7394-01A-01-TS1.2a55e850-94b8-4e8c-a246-55661a96ecdb.svs\n",
      "SHIT IT DIED!\n",
      "insert into `corrupt_or_unreadable_svs_files` (full_file_name,filesize) Values ('/TCGA_MIRROR/tcga-data.nci.nih.gov/tcgafiles/ftp_auth/distro_ftpusers/anonymous/tumor/hnsc/bcr/intgen.org/tissue_images/slide_images/intgen.org_HNSC.tissue_images.Level_1.164.1.0/TCGA-CR-7394-01A-01-TS1.2a55e850-94b8-4e8c-a246-55661a96ecdb.svs',7529414) \n",
      "UNABLE TO OPEN FILE?? /TCGA_MIRROR/tcga-data.nci.nih.gov/tcgafiles/ftp_auth/distro_ftpusers/anonymous/tumor/hnsc/bcr/intgen.org/tissue_images/slide_images/intgen.org_HNSC.tissue_images.Level_1.164.1.0/TCGA-CR-7394-01A-01-TS1.2a55e850-94b8-4e8c-a246-55661a96ecdb.svs\n",
      "\u001b[KTotal Processed: 253  Newly Processed: 0 Dup Slides or Already Loaded: 243  RESCANNED Slides 0"
     ]
    },
    {
     "name": "stderr",
     "output_type": "stream",
     "text": [
      " ()\n",
      "Verify failed with:"
     ]
    },
    {
     "name": "stdout",
     "output_type": "stream",
     "text": [
      "Openslide returned an error om tje StandardError block /TCGA_MIRROR/tcga-data.nci.nih.gov/tcgafiles/ftp_auth/distro_ftpusers/anonymous/tumor/hnsc/bcr/intgen.org/tissue_images/slide_images/intgen.org_HNSC.tissue_images.Level_1.164.1.0/TCGA-CR-7373-01A-01-TS1.2dda5c57-eb9e-4edb-aa70-cd91ac8bde70.svs\n",
      "SHIT IT DIED!\n",
      "insert into `corrupt_or_unreadable_svs_files` (full_file_name,filesize) Values ('/TCGA_MIRROR/tcga-data.nci.nih.gov/tcgafiles/ftp_auth/distro_ftpusers/anonymous/tumor/hnsc/bcr/intgen.org/tissue_images/slide_images/intgen.org_HNSC.tissue_images.Level_1.164.1.0/TCGA-CR-7373-01A-01-TS1.2dda5c57-eb9e-4edb-aa70-cd91ac8bde70.svs',7507622) \n",
      "UNABLE TO OPEN FILE?? /TCGA_MIRROR/tcga-data.nci.nih.gov/tcgafiles/ftp_auth/distro_ftpusers/anonymous/tumor/hnsc/bcr/intgen.org/tissue_images/slide_images/intgen.org_HNSC.tissue_images.Level_1.164.1.0/TCGA-CR-7373-01A-01-TS1.2dda5c57-eb9e-4edb-aa70-cd91ac8bde70.svs\n",
      "\r",
      "\u001b[KTotal Processed: 254  Newly Processed: 0 Dup Slides or Already Loaded: 243  RESCANNED Slides 0"
     ]
    },
    {
     "name": "stderr",
     "output_type": "stream",
     "text": [
      " ()\n",
      "Verify failed with:"
     ]
    },
    {
     "name": "stdout",
     "output_type": "stream",
     "text": [
      "Openslide returned an error om tje StandardError block /TCGA_MIRROR/tcga-data.nci.nih.gov/tcgafiles/ftp_auth/distro_ftpusers/anonymous/tumor/hnsc/bcr/intgen.org/tissue_images/slide_images/intgen.org_HNSC.tissue_images.Level_1.164.1.0/TCGA-CR-7395-01A-01-TS1.844e558f-3325-40d4-b294-219b31c66e74.svs\n",
      "SHIT IT DIED!\n",
      "insert into `corrupt_or_unreadable_svs_files` (full_file_name,filesize) Values ('/TCGA_MIRROR/tcga-data.nci.nih.gov/tcgafiles/ftp_auth/distro_ftpusers/anonymous/tumor/hnsc/bcr/intgen.org/tissue_images/slide_images/intgen.org_HNSC.tissue_images.Level_1.164.1.0/TCGA-CR-7395-01A-01-TS1.844e558f-3325-40d4-b294-219b31c66e74.svs',3901814) \n",
      "UNABLE TO OPEN FILE?? /TCGA_MIRROR/tcga-data.nci.nih.gov/tcgafiles/ftp_auth/distro_ftpusers/anonymous/tumor/hnsc/bcr/intgen.org/tissue_images/slide_images/intgen.org_HNSC.tissue_images.Level_1.164.1.0/TCGA-CR-7395-01A-01-TS1.844e558f-3325-40d4-b294-219b31c66e74.svs\n",
      "\u001b[KTotal Processed: 267  Newly Processed: 0 Dup Slides or Already Loaded: 255  RESCANNED Slides 0"
     ]
    },
    {
     "name": "stderr",
     "output_type": "stream",
     "text": [
      " ()\n",
      "Verify failed with:"
     ]
    },
    {
     "name": "stdout",
     "output_type": "stream",
     "text": [
      "Openslide returned an error om tje StandardError block /TCGA_MIRROR/tcga-data.nci.nih.gov/tcgafiles/ftp_auth/distro_ftpusers/anonymous/tumor/hnsc/bcr/intgen.org/tissue_images/slide_images/intgen.org_HNSC.tissue_images.Level_1.164.1.0/TCGA-CR-7371-01A-01-TS1.796eb4e3-4479-4e3c-b210-2d4f271b5ce7.svs\n",
      "SHIT IT DIED!\n",
      "insert into `corrupt_or_unreadable_svs_files` (full_file_name,filesize) Values ('/TCGA_MIRROR/tcga-data.nci.nih.gov/tcgafiles/ftp_auth/distro_ftpusers/anonymous/tumor/hnsc/bcr/intgen.org/tissue_images/slide_images/intgen.org_HNSC.tissue_images.Level_1.164.1.0/TCGA-CR-7371-01A-01-TS1.796eb4e3-4479-4e3c-b210-2d4f271b5ce7.svs',8681986) \n",
      "UNABLE TO OPEN FILE?? /TCGA_MIRROR/tcga-data.nci.nih.gov/tcgafiles/ftp_auth/distro_ftpusers/anonymous/tumor/hnsc/bcr/intgen.org/tissue_images/slide_images/intgen.org_HNSC.tissue_images.Level_1.164.1.0/TCGA-CR-7371-01A-01-TS1.796eb4e3-4479-4e3c-b210-2d4f271b5ce7.svs\n",
      "\u001b[KTotal Processed: 273  Newly Processed: 0 Dup Slides or Already Loaded: 260  RESCANNED Slides 0"
     ]
    },
    {
     "name": "stderr",
     "output_type": "stream",
     "text": [
      " ()\n",
      "Verify failed with:"
     ]
    },
    {
     "name": "stdout",
     "output_type": "stream",
     "text": [
      "Openslide returned an error om tje StandardError block /TCGA_MIRROR/tcga-data.nci.nih.gov/tcgafiles/ftp_auth/distro_ftpusers/anonymous/tumor/hnsc/bcr/intgen.org/tissue_images/slide_images/intgen.org_HNSC.tissue_images.Level_1.164.1.0/TCGA-CR-7380-01A-01-TS1.486d7d24-0e06-4e85-8555-9244219d2ffc.svs\n",
      "SHIT IT DIED!\n",
      "insert into `corrupt_or_unreadable_svs_files` (full_file_name,filesize) Values ('/TCGA_MIRROR/tcga-data.nci.nih.gov/tcgafiles/ftp_auth/distro_ftpusers/anonymous/tumor/hnsc/bcr/intgen.org/tissue_images/slide_images/intgen.org_HNSC.tissue_images.Level_1.164.1.0/TCGA-CR-7380-01A-01-TS1.486d7d24-0e06-4e85-8555-9244219d2ffc.svs',6616176) \n",
      "UNABLE TO OPEN FILE?? /TCGA_MIRROR/tcga-data.nci.nih.gov/tcgafiles/ftp_auth/distro_ftpusers/anonymous/tumor/hnsc/bcr/intgen.org/tissue_images/slide_images/intgen.org_HNSC.tissue_images.Level_1.164.1.0/TCGA-CR-7380-01A-01-TS1.486d7d24-0e06-4e85-8555-9244219d2ffc.svs\n",
      "\u001b[KTotal Processed: 282  Newly Processed: 0 Dup Slides or Already Loaded: 268  RESCANNED Slides 0"
     ]
    },
    {
     "name": "stderr",
     "output_type": "stream",
     "text": [
      " ()\n",
      "Verify failed with:"
     ]
    },
    {
     "name": "stdout",
     "output_type": "stream",
     "text": [
      "Openslide returned an error om tje StandardError block /TCGA_MIRROR/tcga-data.nci.nih.gov/tcgafiles/ftp_auth/distro_ftpusers/anonymous/tumor/hnsc/bcr/intgen.org/tissue_images/slide_images/intgen.org_HNSC.tissue_images.Level_1.164.1.0/TCGA-CR-7386-01A-01-TS1.ffcf78f3-b25a-46d2-9d38-69185654c9a5.svs\n",
      "SHIT IT DIED!\n",
      "insert into `corrupt_or_unreadable_svs_files` (full_file_name,filesize) Values ('/TCGA_MIRROR/tcga-data.nci.nih.gov/tcgafiles/ftp_auth/distro_ftpusers/anonymous/tumor/hnsc/bcr/intgen.org/tissue_images/slide_images/intgen.org_HNSC.tissue_images.Level_1.164.1.0/TCGA-CR-7386-01A-01-TS1.ffcf78f3-b25a-46d2-9d38-69185654c9a5.svs',9577100) \n",
      "UNABLE TO OPEN FILE?? /TCGA_MIRROR/tcga-data.nci.nih.gov/tcgafiles/ftp_auth/distro_ftpusers/anonymous/tumor/hnsc/bcr/intgen.org/tissue_images/slide_images/intgen.org_HNSC.tissue_images.Level_1.164.1.0/TCGA-CR-7386-01A-01-TS1.ffcf78f3-b25a-46d2-9d38-69185654c9a5.svs\n",
      "\u001b[KTotal Processed: 287  Newly Processed: 0 Dup Slides or Already Loaded: 272  RESCANNED Slides 0"
     ]
    },
    {
     "name": "stderr",
     "output_type": "stream",
     "text": [
      " ()\n",
      "Verify failed with:"
     ]
    },
    {
     "name": "stdout",
     "output_type": "stream",
     "text": [
      "Openslide returned an error om tje StandardError block /TCGA_MIRROR/tcga-data.nci.nih.gov/tcgafiles/ftp_auth/distro_ftpusers/anonymous/tumor/hnsc/bcr/intgen.org/tissue_images/slide_images/intgen.org_HNSC.tissue_images.Level_1.164.1.0/TCGA-CR-7393-01A-01-TS1.d1befa29-b24c-4b24-b0c0-2740c9012e01.svs\n",
      "SHIT IT DIED!\n",
      "insert into `corrupt_or_unreadable_svs_files` (full_file_name,filesize) Values ('/TCGA_MIRROR/tcga-data.nci.nih.gov/tcgafiles/ftp_auth/distro_ftpusers/anonymous/tumor/hnsc/bcr/intgen.org/tissue_images/slide_images/intgen.org_HNSC.tissue_images.Level_1.164.1.0/TCGA-CR-7393-01A-01-TS1.d1befa29-b24c-4b24-b0c0-2740c9012e01.svs',8786500) \n",
      "UNABLE TO OPEN FILE?? /TCGA_MIRROR/tcga-data.nci.nih.gov/tcgafiles/ftp_auth/distro_ftpusers/anonymous/tumor/hnsc/bcr/intgen.org/tissue_images/slide_images/intgen.org_HNSC.tissue_images.Level_1.164.1.0/TCGA-CR-7393-01A-01-TS1.d1befa29-b24c-4b24-b0c0-2740c9012e01.svs\n",
      "\u001b[KTotal Processed: 297  Newly Processed: 0 Dup Slides or Already Loaded: 281  RESCANNED Slides 0"
     ]
    },
    {
     "name": "stderr",
     "output_type": "stream",
     "text": [
      " ()\n",
      "Verify failed with:"
     ]
    },
    {
     "name": "stdout",
     "output_type": "stream",
     "text": [
      "Openslide returned an error om tje StandardError block /TCGA_MIRROR/tcga-data.nci.nih.gov/tcgafiles/ftp_auth/distro_ftpusers/anonymous/tumor/hnsc/bcr/intgen.org/tissue_images/slide_images/intgen.org_HNSC.tissue_images.Level_1.164.1.0/TCGA-CR-7398-01A-01-TS1.3aef998b-046a-4d86-a8ee-42e771bc6d6d.svs\n",
      "SHIT IT DIED!\n",
      "insert into `corrupt_or_unreadable_svs_files` (full_file_name,filesize) Values ('/TCGA_MIRROR/tcga-data.nci.nih.gov/tcgafiles/ftp_auth/distro_ftpusers/anonymous/tumor/hnsc/bcr/intgen.org/tissue_images/slide_images/intgen.org_HNSC.tissue_images.Level_1.164.1.0/TCGA-CR-7398-01A-01-TS1.3aef998b-046a-4d86-a8ee-42e771bc6d6d.svs',8310986) \n",
      "UNABLE TO OPEN FILE?? /TCGA_MIRROR/tcga-data.nci.nih.gov/tcgafiles/ftp_auth/distro_ftpusers/anonymous/tumor/hnsc/bcr/intgen.org/tissue_images/slide_images/intgen.org_HNSC.tissue_images.Level_1.164.1.0/TCGA-CR-7398-01A-01-TS1.3aef998b-046a-4d86-a8ee-42e771bc6d6d.svs\n",
      "\u001b[KTotal Processed: 312  Newly Processed: 0 Dup Slides or Already Loaded: 295  RESCANNED Slides 0"
     ]
    },
    {
     "name": "stderr",
     "output_type": "stream",
     "text": [
      " ()\n",
      "Verify failed with:"
     ]
    },
    {
     "name": "stdout",
     "output_type": "stream",
     "text": [
      "Openslide returned an error om tje StandardError block /TCGA_MIRROR/tcga-data.nci.nih.gov/tcgafiles/ftp_auth/distro_ftpusers/anonymous/tumor/hnsc/bcr/intgen.org/tissue_images/slide_images/intgen.org_HNSC.tissue_images.Level_1.164.1.0/TCGA-CR-7399-01A-01-TS1.b87c5422-1239-4ffd-ba83-5969e2c2d9ce.svs\n",
      "SHIT IT DIED!\n",
      "insert into `corrupt_or_unreadable_svs_files` (full_file_name,filesize) Values ('/TCGA_MIRROR/tcga-data.nci.nih.gov/tcgafiles/ftp_auth/distro_ftpusers/anonymous/tumor/hnsc/bcr/intgen.org/tissue_images/slide_images/intgen.org_HNSC.tissue_images.Level_1.164.1.0/TCGA-CR-7399-01A-01-TS1.b87c5422-1239-4ffd-ba83-5969e2c2d9ce.svs',8292346) \n",
      "UNABLE TO OPEN FILE?? /TCGA_MIRROR/tcga-data.nci.nih.gov/tcgafiles/ftp_auth/distro_ftpusers/anonymous/tumor/hnsc/bcr/intgen.org/tissue_images/slide_images/intgen.org_HNSC.tissue_images.Level_1.164.1.0/TCGA-CR-7399-01A-01-TS1.b87c5422-1239-4ffd-ba83-5969e2c2d9ce.svs\n",
      "\u001b[KTotal Processed: 317  Newly Processed: 0 Dup Slides or Already Loaded: 299  RESCANNED Slides 0"
     ]
    },
    {
     "name": "stderr",
     "output_type": "stream",
     "text": [
      " ()\n",
      "Verify failed with:"
     ]
    },
    {
     "name": "stdout",
     "output_type": "stream",
     "text": [
      "Openslide returned an error om tje StandardError block /TCGA_MIRROR/tcga-data.nci.nih.gov/tcgafiles/ftp_auth/distro_ftpusers/anonymous/tumor/hnsc/bcr/intgen.org/tissue_images/slide_images/intgen.org_HNSC.tissue_images.Level_1.164.1.0/TCGA-CR-7391-01A-01-TS1.2d58313c-c239-4ff5-90bb-114a8b219ef7.svs\n",
      "SHIT IT DIED!\n",
      "insert into `corrupt_or_unreadable_svs_files` (full_file_name,filesize) Values ('/TCGA_MIRROR/tcga-data.nci.nih.gov/tcgafiles/ftp_auth/distro_ftpusers/anonymous/tumor/hnsc/bcr/intgen.org/tissue_images/slide_images/intgen.org_HNSC.tissue_images.Level_1.164.1.0/TCGA-CR-7391-01A-01-TS1.2d58313c-c239-4ff5-90bb-114a8b219ef7.svs',7115740) \n",
      "UNABLE TO OPEN FILE?? /TCGA_MIRROR/tcga-data.nci.nih.gov/tcgafiles/ftp_auth/distro_ftpusers/anonymous/tumor/hnsc/bcr/intgen.org/tissue_images/slide_images/intgen.org_HNSC.tissue_images.Level_1.164.1.0/TCGA-CR-7391-01A-01-TS1.2d58313c-c239-4ff5-90bb-114a8b219ef7.svs\n",
      "\u001b[KTotal Processed: 320  Newly Processed: 0 Dup Slides or Already Loaded: 301  RESCANNED Slides 0"
     ]
    },
    {
     "name": "stderr",
     "output_type": "stream",
     "text": [
      " ()\n",
      "Verify failed with:"
     ]
    },
    {
     "name": "stdout",
     "output_type": "stream",
     "text": [
      "Openslide returned an error om tje StandardError block /TCGA_MIRROR/tcga-data.nci.nih.gov/tcgafiles/ftp_auth/distro_ftpusers/anonymous/tumor/hnsc/bcr/intgen.org/tissue_images/slide_images/intgen.org_HNSC.tissue_images.Level_1.164.1.0/TCGA-CR-7392-01A-01-TS1.7ca616f1-56b4-4a0c-904f-06a69e736812.svs\n",
      "SHIT IT DIED!\n",
      "insert into `corrupt_or_unreadable_svs_files` (full_file_name,filesize) Values ('/TCGA_MIRROR/tcga-data.nci.nih.gov/tcgafiles/ftp_auth/distro_ftpusers/anonymous/tumor/hnsc/bcr/intgen.org/tissue_images/slide_images/intgen.org_HNSC.tissue_images.Level_1.164.1.0/TCGA-CR-7392-01A-01-TS1.7ca616f1-56b4-4a0c-904f-06a69e736812.svs',8714796) \n",
      "UNABLE TO OPEN FILE?? /TCGA_MIRROR/tcga-data.nci.nih.gov/tcgafiles/ftp_auth/distro_ftpusers/anonymous/tumor/hnsc/bcr/intgen.org/tissue_images/slide_images/intgen.org_HNSC.tissue_images.Level_1.164.1.0/TCGA-CR-7392-01A-01-TS1.7ca616f1-56b4-4a0c-904f-06a69e736812.svs\n",
      "\u001b[KTotal Processed: 335  Newly Processed: 0 Dup Slides or Already Loaded: 315  RESCANNED Slides 0"
     ]
    },
    {
     "name": "stderr",
     "output_type": "stream",
     "text": [
      " ()\n",
      "Verify failed with:"
     ]
    },
    {
     "name": "stdout",
     "output_type": "stream",
     "text": [
      "Openslide returned an error om tje StandardError block /TCGA_MIRROR/tcga-data.nci.nih.gov/tcgafiles/ftp_auth/distro_ftpusers/anonymous/tumor/hnsc/bcr/intgen.org/tissue_images/slide_images/intgen.org_HNSC.tissue_images.Level_1.164.1.0/TCGA-CR-7377-01A-01-TS1.45dd6071-5078-4807-a090-bf38fe6931c3.svs\n",
      "SHIT IT DIED!\n",
      "insert into `corrupt_or_unreadable_svs_files` (full_file_name,filesize) Values ('/TCGA_MIRROR/tcga-data.nci.nih.gov/tcgafiles/ftp_auth/distro_ftpusers/anonymous/tumor/hnsc/bcr/intgen.org/tissue_images/slide_images/intgen.org_HNSC.tissue_images.Level_1.164.1.0/TCGA-CR-7377-01A-01-TS1.45dd6071-5078-4807-a090-bf38fe6931c3.svs',8332454) \n",
      "UNABLE TO OPEN FILE?? /TCGA_MIRROR/tcga-data.nci.nih.gov/tcgafiles/ftp_auth/distro_ftpusers/anonymous/tumor/hnsc/bcr/intgen.org/tissue_images/slide_images/intgen.org_HNSC.tissue_images.Level_1.164.1.0/TCGA-CR-7377-01A-01-TS1.45dd6071-5078-4807-a090-bf38fe6931c3.svs\n",
      "\u001b[KTotal Processed: 337  Newly Processed: 0 Dup Slides or Already Loaded: 316  RESCANNED Slides 0"
     ]
    },
    {
     "name": "stderr",
     "output_type": "stream",
     "text": [
      " ()\n",
      "Verify failed with:"
     ]
    },
    {
     "name": "stdout",
     "output_type": "stream",
     "text": [
      "Openslide returned an error om tje StandardError block /TCGA_MIRROR/tcga-data.nci.nih.gov/tcgafiles/ftp_auth/distro_ftpusers/anonymous/tumor/hnsc/bcr/intgen.org/tissue_images/slide_images/intgen.org_HNSC.tissue_images.Level_1.164.1.0/TCGA-CR-7367-01A-01-TS1.8c33cb41-d972-4906-8664-b8332d6658c5.svs\n",
      "SHIT IT DIED!\n",
      "insert into `corrupt_or_unreadable_svs_files` (full_file_name,filesize) Values ('/TCGA_MIRROR/tcga-data.nci.nih.gov/tcgafiles/ftp_auth/distro_ftpusers/anonymous/tumor/hnsc/bcr/intgen.org/tissue_images/slide_images/intgen.org_HNSC.tissue_images.Level_1.164.1.0/TCGA-CR-7367-01A-01-TS1.8c33cb41-d972-4906-8664-b8332d6658c5.svs',7518242) \n",
      "UNABLE TO OPEN FILE?? /TCGA_MIRROR/tcga-data.nci.nih.gov/tcgafiles/ftp_auth/distro_ftpusers/anonymous/tumor/hnsc/bcr/intgen.org/tissue_images/slide_images/intgen.org_HNSC.tissue_images.Level_1.164.1.0/TCGA-CR-7367-01A-01-TS1.8c33cb41-d972-4906-8664-b8332d6658c5.svs\n",
      "\u001b[KTotal Processed: 465  Newly Processed: 0 Dup Slides or Already Loaded: 443  RESCANNED Slides 0"
     ]
    },
    {
     "name": "stderr",
     "output_type": "stream",
     "text": [
      " ()\n",
      "Verify failed with:"
     ]
    },
    {
     "name": "stdout",
     "output_type": "stream",
     "text": [
      "Openslide returned an error om tje StandardError block /TCGA_MIRROR/tcga-data.nci.nih.gov/tcgafiles/ftp_auth/distro_ftpusers/anonymous/tumor/hnsc/bcr/intgen.org/tissue_images/slide_images/intgen.org_HNSC.tissue_images.Level_1.188.1.0/TCGA-CR-6488-01A-01-TS1.e88764b5-31b8-4eee-b07e-c098f8a23a8b.svs\n",
      "SHIT IT DIED!\n",
      "insert into `corrupt_or_unreadable_svs_files` (full_file_name,filesize) Values ('/TCGA_MIRROR/tcga-data.nci.nih.gov/tcgafiles/ftp_auth/distro_ftpusers/anonymous/tumor/hnsc/bcr/intgen.org/tissue_images/slide_images/intgen.org_HNSC.tissue_images.Level_1.188.1.0/TCGA-CR-6488-01A-01-TS1.e88764b5-31b8-4eee-b07e-c098f8a23a8b.svs',9009486) \n",
      "UNABLE TO OPEN FILE?? /TCGA_MIRROR/tcga-data.nci.nih.gov/tcgafiles/ftp_auth/distro_ftpusers/anonymous/tumor/hnsc/bcr/intgen.org/tissue_images/slide_images/intgen.org_HNSC.tissue_images.Level_1.188.1.0/TCGA-CR-6488-01A-01-TS1.e88764b5-31b8-4eee-b07e-c098f8a23a8b.svs\n",
      "\u001b[KTotal Processed: 474  Newly Processed: 0 Dup Slides or Already Loaded: 451  RESCANNED Slides 0"
     ]
    },
    {
     "name": "stderr",
     "output_type": "stream",
     "text": [
      " ()\n",
      "Verify failed with:"
     ]
    },
    {
     "name": "stdout",
     "output_type": "stream",
     "text": [
      "Openslide returned an error om tje StandardError block /TCGA_MIRROR/tcga-data.nci.nih.gov/tcgafiles/ftp_auth/distro_ftpusers/anonymous/tumor/hnsc/bcr/intgen.org/tissue_images/slide_images/intgen.org_HNSC.tissue_images.Level_1.188.1.0/TCGA-CV-7418-11A-01-TS1.56a0f884-ee89-4c39-8ae9-339fcd7dd5a3.svs\n",
      "SHIT IT DIED!\n",
      "insert into `corrupt_or_unreadable_svs_files` (full_file_name,filesize) Values ('/TCGA_MIRROR/tcga-data.nci.nih.gov/tcgafiles/ftp_auth/distro_ftpusers/anonymous/tumor/hnsc/bcr/intgen.org/tissue_images/slide_images/intgen.org_HNSC.tissue_images.Level_1.188.1.0/TCGA-CV-7418-11A-01-TS1.56a0f884-ee89-4c39-8ae9-339fcd7dd5a3.svs',820666) \n",
      "UNABLE TO OPEN FILE?? /TCGA_MIRROR/tcga-data.nci.nih.gov/tcgafiles/ftp_auth/distro_ftpusers/anonymous/tumor/hnsc/bcr/intgen.org/tissue_images/slide_images/intgen.org_HNSC.tissue_images.Level_1.188.1.0/TCGA-CV-7418-11A-01-TS1.56a0f884-ee89-4c39-8ae9-339fcd7dd5a3.svs\n",
      "\u001b[KTotal Processed: 481  Newly Processed: 0 Dup Slides or Already Loaded: 457  RESCANNED Slides 0"
     ]
    },
    {
     "name": "stderr",
     "output_type": "stream",
     "text": [
      " ()\n",
      "Verify failed with:"
     ]
    },
    {
     "name": "stdout",
     "output_type": "stream",
     "text": [
      "Openslide returned an error om tje StandardError block /TCGA_MIRROR/tcga-data.nci.nih.gov/tcgafiles/ftp_auth/distro_ftpusers/anonymous/tumor/hnsc/bcr/intgen.org/tissue_images/slide_images/intgen.org_HNSC.tissue_images.Level_1.188.1.0/TCGA-CR-6492-01A-01-TS1.3c539bc3-8461-4e61-b8c0-ac5377cc8481.svs\n",
      "SHIT IT DIED!\n",
      "insert into `corrupt_or_unreadable_svs_files` (full_file_name,filesize) Values ('/TCGA_MIRROR/tcga-data.nci.nih.gov/tcgafiles/ftp_auth/distro_ftpusers/anonymous/tumor/hnsc/bcr/intgen.org/tissue_images/slide_images/intgen.org_HNSC.tissue_images.Level_1.188.1.0/TCGA-CR-6492-01A-01-TS1.3c539bc3-8461-4e61-b8c0-ac5377cc8481.svs',9669662) \n",
      "UNABLE TO OPEN FILE?? /TCGA_MIRROR/tcga-data.nci.nih.gov/tcgafiles/ftp_auth/distro_ftpusers/anonymous/tumor/hnsc/bcr/intgen.org/tissue_images/slide_images/intgen.org_HNSC.tissue_images.Level_1.188.1.0/TCGA-CR-6492-01A-01-TS1.3c539bc3-8461-4e61-b8c0-ac5377cc8481.svs\n",
      "\u001b[KTotal Processed: 529  Newly Processed: 0 Dup Slides or Already Loaded: 504  RESCANNED Slides 0"
     ]
    },
    {
     "name": "stderr",
     "output_type": "stream",
     "text": [
      " ()\n",
      "Verify failed with:"
     ]
    },
    {
     "name": "stdout",
     "output_type": "stream",
     "text": [
      "Openslide returned an error om tje StandardError block /TCGA_MIRROR/tcga-data.nci.nih.gov/tcgafiles/ftp_auth/distro_ftpusers/anonymous/tumor/hnsc/bcr/intgen.org/tissue_images/slide_images/intgen.org_HNSC.tissue_images.Level_1.107.4.0/TCGA-CV-6441-11A-01-TS1.fb84b344-55c2-4c2e-819f-b78d4f22232d.svs\n",
      "SHIT IT DIED!\n",
      "insert into `corrupt_or_unreadable_svs_files` (full_file_name,filesize) Values ('/TCGA_MIRROR/tcga-data.nci.nih.gov/tcgafiles/ftp_auth/distro_ftpusers/anonymous/tumor/hnsc/bcr/intgen.org/tissue_images/slide_images/intgen.org_HNSC.tissue_images.Level_1.107.4.0/TCGA-CV-6441-11A-01-TS1.fb84b344-55c2-4c2e-819f-b78d4f22232d.svs',1311798) \n",
      "UNABLE TO OPEN FILE?? /TCGA_MIRROR/tcga-data.nci.nih.gov/tcgafiles/ftp_auth/distro_ftpusers/anonymous/tumor/hnsc/bcr/intgen.org/tissue_images/slide_images/intgen.org_HNSC.tissue_images.Level_1.107.4.0/TCGA-CV-6441-11A-01-TS1.fb84b344-55c2-4c2e-819f-b78d4f22232d.svs\n",
      "\u001b[KTotal Processed: 540  Newly Processed: 0 Dup Slides or Already Loaded: 514  RESCANNED Slides 0"
     ]
    },
    {
     "name": "stderr",
     "output_type": "stream",
     "text": [
      " ('aperio.AppMag',)\n",
      "Verify failed with:"
     ]
    },
    {
     "name": "stdout",
     "output_type": "stream",
     "text": [
      "Openslide returned an error om tje StandardError block /TCGA_MIRROR/tcga-data.nci.nih.gov/tcgafiles/ftp_auth/distro_ftpusers/anonymous/tumor/hnsc/bcr/intgen.org/tissue_images/slide_images/intgen.org_HNSC.tissue_images.Level_1.107.4.0/TCGA-CV-6433-11A-01-TS1.fc418104-d84c-47ad-8800-3dc5c0ffa292.svs\n",
      "SHIT IT DIED!\n",
      "insert into `corrupt_or_unreadable_svs_files` (full_file_name,filesize) Values ('/TCGA_MIRROR/tcga-data.nci.nih.gov/tcgafiles/ftp_auth/distro_ftpusers/anonymous/tumor/hnsc/bcr/intgen.org/tissue_images/slide_images/intgen.org_HNSC.tissue_images.Level_1.107.4.0/TCGA-CV-6433-11A-01-TS1.fc418104-d84c-47ad-8800-3dc5c0ffa292.svs',1143203) \n",
      "UNABLE TO OPEN FILE?? /TCGA_MIRROR/tcga-data.nci.nih.gov/tcgafiles/ftp_auth/distro_ftpusers/anonymous/tumor/hnsc/bcr/intgen.org/tissue_images/slide_images/intgen.org_HNSC.tissue_images.Level_1.107.4.0/TCGA-CV-6433-11A-01-TS1.fc418104-d84c-47ad-8800-3dc5c0ffa292.svs\n",
      "\u001b[KTotal Processed: 556  Newly Processed: 0 Dup Slides or Already Loaded: 529  RESCANNED Slides 0"
     ]
    },
    {
     "name": "stderr",
     "output_type": "stream",
     "text": [
      " ('aperio.AppMag',)\n",
      "Verify failed with:"
     ]
    },
    {
     "name": "stdout",
     "output_type": "stream",
     "text": [
      "Openslide returned an error om tje StandardError block /TCGA_MIRROR/tcga-data.nci.nih.gov/tcgafiles/ftp_auth/distro_ftpusers/anonymous/tumor/hnsc/bcr/intgen.org/tissue_images/slide_images/intgen.org_HNSC.tissue_images.Level_1.107.4.0/TCGA-CV-5976-11A-01-TS1.08e9a4fc-9168-457c-8f06-7fe16ea9ae69.svs\n",
      "SHIT IT DIED!\n",
      "insert into `corrupt_or_unreadable_svs_files` (full_file_name,filesize) Values ('/TCGA_MIRROR/tcga-data.nci.nih.gov/tcgafiles/ftp_auth/distro_ftpusers/anonymous/tumor/hnsc/bcr/intgen.org/tissue_images/slide_images/intgen.org_HNSC.tissue_images.Level_1.107.4.0/TCGA-CV-5976-11A-01-TS1.08e9a4fc-9168-457c-8f06-7fe16ea9ae69.svs',4013306) \n",
      "UNABLE TO OPEN FILE?? /TCGA_MIRROR/tcga-data.nci.nih.gov/tcgafiles/ftp_auth/distro_ftpusers/anonymous/tumor/hnsc/bcr/intgen.org/tissue_images/slide_images/intgen.org_HNSC.tissue_images.Level_1.107.4.0/TCGA-CV-5976-11A-01-TS1.08e9a4fc-9168-457c-8f06-7fe16ea9ae69.svs\n",
      "\u001b[KTotal Processed: 560  Newly Processed: 0 Dup Slides or Already Loaded: 532  RESCANNED Slides 0"
     ]
    },
    {
     "name": "stderr",
     "output_type": "stream",
     "text": [
      " ('aperio.AppMag',)\n",
      "Verify failed with:"
     ]
    },
    {
     "name": "stdout",
     "output_type": "stream",
     "text": [
      "Openslide returned an error om tje StandardError block /TCGA_MIRROR/tcga-data.nci.nih.gov/tcgafiles/ftp_auth/distro_ftpusers/anonymous/tumor/hnsc/bcr/intgen.org/tissue_images/slide_images/intgen.org_HNSC.tissue_images.Level_1.107.4.0/TCGA-CV-6436-11A-01-TS1.b35a1fe6-59b0-4263-ae44-7a57ef8b698d.svs\n",
      "SHIT IT DIED!\n",
      "insert into `corrupt_or_unreadable_svs_files` (full_file_name,filesize) Values ('/TCGA_MIRROR/tcga-data.nci.nih.gov/tcgafiles/ftp_auth/distro_ftpusers/anonymous/tumor/hnsc/bcr/intgen.org/tissue_images/slide_images/intgen.org_HNSC.tissue_images.Level_1.107.4.0/TCGA-CV-6436-11A-01-TS1.b35a1fe6-59b0-4263-ae44-7a57ef8b698d.svs',1214264) \n",
      "UNABLE TO OPEN FILE?? /TCGA_MIRROR/tcga-data.nci.nih.gov/tcgafiles/ftp_auth/distro_ftpusers/anonymous/tumor/hnsc/bcr/intgen.org/tissue_images/slide_images/intgen.org_HNSC.tissue_images.Level_1.107.4.0/TCGA-CV-6436-11A-01-TS1.b35a1fe6-59b0-4263-ae44-7a57ef8b698d.svs\n",
      "\u001b[KTotal Processed: 579  Newly Processed: 0 Dup Slides or Already Loaded: 550  RESCANNED Slides 0"
     ]
    },
    {
     "name": "stderr",
     "output_type": "stream",
     "text": [
      " ('aperio.AppMag',)\n",
      "Verify failed with:"
     ]
    },
    {
     "name": "stdout",
     "output_type": "stream",
     "text": [
      "Openslide returned an error om tje StandardError block /TCGA_MIRROR/tcga-data.nci.nih.gov/tcgafiles/ftp_auth/distro_ftpusers/anonymous/tumor/hnsc/bcr/intgen.org/tissue_images/slide_images/intgen.org_HNSC.tissue_images.Level_1.107.4.0/TCGA-CV-5966-11A-01-TS1.e63048c5-83b7-489f-99b4-bbc223fe20fc.svs\n",
      "SHIT IT DIED!\n",
      "insert into `corrupt_or_unreadable_svs_files` (full_file_name,filesize) Values ('/TCGA_MIRROR/tcga-data.nci.nih.gov/tcgafiles/ftp_auth/distro_ftpusers/anonymous/tumor/hnsc/bcr/intgen.org/tissue_images/slide_images/intgen.org_HNSC.tissue_images.Level_1.107.4.0/TCGA-CV-5966-11A-01-TS1.e63048c5-83b7-489f-99b4-bbc223fe20fc.svs',4129712) \n",
      "UNABLE TO OPEN FILE?? /TCGA_MIRROR/tcga-data.nci.nih.gov/tcgafiles/ftp_auth/distro_ftpusers/anonymous/tumor/hnsc/bcr/intgen.org/tissue_images/slide_images/intgen.org_HNSC.tissue_images.Level_1.107.4.0/TCGA-CV-5966-11A-01-TS1.e63048c5-83b7-489f-99b4-bbc223fe20fc.svs\n",
      "\u001b[KTotal Processed: 585  Newly Processed: 0 Dup Slides or Already Loaded: 555  RESCANNED Slides 0"
     ]
    },
    {
     "name": "stderr",
     "output_type": "stream",
     "text": [
      " ('aperio.AppMag',)\n",
      "Verify failed with:"
     ]
    },
    {
     "name": "stdout",
     "output_type": "stream",
     "text": [
      "Openslide returned an error om tje StandardError block /TCGA_MIRROR/tcga-data.nci.nih.gov/tcgafiles/ftp_auth/distro_ftpusers/anonymous/tumor/hnsc/bcr/intgen.org/tissue_images/slide_images/intgen.org_HNSC.tissue_images.Level_1.107.4.0/TCGA-CV-5973-11A-01-TS1.8a675a1a-ca54-4cbe-a99a-b7be0c438563.svs\n",
      "SHIT IT DIED!\n",
      "insert into `corrupt_or_unreadable_svs_files` (full_file_name,filesize) Values ('/TCGA_MIRROR/tcga-data.nci.nih.gov/tcgafiles/ftp_auth/distro_ftpusers/anonymous/tumor/hnsc/bcr/intgen.org/tissue_images/slide_images/intgen.org_HNSC.tissue_images.Level_1.107.4.0/TCGA-CV-5973-11A-01-TS1.8a675a1a-ca54-4cbe-a99a-b7be0c438563.svs',5163617) \n",
      "UNABLE TO OPEN FILE?? /TCGA_MIRROR/tcga-data.nci.nih.gov/tcgafiles/ftp_auth/distro_ftpusers/anonymous/tumor/hnsc/bcr/intgen.org/tissue_images/slide_images/intgen.org_HNSC.tissue_images.Level_1.107.4.0/TCGA-CV-5973-11A-01-TS1.8a675a1a-ca54-4cbe-a99a-b7be0c438563.svs\n",
      "\u001b[KTotal Processed: 630  Newly Processed: 0 Dup Slides or Already Loaded: 599  RESCANNED Slides 0"
     ]
    },
    {
     "name": "stderr",
     "output_type": "stream",
     "text": [
      " ('aperio.AppMag',)\n",
      "Verify failed with:"
     ]
    },
    {
     "name": "stdout",
     "output_type": "stream",
     "text": [
      "Openslide returned an error om tje StandardError block /TCGA_MIRROR/tcga-data.nci.nih.gov/tcgafiles/ftp_auth/distro_ftpusers/anonymous/tumor/hnsc/bcr/intgen.org/tissue_images/slide_images/intgen.org_HNSC.tissue_images.Level_1.164.2.0/TCGA-CR-7385-01A-01-TS1.78e3b7a3-f9f5-46c4-b13d-9f2b28e23d77.svs\n",
      "SHIT IT DIED!\n",
      "insert into `corrupt_or_unreadable_svs_files` (full_file_name,filesize) Values ('/TCGA_MIRROR/tcga-data.nci.nih.gov/tcgafiles/ftp_auth/distro_ftpusers/anonymous/tumor/hnsc/bcr/intgen.org/tissue_images/slide_images/intgen.org_HNSC.tissue_images.Level_1.164.2.0/TCGA-CR-7385-01A-01-TS1.78e3b7a3-f9f5-46c4-b13d-9f2b28e23d77.svs',8390158) \n",
      "UNABLE TO OPEN FILE?? /TCGA_MIRROR/tcga-data.nci.nih.gov/tcgafiles/ftp_auth/distro_ftpusers/anonymous/tumor/hnsc/bcr/intgen.org/tissue_images/slide_images/intgen.org_HNSC.tissue_images.Level_1.164.2.0/TCGA-CR-7385-01A-01-TS1.78e3b7a3-f9f5-46c4-b13d-9f2b28e23d77.svs\n",
      "\u001b[KTotal Processed: 636  Newly Processed: 0 Dup Slides or Already Loaded: 604  RESCANNED Slides 0"
     ]
    },
    {
     "name": "stderr",
     "output_type": "stream",
     "text": [
      " ()\n",
      "Verify failed with:"
     ]
    },
    {
     "name": "stdout",
     "output_type": "stream",
     "text": [
      "Openslide returned an error om tje StandardError block /TCGA_MIRROR/tcga-data.nci.nih.gov/tcgafiles/ftp_auth/distro_ftpusers/anonymous/tumor/hnsc/bcr/intgen.org/tissue_images/slide_images/intgen.org_HNSC.tissue_images.Level_1.164.2.0/TCGA-CR-7388-01A-01-TS1.472564e9-a7fe-4e01-a1fe-fc89570fb7a9.svs\n",
      "SHIT IT DIED!\n",
      "insert into `corrupt_or_unreadable_svs_files` (full_file_name,filesize) Values ('/TCGA_MIRROR/tcga-data.nci.nih.gov/tcgafiles/ftp_auth/distro_ftpusers/anonymous/tumor/hnsc/bcr/intgen.org/tissue_images/slide_images/intgen.org_HNSC.tissue_images.Level_1.164.2.0/TCGA-CR-7388-01A-01-TS1.472564e9-a7fe-4e01-a1fe-fc89570fb7a9.svs',8602086) \n",
      "UNABLE TO OPEN FILE?? /TCGA_MIRROR/tcga-data.nci.nih.gov/tcgafiles/ftp_auth/distro_ftpusers/anonymous/tumor/hnsc/bcr/intgen.org/tissue_images/slide_images/intgen.org_HNSC.tissue_images.Level_1.164.2.0/TCGA-CR-7388-01A-01-TS1.472564e9-a7fe-4e01-a1fe-fc89570fb7a9.svs\n",
      "\u001b[KTotal Processed: 638  Newly Processed: 0 Dup Slides or Already Loaded: 605  RESCANNED Slides 0"
     ]
    },
    {
     "name": "stderr",
     "output_type": "stream",
     "text": [
      " ()\n",
      "Verify failed with:"
     ]
    },
    {
     "name": "stdout",
     "output_type": "stream",
     "text": [
      "Openslide returned an error om tje StandardError block /TCGA_MIRROR/tcga-data.nci.nih.gov/tcgafiles/ftp_auth/distro_ftpusers/anonymous/tumor/hnsc/bcr/intgen.org/tissue_images/slide_images/intgen.org_HNSC.tissue_images.Level_1.164.2.0/TCGA-CR-7374-01A-01-TS1.3d964d61-9a19-468c-acc9-e0b348070cbc.svs\n",
      "SHIT IT DIED!\n",
      "insert into `corrupt_or_unreadable_svs_files` (full_file_name,filesize) Values ('/TCGA_MIRROR/tcga-data.nci.nih.gov/tcgafiles/ftp_auth/distro_ftpusers/anonymous/tumor/hnsc/bcr/intgen.org/tissue_images/slide_images/intgen.org_HNSC.tissue_images.Level_1.164.2.0/TCGA-CR-7374-01A-01-TS1.3d964d61-9a19-468c-acc9-e0b348070cbc.svs',5616954) \n",
      "UNABLE TO OPEN FILE?? /TCGA_MIRROR/tcga-data.nci.nih.gov/tcgafiles/ftp_auth/distro_ftpusers/anonymous/tumor/hnsc/bcr/intgen.org/tissue_images/slide_images/intgen.org_HNSC.tissue_images.Level_1.164.2.0/TCGA-CR-7374-01A-01-TS1.3d964d61-9a19-468c-acc9-e0b348070cbc.svs\n",
      "\u001b[KTotal Processed: 640  Newly Processed: 0 Dup Slides or Already Loaded: 606  RESCANNED Slides 0"
     ]
    },
    {
     "name": "stderr",
     "output_type": "stream",
     "text": [
      " ()\n",
      "Verify failed with:"
     ]
    },
    {
     "name": "stdout",
     "output_type": "stream",
     "text": [
      "Openslide returned an error om tje StandardError block /TCGA_MIRROR/tcga-data.nci.nih.gov/tcgafiles/ftp_auth/distro_ftpusers/anonymous/tumor/hnsc/bcr/intgen.org/tissue_images/slide_images/intgen.org_HNSC.tissue_images.Level_1.164.2.0/TCGA-CR-7390-01A-01-TS1.90a9a363-84ca-4d48-b5e9-bd34bf6b786d.svs\n",
      "SHIT IT DIED!\n",
      "insert into `corrupt_or_unreadable_svs_files` (full_file_name,filesize) Values ('/TCGA_MIRROR/tcga-data.nci.nih.gov/tcgafiles/ftp_auth/distro_ftpusers/anonymous/tumor/hnsc/bcr/intgen.org/tissue_images/slide_images/intgen.org_HNSC.tissue_images.Level_1.164.2.0/TCGA-CR-7390-01A-01-TS1.90a9a363-84ca-4d48-b5e9-bd34bf6b786d.svs',8382892) \n",
      "UNABLE TO OPEN FILE?? /TCGA_MIRROR/tcga-data.nci.nih.gov/tcgafiles/ftp_auth/distro_ftpusers/anonymous/tumor/hnsc/bcr/intgen.org/tissue_images/slide_images/intgen.org_HNSC.tissue_images.Level_1.164.2.0/TCGA-CR-7390-01A-01-TS1.90a9a363-84ca-4d48-b5e9-bd34bf6b786d.svs\n",
      "\u001b[KTotal Processed: 646  Newly Processed: 0 Dup Slides or Already Loaded: 611  RESCANNED Slides 0"
     ]
    },
    {
     "name": "stderr",
     "output_type": "stream",
     "text": [
      " ()\n",
      "Verify failed with:"
     ]
    },
    {
     "name": "stdout",
     "output_type": "stream",
     "text": [
      "Openslide returned an error om tje StandardError block /TCGA_MIRROR/tcga-data.nci.nih.gov/tcgafiles/ftp_auth/distro_ftpusers/anonymous/tumor/hnsc/bcr/intgen.org/tissue_images/slide_images/intgen.org_HNSC.tissue_images.Level_1.164.2.0/TCGA-CR-7397-01A-01-TS1.666cc25d-2190-4325-8cd1-86723bd8a364.svs\n",
      "SHIT IT DIED!\n",
      "insert into `corrupt_or_unreadable_svs_files` (full_file_name,filesize) Values ('/TCGA_MIRROR/tcga-data.nci.nih.gov/tcgafiles/ftp_auth/distro_ftpusers/anonymous/tumor/hnsc/bcr/intgen.org/tissue_images/slide_images/intgen.org_HNSC.tissue_images.Level_1.164.2.0/TCGA-CR-7397-01A-01-TS1.666cc25d-2190-4325-8cd1-86723bd8a364.svs',3902748) \n",
      "UNABLE TO OPEN FILE?? /TCGA_MIRROR/tcga-data.nci.nih.gov/tcgafiles/ftp_auth/distro_ftpusers/anonymous/tumor/hnsc/bcr/intgen.org/tissue_images/slide_images/intgen.org_HNSC.tissue_images.Level_1.164.2.0/TCGA-CR-7397-01A-01-TS1.666cc25d-2190-4325-8cd1-86723bd8a364.svs\n",
      "\r",
      "\u001b[KTotal Processed: 647  Newly Processed: 0 Dup Slides or Already Loaded: 611  RESCANNED Slides 0"
     ]
    },
    {
     "name": "stderr",
     "output_type": "stream",
     "text": [
      " ()\n",
      "Verify failed with:"
     ]
    },
    {
     "name": "stdout",
     "output_type": "stream",
     "text": [
      "Openslide returned an error om tje StandardError block /TCGA_MIRROR/tcga-data.nci.nih.gov/tcgafiles/ftp_auth/distro_ftpusers/anonymous/tumor/hnsc/bcr/intgen.org/tissue_images/slide_images/intgen.org_HNSC.tissue_images.Level_1.164.2.0/TCGA-CR-7379-01A-01-TS1.1b4881f2-f976-42b3-8f75-c5ebbc9560af.svs\n",
      "SHIT IT DIED!\n",
      "insert into `corrupt_or_unreadable_svs_files` (full_file_name,filesize) Values ('/TCGA_MIRROR/tcga-data.nci.nih.gov/tcgafiles/ftp_auth/distro_ftpusers/anonymous/tumor/hnsc/bcr/intgen.org/tissue_images/slide_images/intgen.org_HNSC.tissue_images.Level_1.164.2.0/TCGA-CR-7379-01A-01-TS1.1b4881f2-f976-42b3-8f75-c5ebbc9560af.svs',7578942) \n",
      "UNABLE TO OPEN FILE?? /TCGA_MIRROR/tcga-data.nci.nih.gov/tcgafiles/ftp_auth/distro_ftpusers/anonymous/tumor/hnsc/bcr/intgen.org/tissue_images/slide_images/intgen.org_HNSC.tissue_images.Level_1.164.2.0/TCGA-CR-7379-01A-01-TS1.1b4881f2-f976-42b3-8f75-c5ebbc9560af.svs\n",
      "\u001b[KTotal Processed: 655  Newly Processed: 0 Dup Slides or Already Loaded: 618  RESCANNED Slides 0"
     ]
    },
    {
     "name": "stderr",
     "output_type": "stream",
     "text": [
      " ()\n",
      "Verify failed with:"
     ]
    },
    {
     "name": "stdout",
     "output_type": "stream",
     "text": [
      "Openslide returned an error om tje StandardError block /TCGA_MIRROR/tcga-data.nci.nih.gov/tcgafiles/ftp_auth/distro_ftpusers/anonymous/tumor/hnsc/bcr/intgen.org/tissue_images/slide_images/intgen.org_HNSC.tissue_images.Level_1.164.2.0/TCGA-CR-7365-01A-01-TS1.811bb2b7-66e3-4694-891b-10b436ec300d.svs\n",
      "SHIT IT DIED!\n",
      "insert into `corrupt_or_unreadable_svs_files` (full_file_name,filesize) Values ('/TCGA_MIRROR/tcga-data.nci.nih.gov/tcgafiles/ftp_auth/distro_ftpusers/anonymous/tumor/hnsc/bcr/intgen.org/tissue_images/slide_images/intgen.org_HNSC.tissue_images.Level_1.164.2.0/TCGA-CR-7365-01A-01-TS1.811bb2b7-66e3-4694-891b-10b436ec300d.svs',8147776) \n",
      "UNABLE TO OPEN FILE?? /TCGA_MIRROR/tcga-data.nci.nih.gov/tcgafiles/ftp_auth/distro_ftpusers/anonymous/tumor/hnsc/bcr/intgen.org/tissue_images/slide_images/intgen.org_HNSC.tissue_images.Level_1.164.2.0/TCGA-CR-7365-01A-01-TS1.811bb2b7-66e3-4694-891b-10b436ec300d.svs\n",
      "\u001b[KTotal Processed: 661  Newly Processed: 0 Dup Slides or Already Loaded: 623  RESCANNED Slides 0"
     ]
    },
    {
     "name": "stderr",
     "output_type": "stream",
     "text": [
      " ()\n",
      "Verify failed with:"
     ]
    },
    {
     "name": "stdout",
     "output_type": "stream",
     "text": [
      "Openslide returned an error om tje StandardError block /TCGA_MIRROR/tcga-data.nci.nih.gov/tcgafiles/ftp_auth/distro_ftpusers/anonymous/tumor/hnsc/bcr/intgen.org/tissue_images/slide_images/intgen.org_HNSC.tissue_images.Level_1.164.2.0/TCGA-CR-7402-01A-01-TS1.1fd22a5f-3c69-4fc2-b5c9-7fbd01f52158.svs\n",
      "SHIT IT DIED!\n",
      "insert into `corrupt_or_unreadable_svs_files` (full_file_name,filesize) Values ('/TCGA_MIRROR/tcga-data.nci.nih.gov/tcgafiles/ftp_auth/distro_ftpusers/anonymous/tumor/hnsc/bcr/intgen.org/tissue_images/slide_images/intgen.org_HNSC.tissue_images.Level_1.164.2.0/TCGA-CR-7402-01A-01-TS1.1fd22a5f-3c69-4fc2-b5c9-7fbd01f52158.svs',7829698) \n",
      "UNABLE TO OPEN FILE?? /TCGA_MIRROR/tcga-data.nci.nih.gov/tcgafiles/ftp_auth/distro_ftpusers/anonymous/tumor/hnsc/bcr/intgen.org/tissue_images/slide_images/intgen.org_HNSC.tissue_images.Level_1.164.2.0/TCGA-CR-7402-01A-01-TS1.1fd22a5f-3c69-4fc2-b5c9-7fbd01f52158.svs\n",
      "\r",
      "\u001b[KTotal Processed: 662  Newly Processed: 0 Dup Slides or Already Loaded: 623  RESCANNED Slides 0"
     ]
    },
    {
     "name": "stderr",
     "output_type": "stream",
     "text": [
      " ()\n",
      "Verify failed with:"
     ]
    },
    {
     "name": "stdout",
     "output_type": "stream",
     "text": [
      "Openslide returned an error om tje StandardError block /TCGA_MIRROR/tcga-data.nci.nih.gov/tcgafiles/ftp_auth/distro_ftpusers/anonymous/tumor/hnsc/bcr/intgen.org/tissue_images/slide_images/intgen.org_HNSC.tissue_images.Level_1.164.2.0/TCGA-CR-7401-01A-01-TS1.5473cd39-dca7-4bd3-8410-13d36a2e9eda.svs\n",
      "SHIT IT DIED!\n",
      "insert into `corrupt_or_unreadable_svs_files` (full_file_name,filesize) Values ('/TCGA_MIRROR/tcga-data.nci.nih.gov/tcgafiles/ftp_auth/distro_ftpusers/anonymous/tumor/hnsc/bcr/intgen.org/tissue_images/slide_images/intgen.org_HNSC.tissue_images.Level_1.164.2.0/TCGA-CR-7401-01A-01-TS1.5473cd39-dca7-4bd3-8410-13d36a2e9eda.svs',7917322) \n",
      "UNABLE TO OPEN FILE?? /TCGA_MIRROR/tcga-data.nci.nih.gov/tcgafiles/ftp_auth/distro_ftpusers/anonymous/tumor/hnsc/bcr/intgen.org/tissue_images/slide_images/intgen.org_HNSC.tissue_images.Level_1.164.2.0/TCGA-CR-7401-01A-01-TS1.5473cd39-dca7-4bd3-8410-13d36a2e9eda.svs\n",
      "\u001b[KTotal Processed: 669  Newly Processed: 0 Dup Slides or Already Loaded: 629  RESCANNED Slides 0"
     ]
    },
    {
     "name": "stderr",
     "output_type": "stream",
     "text": [
      " ()\n",
      "Verify failed with:"
     ]
    },
    {
     "name": "stdout",
     "output_type": "stream",
     "text": [
      "Openslide returned an error om tje StandardError block /TCGA_MIRROR/tcga-data.nci.nih.gov/tcgafiles/ftp_auth/distro_ftpusers/anonymous/tumor/hnsc/bcr/intgen.org/tissue_images/slide_images/intgen.org_HNSC.tissue_images.Level_1.164.2.0/TCGA-CR-7372-01A-01-TS1.ef52049e-f636-4d1d-bfb0-58cf853ab420.svs\n",
      "SHIT IT DIED!\n",
      "insert into `corrupt_or_unreadable_svs_files` (full_file_name,filesize) Values ('/TCGA_MIRROR/tcga-data.nci.nih.gov/tcgafiles/ftp_auth/distro_ftpusers/anonymous/tumor/hnsc/bcr/intgen.org/tissue_images/slide_images/intgen.org_HNSC.tissue_images.Level_1.164.2.0/TCGA-CR-7372-01A-01-TS1.ef52049e-f636-4d1d-bfb0-58cf853ab420.svs',9517398) \n",
      "UNABLE TO OPEN FILE?? /TCGA_MIRROR/tcga-data.nci.nih.gov/tcgafiles/ftp_auth/distro_ftpusers/anonymous/tumor/hnsc/bcr/intgen.org/tissue_images/slide_images/intgen.org_HNSC.tissue_images.Level_1.164.2.0/TCGA-CR-7372-01A-01-TS1.ef52049e-f636-4d1d-bfb0-58cf853ab420.svs\n",
      "\u001b[KTotal Processed: 671  Newly Processed: 0 Dup Slides or Already Loaded: 630  RESCANNED Slides 0"
     ]
    },
    {
     "name": "stderr",
     "output_type": "stream",
     "text": [
      " ()\n",
      "Verify failed with:"
     ]
    },
    {
     "name": "stdout",
     "output_type": "stream",
     "text": [
      "Openslide returned an error om tje StandardError block /TCGA_MIRROR/tcga-data.nci.nih.gov/tcgafiles/ftp_auth/distro_ftpusers/anonymous/tumor/hnsc/bcr/intgen.org/tissue_images/slide_images/intgen.org_HNSC.tissue_images.Level_1.164.2.0/TCGA-CR-7394-01A-01-TS1.2a55e850-94b8-4e8c-a246-55661a96ecdb.svs\n",
      "SHIT IT DIED!\n",
      "insert into `corrupt_or_unreadable_svs_files` (full_file_name,filesize) Values ('/TCGA_MIRROR/tcga-data.nci.nih.gov/tcgafiles/ftp_auth/distro_ftpusers/anonymous/tumor/hnsc/bcr/intgen.org/tissue_images/slide_images/intgen.org_HNSC.tissue_images.Level_1.164.2.0/TCGA-CR-7394-01A-01-TS1.2a55e850-94b8-4e8c-a246-55661a96ecdb.svs',7529414) \n",
      "UNABLE TO OPEN FILE?? /TCGA_MIRROR/tcga-data.nci.nih.gov/tcgafiles/ftp_auth/distro_ftpusers/anonymous/tumor/hnsc/bcr/intgen.org/tissue_images/slide_images/intgen.org_HNSC.tissue_images.Level_1.164.2.0/TCGA-CR-7394-01A-01-TS1.2a55e850-94b8-4e8c-a246-55661a96ecdb.svs\n",
      "\u001b[KTotal Processed: 673  Newly Processed: 0 Dup Slides or Already Loaded: 631  RESCANNED Slides 0"
     ]
    },
    {
     "name": "stderr",
     "output_type": "stream",
     "text": [
      " ()\n",
      "Verify failed with:"
     ]
    },
    {
     "name": "stdout",
     "output_type": "stream",
     "text": [
      "Openslide returned an error om tje StandardError block /TCGA_MIRROR/tcga-data.nci.nih.gov/tcgafiles/ftp_auth/distro_ftpusers/anonymous/tumor/hnsc/bcr/intgen.org/tissue_images/slide_images/intgen.org_HNSC.tissue_images.Level_1.164.2.0/TCGA-CR-7373-01A-01-TS1.2dda5c57-eb9e-4edb-aa70-cd91ac8bde70.svs\n",
      "SHIT IT DIED!\n",
      "insert into `corrupt_or_unreadable_svs_files` (full_file_name,filesize) Values ('/TCGA_MIRROR/tcga-data.nci.nih.gov/tcgafiles/ftp_auth/distro_ftpusers/anonymous/tumor/hnsc/bcr/intgen.org/tissue_images/slide_images/intgen.org_HNSC.tissue_images.Level_1.164.2.0/TCGA-CR-7373-01A-01-TS1.2dda5c57-eb9e-4edb-aa70-cd91ac8bde70.svs',7507622) \n",
      "UNABLE TO OPEN FILE?? /TCGA_MIRROR/tcga-data.nci.nih.gov/tcgafiles/ftp_auth/distro_ftpusers/anonymous/tumor/hnsc/bcr/intgen.org/tissue_images/slide_images/intgen.org_HNSC.tissue_images.Level_1.164.2.0/TCGA-CR-7373-01A-01-TS1.2dda5c57-eb9e-4edb-aa70-cd91ac8bde70.svs\n",
      "\r",
      "\u001b[KTotal Processed: 674  Newly Processed: 0 Dup Slides or Already Loaded: 631  RESCANNED Slides 0"
     ]
    },
    {
     "name": "stderr",
     "output_type": "stream",
     "text": [
      " ()\n",
      "Verify failed with:"
     ]
    },
    {
     "name": "stdout",
     "output_type": "stream",
     "text": [
      "Openslide returned an error om tje StandardError block /TCGA_MIRROR/tcga-data.nci.nih.gov/tcgafiles/ftp_auth/distro_ftpusers/anonymous/tumor/hnsc/bcr/intgen.org/tissue_images/slide_images/intgen.org_HNSC.tissue_images.Level_1.164.2.0/TCGA-CR-7395-01A-01-TS1.844e558f-3325-40d4-b294-219b31c66e74.svs\n",
      "SHIT IT DIED!\n",
      "insert into `corrupt_or_unreadable_svs_files` (full_file_name,filesize) Values ('/TCGA_MIRROR/tcga-data.nci.nih.gov/tcgafiles/ftp_auth/distro_ftpusers/anonymous/tumor/hnsc/bcr/intgen.org/tissue_images/slide_images/intgen.org_HNSC.tissue_images.Level_1.164.2.0/TCGA-CR-7395-01A-01-TS1.844e558f-3325-40d4-b294-219b31c66e74.svs',3901814) \n",
      "UNABLE TO OPEN FILE?? /TCGA_MIRROR/tcga-data.nci.nih.gov/tcgafiles/ftp_auth/distro_ftpusers/anonymous/tumor/hnsc/bcr/intgen.org/tissue_images/slide_images/intgen.org_HNSC.tissue_images.Level_1.164.2.0/TCGA-CR-7395-01A-01-TS1.844e558f-3325-40d4-b294-219b31c66e74.svs\n",
      "\u001b[KTotal Processed: 678  Newly Processed: 0 Dup Slides or Already Loaded: 634  RESCANNED Slides 0"
     ]
    },
    {
     "name": "stderr",
     "output_type": "stream",
     "text": [
      " ()\n",
      "Verify failed with:"
     ]
    },
    {
     "name": "stdout",
     "output_type": "stream",
     "text": [
      "Openslide returned an error om tje StandardError block /TCGA_MIRROR/tcga-data.nci.nih.gov/tcgafiles/ftp_auth/distro_ftpusers/anonymous/tumor/hnsc/bcr/intgen.org/tissue_images/slide_images/intgen.org_HNSC.tissue_images.Level_1.164.2.0/TCGA-CR-7364-01A-01-TS1.5130155c-8da3-495d-8e17-66fd0656af46.svs\n",
      "SHIT IT DIED!\n",
      "insert into `corrupt_or_unreadable_svs_files` (full_file_name,filesize) Values ('/TCGA_MIRROR/tcga-data.nci.nih.gov/tcgafiles/ftp_auth/distro_ftpusers/anonymous/tumor/hnsc/bcr/intgen.org/tissue_images/slide_images/intgen.org_HNSC.tissue_images.Level_1.164.2.0/TCGA-CR-7364-01A-01-TS1.5130155c-8da3-495d-8e17-66fd0656af46.svs',7595536) \n",
      "UNABLE TO OPEN FILE?? /TCGA_MIRROR/tcga-data.nci.nih.gov/tcgafiles/ftp_auth/distro_ftpusers/anonymous/tumor/hnsc/bcr/intgen.org/tissue_images/slide_images/intgen.org_HNSC.tissue_images.Level_1.164.2.0/TCGA-CR-7364-01A-01-TS1.5130155c-8da3-495d-8e17-66fd0656af46.svs\n",
      "\u001b[KTotal Processed: 687  Newly Processed: 0 Dup Slides or Already Loaded: 642  RESCANNED Slides 0"
     ]
    },
    {
     "name": "stderr",
     "output_type": "stream",
     "text": [
      " ()\n",
      "Verify failed with:"
     ]
    },
    {
     "name": "stdout",
     "output_type": "stream",
     "text": [
      "Openslide returned an error om tje StandardError block /TCGA_MIRROR/tcga-data.nci.nih.gov/tcgafiles/ftp_auth/distro_ftpusers/anonymous/tumor/hnsc/bcr/intgen.org/tissue_images/slide_images/intgen.org_HNSC.tissue_images.Level_1.164.2.0/TCGA-CR-7371-01A-01-TS1.796eb4e3-4479-4e3c-b210-2d4f271b5ce7.svs\n",
      "SHIT IT DIED!\n",
      "insert into `corrupt_or_unreadable_svs_files` (full_file_name,filesize) Values ('/TCGA_MIRROR/tcga-data.nci.nih.gov/tcgafiles/ftp_auth/distro_ftpusers/anonymous/tumor/hnsc/bcr/intgen.org/tissue_images/slide_images/intgen.org_HNSC.tissue_images.Level_1.164.2.0/TCGA-CR-7371-01A-01-TS1.796eb4e3-4479-4e3c-b210-2d4f271b5ce7.svs',8681986) \n",
      "UNABLE TO OPEN FILE?? /TCGA_MIRROR/tcga-data.nci.nih.gov/tcgafiles/ftp_auth/distro_ftpusers/anonymous/tumor/hnsc/bcr/intgen.org/tissue_images/slide_images/intgen.org_HNSC.tissue_images.Level_1.164.2.0/TCGA-CR-7371-01A-01-TS1.796eb4e3-4479-4e3c-b210-2d4f271b5ce7.svs\n",
      "\u001b[KTotal Processed: 692  Newly Processed: 0 Dup Slides or Already Loaded: 646  RESCANNED Slides 0"
     ]
    },
    {
     "name": "stderr",
     "output_type": "stream",
     "text": [
      " ()\n",
      "Verify failed with:"
     ]
    },
    {
     "name": "stdout",
     "output_type": "stream",
     "text": [
      "Openslide returned an error om tje StandardError block /TCGA_MIRROR/tcga-data.nci.nih.gov/tcgafiles/ftp_auth/distro_ftpusers/anonymous/tumor/hnsc/bcr/intgen.org/tissue_images/slide_images/intgen.org_HNSC.tissue_images.Level_1.164.2.0/TCGA-CR-7380-01A-01-TS1.486d7d24-0e06-4e85-8555-9244219d2ffc.svs\n",
      "SHIT IT DIED!\n",
      "insert into `corrupt_or_unreadable_svs_files` (full_file_name,filesize) Values ('/TCGA_MIRROR/tcga-data.nci.nih.gov/tcgafiles/ftp_auth/distro_ftpusers/anonymous/tumor/hnsc/bcr/intgen.org/tissue_images/slide_images/intgen.org_HNSC.tissue_images.Level_1.164.2.0/TCGA-CR-7380-01A-01-TS1.486d7d24-0e06-4e85-8555-9244219d2ffc.svs',6616176) \n",
      "UNABLE TO OPEN FILE?? /TCGA_MIRROR/tcga-data.nci.nih.gov/tcgafiles/ftp_auth/distro_ftpusers/anonymous/tumor/hnsc/bcr/intgen.org/tissue_images/slide_images/intgen.org_HNSC.tissue_images.Level_1.164.2.0/TCGA-CR-7380-01A-01-TS1.486d7d24-0e06-4e85-8555-9244219d2ffc.svs\n",
      "\u001b[KTotal Processed: 700  Newly Processed: 0 Dup Slides or Already Loaded: 653  RESCANNED Slides 0"
     ]
    },
    {
     "name": "stderr",
     "output_type": "stream",
     "text": [
      " ()\n",
      "Verify failed with:"
     ]
    },
    {
     "name": "stdout",
     "output_type": "stream",
     "text": [
      "Openslide returned an error om tje StandardError block /TCGA_MIRROR/tcga-data.nci.nih.gov/tcgafiles/ftp_auth/distro_ftpusers/anonymous/tumor/hnsc/bcr/intgen.org/tissue_images/slide_images/intgen.org_HNSC.tissue_images.Level_1.164.2.0/TCGA-CR-7386-01A-01-TS1.ffcf78f3-b25a-46d2-9d38-69185654c9a5.svs\n",
      "SHIT IT DIED!\n",
      "insert into `corrupt_or_unreadable_svs_files` (full_file_name,filesize) Values ('/TCGA_MIRROR/tcga-data.nci.nih.gov/tcgafiles/ftp_auth/distro_ftpusers/anonymous/tumor/hnsc/bcr/intgen.org/tissue_images/slide_images/intgen.org_HNSC.tissue_images.Level_1.164.2.0/TCGA-CR-7386-01A-01-TS1.ffcf78f3-b25a-46d2-9d38-69185654c9a5.svs',9577100) \n",
      "UNABLE TO OPEN FILE?? /TCGA_MIRROR/tcga-data.nci.nih.gov/tcgafiles/ftp_auth/distro_ftpusers/anonymous/tumor/hnsc/bcr/intgen.org/tissue_images/slide_images/intgen.org_HNSC.tissue_images.Level_1.164.2.0/TCGA-CR-7386-01A-01-TS1.ffcf78f3-b25a-46d2-9d38-69185654c9a5.svs\n",
      "\u001b[KTotal Processed: 703  Newly Processed: 0 Dup Slides or Already Loaded: 655  RESCANNED Slides 0"
     ]
    },
    {
     "name": "stderr",
     "output_type": "stream",
     "text": [
      " ()\n",
      "Verify failed with:"
     ]
    },
    {
     "name": "stdout",
     "output_type": "stream",
     "text": [
      "Openslide returned an error om tje StandardError block /TCGA_MIRROR/tcga-data.nci.nih.gov/tcgafiles/ftp_auth/distro_ftpusers/anonymous/tumor/hnsc/bcr/intgen.org/tissue_images/slide_images/intgen.org_HNSC.tissue_images.Level_1.164.2.0/TCGA-CR-7389-01A-01-TS1.accbf255-8c8f-45a1-b8c4-076bce17a3d5.svs\n",
      "SHIT IT DIED!\n",
      "insert into `corrupt_or_unreadable_svs_files` (full_file_name,filesize) Values ('/TCGA_MIRROR/tcga-data.nci.nih.gov/tcgafiles/ftp_auth/distro_ftpusers/anonymous/tumor/hnsc/bcr/intgen.org/tissue_images/slide_images/intgen.org_HNSC.tissue_images.Level_1.164.2.0/TCGA-CR-7389-01A-01-TS1.accbf255-8c8f-45a1-b8c4-076bce17a3d5.svs',1502485) \n",
      "UNABLE TO OPEN FILE?? /TCGA_MIRROR/tcga-data.nci.nih.gov/tcgafiles/ftp_auth/distro_ftpusers/anonymous/tumor/hnsc/bcr/intgen.org/tissue_images/slide_images/intgen.org_HNSC.tissue_images.Level_1.164.2.0/TCGA-CR-7389-01A-01-TS1.accbf255-8c8f-45a1-b8c4-076bce17a3d5.svs\n",
      "\u001b[KTotal Processed: 706  Newly Processed: 0 Dup Slides or Already Loaded: 657  RESCANNED Slides 0"
     ]
    },
    {
     "name": "stderr",
     "output_type": "stream",
     "text": [
      " ()\n",
      "Verify failed with:"
     ]
    },
    {
     "name": "stdout",
     "output_type": "stream",
     "text": [
      "Openslide returned an error om tje StandardError block /TCGA_MIRROR/tcga-data.nci.nih.gov/tcgafiles/ftp_auth/distro_ftpusers/anonymous/tumor/hnsc/bcr/intgen.org/tissue_images/slide_images/intgen.org_HNSC.tissue_images.Level_1.164.2.0/TCGA-CR-7393-01A-01-TS1.d1befa29-b24c-4b24-b0c0-2740c9012e01.svs\n",
      "SHIT IT DIED!\n",
      "insert into `corrupt_or_unreadable_svs_files` (full_file_name,filesize) Values ('/TCGA_MIRROR/tcga-data.nci.nih.gov/tcgafiles/ftp_auth/distro_ftpusers/anonymous/tumor/hnsc/bcr/intgen.org/tissue_images/slide_images/intgen.org_HNSC.tissue_images.Level_1.164.2.0/TCGA-CR-7393-01A-01-TS1.d1befa29-b24c-4b24-b0c0-2740c9012e01.svs',8786500) \n",
      "UNABLE TO OPEN FILE?? /TCGA_MIRROR/tcga-data.nci.nih.gov/tcgafiles/ftp_auth/distro_ftpusers/anonymous/tumor/hnsc/bcr/intgen.org/tissue_images/slide_images/intgen.org_HNSC.tissue_images.Level_1.164.2.0/TCGA-CR-7393-01A-01-TS1.d1befa29-b24c-4b24-b0c0-2740c9012e01.svs\n",
      "\u001b[KTotal Processed: 716  Newly Processed: 0 Dup Slides or Already Loaded: 666  RESCANNED Slides 0"
     ]
    },
    {
     "name": "stderr",
     "output_type": "stream",
     "text": [
      " ()\n",
      "Verify failed with:"
     ]
    },
    {
     "name": "stdout",
     "output_type": "stream",
     "text": [
      "Openslide returned an error om tje StandardError block /TCGA_MIRROR/tcga-data.nci.nih.gov/tcgafiles/ftp_auth/distro_ftpusers/anonymous/tumor/hnsc/bcr/intgen.org/tissue_images/slide_images/intgen.org_HNSC.tissue_images.Level_1.164.2.0/TCGA-CR-7398-01A-01-TS1.3aef998b-046a-4d86-a8ee-42e771bc6d6d.svs\n",
      "SHIT IT DIED!\n",
      "insert into `corrupt_or_unreadable_svs_files` (full_file_name,filesize) Values ('/TCGA_MIRROR/tcga-data.nci.nih.gov/tcgafiles/ftp_auth/distro_ftpusers/anonymous/tumor/hnsc/bcr/intgen.org/tissue_images/slide_images/intgen.org_HNSC.tissue_images.Level_1.164.2.0/TCGA-CR-7398-01A-01-TS1.3aef998b-046a-4d86-a8ee-42e771bc6d6d.svs',8310986) \n",
      "UNABLE TO OPEN FILE?? /TCGA_MIRROR/tcga-data.nci.nih.gov/tcgafiles/ftp_auth/distro_ftpusers/anonymous/tumor/hnsc/bcr/intgen.org/tissue_images/slide_images/intgen.org_HNSC.tissue_images.Level_1.164.2.0/TCGA-CR-7398-01A-01-TS1.3aef998b-046a-4d86-a8ee-42e771bc6d6d.svs\n",
      "\u001b[KTotal Processed: 731  Newly Processed: 0 Dup Slides or Already Loaded: 680  RESCANNED Slides 0"
     ]
    },
    {
     "name": "stderr",
     "output_type": "stream",
     "text": [
      " ()\n",
      "Verify failed with:"
     ]
    },
    {
     "name": "stdout",
     "output_type": "stream",
     "text": [
      "Openslide returned an error om tje StandardError block /TCGA_MIRROR/tcga-data.nci.nih.gov/tcgafiles/ftp_auth/distro_ftpusers/anonymous/tumor/hnsc/bcr/intgen.org/tissue_images/slide_images/intgen.org_HNSC.tissue_images.Level_1.164.2.0/TCGA-CR-7399-01A-01-TS1.b87c5422-1239-4ffd-ba83-5969e2c2d9ce.svs\n",
      "SHIT IT DIED!\n",
      "insert into `corrupt_or_unreadable_svs_files` (full_file_name,filesize) Values ('/TCGA_MIRROR/tcga-data.nci.nih.gov/tcgafiles/ftp_auth/distro_ftpusers/anonymous/tumor/hnsc/bcr/intgen.org/tissue_images/slide_images/intgen.org_HNSC.tissue_images.Level_1.164.2.0/TCGA-CR-7399-01A-01-TS1.b87c5422-1239-4ffd-ba83-5969e2c2d9ce.svs',8292346) \n",
      "UNABLE TO OPEN FILE?? /TCGA_MIRROR/tcga-data.nci.nih.gov/tcgafiles/ftp_auth/distro_ftpusers/anonymous/tumor/hnsc/bcr/intgen.org/tissue_images/slide_images/intgen.org_HNSC.tissue_images.Level_1.164.2.0/TCGA-CR-7399-01A-01-TS1.b87c5422-1239-4ffd-ba83-5969e2c2d9ce.svs\n",
      "\u001b[KTotal Processed: 736  Newly Processed: 0 Dup Slides or Already Loaded: 684  RESCANNED Slides 0"
     ]
    },
    {
     "name": "stderr",
     "output_type": "stream",
     "text": [
      " ()\n",
      "Verify failed with:"
     ]
    },
    {
     "name": "stdout",
     "output_type": "stream",
     "text": [
      "Openslide returned an error om tje StandardError block /TCGA_MIRROR/tcga-data.nci.nih.gov/tcgafiles/ftp_auth/distro_ftpusers/anonymous/tumor/hnsc/bcr/intgen.org/tissue_images/slide_images/intgen.org_HNSC.tissue_images.Level_1.164.2.0/TCGA-CR-7391-01A-01-TS1.2d58313c-c239-4ff5-90bb-114a8b219ef7.svs\n",
      "SHIT IT DIED!\n",
      "insert into `corrupt_or_unreadable_svs_files` (full_file_name,filesize) Values ('/TCGA_MIRROR/tcga-data.nci.nih.gov/tcgafiles/ftp_auth/distro_ftpusers/anonymous/tumor/hnsc/bcr/intgen.org/tissue_images/slide_images/intgen.org_HNSC.tissue_images.Level_1.164.2.0/TCGA-CR-7391-01A-01-TS1.2d58313c-c239-4ff5-90bb-114a8b219ef7.svs',7115740) \n",
      "UNABLE TO OPEN FILE?? /TCGA_MIRROR/tcga-data.nci.nih.gov/tcgafiles/ftp_auth/distro_ftpusers/anonymous/tumor/hnsc/bcr/intgen.org/tissue_images/slide_images/intgen.org_HNSC.tissue_images.Level_1.164.2.0/TCGA-CR-7391-01A-01-TS1.2d58313c-c239-4ff5-90bb-114a8b219ef7.svs\n",
      "\u001b[KTotal Processed: 738  Newly Processed: 0 Dup Slides or Already Loaded: 685  RESCANNED Slides 0"
     ]
    },
    {
     "name": "stderr",
     "output_type": "stream",
     "text": [
      " ()\n",
      "Verify failed with:"
     ]
    },
    {
     "name": "stdout",
     "output_type": "stream",
     "text": [
      "Openslide returned an error om tje StandardError block /TCGA_MIRROR/tcga-data.nci.nih.gov/tcgafiles/ftp_auth/distro_ftpusers/anonymous/tumor/hnsc/bcr/intgen.org/tissue_images/slide_images/intgen.org_HNSC.tissue_images.Level_1.164.2.0/TCGA-CR-7392-01A-01-TS1.7ca616f1-56b4-4a0c-904f-06a69e736812.svs\n",
      "SHIT IT DIED!\n",
      "insert into `corrupt_or_unreadable_svs_files` (full_file_name,filesize) Values ('/TCGA_MIRROR/tcga-data.nci.nih.gov/tcgafiles/ftp_auth/distro_ftpusers/anonymous/tumor/hnsc/bcr/intgen.org/tissue_images/slide_images/intgen.org_HNSC.tissue_images.Level_1.164.2.0/TCGA-CR-7392-01A-01-TS1.7ca616f1-56b4-4a0c-904f-06a69e736812.svs',8714796) \n",
      "UNABLE TO OPEN FILE?? /TCGA_MIRROR/tcga-data.nci.nih.gov/tcgafiles/ftp_auth/distro_ftpusers/anonymous/tumor/hnsc/bcr/intgen.org/tissue_images/slide_images/intgen.org_HNSC.tissue_images.Level_1.164.2.0/TCGA-CR-7392-01A-01-TS1.7ca616f1-56b4-4a0c-904f-06a69e736812.svs\n",
      "\u001b[KTotal Processed: 752  Newly Processed: 0 Dup Slides or Already Loaded: 698  RESCANNED Slides 0"
     ]
    },
    {
     "name": "stderr",
     "output_type": "stream",
     "text": [
      " ()\n",
      "Verify failed with:"
     ]
    },
    {
     "name": "stdout",
     "output_type": "stream",
     "text": [
      "Openslide returned an error om tje StandardError block /TCGA_MIRROR/tcga-data.nci.nih.gov/tcgafiles/ftp_auth/distro_ftpusers/anonymous/tumor/hnsc/bcr/intgen.org/tissue_images/slide_images/intgen.org_HNSC.tissue_images.Level_1.164.2.0/TCGA-CR-7377-01A-01-TS1.45dd6071-5078-4807-a090-bf38fe6931c3.svs\n",
      "SHIT IT DIED!\n",
      "insert into `corrupt_or_unreadable_svs_files` (full_file_name,filesize) Values ('/TCGA_MIRROR/tcga-data.nci.nih.gov/tcgafiles/ftp_auth/distro_ftpusers/anonymous/tumor/hnsc/bcr/intgen.org/tissue_images/slide_images/intgen.org_HNSC.tissue_images.Level_1.164.2.0/TCGA-CR-7377-01A-01-TS1.45dd6071-5078-4807-a090-bf38fe6931c3.svs',8332454) \n",
      "UNABLE TO OPEN FILE?? /TCGA_MIRROR/tcga-data.nci.nih.gov/tcgafiles/ftp_auth/distro_ftpusers/anonymous/tumor/hnsc/bcr/intgen.org/tissue_images/slide_images/intgen.org_HNSC.tissue_images.Level_1.164.2.0/TCGA-CR-7377-01A-01-TS1.45dd6071-5078-4807-a090-bf38fe6931c3.svs\n",
      "\u001b[KTotal Processed: 754  Newly Processed: 0 Dup Slides or Already Loaded: 699  RESCANNED Slides 0"
     ]
    },
    {
     "name": "stderr",
     "output_type": "stream",
     "text": [
      " ()\n",
      "Verify failed with:"
     ]
    },
    {
     "name": "stdout",
     "output_type": "stream",
     "text": [
      "Openslide returned an error om tje StandardError block /TCGA_MIRROR/tcga-data.nci.nih.gov/tcgafiles/ftp_auth/distro_ftpusers/anonymous/tumor/hnsc/bcr/intgen.org/tissue_images/slide_images/intgen.org_HNSC.tissue_images.Level_1.164.2.0/TCGA-CR-7367-01A-01-TS1.8c33cb41-d972-4906-8664-b8332d6658c5.svs\n",
      "SHIT IT DIED!\n",
      "insert into `corrupt_or_unreadable_svs_files` (full_file_name,filesize) Values ('/TCGA_MIRROR/tcga-data.nci.nih.gov/tcgafiles/ftp_auth/distro_ftpusers/anonymous/tumor/hnsc/bcr/intgen.org/tissue_images/slide_images/intgen.org_HNSC.tissue_images.Level_1.164.2.0/TCGA-CR-7367-01A-01-TS1.8c33cb41-d972-4906-8664-b8332d6658c5.svs',7518242) \n",
      "UNABLE TO OPEN FILE?? /TCGA_MIRROR/tcga-data.nci.nih.gov/tcgafiles/ftp_auth/distro_ftpusers/anonymous/tumor/hnsc/bcr/intgen.org/tissue_images/slide_images/intgen.org_HNSC.tissue_images.Level_1.164.2.0/TCGA-CR-7367-01A-01-TS1.8c33cb41-d972-4906-8664-b8332d6658c5.svs\n",
      "\u001b[KTotal Processed: 756  Newly Processed: 0 Dup Slides or Already Loaded: 700  RESCANNED Slides 0"
     ]
    },
    {
     "name": "stderr",
     "output_type": "stream",
     "text": [
      " ()\n",
      "Verify failed with:"
     ]
    },
    {
     "name": "stdout",
     "output_type": "stream",
     "text": [
      "Openslide returned an error om tje StandardError block /TCGA_MIRROR/tcga-data.nci.nih.gov/tcgafiles/ftp_auth/distro_ftpusers/anonymous/tumor/hnsc/bcr/intgen.org/tissue_images/slide_images/intgen.org_HNSC.tissue_images.Level_1.145.2.0/TCGA-CR-6478-01A-01-TS1.3fff1204-2825-4722-b49f-be544f829ebe.svs\n",
      "SHIT IT DIED!\n",
      "insert into `corrupt_or_unreadable_svs_files` (full_file_name,filesize) Values ('/TCGA_MIRROR/tcga-data.nci.nih.gov/tcgafiles/ftp_auth/distro_ftpusers/anonymous/tumor/hnsc/bcr/intgen.org/tissue_images/slide_images/intgen.org_HNSC.tissue_images.Level_1.145.2.0/TCGA-CR-6478-01A-01-TS1.3fff1204-2825-4722-b49f-be544f829ebe.svs',6348192) \n",
      "UNABLE TO OPEN FILE?? /TCGA_MIRROR/tcga-data.nci.nih.gov/tcgafiles/ftp_auth/distro_ftpusers/anonymous/tumor/hnsc/bcr/intgen.org/tissue_images/slide_images/intgen.org_HNSC.tissue_images.Level_1.145.2.0/TCGA-CR-6478-01A-01-TS1.3fff1204-2825-4722-b49f-be544f829ebe.svs\n",
      "\u001b[KTotal Processed: 759  Newly Processed: 0 Dup Slides or Already Loaded: 702  RESCANNED Slides 0"
     ]
    },
    {
     "name": "stderr",
     "output_type": "stream",
     "text": [
      " ()\n",
      "Verify failed with:"
     ]
    },
    {
     "name": "stdout",
     "output_type": "stream",
     "text": [
      "Openslide returned an error om tje StandardError block /TCGA_MIRROR/tcga-data.nci.nih.gov/tcgafiles/ftp_auth/distro_ftpusers/anonymous/tumor/hnsc/bcr/intgen.org/tissue_images/slide_images/intgen.org_HNSC.tissue_images.Level_1.145.2.0/TCGA-CR-6474-01A-01-TS1.cf8548c2-8102-4e76-aac1-b259013208d1.svs\n",
      "SHIT IT DIED!\n",
      "insert into `corrupt_or_unreadable_svs_files` (full_file_name,filesize) Values ('/TCGA_MIRROR/tcga-data.nci.nih.gov/tcgafiles/ftp_auth/distro_ftpusers/anonymous/tumor/hnsc/bcr/intgen.org/tissue_images/slide_images/intgen.org_HNSC.tissue_images.Level_1.145.2.0/TCGA-CR-6474-01A-01-TS1.cf8548c2-8102-4e76-aac1-b259013208d1.svs',9157482) \n",
      "UNABLE TO OPEN FILE?? /TCGA_MIRROR/tcga-data.nci.nih.gov/tcgafiles/ftp_auth/distro_ftpusers/anonymous/tumor/hnsc/bcr/intgen.org/tissue_images/slide_images/intgen.org_HNSC.tissue_images.Level_1.145.2.0/TCGA-CR-6474-01A-01-TS1.cf8548c2-8102-4e76-aac1-b259013208d1.svs\n",
      "\u001b[KTotal Processed: 761  Newly Processed: 0 Dup Slides or Already Loaded: 703  RESCANNED Slides 0"
     ]
    },
    {
     "name": "stderr",
     "output_type": "stream",
     "text": [
      " ()\n",
      "Verify failed with:"
     ]
    },
    {
     "name": "stdout",
     "output_type": "stream",
     "text": [
      "Openslide returned an error om tje StandardError block /TCGA_MIRROR/tcga-data.nci.nih.gov/tcgafiles/ftp_auth/distro_ftpusers/anonymous/tumor/hnsc/bcr/intgen.org/tissue_images/slide_images/intgen.org_HNSC.tissue_images.Level_1.145.2.0/TCGA-CR-6467-01A-01-TS1.1a321c2e-156f-436f-9336-63a9faa7a7d4.svs\n",
      "SHIT IT DIED!\n",
      "insert into `corrupt_or_unreadable_svs_files` (full_file_name,filesize) Values ('/TCGA_MIRROR/tcga-data.nci.nih.gov/tcgafiles/ftp_auth/distro_ftpusers/anonymous/tumor/hnsc/bcr/intgen.org/tissue_images/slide_images/intgen.org_HNSC.tissue_images.Level_1.145.2.0/TCGA-CR-6467-01A-01-TS1.1a321c2e-156f-436f-9336-63a9faa7a7d4.svs',8483546) \n",
      "UNABLE TO OPEN FILE?? /TCGA_MIRROR/tcga-data.nci.nih.gov/tcgafiles/ftp_auth/distro_ftpusers/anonymous/tumor/hnsc/bcr/intgen.org/tissue_images/slide_images/intgen.org_HNSC.tissue_images.Level_1.145.2.0/TCGA-CR-6467-01A-01-TS1.1a321c2e-156f-436f-9336-63a9faa7a7d4.svs\n",
      "\r",
      "\u001b[KTotal Processed: 762  Newly Processed: 0 Dup Slides or Already Loaded: 703  RESCANNED Slides 0"
     ]
    },
    {
     "name": "stderr",
     "output_type": "stream",
     "text": [
      " ()\n",
      "Verify failed with:"
     ]
    },
    {
     "name": "stdout",
     "output_type": "stream",
     "text": [
      "Openslide returned an error om tje StandardError block /TCGA_MIRROR/tcga-data.nci.nih.gov/tcgafiles/ftp_auth/distro_ftpusers/anonymous/tumor/hnsc/bcr/intgen.org/tissue_images/slide_images/intgen.org_HNSC.tissue_images.Level_1.145.2.0/TCGA-CR-6484-01A-01-TS1.39a06efa-b681-49ed-8516-830495edca41.svs\n",
      "SHIT IT DIED!\n",
      "insert into `corrupt_or_unreadable_svs_files` (full_file_name,filesize) Values ('/TCGA_MIRROR/tcga-data.nci.nih.gov/tcgafiles/ftp_auth/distro_ftpusers/anonymous/tumor/hnsc/bcr/intgen.org/tissue_images/slide_images/intgen.org_HNSC.tissue_images.Level_1.145.2.0/TCGA-CR-6484-01A-01-TS1.39a06efa-b681-49ed-8516-830495edca41.svs',7399442) \n",
      "UNABLE TO OPEN FILE?? /TCGA_MIRROR/tcga-data.nci.nih.gov/tcgafiles/ftp_auth/distro_ftpusers/anonymous/tumor/hnsc/bcr/intgen.org/tissue_images/slide_images/intgen.org_HNSC.tissue_images.Level_1.145.2.0/TCGA-CR-6484-01A-01-TS1.39a06efa-b681-49ed-8516-830495edca41.svs\n",
      "\u001b[KTotal Processed: 768  Newly Processed: 0 Dup Slides or Already Loaded: 708  RESCANNED Slides 0"
     ]
    },
    {
     "name": "stderr",
     "output_type": "stream",
     "text": [
      " ()\n",
      "Verify failed with:"
     ]
    },
    {
     "name": "stdout",
     "output_type": "stream",
     "text": [
      "Openslide returned an error om tje StandardError block /TCGA_MIRROR/tcga-data.nci.nih.gov/tcgafiles/ftp_auth/distro_ftpusers/anonymous/tumor/hnsc/bcr/intgen.org/tissue_images/slide_images/intgen.org_HNSC.tissue_images.Level_1.145.2.0/TCGA-CR-6487-01A-01-TS1.10afc9b5-ef5f-47ce-9c6c-4992a530ae7d.svs\n",
      "SHIT IT DIED!\n",
      "insert into `corrupt_or_unreadable_svs_files` (full_file_name,filesize) Values ('/TCGA_MIRROR/tcga-data.nci.nih.gov/tcgafiles/ftp_auth/distro_ftpusers/anonymous/tumor/hnsc/bcr/intgen.org/tissue_images/slide_images/intgen.org_HNSC.tissue_images.Level_1.145.2.0/TCGA-CR-6487-01A-01-TS1.10afc9b5-ef5f-47ce-9c6c-4992a530ae7d.svs',8427182) \n",
      "UNABLE TO OPEN FILE?? /TCGA_MIRROR/tcga-data.nci.nih.gov/tcgafiles/ftp_auth/distro_ftpusers/anonymous/tumor/hnsc/bcr/intgen.org/tissue_images/slide_images/intgen.org_HNSC.tissue_images.Level_1.145.2.0/TCGA-CR-6487-01A-01-TS1.10afc9b5-ef5f-47ce-9c6c-4992a530ae7d.svs\n",
      "\r",
      "\u001b[KTotal Processed: 769  Newly Processed: 0 Dup Slides or Already Loaded: 708  RESCANNED Slides 0"
     ]
    },
    {
     "name": "stderr",
     "output_type": "stream",
     "text": [
      " ()\n",
      "Verify failed with:"
     ]
    },
    {
     "name": "stdout",
     "output_type": "stream",
     "text": [
      "Openslide returned an error om tje StandardError block /TCGA_MIRROR/tcga-data.nci.nih.gov/tcgafiles/ftp_auth/distro_ftpusers/anonymous/tumor/hnsc/bcr/intgen.org/tissue_images/slide_images/intgen.org_HNSC.tissue_images.Level_1.145.2.0/TCGA-CR-6482-01A-01-TS1.22e08fdd-b86c-4097-9cae-e4cdc13abf2a.svs\n",
      "SHIT IT DIED!\n",
      "insert into `corrupt_or_unreadable_svs_files` (full_file_name,filesize) Values ('/TCGA_MIRROR/tcga-data.nci.nih.gov/tcgafiles/ftp_auth/distro_ftpusers/anonymous/tumor/hnsc/bcr/intgen.org/tissue_images/slide_images/intgen.org_HNSC.tissue_images.Level_1.145.2.0/TCGA-CR-6482-01A-01-TS1.22e08fdd-b86c-4097-9cae-e4cdc13abf2a.svs',8434884) \n",
      "UNABLE TO OPEN FILE?? /TCGA_MIRROR/tcga-data.nci.nih.gov/tcgafiles/ftp_auth/distro_ftpusers/anonymous/tumor/hnsc/bcr/intgen.org/tissue_images/slide_images/intgen.org_HNSC.tissue_images.Level_1.145.2.0/TCGA-CR-6482-01A-01-TS1.22e08fdd-b86c-4097-9cae-e4cdc13abf2a.svs\n",
      "\u001b[KTotal Processed: 771  Newly Processed: 0 Dup Slides or Already Loaded: 709  RESCANNED Slides 0"
     ]
    },
    {
     "name": "stderr",
     "output_type": "stream",
     "text": [
      " ()\n",
      "Verify failed with:"
     ]
    },
    {
     "name": "stdout",
     "output_type": "stream",
     "text": [
      "Openslide returned an error om tje StandardError block /TCGA_MIRROR/tcga-data.nci.nih.gov/tcgafiles/ftp_auth/distro_ftpusers/anonymous/tumor/hnsc/bcr/intgen.org/tissue_images/slide_images/intgen.org_HNSC.tissue_images.Level_1.145.2.0/TCGA-CR-6481-01A-01-TS1.30977a05-0514-4bab-8336-770553702269.svs\n",
      "SHIT IT DIED!\n",
      "insert into `corrupt_or_unreadable_svs_files` (full_file_name,filesize) Values ('/TCGA_MIRROR/tcga-data.nci.nih.gov/tcgafiles/ftp_auth/distro_ftpusers/anonymous/tumor/hnsc/bcr/intgen.org/tissue_images/slide_images/intgen.org_HNSC.tissue_images.Level_1.145.2.0/TCGA-CR-6481-01A-01-TS1.30977a05-0514-4bab-8336-770553702269.svs',8398688) \n",
      "UNABLE TO OPEN FILE?? /TCGA_MIRROR/tcga-data.nci.nih.gov/tcgafiles/ftp_auth/distro_ftpusers/anonymous/tumor/hnsc/bcr/intgen.org/tissue_images/slide_images/intgen.org_HNSC.tissue_images.Level_1.145.2.0/TCGA-CR-6481-01A-01-TS1.30977a05-0514-4bab-8336-770553702269.svs\n",
      "\u001b[KTotal Processed: 773  Newly Processed: 0 Dup Slides or Already Loaded: 710  RESCANNED Slides 0"
     ]
    },
    {
     "name": "stderr",
     "output_type": "stream",
     "text": [
      " ()\n",
      "Verify failed with:"
     ]
    },
    {
     "name": "stdout",
     "output_type": "stream",
     "text": [
      "Openslide returned an error om tje StandardError block /TCGA_MIRROR/tcga-data.nci.nih.gov/tcgafiles/ftp_auth/distro_ftpusers/anonymous/tumor/hnsc/bcr/intgen.org/tissue_images/slide_images/intgen.org_HNSC.tissue_images.Level_1.145.2.0/TCGA-CR-6493-01A-01-TS1.e15f7ea9-fe67-458f-bc5e-286148437382.svs\n",
      "SHIT IT DIED!\n",
      "insert into `corrupt_or_unreadable_svs_files` (full_file_name,filesize) Values ('/TCGA_MIRROR/tcga-data.nci.nih.gov/tcgafiles/ftp_auth/distro_ftpusers/anonymous/tumor/hnsc/bcr/intgen.org/tissue_images/slide_images/intgen.org_HNSC.tissue_images.Level_1.145.2.0/TCGA-CR-6493-01A-01-TS1.e15f7ea9-fe67-458f-bc5e-286148437382.svs',8319390) \n",
      "UNABLE TO OPEN FILE?? /TCGA_MIRROR/tcga-data.nci.nih.gov/tcgafiles/ftp_auth/distro_ftpusers/anonymous/tumor/hnsc/bcr/intgen.org/tissue_images/slide_images/intgen.org_HNSC.tissue_images.Level_1.145.2.0/TCGA-CR-6493-01A-01-TS1.e15f7ea9-fe67-458f-bc5e-286148437382.svs\n",
      "\u001b[KTotal Processed: 775  Newly Processed: 0 Dup Slides or Already Loaded: 711  RESCANNED Slides 0"
     ]
    },
    {
     "name": "stderr",
     "output_type": "stream",
     "text": [
      " ()\n",
      "Verify failed with:"
     ]
    },
    {
     "name": "stdout",
     "output_type": "stream",
     "text": [
      "Openslide returned an error om tje StandardError block /TCGA_MIRROR/tcga-data.nci.nih.gov/tcgafiles/ftp_auth/distro_ftpusers/anonymous/tumor/hnsc/bcr/intgen.org/tissue_images/slide_images/intgen.org_HNSC.tissue_images.Level_1.145.2.0/TCGA-CR-6480-01A-01-TS1.310e6db0-78c6-4395-8c76-566f0035224a.svs\n",
      "SHIT IT DIED!\n",
      "insert into `corrupt_or_unreadable_svs_files` (full_file_name,filesize) Values ('/TCGA_MIRROR/tcga-data.nci.nih.gov/tcgafiles/ftp_auth/distro_ftpusers/anonymous/tumor/hnsc/bcr/intgen.org/tissue_images/slide_images/intgen.org_HNSC.tissue_images.Level_1.145.2.0/TCGA-CR-6480-01A-01-TS1.310e6db0-78c6-4395-8c76-566f0035224a.svs',8052114) \n",
      "UNABLE TO OPEN FILE?? /TCGA_MIRROR/tcga-data.nci.nih.gov/tcgafiles/ftp_auth/distro_ftpusers/anonymous/tumor/hnsc/bcr/intgen.org/tissue_images/slide_images/intgen.org_HNSC.tissue_images.Level_1.145.2.0/TCGA-CR-6480-01A-01-TS1.310e6db0-78c6-4395-8c76-566f0035224a.svs\n",
      "\u001b[KTotal Processed: 777  Newly Processed: 0 Dup Slides or Already Loaded: 712  RESCANNED Slides 0"
     ]
    },
    {
     "name": "stderr",
     "output_type": "stream",
     "text": [
      " ()\n",
      "Verify failed with:"
     ]
    },
    {
     "name": "stdout",
     "output_type": "stream",
     "text": [
      "Openslide returned an error om tje StandardError block /TCGA_MIRROR/tcga-data.nci.nih.gov/tcgafiles/ftp_auth/distro_ftpusers/anonymous/tumor/hnsc/bcr/intgen.org/tissue_images/slide_images/intgen.org_HNSC.tissue_images.Level_1.145.2.0/TCGA-CR-6473-01A-01-TS1.e6d069e9-2a0c-44c6-b235-6765f5145da3.svs\n",
      "SHIT IT DIED!\n",
      "insert into `corrupt_or_unreadable_svs_files` (full_file_name,filesize) Values ('/TCGA_MIRROR/tcga-data.nci.nih.gov/tcgafiles/ftp_auth/distro_ftpusers/anonymous/tumor/hnsc/bcr/intgen.org/tissue_images/slide_images/intgen.org_HNSC.tissue_images.Level_1.145.2.0/TCGA-CR-6473-01A-01-TS1.e6d069e9-2a0c-44c6-b235-6765f5145da3.svs',6408014) \n",
      "UNABLE TO OPEN FILE?? /TCGA_MIRROR/tcga-data.nci.nih.gov/tcgafiles/ftp_auth/distro_ftpusers/anonymous/tumor/hnsc/bcr/intgen.org/tissue_images/slide_images/intgen.org_HNSC.tissue_images.Level_1.145.2.0/TCGA-CR-6473-01A-01-TS1.e6d069e9-2a0c-44c6-b235-6765f5145da3.svs\n",
      "\u001b[KTotal Processed: 780  Newly Processed: 0 Dup Slides or Already Loaded: 714  RESCANNED Slides 0"
     ]
    },
    {
     "name": "stderr",
     "output_type": "stream",
     "text": [
      " ()\n",
      "Verify failed with:"
     ]
    },
    {
     "name": "stdout",
     "output_type": "stream",
     "text": [
      "Openslide returned an error om tje StandardError block /TCGA_MIRROR/tcga-data.nci.nih.gov/tcgafiles/ftp_auth/distro_ftpusers/anonymous/tumor/hnsc/bcr/intgen.org/tissue_images/slide_images/intgen.org_HNSC.tissue_images.Level_1.145.2.0/TCGA-CR-6477-01A-01-TS1.aaf2ba30-bd8b-4b8d-a10a-23f1d41f7b20.svs\n",
      "SHIT IT DIED!\n",
      "insert into `corrupt_or_unreadable_svs_files` (full_file_name,filesize) Values ('/TCGA_MIRROR/tcga-data.nci.nih.gov/tcgafiles/ftp_auth/distro_ftpusers/anonymous/tumor/hnsc/bcr/intgen.org/tissue_images/slide_images/intgen.org_HNSC.tissue_images.Level_1.145.2.0/TCGA-CR-6477-01A-01-TS1.aaf2ba30-bd8b-4b8d-a10a-23f1d41f7b20.svs',8908972) \n",
      "UNABLE TO OPEN FILE?? /TCGA_MIRROR/tcga-data.nci.nih.gov/tcgafiles/ftp_auth/distro_ftpusers/anonymous/tumor/hnsc/bcr/intgen.org/tissue_images/slide_images/intgen.org_HNSC.tissue_images.Level_1.145.2.0/TCGA-CR-6477-01A-01-TS1.aaf2ba30-bd8b-4b8d-a10a-23f1d41f7b20.svs\n",
      "\u001b[KTotal Processed: 789  Newly Processed: 0 Dup Slides or Already Loaded: 722  RESCANNED Slides 0"
     ]
    },
    {
     "name": "stderr",
     "output_type": "stream",
     "text": [
      " ()\n",
      "Verify failed with:"
     ]
    },
    {
     "name": "stdout",
     "output_type": "stream",
     "text": [
      "Openslide returned an error om tje StandardError block /TCGA_MIRROR/tcga-data.nci.nih.gov/tcgafiles/ftp_auth/distro_ftpusers/anonymous/tumor/hnsc/bcr/intgen.org/tissue_images/slide_images/intgen.org_HNSC.tissue_images.Level_1.145.2.0/TCGA-CR-6491-01A-01-TS1.cdb38d6c-28b3-4715-bfe7-ebe744709696.svs\n",
      "SHIT IT DIED!\n",
      "insert into `corrupt_or_unreadable_svs_files` (full_file_name,filesize) Values ('/TCGA_MIRROR/tcga-data.nci.nih.gov/tcgafiles/ftp_auth/distro_ftpusers/anonymous/tumor/hnsc/bcr/intgen.org/tissue_images/slide_images/intgen.org_HNSC.tissue_images.Level_1.145.2.0/TCGA-CR-6491-01A-01-TS1.cdb38d6c-28b3-4715-bfe7-ebe744709696.svs',7378782) \n",
      "UNABLE TO OPEN FILE?? /TCGA_MIRROR/tcga-data.nci.nih.gov/tcgafiles/ftp_auth/distro_ftpusers/anonymous/tumor/hnsc/bcr/intgen.org/tissue_images/slide_images/intgen.org_HNSC.tissue_images.Level_1.145.2.0/TCGA-CR-6491-01A-01-TS1.cdb38d6c-28b3-4715-bfe7-ebe744709696.svs\n",
      "\u001b[KTotal Processed: 793  Newly Processed: 0 Dup Slides or Already Loaded: 725  RESCANNED Slides 0"
     ]
    },
    {
     "name": "stderr",
     "output_type": "stream",
     "text": [
      " ()\n",
      "Verify failed with:"
     ]
    },
    {
     "name": "stdout",
     "output_type": "stream",
     "text": [
      "Openslide returned an error om tje StandardError block /TCGA_MIRROR/tcga-data.nci.nih.gov/tcgafiles/ftp_auth/distro_ftpusers/anonymous/tumor/hnsc/bcr/intgen.org/tissue_images/slide_images/intgen.org_HNSC.tissue_images.Level_1.145.2.0/TCGA-CR-6472-01A-01-TS1.26b197dc-f7fc-40c6-a473-78d992cfd576.svs\n",
      "SHIT IT DIED!\n",
      "insert into `corrupt_or_unreadable_svs_files` (full_file_name,filesize) Values ('/TCGA_MIRROR/tcga-data.nci.nih.gov/tcgafiles/ftp_auth/distro_ftpusers/anonymous/tumor/hnsc/bcr/intgen.org/tissue_images/slide_images/intgen.org_HNSC.tissue_images.Level_1.145.2.0/TCGA-CR-6472-01A-01-TS1.26b197dc-f7fc-40c6-a473-78d992cfd576.svs',6906450) \n",
      "UNABLE TO OPEN FILE?? /TCGA_MIRROR/tcga-data.nci.nih.gov/tcgafiles/ftp_auth/distro_ftpusers/anonymous/tumor/hnsc/bcr/intgen.org/tissue_images/slide_images/intgen.org_HNSC.tissue_images.Level_1.145.2.0/TCGA-CR-6472-01A-01-TS1.26b197dc-f7fc-40c6-a473-78d992cfd576.svs\n",
      "\r",
      "\u001b[KTotal Processed: 794  Newly Processed: 0 Dup Slides or Already Loaded: 725  RESCANNED Slides 0"
     ]
    },
    {
     "name": "stderr",
     "output_type": "stream",
     "text": [
      " ()\n",
      "Verify failed with:"
     ]
    },
    {
     "name": "stdout",
     "output_type": "stream",
     "text": [
      "Openslide returned an error om tje StandardError block /TCGA_MIRROR/tcga-data.nci.nih.gov/tcgafiles/ftp_auth/distro_ftpusers/anonymous/tumor/hnsc/bcr/intgen.org/tissue_images/slide_images/intgen.org_HNSC.tissue_images.Level_1.145.2.0/TCGA-CR-6470-01A-01-TS1.a73d75fe-bd80-4dbb-a33b-54942d9b7057.svs\n",
      "SHIT IT DIED!\n",
      "insert into `corrupt_or_unreadable_svs_files` (full_file_name,filesize) Values ('/TCGA_MIRROR/tcga-data.nci.nih.gov/tcgafiles/ftp_auth/distro_ftpusers/anonymous/tumor/hnsc/bcr/intgen.org/tissue_images/slide_images/intgen.org_HNSC.tissue_images.Level_1.145.2.0/TCGA-CR-6470-01A-01-TS1.a73d75fe-bd80-4dbb-a33b-54942d9b7057.svs',6970156) \n",
      "UNABLE TO OPEN FILE?? /TCGA_MIRROR/tcga-data.nci.nih.gov/tcgafiles/ftp_auth/distro_ftpusers/anonymous/tumor/hnsc/bcr/intgen.org/tissue_images/slide_images/intgen.org_HNSC.tissue_images.Level_1.145.2.0/TCGA-CR-6470-01A-01-TS1.a73d75fe-bd80-4dbb-a33b-54942d9b7057.svs\n",
      "\u001b[KTotal Processed: 797  Newly Processed: 0 Dup Slides or Already Loaded: 727  RESCANNED Slides 0"
     ]
    },
    {
     "name": "stderr",
     "output_type": "stream",
     "text": [
      " ()\n",
      "Verify failed with:"
     ]
    },
    {
     "name": "stdout",
     "output_type": "stream",
     "text": [
      "Openslide returned an error om tje StandardError block /TCGA_MIRROR/tcga-data.nci.nih.gov/tcgafiles/ftp_auth/distro_ftpusers/anonymous/tumor/hnsc/bcr/intgen.org/tissue_images/slide_images/intgen.org_HNSC.tissue_images.Level_1.145.2.0/TCGA-CR-6471-01A-01-TS1.04a386a5-842c-4b36-a71c-589225cdc20c.svs\n",
      "SHIT IT DIED!\n",
      "insert into `corrupt_or_unreadable_svs_files` (full_file_name,filesize) Values ('/TCGA_MIRROR/tcga-data.nci.nih.gov/tcgafiles/ftp_auth/distro_ftpusers/anonymous/tumor/hnsc/bcr/intgen.org/tissue_images/slide_images/intgen.org_HNSC.tissue_images.Level_1.145.2.0/TCGA-CR-6471-01A-01-TS1.04a386a5-842c-4b36-a71c-589225cdc20c.svs',6959836) \n",
      "UNABLE TO OPEN FILE?? /TCGA_MIRROR/tcga-data.nci.nih.gov/tcgafiles/ftp_auth/distro_ftpusers/anonymous/tumor/hnsc/bcr/intgen.org/tissue_images/slide_images/intgen.org_HNSC.tissue_images.Level_1.145.2.0/TCGA-CR-6471-01A-01-TS1.04a386a5-842c-4b36-a71c-589225cdc20c.svs\n",
      "\u001b[KTotal Processed: 801  Newly Processed: 0 Dup Slides or Already Loaded: 730  RESCANNED Slides 0"
     ]
    },
    {
     "name": "stderr",
     "output_type": "stream",
     "text": [
      " ()\n",
      "Verify failed with:"
     ]
    },
    {
     "name": "stdout",
     "output_type": "stream",
     "text": [
      "Openslide returned an error om tje StandardError block /TCGA_MIRROR/tcga-data.nci.nih.gov/tcgafiles/ftp_auth/distro_ftpusers/anonymous/tumor/hnsc/bcr/intgen.org/tissue_images/slide_images/intgen.org_HNSC.tissue_images.Level_1.190.1.0/TCGA-CR-7368-01A-01-TS1.7f2d8a43-41bb-4710-a47d-fe8582737a1b.svs\n",
      "SHIT IT DIED!\n",
      "insert into `corrupt_or_unreadable_svs_files` (full_file_name,filesize) Values ('/TCGA_MIRROR/tcga-data.nci.nih.gov/tcgafiles/ftp_auth/distro_ftpusers/anonymous/tumor/hnsc/bcr/intgen.org/tissue_images/slide_images/intgen.org_HNSC.tissue_images.Level_1.190.1.0/TCGA-CR-7368-01A-01-TS1.7f2d8a43-41bb-4710-a47d-fe8582737a1b.svs',7763578) \n",
      "UNABLE TO OPEN FILE?? /TCGA_MIRROR/tcga-data.nci.nih.gov/tcgafiles/ftp_auth/distro_ftpusers/anonymous/tumor/hnsc/bcr/intgen.org/tissue_images/slide_images/intgen.org_HNSC.tissue_images.Level_1.190.1.0/TCGA-CR-7368-01A-01-TS1.7f2d8a43-41bb-4710-a47d-fe8582737a1b.svs\n",
      "\u001b[KTotal Processed: 808  Newly Processed: 0 Dup Slides or Already Loaded: 736  RESCANNED Slides 0"
     ]
    },
    {
     "name": "stderr",
     "output_type": "stream",
     "text": [
      " ()\n",
      "Verify failed with:"
     ]
    },
    {
     "name": "stdout",
     "output_type": "stream",
     "text": [
      "Openslide returned an error om tje StandardError block /TCGA_MIRROR/tcga-data.nci.nih.gov/tcgafiles/ftp_auth/distro_ftpusers/anonymous/tumor/hnsc/bcr/intgen.org/tissue_images/slide_images/intgen.org_HNSC.tissue_images.Level_1.190.1.0/TCGA-CR-7376-01A-01-TS1.83c90067-3687-432f-a33c-6ae1275d22b8.svs\n",
      "SHIT IT DIED!\n",
      "insert into `corrupt_or_unreadable_svs_files` (full_file_name,filesize) Values ('/TCGA_MIRROR/tcga-data.nci.nih.gov/tcgafiles/ftp_auth/distro_ftpusers/anonymous/tumor/hnsc/bcr/intgen.org/tissue_images/slide_images/intgen.org_HNSC.tissue_images.Level_1.190.1.0/TCGA-CR-7376-01A-01-TS1.83c90067-3687-432f-a33c-6ae1275d22b8.svs',7964282) \n",
      "UNABLE TO OPEN FILE?? /TCGA_MIRROR/tcga-data.nci.nih.gov/tcgafiles/ftp_auth/distro_ftpusers/anonymous/tumor/hnsc/bcr/intgen.org/tissue_images/slide_images/intgen.org_HNSC.tissue_images.Level_1.190.1.0/TCGA-CR-7376-01A-01-TS1.83c90067-3687-432f-a33c-6ae1275d22b8.svs\n",
      "\u001b[KTotal Processed: 814  Newly Processed: 0 Dup Slides or Already Loaded: 741  RESCANNED Slides 0"
     ]
    },
    {
     "name": "stderr",
     "output_type": "stream",
     "text": [
      " ()\n",
      "Verify failed with:"
     ]
    },
    {
     "name": "stdout",
     "output_type": "stream",
     "text": [
      "Openslide returned an error om tje StandardError block /TCGA_MIRROR/tcga-data.nci.nih.gov/tcgafiles/ftp_auth/distro_ftpusers/anonymous/tumor/hnsc/bcr/intgen.org/tissue_images/slide_images/intgen.org_HNSC.tissue_images.Level_1.190.1.0/TCGA-CR-7370-01A-01-TS1.64497fbc-92c7-4d47-820c-2c213b709ced.svs\n",
      "SHIT IT DIED!\n",
      "insert into `corrupt_or_unreadable_svs_files` (full_file_name,filesize) Values ('/TCGA_MIRROR/tcga-data.nci.nih.gov/tcgafiles/ftp_auth/distro_ftpusers/anonymous/tumor/hnsc/bcr/intgen.org/tissue_images/slide_images/intgen.org_HNSC.tissue_images.Level_1.190.1.0/TCGA-CR-7370-01A-01-TS1.64497fbc-92c7-4d47-820c-2c213b709ced.svs',8257680) \n",
      "UNABLE TO OPEN FILE?? /TCGA_MIRROR/tcga-data.nci.nih.gov/tcgafiles/ftp_auth/distro_ftpusers/anonymous/tumor/hnsc/bcr/intgen.org/tissue_images/slide_images/intgen.org_HNSC.tissue_images.Level_1.190.1.0/TCGA-CR-7370-01A-01-TS1.64497fbc-92c7-4d47-820c-2c213b709ced.svs\n",
      "\u001b[KTotal Processed: 820  Newly Processed: 0 Dup Slides or Already Loaded: 746  RESCANNED Slides 0"
     ]
    },
    {
     "name": "stderr",
     "output_type": "stream",
     "text": [
      " ()\n",
      "Verify failed with:"
     ]
    },
    {
     "name": "stdout",
     "output_type": "stream",
     "text": [
      "Openslide returned an error om tje StandardError block /TCGA_MIRROR/tcga-data.nci.nih.gov/tcgafiles/ftp_auth/distro_ftpusers/anonymous/tumor/hnsc/bcr/intgen.org/tissue_images/slide_images/intgen.org_HNSC.tissue_images.Level_1.190.1.0/TCGA-CR-7383-01A-01-TS1.fb97f2e7-90c4-48d6-aabb-33999d58436a.svs\n",
      "SHIT IT DIED!\n",
      "insert into `corrupt_or_unreadable_svs_files` (full_file_name,filesize) Values ('/TCGA_MIRROR/tcga-data.nci.nih.gov/tcgafiles/ftp_auth/distro_ftpusers/anonymous/tumor/hnsc/bcr/intgen.org/tissue_images/slide_images/intgen.org_HNSC.tissue_images.Level_1.190.1.0/TCGA-CR-7383-01A-01-TS1.fb97f2e7-90c4-48d6-aabb-33999d58436a.svs',9042366) \n",
      "UNABLE TO OPEN FILE?? /TCGA_MIRROR/tcga-data.nci.nih.gov/tcgafiles/ftp_auth/distro_ftpusers/anonymous/tumor/hnsc/bcr/intgen.org/tissue_images/slide_images/intgen.org_HNSC.tissue_images.Level_1.190.1.0/TCGA-CR-7383-01A-01-TS1.fb97f2e7-90c4-48d6-aabb-33999d58436a.svs\n",
      "\u001b[KTotal Processed: 823  Newly Processed: 0 Dup Slides or Already Loaded: 748  RESCANNED Slides 0"
     ]
    },
    {
     "name": "stderr",
     "output_type": "stream",
     "text": [
      " ()\n",
      "Verify failed with:"
     ]
    },
    {
     "name": "stdout",
     "output_type": "stream",
     "text": [
      "Openslide returned an error om tje StandardError block /TCGA_MIRROR/tcga-data.nci.nih.gov/tcgafiles/ftp_auth/distro_ftpusers/anonymous/tumor/hnsc/bcr/intgen.org/tissue_images/slide_images/intgen.org_HNSC.tissue_images.Level_1.190.1.0/TCGA-CR-7382-01A-01-TS1.9e029917-9273-4ae1-819d-1022ad6c5c52.svs\n",
      "SHIT IT DIED!\n",
      "insert into `corrupt_or_unreadable_svs_files` (full_file_name,filesize) Values ('/TCGA_MIRROR/tcga-data.nci.nih.gov/tcgafiles/ftp_auth/distro_ftpusers/anonymous/tumor/hnsc/bcr/intgen.org/tissue_images/slide_images/intgen.org_HNSC.tissue_images.Level_1.190.1.0/TCGA-CR-7382-01A-01-TS1.9e029917-9273-4ae1-819d-1022ad6c5c52.svs',8220284) \n",
      "UNABLE TO OPEN FILE?? /TCGA_MIRROR/tcga-data.nci.nih.gov/tcgafiles/ftp_auth/distro_ftpusers/anonymous/tumor/hnsc/bcr/intgen.org/tissue_images/slide_images/intgen.org_HNSC.tissue_images.Level_1.190.1.0/TCGA-CR-7382-01A-01-TS1.9e029917-9273-4ae1-819d-1022ad6c5c52.svs\n",
      "\r",
      "\u001b[KTotal Processed: 824  Newly Processed: 0 Dup Slides or Already Loaded: 748  RESCANNED Slides 0"
     ]
    },
    {
     "name": "stderr",
     "output_type": "stream",
     "text": [
      " ()\n",
      "Verify failed with:"
     ]
    },
    {
     "name": "stdout",
     "output_type": "stream",
     "text": [
      "Openslide returned an error om tje StandardError block /TCGA_MIRROR/tcga-data.nci.nih.gov/tcgafiles/ftp_auth/distro_ftpusers/anonymous/tumor/hnsc/bcr/intgen.org/tissue_images/slide_images/intgen.org_HNSC.tissue_images.Level_1.190.1.0/TCGA-CR-7369-01A-01-TS1.2552be32-9bff-4fee-87c0-6cd47e0b6b6c.svs\n",
      "SHIT IT DIED!\n",
      "insert into `corrupt_or_unreadable_svs_files` (full_file_name,filesize) Values ('/TCGA_MIRROR/tcga-data.nci.nih.gov/tcgafiles/ftp_auth/distro_ftpusers/anonymous/tumor/hnsc/bcr/intgen.org/tissue_images/slide_images/intgen.org_HNSC.tissue_images.Level_1.190.1.0/TCGA-CR-7369-01A-01-TS1.2552be32-9bff-4fee-87c0-6cd47e0b6b6c.svs',9447746) \n",
      "UNABLE TO OPEN FILE?? /TCGA_MIRROR/tcga-data.nci.nih.gov/tcgafiles/ftp_auth/distro_ftpusers/anonymous/tumor/hnsc/bcr/intgen.org/tissue_images/slide_images/intgen.org_HNSC.tissue_images.Level_1.190.1.0/TCGA-CR-7369-01A-01-TS1.2552be32-9bff-4fee-87c0-6cd47e0b6b6c.svs\n",
      "\u001b[KTotal Processed: 827  Newly Processed: 0 Dup Slides or Already Loaded: 750  RESCANNED Slides 0"
     ]
    },
    {
     "name": "stderr",
     "output_type": "stream",
     "text": [
      " ()\n",
      "Verify failed with:"
     ]
    },
    {
     "name": "stdout",
     "output_type": "stream",
     "text": [
      "Openslide returned an error om tje StandardError block /TCGA_MIRROR/tcga-data.nci.nih.gov/tcgafiles/ftp_auth/distro_ftpusers/anonymous/tumor/hnsc/bcr/intgen.org/tissue_images/slide_images/intgen.org_HNSC.tissue_images.Level_1.190.1.0/TCGA-CR-7404-01A-01-TS1.ee301de9-bfe7-4a00-810c-4912073ec2c9.svs\n",
      "SHIT IT DIED!\n",
      "insert into `corrupt_or_unreadable_svs_files` (full_file_name,filesize) Values ('/TCGA_MIRROR/tcga-data.nci.nih.gov/tcgafiles/ftp_auth/distro_ftpusers/anonymous/tumor/hnsc/bcr/intgen.org/tissue_images/slide_images/intgen.org_HNSC.tissue_images.Level_1.190.1.0/TCGA-CR-7404-01A-01-TS1.ee301de9-bfe7-4a00-810c-4912073ec2c9.svs',9437782) \n",
      "UNABLE TO OPEN FILE?? /TCGA_MIRROR/tcga-data.nci.nih.gov/tcgafiles/ftp_auth/distro_ftpusers/anonymous/tumor/hnsc/bcr/intgen.org/tissue_images/slide_images/intgen.org_HNSC.tissue_images.Level_1.190.1.0/TCGA-CR-7404-01A-01-TS1.ee301de9-bfe7-4a00-810c-4912073ec2c9.svs\n",
      "\u001b[KTotal Processed: 836  Newly Processed: 0 Dup Slides or Already Loaded: 758  RESCANNED Slides 0"
     ]
    },
    {
     "name": "stderr",
     "output_type": "stream",
     "text": [
      " ()\n",
      "Verify failed with:"
     ]
    },
    {
     "name": "stdout",
     "output_type": "stream",
     "text": [
      "Openslide returned an error om tje StandardError block /TCGA_MIRROR/tcga-data.nci.nih.gov/tcgafiles/ftp_auth/distro_ftpusers/anonymous/tumor/hnsc/bcr/intgen.org/tissue_images/slide_images/intgen.org_HNSC.tissue_images.Level_1.145.3.0/TCGA-CR-6478-01A-01-TS1.3fff1204-2825-4722-b49f-be544f829ebe.svs\n",
      "SHIT IT DIED!\n",
      "insert into `corrupt_or_unreadable_svs_files` (full_file_name,filesize) Values ('/TCGA_MIRROR/tcga-data.nci.nih.gov/tcgafiles/ftp_auth/distro_ftpusers/anonymous/tumor/hnsc/bcr/intgen.org/tissue_images/slide_images/intgen.org_HNSC.tissue_images.Level_1.145.3.0/TCGA-CR-6478-01A-01-TS1.3fff1204-2825-4722-b49f-be544f829ebe.svs',6348192) \n",
      "UNABLE TO OPEN FILE?? /TCGA_MIRROR/tcga-data.nci.nih.gov/tcgafiles/ftp_auth/distro_ftpusers/anonymous/tumor/hnsc/bcr/intgen.org/tissue_images/slide_images/intgen.org_HNSC.tissue_images.Level_1.145.3.0/TCGA-CR-6478-01A-01-TS1.3fff1204-2825-4722-b49f-be544f829ebe.svs\n",
      "\u001b[KTotal Processed: 839  Newly Processed: 0 Dup Slides or Already Loaded: 760  RESCANNED Slides 0"
     ]
    },
    {
     "name": "stderr",
     "output_type": "stream",
     "text": [
      " ()\n",
      "Verify failed with:"
     ]
    },
    {
     "name": "stdout",
     "output_type": "stream",
     "text": [
      "Openslide returned an error om tje StandardError block /TCGA_MIRROR/tcga-data.nci.nih.gov/tcgafiles/ftp_auth/distro_ftpusers/anonymous/tumor/hnsc/bcr/intgen.org/tissue_images/slide_images/intgen.org_HNSC.tissue_images.Level_1.145.3.0/TCGA-CR-6474-01A-01-TS1.cf8548c2-8102-4e76-aac1-b259013208d1.svs\n",
      "SHIT IT DIED!\n",
      "insert into `corrupt_or_unreadable_svs_files` (full_file_name,filesize) Values ('/TCGA_MIRROR/tcga-data.nci.nih.gov/tcgafiles/ftp_auth/distro_ftpusers/anonymous/tumor/hnsc/bcr/intgen.org/tissue_images/slide_images/intgen.org_HNSC.tissue_images.Level_1.145.3.0/TCGA-CR-6474-01A-01-TS1.cf8548c2-8102-4e76-aac1-b259013208d1.svs',9157482) \n",
      "UNABLE TO OPEN FILE?? /TCGA_MIRROR/tcga-data.nci.nih.gov/tcgafiles/ftp_auth/distro_ftpusers/anonymous/tumor/hnsc/bcr/intgen.org/tissue_images/slide_images/intgen.org_HNSC.tissue_images.Level_1.145.3.0/TCGA-CR-6474-01A-01-TS1.cf8548c2-8102-4e76-aac1-b259013208d1.svs\n",
      "\u001b[KTotal Processed: 841  Newly Processed: 0 Dup Slides or Already Loaded: 761  RESCANNED Slides 0"
     ]
    },
    {
     "name": "stderr",
     "output_type": "stream",
     "text": [
      " ()\n",
      "Verify failed with:"
     ]
    },
    {
     "name": "stdout",
     "output_type": "stream",
     "text": [
      "Openslide returned an error om tje StandardError block /TCGA_MIRROR/tcga-data.nci.nih.gov/tcgafiles/ftp_auth/distro_ftpusers/anonymous/tumor/hnsc/bcr/intgen.org/tissue_images/slide_images/intgen.org_HNSC.tissue_images.Level_1.145.3.0/TCGA-CR-6467-01A-01-TS1.1a321c2e-156f-436f-9336-63a9faa7a7d4.svs\n",
      "SHIT IT DIED!\n",
      "insert into `corrupt_or_unreadable_svs_files` (full_file_name,filesize) Values ('/TCGA_MIRROR/tcga-data.nci.nih.gov/tcgafiles/ftp_auth/distro_ftpusers/anonymous/tumor/hnsc/bcr/intgen.org/tissue_images/slide_images/intgen.org_HNSC.tissue_images.Level_1.145.3.0/TCGA-CR-6467-01A-01-TS1.1a321c2e-156f-436f-9336-63a9faa7a7d4.svs',8483546) \n",
      "UNABLE TO OPEN FILE?? /TCGA_MIRROR/tcga-data.nci.nih.gov/tcgafiles/ftp_auth/distro_ftpusers/anonymous/tumor/hnsc/bcr/intgen.org/tissue_images/slide_images/intgen.org_HNSC.tissue_images.Level_1.145.3.0/TCGA-CR-6467-01A-01-TS1.1a321c2e-156f-436f-9336-63a9faa7a7d4.svs\n",
      "\r",
      "\u001b[KTotal Processed: 842  Newly Processed: 0 Dup Slides or Already Loaded: 761  RESCANNED Slides 0"
     ]
    },
    {
     "name": "stderr",
     "output_type": "stream",
     "text": [
      " ()\n",
      "Verify failed with:"
     ]
    },
    {
     "name": "stdout",
     "output_type": "stream",
     "text": [
      "Openslide returned an error om tje StandardError block /TCGA_MIRROR/tcga-data.nci.nih.gov/tcgafiles/ftp_auth/distro_ftpusers/anonymous/tumor/hnsc/bcr/intgen.org/tissue_images/slide_images/intgen.org_HNSC.tissue_images.Level_1.145.3.0/TCGA-CR-6484-01A-01-TS1.39a06efa-b681-49ed-8516-830495edca41.svs\n",
      "SHIT IT DIED!\n",
      "insert into `corrupt_or_unreadable_svs_files` (full_file_name,filesize) Values ('/TCGA_MIRROR/tcga-data.nci.nih.gov/tcgafiles/ftp_auth/distro_ftpusers/anonymous/tumor/hnsc/bcr/intgen.org/tissue_images/slide_images/intgen.org_HNSC.tissue_images.Level_1.145.3.0/TCGA-CR-6484-01A-01-TS1.39a06efa-b681-49ed-8516-830495edca41.svs',7399442) \n",
      "UNABLE TO OPEN FILE?? /TCGA_MIRROR/tcga-data.nci.nih.gov/tcgafiles/ftp_auth/distro_ftpusers/anonymous/tumor/hnsc/bcr/intgen.org/tissue_images/slide_images/intgen.org_HNSC.tissue_images.Level_1.145.3.0/TCGA-CR-6484-01A-01-TS1.39a06efa-b681-49ed-8516-830495edca41.svs\n",
      "\u001b[KTotal Processed: 848  Newly Processed: 0 Dup Slides or Already Loaded: 766  RESCANNED Slides 0"
     ]
    },
    {
     "name": "stderr",
     "output_type": "stream",
     "text": [
      " ()\n",
      "Verify failed with:"
     ]
    },
    {
     "name": "stdout",
     "output_type": "stream",
     "text": [
      "Openslide returned an error om tje StandardError block /TCGA_MIRROR/tcga-data.nci.nih.gov/tcgafiles/ftp_auth/distro_ftpusers/anonymous/tumor/hnsc/bcr/intgen.org/tissue_images/slide_images/intgen.org_HNSC.tissue_images.Level_1.145.3.0/TCGA-CR-6487-01A-01-TS1.10afc9b5-ef5f-47ce-9c6c-4992a530ae7d.svs\n",
      "SHIT IT DIED!\n",
      "insert into `corrupt_or_unreadable_svs_files` (full_file_name,filesize) Values ('/TCGA_MIRROR/tcga-data.nci.nih.gov/tcgafiles/ftp_auth/distro_ftpusers/anonymous/tumor/hnsc/bcr/intgen.org/tissue_images/slide_images/intgen.org_HNSC.tissue_images.Level_1.145.3.0/TCGA-CR-6487-01A-01-TS1.10afc9b5-ef5f-47ce-9c6c-4992a530ae7d.svs',8427182) \n",
      "UNABLE TO OPEN FILE?? /TCGA_MIRROR/tcga-data.nci.nih.gov/tcgafiles/ftp_auth/distro_ftpusers/anonymous/tumor/hnsc/bcr/intgen.org/tissue_images/slide_images/intgen.org_HNSC.tissue_images.Level_1.145.3.0/TCGA-CR-6487-01A-01-TS1.10afc9b5-ef5f-47ce-9c6c-4992a530ae7d.svs\n",
      "\r",
      "\u001b[KTotal Processed: 849  Newly Processed: 0 Dup Slides or Already Loaded: 766  RESCANNED Slides 0"
     ]
    },
    {
     "name": "stderr",
     "output_type": "stream",
     "text": [
      " ()\n",
      "Verify failed with:"
     ]
    },
    {
     "name": "stdout",
     "output_type": "stream",
     "text": [
      "Openslide returned an error om tje StandardError block /TCGA_MIRROR/tcga-data.nci.nih.gov/tcgafiles/ftp_auth/distro_ftpusers/anonymous/tumor/hnsc/bcr/intgen.org/tissue_images/slide_images/intgen.org_HNSC.tissue_images.Level_1.145.3.0/TCGA-CR-6482-01A-01-TS1.22e08fdd-b86c-4097-9cae-e4cdc13abf2a.svs\n",
      "SHIT IT DIED!\n",
      "insert into `corrupt_or_unreadable_svs_files` (full_file_name,filesize) Values ('/TCGA_MIRROR/tcga-data.nci.nih.gov/tcgafiles/ftp_auth/distro_ftpusers/anonymous/tumor/hnsc/bcr/intgen.org/tissue_images/slide_images/intgen.org_HNSC.tissue_images.Level_1.145.3.0/TCGA-CR-6482-01A-01-TS1.22e08fdd-b86c-4097-9cae-e4cdc13abf2a.svs',8434884) \n",
      "UNABLE TO OPEN FILE?? /TCGA_MIRROR/tcga-data.nci.nih.gov/tcgafiles/ftp_auth/distro_ftpusers/anonymous/tumor/hnsc/bcr/intgen.org/tissue_images/slide_images/intgen.org_HNSC.tissue_images.Level_1.145.3.0/TCGA-CR-6482-01A-01-TS1.22e08fdd-b86c-4097-9cae-e4cdc13abf2a.svs\n",
      "\u001b[KTotal Processed: 851  Newly Processed: 0 Dup Slides or Already Loaded: 767  RESCANNED Slides 0"
     ]
    },
    {
     "name": "stderr",
     "output_type": "stream",
     "text": [
      " ()\n",
      "Verify failed with:"
     ]
    },
    {
     "name": "stdout",
     "output_type": "stream",
     "text": [
      "Openslide returned an error om tje StandardError block /TCGA_MIRROR/tcga-data.nci.nih.gov/tcgafiles/ftp_auth/distro_ftpusers/anonymous/tumor/hnsc/bcr/intgen.org/tissue_images/slide_images/intgen.org_HNSC.tissue_images.Level_1.145.3.0/TCGA-CR-6481-01A-01-TS1.30977a05-0514-4bab-8336-770553702269.svs\n",
      "SHIT IT DIED!\n",
      "insert into `corrupt_or_unreadable_svs_files` (full_file_name,filesize) Values ('/TCGA_MIRROR/tcga-data.nci.nih.gov/tcgafiles/ftp_auth/distro_ftpusers/anonymous/tumor/hnsc/bcr/intgen.org/tissue_images/slide_images/intgen.org_HNSC.tissue_images.Level_1.145.3.0/TCGA-CR-6481-01A-01-TS1.30977a05-0514-4bab-8336-770553702269.svs',8398688) \n",
      "UNABLE TO OPEN FILE?? /TCGA_MIRROR/tcga-data.nci.nih.gov/tcgafiles/ftp_auth/distro_ftpusers/anonymous/tumor/hnsc/bcr/intgen.org/tissue_images/slide_images/intgen.org_HNSC.tissue_images.Level_1.145.3.0/TCGA-CR-6481-01A-01-TS1.30977a05-0514-4bab-8336-770553702269.svs\n",
      "\u001b[KTotal Processed: 853  Newly Processed: 0 Dup Slides or Already Loaded: 768  RESCANNED Slides 0"
     ]
    },
    {
     "name": "stderr",
     "output_type": "stream",
     "text": [
      " ()\n",
      "Verify failed with:"
     ]
    },
    {
     "name": "stdout",
     "output_type": "stream",
     "text": [
      "Openslide returned an error om tje StandardError block /TCGA_MIRROR/tcga-data.nci.nih.gov/tcgafiles/ftp_auth/distro_ftpusers/anonymous/tumor/hnsc/bcr/intgen.org/tissue_images/slide_images/intgen.org_HNSC.tissue_images.Level_1.145.3.0/TCGA-CR-6493-01A-01-TS1.e15f7ea9-fe67-458f-bc5e-286148437382.svs\n",
      "SHIT IT DIED!\n",
      "insert into `corrupt_or_unreadable_svs_files` (full_file_name,filesize) Values ('/TCGA_MIRROR/tcga-data.nci.nih.gov/tcgafiles/ftp_auth/distro_ftpusers/anonymous/tumor/hnsc/bcr/intgen.org/tissue_images/slide_images/intgen.org_HNSC.tissue_images.Level_1.145.3.0/TCGA-CR-6493-01A-01-TS1.e15f7ea9-fe67-458f-bc5e-286148437382.svs',8319390) \n",
      "UNABLE TO OPEN FILE?? /TCGA_MIRROR/tcga-data.nci.nih.gov/tcgafiles/ftp_auth/distro_ftpusers/anonymous/tumor/hnsc/bcr/intgen.org/tissue_images/slide_images/intgen.org_HNSC.tissue_images.Level_1.145.3.0/TCGA-CR-6493-01A-01-TS1.e15f7ea9-fe67-458f-bc5e-286148437382.svs\n",
      "\u001b[KTotal Processed: 855  Newly Processed: 0 Dup Slides or Already Loaded: 769  RESCANNED Slides 0"
     ]
    },
    {
     "name": "stderr",
     "output_type": "stream",
     "text": [
      " ()\n",
      "Verify failed with:"
     ]
    },
    {
     "name": "stdout",
     "output_type": "stream",
     "text": [
      "Openslide returned an error om tje StandardError block /TCGA_MIRROR/tcga-data.nci.nih.gov/tcgafiles/ftp_auth/distro_ftpusers/anonymous/tumor/hnsc/bcr/intgen.org/tissue_images/slide_images/intgen.org_HNSC.tissue_images.Level_1.145.3.0/TCGA-CR-6480-01A-01-TS1.310e6db0-78c6-4395-8c76-566f0035224a.svs\n",
      "SHIT IT DIED!\n",
      "insert into `corrupt_or_unreadable_svs_files` (full_file_name,filesize) Values ('/TCGA_MIRROR/tcga-data.nci.nih.gov/tcgafiles/ftp_auth/distro_ftpusers/anonymous/tumor/hnsc/bcr/intgen.org/tissue_images/slide_images/intgen.org_HNSC.tissue_images.Level_1.145.3.0/TCGA-CR-6480-01A-01-TS1.310e6db0-78c6-4395-8c76-566f0035224a.svs',8052114) \n",
      "UNABLE TO OPEN FILE?? /TCGA_MIRROR/tcga-data.nci.nih.gov/tcgafiles/ftp_auth/distro_ftpusers/anonymous/tumor/hnsc/bcr/intgen.org/tissue_images/slide_images/intgen.org_HNSC.tissue_images.Level_1.145.3.0/TCGA-CR-6480-01A-01-TS1.310e6db0-78c6-4395-8c76-566f0035224a.svs\n",
      "\u001b[KTotal Processed: 857  Newly Processed: 0 Dup Slides or Already Loaded: 770  RESCANNED Slides 0"
     ]
    },
    {
     "name": "stderr",
     "output_type": "stream",
     "text": [
      " ()\n",
      "Verify failed with:"
     ]
    },
    {
     "name": "stdout",
     "output_type": "stream",
     "text": [
      "Openslide returned an error om tje StandardError block /TCGA_MIRROR/tcga-data.nci.nih.gov/tcgafiles/ftp_auth/distro_ftpusers/anonymous/tumor/hnsc/bcr/intgen.org/tissue_images/slide_images/intgen.org_HNSC.tissue_images.Level_1.145.3.0/TCGA-CR-6473-01A-01-TS1.e6d069e9-2a0c-44c6-b235-6765f5145da3.svs\n",
      "SHIT IT DIED!\n",
      "insert into `corrupt_or_unreadable_svs_files` (full_file_name,filesize) Values ('/TCGA_MIRROR/tcga-data.nci.nih.gov/tcgafiles/ftp_auth/distro_ftpusers/anonymous/tumor/hnsc/bcr/intgen.org/tissue_images/slide_images/intgen.org_HNSC.tissue_images.Level_1.145.3.0/TCGA-CR-6473-01A-01-TS1.e6d069e9-2a0c-44c6-b235-6765f5145da3.svs',6408014) \n",
      "UNABLE TO OPEN FILE?? /TCGA_MIRROR/tcga-data.nci.nih.gov/tcgafiles/ftp_auth/distro_ftpusers/anonymous/tumor/hnsc/bcr/intgen.org/tissue_images/slide_images/intgen.org_HNSC.tissue_images.Level_1.145.3.0/TCGA-CR-6473-01A-01-TS1.e6d069e9-2a0c-44c6-b235-6765f5145da3.svs\n",
      "\u001b[KTotal Processed: 861  Newly Processed: 0 Dup Slides or Already Loaded: 773  RESCANNED Slides 0"
     ]
    },
    {
     "name": "stderr",
     "output_type": "stream",
     "text": [
      " ()\n",
      "Verify failed with:"
     ]
    },
    {
     "name": "stdout",
     "output_type": "stream",
     "text": [
      "Openslide returned an error om tje StandardError block /TCGA_MIRROR/tcga-data.nci.nih.gov/tcgafiles/ftp_auth/distro_ftpusers/anonymous/tumor/hnsc/bcr/intgen.org/tissue_images/slide_images/intgen.org_HNSC.tissue_images.Level_1.145.3.0/TCGA-CR-6477-01A-01-TS1.aaf2ba30-bd8b-4b8d-a10a-23f1d41f7b20.svs\n",
      "SHIT IT DIED!\n",
      "insert into `corrupt_or_unreadable_svs_files` (full_file_name,filesize) Values ('/TCGA_MIRROR/tcga-data.nci.nih.gov/tcgafiles/ftp_auth/distro_ftpusers/anonymous/tumor/hnsc/bcr/intgen.org/tissue_images/slide_images/intgen.org_HNSC.tissue_images.Level_1.145.3.0/TCGA-CR-6477-01A-01-TS1.aaf2ba30-bd8b-4b8d-a10a-23f1d41f7b20.svs',8908972) \n",
      "UNABLE TO OPEN FILE?? /TCGA_MIRROR/tcga-data.nci.nih.gov/tcgafiles/ftp_auth/distro_ftpusers/anonymous/tumor/hnsc/bcr/intgen.org/tissue_images/slide_images/intgen.org_HNSC.tissue_images.Level_1.145.3.0/TCGA-CR-6477-01A-01-TS1.aaf2ba30-bd8b-4b8d-a10a-23f1d41f7b20.svs\n",
      "\u001b[KTotal Processed: 871  Newly Processed: 0 Dup Slides or Already Loaded: 782  RESCANNED Slides 0"
     ]
    },
    {
     "name": "stderr",
     "output_type": "stream",
     "text": [
      " ()\n",
      "Verify failed with:"
     ]
    },
    {
     "name": "stdout",
     "output_type": "stream",
     "text": [
      "Openslide returned an error om tje StandardError block /TCGA_MIRROR/tcga-data.nci.nih.gov/tcgafiles/ftp_auth/distro_ftpusers/anonymous/tumor/hnsc/bcr/intgen.org/tissue_images/slide_images/intgen.org_HNSC.tissue_images.Level_1.145.3.0/TCGA-CR-6491-01A-01-TS1.cdb38d6c-28b3-4715-bfe7-ebe744709696.svs\n",
      "SHIT IT DIED!\n",
      "insert into `corrupt_or_unreadable_svs_files` (full_file_name,filesize) Values ('/TCGA_MIRROR/tcga-data.nci.nih.gov/tcgafiles/ftp_auth/distro_ftpusers/anonymous/tumor/hnsc/bcr/intgen.org/tissue_images/slide_images/intgen.org_HNSC.tissue_images.Level_1.145.3.0/TCGA-CR-6491-01A-01-TS1.cdb38d6c-28b3-4715-bfe7-ebe744709696.svs',7378782) \n",
      "UNABLE TO OPEN FILE?? /TCGA_MIRROR/tcga-data.nci.nih.gov/tcgafiles/ftp_auth/distro_ftpusers/anonymous/tumor/hnsc/bcr/intgen.org/tissue_images/slide_images/intgen.org_HNSC.tissue_images.Level_1.145.3.0/TCGA-CR-6491-01A-01-TS1.cdb38d6c-28b3-4715-bfe7-ebe744709696.svs\n",
      "\u001b[KTotal Processed: 874  Newly Processed: 0 Dup Slides or Already Loaded: 784  RESCANNED Slides 0"
     ]
    },
    {
     "name": "stderr",
     "output_type": "stream",
     "text": [
      " ()\n",
      "Verify failed with:"
     ]
    },
    {
     "name": "stdout",
     "output_type": "stream",
     "text": [
      "Openslide returned an error om tje StandardError block /TCGA_MIRROR/tcga-data.nci.nih.gov/tcgafiles/ftp_auth/distro_ftpusers/anonymous/tumor/hnsc/bcr/intgen.org/tissue_images/slide_images/intgen.org_HNSC.tissue_images.Level_1.145.3.0/TCGA-CR-6472-01A-01-TS1.26b197dc-f7fc-40c6-a473-78d992cfd576.svs\n",
      "SHIT IT DIED!\n",
      "insert into `corrupt_or_unreadable_svs_files` (full_file_name,filesize) Values ('/TCGA_MIRROR/tcga-data.nci.nih.gov/tcgafiles/ftp_auth/distro_ftpusers/anonymous/tumor/hnsc/bcr/intgen.org/tissue_images/slide_images/intgen.org_HNSC.tissue_images.Level_1.145.3.0/TCGA-CR-6472-01A-01-TS1.26b197dc-f7fc-40c6-a473-78d992cfd576.svs',6906450) \n",
      "UNABLE TO OPEN FILE?? /TCGA_MIRROR/tcga-data.nci.nih.gov/tcgafiles/ftp_auth/distro_ftpusers/anonymous/tumor/hnsc/bcr/intgen.org/tissue_images/slide_images/intgen.org_HNSC.tissue_images.Level_1.145.3.0/TCGA-CR-6472-01A-01-TS1.26b197dc-f7fc-40c6-a473-78d992cfd576.svs\n",
      "\u001b[KTotal Processed: 876  Newly Processed: 0 Dup Slides or Already Loaded: 785  RESCANNED Slides 0"
     ]
    },
    {
     "name": "stderr",
     "output_type": "stream",
     "text": [
      " ()\n",
      "Verify failed with:"
     ]
    },
    {
     "name": "stdout",
     "output_type": "stream",
     "text": [
      "Openslide returned an error om tje StandardError block /TCGA_MIRROR/tcga-data.nci.nih.gov/tcgafiles/ftp_auth/distro_ftpusers/anonymous/tumor/hnsc/bcr/intgen.org/tissue_images/slide_images/intgen.org_HNSC.tissue_images.Level_1.145.3.0/TCGA-CR-6470-01A-01-TS1.a73d75fe-bd80-4dbb-a33b-54942d9b7057.svs\n",
      "SHIT IT DIED!\n",
      "insert into `corrupt_or_unreadable_svs_files` (full_file_name,filesize) Values ('/TCGA_MIRROR/tcga-data.nci.nih.gov/tcgafiles/ftp_auth/distro_ftpusers/anonymous/tumor/hnsc/bcr/intgen.org/tissue_images/slide_images/intgen.org_HNSC.tissue_images.Level_1.145.3.0/TCGA-CR-6470-01A-01-TS1.a73d75fe-bd80-4dbb-a33b-54942d9b7057.svs',6970156) \n",
      "UNABLE TO OPEN FILE?? /TCGA_MIRROR/tcga-data.nci.nih.gov/tcgafiles/ftp_auth/distro_ftpusers/anonymous/tumor/hnsc/bcr/intgen.org/tissue_images/slide_images/intgen.org_HNSC.tissue_images.Level_1.145.3.0/TCGA-CR-6470-01A-01-TS1.a73d75fe-bd80-4dbb-a33b-54942d9b7057.svs\n",
      "\u001b[KTotal Processed: 880  Newly Processed: 0 Dup Slides or Already Loaded: 788  RESCANNED Slides 0"
     ]
    },
    {
     "name": "stderr",
     "output_type": "stream",
     "text": [
      " ()\n",
      "Verify failed with:"
     ]
    },
    {
     "name": "stdout",
     "output_type": "stream",
     "text": [
      "Openslide returned an error om tje StandardError block /TCGA_MIRROR/tcga-data.nci.nih.gov/tcgafiles/ftp_auth/distro_ftpusers/anonymous/tumor/hnsc/bcr/intgen.org/tissue_images/slide_images/intgen.org_HNSC.tissue_images.Level_1.145.3.0/TCGA-CR-6471-01A-01-TS1.04a386a5-842c-4b36-a71c-589225cdc20c.svs\n",
      "SHIT IT DIED!\n",
      "insert into `corrupt_or_unreadable_svs_files` (full_file_name,filesize) Values ('/TCGA_MIRROR/tcga-data.nci.nih.gov/tcgafiles/ftp_auth/distro_ftpusers/anonymous/tumor/hnsc/bcr/intgen.org/tissue_images/slide_images/intgen.org_HNSC.tissue_images.Level_1.145.3.0/TCGA-CR-6471-01A-01-TS1.04a386a5-842c-4b36-a71c-589225cdc20c.svs',6959836) \n",
      "UNABLE TO OPEN FILE?? /TCGA_MIRROR/tcga-data.nci.nih.gov/tcgafiles/ftp_auth/distro_ftpusers/anonymous/tumor/hnsc/bcr/intgen.org/tissue_images/slide_images/intgen.org_HNSC.tissue_images.Level_1.145.3.0/TCGA-CR-6471-01A-01-TS1.04a386a5-842c-4b36-a71c-589225cdc20c.svs\n",
      "\u001b[KTotal Processed: 916  Newly Processed: 0 Dup Slides or Already Loaded: 823  RESCANNED Slides 0"
     ]
    },
    {
     "name": "stderr",
     "output_type": "stream",
     "text": [
      " ()\n",
      "Verify failed with:"
     ]
    },
    {
     "name": "stdout",
     "output_type": "stream",
     "text": [
      "Openslide returned an error om tje StandardError block /TCGA_MIRROR/tcga-data.nci.nih.gov/tcgafiles/ftp_auth/distro_ftpusers/anonymous/tumor/hnsc/bcr/intgen.org/tissue_images/slide_images/intgen.org_HNSC.tissue_images.Level_1.188.2.0/TCGA-CV-7418-11A-01-TS1.56a0f884-ee89-4c39-8ae9-339fcd7dd5a3.svs\n",
      "SHIT IT DIED!\n",
      "insert into `corrupt_or_unreadable_svs_files` (full_file_name,filesize) Values ('/TCGA_MIRROR/tcga-data.nci.nih.gov/tcgafiles/ftp_auth/distro_ftpusers/anonymous/tumor/hnsc/bcr/intgen.org/tissue_images/slide_images/intgen.org_HNSC.tissue_images.Level_1.188.2.0/TCGA-CV-7418-11A-01-TS1.56a0f884-ee89-4c39-8ae9-339fcd7dd5a3.svs',820666) \n",
      "UNABLE TO OPEN FILE?? /TCGA_MIRROR/tcga-data.nci.nih.gov/tcgafiles/ftp_auth/distro_ftpusers/anonymous/tumor/hnsc/bcr/intgen.org/tissue_images/slide_images/intgen.org_HNSC.tissue_images.Level_1.188.2.0/TCGA-CV-7418-11A-01-TS1.56a0f884-ee89-4c39-8ae9-339fcd7dd5a3.svs\n",
      "\u001b[KTotal Processed: 924  Newly Processed: 0 Dup Slides or Already Loaded: 830  RESCANNED Slides 0"
     ]
    },
    {
     "name": "stderr",
     "output_type": "stream",
     "text": [
      " ()\n",
      "Verify failed with:"
     ]
    },
    {
     "name": "stdout",
     "output_type": "stream",
     "text": [
      "Openslide returned an error om tje StandardError block /TCGA_MIRROR/tcga-data.nci.nih.gov/tcgafiles/ftp_auth/distro_ftpusers/anonymous/tumor/hnsc/bcr/intgen.org/tissue_images/slide_images/intgen.org_HNSC.tissue_images.Level_1.188.2.0/TCGA-CV-7424-11A-01-TS1.24110795-f22d-423e-aa10-25ef5971306e.svs\n",
      "SHIT IT DIED!\n",
      "insert into `corrupt_or_unreadable_svs_files` (full_file_name,filesize) Values ('/TCGA_MIRROR/tcga-data.nci.nih.gov/tcgafiles/ftp_auth/distro_ftpusers/anonymous/tumor/hnsc/bcr/intgen.org/tissue_images/slide_images/intgen.org_HNSC.tissue_images.Level_1.188.2.0/TCGA-CV-7424-11A-01-TS1.24110795-f22d-423e-aa10-25ef5971306e.svs',911920) \n",
      "UNABLE TO OPEN FILE?? /TCGA_MIRROR/tcga-data.nci.nih.gov/tcgafiles/ftp_auth/distro_ftpusers/anonymous/tumor/hnsc/bcr/intgen.org/tissue_images/slide_images/intgen.org_HNSC.tissue_images.Level_1.188.2.0/TCGA-CV-7424-11A-01-TS1.24110795-f22d-423e-aa10-25ef5971306e.svs\n",
      "\u001b[KTotal Processed: 927  Newly Processed: 0 Dup Slides or Already Loaded: 832  RESCANNED Slides 0"
     ]
    },
    {
     "name": "stderr",
     "output_type": "stream",
     "text": [
      " ()\n",
      "Verify failed with:"
     ]
    },
    {
     "name": "stdout",
     "output_type": "stream",
     "text": [
      "Openslide returned an error om tje StandardError block /TCGA_MIRROR/tcga-data.nci.nih.gov/tcgafiles/ftp_auth/distro_ftpusers/anonymous/tumor/hnsc/bcr/intgen.org/tissue_images/slide_images/intgen.org_HNSC.tissue_images.Level_1.188.2.0/TCGA-CV-7416-11A-01-TS1.0ac55be2-8dff-4513-9c50-c201db22af5f.svs\n",
      "SHIT IT DIED!\n",
      "insert into `corrupt_or_unreadable_svs_files` (full_file_name,filesize) Values ('/TCGA_MIRROR/tcga-data.nci.nih.gov/tcgafiles/ftp_auth/distro_ftpusers/anonymous/tumor/hnsc/bcr/intgen.org/tissue_images/slide_images/intgen.org_HNSC.tissue_images.Level_1.188.2.0/TCGA-CV-7416-11A-01-TS1.0ac55be2-8dff-4513-9c50-c201db22af5f.svs',991534) \n",
      "UNABLE TO OPEN FILE?? /TCGA_MIRROR/tcga-data.nci.nih.gov/tcgafiles/ftp_auth/distro_ftpusers/anonymous/tumor/hnsc/bcr/intgen.org/tissue_images/slide_images/intgen.org_HNSC.tissue_images.Level_1.188.2.0/TCGA-CV-7416-11A-01-TS1.0ac55be2-8dff-4513-9c50-c201db22af5f.svs\n",
      "\u001b[KTotal Processed: 930  Newly Processed: 0 Dup Slides or Already Loaded: 834  RESCANNED Slides 0"
     ]
    },
    {
     "name": "stderr",
     "output_type": "stream",
     "text": [
      " ()\n",
      "Verify failed with:"
     ]
    },
    {
     "name": "stdout",
     "output_type": "stream",
     "text": [
      "Openslide returned an error om tje StandardError block /TCGA_MIRROR/tcga-data.nci.nih.gov/tcgafiles/ftp_auth/distro_ftpusers/anonymous/tumor/hnsc/bcr/intgen.org/tissue_images/slide_images/intgen.org_HNSC.tissue_images.Level_1.188.2.0/TCGA-CV-7413-11A-01-TS1.4ef66ce2-6bfd-4d0c-898b-a3105ed9e16d.svs\n",
      "SHIT IT DIED!\n",
      "insert into `corrupt_or_unreadable_svs_files` (full_file_name,filesize) Values ('/TCGA_MIRROR/tcga-data.nci.nih.gov/tcgafiles/ftp_auth/distro_ftpusers/anonymous/tumor/hnsc/bcr/intgen.org/tissue_images/slide_images/intgen.org_HNSC.tissue_images.Level_1.188.2.0/TCGA-CV-7413-11A-01-TS1.4ef66ce2-6bfd-4d0c-898b-a3105ed9e16d.svs',940890) \n",
      "UNABLE TO OPEN FILE?? /TCGA_MIRROR/tcga-data.nci.nih.gov/tcgafiles/ftp_auth/distro_ftpusers/anonymous/tumor/hnsc/bcr/intgen.org/tissue_images/slide_images/intgen.org_HNSC.tissue_images.Level_1.188.2.0/TCGA-CV-7413-11A-01-TS1.4ef66ce2-6bfd-4d0c-898b-a3105ed9e16d.svs\n",
      "\u001b[KTotal Processed: 938  Newly Processed: 0 Dup Slides or Already Loaded: 841  RESCANNED Slides 0"
     ]
    },
    {
     "name": "stderr",
     "output_type": "stream",
     "text": [
      " ()\n",
      "Verify failed with:"
     ]
    },
    {
     "name": "stdout",
     "output_type": "stream",
     "text": [
      "Openslide returned an error om tje StandardError block /TCGA_MIRROR/tcga-data.nci.nih.gov/tcgafiles/ftp_auth/distro_ftpusers/anonymous/tumor/hnsc/bcr/intgen.org/tissue_images/slide_images/intgen.org_HNSC.tissue_images.Level_1.188.2.0/TCGA-CV-7423-11A-01-TS1.fff2208d-db47-4273-85d4-fa1fe9182ba6.svs\n",
      "SHIT IT DIED!\n",
      "insert into `corrupt_or_unreadable_svs_files` (full_file_name,filesize) Values ('/TCGA_MIRROR/tcga-data.nci.nih.gov/tcgafiles/ftp_auth/distro_ftpusers/anonymous/tumor/hnsc/bcr/intgen.org/tissue_images/slide_images/intgen.org_HNSC.tissue_images.Level_1.188.2.0/TCGA-CV-7423-11A-01-TS1.fff2208d-db47-4273-85d4-fa1fe9182ba6.svs',896786) \n",
      "UNABLE TO OPEN FILE?? /TCGA_MIRROR/tcga-data.nci.nih.gov/tcgafiles/ftp_auth/distro_ftpusers/anonymous/tumor/hnsc/bcr/intgen.org/tissue_images/slide_images/intgen.org_HNSC.tissue_images.Level_1.188.2.0/TCGA-CV-7423-11A-01-TS1.fff2208d-db47-4273-85d4-fa1fe9182ba6.svs\n",
      "\r",
      "\u001b[KTotal Processed: 939  Newly Processed: 0 Dup Slides or Already Loaded: 841  RESCANNED Slides 0"
     ]
    },
    {
     "name": "stderr",
     "output_type": "stream",
     "text": [
      " ()\n",
      "Verify failed with:"
     ]
    },
    {
     "name": "stdout",
     "output_type": "stream",
     "text": [
      "Openslide returned an error om tje StandardError block /TCGA_MIRROR/tcga-data.nci.nih.gov/tcgafiles/ftp_auth/distro_ftpusers/anonymous/tumor/hnsc/bcr/intgen.org/tissue_images/slide_images/intgen.org_HNSC.tissue_images.Level_1.188.2.0/TCGA-CV-7406-11A-01-TS1.5d264754-0b2c-477e-a9da-21c8be156969.svs\n",
      "SHIT IT DIED!\n",
      "insert into `corrupt_or_unreadable_svs_files` (full_file_name,filesize) Values ('/TCGA_MIRROR/tcga-data.nci.nih.gov/tcgafiles/ftp_auth/distro_ftpusers/anonymous/tumor/hnsc/bcr/intgen.org/tissue_images/slide_images/intgen.org_HNSC.tissue_images.Level_1.188.2.0/TCGA-CV-7406-11A-01-TS1.5d264754-0b2c-477e-a9da-21c8be156969.svs',951454) \n",
      "UNABLE TO OPEN FILE?? /TCGA_MIRROR/tcga-data.nci.nih.gov/tcgafiles/ftp_auth/distro_ftpusers/anonymous/tumor/hnsc/bcr/intgen.org/tissue_images/slide_images/intgen.org_HNSC.tissue_images.Level_1.188.2.0/TCGA-CV-7406-11A-01-TS1.5d264754-0b2c-477e-a9da-21c8be156969.svs\n",
      "\u001b[KTotal Processed: 950  Newly Processed: 0 Dup Slides or Already Loaded: 851  RESCANNED Slides 0"
     ]
    },
    {
     "name": "stderr",
     "output_type": "stream",
     "text": [
      " ()\n",
      "Verify failed with:"
     ]
    },
    {
     "name": "stdout",
     "output_type": "stream",
     "text": [
      "Openslide returned an error om tje StandardError block /TCGA_MIRROR/tcga-data.nci.nih.gov/tcgafiles/ftp_auth/distro_ftpusers/anonymous/tumor/hnsc/bcr/intgen.org/tissue_images/slide_images/intgen.org_HNSC.tissue_images.Level_1.188.2.0/TCGA-CV-7425-11A-01-TS1.14d506b7-06ce-45be-a009-584e6b92aafc.svs\n",
      "SHIT IT DIED!\n",
      "insert into `corrupt_or_unreadable_svs_files` (full_file_name,filesize) Values ('/TCGA_MIRROR/tcga-data.nci.nih.gov/tcgafiles/ftp_auth/distro_ftpusers/anonymous/tumor/hnsc/bcr/intgen.org/tissue_images/slide_images/intgen.org_HNSC.tissue_images.Level_1.188.2.0/TCGA-CV-7425-11A-01-TS1.14d506b7-06ce-45be-a009-584e6b92aafc.svs',1045922) \n",
      "UNABLE TO OPEN FILE?? /TCGA_MIRROR/tcga-data.nci.nih.gov/tcgafiles/ftp_auth/distro_ftpusers/anonymous/tumor/hnsc/bcr/intgen.org/tissue_images/slide_images/intgen.org_HNSC.tissue_images.Level_1.188.2.0/TCGA-CV-7425-11A-01-TS1.14d506b7-06ce-45be-a009-584e6b92aafc.svs\n",
      "\u001b[KTotal Processed: 974  Newly Processed: 0 Dup Slides or Already Loaded: 874  RESCANNED Slides 0"
     ]
    },
    {
     "name": "stderr",
     "output_type": "stream",
     "text": [
      " ()\n",
      "Verify failed with:"
     ]
    },
    {
     "name": "stdout",
     "output_type": "stream",
     "text": [
      "Openslide returned an error om tje StandardError block /TCGA_MIRROR/tcga-data.nci.nih.gov/tcgafiles/ftp_auth/distro_ftpusers/anonymous/tumor/hnsc/bcr/intgen.org/tissue_images/slide_images/intgen.org_HNSC.tissue_images.Level_1.107.3.0/TCGA-CV-6441-11A-01-TS1.fb84b344-55c2-4c2e-819f-b78d4f22232d.svs\n",
      "SHIT IT DIED!\n",
      "insert into `corrupt_or_unreadable_svs_files` (full_file_name,filesize) Values ('/TCGA_MIRROR/tcga-data.nci.nih.gov/tcgafiles/ftp_auth/distro_ftpusers/anonymous/tumor/hnsc/bcr/intgen.org/tissue_images/slide_images/intgen.org_HNSC.tissue_images.Level_1.107.3.0/TCGA-CV-6441-11A-01-TS1.fb84b344-55c2-4c2e-819f-b78d4f22232d.svs',1311798) \n",
      "UNABLE TO OPEN FILE?? /TCGA_MIRROR/tcga-data.nci.nih.gov/tcgafiles/ftp_auth/distro_ftpusers/anonymous/tumor/hnsc/bcr/intgen.org/tissue_images/slide_images/intgen.org_HNSC.tissue_images.Level_1.107.3.0/TCGA-CV-6441-11A-01-TS1.fb84b344-55c2-4c2e-819f-b78d4f22232d.svs\n",
      "\u001b[KTotal Processed: 986  Newly Processed: 0 Dup Slides or Already Loaded: 885  RESCANNED Slides 0"
     ]
    },
    {
     "name": "stderr",
     "output_type": "stream",
     "text": [
      " ('aperio.AppMag',)\n",
      "Verify failed with:"
     ]
    },
    {
     "name": "stdout",
     "output_type": "stream",
     "text": [
      "Openslide returned an error om tje StandardError block /TCGA_MIRROR/tcga-data.nci.nih.gov/tcgafiles/ftp_auth/distro_ftpusers/anonymous/tumor/hnsc/bcr/intgen.org/tissue_images/slide_images/intgen.org_HNSC.tissue_images.Level_1.107.3.0/TCGA-CV-6433-11A-01-TS1.fc418104-d84c-47ad-8800-3dc5c0ffa292.svs\n",
      "SHIT IT DIED!\n",
      "insert into `corrupt_or_unreadable_svs_files` (full_file_name,filesize) Values ('/TCGA_MIRROR/tcga-data.nci.nih.gov/tcgafiles/ftp_auth/distro_ftpusers/anonymous/tumor/hnsc/bcr/intgen.org/tissue_images/slide_images/intgen.org_HNSC.tissue_images.Level_1.107.3.0/TCGA-CV-6433-11A-01-TS1.fc418104-d84c-47ad-8800-3dc5c0ffa292.svs',1143203) \n",
      "UNABLE TO OPEN FILE?? /TCGA_MIRROR/tcga-data.nci.nih.gov/tcgafiles/ftp_auth/distro_ftpusers/anonymous/tumor/hnsc/bcr/intgen.org/tissue_images/slide_images/intgen.org_HNSC.tissue_images.Level_1.107.3.0/TCGA-CV-6433-11A-01-TS1.fc418104-d84c-47ad-8800-3dc5c0ffa292.svs\n",
      "\u001b[KTotal Processed: 1002  Newly Processed: 0 Dup Slides or Already Loaded: 900  RESCANNED Slides 0"
     ]
    },
    {
     "name": "stderr",
     "output_type": "stream",
     "text": [
      " ('aperio.AppMag',)\n",
      "Verify failed with:"
     ]
    },
    {
     "name": "stdout",
     "output_type": "stream",
     "text": [
      "Openslide returned an error om tje StandardError block /TCGA_MIRROR/tcga-data.nci.nih.gov/tcgafiles/ftp_auth/distro_ftpusers/anonymous/tumor/hnsc/bcr/intgen.org/tissue_images/slide_images/intgen.org_HNSC.tissue_images.Level_1.107.3.0/TCGA-CV-5976-11A-01-TS1.08e9a4fc-9168-457c-8f06-7fe16ea9ae69.svs\n",
      "SHIT IT DIED!\n",
      "insert into `corrupt_or_unreadable_svs_files` (full_file_name,filesize) Values ('/TCGA_MIRROR/tcga-data.nci.nih.gov/tcgafiles/ftp_auth/distro_ftpusers/anonymous/tumor/hnsc/bcr/intgen.org/tissue_images/slide_images/intgen.org_HNSC.tissue_images.Level_1.107.3.0/TCGA-CV-5976-11A-01-TS1.08e9a4fc-9168-457c-8f06-7fe16ea9ae69.svs',4013306) \n",
      "UNABLE TO OPEN FILE?? /TCGA_MIRROR/tcga-data.nci.nih.gov/tcgafiles/ftp_auth/distro_ftpusers/anonymous/tumor/hnsc/bcr/intgen.org/tissue_images/slide_images/intgen.org_HNSC.tissue_images.Level_1.107.3.0/TCGA-CV-5976-11A-01-TS1.08e9a4fc-9168-457c-8f06-7fe16ea9ae69.svs\n",
      "\u001b[KTotal Processed: 1005  Newly Processed: 0 Dup Slides or Already Loaded: 902  RESCANNED Slides 0"
     ]
    },
    {
     "name": "stderr",
     "output_type": "stream",
     "text": [
      " ('aperio.AppMag',)\n",
      "Verify failed with:"
     ]
    },
    {
     "name": "stdout",
     "output_type": "stream",
     "text": [
      "Openslide returned an error om tje StandardError block /TCGA_MIRROR/tcga-data.nci.nih.gov/tcgafiles/ftp_auth/distro_ftpusers/anonymous/tumor/hnsc/bcr/intgen.org/tissue_images/slide_images/intgen.org_HNSC.tissue_images.Level_1.107.3.0/TCGA-CV-5434-11A-01-TS1.0eb156ac-4356-45b0-b36d-dc21f01c75b4.svs\n",
      "SHIT IT DIED!\n",
      "insert into `corrupt_or_unreadable_svs_files` (full_file_name,filesize) Values ('/TCGA_MIRROR/tcga-data.nci.nih.gov/tcgafiles/ftp_auth/distro_ftpusers/anonymous/tumor/hnsc/bcr/intgen.org/tissue_images/slide_images/intgen.org_HNSC.tissue_images.Level_1.107.3.0/TCGA-CV-5434-11A-01-TS1.0eb156ac-4356-45b0-b36d-dc21f01c75b4.svs',3782711) \n",
      "UNABLE TO OPEN FILE?? /TCGA_MIRROR/tcga-data.nci.nih.gov/tcgafiles/ftp_auth/distro_ftpusers/anonymous/tumor/hnsc/bcr/intgen.org/tissue_images/slide_images/intgen.org_HNSC.tissue_images.Level_1.107.3.0/TCGA-CV-5434-11A-01-TS1.0eb156ac-4356-45b0-b36d-dc21f01c75b4.svs\n",
      "\r",
      "\u001b[KTotal Processed: 1006  Newly Processed: 0 Dup Slides or Already Loaded: 902  RESCANNED Slides 0"
     ]
    },
    {
     "name": "stderr",
     "output_type": "stream",
     "text": [
      " ('aperio.AppMag',)\n",
      "Verify failed with:"
     ]
    },
    {
     "name": "stdout",
     "output_type": "stream",
     "text": [
      "Openslide returned an error om tje StandardError block /TCGA_MIRROR/tcga-data.nci.nih.gov/tcgafiles/ftp_auth/distro_ftpusers/anonymous/tumor/hnsc/bcr/intgen.org/tissue_images/slide_images/intgen.org_HNSC.tissue_images.Level_1.107.3.0/TCGA-CV-5439-11A-01-TS1.3181f8a1-1a0e-430d-9c1f-c99ea39acd1d.svs\n",
      "SHIT IT DIED!\n",
      "insert into `corrupt_or_unreadable_svs_files` (full_file_name,filesize) Values ('/TCGA_MIRROR/tcga-data.nci.nih.gov/tcgafiles/ftp_auth/distro_ftpusers/anonymous/tumor/hnsc/bcr/intgen.org/tissue_images/slide_images/intgen.org_HNSC.tissue_images.Level_1.107.3.0/TCGA-CV-5439-11A-01-TS1.3181f8a1-1a0e-430d-9c1f-c99ea39acd1d.svs',6231213) \n",
      "UNABLE TO OPEN FILE?? /TCGA_MIRROR/tcga-data.nci.nih.gov/tcgafiles/ftp_auth/distro_ftpusers/anonymous/tumor/hnsc/bcr/intgen.org/tissue_images/slide_images/intgen.org_HNSC.tissue_images.Level_1.107.3.0/TCGA-CV-5439-11A-01-TS1.3181f8a1-1a0e-430d-9c1f-c99ea39acd1d.svs\n",
      "\u001b[KTotal Processed: 1008  Newly Processed: 0 Dup Slides or Already Loaded: 903  RESCANNED Slides 0"
     ]
    },
    {
     "name": "stderr",
     "output_type": "stream",
     "text": [
      " ('aperio.AppMag',)\n",
      "Verify failed with:"
     ]
    },
    {
     "name": "stdout",
     "output_type": "stream",
     "text": [
      "Openslide returned an error om tje StandardError block /TCGA_MIRROR/tcga-data.nci.nih.gov/tcgafiles/ftp_auth/distro_ftpusers/anonymous/tumor/hnsc/bcr/intgen.org/tissue_images/slide_images/intgen.org_HNSC.tissue_images.Level_1.107.3.0/TCGA-CV-6436-11A-01-TS1.b35a1fe6-59b0-4263-ae44-7a57ef8b698d.svs\n",
      "SHIT IT DIED!\n",
      "insert into `corrupt_or_unreadable_svs_files` (full_file_name,filesize) Values ('/TCGA_MIRROR/tcga-data.nci.nih.gov/tcgafiles/ftp_auth/distro_ftpusers/anonymous/tumor/hnsc/bcr/intgen.org/tissue_images/slide_images/intgen.org_HNSC.tissue_images.Level_1.107.3.0/TCGA-CV-6436-11A-01-TS1.b35a1fe6-59b0-4263-ae44-7a57ef8b698d.svs',1214264) \n",
      "UNABLE TO OPEN FILE?? /TCGA_MIRROR/tcga-data.nci.nih.gov/tcgafiles/ftp_auth/distro_ftpusers/anonymous/tumor/hnsc/bcr/intgen.org/tissue_images/slide_images/intgen.org_HNSC.tissue_images.Level_1.107.3.0/TCGA-CV-6436-11A-01-TS1.b35a1fe6-59b0-4263-ae44-7a57ef8b698d.svs\n",
      "\r",
      "\u001b[KTotal Processed: 1009  Newly Processed: 0 Dup Slides or Already Loaded: 903  RESCANNED Slides 0"
     ]
    },
    {
     "name": "stderr",
     "output_type": "stream",
     "text": [
      " ('aperio.AppMag',)\n",
      "Verify failed with:"
     ]
    },
    {
     "name": "stdout",
     "output_type": "stream",
     "text": [
      "Openslide returned an error om tje StandardError block /TCGA_MIRROR/tcga-data.nci.nih.gov/tcgafiles/ftp_auth/distro_ftpusers/anonymous/tumor/hnsc/bcr/intgen.org/tissue_images/slide_images/intgen.org_HNSC.tissue_images.Level_1.107.3.0/TCGA-CV-5432-11A-01-TS1.68ca9ea4-db13-4762-8976-beabe89006fd.svs\n",
      "SHIT IT DIED!\n",
      "insert into `corrupt_or_unreadable_svs_files` (full_file_name,filesize) Values ('/TCGA_MIRROR/tcga-data.nci.nih.gov/tcgafiles/ftp_auth/distro_ftpusers/anonymous/tumor/hnsc/bcr/intgen.org/tissue_images/slide_images/intgen.org_HNSC.tissue_images.Level_1.107.3.0/TCGA-CV-5432-11A-01-TS1.68ca9ea4-db13-4762-8976-beabe89006fd.svs',4175736) \n",
      "UNABLE TO OPEN FILE?? /TCGA_MIRROR/tcga-data.nci.nih.gov/tcgafiles/ftp_auth/distro_ftpusers/anonymous/tumor/hnsc/bcr/intgen.org/tissue_images/slide_images/intgen.org_HNSC.tissue_images.Level_1.107.3.0/TCGA-CV-5432-11A-01-TS1.68ca9ea4-db13-4762-8976-beabe89006fd.svs\n",
      "\u001b[KTotal Processed: 1027  Newly Processed: 0 Dup Slides or Already Loaded: 920  RESCANNED Slides 0"
     ]
    },
    {
     "name": "stderr",
     "output_type": "stream",
     "text": [
      " ('aperio.AppMag',)\n",
      "Verify failed with:"
     ]
    },
    {
     "name": "stdout",
     "output_type": "stream",
     "text": [
      "Openslide returned an error om tje StandardError block /TCGA_MIRROR/tcga-data.nci.nih.gov/tcgafiles/ftp_auth/distro_ftpusers/anonymous/tumor/hnsc/bcr/intgen.org/tissue_images/slide_images/intgen.org_HNSC.tissue_images.Level_1.107.3.0/TCGA-CV-5966-11A-01-TS1.e63048c5-83b7-489f-99b4-bbc223fe20fc.svs\n",
      "SHIT IT DIED!\n",
      "insert into `corrupt_or_unreadable_svs_files` (full_file_name,filesize) Values ('/TCGA_MIRROR/tcga-data.nci.nih.gov/tcgafiles/ftp_auth/distro_ftpusers/anonymous/tumor/hnsc/bcr/intgen.org/tissue_images/slide_images/intgen.org_HNSC.tissue_images.Level_1.107.3.0/TCGA-CV-5966-11A-01-TS1.e63048c5-83b7-489f-99b4-bbc223fe20fc.svs',4129712) \n",
      "UNABLE TO OPEN FILE?? /TCGA_MIRROR/tcga-data.nci.nih.gov/tcgafiles/ftp_auth/distro_ftpusers/anonymous/tumor/hnsc/bcr/intgen.org/tissue_images/slide_images/intgen.org_HNSC.tissue_images.Level_1.107.3.0/TCGA-CV-5966-11A-01-TS1.e63048c5-83b7-489f-99b4-bbc223fe20fc.svs\n",
      "\u001b[KTotal Processed: 1031  Newly Processed: 0 Dup Slides or Already Loaded: 923  RESCANNED Slides 0"
     ]
    },
    {
     "name": "stderr",
     "output_type": "stream",
     "text": [
      " ('aperio.AppMag',)\n",
      "Verify failed with:"
     ]
    },
    {
     "name": "stdout",
     "output_type": "stream",
     "text": [
      "Openslide returned an error om tje StandardError block /TCGA_MIRROR/tcga-data.nci.nih.gov/tcgafiles/ftp_auth/distro_ftpusers/anonymous/tumor/hnsc/bcr/intgen.org/tissue_images/slide_images/intgen.org_HNSC.tissue_images.Level_1.107.3.0/TCGA-CV-5435-11A-01-TS1.4f25cede-8c8a-4288-8f31-6dfeb18f3b95.svs\n",
      "SHIT IT DIED!\n",
      "insert into `corrupt_or_unreadable_svs_files` (full_file_name,filesize) Values ('/TCGA_MIRROR/tcga-data.nci.nih.gov/tcgafiles/ftp_auth/distro_ftpusers/anonymous/tumor/hnsc/bcr/intgen.org/tissue_images/slide_images/intgen.org_HNSC.tissue_images.Level_1.107.3.0/TCGA-CV-5435-11A-01-TS1.4f25cede-8c8a-4288-8f31-6dfeb18f3b95.svs',4491841) \n",
      "UNABLE TO OPEN FILE?? /TCGA_MIRROR/tcga-data.nci.nih.gov/tcgafiles/ftp_auth/distro_ftpusers/anonymous/tumor/hnsc/bcr/intgen.org/tissue_images/slide_images/intgen.org_HNSC.tissue_images.Level_1.107.3.0/TCGA-CV-5435-11A-01-TS1.4f25cede-8c8a-4288-8f31-6dfeb18f3b95.svs\n",
      "\u001b[KTotal Processed: 1033  Newly Processed: 0 Dup Slides or Already Loaded: 924  RESCANNED Slides 0"
     ]
    },
    {
     "name": "stderr",
     "output_type": "stream",
     "text": [
      " ('aperio.AppMag',)\n",
      "Verify failed with:"
     ]
    },
    {
     "name": "stdout",
     "output_type": "stream",
     "text": [
      "Openslide returned an error om tje StandardError block /TCGA_MIRROR/tcga-data.nci.nih.gov/tcgafiles/ftp_auth/distro_ftpusers/anonymous/tumor/hnsc/bcr/intgen.org/tissue_images/slide_images/intgen.org_HNSC.tissue_images.Level_1.107.3.0/TCGA-CV-5430-11A-01-TS1.6e4595af-51c9-4fbf-8066-cc1a12f2523c.svs\n",
      "SHIT IT DIED!\n",
      "insert into `corrupt_or_unreadable_svs_files` (full_file_name,filesize) Values ('/TCGA_MIRROR/tcga-data.nci.nih.gov/tcgafiles/ftp_auth/distro_ftpusers/anonymous/tumor/hnsc/bcr/intgen.org/tissue_images/slide_images/intgen.org_HNSC.tissue_images.Level_1.107.3.0/TCGA-CV-5430-11A-01-TS1.6e4595af-51c9-4fbf-8066-cc1a12f2523c.svs',5263366) \n",
      "UNABLE TO OPEN FILE?? /TCGA_MIRROR/tcga-data.nci.nih.gov/tcgafiles/ftp_auth/distro_ftpusers/anonymous/tumor/hnsc/bcr/intgen.org/tissue_images/slide_images/intgen.org_HNSC.tissue_images.Level_1.107.3.0/TCGA-CV-5430-11A-01-TS1.6e4595af-51c9-4fbf-8066-cc1a12f2523c.svs\n",
      "\u001b[KTotal Processed: 1036  Newly Processed: 0 Dup Slides or Already Loaded: 926  RESCANNED Slides 0"
     ]
    },
    {
     "name": "stderr",
     "output_type": "stream",
     "text": [
      " ('aperio.AppMag',)\n",
      "Verify failed with:"
     ]
    },
    {
     "name": "stdout",
     "output_type": "stream",
     "text": [
      "Openslide returned an error om tje StandardError block /TCGA_MIRROR/tcga-data.nci.nih.gov/tcgafiles/ftp_auth/distro_ftpusers/anonymous/tumor/hnsc/bcr/intgen.org/tissue_images/slide_images/intgen.org_HNSC.tissue_images.Level_1.107.3.0/TCGA-CV-5973-11A-01-TS1.8a675a1a-ca54-4cbe-a99a-b7be0c438563.svs\n",
      "SHIT IT DIED!\n",
      "insert into `corrupt_or_unreadable_svs_files` (full_file_name,filesize) Values ('/TCGA_MIRROR/tcga-data.nci.nih.gov/tcgafiles/ftp_auth/distro_ftpusers/anonymous/tumor/hnsc/bcr/intgen.org/tissue_images/slide_images/intgen.org_HNSC.tissue_images.Level_1.107.3.0/TCGA-CV-5973-11A-01-TS1.8a675a1a-ca54-4cbe-a99a-b7be0c438563.svs',5163617) \n",
      "UNABLE TO OPEN FILE?? /TCGA_MIRROR/tcga-data.nci.nih.gov/tcgafiles/ftp_auth/distro_ftpusers/anonymous/tumor/hnsc/bcr/intgen.org/tissue_images/slide_images/intgen.org_HNSC.tissue_images.Level_1.107.3.0/TCGA-CV-5973-11A-01-TS1.8a675a1a-ca54-4cbe-a99a-b7be0c438563.svs\n",
      "\u001b[KTotal Processed: 3479  Newly Processed: 0 Dup Slides or Already Loaded: 3343  RESCANNED Slides 25"
     ]
    },
    {
     "name": "stderr",
     "output_type": "stream",
     "text": [
      " ('aperio.AppMag',)\n",
      "Verify failed with:"
     ]
    },
    {
     "name": "stdout",
     "output_type": "stream",
     "text": [
      "Openslide returned an error om tje StandardError block /TCGA_MIRROR/tcga-data.nci.nih.gov/tcgafiles/ftp_auth/distro_ftpusers/anonymous/tumor/hnsc/bcr/nationwidechildrens.org/tissue_images/slide_images/nationwidechildrens.org_HNSC.tissue_images.Level_1.164.2.0/TCGA-CR-7385-01A-01-TS1.78e3b7a3-f9f5-46c4-b13d-9f2b28e23d77.svs\n",
      "SHIT IT DIED!\n",
      "insert into `corrupt_or_unreadable_svs_files` (full_file_name,filesize) Values ('/TCGA_MIRROR/tcga-data.nci.nih.gov/tcgafiles/ftp_auth/distro_ftpusers/anonymous/tumor/hnsc/bcr/nationwidechildrens.org/tissue_images/slide_images/nationwidechildrens.org_HNSC.tissue_images.Level_1.164.2.0/TCGA-CR-7385-01A-01-TS1.78e3b7a3-f9f5-46c4-b13d-9f2b28e23d77.svs',8390158) \n",
      "UNABLE TO OPEN FILE?? /TCGA_MIRROR/tcga-data.nci.nih.gov/tcgafiles/ftp_auth/distro_ftpusers/anonymous/tumor/hnsc/bcr/nationwidechildrens.org/tissue_images/slide_images/nationwidechildrens.org_HNSC.tissue_images.Level_1.164.2.0/TCGA-CR-7385-01A-01-TS1.78e3b7a3-f9f5-46c4-b13d-9f2b28e23d77.svs\n",
      "\u001b[KTotal Processed: 3485  Newly Processed: 0 Dup Slides or Already Loaded: 3348  RESCANNED Slides 25"
     ]
    },
    {
     "name": "stderr",
     "output_type": "stream",
     "text": [
      " ()\n",
      "Verify failed with:"
     ]
    },
    {
     "name": "stdout",
     "output_type": "stream",
     "text": [
      "Openslide returned an error om tje StandardError block /TCGA_MIRROR/tcga-data.nci.nih.gov/tcgafiles/ftp_auth/distro_ftpusers/anonymous/tumor/hnsc/bcr/nationwidechildrens.org/tissue_images/slide_images/nationwidechildrens.org_HNSC.tissue_images.Level_1.164.2.0/TCGA-CR-7388-01A-01-TS1.472564e9-a7fe-4e01-a1fe-fc89570fb7a9.svs\n",
      "SHIT IT DIED!\n",
      "insert into `corrupt_or_unreadable_svs_files` (full_file_name,filesize) Values ('/TCGA_MIRROR/tcga-data.nci.nih.gov/tcgafiles/ftp_auth/distro_ftpusers/anonymous/tumor/hnsc/bcr/nationwidechildrens.org/tissue_images/slide_images/nationwidechildrens.org_HNSC.tissue_images.Level_1.164.2.0/TCGA-CR-7388-01A-01-TS1.472564e9-a7fe-4e01-a1fe-fc89570fb7a9.svs',8602086) \n",
      "UNABLE TO OPEN FILE?? /TCGA_MIRROR/tcga-data.nci.nih.gov/tcgafiles/ftp_auth/distro_ftpusers/anonymous/tumor/hnsc/bcr/nationwidechildrens.org/tissue_images/slide_images/nationwidechildrens.org_HNSC.tissue_images.Level_1.164.2.0/TCGA-CR-7388-01A-01-TS1.472564e9-a7fe-4e01-a1fe-fc89570fb7a9.svs\n",
      "\u001b[KTotal Processed: 3488  Newly Processed: 0 Dup Slides or Already Loaded: 3350  RESCANNED Slides 25"
     ]
    },
    {
     "name": "stderr",
     "output_type": "stream",
     "text": [
      " ()\n",
      "Verify failed with:"
     ]
    },
    {
     "name": "stdout",
     "output_type": "stream",
     "text": [
      "Openslide returned an error om tje StandardError block /TCGA_MIRROR/tcga-data.nci.nih.gov/tcgafiles/ftp_auth/distro_ftpusers/anonymous/tumor/hnsc/bcr/nationwidechildrens.org/tissue_images/slide_images/nationwidechildrens.org_HNSC.tissue_images.Level_1.164.2.0/TCGA-CR-7374-01A-01-TS1.3d964d61-9a19-468c-acc9-e0b348070cbc.svs\n",
      "SHIT IT DIED!\n",
      "insert into `corrupt_or_unreadable_svs_files` (full_file_name,filesize) Values ('/TCGA_MIRROR/tcga-data.nci.nih.gov/tcgafiles/ftp_auth/distro_ftpusers/anonymous/tumor/hnsc/bcr/nationwidechildrens.org/tissue_images/slide_images/nationwidechildrens.org_HNSC.tissue_images.Level_1.164.2.0/TCGA-CR-7374-01A-01-TS1.3d964d61-9a19-468c-acc9-e0b348070cbc.svs',5616954) \n",
      "UNABLE TO OPEN FILE?? /TCGA_MIRROR/tcga-data.nci.nih.gov/tcgafiles/ftp_auth/distro_ftpusers/anonymous/tumor/hnsc/bcr/nationwidechildrens.org/tissue_images/slide_images/nationwidechildrens.org_HNSC.tissue_images.Level_1.164.2.0/TCGA-CR-7374-01A-01-TS1.3d964d61-9a19-468c-acc9-e0b348070cbc.svs\n",
      "\u001b[KTotal Processed: 3490  Newly Processed: 0 Dup Slides or Already Loaded: 3351  RESCANNED Slides 25"
     ]
    },
    {
     "name": "stderr",
     "output_type": "stream",
     "text": [
      " ()\n",
      "Verify failed with:"
     ]
    },
    {
     "name": "stdout",
     "output_type": "stream",
     "text": [
      "Openslide returned an error om tje StandardError block /TCGA_MIRROR/tcga-data.nci.nih.gov/tcgafiles/ftp_auth/distro_ftpusers/anonymous/tumor/hnsc/bcr/nationwidechildrens.org/tissue_images/slide_images/nationwidechildrens.org_HNSC.tissue_images.Level_1.164.2.0/TCGA-CR-7390-01A-01-TS1.90a9a363-84ca-4d48-b5e9-bd34bf6b786d.svs\n",
      "SHIT IT DIED!\n",
      "insert into `corrupt_or_unreadable_svs_files` (full_file_name,filesize) Values ('/TCGA_MIRROR/tcga-data.nci.nih.gov/tcgafiles/ftp_auth/distro_ftpusers/anonymous/tumor/hnsc/bcr/nationwidechildrens.org/tissue_images/slide_images/nationwidechildrens.org_HNSC.tissue_images.Level_1.164.2.0/TCGA-CR-7390-01A-01-TS1.90a9a363-84ca-4d48-b5e9-bd34bf6b786d.svs',8382892) \n",
      "UNABLE TO OPEN FILE?? /TCGA_MIRROR/tcga-data.nci.nih.gov/tcgafiles/ftp_auth/distro_ftpusers/anonymous/tumor/hnsc/bcr/nationwidechildrens.org/tissue_images/slide_images/nationwidechildrens.org_HNSC.tissue_images.Level_1.164.2.0/TCGA-CR-7390-01A-01-TS1.90a9a363-84ca-4d48-b5e9-bd34bf6b786d.svs\n",
      "\u001b[KTotal Processed: 3497  Newly Processed: 0 Dup Slides or Already Loaded: 3357  RESCANNED Slides 25"
     ]
    },
    {
     "name": "stderr",
     "output_type": "stream",
     "text": [
      " ()\n",
      "Verify failed with:"
     ]
    },
    {
     "name": "stdout",
     "output_type": "stream",
     "text": [
      "Openslide returned an error om tje StandardError block /TCGA_MIRROR/tcga-data.nci.nih.gov/tcgafiles/ftp_auth/distro_ftpusers/anonymous/tumor/hnsc/bcr/nationwidechildrens.org/tissue_images/slide_images/nationwidechildrens.org_HNSC.tissue_images.Level_1.164.2.0/TCGA-CR-7397-01A-01-TS1.666cc25d-2190-4325-8cd1-86723bd8a364.svs\n",
      "SHIT IT DIED!\n",
      "insert into `corrupt_or_unreadable_svs_files` (full_file_name,filesize) Values ('/TCGA_MIRROR/tcga-data.nci.nih.gov/tcgafiles/ftp_auth/distro_ftpusers/anonymous/tumor/hnsc/bcr/nationwidechildrens.org/tissue_images/slide_images/nationwidechildrens.org_HNSC.tissue_images.Level_1.164.2.0/TCGA-CR-7397-01A-01-TS1.666cc25d-2190-4325-8cd1-86723bd8a364.svs',3902748) \n",
      "UNABLE TO OPEN FILE?? /TCGA_MIRROR/tcga-data.nci.nih.gov/tcgafiles/ftp_auth/distro_ftpusers/anonymous/tumor/hnsc/bcr/nationwidechildrens.org/tissue_images/slide_images/nationwidechildrens.org_HNSC.tissue_images.Level_1.164.2.0/TCGA-CR-7397-01A-01-TS1.666cc25d-2190-4325-8cd1-86723bd8a364.svs\n",
      "\r",
      "\u001b[KTotal Processed: 3498  Newly Processed: 0 Dup Slides or Already Loaded: 3357  RESCANNED Slides 25"
     ]
    },
    {
     "name": "stderr",
     "output_type": "stream",
     "text": [
      " ()\n",
      "Verify failed with:"
     ]
    },
    {
     "name": "stdout",
     "output_type": "stream",
     "text": [
      "Openslide returned an error om tje StandardError block /TCGA_MIRROR/tcga-data.nci.nih.gov/tcgafiles/ftp_auth/distro_ftpusers/anonymous/tumor/hnsc/bcr/nationwidechildrens.org/tissue_images/slide_images/nationwidechildrens.org_HNSC.tissue_images.Level_1.164.2.0/TCGA-CR-7379-01A-01-TS1.1b4881f2-f976-42b3-8f75-c5ebbc9560af.svs\n",
      "SHIT IT DIED!\n",
      "insert into `corrupt_or_unreadable_svs_files` (full_file_name,filesize) Values ('/TCGA_MIRROR/tcga-data.nci.nih.gov/tcgafiles/ftp_auth/distro_ftpusers/anonymous/tumor/hnsc/bcr/nationwidechildrens.org/tissue_images/slide_images/nationwidechildrens.org_HNSC.tissue_images.Level_1.164.2.0/TCGA-CR-7379-01A-01-TS1.1b4881f2-f976-42b3-8f75-c5ebbc9560af.svs',7578942) \n",
      "UNABLE TO OPEN FILE?? /TCGA_MIRROR/tcga-data.nci.nih.gov/tcgafiles/ftp_auth/distro_ftpusers/anonymous/tumor/hnsc/bcr/nationwidechildrens.org/tissue_images/slide_images/nationwidechildrens.org_HNSC.tissue_images.Level_1.164.2.0/TCGA-CR-7379-01A-01-TS1.1b4881f2-f976-42b3-8f75-c5ebbc9560af.svs\n",
      "\u001b[KTotal Processed: 3506  Newly Processed: 0 Dup Slides or Already Loaded: 3364  RESCANNED Slides 25"
     ]
    },
    {
     "name": "stderr",
     "output_type": "stream",
     "text": [
      " ()\n",
      "Verify failed with:"
     ]
    },
    {
     "name": "stdout",
     "output_type": "stream",
     "text": [
      "Openslide returned an error om tje StandardError block /TCGA_MIRROR/tcga-data.nci.nih.gov/tcgafiles/ftp_auth/distro_ftpusers/anonymous/tumor/hnsc/bcr/nationwidechildrens.org/tissue_images/slide_images/nationwidechildrens.org_HNSC.tissue_images.Level_1.164.2.0/TCGA-CR-7365-01A-01-TS1.811bb2b7-66e3-4694-891b-10b436ec300d.svs\n",
      "SHIT IT DIED!\n",
      "insert into `corrupt_or_unreadable_svs_files` (full_file_name,filesize) Values ('/TCGA_MIRROR/tcga-data.nci.nih.gov/tcgafiles/ftp_auth/distro_ftpusers/anonymous/tumor/hnsc/bcr/nationwidechildrens.org/tissue_images/slide_images/nationwidechildrens.org_HNSC.tissue_images.Level_1.164.2.0/TCGA-CR-7365-01A-01-TS1.811bb2b7-66e3-4694-891b-10b436ec300d.svs',8147776) \n",
      "UNABLE TO OPEN FILE?? /TCGA_MIRROR/tcga-data.nci.nih.gov/tcgafiles/ftp_auth/distro_ftpusers/anonymous/tumor/hnsc/bcr/nationwidechildrens.org/tissue_images/slide_images/nationwidechildrens.org_HNSC.tissue_images.Level_1.164.2.0/TCGA-CR-7365-01A-01-TS1.811bb2b7-66e3-4694-891b-10b436ec300d.svs\n",
      "\u001b[KTotal Processed: 3512  Newly Processed: 0 Dup Slides or Already Loaded: 3369  RESCANNED Slides 25"
     ]
    },
    {
     "name": "stderr",
     "output_type": "stream",
     "text": [
      " ()\n",
      "Verify failed with:"
     ]
    },
    {
     "name": "stdout",
     "output_type": "stream",
     "text": [
      "Openslide returned an error om tje StandardError block /TCGA_MIRROR/tcga-data.nci.nih.gov/tcgafiles/ftp_auth/distro_ftpusers/anonymous/tumor/hnsc/bcr/nationwidechildrens.org/tissue_images/slide_images/nationwidechildrens.org_HNSC.tissue_images.Level_1.164.2.0/TCGA-CR-7402-01A-01-TS1.1fd22a5f-3c69-4fc2-b5c9-7fbd01f52158.svs\n",
      "SHIT IT DIED!\n",
      "insert into `corrupt_or_unreadable_svs_files` (full_file_name,filesize) Values ('/TCGA_MIRROR/tcga-data.nci.nih.gov/tcgafiles/ftp_auth/distro_ftpusers/anonymous/tumor/hnsc/bcr/nationwidechildrens.org/tissue_images/slide_images/nationwidechildrens.org_HNSC.tissue_images.Level_1.164.2.0/TCGA-CR-7402-01A-01-TS1.1fd22a5f-3c69-4fc2-b5c9-7fbd01f52158.svs',7829698) \n",
      "UNABLE TO OPEN FILE?? /TCGA_MIRROR/tcga-data.nci.nih.gov/tcgafiles/ftp_auth/distro_ftpusers/anonymous/tumor/hnsc/bcr/nationwidechildrens.org/tissue_images/slide_images/nationwidechildrens.org_HNSC.tissue_images.Level_1.164.2.0/TCGA-CR-7402-01A-01-TS1.1fd22a5f-3c69-4fc2-b5c9-7fbd01f52158.svs\n",
      "\r",
      "\u001b[KTotal Processed: 3513  Newly Processed: 0 Dup Slides or Already Loaded: 3369  RESCANNED Slides 25"
     ]
    },
    {
     "name": "stderr",
     "output_type": "stream",
     "text": [
      " ()\n",
      "Verify failed with:"
     ]
    },
    {
     "name": "stdout",
     "output_type": "stream",
     "text": [
      "Openslide returned an error om tje StandardError block /TCGA_MIRROR/tcga-data.nci.nih.gov/tcgafiles/ftp_auth/distro_ftpusers/anonymous/tumor/hnsc/bcr/nationwidechildrens.org/tissue_images/slide_images/nationwidechildrens.org_HNSC.tissue_images.Level_1.164.2.0/TCGA-CR-7401-01A-01-TS1.5473cd39-dca7-4bd3-8410-13d36a2e9eda.svs\n",
      "SHIT IT DIED!\n",
      "insert into `corrupt_or_unreadable_svs_files` (full_file_name,filesize) Values ('/TCGA_MIRROR/tcga-data.nci.nih.gov/tcgafiles/ftp_auth/distro_ftpusers/anonymous/tumor/hnsc/bcr/nationwidechildrens.org/tissue_images/slide_images/nationwidechildrens.org_HNSC.tissue_images.Level_1.164.2.0/TCGA-CR-7401-01A-01-TS1.5473cd39-dca7-4bd3-8410-13d36a2e9eda.svs',7917322) \n",
      "UNABLE TO OPEN FILE?? /TCGA_MIRROR/tcga-data.nci.nih.gov/tcgafiles/ftp_auth/distro_ftpusers/anonymous/tumor/hnsc/bcr/nationwidechildrens.org/tissue_images/slide_images/nationwidechildrens.org_HNSC.tissue_images.Level_1.164.2.0/TCGA-CR-7401-01A-01-TS1.5473cd39-dca7-4bd3-8410-13d36a2e9eda.svs\n",
      "\u001b[KTotal Processed: 3520  Newly Processed: 0 Dup Slides or Already Loaded: 3375  RESCANNED Slides 25"
     ]
    },
    {
     "name": "stderr",
     "output_type": "stream",
     "text": [
      " ()\n",
      "Verify failed with:"
     ]
    },
    {
     "name": "stdout",
     "output_type": "stream",
     "text": [
      "Openslide returned an error om tje StandardError block /TCGA_MIRROR/tcga-data.nci.nih.gov/tcgafiles/ftp_auth/distro_ftpusers/anonymous/tumor/hnsc/bcr/nationwidechildrens.org/tissue_images/slide_images/nationwidechildrens.org_HNSC.tissue_images.Level_1.164.2.0/TCGA-CR-7372-01A-01-TS1.ef52049e-f636-4d1d-bfb0-58cf853ab420.svs\n",
      "SHIT IT DIED!\n",
      "insert into `corrupt_or_unreadable_svs_files` (full_file_name,filesize) Values ('/TCGA_MIRROR/tcga-data.nci.nih.gov/tcgafiles/ftp_auth/distro_ftpusers/anonymous/tumor/hnsc/bcr/nationwidechildrens.org/tissue_images/slide_images/nationwidechildrens.org_HNSC.tissue_images.Level_1.164.2.0/TCGA-CR-7372-01A-01-TS1.ef52049e-f636-4d1d-bfb0-58cf853ab420.svs',9517398) \n",
      "UNABLE TO OPEN FILE?? /TCGA_MIRROR/tcga-data.nci.nih.gov/tcgafiles/ftp_auth/distro_ftpusers/anonymous/tumor/hnsc/bcr/nationwidechildrens.org/tissue_images/slide_images/nationwidechildrens.org_HNSC.tissue_images.Level_1.164.2.0/TCGA-CR-7372-01A-01-TS1.ef52049e-f636-4d1d-bfb0-58cf853ab420.svs\n",
      "\u001b[KTotal Processed: 3522  Newly Processed: 0 Dup Slides or Already Loaded: 3376  RESCANNED Slides 25"
     ]
    },
    {
     "name": "stderr",
     "output_type": "stream",
     "text": [
      " ()\n",
      "Verify failed with:"
     ]
    },
    {
     "name": "stdout",
     "output_type": "stream",
     "text": [
      "Openslide returned an error om tje StandardError block /TCGA_MIRROR/tcga-data.nci.nih.gov/tcgafiles/ftp_auth/distro_ftpusers/anonymous/tumor/hnsc/bcr/nationwidechildrens.org/tissue_images/slide_images/nationwidechildrens.org_HNSC.tissue_images.Level_1.164.2.0/TCGA-CR-7394-01A-01-TS1.2a55e850-94b8-4e8c-a246-55661a96ecdb.svs\n",
      "SHIT IT DIED!\n",
      "insert into `corrupt_or_unreadable_svs_files` (full_file_name,filesize) Values ('/TCGA_MIRROR/tcga-data.nci.nih.gov/tcgafiles/ftp_auth/distro_ftpusers/anonymous/tumor/hnsc/bcr/nationwidechildrens.org/tissue_images/slide_images/nationwidechildrens.org_HNSC.tissue_images.Level_1.164.2.0/TCGA-CR-7394-01A-01-TS1.2a55e850-94b8-4e8c-a246-55661a96ecdb.svs',7529414) \n",
      "UNABLE TO OPEN FILE?? /TCGA_MIRROR/tcga-data.nci.nih.gov/tcgafiles/ftp_auth/distro_ftpusers/anonymous/tumor/hnsc/bcr/nationwidechildrens.org/tissue_images/slide_images/nationwidechildrens.org_HNSC.tissue_images.Level_1.164.2.0/TCGA-CR-7394-01A-01-TS1.2a55e850-94b8-4e8c-a246-55661a96ecdb.svs\n",
      "\u001b[KTotal Processed: 3525  Newly Processed: 0 Dup Slides or Already Loaded: 3378  RESCANNED Slides 25"
     ]
    },
    {
     "name": "stderr",
     "output_type": "stream",
     "text": [
      " ()\n",
      "Verify failed with:"
     ]
    },
    {
     "name": "stdout",
     "output_type": "stream",
     "text": [
      "Openslide returned an error om tje StandardError block /TCGA_MIRROR/tcga-data.nci.nih.gov/tcgafiles/ftp_auth/distro_ftpusers/anonymous/tumor/hnsc/bcr/nationwidechildrens.org/tissue_images/slide_images/nationwidechildrens.org_HNSC.tissue_images.Level_1.164.2.0/TCGA-CR-7373-01A-01-TS1.2dda5c57-eb9e-4edb-aa70-cd91ac8bde70.svs\n",
      "SHIT IT DIED!\n",
      "insert into `corrupt_or_unreadable_svs_files` (full_file_name,filesize) Values ('/TCGA_MIRROR/tcga-data.nci.nih.gov/tcgafiles/ftp_auth/distro_ftpusers/anonymous/tumor/hnsc/bcr/nationwidechildrens.org/tissue_images/slide_images/nationwidechildrens.org_HNSC.tissue_images.Level_1.164.2.0/TCGA-CR-7373-01A-01-TS1.2dda5c57-eb9e-4edb-aa70-cd91ac8bde70.svs',7507622) \n",
      "UNABLE TO OPEN FILE?? /TCGA_MIRROR/tcga-data.nci.nih.gov/tcgafiles/ftp_auth/distro_ftpusers/anonymous/tumor/hnsc/bcr/nationwidechildrens.org/tissue_images/slide_images/nationwidechildrens.org_HNSC.tissue_images.Level_1.164.2.0/TCGA-CR-7373-01A-01-TS1.2dda5c57-eb9e-4edb-aa70-cd91ac8bde70.svs\n",
      "\u001b[KTotal Processed: 3527  Newly Processed: 0 Dup Slides or Already Loaded: 3379  RESCANNED Slides 25"
     ]
    },
    {
     "name": "stderr",
     "output_type": "stream",
     "text": [
      " ()\n",
      "Verify failed with:"
     ]
    },
    {
     "name": "stdout",
     "output_type": "stream",
     "text": [
      "Openslide returned an error om tje StandardError block /TCGA_MIRROR/tcga-data.nci.nih.gov/tcgafiles/ftp_auth/distro_ftpusers/anonymous/tumor/hnsc/bcr/nationwidechildrens.org/tissue_images/slide_images/nationwidechildrens.org_HNSC.tissue_images.Level_1.164.2.0/TCGA-CR-7395-01A-01-TS1.844e558f-3325-40d4-b294-219b31c66e74.svs\n",
      "SHIT IT DIED!\n",
      "insert into `corrupt_or_unreadable_svs_files` (full_file_name,filesize) Values ('/TCGA_MIRROR/tcga-data.nci.nih.gov/tcgafiles/ftp_auth/distro_ftpusers/anonymous/tumor/hnsc/bcr/nationwidechildrens.org/tissue_images/slide_images/nationwidechildrens.org_HNSC.tissue_images.Level_1.164.2.0/TCGA-CR-7395-01A-01-TS1.844e558f-3325-40d4-b294-219b31c66e74.svs',3901814) \n",
      "UNABLE TO OPEN FILE?? /TCGA_MIRROR/tcga-data.nci.nih.gov/tcgafiles/ftp_auth/distro_ftpusers/anonymous/tumor/hnsc/bcr/nationwidechildrens.org/tissue_images/slide_images/nationwidechildrens.org_HNSC.tissue_images.Level_1.164.2.0/TCGA-CR-7395-01A-01-TS1.844e558f-3325-40d4-b294-219b31c66e74.svs\n",
      "\u001b[KTotal Processed: 3531  Newly Processed: 0 Dup Slides or Already Loaded: 3382  RESCANNED Slides 25"
     ]
    },
    {
     "name": "stderr",
     "output_type": "stream",
     "text": [
      " ()\n",
      "Verify failed with:"
     ]
    },
    {
     "name": "stdout",
     "output_type": "stream",
     "text": [
      "Openslide returned an error om tje StandardError block /TCGA_MIRROR/tcga-data.nci.nih.gov/tcgafiles/ftp_auth/distro_ftpusers/anonymous/tumor/hnsc/bcr/nationwidechildrens.org/tissue_images/slide_images/nationwidechildrens.org_HNSC.tissue_images.Level_1.164.2.0/TCGA-CR-7364-01A-01-TS1.5130155c-8da3-495d-8e17-66fd0656af46.svs\n",
      "SHIT IT DIED!\n",
      "insert into `corrupt_or_unreadable_svs_files` (full_file_name,filesize) Values ('/TCGA_MIRROR/tcga-data.nci.nih.gov/tcgafiles/ftp_auth/distro_ftpusers/anonymous/tumor/hnsc/bcr/nationwidechildrens.org/tissue_images/slide_images/nationwidechildrens.org_HNSC.tissue_images.Level_1.164.2.0/TCGA-CR-7364-01A-01-TS1.5130155c-8da3-495d-8e17-66fd0656af46.svs',7595536) \n",
      "UNABLE TO OPEN FILE?? /TCGA_MIRROR/tcga-data.nci.nih.gov/tcgafiles/ftp_auth/distro_ftpusers/anonymous/tumor/hnsc/bcr/nationwidechildrens.org/tissue_images/slide_images/nationwidechildrens.org_HNSC.tissue_images.Level_1.164.2.0/TCGA-CR-7364-01A-01-TS1.5130155c-8da3-495d-8e17-66fd0656af46.svs\n",
      "\u001b[KTotal Processed: 3541  Newly Processed: 0 Dup Slides or Already Loaded: 3391  RESCANNED Slides 25"
     ]
    },
    {
     "name": "stderr",
     "output_type": "stream",
     "text": [
      " ()\n",
      "Verify failed with:"
     ]
    },
    {
     "name": "stdout",
     "output_type": "stream",
     "text": [
      "Openslide returned an error om tje StandardError block /TCGA_MIRROR/tcga-data.nci.nih.gov/tcgafiles/ftp_auth/distro_ftpusers/anonymous/tumor/hnsc/bcr/nationwidechildrens.org/tissue_images/slide_images/nationwidechildrens.org_HNSC.tissue_images.Level_1.164.2.0/TCGA-CR-7371-01A-01-TS1.796eb4e3-4479-4e3c-b210-2d4f271b5ce7.svs\n",
      "SHIT IT DIED!\n",
      "insert into `corrupt_or_unreadable_svs_files` (full_file_name,filesize) Values ('/TCGA_MIRROR/tcga-data.nci.nih.gov/tcgafiles/ftp_auth/distro_ftpusers/anonymous/tumor/hnsc/bcr/nationwidechildrens.org/tissue_images/slide_images/nationwidechildrens.org_HNSC.tissue_images.Level_1.164.2.0/TCGA-CR-7371-01A-01-TS1.796eb4e3-4479-4e3c-b210-2d4f271b5ce7.svs',8681986) \n",
      "UNABLE TO OPEN FILE?? /TCGA_MIRROR/tcga-data.nci.nih.gov/tcgafiles/ftp_auth/distro_ftpusers/anonymous/tumor/hnsc/bcr/nationwidechildrens.org/tissue_images/slide_images/nationwidechildrens.org_HNSC.tissue_images.Level_1.164.2.0/TCGA-CR-7371-01A-01-TS1.796eb4e3-4479-4e3c-b210-2d4f271b5ce7.svs\n",
      "\u001b[KTotal Processed: 3547  Newly Processed: 0 Dup Slides or Already Loaded: 3396  RESCANNED Slides 25"
     ]
    },
    {
     "name": "stderr",
     "output_type": "stream",
     "text": [
      " ()\n",
      "Verify failed with:"
     ]
    },
    {
     "name": "stdout",
     "output_type": "stream",
     "text": [
      "Openslide returned an error om tje StandardError block /TCGA_MIRROR/tcga-data.nci.nih.gov/tcgafiles/ftp_auth/distro_ftpusers/anonymous/tumor/hnsc/bcr/nationwidechildrens.org/tissue_images/slide_images/nationwidechildrens.org_HNSC.tissue_images.Level_1.164.2.0/TCGA-CR-7380-01A-01-TS1.486d7d24-0e06-4e85-8555-9244219d2ffc.svs\n",
      "SHIT IT DIED!\n",
      "insert into `corrupt_or_unreadable_svs_files` (full_file_name,filesize) Values ('/TCGA_MIRROR/tcga-data.nci.nih.gov/tcgafiles/ftp_auth/distro_ftpusers/anonymous/tumor/hnsc/bcr/nationwidechildrens.org/tissue_images/slide_images/nationwidechildrens.org_HNSC.tissue_images.Level_1.164.2.0/TCGA-CR-7380-01A-01-TS1.486d7d24-0e06-4e85-8555-9244219d2ffc.svs',6616176) \n",
      "UNABLE TO OPEN FILE?? /TCGA_MIRROR/tcga-data.nci.nih.gov/tcgafiles/ftp_auth/distro_ftpusers/anonymous/tumor/hnsc/bcr/nationwidechildrens.org/tissue_images/slide_images/nationwidechildrens.org_HNSC.tissue_images.Level_1.164.2.0/TCGA-CR-7380-01A-01-TS1.486d7d24-0e06-4e85-8555-9244219d2ffc.svs\n",
      "\u001b[KTotal Processed: 3558  Newly Processed: 0 Dup Slides or Already Loaded: 3406  RESCANNED Slides 25"
     ]
    },
    {
     "name": "stderr",
     "output_type": "stream",
     "text": [
      " ()\n",
      "Verify failed with:"
     ]
    },
    {
     "name": "stdout",
     "output_type": "stream",
     "text": [
      "Openslide returned an error om tje StandardError block /TCGA_MIRROR/tcga-data.nci.nih.gov/tcgafiles/ftp_auth/distro_ftpusers/anonymous/tumor/hnsc/bcr/nationwidechildrens.org/tissue_images/slide_images/nationwidechildrens.org_HNSC.tissue_images.Level_1.164.2.0/TCGA-CR-7389-01A-01-TS1.accbf255-8c8f-45a1-b8c4-076bce17a3d5.svs\n",
      "SHIT IT DIED!\n",
      "insert into `corrupt_or_unreadable_svs_files` (full_file_name,filesize) Values ('/TCGA_MIRROR/tcga-data.nci.nih.gov/tcgafiles/ftp_auth/distro_ftpusers/anonymous/tumor/hnsc/bcr/nationwidechildrens.org/tissue_images/slide_images/nationwidechildrens.org_HNSC.tissue_images.Level_1.164.2.0/TCGA-CR-7389-01A-01-TS1.accbf255-8c8f-45a1-b8c4-076bce17a3d5.svs',1502485) \n",
      "UNABLE TO OPEN FILE?? /TCGA_MIRROR/tcga-data.nci.nih.gov/tcgafiles/ftp_auth/distro_ftpusers/anonymous/tumor/hnsc/bcr/nationwidechildrens.org/tissue_images/slide_images/nationwidechildrens.org_HNSC.tissue_images.Level_1.164.2.0/TCGA-CR-7389-01A-01-TS1.accbf255-8c8f-45a1-b8c4-076bce17a3d5.svs\n",
      "\u001b[KTotal Processed: 3562  Newly Processed: 0 Dup Slides or Already Loaded: 3409  RESCANNED Slides 25"
     ]
    },
    {
     "name": "stderr",
     "output_type": "stream",
     "text": [
      " ()\n",
      "Verify failed with:"
     ]
    },
    {
     "name": "stdout",
     "output_type": "stream",
     "text": [
      "Openslide returned an error om tje StandardError block /TCGA_MIRROR/tcga-data.nci.nih.gov/tcgafiles/ftp_auth/distro_ftpusers/anonymous/tumor/hnsc/bcr/nationwidechildrens.org/tissue_images/slide_images/nationwidechildrens.org_HNSC.tissue_images.Level_1.164.2.0/TCGA-CR-7393-01A-01-TS1.d1befa29-b24c-4b24-b0c0-2740c9012e01.svs\n",
      "SHIT IT DIED!\n",
      "insert into `corrupt_or_unreadable_svs_files` (full_file_name,filesize) Values ('/TCGA_MIRROR/tcga-data.nci.nih.gov/tcgafiles/ftp_auth/distro_ftpusers/anonymous/tumor/hnsc/bcr/nationwidechildrens.org/tissue_images/slide_images/nationwidechildrens.org_HNSC.tissue_images.Level_1.164.2.0/TCGA-CR-7393-01A-01-TS1.d1befa29-b24c-4b24-b0c0-2740c9012e01.svs',8786500) \n",
      "UNABLE TO OPEN FILE?? /TCGA_MIRROR/tcga-data.nci.nih.gov/tcgafiles/ftp_auth/distro_ftpusers/anonymous/tumor/hnsc/bcr/nationwidechildrens.org/tissue_images/slide_images/nationwidechildrens.org_HNSC.tissue_images.Level_1.164.2.0/TCGA-CR-7393-01A-01-TS1.d1befa29-b24c-4b24-b0c0-2740c9012e01.svs\n",
      "\u001b[KTotal Processed: 3573  Newly Processed: 0 Dup Slides or Already Loaded: 3419  RESCANNED Slides 25"
     ]
    },
    {
     "name": "stderr",
     "output_type": "stream",
     "text": [
      " ()\n",
      "Verify failed with:"
     ]
    },
    {
     "name": "stdout",
     "output_type": "stream",
     "text": [
      "Openslide returned an error om tje StandardError block /TCGA_MIRROR/tcga-data.nci.nih.gov/tcgafiles/ftp_auth/distro_ftpusers/anonymous/tumor/hnsc/bcr/nationwidechildrens.org/tissue_images/slide_images/nationwidechildrens.org_HNSC.tissue_images.Level_1.164.2.0/TCGA-CR-7398-01A-01-TS1.3aef998b-046a-4d86-a8ee-42e771bc6d6d.svs\n",
      "SHIT IT DIED!\n",
      "insert into `corrupt_or_unreadable_svs_files` (full_file_name,filesize) Values ('/TCGA_MIRROR/tcga-data.nci.nih.gov/tcgafiles/ftp_auth/distro_ftpusers/anonymous/tumor/hnsc/bcr/nationwidechildrens.org/tissue_images/slide_images/nationwidechildrens.org_HNSC.tissue_images.Level_1.164.2.0/TCGA-CR-7398-01A-01-TS1.3aef998b-046a-4d86-a8ee-42e771bc6d6d.svs',8310986) \n",
      "UNABLE TO OPEN FILE?? /TCGA_MIRROR/tcga-data.nci.nih.gov/tcgafiles/ftp_auth/distro_ftpusers/anonymous/tumor/hnsc/bcr/nationwidechildrens.org/tissue_images/slide_images/nationwidechildrens.org_HNSC.tissue_images.Level_1.164.2.0/TCGA-CR-7398-01A-01-TS1.3aef998b-046a-4d86-a8ee-42e771bc6d6d.svs\n",
      "\u001b[KTotal Processed: 3588  Newly Processed: 0 Dup Slides or Already Loaded: 3433  RESCANNED Slides 25"
     ]
    },
    {
     "name": "stderr",
     "output_type": "stream",
     "text": [
      " ()\n",
      "Verify failed with:"
     ]
    },
    {
     "name": "stdout",
     "output_type": "stream",
     "text": [
      "Openslide returned an error om tje StandardError block /TCGA_MIRROR/tcga-data.nci.nih.gov/tcgafiles/ftp_auth/distro_ftpusers/anonymous/tumor/hnsc/bcr/nationwidechildrens.org/tissue_images/slide_images/nationwidechildrens.org_HNSC.tissue_images.Level_1.164.2.0/TCGA-CR-7399-01A-01-TS1.b87c5422-1239-4ffd-ba83-5969e2c2d9ce.svs\n",
      "SHIT IT DIED!\n",
      "insert into `corrupt_or_unreadable_svs_files` (full_file_name,filesize) Values ('/TCGA_MIRROR/tcga-data.nci.nih.gov/tcgafiles/ftp_auth/distro_ftpusers/anonymous/tumor/hnsc/bcr/nationwidechildrens.org/tissue_images/slide_images/nationwidechildrens.org_HNSC.tissue_images.Level_1.164.2.0/TCGA-CR-7399-01A-01-TS1.b87c5422-1239-4ffd-ba83-5969e2c2d9ce.svs',8292346) \n",
      "UNABLE TO OPEN FILE?? /TCGA_MIRROR/tcga-data.nci.nih.gov/tcgafiles/ftp_auth/distro_ftpusers/anonymous/tumor/hnsc/bcr/nationwidechildrens.org/tissue_images/slide_images/nationwidechildrens.org_HNSC.tissue_images.Level_1.164.2.0/TCGA-CR-7399-01A-01-TS1.b87c5422-1239-4ffd-ba83-5969e2c2d9ce.svs\n",
      "\u001b[KTotal Processed: 3593  Newly Processed: 0 Dup Slides or Already Loaded: 3437  RESCANNED Slides 25"
     ]
    },
    {
     "name": "stderr",
     "output_type": "stream",
     "text": [
      " ()\n",
      "Verify failed with:"
     ]
    },
    {
     "name": "stdout",
     "output_type": "stream",
     "text": [
      "Openslide returned an error om tje StandardError block /TCGA_MIRROR/tcga-data.nci.nih.gov/tcgafiles/ftp_auth/distro_ftpusers/anonymous/tumor/hnsc/bcr/nationwidechildrens.org/tissue_images/slide_images/nationwidechildrens.org_HNSC.tissue_images.Level_1.164.2.0/TCGA-CR-7391-01A-01-TS1.2d58313c-c239-4ff5-90bb-114a8b219ef7.svs\n",
      "SHIT IT DIED!\n",
      "insert into `corrupt_or_unreadable_svs_files` (full_file_name,filesize) Values ('/TCGA_MIRROR/tcga-data.nci.nih.gov/tcgafiles/ftp_auth/distro_ftpusers/anonymous/tumor/hnsc/bcr/nationwidechildrens.org/tissue_images/slide_images/nationwidechildrens.org_HNSC.tissue_images.Level_1.164.2.0/TCGA-CR-7391-01A-01-TS1.2d58313c-c239-4ff5-90bb-114a8b219ef7.svs',7115740) \n",
      "UNABLE TO OPEN FILE?? /TCGA_MIRROR/tcga-data.nci.nih.gov/tcgafiles/ftp_auth/distro_ftpusers/anonymous/tumor/hnsc/bcr/nationwidechildrens.org/tissue_images/slide_images/nationwidechildrens.org_HNSC.tissue_images.Level_1.164.2.0/TCGA-CR-7391-01A-01-TS1.2d58313c-c239-4ff5-90bb-114a8b219ef7.svs\n",
      "\u001b[KTotal Processed: 3596  Newly Processed: 0 Dup Slides or Already Loaded: 3439  RESCANNED Slides 25"
     ]
    },
    {
     "name": "stderr",
     "output_type": "stream",
     "text": [
      " ()\n",
      "Verify failed with:"
     ]
    },
    {
     "name": "stdout",
     "output_type": "stream",
     "text": [
      "Openslide returned an error om tje StandardError block /TCGA_MIRROR/tcga-data.nci.nih.gov/tcgafiles/ftp_auth/distro_ftpusers/anonymous/tumor/hnsc/bcr/nationwidechildrens.org/tissue_images/slide_images/nationwidechildrens.org_HNSC.tissue_images.Level_1.164.2.0/TCGA-CR-7392-01A-01-TS1.7ca616f1-56b4-4a0c-904f-06a69e736812.svs\n",
      "SHIT IT DIED!\n",
      "insert into `corrupt_or_unreadable_svs_files` (full_file_name,filesize) Values ('/TCGA_MIRROR/tcga-data.nci.nih.gov/tcgafiles/ftp_auth/distro_ftpusers/anonymous/tumor/hnsc/bcr/nationwidechildrens.org/tissue_images/slide_images/nationwidechildrens.org_HNSC.tissue_images.Level_1.164.2.0/TCGA-CR-7392-01A-01-TS1.7ca616f1-56b4-4a0c-904f-06a69e736812.svs',8714796) \n",
      "UNABLE TO OPEN FILE?? /TCGA_MIRROR/tcga-data.nci.nih.gov/tcgafiles/ftp_auth/distro_ftpusers/anonymous/tumor/hnsc/bcr/nationwidechildrens.org/tissue_images/slide_images/nationwidechildrens.org_HNSC.tissue_images.Level_1.164.2.0/TCGA-CR-7392-01A-01-TS1.7ca616f1-56b4-4a0c-904f-06a69e736812.svs\n",
      "\u001b[KTotal Processed: 3611  Newly Processed: 0 Dup Slides or Already Loaded: 3453  RESCANNED Slides 25"
     ]
    },
    {
     "name": "stderr",
     "output_type": "stream",
     "text": [
      " ()\n",
      "Verify failed with:"
     ]
    },
    {
     "name": "stdout",
     "output_type": "stream",
     "text": [
      "Openslide returned an error om tje StandardError block /TCGA_MIRROR/tcga-data.nci.nih.gov/tcgafiles/ftp_auth/distro_ftpusers/anonymous/tumor/hnsc/bcr/nationwidechildrens.org/tissue_images/slide_images/nationwidechildrens.org_HNSC.tissue_images.Level_1.164.2.0/TCGA-CR-7377-01A-01-TS1.45dd6071-5078-4807-a090-bf38fe6931c3.svs\n",
      "SHIT IT DIED!\n",
      "insert into `corrupt_or_unreadable_svs_files` (full_file_name,filesize) Values ('/TCGA_MIRROR/tcga-data.nci.nih.gov/tcgafiles/ftp_auth/distro_ftpusers/anonymous/tumor/hnsc/bcr/nationwidechildrens.org/tissue_images/slide_images/nationwidechildrens.org_HNSC.tissue_images.Level_1.164.2.0/TCGA-CR-7377-01A-01-TS1.45dd6071-5078-4807-a090-bf38fe6931c3.svs',8332454) \n",
      "UNABLE TO OPEN FILE?? /TCGA_MIRROR/tcga-data.nci.nih.gov/tcgafiles/ftp_auth/distro_ftpusers/anonymous/tumor/hnsc/bcr/nationwidechildrens.org/tissue_images/slide_images/nationwidechildrens.org_HNSC.tissue_images.Level_1.164.2.0/TCGA-CR-7377-01A-01-TS1.45dd6071-5078-4807-a090-bf38fe6931c3.svs\n",
      "\u001b[KTotal Processed: 3613  Newly Processed: 0 Dup Slides or Already Loaded: 3454  RESCANNED Slides 25"
     ]
    },
    {
     "name": "stderr",
     "output_type": "stream",
     "text": [
      " ()\n",
      "Verify failed with:"
     ]
    },
    {
     "name": "stdout",
     "output_type": "stream",
     "text": [
      "Openslide returned an error om tje StandardError block /TCGA_MIRROR/tcga-data.nci.nih.gov/tcgafiles/ftp_auth/distro_ftpusers/anonymous/tumor/hnsc/bcr/nationwidechildrens.org/tissue_images/slide_images/nationwidechildrens.org_HNSC.tissue_images.Level_1.164.2.0/TCGA-CR-7367-01A-01-TS1.8c33cb41-d972-4906-8664-b8332d6658c5.svs\n",
      "SHIT IT DIED!\n",
      "insert into `corrupt_or_unreadable_svs_files` (full_file_name,filesize) Values ('/TCGA_MIRROR/tcga-data.nci.nih.gov/tcgafiles/ftp_auth/distro_ftpusers/anonymous/tumor/hnsc/bcr/nationwidechildrens.org/tissue_images/slide_images/nationwidechildrens.org_HNSC.tissue_images.Level_1.164.2.0/TCGA-CR-7367-01A-01-TS1.8c33cb41-d972-4906-8664-b8332d6658c5.svs',7518242) \n",
      "UNABLE TO OPEN FILE?? /TCGA_MIRROR/tcga-data.nci.nih.gov/tcgafiles/ftp_auth/distro_ftpusers/anonymous/tumor/hnsc/bcr/nationwidechildrens.org/tissue_images/slide_images/nationwidechildrens.org_HNSC.tissue_images.Level_1.164.2.0/TCGA-CR-7367-01A-01-TS1.8c33cb41-d972-4906-8664-b8332d6658c5.svs\n",
      "\u001b[KTotal Processed: 3615  Newly Processed: 0 Dup Slides or Already Loaded: 3455  RESCANNED Slides 25"
     ]
    },
    {
     "name": "stderr",
     "output_type": "stream",
     "text": [
      " ()\n",
      "Verify failed with:"
     ]
    },
    {
     "name": "stdout",
     "output_type": "stream",
     "text": [
      "Openslide returned an error om tje StandardError block /TCGA_MIRROR/tcga-data.nci.nih.gov/tcgafiles/ftp_auth/distro_ftpusers/anonymous/tumor/hnsc/bcr/nationwidechildrens.org/tissue_images/slide_images/nationwidechildrens.org_HNSC.tissue_images.Level_1.190.4.0/TCGA-CV-7428-11A-01-TS1.c6a8b9a3-9f52-43aa-8358-6608d047483c.svs\n",
      "SHIT IT DIED!\n",
      "insert into `corrupt_or_unreadable_svs_files` (full_file_name,filesize) Values ('/TCGA_MIRROR/tcga-data.nci.nih.gov/tcgafiles/ftp_auth/distro_ftpusers/anonymous/tumor/hnsc/bcr/nationwidechildrens.org/tissue_images/slide_images/nationwidechildrens.org_HNSC.tissue_images.Level_1.190.4.0/TCGA-CV-7428-11A-01-TS1.c6a8b9a3-9f52-43aa-8358-6608d047483c.svs',998426) \n",
      "UNABLE TO OPEN FILE?? /TCGA_MIRROR/tcga-data.nci.nih.gov/tcgafiles/ftp_auth/distro_ftpusers/anonymous/tumor/hnsc/bcr/nationwidechildrens.org/tissue_images/slide_images/nationwidechildrens.org_HNSC.tissue_images.Level_1.190.4.0/TCGA-CV-7428-11A-01-TS1.c6a8b9a3-9f52-43aa-8358-6608d047483c.svs\n",
      "\r",
      "\u001b[KTotal Processed: 3616  Newly Processed: 0 Dup Slides or Already Loaded: 3455  RESCANNED Slides 25"
     ]
    },
    {
     "name": "stderr",
     "output_type": "stream",
     "text": [
      " ()\n",
      "Verify failed with:"
     ]
    },
    {
     "name": "stdout",
     "output_type": "stream",
     "text": [
      "Openslide returned an error om tje StandardError block /TCGA_MIRROR/tcga-data.nci.nih.gov/tcgafiles/ftp_auth/distro_ftpusers/anonymous/tumor/hnsc/bcr/nationwidechildrens.org/tissue_images/slide_images/nationwidechildrens.org_HNSC.tissue_images.Level_1.190.4.0/TCGA-CV-7434-11A-01-TS1.29dacbd2-d27e-4bef-8551-07fdfaeb6b91.svs\n",
      "SHIT IT DIED!\n",
      "insert into `corrupt_or_unreadable_svs_files` (full_file_name,filesize) Values ('/TCGA_MIRROR/tcga-data.nci.nih.gov/tcgafiles/ftp_auth/distro_ftpusers/anonymous/tumor/hnsc/bcr/nationwidechildrens.org/tissue_images/slide_images/nationwidechildrens.org_HNSC.tissue_images.Level_1.190.4.0/TCGA-CV-7434-11A-01-TS1.29dacbd2-d27e-4bef-8551-07fdfaeb6b91.svs',1006760) \n",
      "UNABLE TO OPEN FILE?? /TCGA_MIRROR/tcga-data.nci.nih.gov/tcgafiles/ftp_auth/distro_ftpusers/anonymous/tumor/hnsc/bcr/nationwidechildrens.org/tissue_images/slide_images/nationwidechildrens.org_HNSC.tissue_images.Level_1.190.4.0/TCGA-CV-7434-11A-01-TS1.29dacbd2-d27e-4bef-8551-07fdfaeb6b91.svs\n",
      "\r",
      "\u001b[KTotal Processed: 3617  Newly Processed: 0 Dup Slides or Already Loaded: 3455  RESCANNED Slides 25"
     ]
    },
    {
     "name": "stderr",
     "output_type": "stream",
     "text": [
      " ()\n",
      "Verify failed with:"
     ]
    },
    {
     "name": "stdout",
     "output_type": "stream",
     "text": [
      "Openslide returned an error om tje StandardError block /TCGA_MIRROR/tcga-data.nci.nih.gov/tcgafiles/ftp_auth/distro_ftpusers/anonymous/tumor/hnsc/bcr/nationwidechildrens.org/tissue_images/slide_images/nationwidechildrens.org_HNSC.tissue_images.Level_1.190.4.0/TCGA-CR-7368-01A-01-TS1.7f2d8a43-41bb-4710-a47d-fe8582737a1b.svs\n",
      "SHIT IT DIED!\n",
      "insert into `corrupt_or_unreadable_svs_files` (full_file_name,filesize) Values ('/TCGA_MIRROR/tcga-data.nci.nih.gov/tcgafiles/ftp_auth/distro_ftpusers/anonymous/tumor/hnsc/bcr/nationwidechildrens.org/tissue_images/slide_images/nationwidechildrens.org_HNSC.tissue_images.Level_1.190.4.0/TCGA-CR-7368-01A-01-TS1.7f2d8a43-41bb-4710-a47d-fe8582737a1b.svs',7763578) \n",
      "UNABLE TO OPEN FILE?? /TCGA_MIRROR/tcga-data.nci.nih.gov/tcgafiles/ftp_auth/distro_ftpusers/anonymous/tumor/hnsc/bcr/nationwidechildrens.org/tissue_images/slide_images/nationwidechildrens.org_HNSC.tissue_images.Level_1.190.4.0/TCGA-CR-7368-01A-01-TS1.7f2d8a43-41bb-4710-a47d-fe8582737a1b.svs\n",
      "\u001b[KTotal Processed: 3623  Newly Processed: 0 Dup Slides or Already Loaded: 3460  RESCANNED Slides 25"
     ]
    },
    {
     "name": "stderr",
     "output_type": "stream",
     "text": [
      " ()\n",
      "Verify failed with:"
     ]
    },
    {
     "name": "stdout",
     "output_type": "stream",
     "text": [
      "Openslide returned an error om tje StandardError block /TCGA_MIRROR/tcga-data.nci.nih.gov/tcgafiles/ftp_auth/distro_ftpusers/anonymous/tumor/hnsc/bcr/nationwidechildrens.org/tissue_images/slide_images/nationwidechildrens.org_HNSC.tissue_images.Level_1.190.4.0/TCGA-CV-7432-11A-01-TS1.2723fd69-fe85-4d28-bd30-5d88d70851ba.svs\n",
      "SHIT IT DIED!\n",
      "insert into `corrupt_or_unreadable_svs_files` (full_file_name,filesize) Values ('/TCGA_MIRROR/tcga-data.nci.nih.gov/tcgafiles/ftp_auth/distro_ftpusers/anonymous/tumor/hnsc/bcr/nationwidechildrens.org/tissue_images/slide_images/nationwidechildrens.org_HNSC.tissue_images.Level_1.190.4.0/TCGA-CV-7432-11A-01-TS1.2723fd69-fe85-4d28-bd30-5d88d70851ba.svs',1078046) \n",
      "UNABLE TO OPEN FILE?? /TCGA_MIRROR/tcga-data.nci.nih.gov/tcgafiles/ftp_auth/distro_ftpusers/anonymous/tumor/hnsc/bcr/nationwidechildrens.org/tissue_images/slide_images/nationwidechildrens.org_HNSC.tissue_images.Level_1.190.4.0/TCGA-CV-7432-11A-01-TS1.2723fd69-fe85-4d28-bd30-5d88d70851ba.svs\n",
      "\u001b[KTotal Processed: 3625  Newly Processed: 0 Dup Slides or Already Loaded: 3461  RESCANNED Slides 25"
     ]
    },
    {
     "name": "stderr",
     "output_type": "stream",
     "text": [
      " ()\n",
      "Verify failed with:"
     ]
    },
    {
     "name": "stdout",
     "output_type": "stream",
     "text": [
      "Openslide returned an error om tje StandardError block /TCGA_MIRROR/tcga-data.nci.nih.gov/tcgafiles/ftp_auth/distro_ftpusers/anonymous/tumor/hnsc/bcr/nationwidechildrens.org/tissue_images/slide_images/nationwidechildrens.org_HNSC.tissue_images.Level_1.190.4.0/TCGA-CR-7376-01A-01-TS1.83c90067-3687-432f-a33c-6ae1275d22b8.svs\n",
      "SHIT IT DIED!\n",
      "insert into `corrupt_or_unreadable_svs_files` (full_file_name,filesize) Values ('/TCGA_MIRROR/tcga-data.nci.nih.gov/tcgafiles/ftp_auth/distro_ftpusers/anonymous/tumor/hnsc/bcr/nationwidechildrens.org/tissue_images/slide_images/nationwidechildrens.org_HNSC.tissue_images.Level_1.190.4.0/TCGA-CR-7376-01A-01-TS1.83c90067-3687-432f-a33c-6ae1275d22b8.svs',7964282) \n",
      "UNABLE TO OPEN FILE?? /TCGA_MIRROR/tcga-data.nci.nih.gov/tcgafiles/ftp_auth/distro_ftpusers/anonymous/tumor/hnsc/bcr/nationwidechildrens.org/tissue_images/slide_images/nationwidechildrens.org_HNSC.tissue_images.Level_1.190.4.0/TCGA-CR-7376-01A-01-TS1.83c90067-3687-432f-a33c-6ae1275d22b8.svs\n",
      "\u001b[KTotal Processed: 3631  Newly Processed: 0 Dup Slides or Already Loaded: 3466  RESCANNED Slides 25"
     ]
    },
    {
     "name": "stderr",
     "output_type": "stream",
     "text": [
      " ()\n",
      "Verify failed with:"
     ]
    },
    {
     "name": "stdout",
     "output_type": "stream",
     "text": [
      "Openslide returned an error om tje StandardError block /TCGA_MIRROR/tcga-data.nci.nih.gov/tcgafiles/ftp_auth/distro_ftpusers/anonymous/tumor/hnsc/bcr/nationwidechildrens.org/tissue_images/slide_images/nationwidechildrens.org_HNSC.tissue_images.Level_1.190.4.0/TCGA-CR-7370-01A-01-TS1.64497fbc-92c7-4d47-820c-2c213b709ced.svs\n",
      "SHIT IT DIED!\n",
      "insert into `corrupt_or_unreadable_svs_files` (full_file_name,filesize) Values ('/TCGA_MIRROR/tcga-data.nci.nih.gov/tcgafiles/ftp_auth/distro_ftpusers/anonymous/tumor/hnsc/bcr/nationwidechildrens.org/tissue_images/slide_images/nationwidechildrens.org_HNSC.tissue_images.Level_1.190.4.0/TCGA-CR-7370-01A-01-TS1.64497fbc-92c7-4d47-820c-2c213b709ced.svs',8257680) \n",
      "UNABLE TO OPEN FILE?? /TCGA_MIRROR/tcga-data.nci.nih.gov/tcgafiles/ftp_auth/distro_ftpusers/anonymous/tumor/hnsc/bcr/nationwidechildrens.org/tissue_images/slide_images/nationwidechildrens.org_HNSC.tissue_images.Level_1.190.4.0/TCGA-CR-7370-01A-01-TS1.64497fbc-92c7-4d47-820c-2c213b709ced.svs\n",
      "\u001b[KTotal Processed: 3637  Newly Processed: 0 Dup Slides or Already Loaded: 3471  RESCANNED Slides 25"
     ]
    },
    {
     "name": "stderr",
     "output_type": "stream",
     "text": [
      " ()\n",
      "Verify failed with:"
     ]
    },
    {
     "name": "stdout",
     "output_type": "stream",
     "text": [
      "Openslide returned an error om tje StandardError block /TCGA_MIRROR/tcga-data.nci.nih.gov/tcgafiles/ftp_auth/distro_ftpusers/anonymous/tumor/hnsc/bcr/nationwidechildrens.org/tissue_images/slide_images/nationwidechildrens.org_HNSC.tissue_images.Level_1.190.4.0/TCGA-CR-7383-01A-01-TS1.fb97f2e7-90c4-48d6-aabb-33999d58436a.svs\n",
      "SHIT IT DIED!\n",
      "insert into `corrupt_or_unreadable_svs_files` (full_file_name,filesize) Values ('/TCGA_MIRROR/tcga-data.nci.nih.gov/tcgafiles/ftp_auth/distro_ftpusers/anonymous/tumor/hnsc/bcr/nationwidechildrens.org/tissue_images/slide_images/nationwidechildrens.org_HNSC.tissue_images.Level_1.190.4.0/TCGA-CR-7383-01A-01-TS1.fb97f2e7-90c4-48d6-aabb-33999d58436a.svs',9042366) \n",
      "UNABLE TO OPEN FILE?? /TCGA_MIRROR/tcga-data.nci.nih.gov/tcgafiles/ftp_auth/distro_ftpusers/anonymous/tumor/hnsc/bcr/nationwidechildrens.org/tissue_images/slide_images/nationwidechildrens.org_HNSC.tissue_images.Level_1.190.4.0/TCGA-CR-7383-01A-01-TS1.fb97f2e7-90c4-48d6-aabb-33999d58436a.svs\n",
      "\u001b[KTotal Processed: 3640  Newly Processed: 0 Dup Slides or Already Loaded: 3473  RESCANNED Slides 25"
     ]
    },
    {
     "name": "stderr",
     "output_type": "stream",
     "text": [
      " ()\n",
      "Verify failed with:"
     ]
    },
    {
     "name": "stdout",
     "output_type": "stream",
     "text": [
      "Openslide returned an error om tje StandardError block /TCGA_MIRROR/tcga-data.nci.nih.gov/tcgafiles/ftp_auth/distro_ftpusers/anonymous/tumor/hnsc/bcr/nationwidechildrens.org/tissue_images/slide_images/nationwidechildrens.org_HNSC.tissue_images.Level_1.190.4.0/TCGA-CV-7437-11A-01-TS1.8e151b18-1cf8-4c0e-b9ef-b0926b39816b.svs\n",
      "SHIT IT DIED!\n",
      "insert into `corrupt_or_unreadable_svs_files` (full_file_name,filesize) Values ('/TCGA_MIRROR/tcga-data.nci.nih.gov/tcgafiles/ftp_auth/distro_ftpusers/anonymous/tumor/hnsc/bcr/nationwidechildrens.org/tissue_images/slide_images/nationwidechildrens.org_HNSC.tissue_images.Level_1.190.4.0/TCGA-CV-7437-11A-01-TS1.8e151b18-1cf8-4c0e-b9ef-b0926b39816b.svs',896992) \n",
      "UNABLE TO OPEN FILE?? /TCGA_MIRROR/tcga-data.nci.nih.gov/tcgafiles/ftp_auth/distro_ftpusers/anonymous/tumor/hnsc/bcr/nationwidechildrens.org/tissue_images/slide_images/nationwidechildrens.org_HNSC.tissue_images.Level_1.190.4.0/TCGA-CV-7437-11A-01-TS1.8e151b18-1cf8-4c0e-b9ef-b0926b39816b.svs\n",
      "\r",
      "\u001b[KTotal Processed: 3641  Newly Processed: 0 Dup Slides or Already Loaded: 3473  RESCANNED Slides 25"
     ]
    },
    {
     "name": "stderr",
     "output_type": "stream",
     "text": [
      " ()\n",
      "Verify failed with:"
     ]
    },
    {
     "name": "stdout",
     "output_type": "stream",
     "text": [
      "Openslide returned an error om tje StandardError block /TCGA_MIRROR/tcga-data.nci.nih.gov/tcgafiles/ftp_auth/distro_ftpusers/anonymous/tumor/hnsc/bcr/nationwidechildrens.org/tissue_images/slide_images/nationwidechildrens.org_HNSC.tissue_images.Level_1.190.4.0/TCGA-CR-7382-01A-01-TS1.9e029917-9273-4ae1-819d-1022ad6c5c52.svs\n",
      "SHIT IT DIED!\n",
      "insert into `corrupt_or_unreadable_svs_files` (full_file_name,filesize) Values ('/TCGA_MIRROR/tcga-data.nci.nih.gov/tcgafiles/ftp_auth/distro_ftpusers/anonymous/tumor/hnsc/bcr/nationwidechildrens.org/tissue_images/slide_images/nationwidechildrens.org_HNSC.tissue_images.Level_1.190.4.0/TCGA-CR-7382-01A-01-TS1.9e029917-9273-4ae1-819d-1022ad6c5c52.svs',8220284) \n",
      "UNABLE TO OPEN FILE?? /TCGA_MIRROR/tcga-data.nci.nih.gov/tcgafiles/ftp_auth/distro_ftpusers/anonymous/tumor/hnsc/bcr/nationwidechildrens.org/tissue_images/slide_images/nationwidechildrens.org_HNSC.tissue_images.Level_1.190.4.0/TCGA-CR-7382-01A-01-TS1.9e029917-9273-4ae1-819d-1022ad6c5c52.svs\n",
      "\r",
      "\u001b[KTotal Processed: 3642  Newly Processed: 0 Dup Slides or Already Loaded: 3473  RESCANNED Slides 25"
     ]
    },
    {
     "name": "stderr",
     "output_type": "stream",
     "text": [
      " ()\n",
      "Verify failed with:"
     ]
    },
    {
     "name": "stdout",
     "output_type": "stream",
     "text": [
      "Openslide returned an error om tje StandardError block /TCGA_MIRROR/tcga-data.nci.nih.gov/tcgafiles/ftp_auth/distro_ftpusers/anonymous/tumor/hnsc/bcr/nationwidechildrens.org/tissue_images/slide_images/nationwidechildrens.org_HNSC.tissue_images.Level_1.190.4.0/TCGA-CR-7369-01A-01-TS1.2552be32-9bff-4fee-87c0-6cd47e0b6b6c.svs\n",
      "SHIT IT DIED!\n",
      "insert into `corrupt_or_unreadable_svs_files` (full_file_name,filesize) Values ('/TCGA_MIRROR/tcga-data.nci.nih.gov/tcgafiles/ftp_auth/distro_ftpusers/anonymous/tumor/hnsc/bcr/nationwidechildrens.org/tissue_images/slide_images/nationwidechildrens.org_HNSC.tissue_images.Level_1.190.4.0/TCGA-CR-7369-01A-01-TS1.2552be32-9bff-4fee-87c0-6cd47e0b6b6c.svs',9447746) \n",
      "UNABLE TO OPEN FILE?? /TCGA_MIRROR/tcga-data.nci.nih.gov/tcgafiles/ftp_auth/distro_ftpusers/anonymous/tumor/hnsc/bcr/nationwidechildrens.org/tissue_images/slide_images/nationwidechildrens.org_HNSC.tissue_images.Level_1.190.4.0/TCGA-CR-7369-01A-01-TS1.2552be32-9bff-4fee-87c0-6cd47e0b6b6c.svs\n",
      "\u001b[KTotal Processed: 3645  Newly Processed: 0 Dup Slides or Already Loaded: 3475  RESCANNED Slides 25"
     ]
    },
    {
     "name": "stderr",
     "output_type": "stream",
     "text": [
      " ()\n",
      "Verify failed with:"
     ]
    },
    {
     "name": "stdout",
     "output_type": "stream",
     "text": [
      "Openslide returned an error om tje StandardError block /TCGA_MIRROR/tcga-data.nci.nih.gov/tcgafiles/ftp_auth/distro_ftpusers/anonymous/tumor/hnsc/bcr/nationwidechildrens.org/tissue_images/slide_images/nationwidechildrens.org_HNSC.tissue_images.Level_1.190.4.0/TCGA-CV-7440-11A-01-TS1.23ad603f-28ca-41a4-85ab-305387e3c134.svs\n",
      "SHIT IT DIED!\n",
      "insert into `corrupt_or_unreadable_svs_files` (full_file_name,filesize) Values ('/TCGA_MIRROR/tcga-data.nci.nih.gov/tcgafiles/ftp_auth/distro_ftpusers/anonymous/tumor/hnsc/bcr/nationwidechildrens.org/tissue_images/slide_images/nationwidechildrens.org_HNSC.tissue_images.Level_1.190.4.0/TCGA-CV-7440-11A-01-TS1.23ad603f-28ca-41a4-85ab-305387e3c134.svs',874894) \n",
      "UNABLE TO OPEN FILE?? /TCGA_MIRROR/tcga-data.nci.nih.gov/tcgafiles/ftp_auth/distro_ftpusers/anonymous/tumor/hnsc/bcr/nationwidechildrens.org/tissue_images/slide_images/nationwidechildrens.org_HNSC.tissue_images.Level_1.190.4.0/TCGA-CV-7440-11A-01-TS1.23ad603f-28ca-41a4-85ab-305387e3c134.svs\n",
      "\r",
      "\u001b[KTotal Processed: 3646  Newly Processed: 0 Dup Slides or Already Loaded: 3475  RESCANNED Slides 25"
     ]
    },
    {
     "name": "stderr",
     "output_type": "stream",
     "text": [
      " ()\n",
      "Verify failed with:"
     ]
    },
    {
     "name": "stdout",
     "output_type": "stream",
     "text": [
      "Openslide returned an error om tje StandardError block /TCGA_MIRROR/tcga-data.nci.nih.gov/tcgafiles/ftp_auth/distro_ftpusers/anonymous/tumor/hnsc/bcr/nationwidechildrens.org/tissue_images/slide_images/nationwidechildrens.org_HNSC.tissue_images.Level_1.190.4.0/TCGA-CR-7404-01A-01-TS1.ee301de9-bfe7-4a00-810c-4912073ec2c9.svs\n",
      "SHIT IT DIED!\n",
      "insert into `corrupt_or_unreadable_svs_files` (full_file_name,filesize) Values ('/TCGA_MIRROR/tcga-data.nci.nih.gov/tcgafiles/ftp_auth/distro_ftpusers/anonymous/tumor/hnsc/bcr/nationwidechildrens.org/tissue_images/slide_images/nationwidechildrens.org_HNSC.tissue_images.Level_1.190.4.0/TCGA-CR-7404-01A-01-TS1.ee301de9-bfe7-4a00-810c-4912073ec2c9.svs',9437782) \n",
      "UNABLE TO OPEN FILE?? /TCGA_MIRROR/tcga-data.nci.nih.gov/tcgafiles/ftp_auth/distro_ftpusers/anonymous/tumor/hnsc/bcr/nationwidechildrens.org/tissue_images/slide_images/nationwidechildrens.org_HNSC.tissue_images.Level_1.190.4.0/TCGA-CR-7404-01A-01-TS1.ee301de9-bfe7-4a00-810c-4912073ec2c9.svs\n",
      "\u001b[KTotal Processed: 3650  Newly Processed: 0 Dup Slides or Already Loaded: 3478  RESCANNED Slides 25"
     ]
    },
    {
     "name": "stderr",
     "output_type": "stream",
     "text": [
      " ()\n",
      "Verify failed with:"
     ]
    },
    {
     "name": "stdout",
     "output_type": "stream",
     "text": [
      "Openslide returned an error om tje StandardError block /TCGA_MIRROR/tcga-data.nci.nih.gov/tcgafiles/ftp_auth/distro_ftpusers/anonymous/tumor/hnsc/bcr/nationwidechildrens.org/tissue_images/slide_images/nationwidechildrens.org_HNSC.tissue_images.Level_1.190.4.0/TCGA-CV-7430-11A-01-TS1.cfb96f47-a762-44b4-9ecf-c83dcce0bc38.svs\n",
      "SHIT IT DIED!\n",
      "insert into `corrupt_or_unreadable_svs_files` (full_file_name,filesize) Values ('/TCGA_MIRROR/tcga-data.nci.nih.gov/tcgafiles/ftp_auth/distro_ftpusers/anonymous/tumor/hnsc/bcr/nationwidechildrens.org/tissue_images/slide_images/nationwidechildrens.org_HNSC.tissue_images.Level_1.190.4.0/TCGA-CV-7430-11A-01-TS1.cfb96f47-a762-44b4-9ecf-c83dcce0bc38.svs',935488) \n",
      "UNABLE TO OPEN FILE?? /TCGA_MIRROR/tcga-data.nci.nih.gov/tcgafiles/ftp_auth/distro_ftpusers/anonymous/tumor/hnsc/bcr/nationwidechildrens.org/tissue_images/slide_images/nationwidechildrens.org_HNSC.tissue_images.Level_1.190.4.0/TCGA-CV-7430-11A-01-TS1.cfb96f47-a762-44b4-9ecf-c83dcce0bc38.svs\n",
      "\u001b[KTotal Processed: 3653  Newly Processed: 0 Dup Slides or Already Loaded: 3480  RESCANNED Slides 25"
     ]
    },
    {
     "name": "stderr",
     "output_type": "stream",
     "text": [
      " ()\n",
      "Verify failed with:"
     ]
    },
    {
     "name": "stdout",
     "output_type": "stream",
     "text": [
      "Openslide returned an error om tje StandardError block /TCGA_MIRROR/tcga-data.nci.nih.gov/tcgafiles/ftp_auth/distro_ftpusers/anonymous/tumor/hnsc/bcr/nationwidechildrens.org/tissue_images/slide_images/nationwidechildrens.org_HNSC.tissue_images.Level_1.190.4.0/TCGA-CV-7438-11A-01-TS1.ed88be75-1dea-43e4-97b3-6295536c5afc.svs\n",
      "SHIT IT DIED!\n",
      "insert into `corrupt_or_unreadable_svs_files` (full_file_name,filesize) Values ('/TCGA_MIRROR/tcga-data.nci.nih.gov/tcgafiles/ftp_auth/distro_ftpusers/anonymous/tumor/hnsc/bcr/nationwidechildrens.org/tissue_images/slide_images/nationwidechildrens.org_HNSC.tissue_images.Level_1.190.4.0/TCGA-CV-7438-11A-01-TS1.ed88be75-1dea-43e4-97b3-6295536c5afc.svs',866078) \n",
      "UNABLE TO OPEN FILE?? /TCGA_MIRROR/tcga-data.nci.nih.gov/tcgafiles/ftp_auth/distro_ftpusers/anonymous/tumor/hnsc/bcr/nationwidechildrens.org/tissue_images/slide_images/nationwidechildrens.org_HNSC.tissue_images.Level_1.190.4.0/TCGA-CV-7438-11A-01-TS1.ed88be75-1dea-43e4-97b3-6295536c5afc.svs\n",
      "\u001b[KTotal Processed: 3655  Newly Processed: 0 Dup Slides or Already Loaded: 3481  RESCANNED Slides 25"
     ]
    },
    {
     "name": "stderr",
     "output_type": "stream",
     "text": [
      " ()\n",
      "Verify failed with:"
     ]
    },
    {
     "name": "stdout",
     "output_type": "stream",
     "text": [
      "Openslide returned an error om tje StandardError block /TCGA_MIRROR/tcga-data.nci.nih.gov/tcgafiles/ftp_auth/distro_ftpusers/anonymous/tumor/hnsc/bcr/nationwidechildrens.org/tissue_images/slide_images/nationwidechildrens.org_HNSC.tissue_images.Level_1.190.4.0/TCGA-CV-7435-11A-01-TS1.8dc4fdf1-bbce-4786-824b-7d7d017255b8.svs\n",
      "SHIT IT DIED!\n",
      "insert into `corrupt_or_unreadable_svs_files` (full_file_name,filesize) Values ('/TCGA_MIRROR/tcga-data.nci.nih.gov/tcgafiles/ftp_auth/distro_ftpusers/anonymous/tumor/hnsc/bcr/nationwidechildrens.org/tissue_images/slide_images/nationwidechildrens.org_HNSC.tissue_images.Level_1.190.4.0/TCGA-CV-7435-11A-01-TS1.8dc4fdf1-bbce-4786-824b-7d7d017255b8.svs',915058) \n",
      "UNABLE TO OPEN FILE?? /TCGA_MIRROR/tcga-data.nci.nih.gov/tcgafiles/ftp_auth/distro_ftpusers/anonymous/tumor/hnsc/bcr/nationwidechildrens.org/tissue_images/slide_images/nationwidechildrens.org_HNSC.tissue_images.Level_1.190.4.0/TCGA-CV-7435-11A-01-TS1.8dc4fdf1-bbce-4786-824b-7d7d017255b8.svs\n",
      "\u001b[KTotal Processed: 3663  Newly Processed: 0 Dup Slides or Already Loaded: 3488  RESCANNED Slides 25"
     ]
    },
    {
     "name": "stderr",
     "output_type": "stream",
     "text": [
      " ()\n",
      "Verify failed with:"
     ]
    },
    {
     "name": "stdout",
     "output_type": "stream",
     "text": [
      "Openslide returned an error om tje StandardError block /TCGA_MIRROR/tcga-data.nci.nih.gov/tcgafiles/ftp_auth/distro_ftpusers/anonymous/tumor/hnsc/bcr/nationwidechildrens.org/tissue_images/slide_images/nationwidechildrens.org_HNSC.tissue_images.Level_1.164.5.0/TCGA-CR-7385-01A-01-TS1.78e3b7a3-f9f5-46c4-b13d-9f2b28e23d77.svs\n",
      "SHIT IT DIED!\n",
      "insert into `corrupt_or_unreadable_svs_files` (full_file_name,filesize) Values ('/TCGA_MIRROR/tcga-data.nci.nih.gov/tcgafiles/ftp_auth/distro_ftpusers/anonymous/tumor/hnsc/bcr/nationwidechildrens.org/tissue_images/slide_images/nationwidechildrens.org_HNSC.tissue_images.Level_1.164.5.0/TCGA-CR-7385-01A-01-TS1.78e3b7a3-f9f5-46c4-b13d-9f2b28e23d77.svs',8390158) \n",
      "UNABLE TO OPEN FILE?? /TCGA_MIRROR/tcga-data.nci.nih.gov/tcgafiles/ftp_auth/distro_ftpusers/anonymous/tumor/hnsc/bcr/nationwidechildrens.org/tissue_images/slide_images/nationwidechildrens.org_HNSC.tissue_images.Level_1.164.5.0/TCGA-CR-7385-01A-01-TS1.78e3b7a3-f9f5-46c4-b13d-9f2b28e23d77.svs\n",
      "\u001b[KTotal Processed: 3670  Newly Processed: 0 Dup Slides or Already Loaded: 3494  RESCANNED Slides 25"
     ]
    },
    {
     "name": "stderr",
     "output_type": "stream",
     "text": [
      " ()\n",
      "Verify failed with:"
     ]
    },
    {
     "name": "stdout",
     "output_type": "stream",
     "text": [
      "Openslide returned an error om tje StandardError block /TCGA_MIRROR/tcga-data.nci.nih.gov/tcgafiles/ftp_auth/distro_ftpusers/anonymous/tumor/hnsc/bcr/nationwidechildrens.org/tissue_images/slide_images/nationwidechildrens.org_HNSC.tissue_images.Level_1.164.5.0/TCGA-CR-7388-01A-01-TS1.472564e9-a7fe-4e01-a1fe-fc89570fb7a9.svs\n",
      "SHIT IT DIED!\n",
      "insert into `corrupt_or_unreadable_svs_files` (full_file_name,filesize) Values ('/TCGA_MIRROR/tcga-data.nci.nih.gov/tcgafiles/ftp_auth/distro_ftpusers/anonymous/tumor/hnsc/bcr/nationwidechildrens.org/tissue_images/slide_images/nationwidechildrens.org_HNSC.tissue_images.Level_1.164.5.0/TCGA-CR-7388-01A-01-TS1.472564e9-a7fe-4e01-a1fe-fc89570fb7a9.svs',8602086) \n",
      "UNABLE TO OPEN FILE?? /TCGA_MIRROR/tcga-data.nci.nih.gov/tcgafiles/ftp_auth/distro_ftpusers/anonymous/tumor/hnsc/bcr/nationwidechildrens.org/tissue_images/slide_images/nationwidechildrens.org_HNSC.tissue_images.Level_1.164.5.0/TCGA-CR-7388-01A-01-TS1.472564e9-a7fe-4e01-a1fe-fc89570fb7a9.svs\n",
      "\u001b[KTotal Processed: 3672  Newly Processed: 0 Dup Slides or Already Loaded: 3495  RESCANNED Slides 25"
     ]
    },
    {
     "name": "stderr",
     "output_type": "stream",
     "text": [
      " ()\n",
      "Verify failed with:"
     ]
    },
    {
     "name": "stdout",
     "output_type": "stream",
     "text": [
      "Openslide returned an error om tje StandardError block /TCGA_MIRROR/tcga-data.nci.nih.gov/tcgafiles/ftp_auth/distro_ftpusers/anonymous/tumor/hnsc/bcr/nationwidechildrens.org/tissue_images/slide_images/nationwidechildrens.org_HNSC.tissue_images.Level_1.164.5.0/TCGA-CR-7374-01A-01-TS1.3d964d61-9a19-468c-acc9-e0b348070cbc.svs\n",
      "SHIT IT DIED!\n",
      "insert into `corrupt_or_unreadable_svs_files` (full_file_name,filesize) Values ('/TCGA_MIRROR/tcga-data.nci.nih.gov/tcgafiles/ftp_auth/distro_ftpusers/anonymous/tumor/hnsc/bcr/nationwidechildrens.org/tissue_images/slide_images/nationwidechildrens.org_HNSC.tissue_images.Level_1.164.5.0/TCGA-CR-7374-01A-01-TS1.3d964d61-9a19-468c-acc9-e0b348070cbc.svs',5616954) \n",
      "UNABLE TO OPEN FILE?? /TCGA_MIRROR/tcga-data.nci.nih.gov/tcgafiles/ftp_auth/distro_ftpusers/anonymous/tumor/hnsc/bcr/nationwidechildrens.org/tissue_images/slide_images/nationwidechildrens.org_HNSC.tissue_images.Level_1.164.5.0/TCGA-CR-7374-01A-01-TS1.3d964d61-9a19-468c-acc9-e0b348070cbc.svs\n",
      "\u001b[KTotal Processed: 3674  Newly Processed: 0 Dup Slides or Already Loaded: 3496  RESCANNED Slides 25"
     ]
    },
    {
     "name": "stderr",
     "output_type": "stream",
     "text": [
      " ()\n",
      "Verify failed with:"
     ]
    },
    {
     "name": "stdout",
     "output_type": "stream",
     "text": [
      "Openslide returned an error om tje StandardError block /TCGA_MIRROR/tcga-data.nci.nih.gov/tcgafiles/ftp_auth/distro_ftpusers/anonymous/tumor/hnsc/bcr/nationwidechildrens.org/tissue_images/slide_images/nationwidechildrens.org_HNSC.tissue_images.Level_1.164.5.0/TCGA-CR-7390-01A-01-TS1.90a9a363-84ca-4d48-b5e9-bd34bf6b786d.svs\n",
      "SHIT IT DIED!\n",
      "insert into `corrupt_or_unreadable_svs_files` (full_file_name,filesize) Values ('/TCGA_MIRROR/tcga-data.nci.nih.gov/tcgafiles/ftp_auth/distro_ftpusers/anonymous/tumor/hnsc/bcr/nationwidechildrens.org/tissue_images/slide_images/nationwidechildrens.org_HNSC.tissue_images.Level_1.164.5.0/TCGA-CR-7390-01A-01-TS1.90a9a363-84ca-4d48-b5e9-bd34bf6b786d.svs',8382892) \n",
      "UNABLE TO OPEN FILE?? /TCGA_MIRROR/tcga-data.nci.nih.gov/tcgafiles/ftp_auth/distro_ftpusers/anonymous/tumor/hnsc/bcr/nationwidechildrens.org/tissue_images/slide_images/nationwidechildrens.org_HNSC.tissue_images.Level_1.164.5.0/TCGA-CR-7390-01A-01-TS1.90a9a363-84ca-4d48-b5e9-bd34bf6b786d.svs\n",
      "\u001b[KTotal Processed: 3680  Newly Processed: 0 Dup Slides or Already Loaded: 3501  RESCANNED Slides 25"
     ]
    },
    {
     "name": "stderr",
     "output_type": "stream",
     "text": [
      " ()\n",
      "Verify failed with:"
     ]
    },
    {
     "name": "stdout",
     "output_type": "stream",
     "text": [
      "Openslide returned an error om tje StandardError block /TCGA_MIRROR/tcga-data.nci.nih.gov/tcgafiles/ftp_auth/distro_ftpusers/anonymous/tumor/hnsc/bcr/nationwidechildrens.org/tissue_images/slide_images/nationwidechildrens.org_HNSC.tissue_images.Level_1.164.5.0/TCGA-CR-7397-01A-01-TS1.666cc25d-2190-4325-8cd1-86723bd8a364.svs\n",
      "SHIT IT DIED!\n",
      "insert into `corrupt_or_unreadable_svs_files` (full_file_name,filesize) Values ('/TCGA_MIRROR/tcga-data.nci.nih.gov/tcgafiles/ftp_auth/distro_ftpusers/anonymous/tumor/hnsc/bcr/nationwidechildrens.org/tissue_images/slide_images/nationwidechildrens.org_HNSC.tissue_images.Level_1.164.5.0/TCGA-CR-7397-01A-01-TS1.666cc25d-2190-4325-8cd1-86723bd8a364.svs',3902748) \n",
      "UNABLE TO OPEN FILE?? /TCGA_MIRROR/tcga-data.nci.nih.gov/tcgafiles/ftp_auth/distro_ftpusers/anonymous/tumor/hnsc/bcr/nationwidechildrens.org/tissue_images/slide_images/nationwidechildrens.org_HNSC.tissue_images.Level_1.164.5.0/TCGA-CR-7397-01A-01-TS1.666cc25d-2190-4325-8cd1-86723bd8a364.svs\n",
      "\r",
      "\u001b[KTotal Processed: 3681  Newly Processed: 0 Dup Slides or Already Loaded: 3501  RESCANNED Slides 25"
     ]
    },
    {
     "name": "stderr",
     "output_type": "stream",
     "text": [
      " ()\n",
      "Verify failed with:"
     ]
    },
    {
     "name": "stdout",
     "output_type": "stream",
     "text": [
      "Openslide returned an error om tje StandardError block /TCGA_MIRROR/tcga-data.nci.nih.gov/tcgafiles/ftp_auth/distro_ftpusers/anonymous/tumor/hnsc/bcr/nationwidechildrens.org/tissue_images/slide_images/nationwidechildrens.org_HNSC.tissue_images.Level_1.164.5.0/TCGA-CR-7379-01A-01-TS1.1b4881f2-f976-42b3-8f75-c5ebbc9560af.svs\n",
      "SHIT IT DIED!\n",
      "insert into `corrupt_or_unreadable_svs_files` (full_file_name,filesize) Values ('/TCGA_MIRROR/tcga-data.nci.nih.gov/tcgafiles/ftp_auth/distro_ftpusers/anonymous/tumor/hnsc/bcr/nationwidechildrens.org/tissue_images/slide_images/nationwidechildrens.org_HNSC.tissue_images.Level_1.164.5.0/TCGA-CR-7379-01A-01-TS1.1b4881f2-f976-42b3-8f75-c5ebbc9560af.svs',7578942) \n",
      "UNABLE TO OPEN FILE?? /TCGA_MIRROR/tcga-data.nci.nih.gov/tcgafiles/ftp_auth/distro_ftpusers/anonymous/tumor/hnsc/bcr/nationwidechildrens.org/tissue_images/slide_images/nationwidechildrens.org_HNSC.tissue_images.Level_1.164.5.0/TCGA-CR-7379-01A-01-TS1.1b4881f2-f976-42b3-8f75-c5ebbc9560af.svs\n",
      "\u001b[KTotal Processed: 3688  Newly Processed: 0 Dup Slides or Already Loaded: 3507  RESCANNED Slides 25"
     ]
    },
    {
     "name": "stderr",
     "output_type": "stream",
     "text": [
      " ()\n",
      "Verify failed with:"
     ]
    },
    {
     "name": "stdout",
     "output_type": "stream",
     "text": [
      "Openslide returned an error om tje StandardError block /TCGA_MIRROR/tcga-data.nci.nih.gov/tcgafiles/ftp_auth/distro_ftpusers/anonymous/tumor/hnsc/bcr/nationwidechildrens.org/tissue_images/slide_images/nationwidechildrens.org_HNSC.tissue_images.Level_1.164.5.0/TCGA-CR-7365-01A-01-TS1.811bb2b7-66e3-4694-891b-10b436ec300d.svs\n",
      "SHIT IT DIED!\n",
      "insert into `corrupt_or_unreadable_svs_files` (full_file_name,filesize) Values ('/TCGA_MIRROR/tcga-data.nci.nih.gov/tcgafiles/ftp_auth/distro_ftpusers/anonymous/tumor/hnsc/bcr/nationwidechildrens.org/tissue_images/slide_images/nationwidechildrens.org_HNSC.tissue_images.Level_1.164.5.0/TCGA-CR-7365-01A-01-TS1.811bb2b7-66e3-4694-891b-10b436ec300d.svs',8147776) \n",
      "UNABLE TO OPEN FILE?? /TCGA_MIRROR/tcga-data.nci.nih.gov/tcgafiles/ftp_auth/distro_ftpusers/anonymous/tumor/hnsc/bcr/nationwidechildrens.org/tissue_images/slide_images/nationwidechildrens.org_HNSC.tissue_images.Level_1.164.5.0/TCGA-CR-7365-01A-01-TS1.811bb2b7-66e3-4694-891b-10b436ec300d.svs\n",
      "\u001b[KTotal Processed: 3694  Newly Processed: 0 Dup Slides or Already Loaded: 3512  RESCANNED Slides 25"
     ]
    },
    {
     "name": "stderr",
     "output_type": "stream",
     "text": [
      " ()\n",
      "Verify failed with:"
     ]
    },
    {
     "name": "stdout",
     "output_type": "stream",
     "text": [
      "Openslide returned an error om tje StandardError block /TCGA_MIRROR/tcga-data.nci.nih.gov/tcgafiles/ftp_auth/distro_ftpusers/anonymous/tumor/hnsc/bcr/nationwidechildrens.org/tissue_images/slide_images/nationwidechildrens.org_HNSC.tissue_images.Level_1.164.5.0/TCGA-CR-7402-01A-01-TS1.1fd22a5f-3c69-4fc2-b5c9-7fbd01f52158.svs\n",
      "SHIT IT DIED!\n",
      "insert into `corrupt_or_unreadable_svs_files` (full_file_name,filesize) Values ('/TCGA_MIRROR/tcga-data.nci.nih.gov/tcgafiles/ftp_auth/distro_ftpusers/anonymous/tumor/hnsc/bcr/nationwidechildrens.org/tissue_images/slide_images/nationwidechildrens.org_HNSC.tissue_images.Level_1.164.5.0/TCGA-CR-7402-01A-01-TS1.1fd22a5f-3c69-4fc2-b5c9-7fbd01f52158.svs',7829698) \n",
      "UNABLE TO OPEN FILE?? /TCGA_MIRROR/tcga-data.nci.nih.gov/tcgafiles/ftp_auth/distro_ftpusers/anonymous/tumor/hnsc/bcr/nationwidechildrens.org/tissue_images/slide_images/nationwidechildrens.org_HNSC.tissue_images.Level_1.164.5.0/TCGA-CR-7402-01A-01-TS1.1fd22a5f-3c69-4fc2-b5c9-7fbd01f52158.svs\n",
      "\r",
      "\u001b[KTotal Processed: 3695  Newly Processed: 0 Dup Slides or Already Loaded: 3512  RESCANNED Slides 25"
     ]
    },
    {
     "name": "stderr",
     "output_type": "stream",
     "text": [
      " ()\n",
      "Verify failed with:"
     ]
    },
    {
     "name": "stdout",
     "output_type": "stream",
     "text": [
      "Openslide returned an error om tje StandardError block /TCGA_MIRROR/tcga-data.nci.nih.gov/tcgafiles/ftp_auth/distro_ftpusers/anonymous/tumor/hnsc/bcr/nationwidechildrens.org/tissue_images/slide_images/nationwidechildrens.org_HNSC.tissue_images.Level_1.164.5.0/TCGA-CR-7401-01A-01-TS1.5473cd39-dca7-4bd3-8410-13d36a2e9eda.svs\n",
      "SHIT IT DIED!\n",
      "insert into `corrupt_or_unreadable_svs_files` (full_file_name,filesize) Values ('/TCGA_MIRROR/tcga-data.nci.nih.gov/tcgafiles/ftp_auth/distro_ftpusers/anonymous/tumor/hnsc/bcr/nationwidechildrens.org/tissue_images/slide_images/nationwidechildrens.org_HNSC.tissue_images.Level_1.164.5.0/TCGA-CR-7401-01A-01-TS1.5473cd39-dca7-4bd3-8410-13d36a2e9eda.svs',7917322) \n",
      "UNABLE TO OPEN FILE?? /TCGA_MIRROR/tcga-data.nci.nih.gov/tcgafiles/ftp_auth/distro_ftpusers/anonymous/tumor/hnsc/bcr/nationwidechildrens.org/tissue_images/slide_images/nationwidechildrens.org_HNSC.tissue_images.Level_1.164.5.0/TCGA-CR-7401-01A-01-TS1.5473cd39-dca7-4bd3-8410-13d36a2e9eda.svs\n",
      "\u001b[KTotal Processed: 3700  Newly Processed: 0 Dup Slides or Already Loaded: 3516  RESCANNED Slides 25"
     ]
    },
    {
     "name": "stderr",
     "output_type": "stream",
     "text": [
      " ()\n",
      "Verify failed with:"
     ]
    },
    {
     "name": "stdout",
     "output_type": "stream",
     "text": [
      "Openslide returned an error om tje StandardError block /TCGA_MIRROR/tcga-data.nci.nih.gov/tcgafiles/ftp_auth/distro_ftpusers/anonymous/tumor/hnsc/bcr/nationwidechildrens.org/tissue_images/slide_images/nationwidechildrens.org_HNSC.tissue_images.Level_1.164.5.0/TCGA-CR-7372-01A-01-TS1.ef52049e-f636-4d1d-bfb0-58cf853ab420.svs\n",
      "SHIT IT DIED!\n",
      "insert into `corrupt_or_unreadable_svs_files` (full_file_name,filesize) Values ('/TCGA_MIRROR/tcga-data.nci.nih.gov/tcgafiles/ftp_auth/distro_ftpusers/anonymous/tumor/hnsc/bcr/nationwidechildrens.org/tissue_images/slide_images/nationwidechildrens.org_HNSC.tissue_images.Level_1.164.5.0/TCGA-CR-7372-01A-01-TS1.ef52049e-f636-4d1d-bfb0-58cf853ab420.svs',9517398) \n",
      "UNABLE TO OPEN FILE?? /TCGA_MIRROR/tcga-data.nci.nih.gov/tcgafiles/ftp_auth/distro_ftpusers/anonymous/tumor/hnsc/bcr/nationwidechildrens.org/tissue_images/slide_images/nationwidechildrens.org_HNSC.tissue_images.Level_1.164.5.0/TCGA-CR-7372-01A-01-TS1.ef52049e-f636-4d1d-bfb0-58cf853ab420.svs\n",
      "\u001b[KTotal Processed: 3702  Newly Processed: 0 Dup Slides or Already Loaded: 3517  RESCANNED Slides 25"
     ]
    },
    {
     "name": "stderr",
     "output_type": "stream",
     "text": [
      " ()\n",
      "Verify failed with:"
     ]
    },
    {
     "name": "stdout",
     "output_type": "stream",
     "text": [
      "Openslide returned an error om tje StandardError block /TCGA_MIRROR/tcga-data.nci.nih.gov/tcgafiles/ftp_auth/distro_ftpusers/anonymous/tumor/hnsc/bcr/nationwidechildrens.org/tissue_images/slide_images/nationwidechildrens.org_HNSC.tissue_images.Level_1.164.5.0/TCGA-CR-7394-01A-01-TS1.2a55e850-94b8-4e8c-a246-55661a96ecdb.svs\n",
      "SHIT IT DIED!\n",
      "insert into `corrupt_or_unreadable_svs_files` (full_file_name,filesize) Values ('/TCGA_MIRROR/tcga-data.nci.nih.gov/tcgafiles/ftp_auth/distro_ftpusers/anonymous/tumor/hnsc/bcr/nationwidechildrens.org/tissue_images/slide_images/nationwidechildrens.org_HNSC.tissue_images.Level_1.164.5.0/TCGA-CR-7394-01A-01-TS1.2a55e850-94b8-4e8c-a246-55661a96ecdb.svs',7529414) \n",
      "UNABLE TO OPEN FILE?? /TCGA_MIRROR/tcga-data.nci.nih.gov/tcgafiles/ftp_auth/distro_ftpusers/anonymous/tumor/hnsc/bcr/nationwidechildrens.org/tissue_images/slide_images/nationwidechildrens.org_HNSC.tissue_images.Level_1.164.5.0/TCGA-CR-7394-01A-01-TS1.2a55e850-94b8-4e8c-a246-55661a96ecdb.svs\n",
      "\u001b[KTotal Processed: 3704  Newly Processed: 0 Dup Slides or Already Loaded: 3518  RESCANNED Slides 25"
     ]
    },
    {
     "name": "stderr",
     "output_type": "stream",
     "text": [
      " ()\n",
      "Verify failed with:"
     ]
    },
    {
     "name": "stdout",
     "output_type": "stream",
     "text": [
      "Openslide returned an error om tje StandardError block /TCGA_MIRROR/tcga-data.nci.nih.gov/tcgafiles/ftp_auth/distro_ftpusers/anonymous/tumor/hnsc/bcr/nationwidechildrens.org/tissue_images/slide_images/nationwidechildrens.org_HNSC.tissue_images.Level_1.164.5.0/TCGA-CR-7373-01A-01-TS1.2dda5c57-eb9e-4edb-aa70-cd91ac8bde70.svs\n",
      "SHIT IT DIED!\n",
      "insert into `corrupt_or_unreadable_svs_files` (full_file_name,filesize) Values ('/TCGA_MIRROR/tcga-data.nci.nih.gov/tcgafiles/ftp_auth/distro_ftpusers/anonymous/tumor/hnsc/bcr/nationwidechildrens.org/tissue_images/slide_images/nationwidechildrens.org_HNSC.tissue_images.Level_1.164.5.0/TCGA-CR-7373-01A-01-TS1.2dda5c57-eb9e-4edb-aa70-cd91ac8bde70.svs',7507622) \n",
      "UNABLE TO OPEN FILE?? /TCGA_MIRROR/tcga-data.nci.nih.gov/tcgafiles/ftp_auth/distro_ftpusers/anonymous/tumor/hnsc/bcr/nationwidechildrens.org/tissue_images/slide_images/nationwidechildrens.org_HNSC.tissue_images.Level_1.164.5.0/TCGA-CR-7373-01A-01-TS1.2dda5c57-eb9e-4edb-aa70-cd91ac8bde70.svs\n",
      "\u001b[KTotal Processed: 3706  Newly Processed: 0 Dup Slides or Already Loaded: 3519  RESCANNED Slides 25"
     ]
    },
    {
     "name": "stderr",
     "output_type": "stream",
     "text": [
      " ()\n",
      "Verify failed with:"
     ]
    },
    {
     "name": "stdout",
     "output_type": "stream",
     "text": [
      "Openslide returned an error om tje StandardError block /TCGA_MIRROR/tcga-data.nci.nih.gov/tcgafiles/ftp_auth/distro_ftpusers/anonymous/tumor/hnsc/bcr/nationwidechildrens.org/tissue_images/slide_images/nationwidechildrens.org_HNSC.tissue_images.Level_1.164.5.0/TCGA-CR-7395-01A-01-TS1.844e558f-3325-40d4-b294-219b31c66e74.svs\n",
      "SHIT IT DIED!\n",
      "insert into `corrupt_or_unreadable_svs_files` (full_file_name,filesize) Values ('/TCGA_MIRROR/tcga-data.nci.nih.gov/tcgafiles/ftp_auth/distro_ftpusers/anonymous/tumor/hnsc/bcr/nationwidechildrens.org/tissue_images/slide_images/nationwidechildrens.org_HNSC.tissue_images.Level_1.164.5.0/TCGA-CR-7395-01A-01-TS1.844e558f-3325-40d4-b294-219b31c66e74.svs',3901814) \n",
      "UNABLE TO OPEN FILE?? /TCGA_MIRROR/tcga-data.nci.nih.gov/tcgafiles/ftp_auth/distro_ftpusers/anonymous/tumor/hnsc/bcr/nationwidechildrens.org/tissue_images/slide_images/nationwidechildrens.org_HNSC.tissue_images.Level_1.164.5.0/TCGA-CR-7395-01A-01-TS1.844e558f-3325-40d4-b294-219b31c66e74.svs\n",
      "\u001b[KTotal Processed: 3710  Newly Processed: 0 Dup Slides or Already Loaded: 3522  RESCANNED Slides 25"
     ]
    },
    {
     "name": "stderr",
     "output_type": "stream",
     "text": [
      " ()\n",
      "Verify failed with:"
     ]
    },
    {
     "name": "stdout",
     "output_type": "stream",
     "text": [
      "Openslide returned an error om tje StandardError block /TCGA_MIRROR/tcga-data.nci.nih.gov/tcgafiles/ftp_auth/distro_ftpusers/anonymous/tumor/hnsc/bcr/nationwidechildrens.org/tissue_images/slide_images/nationwidechildrens.org_HNSC.tissue_images.Level_1.164.5.0/TCGA-CR-7364-01A-01-TS1.5130155c-8da3-495d-8e17-66fd0656af46.svs\n",
      "SHIT IT DIED!\n",
      "insert into `corrupt_or_unreadable_svs_files` (full_file_name,filesize) Values ('/TCGA_MIRROR/tcga-data.nci.nih.gov/tcgafiles/ftp_auth/distro_ftpusers/anonymous/tumor/hnsc/bcr/nationwidechildrens.org/tissue_images/slide_images/nationwidechildrens.org_HNSC.tissue_images.Level_1.164.5.0/TCGA-CR-7364-01A-01-TS1.5130155c-8da3-495d-8e17-66fd0656af46.svs',7595536) \n",
      "UNABLE TO OPEN FILE?? /TCGA_MIRROR/tcga-data.nci.nih.gov/tcgafiles/ftp_auth/distro_ftpusers/anonymous/tumor/hnsc/bcr/nationwidechildrens.org/tissue_images/slide_images/nationwidechildrens.org_HNSC.tissue_images.Level_1.164.5.0/TCGA-CR-7364-01A-01-TS1.5130155c-8da3-495d-8e17-66fd0656af46.svs\n",
      "\u001b[KTotal Processed: 3719  Newly Processed: 0 Dup Slides or Already Loaded: 3530  RESCANNED Slides 25"
     ]
    },
    {
     "name": "stderr",
     "output_type": "stream",
     "text": [
      " ()\n",
      "Verify failed with:"
     ]
    },
    {
     "name": "stdout",
     "output_type": "stream",
     "text": [
      "Openslide returned an error om tje StandardError block /TCGA_MIRROR/tcga-data.nci.nih.gov/tcgafiles/ftp_auth/distro_ftpusers/anonymous/tumor/hnsc/bcr/nationwidechildrens.org/tissue_images/slide_images/nationwidechildrens.org_HNSC.tissue_images.Level_1.164.5.0/TCGA-CR-7371-01A-01-TS1.796eb4e3-4479-4e3c-b210-2d4f271b5ce7.svs\n",
      "SHIT IT DIED!\n",
      "insert into `corrupt_or_unreadable_svs_files` (full_file_name,filesize) Values ('/TCGA_MIRROR/tcga-data.nci.nih.gov/tcgafiles/ftp_auth/distro_ftpusers/anonymous/tumor/hnsc/bcr/nationwidechildrens.org/tissue_images/slide_images/nationwidechildrens.org_HNSC.tissue_images.Level_1.164.5.0/TCGA-CR-7371-01A-01-TS1.796eb4e3-4479-4e3c-b210-2d4f271b5ce7.svs',8681986) \n",
      "UNABLE TO OPEN FILE?? /TCGA_MIRROR/tcga-data.nci.nih.gov/tcgafiles/ftp_auth/distro_ftpusers/anonymous/tumor/hnsc/bcr/nationwidechildrens.org/tissue_images/slide_images/nationwidechildrens.org_HNSC.tissue_images.Level_1.164.5.0/TCGA-CR-7371-01A-01-TS1.796eb4e3-4479-4e3c-b210-2d4f271b5ce7.svs\n",
      "\u001b[KTotal Processed: 3723  Newly Processed: 0 Dup Slides or Already Loaded: 3533  RESCANNED Slides 25"
     ]
    },
    {
     "name": "stderr",
     "output_type": "stream",
     "text": [
      " ()\n",
      "Verify failed with:"
     ]
    },
    {
     "name": "stdout",
     "output_type": "stream",
     "text": [
      "Openslide returned an error om tje StandardError block /TCGA_MIRROR/tcga-data.nci.nih.gov/tcgafiles/ftp_auth/distro_ftpusers/anonymous/tumor/hnsc/bcr/nationwidechildrens.org/tissue_images/slide_images/nationwidechildrens.org_HNSC.tissue_images.Level_1.164.5.0/TCGA-CR-7380-01A-01-TS1.486d7d24-0e06-4e85-8555-9244219d2ffc.svs\n",
      "SHIT IT DIED!\n",
      "insert into `corrupt_or_unreadable_svs_files` (full_file_name,filesize) Values ('/TCGA_MIRROR/tcga-data.nci.nih.gov/tcgafiles/ftp_auth/distro_ftpusers/anonymous/tumor/hnsc/bcr/nationwidechildrens.org/tissue_images/slide_images/nationwidechildrens.org_HNSC.tissue_images.Level_1.164.5.0/TCGA-CR-7380-01A-01-TS1.486d7d24-0e06-4e85-8555-9244219d2ffc.svs',6616176) \n",
      "UNABLE TO OPEN FILE?? /TCGA_MIRROR/tcga-data.nci.nih.gov/tcgafiles/ftp_auth/distro_ftpusers/anonymous/tumor/hnsc/bcr/nationwidechildrens.org/tissue_images/slide_images/nationwidechildrens.org_HNSC.tissue_images.Level_1.164.5.0/TCGA-CR-7380-01A-01-TS1.486d7d24-0e06-4e85-8555-9244219d2ffc.svs\n",
      "\u001b[KTotal Processed: 3731  Newly Processed: 0 Dup Slides or Already Loaded: 3540  RESCANNED Slides 25"
     ]
    },
    {
     "name": "stderr",
     "output_type": "stream",
     "text": [
      " ()\n",
      "Verify failed with:"
     ]
    },
    {
     "name": "stdout",
     "output_type": "stream",
     "text": [
      "Openslide returned an error om tje StandardError block /TCGA_MIRROR/tcga-data.nci.nih.gov/tcgafiles/ftp_auth/distro_ftpusers/anonymous/tumor/hnsc/bcr/nationwidechildrens.org/tissue_images/slide_images/nationwidechildrens.org_HNSC.tissue_images.Level_1.164.5.0/TCGA-CR-7386-01A-01-TS1.ffcf78f3-b25a-46d2-9d38-69185654c9a5.svs\n",
      "SHIT IT DIED!\n",
      "insert into `corrupt_or_unreadable_svs_files` (full_file_name,filesize) Values ('/TCGA_MIRROR/tcga-data.nci.nih.gov/tcgafiles/ftp_auth/distro_ftpusers/anonymous/tumor/hnsc/bcr/nationwidechildrens.org/tissue_images/slide_images/nationwidechildrens.org_HNSC.tissue_images.Level_1.164.5.0/TCGA-CR-7386-01A-01-TS1.ffcf78f3-b25a-46d2-9d38-69185654c9a5.svs',9577100) \n",
      "UNABLE TO OPEN FILE?? /TCGA_MIRROR/tcga-data.nci.nih.gov/tcgafiles/ftp_auth/distro_ftpusers/anonymous/tumor/hnsc/bcr/nationwidechildrens.org/tissue_images/slide_images/nationwidechildrens.org_HNSC.tissue_images.Level_1.164.5.0/TCGA-CR-7386-01A-01-TS1.ffcf78f3-b25a-46d2-9d38-69185654c9a5.svs\n",
      "\u001b[KTotal Processed: 3733  Newly Processed: 0 Dup Slides or Already Loaded: 3541  RESCANNED Slides 25"
     ]
    },
    {
     "name": "stderr",
     "output_type": "stream",
     "text": [
      " ()\n",
      "Verify failed with:"
     ]
    },
    {
     "name": "stdout",
     "output_type": "stream",
     "text": [
      "Openslide returned an error om tje StandardError block /TCGA_MIRROR/tcga-data.nci.nih.gov/tcgafiles/ftp_auth/distro_ftpusers/anonymous/tumor/hnsc/bcr/nationwidechildrens.org/tissue_images/slide_images/nationwidechildrens.org_HNSC.tissue_images.Level_1.164.5.0/TCGA-CR-7389-01A-01-TS1.accbf255-8c8f-45a1-b8c4-076bce17a3d5.svs\n",
      "SHIT IT DIED!\n",
      "insert into `corrupt_or_unreadable_svs_files` (full_file_name,filesize) Values ('/TCGA_MIRROR/tcga-data.nci.nih.gov/tcgafiles/ftp_auth/distro_ftpusers/anonymous/tumor/hnsc/bcr/nationwidechildrens.org/tissue_images/slide_images/nationwidechildrens.org_HNSC.tissue_images.Level_1.164.5.0/TCGA-CR-7389-01A-01-TS1.accbf255-8c8f-45a1-b8c4-076bce17a3d5.svs',1502485) \n",
      "UNABLE TO OPEN FILE?? /TCGA_MIRROR/tcga-data.nci.nih.gov/tcgafiles/ftp_auth/distro_ftpusers/anonymous/tumor/hnsc/bcr/nationwidechildrens.org/tissue_images/slide_images/nationwidechildrens.org_HNSC.tissue_images.Level_1.164.5.0/TCGA-CR-7389-01A-01-TS1.accbf255-8c8f-45a1-b8c4-076bce17a3d5.svs\n",
      "\u001b[KTotal Processed: 3737  Newly Processed: 0 Dup Slides or Already Loaded: 3544  RESCANNED Slides 25"
     ]
    },
    {
     "name": "stderr",
     "output_type": "stream",
     "text": [
      " ()\n",
      "Verify failed with:"
     ]
    },
    {
     "name": "stdout",
     "output_type": "stream",
     "text": [
      "Openslide returned an error om tje StandardError block /TCGA_MIRROR/tcga-data.nci.nih.gov/tcgafiles/ftp_auth/distro_ftpusers/anonymous/tumor/hnsc/bcr/nationwidechildrens.org/tissue_images/slide_images/nationwidechildrens.org_HNSC.tissue_images.Level_1.164.5.0/TCGA-CR-7393-01A-01-TS1.d1befa29-b24c-4b24-b0c0-2740c9012e01.svs\n",
      "SHIT IT DIED!\n",
      "insert into `corrupt_or_unreadable_svs_files` (full_file_name,filesize) Values ('/TCGA_MIRROR/tcga-data.nci.nih.gov/tcgafiles/ftp_auth/distro_ftpusers/anonymous/tumor/hnsc/bcr/nationwidechildrens.org/tissue_images/slide_images/nationwidechildrens.org_HNSC.tissue_images.Level_1.164.5.0/TCGA-CR-7393-01A-01-TS1.d1befa29-b24c-4b24-b0c0-2740c9012e01.svs',8786500) \n",
      "UNABLE TO OPEN FILE?? /TCGA_MIRROR/tcga-data.nci.nih.gov/tcgafiles/ftp_auth/distro_ftpusers/anonymous/tumor/hnsc/bcr/nationwidechildrens.org/tissue_images/slide_images/nationwidechildrens.org_HNSC.tissue_images.Level_1.164.5.0/TCGA-CR-7393-01A-01-TS1.d1befa29-b24c-4b24-b0c0-2740c9012e01.svs\n",
      "\u001b[KTotal Processed: 3748  Newly Processed: 0 Dup Slides or Already Loaded: 3554  RESCANNED Slides 25"
     ]
    },
    {
     "name": "stderr",
     "output_type": "stream",
     "text": [
      " ()\n",
      "Verify failed with:"
     ]
    },
    {
     "name": "stdout",
     "output_type": "stream",
     "text": [
      "Openslide returned an error om tje StandardError block /TCGA_MIRROR/tcga-data.nci.nih.gov/tcgafiles/ftp_auth/distro_ftpusers/anonymous/tumor/hnsc/bcr/nationwidechildrens.org/tissue_images/slide_images/nationwidechildrens.org_HNSC.tissue_images.Level_1.164.5.0/TCGA-CR-7398-01A-01-TS1.3aef998b-046a-4d86-a8ee-42e771bc6d6d.svs\n",
      "SHIT IT DIED!\n",
      "insert into `corrupt_or_unreadable_svs_files` (full_file_name,filesize) Values ('/TCGA_MIRROR/tcga-data.nci.nih.gov/tcgafiles/ftp_auth/distro_ftpusers/anonymous/tumor/hnsc/bcr/nationwidechildrens.org/tissue_images/slide_images/nationwidechildrens.org_HNSC.tissue_images.Level_1.164.5.0/TCGA-CR-7398-01A-01-TS1.3aef998b-046a-4d86-a8ee-42e771bc6d6d.svs',8310986) \n",
      "UNABLE TO OPEN FILE?? /TCGA_MIRROR/tcga-data.nci.nih.gov/tcgafiles/ftp_auth/distro_ftpusers/anonymous/tumor/hnsc/bcr/nationwidechildrens.org/tissue_images/slide_images/nationwidechildrens.org_HNSC.tissue_images.Level_1.164.5.0/TCGA-CR-7398-01A-01-TS1.3aef998b-046a-4d86-a8ee-42e771bc6d6d.svs\n",
      "\u001b[KTotal Processed: 3760  Newly Processed: 0 Dup Slides or Already Loaded: 3565  RESCANNED Slides 25"
     ]
    },
    {
     "name": "stderr",
     "output_type": "stream",
     "text": [
      " ()\n",
      "Verify failed with:"
     ]
    },
    {
     "name": "stdout",
     "output_type": "stream",
     "text": [
      "Openslide returned an error om tje StandardError block /TCGA_MIRROR/tcga-data.nci.nih.gov/tcgafiles/ftp_auth/distro_ftpusers/anonymous/tumor/hnsc/bcr/nationwidechildrens.org/tissue_images/slide_images/nationwidechildrens.org_HNSC.tissue_images.Level_1.164.5.0/TCGA-CR-7399-01A-01-TS1.b87c5422-1239-4ffd-ba83-5969e2c2d9ce.svs\n",
      "SHIT IT DIED!\n",
      "insert into `corrupt_or_unreadable_svs_files` (full_file_name,filesize) Values ('/TCGA_MIRROR/tcga-data.nci.nih.gov/tcgafiles/ftp_auth/distro_ftpusers/anonymous/tumor/hnsc/bcr/nationwidechildrens.org/tissue_images/slide_images/nationwidechildrens.org_HNSC.tissue_images.Level_1.164.5.0/TCGA-CR-7399-01A-01-TS1.b87c5422-1239-4ffd-ba83-5969e2c2d9ce.svs',8292346) \n",
      "UNABLE TO OPEN FILE?? /TCGA_MIRROR/tcga-data.nci.nih.gov/tcgafiles/ftp_auth/distro_ftpusers/anonymous/tumor/hnsc/bcr/nationwidechildrens.org/tissue_images/slide_images/nationwidechildrens.org_HNSC.tissue_images.Level_1.164.5.0/TCGA-CR-7399-01A-01-TS1.b87c5422-1239-4ffd-ba83-5969e2c2d9ce.svs\n",
      "\u001b[KTotal Processed: 3765  Newly Processed: 0 Dup Slides or Already Loaded: 3569  RESCANNED Slides 25"
     ]
    },
    {
     "name": "stderr",
     "output_type": "stream",
     "text": [
      " ()\n",
      "Verify failed with:"
     ]
    },
    {
     "name": "stdout",
     "output_type": "stream",
     "text": [
      "Openslide returned an error om tje StandardError block /TCGA_MIRROR/tcga-data.nci.nih.gov/tcgafiles/ftp_auth/distro_ftpusers/anonymous/tumor/hnsc/bcr/nationwidechildrens.org/tissue_images/slide_images/nationwidechildrens.org_HNSC.tissue_images.Level_1.164.5.0/TCGA-CR-7391-01A-01-TS1.2d58313c-c239-4ff5-90bb-114a8b219ef7.svs\n",
      "SHIT IT DIED!\n",
      "insert into `corrupt_or_unreadable_svs_files` (full_file_name,filesize) Values ('/TCGA_MIRROR/tcga-data.nci.nih.gov/tcgafiles/ftp_auth/distro_ftpusers/anonymous/tumor/hnsc/bcr/nationwidechildrens.org/tissue_images/slide_images/nationwidechildrens.org_HNSC.tissue_images.Level_1.164.5.0/TCGA-CR-7391-01A-01-TS1.2d58313c-c239-4ff5-90bb-114a8b219ef7.svs',7115740) \n",
      "UNABLE TO OPEN FILE?? /TCGA_MIRROR/tcga-data.nci.nih.gov/tcgafiles/ftp_auth/distro_ftpusers/anonymous/tumor/hnsc/bcr/nationwidechildrens.org/tissue_images/slide_images/nationwidechildrens.org_HNSC.tissue_images.Level_1.164.5.0/TCGA-CR-7391-01A-01-TS1.2d58313c-c239-4ff5-90bb-114a8b219ef7.svs\n",
      "\u001b[KTotal Processed: 3767  Newly Processed: 0 Dup Slides or Already Loaded: 3570  RESCANNED Slides 25"
     ]
    },
    {
     "name": "stderr",
     "output_type": "stream",
     "text": [
      " ()\n",
      "Verify failed with:"
     ]
    },
    {
     "name": "stdout",
     "output_type": "stream",
     "text": [
      "Openslide returned an error om tje StandardError block /TCGA_MIRROR/tcga-data.nci.nih.gov/tcgafiles/ftp_auth/distro_ftpusers/anonymous/tumor/hnsc/bcr/nationwidechildrens.org/tissue_images/slide_images/nationwidechildrens.org_HNSC.tissue_images.Level_1.164.5.0/TCGA-CR-7392-01A-01-TS1.7ca616f1-56b4-4a0c-904f-06a69e736812.svs\n",
      "SHIT IT DIED!\n",
      "insert into `corrupt_or_unreadable_svs_files` (full_file_name,filesize) Values ('/TCGA_MIRROR/tcga-data.nci.nih.gov/tcgafiles/ftp_auth/distro_ftpusers/anonymous/tumor/hnsc/bcr/nationwidechildrens.org/tissue_images/slide_images/nationwidechildrens.org_HNSC.tissue_images.Level_1.164.5.0/TCGA-CR-7392-01A-01-TS1.7ca616f1-56b4-4a0c-904f-06a69e736812.svs',8714796) \n",
      "UNABLE TO OPEN FILE?? /TCGA_MIRROR/tcga-data.nci.nih.gov/tcgafiles/ftp_auth/distro_ftpusers/anonymous/tumor/hnsc/bcr/nationwidechildrens.org/tissue_images/slide_images/nationwidechildrens.org_HNSC.tissue_images.Level_1.164.5.0/TCGA-CR-7392-01A-01-TS1.7ca616f1-56b4-4a0c-904f-06a69e736812.svs\n",
      "\u001b[KTotal Processed: 3778  Newly Processed: 0 Dup Slides or Already Loaded: 3580  RESCANNED Slides 25"
     ]
    },
    {
     "name": "stderr",
     "output_type": "stream",
     "text": [
      " ()\n",
      "Verify failed with:"
     ]
    },
    {
     "name": "stdout",
     "output_type": "stream",
     "text": [
      "Openslide returned an error om tje StandardError block /TCGA_MIRROR/tcga-data.nci.nih.gov/tcgafiles/ftp_auth/distro_ftpusers/anonymous/tumor/hnsc/bcr/nationwidechildrens.org/tissue_images/slide_images/nationwidechildrens.org_HNSC.tissue_images.Level_1.164.5.0/TCGA-CR-7377-01A-01-TS1.45dd6071-5078-4807-a090-bf38fe6931c3.svs\n",
      "SHIT IT DIED!\n",
      "insert into `corrupt_or_unreadable_svs_files` (full_file_name,filesize) Values ('/TCGA_MIRROR/tcga-data.nci.nih.gov/tcgafiles/ftp_auth/distro_ftpusers/anonymous/tumor/hnsc/bcr/nationwidechildrens.org/tissue_images/slide_images/nationwidechildrens.org_HNSC.tissue_images.Level_1.164.5.0/TCGA-CR-7377-01A-01-TS1.45dd6071-5078-4807-a090-bf38fe6931c3.svs',8332454) \n",
      "UNABLE TO OPEN FILE?? /TCGA_MIRROR/tcga-data.nci.nih.gov/tcgafiles/ftp_auth/distro_ftpusers/anonymous/tumor/hnsc/bcr/nationwidechildrens.org/tissue_images/slide_images/nationwidechildrens.org_HNSC.tissue_images.Level_1.164.5.0/TCGA-CR-7377-01A-01-TS1.45dd6071-5078-4807-a090-bf38fe6931c3.svs\n",
      "\u001b[KTotal Processed: 3780  Newly Processed: 0 Dup Slides or Already Loaded: 3581  RESCANNED Slides 25"
     ]
    },
    {
     "name": "stderr",
     "output_type": "stream",
     "text": [
      " ()\n",
      "Verify failed with:"
     ]
    },
    {
     "name": "stdout",
     "output_type": "stream",
     "text": [
      "Openslide returned an error om tje StandardError block /TCGA_MIRROR/tcga-data.nci.nih.gov/tcgafiles/ftp_auth/distro_ftpusers/anonymous/tumor/hnsc/bcr/nationwidechildrens.org/tissue_images/slide_images/nationwidechildrens.org_HNSC.tissue_images.Level_1.164.5.0/TCGA-CR-7367-01A-01-TS1.8c33cb41-d972-4906-8664-b8332d6658c5.svs\n",
      "SHIT IT DIED!\n",
      "insert into `corrupt_or_unreadable_svs_files` (full_file_name,filesize) Values ('/TCGA_MIRROR/tcga-data.nci.nih.gov/tcgafiles/ftp_auth/distro_ftpusers/anonymous/tumor/hnsc/bcr/nationwidechildrens.org/tissue_images/slide_images/nationwidechildrens.org_HNSC.tissue_images.Level_1.164.5.0/TCGA-CR-7367-01A-01-TS1.8c33cb41-d972-4906-8664-b8332d6658c5.svs',7518242) \n",
      "UNABLE TO OPEN FILE?? /TCGA_MIRROR/tcga-data.nci.nih.gov/tcgafiles/ftp_auth/distro_ftpusers/anonymous/tumor/hnsc/bcr/nationwidechildrens.org/tissue_images/slide_images/nationwidechildrens.org_HNSC.tissue_images.Level_1.164.5.0/TCGA-CR-7367-01A-01-TS1.8c33cb41-d972-4906-8664-b8332d6658c5.svs\n",
      "\u001b[KTotal Processed: 3971  Newly Processed: 0 Dup Slides or Already Loaded: 3771  RESCANNED Slides 25"
     ]
    },
    {
     "name": "stderr",
     "output_type": "stream",
     "text": [
      " ()\n",
      "Verify failed with:"
     ]
    },
    {
     "name": "stdout",
     "output_type": "stream",
     "text": [
      "Openslide returned an error om tje StandardError block /TCGA_MIRROR/tcga-data.nci.nih.gov/tcgafiles/ftp_auth/distro_ftpusers/anonymous/tumor/hnsc/bcr/nationwidechildrens.org/tissue_images/slide_images/nationwidechildrens.org_HNSC.tissue_images.Level_1.188.2.0/TCGA-CV-7418-11A-01-TS1.56a0f884-ee89-4c39-8ae9-339fcd7dd5a3.svs\n",
      "SHIT IT DIED!\n",
      "insert into `corrupt_or_unreadable_svs_files` (full_file_name,filesize) Values ('/TCGA_MIRROR/tcga-data.nci.nih.gov/tcgafiles/ftp_auth/distro_ftpusers/anonymous/tumor/hnsc/bcr/nationwidechildrens.org/tissue_images/slide_images/nationwidechildrens.org_HNSC.tissue_images.Level_1.188.2.0/TCGA-CV-7418-11A-01-TS1.56a0f884-ee89-4c39-8ae9-339fcd7dd5a3.svs',820666) \n",
      "UNABLE TO OPEN FILE?? /TCGA_MIRROR/tcga-data.nci.nih.gov/tcgafiles/ftp_auth/distro_ftpusers/anonymous/tumor/hnsc/bcr/nationwidechildrens.org/tissue_images/slide_images/nationwidechildrens.org_HNSC.tissue_images.Level_1.188.2.0/TCGA-CV-7418-11A-01-TS1.56a0f884-ee89-4c39-8ae9-339fcd7dd5a3.svs\n",
      "\u001b[KTotal Processed: 3980  Newly Processed: 0 Dup Slides or Already Loaded: 3779  RESCANNED Slides 25"
     ]
    },
    {
     "name": "stderr",
     "output_type": "stream",
     "text": [
      " ()\n",
      "Verify failed with:"
     ]
    },
    {
     "name": "stdout",
     "output_type": "stream",
     "text": [
      "Openslide returned an error om tje StandardError block /TCGA_MIRROR/tcga-data.nci.nih.gov/tcgafiles/ftp_auth/distro_ftpusers/anonymous/tumor/hnsc/bcr/nationwidechildrens.org/tissue_images/slide_images/nationwidechildrens.org_HNSC.tissue_images.Level_1.188.2.0/TCGA-CV-7424-11A-01-TS1.24110795-f22d-423e-aa10-25ef5971306e.svs\n",
      "SHIT IT DIED!\n",
      "insert into `corrupt_or_unreadable_svs_files` (full_file_name,filesize) Values ('/TCGA_MIRROR/tcga-data.nci.nih.gov/tcgafiles/ftp_auth/distro_ftpusers/anonymous/tumor/hnsc/bcr/nationwidechildrens.org/tissue_images/slide_images/nationwidechildrens.org_HNSC.tissue_images.Level_1.188.2.0/TCGA-CV-7424-11A-01-TS1.24110795-f22d-423e-aa10-25ef5971306e.svs',911920) \n",
      "UNABLE TO OPEN FILE?? /TCGA_MIRROR/tcga-data.nci.nih.gov/tcgafiles/ftp_auth/distro_ftpusers/anonymous/tumor/hnsc/bcr/nationwidechildrens.org/tissue_images/slide_images/nationwidechildrens.org_HNSC.tissue_images.Level_1.188.2.0/TCGA-CV-7424-11A-01-TS1.24110795-f22d-423e-aa10-25ef5971306e.svs\n",
      "\u001b[KTotal Processed: 3983  Newly Processed: 0 Dup Slides or Already Loaded: 3781  RESCANNED Slides 25"
     ]
    },
    {
     "name": "stderr",
     "output_type": "stream",
     "text": [
      " ()\n",
      "Verify failed with:"
     ]
    },
    {
     "name": "stdout",
     "output_type": "stream",
     "text": [
      "Openslide returned an error om tje StandardError block /TCGA_MIRROR/tcga-data.nci.nih.gov/tcgafiles/ftp_auth/distro_ftpusers/anonymous/tumor/hnsc/bcr/nationwidechildrens.org/tissue_images/slide_images/nationwidechildrens.org_HNSC.tissue_images.Level_1.188.2.0/TCGA-CV-7416-11A-01-TS1.0ac55be2-8dff-4513-9c50-c201db22af5f.svs\n",
      "SHIT IT DIED!\n",
      "insert into `corrupt_or_unreadable_svs_files` (full_file_name,filesize) Values ('/TCGA_MIRROR/tcga-data.nci.nih.gov/tcgafiles/ftp_auth/distro_ftpusers/anonymous/tumor/hnsc/bcr/nationwidechildrens.org/tissue_images/slide_images/nationwidechildrens.org_HNSC.tissue_images.Level_1.188.2.0/TCGA-CV-7416-11A-01-TS1.0ac55be2-8dff-4513-9c50-c201db22af5f.svs',991534) \n",
      "UNABLE TO OPEN FILE?? /TCGA_MIRROR/tcga-data.nci.nih.gov/tcgafiles/ftp_auth/distro_ftpusers/anonymous/tumor/hnsc/bcr/nationwidechildrens.org/tissue_images/slide_images/nationwidechildrens.org_HNSC.tissue_images.Level_1.188.2.0/TCGA-CV-7416-11A-01-TS1.0ac55be2-8dff-4513-9c50-c201db22af5f.svs\n",
      "\u001b[KTotal Processed: 3986  Newly Processed: 0 Dup Slides or Already Loaded: 3783  RESCANNED Slides 25"
     ]
    },
    {
     "name": "stderr",
     "output_type": "stream",
     "text": [
      " ()\n",
      "Verify failed with:"
     ]
    },
    {
     "name": "stdout",
     "output_type": "stream",
     "text": [
      "Openslide returned an error om tje StandardError block /TCGA_MIRROR/tcga-data.nci.nih.gov/tcgafiles/ftp_auth/distro_ftpusers/anonymous/tumor/hnsc/bcr/nationwidechildrens.org/tissue_images/slide_images/nationwidechildrens.org_HNSC.tissue_images.Level_1.188.2.0/TCGA-CV-7413-11A-01-TS1.4ef66ce2-6bfd-4d0c-898b-a3105ed9e16d.svs\n",
      "SHIT IT DIED!\n",
      "insert into `corrupt_or_unreadable_svs_files` (full_file_name,filesize) Values ('/TCGA_MIRROR/tcga-data.nci.nih.gov/tcgafiles/ftp_auth/distro_ftpusers/anonymous/tumor/hnsc/bcr/nationwidechildrens.org/tissue_images/slide_images/nationwidechildrens.org_HNSC.tissue_images.Level_1.188.2.0/TCGA-CV-7413-11A-01-TS1.4ef66ce2-6bfd-4d0c-898b-a3105ed9e16d.svs',940890) \n",
      "UNABLE TO OPEN FILE?? /TCGA_MIRROR/tcga-data.nci.nih.gov/tcgafiles/ftp_auth/distro_ftpusers/anonymous/tumor/hnsc/bcr/nationwidechildrens.org/tissue_images/slide_images/nationwidechildrens.org_HNSC.tissue_images.Level_1.188.2.0/TCGA-CV-7413-11A-01-TS1.4ef66ce2-6bfd-4d0c-898b-a3105ed9e16d.svs\n",
      "\u001b[KTotal Processed: 3995  Newly Processed: 0 Dup Slides or Already Loaded: 3791  RESCANNED Slides 25"
     ]
    },
    {
     "name": "stderr",
     "output_type": "stream",
     "text": [
      " ()\n",
      "Verify failed with:"
     ]
    },
    {
     "name": "stdout",
     "output_type": "stream",
     "text": [
      "Openslide returned an error om tje StandardError block /TCGA_MIRROR/tcga-data.nci.nih.gov/tcgafiles/ftp_auth/distro_ftpusers/anonymous/tumor/hnsc/bcr/nationwidechildrens.org/tissue_images/slide_images/nationwidechildrens.org_HNSC.tissue_images.Level_1.188.2.0/TCGA-CV-7423-11A-01-TS1.fff2208d-db47-4273-85d4-fa1fe9182ba6.svs\n",
      "SHIT IT DIED!\n",
      "insert into `corrupt_or_unreadable_svs_files` (full_file_name,filesize) Values ('/TCGA_MIRROR/tcga-data.nci.nih.gov/tcgafiles/ftp_auth/distro_ftpusers/anonymous/tumor/hnsc/bcr/nationwidechildrens.org/tissue_images/slide_images/nationwidechildrens.org_HNSC.tissue_images.Level_1.188.2.0/TCGA-CV-7423-11A-01-TS1.fff2208d-db47-4273-85d4-fa1fe9182ba6.svs',896786) \n",
      "UNABLE TO OPEN FILE?? /TCGA_MIRROR/tcga-data.nci.nih.gov/tcgafiles/ftp_auth/distro_ftpusers/anonymous/tumor/hnsc/bcr/nationwidechildrens.org/tissue_images/slide_images/nationwidechildrens.org_HNSC.tissue_images.Level_1.188.2.0/TCGA-CV-7423-11A-01-TS1.fff2208d-db47-4273-85d4-fa1fe9182ba6.svs\n",
      "\r",
      "\u001b[KTotal Processed: 3996  Newly Processed: 0 Dup Slides or Already Loaded: 3791  RESCANNED Slides 25"
     ]
    },
    {
     "name": "stderr",
     "output_type": "stream",
     "text": [
      " ()\n",
      "Verify failed with:"
     ]
    },
    {
     "name": "stdout",
     "output_type": "stream",
     "text": [
      "Openslide returned an error om tje StandardError block /TCGA_MIRROR/tcga-data.nci.nih.gov/tcgafiles/ftp_auth/distro_ftpusers/anonymous/tumor/hnsc/bcr/nationwidechildrens.org/tissue_images/slide_images/nationwidechildrens.org_HNSC.tissue_images.Level_1.188.2.0/TCGA-CV-7406-11A-01-TS1.5d264754-0b2c-477e-a9da-21c8be156969.svs\n",
      "SHIT IT DIED!\n",
      "insert into `corrupt_or_unreadable_svs_files` (full_file_name,filesize) Values ('/TCGA_MIRROR/tcga-data.nci.nih.gov/tcgafiles/ftp_auth/distro_ftpusers/anonymous/tumor/hnsc/bcr/nationwidechildrens.org/tissue_images/slide_images/nationwidechildrens.org_HNSC.tissue_images.Level_1.188.2.0/TCGA-CV-7406-11A-01-TS1.5d264754-0b2c-477e-a9da-21c8be156969.svs',951454) \n",
      "UNABLE TO OPEN FILE?? /TCGA_MIRROR/tcga-data.nci.nih.gov/tcgafiles/ftp_auth/distro_ftpusers/anonymous/tumor/hnsc/bcr/nationwidechildrens.org/tissue_images/slide_images/nationwidechildrens.org_HNSC.tissue_images.Level_1.188.2.0/TCGA-CV-7406-11A-01-TS1.5d264754-0b2c-477e-a9da-21c8be156969.svs\n",
      "\u001b[KTotal Processed: 4007  Newly Processed: 0 Dup Slides or Already Loaded: 3801  RESCANNED Slides 25"
     ]
    },
    {
     "name": "stderr",
     "output_type": "stream",
     "text": [
      " ()\n",
      "Verify failed with:"
     ]
    },
    {
     "name": "stdout",
     "output_type": "stream",
     "text": [
      "Openslide returned an error om tje StandardError block /TCGA_MIRROR/tcga-data.nci.nih.gov/tcgafiles/ftp_auth/distro_ftpusers/anonymous/tumor/hnsc/bcr/nationwidechildrens.org/tissue_images/slide_images/nationwidechildrens.org_HNSC.tissue_images.Level_1.188.2.0/TCGA-CV-7425-11A-01-TS1.14d506b7-06ce-45be-a009-584e6b92aafc.svs\n",
      "SHIT IT DIED!\n",
      "insert into `corrupt_or_unreadable_svs_files` (full_file_name,filesize) Values ('/TCGA_MIRROR/tcga-data.nci.nih.gov/tcgafiles/ftp_auth/distro_ftpusers/anonymous/tumor/hnsc/bcr/nationwidechildrens.org/tissue_images/slide_images/nationwidechildrens.org_HNSC.tissue_images.Level_1.188.2.0/TCGA-CV-7425-11A-01-TS1.14d506b7-06ce-45be-a009-584e6b92aafc.svs',1045922) \n",
      "UNABLE TO OPEN FILE?? /TCGA_MIRROR/tcga-data.nci.nih.gov/tcgafiles/ftp_auth/distro_ftpusers/anonymous/tumor/hnsc/bcr/nationwidechildrens.org/tissue_images/slide_images/nationwidechildrens.org_HNSC.tissue_images.Level_1.188.2.0/TCGA-CV-7425-11A-01-TS1.14d506b7-06ce-45be-a009-584e6b92aafc.svs\n",
      "\u001b[KTotal Processed: 4240  Newly Processed: 0 Dup Slides or Already Loaded: 4033  RESCANNED Slides 25"
     ]
    },
    {
     "name": "stderr",
     "output_type": "stream",
     "text": [
      " ()\n",
      "Verify failed with:"
     ]
    },
    {
     "name": "stdout",
     "output_type": "stream",
     "text": [
      "Openslide returned an error om tje StandardError block /TCGA_MIRROR/tcga-data.nci.nih.gov/tcgafiles/ftp_auth/distro_ftpusers/anonymous/tumor/hnsc/bcr/nationwidechildrens.org/tissue_images/slide_images/nationwidechildrens.org_HNSC.tissue_images.Level_1.188.3.0/TCGA-CR-6488-01A-01-TS1.e88764b5-31b8-4eee-b07e-c098f8a23a8b.svs\n",
      "SHIT IT DIED!\n",
      "insert into `corrupt_or_unreadable_svs_files` (full_file_name,filesize) Values ('/TCGA_MIRROR/tcga-data.nci.nih.gov/tcgafiles/ftp_auth/distro_ftpusers/anonymous/tumor/hnsc/bcr/nationwidechildrens.org/tissue_images/slide_images/nationwidechildrens.org_HNSC.tissue_images.Level_1.188.3.0/TCGA-CR-6488-01A-01-TS1.e88764b5-31b8-4eee-b07e-c098f8a23a8b.svs',9009486) \n",
      "UNABLE TO OPEN FILE?? /TCGA_MIRROR/tcga-data.nci.nih.gov/tcgafiles/ftp_auth/distro_ftpusers/anonymous/tumor/hnsc/bcr/nationwidechildrens.org/tissue_images/slide_images/nationwidechildrens.org_HNSC.tissue_images.Level_1.188.3.0/TCGA-CR-6488-01A-01-TS1.e88764b5-31b8-4eee-b07e-c098f8a23a8b.svs\n",
      "\u001b[KTotal Processed: 4249  Newly Processed: 0 Dup Slides or Already Loaded: 4041  RESCANNED Slides 25"
     ]
    },
    {
     "name": "stderr",
     "output_type": "stream",
     "text": [
      " ()\n",
      "Verify failed with:"
     ]
    },
    {
     "name": "stdout",
     "output_type": "stream",
     "text": [
      "Openslide returned an error om tje StandardError block /TCGA_MIRROR/tcga-data.nci.nih.gov/tcgafiles/ftp_auth/distro_ftpusers/anonymous/tumor/hnsc/bcr/nationwidechildrens.org/tissue_images/slide_images/nationwidechildrens.org_HNSC.tissue_images.Level_1.188.3.0/TCGA-CV-7418-11A-01-TS1.56a0f884-ee89-4c39-8ae9-339fcd7dd5a3.svs\n",
      "SHIT IT DIED!\n",
      "insert into `corrupt_or_unreadable_svs_files` (full_file_name,filesize) Values ('/TCGA_MIRROR/tcga-data.nci.nih.gov/tcgafiles/ftp_auth/distro_ftpusers/anonymous/tumor/hnsc/bcr/nationwidechildrens.org/tissue_images/slide_images/nationwidechildrens.org_HNSC.tissue_images.Level_1.188.3.0/TCGA-CV-7418-11A-01-TS1.56a0f884-ee89-4c39-8ae9-339fcd7dd5a3.svs',820666) \n",
      "UNABLE TO OPEN FILE?? /TCGA_MIRROR/tcga-data.nci.nih.gov/tcgafiles/ftp_auth/distro_ftpusers/anonymous/tumor/hnsc/bcr/nationwidechildrens.org/tissue_images/slide_images/nationwidechildrens.org_HNSC.tissue_images.Level_1.188.3.0/TCGA-CV-7418-11A-01-TS1.56a0f884-ee89-4c39-8ae9-339fcd7dd5a3.svs\n",
      "\u001b[KTotal Processed: 4256  Newly Processed: 0 Dup Slides or Already Loaded: 4047  RESCANNED Slides 25"
     ]
    },
    {
     "name": "stderr",
     "output_type": "stream",
     "text": [
      " ()\n",
      "Verify failed with:"
     ]
    },
    {
     "name": "stdout",
     "output_type": "stream",
     "text": [
      "Openslide returned an error om tje StandardError block /TCGA_MIRROR/tcga-data.nci.nih.gov/tcgafiles/ftp_auth/distro_ftpusers/anonymous/tumor/hnsc/bcr/nationwidechildrens.org/tissue_images/slide_images/nationwidechildrens.org_HNSC.tissue_images.Level_1.188.3.0/TCGA-CR-6492-01A-01-TS1.3c539bc3-8461-4e61-b8c0-ac5377cc8481.svs\n",
      "SHIT IT DIED!\n",
      "insert into `corrupt_or_unreadable_svs_files` (full_file_name,filesize) Values ('/TCGA_MIRROR/tcga-data.nci.nih.gov/tcgafiles/ftp_auth/distro_ftpusers/anonymous/tumor/hnsc/bcr/nationwidechildrens.org/tissue_images/slide_images/nationwidechildrens.org_HNSC.tissue_images.Level_1.188.3.0/TCGA-CR-6492-01A-01-TS1.3c539bc3-8461-4e61-b8c0-ac5377cc8481.svs',9669662) \n",
      "UNABLE TO OPEN FILE?? /TCGA_MIRROR/tcga-data.nci.nih.gov/tcgafiles/ftp_auth/distro_ftpusers/anonymous/tumor/hnsc/bcr/nationwidechildrens.org/tissue_images/slide_images/nationwidechildrens.org_HNSC.tissue_images.Level_1.188.3.0/TCGA-CR-6492-01A-01-TS1.3c539bc3-8461-4e61-b8c0-ac5377cc8481.svs\n",
      "\u001b[KTotal Processed: 4259  Newly Processed: 0 Dup Slides or Already Loaded: 4049  RESCANNED Slides 25"
     ]
    },
    {
     "name": "stderr",
     "output_type": "stream",
     "text": [
      " ()\n",
      "Verify failed with:"
     ]
    },
    {
     "name": "stdout",
     "output_type": "stream",
     "text": [
      "Openslide returned an error om tje StandardError block /TCGA_MIRROR/tcga-data.nci.nih.gov/tcgafiles/ftp_auth/distro_ftpusers/anonymous/tumor/hnsc/bcr/nationwidechildrens.org/tissue_images/slide_images/nationwidechildrens.org_HNSC.tissue_images.Level_1.188.3.0/TCGA-CV-7424-11A-01-TS1.24110795-f22d-423e-aa10-25ef5971306e.svs\n",
      "SHIT IT DIED!\n",
      "insert into `corrupt_or_unreadable_svs_files` (full_file_name,filesize) Values ('/TCGA_MIRROR/tcga-data.nci.nih.gov/tcgafiles/ftp_auth/distro_ftpusers/anonymous/tumor/hnsc/bcr/nationwidechildrens.org/tissue_images/slide_images/nationwidechildrens.org_HNSC.tissue_images.Level_1.188.3.0/TCGA-CV-7424-11A-01-TS1.24110795-f22d-423e-aa10-25ef5971306e.svs',911920) \n",
      "UNABLE TO OPEN FILE?? /TCGA_MIRROR/tcga-data.nci.nih.gov/tcgafiles/ftp_auth/distro_ftpusers/anonymous/tumor/hnsc/bcr/nationwidechildrens.org/tissue_images/slide_images/nationwidechildrens.org_HNSC.tissue_images.Level_1.188.3.0/TCGA-CV-7424-11A-01-TS1.24110795-f22d-423e-aa10-25ef5971306e.svs\n",
      "\u001b[KTotal Processed: 4262  Newly Processed: 0 Dup Slides or Already Loaded: 4051  RESCANNED Slides 25"
     ]
    },
    {
     "name": "stderr",
     "output_type": "stream",
     "text": [
      " ()\n",
      "Verify failed with:"
     ]
    },
    {
     "name": "stdout",
     "output_type": "stream",
     "text": [
      "Openslide returned an error om tje StandardError block /TCGA_MIRROR/tcga-data.nci.nih.gov/tcgafiles/ftp_auth/distro_ftpusers/anonymous/tumor/hnsc/bcr/nationwidechildrens.org/tissue_images/slide_images/nationwidechildrens.org_HNSC.tissue_images.Level_1.188.3.0/TCGA-CV-7416-11A-01-TS1.0ac55be2-8dff-4513-9c50-c201db22af5f.svs\n",
      "SHIT IT DIED!\n",
      "insert into `corrupt_or_unreadable_svs_files` (full_file_name,filesize) Values ('/TCGA_MIRROR/tcga-data.nci.nih.gov/tcgafiles/ftp_auth/distro_ftpusers/anonymous/tumor/hnsc/bcr/nationwidechildrens.org/tissue_images/slide_images/nationwidechildrens.org_HNSC.tissue_images.Level_1.188.3.0/TCGA-CV-7416-11A-01-TS1.0ac55be2-8dff-4513-9c50-c201db22af5f.svs',991534) \n",
      "UNABLE TO OPEN FILE?? /TCGA_MIRROR/tcga-data.nci.nih.gov/tcgafiles/ftp_auth/distro_ftpusers/anonymous/tumor/hnsc/bcr/nationwidechildrens.org/tissue_images/slide_images/nationwidechildrens.org_HNSC.tissue_images.Level_1.188.3.0/TCGA-CV-7416-11A-01-TS1.0ac55be2-8dff-4513-9c50-c201db22af5f.svs\n",
      "\u001b[KTotal Processed: 4265  Newly Processed: 0 Dup Slides or Already Loaded: 4053  RESCANNED Slides 25"
     ]
    },
    {
     "name": "stderr",
     "output_type": "stream",
     "text": [
      " ()\n",
      "Verify failed with:"
     ]
    },
    {
     "name": "stdout",
     "output_type": "stream",
     "text": [
      "Openslide returned an error om tje StandardError block /TCGA_MIRROR/tcga-data.nci.nih.gov/tcgafiles/ftp_auth/distro_ftpusers/anonymous/tumor/hnsc/bcr/nationwidechildrens.org/tissue_images/slide_images/nationwidechildrens.org_HNSC.tissue_images.Level_1.188.3.0/TCGA-CV-7413-11A-01-TS1.4ef66ce2-6bfd-4d0c-898b-a3105ed9e16d.svs\n",
      "SHIT IT DIED!\n",
      "insert into `corrupt_or_unreadable_svs_files` (full_file_name,filesize) Values ('/TCGA_MIRROR/tcga-data.nci.nih.gov/tcgafiles/ftp_auth/distro_ftpusers/anonymous/tumor/hnsc/bcr/nationwidechildrens.org/tissue_images/slide_images/nationwidechildrens.org_HNSC.tissue_images.Level_1.188.3.0/TCGA-CV-7413-11A-01-TS1.4ef66ce2-6bfd-4d0c-898b-a3105ed9e16d.svs',940890) \n",
      "UNABLE TO OPEN FILE?? /TCGA_MIRROR/tcga-data.nci.nih.gov/tcgafiles/ftp_auth/distro_ftpusers/anonymous/tumor/hnsc/bcr/nationwidechildrens.org/tissue_images/slide_images/nationwidechildrens.org_HNSC.tissue_images.Level_1.188.3.0/TCGA-CV-7413-11A-01-TS1.4ef66ce2-6bfd-4d0c-898b-a3105ed9e16d.svs\n",
      "\u001b[KTotal Processed: 4274  Newly Processed: 0 Dup Slides or Already Loaded: 4061  RESCANNED Slides 25"
     ]
    },
    {
     "name": "stderr",
     "output_type": "stream",
     "text": [
      " ()\n",
      "Verify failed with:"
     ]
    },
    {
     "name": "stdout",
     "output_type": "stream",
     "text": [
      "Openslide returned an error om tje StandardError block /TCGA_MIRROR/tcga-data.nci.nih.gov/tcgafiles/ftp_auth/distro_ftpusers/anonymous/tumor/hnsc/bcr/nationwidechildrens.org/tissue_images/slide_images/nationwidechildrens.org_HNSC.tissue_images.Level_1.188.3.0/TCGA-CV-7423-11A-01-TS1.fff2208d-db47-4273-85d4-fa1fe9182ba6.svs\n",
      "SHIT IT DIED!\n",
      "insert into `corrupt_or_unreadable_svs_files` (full_file_name,filesize) Values ('/TCGA_MIRROR/tcga-data.nci.nih.gov/tcgafiles/ftp_auth/distro_ftpusers/anonymous/tumor/hnsc/bcr/nationwidechildrens.org/tissue_images/slide_images/nationwidechildrens.org_HNSC.tissue_images.Level_1.188.3.0/TCGA-CV-7423-11A-01-TS1.fff2208d-db47-4273-85d4-fa1fe9182ba6.svs',896786) \n",
      "UNABLE TO OPEN FILE?? /TCGA_MIRROR/tcga-data.nci.nih.gov/tcgafiles/ftp_auth/distro_ftpusers/anonymous/tumor/hnsc/bcr/nationwidechildrens.org/tissue_images/slide_images/nationwidechildrens.org_HNSC.tissue_images.Level_1.188.3.0/TCGA-CV-7423-11A-01-TS1.fff2208d-db47-4273-85d4-fa1fe9182ba6.svs\n",
      "\r",
      "\u001b[KTotal Processed: 4275  Newly Processed: 0 Dup Slides or Already Loaded: 4061  RESCANNED Slides 25"
     ]
    },
    {
     "name": "stderr",
     "output_type": "stream",
     "text": [
      " ()\n",
      "Verify failed with:"
     ]
    },
    {
     "name": "stdout",
     "output_type": "stream",
     "text": [
      "Openslide returned an error om tje StandardError block /TCGA_MIRROR/tcga-data.nci.nih.gov/tcgafiles/ftp_auth/distro_ftpusers/anonymous/tumor/hnsc/bcr/nationwidechildrens.org/tissue_images/slide_images/nationwidechildrens.org_HNSC.tissue_images.Level_1.188.3.0/TCGA-CV-7406-11A-01-TS1.5d264754-0b2c-477e-a9da-21c8be156969.svs\n",
      "SHIT IT DIED!\n",
      "insert into `corrupt_or_unreadable_svs_files` (full_file_name,filesize) Values ('/TCGA_MIRROR/tcga-data.nci.nih.gov/tcgafiles/ftp_auth/distro_ftpusers/anonymous/tumor/hnsc/bcr/nationwidechildrens.org/tissue_images/slide_images/nationwidechildrens.org_HNSC.tissue_images.Level_1.188.3.0/TCGA-CV-7406-11A-01-TS1.5d264754-0b2c-477e-a9da-21c8be156969.svs',951454) \n",
      "UNABLE TO OPEN FILE?? /TCGA_MIRROR/tcga-data.nci.nih.gov/tcgafiles/ftp_auth/distro_ftpusers/anonymous/tumor/hnsc/bcr/nationwidechildrens.org/tissue_images/slide_images/nationwidechildrens.org_HNSC.tissue_images.Level_1.188.3.0/TCGA-CV-7406-11A-01-TS1.5d264754-0b2c-477e-a9da-21c8be156969.svs\n",
      "\u001b[KTotal Processed: 4286  Newly Processed: 0 Dup Slides or Already Loaded: 4071  RESCANNED Slides 25"
     ]
    },
    {
     "name": "stderr",
     "output_type": "stream",
     "text": [
      " ()\n",
      "Verify failed with:"
     ]
    },
    {
     "name": "stdout",
     "output_type": "stream",
     "text": [
      "Openslide returned an error om tje StandardError block /TCGA_MIRROR/tcga-data.nci.nih.gov/tcgafiles/ftp_auth/distro_ftpusers/anonymous/tumor/hnsc/bcr/nationwidechildrens.org/tissue_images/slide_images/nationwidechildrens.org_HNSC.tissue_images.Level_1.188.3.0/TCGA-CV-7425-11A-01-TS1.14d506b7-06ce-45be-a009-584e6b92aafc.svs\n",
      "SHIT IT DIED!\n",
      "insert into `corrupt_or_unreadable_svs_files` (full_file_name,filesize) Values ('/TCGA_MIRROR/tcga-data.nci.nih.gov/tcgafiles/ftp_auth/distro_ftpusers/anonymous/tumor/hnsc/bcr/nationwidechildrens.org/tissue_images/slide_images/nationwidechildrens.org_HNSC.tissue_images.Level_1.188.3.0/TCGA-CV-7425-11A-01-TS1.14d506b7-06ce-45be-a009-584e6b92aafc.svs',1045922) \n",
      "UNABLE TO OPEN FILE?? /TCGA_MIRROR/tcga-data.nci.nih.gov/tcgafiles/ftp_auth/distro_ftpusers/anonymous/tumor/hnsc/bcr/nationwidechildrens.org/tissue_images/slide_images/nationwidechildrens.org_HNSC.tissue_images.Level_1.188.3.0/TCGA-CV-7425-11A-01-TS1.14d506b7-06ce-45be-a009-584e6b92aafc.svs\n",
      "\u001b[KTotal Processed: 4321  Newly Processed: 0 Dup Slides or Already Loaded: 4105  RESCANNED Slides 25"
     ]
    },
    {
     "name": "stderr",
     "output_type": "stream",
     "text": [
      " ()\n",
      "Verify failed with:"
     ]
    },
    {
     "name": "stdout",
     "output_type": "stream",
     "text": [
      "Openslide returned an error om tje StandardError block /TCGA_MIRROR/tcga-data.nci.nih.gov/tcgafiles/ftp_auth/distro_ftpusers/anonymous/tumor/hnsc/bcr/nationwidechildrens.org/tissue_images/slide_images/nationwidechildrens.org_HNSC.tissue_images.Level_1.145.5.0/TCGA-CR-6478-01A-01-TS1.3fff1204-2825-4722-b49f-be544f829ebe.svs\n",
      "SHIT IT DIED!\n",
      "insert into `corrupt_or_unreadable_svs_files` (full_file_name,filesize) Values ('/TCGA_MIRROR/tcga-data.nci.nih.gov/tcgafiles/ftp_auth/distro_ftpusers/anonymous/tumor/hnsc/bcr/nationwidechildrens.org/tissue_images/slide_images/nationwidechildrens.org_HNSC.tissue_images.Level_1.145.5.0/TCGA-CR-6478-01A-01-TS1.3fff1204-2825-4722-b49f-be544f829ebe.svs',6348192) \n",
      "UNABLE TO OPEN FILE?? /TCGA_MIRROR/tcga-data.nci.nih.gov/tcgafiles/ftp_auth/distro_ftpusers/anonymous/tumor/hnsc/bcr/nationwidechildrens.org/tissue_images/slide_images/nationwidechildrens.org_HNSC.tissue_images.Level_1.145.5.0/TCGA-CR-6478-01A-01-TS1.3fff1204-2825-4722-b49f-be544f829ebe.svs\n",
      "\u001b[KTotal Processed: 4324  Newly Processed: 0 Dup Slides or Already Loaded: 4107  RESCANNED Slides 25"
     ]
    },
    {
     "name": "stderr",
     "output_type": "stream",
     "text": [
      " ()\n",
      "Verify failed with:"
     ]
    },
    {
     "name": "stdout",
     "output_type": "stream",
     "text": [
      "Openslide returned an error om tje StandardError block /TCGA_MIRROR/tcga-data.nci.nih.gov/tcgafiles/ftp_auth/distro_ftpusers/anonymous/tumor/hnsc/bcr/nationwidechildrens.org/tissue_images/slide_images/nationwidechildrens.org_HNSC.tissue_images.Level_1.145.5.0/TCGA-CR-6474-01A-01-TS1.cf8548c2-8102-4e76-aac1-b259013208d1.svs\n",
      "SHIT IT DIED!\n",
      "insert into `corrupt_or_unreadable_svs_files` (full_file_name,filesize) Values ('/TCGA_MIRROR/tcga-data.nci.nih.gov/tcgafiles/ftp_auth/distro_ftpusers/anonymous/tumor/hnsc/bcr/nationwidechildrens.org/tissue_images/slide_images/nationwidechildrens.org_HNSC.tissue_images.Level_1.145.5.0/TCGA-CR-6474-01A-01-TS1.cf8548c2-8102-4e76-aac1-b259013208d1.svs',9157482) \n",
      "UNABLE TO OPEN FILE?? /TCGA_MIRROR/tcga-data.nci.nih.gov/tcgafiles/ftp_auth/distro_ftpusers/anonymous/tumor/hnsc/bcr/nationwidechildrens.org/tissue_images/slide_images/nationwidechildrens.org_HNSC.tissue_images.Level_1.145.5.0/TCGA-CR-6474-01A-01-TS1.cf8548c2-8102-4e76-aac1-b259013208d1.svs\n",
      "\u001b[KTotal Processed: 4326  Newly Processed: 0 Dup Slides or Already Loaded: 4108  RESCANNED Slides 25"
     ]
    },
    {
     "name": "stderr",
     "output_type": "stream",
     "text": [
      " ()\n",
      "Verify failed with:"
     ]
    },
    {
     "name": "stdout",
     "output_type": "stream",
     "text": [
      "Openslide returned an error om tje StandardError block /TCGA_MIRROR/tcga-data.nci.nih.gov/tcgafiles/ftp_auth/distro_ftpusers/anonymous/tumor/hnsc/bcr/nationwidechildrens.org/tissue_images/slide_images/nationwidechildrens.org_HNSC.tissue_images.Level_1.145.5.0/TCGA-CR-6467-01A-01-TS1.1a321c2e-156f-436f-9336-63a9faa7a7d4.svs\n",
      "SHIT IT DIED!\n",
      "insert into `corrupt_or_unreadable_svs_files` (full_file_name,filesize) Values ('/TCGA_MIRROR/tcga-data.nci.nih.gov/tcgafiles/ftp_auth/distro_ftpusers/anonymous/tumor/hnsc/bcr/nationwidechildrens.org/tissue_images/slide_images/nationwidechildrens.org_HNSC.tissue_images.Level_1.145.5.0/TCGA-CR-6467-01A-01-TS1.1a321c2e-156f-436f-9336-63a9faa7a7d4.svs',8483546) \n",
      "UNABLE TO OPEN FILE?? /TCGA_MIRROR/tcga-data.nci.nih.gov/tcgafiles/ftp_auth/distro_ftpusers/anonymous/tumor/hnsc/bcr/nationwidechildrens.org/tissue_images/slide_images/nationwidechildrens.org_HNSC.tissue_images.Level_1.145.5.0/TCGA-CR-6467-01A-01-TS1.1a321c2e-156f-436f-9336-63a9faa7a7d4.svs\n",
      "\r",
      "\u001b[KTotal Processed: 4327  Newly Processed: 0 Dup Slides or Already Loaded: 4108  RESCANNED Slides 25"
     ]
    },
    {
     "name": "stderr",
     "output_type": "stream",
     "text": [
      " ()\n",
      "Verify failed with:"
     ]
    },
    {
     "name": "stdout",
     "output_type": "stream",
     "text": [
      "Openslide returned an error om tje StandardError block /TCGA_MIRROR/tcga-data.nci.nih.gov/tcgafiles/ftp_auth/distro_ftpusers/anonymous/tumor/hnsc/bcr/nationwidechildrens.org/tissue_images/slide_images/nationwidechildrens.org_HNSC.tissue_images.Level_1.145.5.0/TCGA-CR-6484-01A-01-TS1.39a06efa-b681-49ed-8516-830495edca41.svs\n",
      "SHIT IT DIED!\n",
      "insert into `corrupt_or_unreadable_svs_files` (full_file_name,filesize) Values ('/TCGA_MIRROR/tcga-data.nci.nih.gov/tcgafiles/ftp_auth/distro_ftpusers/anonymous/tumor/hnsc/bcr/nationwidechildrens.org/tissue_images/slide_images/nationwidechildrens.org_HNSC.tissue_images.Level_1.145.5.0/TCGA-CR-6484-01A-01-TS1.39a06efa-b681-49ed-8516-830495edca41.svs',7399442) \n",
      "UNABLE TO OPEN FILE?? /TCGA_MIRROR/tcga-data.nci.nih.gov/tcgafiles/ftp_auth/distro_ftpusers/anonymous/tumor/hnsc/bcr/nationwidechildrens.org/tissue_images/slide_images/nationwidechildrens.org_HNSC.tissue_images.Level_1.145.5.0/TCGA-CR-6484-01A-01-TS1.39a06efa-b681-49ed-8516-830495edca41.svs\n",
      "\u001b[KTotal Processed: 4333  Newly Processed: 0 Dup Slides or Already Loaded: 4113  RESCANNED Slides 25"
     ]
    },
    {
     "name": "stderr",
     "output_type": "stream",
     "text": [
      " ()\n",
      "Verify failed with:"
     ]
    },
    {
     "name": "stdout",
     "output_type": "stream",
     "text": [
      "Openslide returned an error om tje StandardError block /TCGA_MIRROR/tcga-data.nci.nih.gov/tcgafiles/ftp_auth/distro_ftpusers/anonymous/tumor/hnsc/bcr/nationwidechildrens.org/tissue_images/slide_images/nationwidechildrens.org_HNSC.tissue_images.Level_1.145.5.0/TCGA-CR-6487-01A-01-TS1.10afc9b5-ef5f-47ce-9c6c-4992a530ae7d.svs\n",
      "SHIT IT DIED!\n",
      "insert into `corrupt_or_unreadable_svs_files` (full_file_name,filesize) Values ('/TCGA_MIRROR/tcga-data.nci.nih.gov/tcgafiles/ftp_auth/distro_ftpusers/anonymous/tumor/hnsc/bcr/nationwidechildrens.org/tissue_images/slide_images/nationwidechildrens.org_HNSC.tissue_images.Level_1.145.5.0/TCGA-CR-6487-01A-01-TS1.10afc9b5-ef5f-47ce-9c6c-4992a530ae7d.svs',8427182) \n",
      "UNABLE TO OPEN FILE?? /TCGA_MIRROR/tcga-data.nci.nih.gov/tcgafiles/ftp_auth/distro_ftpusers/anonymous/tumor/hnsc/bcr/nationwidechildrens.org/tissue_images/slide_images/nationwidechildrens.org_HNSC.tissue_images.Level_1.145.5.0/TCGA-CR-6487-01A-01-TS1.10afc9b5-ef5f-47ce-9c6c-4992a530ae7d.svs\n",
      "\r",
      "\u001b[KTotal Processed: 4334  Newly Processed: 0 Dup Slides or Already Loaded: 4113  RESCANNED Slides 25"
     ]
    },
    {
     "name": "stderr",
     "output_type": "stream",
     "text": [
      " ()\n",
      "Verify failed with:"
     ]
    },
    {
     "name": "stdout",
     "output_type": "stream",
     "text": [
      "Openslide returned an error om tje StandardError block /TCGA_MIRROR/tcga-data.nci.nih.gov/tcgafiles/ftp_auth/distro_ftpusers/anonymous/tumor/hnsc/bcr/nationwidechildrens.org/tissue_images/slide_images/nationwidechildrens.org_HNSC.tissue_images.Level_1.145.5.0/TCGA-CR-6482-01A-01-TS1.22e08fdd-b86c-4097-9cae-e4cdc13abf2a.svs\n",
      "SHIT IT DIED!\n",
      "insert into `corrupt_or_unreadable_svs_files` (full_file_name,filesize) Values ('/TCGA_MIRROR/tcga-data.nci.nih.gov/tcgafiles/ftp_auth/distro_ftpusers/anonymous/tumor/hnsc/bcr/nationwidechildrens.org/tissue_images/slide_images/nationwidechildrens.org_HNSC.tissue_images.Level_1.145.5.0/TCGA-CR-6482-01A-01-TS1.22e08fdd-b86c-4097-9cae-e4cdc13abf2a.svs',8434884) \n",
      "UNABLE TO OPEN FILE?? /TCGA_MIRROR/tcga-data.nci.nih.gov/tcgafiles/ftp_auth/distro_ftpusers/anonymous/tumor/hnsc/bcr/nationwidechildrens.org/tissue_images/slide_images/nationwidechildrens.org_HNSC.tissue_images.Level_1.145.5.0/TCGA-CR-6482-01A-01-TS1.22e08fdd-b86c-4097-9cae-e4cdc13abf2a.svs\n",
      "\u001b[KTotal Processed: 4336  Newly Processed: 0 Dup Slides or Already Loaded: 4114  RESCANNED Slides 25"
     ]
    },
    {
     "name": "stderr",
     "output_type": "stream",
     "text": [
      " ()\n",
      "Verify failed with:"
     ]
    },
    {
     "name": "stdout",
     "output_type": "stream",
     "text": [
      "Openslide returned an error om tje StandardError block /TCGA_MIRROR/tcga-data.nci.nih.gov/tcgafiles/ftp_auth/distro_ftpusers/anonymous/tumor/hnsc/bcr/nationwidechildrens.org/tissue_images/slide_images/nationwidechildrens.org_HNSC.tissue_images.Level_1.145.5.0/TCGA-CR-6481-01A-01-TS1.30977a05-0514-4bab-8336-770553702269.svs\n",
      "SHIT IT DIED!\n",
      "insert into `corrupt_or_unreadable_svs_files` (full_file_name,filesize) Values ('/TCGA_MIRROR/tcga-data.nci.nih.gov/tcgafiles/ftp_auth/distro_ftpusers/anonymous/tumor/hnsc/bcr/nationwidechildrens.org/tissue_images/slide_images/nationwidechildrens.org_HNSC.tissue_images.Level_1.145.5.0/TCGA-CR-6481-01A-01-TS1.30977a05-0514-4bab-8336-770553702269.svs',8398688) \n",
      "UNABLE TO OPEN FILE?? /TCGA_MIRROR/tcga-data.nci.nih.gov/tcgafiles/ftp_auth/distro_ftpusers/anonymous/tumor/hnsc/bcr/nationwidechildrens.org/tissue_images/slide_images/nationwidechildrens.org_HNSC.tissue_images.Level_1.145.5.0/TCGA-CR-6481-01A-01-TS1.30977a05-0514-4bab-8336-770553702269.svs\n",
      "\u001b[KTotal Processed: 4338  Newly Processed: 0 Dup Slides or Already Loaded: 4115  RESCANNED Slides 25"
     ]
    },
    {
     "name": "stderr",
     "output_type": "stream",
     "text": [
      " ()\n",
      "Verify failed with:"
     ]
    },
    {
     "name": "stdout",
     "output_type": "stream",
     "text": [
      "Openslide returned an error om tje StandardError block /TCGA_MIRROR/tcga-data.nci.nih.gov/tcgafiles/ftp_auth/distro_ftpusers/anonymous/tumor/hnsc/bcr/nationwidechildrens.org/tissue_images/slide_images/nationwidechildrens.org_HNSC.tissue_images.Level_1.145.5.0/TCGA-CR-6493-01A-01-TS1.e15f7ea9-fe67-458f-bc5e-286148437382.svs\n",
      "SHIT IT DIED!\n",
      "insert into `corrupt_or_unreadable_svs_files` (full_file_name,filesize) Values ('/TCGA_MIRROR/tcga-data.nci.nih.gov/tcgafiles/ftp_auth/distro_ftpusers/anonymous/tumor/hnsc/bcr/nationwidechildrens.org/tissue_images/slide_images/nationwidechildrens.org_HNSC.tissue_images.Level_1.145.5.0/TCGA-CR-6493-01A-01-TS1.e15f7ea9-fe67-458f-bc5e-286148437382.svs',8319390) \n",
      "UNABLE TO OPEN FILE?? /TCGA_MIRROR/tcga-data.nci.nih.gov/tcgafiles/ftp_auth/distro_ftpusers/anonymous/tumor/hnsc/bcr/nationwidechildrens.org/tissue_images/slide_images/nationwidechildrens.org_HNSC.tissue_images.Level_1.145.5.0/TCGA-CR-6493-01A-01-TS1.e15f7ea9-fe67-458f-bc5e-286148437382.svs\n",
      "\u001b[KTotal Processed: 4340  Newly Processed: 0 Dup Slides or Already Loaded: 4116  RESCANNED Slides 25"
     ]
    },
    {
     "name": "stderr",
     "output_type": "stream",
     "text": [
      " ()\n",
      "Verify failed with:"
     ]
    },
    {
     "name": "stdout",
     "output_type": "stream",
     "text": [
      "Openslide returned an error om tje StandardError block /TCGA_MIRROR/tcga-data.nci.nih.gov/tcgafiles/ftp_auth/distro_ftpusers/anonymous/tumor/hnsc/bcr/nationwidechildrens.org/tissue_images/slide_images/nationwidechildrens.org_HNSC.tissue_images.Level_1.145.5.0/TCGA-CR-6480-01A-01-TS1.310e6db0-78c6-4395-8c76-566f0035224a.svs\n",
      "SHIT IT DIED!\n",
      "insert into `corrupt_or_unreadable_svs_files` (full_file_name,filesize) Values ('/TCGA_MIRROR/tcga-data.nci.nih.gov/tcgafiles/ftp_auth/distro_ftpusers/anonymous/tumor/hnsc/bcr/nationwidechildrens.org/tissue_images/slide_images/nationwidechildrens.org_HNSC.tissue_images.Level_1.145.5.0/TCGA-CR-6480-01A-01-TS1.310e6db0-78c6-4395-8c76-566f0035224a.svs',8052114) \n",
      "UNABLE TO OPEN FILE?? /TCGA_MIRROR/tcga-data.nci.nih.gov/tcgafiles/ftp_auth/distro_ftpusers/anonymous/tumor/hnsc/bcr/nationwidechildrens.org/tissue_images/slide_images/nationwidechildrens.org_HNSC.tissue_images.Level_1.145.5.0/TCGA-CR-6480-01A-01-TS1.310e6db0-78c6-4395-8c76-566f0035224a.svs\n",
      "\u001b[KTotal Processed: 4342  Newly Processed: 0 Dup Slides or Already Loaded: 4117  RESCANNED Slides 25"
     ]
    },
    {
     "name": "stderr",
     "output_type": "stream",
     "text": [
      " ()\n",
      "Verify failed with:"
     ]
    },
    {
     "name": "stdout",
     "output_type": "stream",
     "text": [
      "Openslide returned an error om tje StandardError block /TCGA_MIRROR/tcga-data.nci.nih.gov/tcgafiles/ftp_auth/distro_ftpusers/anonymous/tumor/hnsc/bcr/nationwidechildrens.org/tissue_images/slide_images/nationwidechildrens.org_HNSC.tissue_images.Level_1.145.5.0/TCGA-CR-6473-01A-01-TS1.e6d069e9-2a0c-44c6-b235-6765f5145da3.svs\n",
      "SHIT IT DIED!\n",
      "insert into `corrupt_or_unreadable_svs_files` (full_file_name,filesize) Values ('/TCGA_MIRROR/tcga-data.nci.nih.gov/tcgafiles/ftp_auth/distro_ftpusers/anonymous/tumor/hnsc/bcr/nationwidechildrens.org/tissue_images/slide_images/nationwidechildrens.org_HNSC.tissue_images.Level_1.145.5.0/TCGA-CR-6473-01A-01-TS1.e6d069e9-2a0c-44c6-b235-6765f5145da3.svs',6408014) \n",
      "UNABLE TO OPEN FILE?? /TCGA_MIRROR/tcga-data.nci.nih.gov/tcgafiles/ftp_auth/distro_ftpusers/anonymous/tumor/hnsc/bcr/nationwidechildrens.org/tissue_images/slide_images/nationwidechildrens.org_HNSC.tissue_images.Level_1.145.5.0/TCGA-CR-6473-01A-01-TS1.e6d069e9-2a0c-44c6-b235-6765f5145da3.svs\n",
      "\u001b[KTotal Processed: 4346  Newly Processed: 0 Dup Slides or Already Loaded: 4120  RESCANNED Slides 25"
     ]
    },
    {
     "name": "stderr",
     "output_type": "stream",
     "text": [
      " ()\n",
      "Verify failed with:"
     ]
    },
    {
     "name": "stdout",
     "output_type": "stream",
     "text": [
      "Openslide returned an error om tje StandardError block /TCGA_MIRROR/tcga-data.nci.nih.gov/tcgafiles/ftp_auth/distro_ftpusers/anonymous/tumor/hnsc/bcr/nationwidechildrens.org/tissue_images/slide_images/nationwidechildrens.org_HNSC.tissue_images.Level_1.145.5.0/TCGA-CR-6477-01A-01-TS1.aaf2ba30-bd8b-4b8d-a10a-23f1d41f7b20.svs\n",
      "SHIT IT DIED!\n",
      "insert into `corrupt_or_unreadable_svs_files` (full_file_name,filesize) Values ('/TCGA_MIRROR/tcga-data.nci.nih.gov/tcgafiles/ftp_auth/distro_ftpusers/anonymous/tumor/hnsc/bcr/nationwidechildrens.org/tissue_images/slide_images/nationwidechildrens.org_HNSC.tissue_images.Level_1.145.5.0/TCGA-CR-6477-01A-01-TS1.aaf2ba30-bd8b-4b8d-a10a-23f1d41f7b20.svs',8908972) \n",
      "UNABLE TO OPEN FILE?? /TCGA_MIRROR/tcga-data.nci.nih.gov/tcgafiles/ftp_auth/distro_ftpusers/anonymous/tumor/hnsc/bcr/nationwidechildrens.org/tissue_images/slide_images/nationwidechildrens.org_HNSC.tissue_images.Level_1.145.5.0/TCGA-CR-6477-01A-01-TS1.aaf2ba30-bd8b-4b8d-a10a-23f1d41f7b20.svs\n",
      "\u001b[KTotal Processed: 4355  Newly Processed: 0 Dup Slides or Already Loaded: 4128  RESCANNED Slides 25"
     ]
    },
    {
     "name": "stderr",
     "output_type": "stream",
     "text": [
      " ()\n",
      "Verify failed with:"
     ]
    },
    {
     "name": "stdout",
     "output_type": "stream",
     "text": [
      "Openslide returned an error om tje StandardError block /TCGA_MIRROR/tcga-data.nci.nih.gov/tcgafiles/ftp_auth/distro_ftpusers/anonymous/tumor/hnsc/bcr/nationwidechildrens.org/tissue_images/slide_images/nationwidechildrens.org_HNSC.tissue_images.Level_1.145.5.0/TCGA-CR-6491-01A-01-TS1.cdb38d6c-28b3-4715-bfe7-ebe744709696.svs\n",
      "SHIT IT DIED!\n",
      "insert into `corrupt_or_unreadable_svs_files` (full_file_name,filesize) Values ('/TCGA_MIRROR/tcga-data.nci.nih.gov/tcgafiles/ftp_auth/distro_ftpusers/anonymous/tumor/hnsc/bcr/nationwidechildrens.org/tissue_images/slide_images/nationwidechildrens.org_HNSC.tissue_images.Level_1.145.5.0/TCGA-CR-6491-01A-01-TS1.cdb38d6c-28b3-4715-bfe7-ebe744709696.svs',7378782) \n",
      "UNABLE TO OPEN FILE?? /TCGA_MIRROR/tcga-data.nci.nih.gov/tcgafiles/ftp_auth/distro_ftpusers/anonymous/tumor/hnsc/bcr/nationwidechildrens.org/tissue_images/slide_images/nationwidechildrens.org_HNSC.tissue_images.Level_1.145.5.0/TCGA-CR-6491-01A-01-TS1.cdb38d6c-28b3-4715-bfe7-ebe744709696.svs\n",
      "\u001b[KTotal Processed: 4358  Newly Processed: 0 Dup Slides or Already Loaded: 4130  RESCANNED Slides 25"
     ]
    },
    {
     "name": "stderr",
     "output_type": "stream",
     "text": [
      " ()\n",
      "Verify failed with:"
     ]
    },
    {
     "name": "stdout",
     "output_type": "stream",
     "text": [
      "Openslide returned an error om tje StandardError block /TCGA_MIRROR/tcga-data.nci.nih.gov/tcgafiles/ftp_auth/distro_ftpusers/anonymous/tumor/hnsc/bcr/nationwidechildrens.org/tissue_images/slide_images/nationwidechildrens.org_HNSC.tissue_images.Level_1.145.5.0/TCGA-CR-6472-01A-01-TS1.26b197dc-f7fc-40c6-a473-78d992cfd576.svs\n",
      "SHIT IT DIED!\n",
      "insert into `corrupt_or_unreadable_svs_files` (full_file_name,filesize) Values ('/TCGA_MIRROR/tcga-data.nci.nih.gov/tcgafiles/ftp_auth/distro_ftpusers/anonymous/tumor/hnsc/bcr/nationwidechildrens.org/tissue_images/slide_images/nationwidechildrens.org_HNSC.tissue_images.Level_1.145.5.0/TCGA-CR-6472-01A-01-TS1.26b197dc-f7fc-40c6-a473-78d992cfd576.svs',6906450) \n",
      "UNABLE TO OPEN FILE?? /TCGA_MIRROR/tcga-data.nci.nih.gov/tcgafiles/ftp_auth/distro_ftpusers/anonymous/tumor/hnsc/bcr/nationwidechildrens.org/tissue_images/slide_images/nationwidechildrens.org_HNSC.tissue_images.Level_1.145.5.0/TCGA-CR-6472-01A-01-TS1.26b197dc-f7fc-40c6-a473-78d992cfd576.svs\n",
      "\u001b[KTotal Processed: 4360  Newly Processed: 0 Dup Slides or Already Loaded: 4131  RESCANNED Slides 25"
     ]
    },
    {
     "name": "stderr",
     "output_type": "stream",
     "text": [
      " ()\n",
      "Verify failed with:"
     ]
    },
    {
     "name": "stdout",
     "output_type": "stream",
     "text": [
      "Openslide returned an error om tje StandardError block /TCGA_MIRROR/tcga-data.nci.nih.gov/tcgafiles/ftp_auth/distro_ftpusers/anonymous/tumor/hnsc/bcr/nationwidechildrens.org/tissue_images/slide_images/nationwidechildrens.org_HNSC.tissue_images.Level_1.145.5.0/TCGA-CR-6470-01A-01-TS1.a73d75fe-bd80-4dbb-a33b-54942d9b7057.svs\n",
      "SHIT IT DIED!\n",
      "insert into `corrupt_or_unreadable_svs_files` (full_file_name,filesize) Values ('/TCGA_MIRROR/tcga-data.nci.nih.gov/tcgafiles/ftp_auth/distro_ftpusers/anonymous/tumor/hnsc/bcr/nationwidechildrens.org/tissue_images/slide_images/nationwidechildrens.org_HNSC.tissue_images.Level_1.145.5.0/TCGA-CR-6470-01A-01-TS1.a73d75fe-bd80-4dbb-a33b-54942d9b7057.svs',6970156) \n",
      "UNABLE TO OPEN FILE?? /TCGA_MIRROR/tcga-data.nci.nih.gov/tcgafiles/ftp_auth/distro_ftpusers/anonymous/tumor/hnsc/bcr/nationwidechildrens.org/tissue_images/slide_images/nationwidechildrens.org_HNSC.tissue_images.Level_1.145.5.0/TCGA-CR-6470-01A-01-TS1.a73d75fe-bd80-4dbb-a33b-54942d9b7057.svs\n",
      "\u001b[KTotal Processed: 4364  Newly Processed: 0 Dup Slides or Already Loaded: 4134  RESCANNED Slides 25"
     ]
    },
    {
     "name": "stderr",
     "output_type": "stream",
     "text": [
      " ()\n",
      "Verify failed with:"
     ]
    },
    {
     "name": "stdout",
     "output_type": "stream",
     "text": [
      "Openslide returned an error om tje StandardError block /TCGA_MIRROR/tcga-data.nci.nih.gov/tcgafiles/ftp_auth/distro_ftpusers/anonymous/tumor/hnsc/bcr/nationwidechildrens.org/tissue_images/slide_images/nationwidechildrens.org_HNSC.tissue_images.Level_1.145.5.0/TCGA-CR-6471-01A-01-TS1.04a386a5-842c-4b36-a71c-589225cdc20c.svs\n",
      "SHIT IT DIED!\n",
      "insert into `corrupt_or_unreadable_svs_files` (full_file_name,filesize) Values ('/TCGA_MIRROR/tcga-data.nci.nih.gov/tcgafiles/ftp_auth/distro_ftpusers/anonymous/tumor/hnsc/bcr/nationwidechildrens.org/tissue_images/slide_images/nationwidechildrens.org_HNSC.tissue_images.Level_1.145.5.0/TCGA-CR-6471-01A-01-TS1.04a386a5-842c-4b36-a71c-589225cdc20c.svs',6959836) \n",
      "UNABLE TO OPEN FILE?? /TCGA_MIRROR/tcga-data.nci.nih.gov/tcgafiles/ftp_auth/distro_ftpusers/anonymous/tumor/hnsc/bcr/nationwidechildrens.org/tissue_images/slide_images/nationwidechildrens.org_HNSC.tissue_images.Level_1.145.5.0/TCGA-CR-6471-01A-01-TS1.04a386a5-842c-4b36-a71c-589225cdc20c.svs\n",
      "\u001b[KTotal Processed: 4386  Newly Processed: 0 Dup Slides or Already Loaded: 4155  RESCANNED Slides 25"
     ]
    },
    {
     "name": "stderr",
     "output_type": "stream",
     "text": [
      " ()\n",
      "Verify failed with:"
     ]
    },
    {
     "name": "stdout",
     "output_type": "stream",
     "text": [
      "Openslide returned an error om tje StandardError block /TCGA_MIRROR/tcga-data.nci.nih.gov/tcgafiles/ftp_auth/distro_ftpusers/anonymous/tumor/hnsc/bcr/nationwidechildrens.org/tissue_images/slide_images/nationwidechildrens.org_HNSC.tissue_images.Level_1.190.5.0/TCGA-CV-7428-11A-01-TS1.c6a8b9a3-9f52-43aa-8358-6608d047483c.svs\n",
      "SHIT IT DIED!\n",
      "insert into `corrupt_or_unreadable_svs_files` (full_file_name,filesize) Values ('/TCGA_MIRROR/tcga-data.nci.nih.gov/tcgafiles/ftp_auth/distro_ftpusers/anonymous/tumor/hnsc/bcr/nationwidechildrens.org/tissue_images/slide_images/nationwidechildrens.org_HNSC.tissue_images.Level_1.190.5.0/TCGA-CV-7428-11A-01-TS1.c6a8b9a3-9f52-43aa-8358-6608d047483c.svs',998426) \n",
      "UNABLE TO OPEN FILE?? /TCGA_MIRROR/tcga-data.nci.nih.gov/tcgafiles/ftp_auth/distro_ftpusers/anonymous/tumor/hnsc/bcr/nationwidechildrens.org/tissue_images/slide_images/nationwidechildrens.org_HNSC.tissue_images.Level_1.190.5.0/TCGA-CV-7428-11A-01-TS1.c6a8b9a3-9f52-43aa-8358-6608d047483c.svs\n",
      "\r",
      "\u001b[KTotal Processed: 4387  Newly Processed: 0 Dup Slides or Already Loaded: 4155  RESCANNED Slides 25"
     ]
    },
    {
     "name": "stderr",
     "output_type": "stream",
     "text": [
      " ()\n",
      "Verify failed with:"
     ]
    },
    {
     "name": "stdout",
     "output_type": "stream",
     "text": [
      "Openslide returned an error om tje StandardError block /TCGA_MIRROR/tcga-data.nci.nih.gov/tcgafiles/ftp_auth/distro_ftpusers/anonymous/tumor/hnsc/bcr/nationwidechildrens.org/tissue_images/slide_images/nationwidechildrens.org_HNSC.tissue_images.Level_1.190.5.0/TCGA-CV-7434-11A-01-TS1.29dacbd2-d27e-4bef-8551-07fdfaeb6b91.svs\n",
      "SHIT IT DIED!\n",
      "insert into `corrupt_or_unreadable_svs_files` (full_file_name,filesize) Values ('/TCGA_MIRROR/tcga-data.nci.nih.gov/tcgafiles/ftp_auth/distro_ftpusers/anonymous/tumor/hnsc/bcr/nationwidechildrens.org/tissue_images/slide_images/nationwidechildrens.org_HNSC.tissue_images.Level_1.190.5.0/TCGA-CV-7434-11A-01-TS1.29dacbd2-d27e-4bef-8551-07fdfaeb6b91.svs',1006760) \n",
      "UNABLE TO OPEN FILE?? /TCGA_MIRROR/tcga-data.nci.nih.gov/tcgafiles/ftp_auth/distro_ftpusers/anonymous/tumor/hnsc/bcr/nationwidechildrens.org/tissue_images/slide_images/nationwidechildrens.org_HNSC.tissue_images.Level_1.190.5.0/TCGA-CV-7434-11A-01-TS1.29dacbd2-d27e-4bef-8551-07fdfaeb6b91.svs\n",
      "\r",
      "\u001b[KTotal Processed: 4388  Newly Processed: 0 Dup Slides or Already Loaded: 4155  RESCANNED Slides 25"
     ]
    },
    {
     "name": "stderr",
     "output_type": "stream",
     "text": [
      " ()\n",
      "Verify failed with:"
     ]
    },
    {
     "name": "stdout",
     "output_type": "stream",
     "text": [
      "Openslide returned an error om tje StandardError block /TCGA_MIRROR/tcga-data.nci.nih.gov/tcgafiles/ftp_auth/distro_ftpusers/anonymous/tumor/hnsc/bcr/nationwidechildrens.org/tissue_images/slide_images/nationwidechildrens.org_HNSC.tissue_images.Level_1.190.5.0/TCGA-CR-7368-01A-01-TS1.7f2d8a43-41bb-4710-a47d-fe8582737a1b.svs\n",
      "SHIT IT DIED!\n",
      "insert into `corrupt_or_unreadable_svs_files` (full_file_name,filesize) Values ('/TCGA_MIRROR/tcga-data.nci.nih.gov/tcgafiles/ftp_auth/distro_ftpusers/anonymous/tumor/hnsc/bcr/nationwidechildrens.org/tissue_images/slide_images/nationwidechildrens.org_HNSC.tissue_images.Level_1.190.5.0/TCGA-CR-7368-01A-01-TS1.7f2d8a43-41bb-4710-a47d-fe8582737a1b.svs',7763578) \n",
      "UNABLE TO OPEN FILE?? /TCGA_MIRROR/tcga-data.nci.nih.gov/tcgafiles/ftp_auth/distro_ftpusers/anonymous/tumor/hnsc/bcr/nationwidechildrens.org/tissue_images/slide_images/nationwidechildrens.org_HNSC.tissue_images.Level_1.190.5.0/TCGA-CR-7368-01A-01-TS1.7f2d8a43-41bb-4710-a47d-fe8582737a1b.svs\n",
      "\u001b[KTotal Processed: 4393  Newly Processed: 0 Dup Slides or Already Loaded: 4159  RESCANNED Slides 25"
     ]
    },
    {
     "name": "stderr",
     "output_type": "stream",
     "text": [
      " ()\n",
      "Verify failed with:"
     ]
    },
    {
     "name": "stdout",
     "output_type": "stream",
     "text": [
      "Openslide returned an error om tje StandardError block /TCGA_MIRROR/tcga-data.nci.nih.gov/tcgafiles/ftp_auth/distro_ftpusers/anonymous/tumor/hnsc/bcr/nationwidechildrens.org/tissue_images/slide_images/nationwidechildrens.org_HNSC.tissue_images.Level_1.190.5.0/TCGA-CV-7432-11A-01-TS1.2723fd69-fe85-4d28-bd30-5d88d70851ba.svs\n",
      "SHIT IT DIED!\n",
      "insert into `corrupt_or_unreadable_svs_files` (full_file_name,filesize) Values ('/TCGA_MIRROR/tcga-data.nci.nih.gov/tcgafiles/ftp_auth/distro_ftpusers/anonymous/tumor/hnsc/bcr/nationwidechildrens.org/tissue_images/slide_images/nationwidechildrens.org_HNSC.tissue_images.Level_1.190.5.0/TCGA-CV-7432-11A-01-TS1.2723fd69-fe85-4d28-bd30-5d88d70851ba.svs',1078046) \n",
      "UNABLE TO OPEN FILE?? /TCGA_MIRROR/tcga-data.nci.nih.gov/tcgafiles/ftp_auth/distro_ftpusers/anonymous/tumor/hnsc/bcr/nationwidechildrens.org/tissue_images/slide_images/nationwidechildrens.org_HNSC.tissue_images.Level_1.190.5.0/TCGA-CV-7432-11A-01-TS1.2723fd69-fe85-4d28-bd30-5d88d70851ba.svs\n",
      "\u001b[KTotal Processed: 4395  Newly Processed: 0 Dup Slides or Already Loaded: 4160  RESCANNED Slides 25"
     ]
    },
    {
     "name": "stderr",
     "output_type": "stream",
     "text": [
      " ()\n",
      "Verify failed with:"
     ]
    },
    {
     "name": "stdout",
     "output_type": "stream",
     "text": [
      "Openslide returned an error om tje StandardError block /TCGA_MIRROR/tcga-data.nci.nih.gov/tcgafiles/ftp_auth/distro_ftpusers/anonymous/tumor/hnsc/bcr/nationwidechildrens.org/tissue_images/slide_images/nationwidechildrens.org_HNSC.tissue_images.Level_1.190.5.0/TCGA-CR-7376-01A-01-TS1.83c90067-3687-432f-a33c-6ae1275d22b8.svs\n",
      "SHIT IT DIED!\n",
      "insert into `corrupt_or_unreadable_svs_files` (full_file_name,filesize) Values ('/TCGA_MIRROR/tcga-data.nci.nih.gov/tcgafiles/ftp_auth/distro_ftpusers/anonymous/tumor/hnsc/bcr/nationwidechildrens.org/tissue_images/slide_images/nationwidechildrens.org_HNSC.tissue_images.Level_1.190.5.0/TCGA-CR-7376-01A-01-TS1.83c90067-3687-432f-a33c-6ae1275d22b8.svs',7964282) \n",
      "UNABLE TO OPEN FILE?? /TCGA_MIRROR/tcga-data.nci.nih.gov/tcgafiles/ftp_auth/distro_ftpusers/anonymous/tumor/hnsc/bcr/nationwidechildrens.org/tissue_images/slide_images/nationwidechildrens.org_HNSC.tissue_images.Level_1.190.5.0/TCGA-CR-7376-01A-01-TS1.83c90067-3687-432f-a33c-6ae1275d22b8.svs\n",
      "\u001b[KTotal Processed: 4401  Newly Processed: 0 Dup Slides or Already Loaded: 4165  RESCANNED Slides 25"
     ]
    },
    {
     "name": "stderr",
     "output_type": "stream",
     "text": [
      " ()\n",
      "Verify failed with:"
     ]
    },
    {
     "name": "stdout",
     "output_type": "stream",
     "text": [
      "Openslide returned an error om tje StandardError block /TCGA_MIRROR/tcga-data.nci.nih.gov/tcgafiles/ftp_auth/distro_ftpusers/anonymous/tumor/hnsc/bcr/nationwidechildrens.org/tissue_images/slide_images/nationwidechildrens.org_HNSC.tissue_images.Level_1.190.5.0/TCGA-CR-7370-01A-01-TS1.64497fbc-92c7-4d47-820c-2c213b709ced.svs\n",
      "SHIT IT DIED!\n",
      "insert into `corrupt_or_unreadable_svs_files` (full_file_name,filesize) Values ('/TCGA_MIRROR/tcga-data.nci.nih.gov/tcgafiles/ftp_auth/distro_ftpusers/anonymous/tumor/hnsc/bcr/nationwidechildrens.org/tissue_images/slide_images/nationwidechildrens.org_HNSC.tissue_images.Level_1.190.5.0/TCGA-CR-7370-01A-01-TS1.64497fbc-92c7-4d47-820c-2c213b709ced.svs',8257680) \n",
      "UNABLE TO OPEN FILE?? /TCGA_MIRROR/tcga-data.nci.nih.gov/tcgafiles/ftp_auth/distro_ftpusers/anonymous/tumor/hnsc/bcr/nationwidechildrens.org/tissue_images/slide_images/nationwidechildrens.org_HNSC.tissue_images.Level_1.190.5.0/TCGA-CR-7370-01A-01-TS1.64497fbc-92c7-4d47-820c-2c213b709ced.svs\n",
      "\u001b[KTotal Processed: 4406  Newly Processed: 0 Dup Slides or Already Loaded: 4169  RESCANNED Slides 25"
     ]
    },
    {
     "name": "stderr",
     "output_type": "stream",
     "text": [
      " ()\n",
      "Verify failed with:"
     ]
    },
    {
     "name": "stdout",
     "output_type": "stream",
     "text": [
      "Openslide returned an error om tje StandardError block /TCGA_MIRROR/tcga-data.nci.nih.gov/tcgafiles/ftp_auth/distro_ftpusers/anonymous/tumor/hnsc/bcr/nationwidechildrens.org/tissue_images/slide_images/nationwidechildrens.org_HNSC.tissue_images.Level_1.190.5.0/TCGA-CR-7383-01A-01-TS1.fb97f2e7-90c4-48d6-aabb-33999d58436a.svs\n",
      "SHIT IT DIED!\n",
      "insert into `corrupt_or_unreadable_svs_files` (full_file_name,filesize) Values ('/TCGA_MIRROR/tcga-data.nci.nih.gov/tcgafiles/ftp_auth/distro_ftpusers/anonymous/tumor/hnsc/bcr/nationwidechildrens.org/tissue_images/slide_images/nationwidechildrens.org_HNSC.tissue_images.Level_1.190.5.0/TCGA-CR-7383-01A-01-TS1.fb97f2e7-90c4-48d6-aabb-33999d58436a.svs',9042366) \n",
      "UNABLE TO OPEN FILE?? /TCGA_MIRROR/tcga-data.nci.nih.gov/tcgafiles/ftp_auth/distro_ftpusers/anonymous/tumor/hnsc/bcr/nationwidechildrens.org/tissue_images/slide_images/nationwidechildrens.org_HNSC.tissue_images.Level_1.190.5.0/TCGA-CR-7383-01A-01-TS1.fb97f2e7-90c4-48d6-aabb-33999d58436a.svs\n",
      "\u001b[KTotal Processed: 4409  Newly Processed: 0 Dup Slides or Already Loaded: 4171  RESCANNED Slides 25"
     ]
    },
    {
     "name": "stderr",
     "output_type": "stream",
     "text": [
      " ()\n",
      "Verify failed with:"
     ]
    },
    {
     "name": "stdout",
     "output_type": "stream",
     "text": [
      "Openslide returned an error om tje StandardError block /TCGA_MIRROR/tcga-data.nci.nih.gov/tcgafiles/ftp_auth/distro_ftpusers/anonymous/tumor/hnsc/bcr/nationwidechildrens.org/tissue_images/slide_images/nationwidechildrens.org_HNSC.tissue_images.Level_1.190.5.0/TCGA-CV-7437-11A-01-TS1.8e151b18-1cf8-4c0e-b9ef-b0926b39816b.svs\n",
      "SHIT IT DIED!\n",
      "insert into `corrupt_or_unreadable_svs_files` (full_file_name,filesize) Values ('/TCGA_MIRROR/tcga-data.nci.nih.gov/tcgafiles/ftp_auth/distro_ftpusers/anonymous/tumor/hnsc/bcr/nationwidechildrens.org/tissue_images/slide_images/nationwidechildrens.org_HNSC.tissue_images.Level_1.190.5.0/TCGA-CV-7437-11A-01-TS1.8e151b18-1cf8-4c0e-b9ef-b0926b39816b.svs',896992) \n",
      "UNABLE TO OPEN FILE?? /TCGA_MIRROR/tcga-data.nci.nih.gov/tcgafiles/ftp_auth/distro_ftpusers/anonymous/tumor/hnsc/bcr/nationwidechildrens.org/tissue_images/slide_images/nationwidechildrens.org_HNSC.tissue_images.Level_1.190.5.0/TCGA-CV-7437-11A-01-TS1.8e151b18-1cf8-4c0e-b9ef-b0926b39816b.svs\n",
      "\r",
      "\u001b[KTotal Processed: 4410  Newly Processed: 0 Dup Slides or Already Loaded: 4171  RESCANNED Slides 25"
     ]
    },
    {
     "name": "stderr",
     "output_type": "stream",
     "text": [
      " ()\n",
      "Verify failed with:"
     ]
    },
    {
     "name": "stdout",
     "output_type": "stream",
     "text": [
      "Openslide returned an error om tje StandardError block /TCGA_MIRROR/tcga-data.nci.nih.gov/tcgafiles/ftp_auth/distro_ftpusers/anonymous/tumor/hnsc/bcr/nationwidechildrens.org/tissue_images/slide_images/nationwidechildrens.org_HNSC.tissue_images.Level_1.190.5.0/TCGA-CR-7382-01A-01-TS1.9e029917-9273-4ae1-819d-1022ad6c5c52.svs\n",
      "SHIT IT DIED!\n",
      "insert into `corrupt_or_unreadable_svs_files` (full_file_name,filesize) Values ('/TCGA_MIRROR/tcga-data.nci.nih.gov/tcgafiles/ftp_auth/distro_ftpusers/anonymous/tumor/hnsc/bcr/nationwidechildrens.org/tissue_images/slide_images/nationwidechildrens.org_HNSC.tissue_images.Level_1.190.5.0/TCGA-CR-7382-01A-01-TS1.9e029917-9273-4ae1-819d-1022ad6c5c52.svs',8220284) \n",
      "UNABLE TO OPEN FILE?? /TCGA_MIRROR/tcga-data.nci.nih.gov/tcgafiles/ftp_auth/distro_ftpusers/anonymous/tumor/hnsc/bcr/nationwidechildrens.org/tissue_images/slide_images/nationwidechildrens.org_HNSC.tissue_images.Level_1.190.5.0/TCGA-CR-7382-01A-01-TS1.9e029917-9273-4ae1-819d-1022ad6c5c52.svs\n",
      "\r",
      "\u001b[KTotal Processed: 4411  Newly Processed: 0 Dup Slides or Already Loaded: 4171  RESCANNED Slides 25"
     ]
    },
    {
     "name": "stderr",
     "output_type": "stream",
     "text": [
      " ()\n",
      "Verify failed with:"
     ]
    },
    {
     "name": "stdout",
     "output_type": "stream",
     "text": [
      "Openslide returned an error om tje StandardError block /TCGA_MIRROR/tcga-data.nci.nih.gov/tcgafiles/ftp_auth/distro_ftpusers/anonymous/tumor/hnsc/bcr/nationwidechildrens.org/tissue_images/slide_images/nationwidechildrens.org_HNSC.tissue_images.Level_1.190.5.0/TCGA-CR-7369-01A-01-TS1.2552be32-9bff-4fee-87c0-6cd47e0b6b6c.svs\n",
      "SHIT IT DIED!\n",
      "insert into `corrupt_or_unreadable_svs_files` (full_file_name,filesize) Values ('/TCGA_MIRROR/tcga-data.nci.nih.gov/tcgafiles/ftp_auth/distro_ftpusers/anonymous/tumor/hnsc/bcr/nationwidechildrens.org/tissue_images/slide_images/nationwidechildrens.org_HNSC.tissue_images.Level_1.190.5.0/TCGA-CR-7369-01A-01-TS1.2552be32-9bff-4fee-87c0-6cd47e0b6b6c.svs',9447746) \n",
      "UNABLE TO OPEN FILE?? /TCGA_MIRROR/tcga-data.nci.nih.gov/tcgafiles/ftp_auth/distro_ftpusers/anonymous/tumor/hnsc/bcr/nationwidechildrens.org/tissue_images/slide_images/nationwidechildrens.org_HNSC.tissue_images.Level_1.190.5.0/TCGA-CR-7369-01A-01-TS1.2552be32-9bff-4fee-87c0-6cd47e0b6b6c.svs\n",
      "\u001b[KTotal Processed: 4414  Newly Processed: 0 Dup Slides or Already Loaded: 4173  RESCANNED Slides 25"
     ]
    },
    {
     "name": "stderr",
     "output_type": "stream",
     "text": [
      " ()\n",
      "Verify failed with:"
     ]
    },
    {
     "name": "stdout",
     "output_type": "stream",
     "text": [
      "Openslide returned an error om tje StandardError block /TCGA_MIRROR/tcga-data.nci.nih.gov/tcgafiles/ftp_auth/distro_ftpusers/anonymous/tumor/hnsc/bcr/nationwidechildrens.org/tissue_images/slide_images/nationwidechildrens.org_HNSC.tissue_images.Level_1.190.5.0/TCGA-CV-7440-11A-01-TS1.23ad603f-28ca-41a4-85ab-305387e3c134.svs\n",
      "SHIT IT DIED!\n",
      "insert into `corrupt_or_unreadable_svs_files` (full_file_name,filesize) Values ('/TCGA_MIRROR/tcga-data.nci.nih.gov/tcgafiles/ftp_auth/distro_ftpusers/anonymous/tumor/hnsc/bcr/nationwidechildrens.org/tissue_images/slide_images/nationwidechildrens.org_HNSC.tissue_images.Level_1.190.5.0/TCGA-CV-7440-11A-01-TS1.23ad603f-28ca-41a4-85ab-305387e3c134.svs',874894) \n",
      "UNABLE TO OPEN FILE?? /TCGA_MIRROR/tcga-data.nci.nih.gov/tcgafiles/ftp_auth/distro_ftpusers/anonymous/tumor/hnsc/bcr/nationwidechildrens.org/tissue_images/slide_images/nationwidechildrens.org_HNSC.tissue_images.Level_1.190.5.0/TCGA-CV-7440-11A-01-TS1.23ad603f-28ca-41a4-85ab-305387e3c134.svs\n",
      "\u001b[KTotal Processed: 4415  Newly Processed: 0 Dup Slides or Already Loaded: 4173  RESCANNED Slides 25"
     ]
    },
    {
     "name": "stderr",
     "output_type": "stream",
     "text": [
      " ()\n",
      "Verify failed with:"
     ]
    },
    {
     "name": "stdout",
     "output_type": "stream",
     "text": [
      "Openslide returned an error om tje StandardError block /TCGA_MIRROR/tcga-data.nci.nih.gov/tcgafiles/ftp_auth/distro_ftpusers/anonymous/tumor/hnsc/bcr/nationwidechildrens.org/tissue_images/slide_images/nationwidechildrens.org_HNSC.tissue_images.Level_1.190.5.0/TCGA-CR-7404-01A-01-TS1.ee301de9-bfe7-4a00-810c-4912073ec2c9.svs\n",
      "SHIT IT DIED!\n",
      "insert into `corrupt_or_unreadable_svs_files` (full_file_name,filesize) Values ('/TCGA_MIRROR/tcga-data.nci.nih.gov/tcgafiles/ftp_auth/distro_ftpusers/anonymous/tumor/hnsc/bcr/nationwidechildrens.org/tissue_images/slide_images/nationwidechildrens.org_HNSC.tissue_images.Level_1.190.5.0/TCGA-CR-7404-01A-01-TS1.ee301de9-bfe7-4a00-810c-4912073ec2c9.svs',9437782) \n",
      "UNABLE TO OPEN FILE?? /TCGA_MIRROR/tcga-data.nci.nih.gov/tcgafiles/ftp_auth/distro_ftpusers/anonymous/tumor/hnsc/bcr/nationwidechildrens.org/tissue_images/slide_images/nationwidechildrens.org_HNSC.tissue_images.Level_1.190.5.0/TCGA-CR-7404-01A-01-TS1.ee301de9-bfe7-4a00-810c-4912073ec2c9.svs\n",
      "\u001b[KTotal Processed: 4419  Newly Processed: 0 Dup Slides or Already Loaded: 4176  RESCANNED Slides 25"
     ]
    },
    {
     "name": "stderr",
     "output_type": "stream",
     "text": [
      " ()\n",
      "Verify failed with:"
     ]
    },
    {
     "name": "stdout",
     "output_type": "stream",
     "text": [
      "Openslide returned an error om tje StandardError block /TCGA_MIRROR/tcga-data.nci.nih.gov/tcgafiles/ftp_auth/distro_ftpusers/anonymous/tumor/hnsc/bcr/nationwidechildrens.org/tissue_images/slide_images/nationwidechildrens.org_HNSC.tissue_images.Level_1.190.5.0/TCGA-CV-7430-11A-01-TS1.cfb96f47-a762-44b4-9ecf-c83dcce0bc38.svs\n",
      "SHIT IT DIED!\n",
      "insert into `corrupt_or_unreadable_svs_files` (full_file_name,filesize) Values ('/TCGA_MIRROR/tcga-data.nci.nih.gov/tcgafiles/ftp_auth/distro_ftpusers/anonymous/tumor/hnsc/bcr/nationwidechildrens.org/tissue_images/slide_images/nationwidechildrens.org_HNSC.tissue_images.Level_1.190.5.0/TCGA-CV-7430-11A-01-TS1.cfb96f47-a762-44b4-9ecf-c83dcce0bc38.svs',935488) \n",
      "UNABLE TO OPEN FILE?? /TCGA_MIRROR/tcga-data.nci.nih.gov/tcgafiles/ftp_auth/distro_ftpusers/anonymous/tumor/hnsc/bcr/nationwidechildrens.org/tissue_images/slide_images/nationwidechildrens.org_HNSC.tissue_images.Level_1.190.5.0/TCGA-CV-7430-11A-01-TS1.cfb96f47-a762-44b4-9ecf-c83dcce0bc38.svs\n",
      "\u001b[KTotal Processed: 4422  Newly Processed: 0 Dup Slides or Already Loaded: 4178  RESCANNED Slides 25"
     ]
    },
    {
     "name": "stderr",
     "output_type": "stream",
     "text": [
      " ()\n",
      "Verify failed with:"
     ]
    },
    {
     "name": "stdout",
     "output_type": "stream",
     "text": [
      "Openslide returned an error om tje StandardError block /TCGA_MIRROR/tcga-data.nci.nih.gov/tcgafiles/ftp_auth/distro_ftpusers/anonymous/tumor/hnsc/bcr/nationwidechildrens.org/tissue_images/slide_images/nationwidechildrens.org_HNSC.tissue_images.Level_1.190.5.0/TCGA-CV-7438-11A-01-TS1.ed88be75-1dea-43e4-97b3-6295536c5afc.svs\n",
      "SHIT IT DIED!\n",
      "insert into `corrupt_or_unreadable_svs_files` (full_file_name,filesize) Values ('/TCGA_MIRROR/tcga-data.nci.nih.gov/tcgafiles/ftp_auth/distro_ftpusers/anonymous/tumor/hnsc/bcr/nationwidechildrens.org/tissue_images/slide_images/nationwidechildrens.org_HNSC.tissue_images.Level_1.190.5.0/TCGA-CV-7438-11A-01-TS1.ed88be75-1dea-43e4-97b3-6295536c5afc.svs',866078) \n",
      "UNABLE TO OPEN FILE?? /TCGA_MIRROR/tcga-data.nci.nih.gov/tcgafiles/ftp_auth/distro_ftpusers/anonymous/tumor/hnsc/bcr/nationwidechildrens.org/tissue_images/slide_images/nationwidechildrens.org_HNSC.tissue_images.Level_1.190.5.0/TCGA-CV-7438-11A-01-TS1.ed88be75-1dea-43e4-97b3-6295536c5afc.svs\n",
      "\u001b[KTotal Processed: 4424  Newly Processed: 0 Dup Slides or Already Loaded: 4179  RESCANNED Slides 25"
     ]
    },
    {
     "name": "stderr",
     "output_type": "stream",
     "text": [
      " ()\n",
      "Verify failed with:"
     ]
    },
    {
     "name": "stdout",
     "output_type": "stream",
     "text": [
      "Openslide returned an error om tje StandardError block /TCGA_MIRROR/tcga-data.nci.nih.gov/tcgafiles/ftp_auth/distro_ftpusers/anonymous/tumor/hnsc/bcr/nationwidechildrens.org/tissue_images/slide_images/nationwidechildrens.org_HNSC.tissue_images.Level_1.190.5.0/TCGA-CV-7435-11A-01-TS1.8dc4fdf1-bbce-4786-824b-7d7d017255b8.svs\n",
      "SHIT IT DIED!\n",
      "insert into `corrupt_or_unreadable_svs_files` (full_file_name,filesize) Values ('/TCGA_MIRROR/tcga-data.nci.nih.gov/tcgafiles/ftp_auth/distro_ftpusers/anonymous/tumor/hnsc/bcr/nationwidechildrens.org/tissue_images/slide_images/nationwidechildrens.org_HNSC.tissue_images.Level_1.190.5.0/TCGA-CV-7435-11A-01-TS1.8dc4fdf1-bbce-4786-824b-7d7d017255b8.svs',915058) \n",
      "UNABLE TO OPEN FILE?? /TCGA_MIRROR/tcga-data.nci.nih.gov/tcgafiles/ftp_auth/distro_ftpusers/anonymous/tumor/hnsc/bcr/nationwidechildrens.org/tissue_images/slide_images/nationwidechildrens.org_HNSC.tissue_images.Level_1.190.5.0/TCGA-CV-7435-11A-01-TS1.8dc4fdf1-bbce-4786-824b-7d7d017255b8.svs\n",
      "\u001b[KTotal Processed: 4505  Newly Processed: 0 Dup Slides or Already Loaded: 4259  RESCANNED Slides 25"
     ]
    },
    {
     "name": "stderr",
     "output_type": "stream",
     "text": [
      " ()\n",
      "Verify failed with:"
     ]
    },
    {
     "name": "stdout",
     "output_type": "stream",
     "text": [
      "Openslide returned an error om tje StandardError block /TCGA_MIRROR/tcga-data.nci.nih.gov/tcgafiles/ftp_auth/distro_ftpusers/anonymous/tumor/hnsc/bcr/nationwidechildrens.org/tissue_images/slide_images/nationwidechildrens.org_HNSC.tissue_images.Level_1.190.3.0/TCGA-CV-7428-11A-01-TS1.c6a8b9a3-9f52-43aa-8358-6608d047483c.svs\n",
      "SHIT IT DIED!\n",
      "insert into `corrupt_or_unreadable_svs_files` (full_file_name,filesize) Values ('/TCGA_MIRROR/tcga-data.nci.nih.gov/tcgafiles/ftp_auth/distro_ftpusers/anonymous/tumor/hnsc/bcr/nationwidechildrens.org/tissue_images/slide_images/nationwidechildrens.org_HNSC.tissue_images.Level_1.190.3.0/TCGA-CV-7428-11A-01-TS1.c6a8b9a3-9f52-43aa-8358-6608d047483c.svs',998426) \n",
      "UNABLE TO OPEN FILE?? /TCGA_MIRROR/tcga-data.nci.nih.gov/tcgafiles/ftp_auth/distro_ftpusers/anonymous/tumor/hnsc/bcr/nationwidechildrens.org/tissue_images/slide_images/nationwidechildrens.org_HNSC.tissue_images.Level_1.190.3.0/TCGA-CV-7428-11A-01-TS1.c6a8b9a3-9f52-43aa-8358-6608d047483c.svs\n",
      "\r",
      "\u001b[KTotal Processed: 4506  Newly Processed: 0 Dup Slides or Already Loaded: 4259  RESCANNED Slides 25"
     ]
    },
    {
     "name": "stderr",
     "output_type": "stream",
     "text": [
      " ()\n",
      "Verify failed with:"
     ]
    },
    {
     "name": "stdout",
     "output_type": "stream",
     "text": [
      "Openslide returned an error om tje StandardError block /TCGA_MIRROR/tcga-data.nci.nih.gov/tcgafiles/ftp_auth/distro_ftpusers/anonymous/tumor/hnsc/bcr/nationwidechildrens.org/tissue_images/slide_images/nationwidechildrens.org_HNSC.tissue_images.Level_1.190.3.0/TCGA-CV-7434-11A-01-TS1.29dacbd2-d27e-4bef-8551-07fdfaeb6b91.svs\n",
      "SHIT IT DIED!\n",
      "insert into `corrupt_or_unreadable_svs_files` (full_file_name,filesize) Values ('/TCGA_MIRROR/tcga-data.nci.nih.gov/tcgafiles/ftp_auth/distro_ftpusers/anonymous/tumor/hnsc/bcr/nationwidechildrens.org/tissue_images/slide_images/nationwidechildrens.org_HNSC.tissue_images.Level_1.190.3.0/TCGA-CV-7434-11A-01-TS1.29dacbd2-d27e-4bef-8551-07fdfaeb6b91.svs',1006760) \n",
      "UNABLE TO OPEN FILE?? /TCGA_MIRROR/tcga-data.nci.nih.gov/tcgafiles/ftp_auth/distro_ftpusers/anonymous/tumor/hnsc/bcr/nationwidechildrens.org/tissue_images/slide_images/nationwidechildrens.org_HNSC.tissue_images.Level_1.190.3.0/TCGA-CV-7434-11A-01-TS1.29dacbd2-d27e-4bef-8551-07fdfaeb6b91.svs\n",
      "\u001b[KTotal Processed: 4512  Newly Processed: 0 Dup Slides or Already Loaded: 4264  RESCANNED Slides 25"
     ]
    },
    {
     "name": "stderr",
     "output_type": "stream",
     "text": [
      " ()\n",
      "Verify failed with:"
     ]
    },
    {
     "name": "stdout",
     "output_type": "stream",
     "text": [
      "Openslide returned an error om tje StandardError block /TCGA_MIRROR/tcga-data.nci.nih.gov/tcgafiles/ftp_auth/distro_ftpusers/anonymous/tumor/hnsc/bcr/nationwidechildrens.org/tissue_images/slide_images/nationwidechildrens.org_HNSC.tissue_images.Level_1.190.3.0/TCGA-CV-7432-11A-01-TS1.2723fd69-fe85-4d28-bd30-5d88d70851ba.svs\n",
      "SHIT IT DIED!\n",
      "insert into `corrupt_or_unreadable_svs_files` (full_file_name,filesize) Values ('/TCGA_MIRROR/tcga-data.nci.nih.gov/tcgafiles/ftp_auth/distro_ftpusers/anonymous/tumor/hnsc/bcr/nationwidechildrens.org/tissue_images/slide_images/nationwidechildrens.org_HNSC.tissue_images.Level_1.190.3.0/TCGA-CV-7432-11A-01-TS1.2723fd69-fe85-4d28-bd30-5d88d70851ba.svs',1078046) \n",
      "UNABLE TO OPEN FILE?? /TCGA_MIRROR/tcga-data.nci.nih.gov/tcgafiles/ftp_auth/distro_ftpusers/anonymous/tumor/hnsc/bcr/nationwidechildrens.org/tissue_images/slide_images/nationwidechildrens.org_HNSC.tissue_images.Level_1.190.3.0/TCGA-CV-7432-11A-01-TS1.2723fd69-fe85-4d28-bd30-5d88d70851ba.svs\n",
      "\u001b[KTotal Processed: 4526  Newly Processed: 0 Dup Slides or Already Loaded: 4277  RESCANNED Slides 25"
     ]
    },
    {
     "name": "stderr",
     "output_type": "stream",
     "text": [
      " ()\n",
      "Verify failed with:"
     ]
    },
    {
     "name": "stdout",
     "output_type": "stream",
     "text": [
      "Openslide returned an error om tje StandardError block /TCGA_MIRROR/tcga-data.nci.nih.gov/tcgafiles/ftp_auth/distro_ftpusers/anonymous/tumor/hnsc/bcr/nationwidechildrens.org/tissue_images/slide_images/nationwidechildrens.org_HNSC.tissue_images.Level_1.190.3.0/TCGA-CV-7437-11A-01-TS1.8e151b18-1cf8-4c0e-b9ef-b0926b39816b.svs\n",
      "SHIT IT DIED!\n",
      "insert into `corrupt_or_unreadable_svs_files` (full_file_name,filesize) Values ('/TCGA_MIRROR/tcga-data.nci.nih.gov/tcgafiles/ftp_auth/distro_ftpusers/anonymous/tumor/hnsc/bcr/nationwidechildrens.org/tissue_images/slide_images/nationwidechildrens.org_HNSC.tissue_images.Level_1.190.3.0/TCGA-CV-7437-11A-01-TS1.8e151b18-1cf8-4c0e-b9ef-b0926b39816b.svs',896992) \n",
      "UNABLE TO OPEN FILE?? /TCGA_MIRROR/tcga-data.nci.nih.gov/tcgafiles/ftp_auth/distro_ftpusers/anonymous/tumor/hnsc/bcr/nationwidechildrens.org/tissue_images/slide_images/nationwidechildrens.org_HNSC.tissue_images.Level_1.190.3.0/TCGA-CV-7437-11A-01-TS1.8e151b18-1cf8-4c0e-b9ef-b0926b39816b.svs\n",
      "\u001b[KTotal Processed: 4529  Newly Processed: 0 Dup Slides or Already Loaded: 4279  RESCANNED Slides 25"
     ]
    },
    {
     "name": "stderr",
     "output_type": "stream",
     "text": [
      " ()\n",
      "Verify failed with:"
     ]
    },
    {
     "name": "stdout",
     "output_type": "stream",
     "text": [
      "Openslide returned an error om tje StandardError block /TCGA_MIRROR/tcga-data.nci.nih.gov/tcgafiles/ftp_auth/distro_ftpusers/anonymous/tumor/hnsc/bcr/nationwidechildrens.org/tissue_images/slide_images/nationwidechildrens.org_HNSC.tissue_images.Level_1.190.3.0/TCGA-CV-7440-11A-01-TS1.23ad603f-28ca-41a4-85ab-305387e3c134.svs\n",
      "SHIT IT DIED!\n",
      "insert into `corrupt_or_unreadable_svs_files` (full_file_name,filesize) Values ('/TCGA_MIRROR/tcga-data.nci.nih.gov/tcgafiles/ftp_auth/distro_ftpusers/anonymous/tumor/hnsc/bcr/nationwidechildrens.org/tissue_images/slide_images/nationwidechildrens.org_HNSC.tissue_images.Level_1.190.3.0/TCGA-CV-7440-11A-01-TS1.23ad603f-28ca-41a4-85ab-305387e3c134.svs',874894) \n",
      "UNABLE TO OPEN FILE?? /TCGA_MIRROR/tcga-data.nci.nih.gov/tcgafiles/ftp_auth/distro_ftpusers/anonymous/tumor/hnsc/bcr/nationwidechildrens.org/tissue_images/slide_images/nationwidechildrens.org_HNSC.tissue_images.Level_1.190.3.0/TCGA-CV-7440-11A-01-TS1.23ad603f-28ca-41a4-85ab-305387e3c134.svs\n",
      "\u001b[KTotal Processed: 4533  Newly Processed: 0 Dup Slides or Already Loaded: 4282  RESCANNED Slides 25"
     ]
    },
    {
     "name": "stderr",
     "output_type": "stream",
     "text": [
      " ()\n",
      "Verify failed with:"
     ]
    },
    {
     "name": "stdout",
     "output_type": "stream",
     "text": [
      "Openslide returned an error om tje StandardError block /TCGA_MIRROR/tcga-data.nci.nih.gov/tcgafiles/ftp_auth/distro_ftpusers/anonymous/tumor/hnsc/bcr/nationwidechildrens.org/tissue_images/slide_images/nationwidechildrens.org_HNSC.tissue_images.Level_1.190.3.0/TCGA-CV-7430-11A-01-TS1.cfb96f47-a762-44b4-9ecf-c83dcce0bc38.svs\n",
      "SHIT IT DIED!\n",
      "insert into `corrupt_or_unreadable_svs_files` (full_file_name,filesize) Values ('/TCGA_MIRROR/tcga-data.nci.nih.gov/tcgafiles/ftp_auth/distro_ftpusers/anonymous/tumor/hnsc/bcr/nationwidechildrens.org/tissue_images/slide_images/nationwidechildrens.org_HNSC.tissue_images.Level_1.190.3.0/TCGA-CV-7430-11A-01-TS1.cfb96f47-a762-44b4-9ecf-c83dcce0bc38.svs',935488) \n",
      "UNABLE TO OPEN FILE?? /TCGA_MIRROR/tcga-data.nci.nih.gov/tcgafiles/ftp_auth/distro_ftpusers/anonymous/tumor/hnsc/bcr/nationwidechildrens.org/tissue_images/slide_images/nationwidechildrens.org_HNSC.tissue_images.Level_1.190.3.0/TCGA-CV-7430-11A-01-TS1.cfb96f47-a762-44b4-9ecf-c83dcce0bc38.svs\n",
      "\u001b[KTotal Processed: 4536  Newly Processed: 0 Dup Slides or Already Loaded: 4284  RESCANNED Slides 25"
     ]
    },
    {
     "name": "stderr",
     "output_type": "stream",
     "text": [
      " ()\n",
      "Verify failed with:"
     ]
    },
    {
     "name": "stdout",
     "output_type": "stream",
     "text": [
      "Openslide returned an error om tje StandardError block /TCGA_MIRROR/tcga-data.nci.nih.gov/tcgafiles/ftp_auth/distro_ftpusers/anonymous/tumor/hnsc/bcr/nationwidechildrens.org/tissue_images/slide_images/nationwidechildrens.org_HNSC.tissue_images.Level_1.190.3.0/TCGA-CV-7438-11A-01-TS1.ed88be75-1dea-43e4-97b3-6295536c5afc.svs\n",
      "SHIT IT DIED!\n",
      "insert into `corrupt_or_unreadable_svs_files` (full_file_name,filesize) Values ('/TCGA_MIRROR/tcga-data.nci.nih.gov/tcgafiles/ftp_auth/distro_ftpusers/anonymous/tumor/hnsc/bcr/nationwidechildrens.org/tissue_images/slide_images/nationwidechildrens.org_HNSC.tissue_images.Level_1.190.3.0/TCGA-CV-7438-11A-01-TS1.ed88be75-1dea-43e4-97b3-6295536c5afc.svs',866078) \n",
      "UNABLE TO OPEN FILE?? /TCGA_MIRROR/tcga-data.nci.nih.gov/tcgafiles/ftp_auth/distro_ftpusers/anonymous/tumor/hnsc/bcr/nationwidechildrens.org/tissue_images/slide_images/nationwidechildrens.org_HNSC.tissue_images.Level_1.190.3.0/TCGA-CV-7438-11A-01-TS1.ed88be75-1dea-43e4-97b3-6295536c5afc.svs\n",
      "\u001b[KTotal Processed: 4538  Newly Processed: 0 Dup Slides or Already Loaded: 4285  RESCANNED Slides 25"
     ]
    },
    {
     "name": "stderr",
     "output_type": "stream",
     "text": [
      " ()\n",
      "Verify failed with:"
     ]
    },
    {
     "name": "stdout",
     "output_type": "stream",
     "text": [
      "Openslide returned an error om tje StandardError block /TCGA_MIRROR/tcga-data.nci.nih.gov/tcgafiles/ftp_auth/distro_ftpusers/anonymous/tumor/hnsc/bcr/nationwidechildrens.org/tissue_images/slide_images/nationwidechildrens.org_HNSC.tissue_images.Level_1.190.3.0/TCGA-CV-7435-11A-01-TS1.8dc4fdf1-bbce-4786-824b-7d7d017255b8.svs\n",
      "SHIT IT DIED!\n",
      "insert into `corrupt_or_unreadable_svs_files` (full_file_name,filesize) Values ('/TCGA_MIRROR/tcga-data.nci.nih.gov/tcgafiles/ftp_auth/distro_ftpusers/anonymous/tumor/hnsc/bcr/nationwidechildrens.org/tissue_images/slide_images/nationwidechildrens.org_HNSC.tissue_images.Level_1.190.3.0/TCGA-CV-7435-11A-01-TS1.8dc4fdf1-bbce-4786-824b-7d7d017255b8.svs',915058) \n",
      "UNABLE TO OPEN FILE?? /TCGA_MIRROR/tcga-data.nci.nih.gov/tcgafiles/ftp_auth/distro_ftpusers/anonymous/tumor/hnsc/bcr/nationwidechildrens.org/tissue_images/slide_images/nationwidechildrens.org_HNSC.tissue_images.Level_1.190.3.0/TCGA-CV-7435-11A-01-TS1.8dc4fdf1-bbce-4786-824b-7d7d017255b8.svs\n",
      "\u001b[KTotal Processed: 4763  Newly Processed: 0 Dup Slides or Already Loaded: 4509  RESCANNED Slides 25"
     ]
    },
    {
     "name": "stderr",
     "output_type": "stream",
     "text": [
      " ()\n",
      "Verify failed with:"
     ]
    },
    {
     "name": "stdout",
     "output_type": "stream",
     "text": [
      "Openslide returned an error om tje StandardError block /TCGA_MIRROR/tcga-data.nci.nih.gov/tcgafiles/ftp_auth/distro_ftpusers/anonymous/tumor/hnsc/bcr/nationwidechildrens.org/tissue_images/slide_images/nationwidechildrens.org_HNSC.tissue_images.Level_1.164.4.0/TCGA-CR-7385-01A-01-TS1.78e3b7a3-f9f5-46c4-b13d-9f2b28e23d77.svs\n",
      "SHIT IT DIED!\n",
      "insert into `corrupt_or_unreadable_svs_files` (full_file_name,filesize) Values ('/TCGA_MIRROR/tcga-data.nci.nih.gov/tcgafiles/ftp_auth/distro_ftpusers/anonymous/tumor/hnsc/bcr/nationwidechildrens.org/tissue_images/slide_images/nationwidechildrens.org_HNSC.tissue_images.Level_1.164.4.0/TCGA-CR-7385-01A-01-TS1.78e3b7a3-f9f5-46c4-b13d-9f2b28e23d77.svs',8390158) \n",
      "UNABLE TO OPEN FILE?? /TCGA_MIRROR/tcga-data.nci.nih.gov/tcgafiles/ftp_auth/distro_ftpusers/anonymous/tumor/hnsc/bcr/nationwidechildrens.org/tissue_images/slide_images/nationwidechildrens.org_HNSC.tissue_images.Level_1.164.4.0/TCGA-CR-7385-01A-01-TS1.78e3b7a3-f9f5-46c4-b13d-9f2b28e23d77.svs\n",
      "\u001b[KTotal Processed: 4769  Newly Processed: 0 Dup Slides or Already Loaded: 4514  RESCANNED Slides 25"
     ]
    },
    {
     "name": "stderr",
     "output_type": "stream",
     "text": [
      " ()\n",
      "Verify failed with:"
     ]
    },
    {
     "name": "stdout",
     "output_type": "stream",
     "text": [
      "Openslide returned an error om tje StandardError block /TCGA_MIRROR/tcga-data.nci.nih.gov/tcgafiles/ftp_auth/distro_ftpusers/anonymous/tumor/hnsc/bcr/nationwidechildrens.org/tissue_images/slide_images/nationwidechildrens.org_HNSC.tissue_images.Level_1.164.4.0/TCGA-CR-7388-01A-01-TS1.472564e9-a7fe-4e01-a1fe-fc89570fb7a9.svs\n",
      "SHIT IT DIED!\n",
      "insert into `corrupt_or_unreadable_svs_files` (full_file_name,filesize) Values ('/TCGA_MIRROR/tcga-data.nci.nih.gov/tcgafiles/ftp_auth/distro_ftpusers/anonymous/tumor/hnsc/bcr/nationwidechildrens.org/tissue_images/slide_images/nationwidechildrens.org_HNSC.tissue_images.Level_1.164.4.0/TCGA-CR-7388-01A-01-TS1.472564e9-a7fe-4e01-a1fe-fc89570fb7a9.svs',8602086) \n",
      "UNABLE TO OPEN FILE?? /TCGA_MIRROR/tcga-data.nci.nih.gov/tcgafiles/ftp_auth/distro_ftpusers/anonymous/tumor/hnsc/bcr/nationwidechildrens.org/tissue_images/slide_images/nationwidechildrens.org_HNSC.tissue_images.Level_1.164.4.0/TCGA-CR-7388-01A-01-TS1.472564e9-a7fe-4e01-a1fe-fc89570fb7a9.svs\n",
      "\u001b[KTotal Processed: 4771  Newly Processed: 0 Dup Slides or Already Loaded: 4515  RESCANNED Slides 25"
     ]
    },
    {
     "name": "stderr",
     "output_type": "stream",
     "text": [
      " ()\n",
      "Verify failed with:"
     ]
    },
    {
     "name": "stdout",
     "output_type": "stream",
     "text": [
      "Openslide returned an error om tje StandardError block /TCGA_MIRROR/tcga-data.nci.nih.gov/tcgafiles/ftp_auth/distro_ftpusers/anonymous/tumor/hnsc/bcr/nationwidechildrens.org/tissue_images/slide_images/nationwidechildrens.org_HNSC.tissue_images.Level_1.164.4.0/TCGA-CR-7374-01A-01-TS1.3d964d61-9a19-468c-acc9-e0b348070cbc.svs\n",
      "SHIT IT DIED!\n",
      "insert into `corrupt_or_unreadable_svs_files` (full_file_name,filesize) Values ('/TCGA_MIRROR/tcga-data.nci.nih.gov/tcgafiles/ftp_auth/distro_ftpusers/anonymous/tumor/hnsc/bcr/nationwidechildrens.org/tissue_images/slide_images/nationwidechildrens.org_HNSC.tissue_images.Level_1.164.4.0/TCGA-CR-7374-01A-01-TS1.3d964d61-9a19-468c-acc9-e0b348070cbc.svs',5616954) \n",
      "UNABLE TO OPEN FILE?? /TCGA_MIRROR/tcga-data.nci.nih.gov/tcgafiles/ftp_auth/distro_ftpusers/anonymous/tumor/hnsc/bcr/nationwidechildrens.org/tissue_images/slide_images/nationwidechildrens.org_HNSC.tissue_images.Level_1.164.4.0/TCGA-CR-7374-01A-01-TS1.3d964d61-9a19-468c-acc9-e0b348070cbc.svs\n",
      "\u001b[KTotal Processed: 4773  Newly Processed: 0 Dup Slides or Already Loaded: 4516  RESCANNED Slides 25"
     ]
    },
    {
     "name": "stderr",
     "output_type": "stream",
     "text": [
      " ()\n",
      "Verify failed with:"
     ]
    },
    {
     "name": "stdout",
     "output_type": "stream",
     "text": [
      "Openslide returned an error om tje StandardError block /TCGA_MIRROR/tcga-data.nci.nih.gov/tcgafiles/ftp_auth/distro_ftpusers/anonymous/tumor/hnsc/bcr/nationwidechildrens.org/tissue_images/slide_images/nationwidechildrens.org_HNSC.tissue_images.Level_1.164.4.0/TCGA-CR-7390-01A-01-TS1.90a9a363-84ca-4d48-b5e9-bd34bf6b786d.svs\n",
      "SHIT IT DIED!\n",
      "insert into `corrupt_or_unreadable_svs_files` (full_file_name,filesize) Values ('/TCGA_MIRROR/tcga-data.nci.nih.gov/tcgafiles/ftp_auth/distro_ftpusers/anonymous/tumor/hnsc/bcr/nationwidechildrens.org/tissue_images/slide_images/nationwidechildrens.org_HNSC.tissue_images.Level_1.164.4.0/TCGA-CR-7390-01A-01-TS1.90a9a363-84ca-4d48-b5e9-bd34bf6b786d.svs',8382892) \n",
      "UNABLE TO OPEN FILE?? /TCGA_MIRROR/tcga-data.nci.nih.gov/tcgafiles/ftp_auth/distro_ftpusers/anonymous/tumor/hnsc/bcr/nationwidechildrens.org/tissue_images/slide_images/nationwidechildrens.org_HNSC.tissue_images.Level_1.164.4.0/TCGA-CR-7390-01A-01-TS1.90a9a363-84ca-4d48-b5e9-bd34bf6b786d.svs\n",
      "\u001b[KTotal Processed: 4779  Newly Processed: 0 Dup Slides or Already Loaded: 4521  RESCANNED Slides 25"
     ]
    },
    {
     "name": "stderr",
     "output_type": "stream",
     "text": [
      " ()\n",
      "Verify failed with:"
     ]
    },
    {
     "name": "stdout",
     "output_type": "stream",
     "text": [
      "Openslide returned an error om tje StandardError block /TCGA_MIRROR/tcga-data.nci.nih.gov/tcgafiles/ftp_auth/distro_ftpusers/anonymous/tumor/hnsc/bcr/nationwidechildrens.org/tissue_images/slide_images/nationwidechildrens.org_HNSC.tissue_images.Level_1.164.4.0/TCGA-CR-7397-01A-01-TS1.666cc25d-2190-4325-8cd1-86723bd8a364.svs\n",
      "SHIT IT DIED!\n",
      "insert into `corrupt_or_unreadable_svs_files` (full_file_name,filesize) Values ('/TCGA_MIRROR/tcga-data.nci.nih.gov/tcgafiles/ftp_auth/distro_ftpusers/anonymous/tumor/hnsc/bcr/nationwidechildrens.org/tissue_images/slide_images/nationwidechildrens.org_HNSC.tissue_images.Level_1.164.4.0/TCGA-CR-7397-01A-01-TS1.666cc25d-2190-4325-8cd1-86723bd8a364.svs',3902748) \n",
      "UNABLE TO OPEN FILE?? /TCGA_MIRROR/tcga-data.nci.nih.gov/tcgafiles/ftp_auth/distro_ftpusers/anonymous/tumor/hnsc/bcr/nationwidechildrens.org/tissue_images/slide_images/nationwidechildrens.org_HNSC.tissue_images.Level_1.164.4.0/TCGA-CR-7397-01A-01-TS1.666cc25d-2190-4325-8cd1-86723bd8a364.svs\n",
      "\r",
      "\u001b[KTotal Processed: 4780  Newly Processed: 0 Dup Slides or Already Loaded: 4521  RESCANNED Slides 25"
     ]
    },
    {
     "name": "stderr",
     "output_type": "stream",
     "text": [
      " ()\n",
      "Verify failed with:"
     ]
    },
    {
     "name": "stdout",
     "output_type": "stream",
     "text": [
      "Openslide returned an error om tje StandardError block /TCGA_MIRROR/tcga-data.nci.nih.gov/tcgafiles/ftp_auth/distro_ftpusers/anonymous/tumor/hnsc/bcr/nationwidechildrens.org/tissue_images/slide_images/nationwidechildrens.org_HNSC.tissue_images.Level_1.164.4.0/TCGA-CR-7379-01A-01-TS1.1b4881f2-f976-42b3-8f75-c5ebbc9560af.svs\n",
      "SHIT IT DIED!\n",
      "insert into `corrupt_or_unreadable_svs_files` (full_file_name,filesize) Values ('/TCGA_MIRROR/tcga-data.nci.nih.gov/tcgafiles/ftp_auth/distro_ftpusers/anonymous/tumor/hnsc/bcr/nationwidechildrens.org/tissue_images/slide_images/nationwidechildrens.org_HNSC.tissue_images.Level_1.164.4.0/TCGA-CR-7379-01A-01-TS1.1b4881f2-f976-42b3-8f75-c5ebbc9560af.svs',7578942) \n",
      "UNABLE TO OPEN FILE?? /TCGA_MIRROR/tcga-data.nci.nih.gov/tcgafiles/ftp_auth/distro_ftpusers/anonymous/tumor/hnsc/bcr/nationwidechildrens.org/tissue_images/slide_images/nationwidechildrens.org_HNSC.tissue_images.Level_1.164.4.0/TCGA-CR-7379-01A-01-TS1.1b4881f2-f976-42b3-8f75-c5ebbc9560af.svs\n",
      "\u001b[KTotal Processed: 4787  Newly Processed: 0 Dup Slides or Already Loaded: 4527  RESCANNED Slides 25"
     ]
    },
    {
     "name": "stderr",
     "output_type": "stream",
     "text": [
      " ()\n",
      "Verify failed with:"
     ]
    },
    {
     "name": "stdout",
     "output_type": "stream",
     "text": [
      "Openslide returned an error om tje StandardError block /TCGA_MIRROR/tcga-data.nci.nih.gov/tcgafiles/ftp_auth/distro_ftpusers/anonymous/tumor/hnsc/bcr/nationwidechildrens.org/tissue_images/slide_images/nationwidechildrens.org_HNSC.tissue_images.Level_1.164.4.0/TCGA-CR-7365-01A-01-TS1.811bb2b7-66e3-4694-891b-10b436ec300d.svs\n",
      "SHIT IT DIED!\n",
      "insert into `corrupt_or_unreadable_svs_files` (full_file_name,filesize) Values ('/TCGA_MIRROR/tcga-data.nci.nih.gov/tcgafiles/ftp_auth/distro_ftpusers/anonymous/tumor/hnsc/bcr/nationwidechildrens.org/tissue_images/slide_images/nationwidechildrens.org_HNSC.tissue_images.Level_1.164.4.0/TCGA-CR-7365-01A-01-TS1.811bb2b7-66e3-4694-891b-10b436ec300d.svs',8147776) \n",
      "UNABLE TO OPEN FILE?? /TCGA_MIRROR/tcga-data.nci.nih.gov/tcgafiles/ftp_auth/distro_ftpusers/anonymous/tumor/hnsc/bcr/nationwidechildrens.org/tissue_images/slide_images/nationwidechildrens.org_HNSC.tissue_images.Level_1.164.4.0/TCGA-CR-7365-01A-01-TS1.811bb2b7-66e3-4694-891b-10b436ec300d.svs\n",
      "\u001b[KTotal Processed: 4793  Newly Processed: 0 Dup Slides or Already Loaded: 4532  RESCANNED Slides 25"
     ]
    },
    {
     "name": "stderr",
     "output_type": "stream",
     "text": [
      " ()\n",
      "Verify failed with:"
     ]
    },
    {
     "name": "stdout",
     "output_type": "stream",
     "text": [
      "Openslide returned an error om tje StandardError block /TCGA_MIRROR/tcga-data.nci.nih.gov/tcgafiles/ftp_auth/distro_ftpusers/anonymous/tumor/hnsc/bcr/nationwidechildrens.org/tissue_images/slide_images/nationwidechildrens.org_HNSC.tissue_images.Level_1.164.4.0/TCGA-CR-7402-01A-01-TS1.1fd22a5f-3c69-4fc2-b5c9-7fbd01f52158.svs\n",
      "SHIT IT DIED!\n",
      "insert into `corrupt_or_unreadable_svs_files` (full_file_name,filesize) Values ('/TCGA_MIRROR/tcga-data.nci.nih.gov/tcgafiles/ftp_auth/distro_ftpusers/anonymous/tumor/hnsc/bcr/nationwidechildrens.org/tissue_images/slide_images/nationwidechildrens.org_HNSC.tissue_images.Level_1.164.4.0/TCGA-CR-7402-01A-01-TS1.1fd22a5f-3c69-4fc2-b5c9-7fbd01f52158.svs',7829698) \n",
      "UNABLE TO OPEN FILE?? /TCGA_MIRROR/tcga-data.nci.nih.gov/tcgafiles/ftp_auth/distro_ftpusers/anonymous/tumor/hnsc/bcr/nationwidechildrens.org/tissue_images/slide_images/nationwidechildrens.org_HNSC.tissue_images.Level_1.164.4.0/TCGA-CR-7402-01A-01-TS1.1fd22a5f-3c69-4fc2-b5c9-7fbd01f52158.svs\n",
      "\r",
      "\u001b[KTotal Processed: 4794  Newly Processed: 0 Dup Slides or Already Loaded: 4532  RESCANNED Slides 25"
     ]
    },
    {
     "name": "stderr",
     "output_type": "stream",
     "text": [
      " ()\n",
      "Verify failed with:"
     ]
    },
    {
     "name": "stdout",
     "output_type": "stream",
     "text": [
      "Openslide returned an error om tje StandardError block /TCGA_MIRROR/tcga-data.nci.nih.gov/tcgafiles/ftp_auth/distro_ftpusers/anonymous/tumor/hnsc/bcr/nationwidechildrens.org/tissue_images/slide_images/nationwidechildrens.org_HNSC.tissue_images.Level_1.164.4.0/TCGA-CR-7401-01A-01-TS1.5473cd39-dca7-4bd3-8410-13d36a2e9eda.svs\n",
      "SHIT IT DIED!\n",
      "insert into `corrupt_or_unreadable_svs_files` (full_file_name,filesize) Values ('/TCGA_MIRROR/tcga-data.nci.nih.gov/tcgafiles/ftp_auth/distro_ftpusers/anonymous/tumor/hnsc/bcr/nationwidechildrens.org/tissue_images/slide_images/nationwidechildrens.org_HNSC.tissue_images.Level_1.164.4.0/TCGA-CR-7401-01A-01-TS1.5473cd39-dca7-4bd3-8410-13d36a2e9eda.svs',7917322) \n",
      "UNABLE TO OPEN FILE?? /TCGA_MIRROR/tcga-data.nci.nih.gov/tcgafiles/ftp_auth/distro_ftpusers/anonymous/tumor/hnsc/bcr/nationwidechildrens.org/tissue_images/slide_images/nationwidechildrens.org_HNSC.tissue_images.Level_1.164.4.0/TCGA-CR-7401-01A-01-TS1.5473cd39-dca7-4bd3-8410-13d36a2e9eda.svs\n",
      "\u001b[KTotal Processed: 4799  Newly Processed: 0 Dup Slides or Already Loaded: 4536  RESCANNED Slides 25"
     ]
    },
    {
     "name": "stderr",
     "output_type": "stream",
     "text": [
      " ()\n",
      "Verify failed with:"
     ]
    },
    {
     "name": "stdout",
     "output_type": "stream",
     "text": [
      "Openslide returned an error om tje StandardError block /TCGA_MIRROR/tcga-data.nci.nih.gov/tcgafiles/ftp_auth/distro_ftpusers/anonymous/tumor/hnsc/bcr/nationwidechildrens.org/tissue_images/slide_images/nationwidechildrens.org_HNSC.tissue_images.Level_1.164.4.0/TCGA-CR-7372-01A-01-TS1.ef52049e-f636-4d1d-bfb0-58cf853ab420.svs\n",
      "SHIT IT DIED!\n",
      "insert into `corrupt_or_unreadable_svs_files` (full_file_name,filesize) Values ('/TCGA_MIRROR/tcga-data.nci.nih.gov/tcgafiles/ftp_auth/distro_ftpusers/anonymous/tumor/hnsc/bcr/nationwidechildrens.org/tissue_images/slide_images/nationwidechildrens.org_HNSC.tissue_images.Level_1.164.4.0/TCGA-CR-7372-01A-01-TS1.ef52049e-f636-4d1d-bfb0-58cf853ab420.svs',9517398) \n",
      "UNABLE TO OPEN FILE?? /TCGA_MIRROR/tcga-data.nci.nih.gov/tcgafiles/ftp_auth/distro_ftpusers/anonymous/tumor/hnsc/bcr/nationwidechildrens.org/tissue_images/slide_images/nationwidechildrens.org_HNSC.tissue_images.Level_1.164.4.0/TCGA-CR-7372-01A-01-TS1.ef52049e-f636-4d1d-bfb0-58cf853ab420.svs\n",
      "\u001b[KTotal Processed: 4801  Newly Processed: 0 Dup Slides or Already Loaded: 4537  RESCANNED Slides 25"
     ]
    },
    {
     "name": "stderr",
     "output_type": "stream",
     "text": [
      " ()\n",
      "Verify failed with:"
     ]
    },
    {
     "name": "stdout",
     "output_type": "stream",
     "text": [
      "Openslide returned an error om tje StandardError block /TCGA_MIRROR/tcga-data.nci.nih.gov/tcgafiles/ftp_auth/distro_ftpusers/anonymous/tumor/hnsc/bcr/nationwidechildrens.org/tissue_images/slide_images/nationwidechildrens.org_HNSC.tissue_images.Level_1.164.4.0/TCGA-CR-7394-01A-01-TS1.2a55e850-94b8-4e8c-a246-55661a96ecdb.svs\n",
      "SHIT IT DIED!\n",
      "insert into `corrupt_or_unreadable_svs_files` (full_file_name,filesize) Values ('/TCGA_MIRROR/tcga-data.nci.nih.gov/tcgafiles/ftp_auth/distro_ftpusers/anonymous/tumor/hnsc/bcr/nationwidechildrens.org/tissue_images/slide_images/nationwidechildrens.org_HNSC.tissue_images.Level_1.164.4.0/TCGA-CR-7394-01A-01-TS1.2a55e850-94b8-4e8c-a246-55661a96ecdb.svs',7529414) \n",
      "UNABLE TO OPEN FILE?? /TCGA_MIRROR/tcga-data.nci.nih.gov/tcgafiles/ftp_auth/distro_ftpusers/anonymous/tumor/hnsc/bcr/nationwidechildrens.org/tissue_images/slide_images/nationwidechildrens.org_HNSC.tissue_images.Level_1.164.4.0/TCGA-CR-7394-01A-01-TS1.2a55e850-94b8-4e8c-a246-55661a96ecdb.svs\n",
      "\u001b[KTotal Processed: 4803  Newly Processed: 0 Dup Slides or Already Loaded: 4538  RESCANNED Slides 25"
     ]
    },
    {
     "name": "stderr",
     "output_type": "stream",
     "text": [
      " ()\n",
      "Verify failed with:"
     ]
    },
    {
     "name": "stdout",
     "output_type": "stream",
     "text": [
      "Openslide returned an error om tje StandardError block /TCGA_MIRROR/tcga-data.nci.nih.gov/tcgafiles/ftp_auth/distro_ftpusers/anonymous/tumor/hnsc/bcr/nationwidechildrens.org/tissue_images/slide_images/nationwidechildrens.org_HNSC.tissue_images.Level_1.164.4.0/TCGA-CR-7373-01A-01-TS1.2dda5c57-eb9e-4edb-aa70-cd91ac8bde70.svs\n",
      "SHIT IT DIED!\n",
      "insert into `corrupt_or_unreadable_svs_files` (full_file_name,filesize) Values ('/TCGA_MIRROR/tcga-data.nci.nih.gov/tcgafiles/ftp_auth/distro_ftpusers/anonymous/tumor/hnsc/bcr/nationwidechildrens.org/tissue_images/slide_images/nationwidechildrens.org_HNSC.tissue_images.Level_1.164.4.0/TCGA-CR-7373-01A-01-TS1.2dda5c57-eb9e-4edb-aa70-cd91ac8bde70.svs',7507622) \n",
      "UNABLE TO OPEN FILE?? /TCGA_MIRROR/tcga-data.nci.nih.gov/tcgafiles/ftp_auth/distro_ftpusers/anonymous/tumor/hnsc/bcr/nationwidechildrens.org/tissue_images/slide_images/nationwidechildrens.org_HNSC.tissue_images.Level_1.164.4.0/TCGA-CR-7373-01A-01-TS1.2dda5c57-eb9e-4edb-aa70-cd91ac8bde70.svs\n",
      "\u001b[KTotal Processed: 4805  Newly Processed: 0 Dup Slides or Already Loaded: 4539  RESCANNED Slides 25"
     ]
    },
    {
     "name": "stderr",
     "output_type": "stream",
     "text": [
      " ()\n",
      "Verify failed with:"
     ]
    },
    {
     "name": "stdout",
     "output_type": "stream",
     "text": [
      "Openslide returned an error om tje StandardError block /TCGA_MIRROR/tcga-data.nci.nih.gov/tcgafiles/ftp_auth/distro_ftpusers/anonymous/tumor/hnsc/bcr/nationwidechildrens.org/tissue_images/slide_images/nationwidechildrens.org_HNSC.tissue_images.Level_1.164.4.0/TCGA-CR-7395-01A-01-TS1.844e558f-3325-40d4-b294-219b31c66e74.svs\n",
      "SHIT IT DIED!\n",
      "insert into `corrupt_or_unreadable_svs_files` (full_file_name,filesize) Values ('/TCGA_MIRROR/tcga-data.nci.nih.gov/tcgafiles/ftp_auth/distro_ftpusers/anonymous/tumor/hnsc/bcr/nationwidechildrens.org/tissue_images/slide_images/nationwidechildrens.org_HNSC.tissue_images.Level_1.164.4.0/TCGA-CR-7395-01A-01-TS1.844e558f-3325-40d4-b294-219b31c66e74.svs',3901814) \n",
      "UNABLE TO OPEN FILE?? /TCGA_MIRROR/tcga-data.nci.nih.gov/tcgafiles/ftp_auth/distro_ftpusers/anonymous/tumor/hnsc/bcr/nationwidechildrens.org/tissue_images/slide_images/nationwidechildrens.org_HNSC.tissue_images.Level_1.164.4.0/TCGA-CR-7395-01A-01-TS1.844e558f-3325-40d4-b294-219b31c66e74.svs\n",
      "\u001b[KTotal Processed: 4809  Newly Processed: 0 Dup Slides or Already Loaded: 4542  RESCANNED Slides 25"
     ]
    },
    {
     "name": "stderr",
     "output_type": "stream",
     "text": [
      " ()\n",
      "Verify failed with:"
     ]
    },
    {
     "name": "stdout",
     "output_type": "stream",
     "text": [
      "Openslide returned an error om tje StandardError block /TCGA_MIRROR/tcga-data.nci.nih.gov/tcgafiles/ftp_auth/distro_ftpusers/anonymous/tumor/hnsc/bcr/nationwidechildrens.org/tissue_images/slide_images/nationwidechildrens.org_HNSC.tissue_images.Level_1.164.4.0/TCGA-CR-7364-01A-01-TS1.5130155c-8da3-495d-8e17-66fd0656af46.svs\n",
      "SHIT IT DIED!\n",
      "insert into `corrupt_or_unreadable_svs_files` (full_file_name,filesize) Values ('/TCGA_MIRROR/tcga-data.nci.nih.gov/tcgafiles/ftp_auth/distro_ftpusers/anonymous/tumor/hnsc/bcr/nationwidechildrens.org/tissue_images/slide_images/nationwidechildrens.org_HNSC.tissue_images.Level_1.164.4.0/TCGA-CR-7364-01A-01-TS1.5130155c-8da3-495d-8e17-66fd0656af46.svs',7595536) \n",
      "UNABLE TO OPEN FILE?? /TCGA_MIRROR/tcga-data.nci.nih.gov/tcgafiles/ftp_auth/distro_ftpusers/anonymous/tumor/hnsc/bcr/nationwidechildrens.org/tissue_images/slide_images/nationwidechildrens.org_HNSC.tissue_images.Level_1.164.4.0/TCGA-CR-7364-01A-01-TS1.5130155c-8da3-495d-8e17-66fd0656af46.svs\n",
      "\u001b[KTotal Processed: 4818  Newly Processed: 0 Dup Slides or Already Loaded: 4550  RESCANNED Slides 25"
     ]
    },
    {
     "name": "stderr",
     "output_type": "stream",
     "text": [
      " ()\n",
      "Verify failed with:"
     ]
    },
    {
     "name": "stdout",
     "output_type": "stream",
     "text": [
      "Openslide returned an error om tje StandardError block /TCGA_MIRROR/tcga-data.nci.nih.gov/tcgafiles/ftp_auth/distro_ftpusers/anonymous/tumor/hnsc/bcr/nationwidechildrens.org/tissue_images/slide_images/nationwidechildrens.org_HNSC.tissue_images.Level_1.164.4.0/TCGA-CR-7371-01A-01-TS1.796eb4e3-4479-4e3c-b210-2d4f271b5ce7.svs\n",
      "SHIT IT DIED!\n",
      "insert into `corrupt_or_unreadable_svs_files` (full_file_name,filesize) Values ('/TCGA_MIRROR/tcga-data.nci.nih.gov/tcgafiles/ftp_auth/distro_ftpusers/anonymous/tumor/hnsc/bcr/nationwidechildrens.org/tissue_images/slide_images/nationwidechildrens.org_HNSC.tissue_images.Level_1.164.4.0/TCGA-CR-7371-01A-01-TS1.796eb4e3-4479-4e3c-b210-2d4f271b5ce7.svs',8681986) \n",
      "UNABLE TO OPEN FILE?? /TCGA_MIRROR/tcga-data.nci.nih.gov/tcgafiles/ftp_auth/distro_ftpusers/anonymous/tumor/hnsc/bcr/nationwidechildrens.org/tissue_images/slide_images/nationwidechildrens.org_HNSC.tissue_images.Level_1.164.4.0/TCGA-CR-7371-01A-01-TS1.796eb4e3-4479-4e3c-b210-2d4f271b5ce7.svs\n",
      "\u001b[KTotal Processed: 4822  Newly Processed: 0 Dup Slides or Already Loaded: 4553  RESCANNED Slides 25"
     ]
    },
    {
     "name": "stderr",
     "output_type": "stream",
     "text": [
      " ()\n",
      "Verify failed with:"
     ]
    },
    {
     "name": "stdout",
     "output_type": "stream",
     "text": [
      "Openslide returned an error om tje StandardError block /TCGA_MIRROR/tcga-data.nci.nih.gov/tcgafiles/ftp_auth/distro_ftpusers/anonymous/tumor/hnsc/bcr/nationwidechildrens.org/tissue_images/slide_images/nationwidechildrens.org_HNSC.tissue_images.Level_1.164.4.0/TCGA-CR-7380-01A-01-TS1.486d7d24-0e06-4e85-8555-9244219d2ffc.svs\n",
      "SHIT IT DIED!\n",
      "insert into `corrupt_or_unreadable_svs_files` (full_file_name,filesize) Values ('/TCGA_MIRROR/tcga-data.nci.nih.gov/tcgafiles/ftp_auth/distro_ftpusers/anonymous/tumor/hnsc/bcr/nationwidechildrens.org/tissue_images/slide_images/nationwidechildrens.org_HNSC.tissue_images.Level_1.164.4.0/TCGA-CR-7380-01A-01-TS1.486d7d24-0e06-4e85-8555-9244219d2ffc.svs',6616176) \n",
      "UNABLE TO OPEN FILE?? /TCGA_MIRROR/tcga-data.nci.nih.gov/tcgafiles/ftp_auth/distro_ftpusers/anonymous/tumor/hnsc/bcr/nationwidechildrens.org/tissue_images/slide_images/nationwidechildrens.org_HNSC.tissue_images.Level_1.164.4.0/TCGA-CR-7380-01A-01-TS1.486d7d24-0e06-4e85-8555-9244219d2ffc.svs\n",
      "\u001b[KTotal Processed: 4830  Newly Processed: 0 Dup Slides or Already Loaded: 4560  RESCANNED Slides 25"
     ]
    },
    {
     "name": "stderr",
     "output_type": "stream",
     "text": [
      " ()\n",
      "Verify failed with:"
     ]
    },
    {
     "name": "stdout",
     "output_type": "stream",
     "text": [
      "Openslide returned an error om tje StandardError block /TCGA_MIRROR/tcga-data.nci.nih.gov/tcgafiles/ftp_auth/distro_ftpusers/anonymous/tumor/hnsc/bcr/nationwidechildrens.org/tissue_images/slide_images/nationwidechildrens.org_HNSC.tissue_images.Level_1.164.4.0/TCGA-CR-7386-01A-01-TS1.ffcf78f3-b25a-46d2-9d38-69185654c9a5.svs\n",
      "SHIT IT DIED!\n",
      "insert into `corrupt_or_unreadable_svs_files` (full_file_name,filesize) Values ('/TCGA_MIRROR/tcga-data.nci.nih.gov/tcgafiles/ftp_auth/distro_ftpusers/anonymous/tumor/hnsc/bcr/nationwidechildrens.org/tissue_images/slide_images/nationwidechildrens.org_HNSC.tissue_images.Level_1.164.4.0/TCGA-CR-7386-01A-01-TS1.ffcf78f3-b25a-46d2-9d38-69185654c9a5.svs',9577100) \n",
      "UNABLE TO OPEN FILE?? /TCGA_MIRROR/tcga-data.nci.nih.gov/tcgafiles/ftp_auth/distro_ftpusers/anonymous/tumor/hnsc/bcr/nationwidechildrens.org/tissue_images/slide_images/nationwidechildrens.org_HNSC.tissue_images.Level_1.164.4.0/TCGA-CR-7386-01A-01-TS1.ffcf78f3-b25a-46d2-9d38-69185654c9a5.svs\n",
      "\u001b[KTotal Processed: 4832  Newly Processed: 0 Dup Slides or Already Loaded: 4561  RESCANNED Slides 25"
     ]
    },
    {
     "name": "stderr",
     "output_type": "stream",
     "text": [
      " ()\n",
      "Verify failed with:"
     ]
    },
    {
     "name": "stdout",
     "output_type": "stream",
     "text": [
      "Openslide returned an error om tje StandardError block /TCGA_MIRROR/tcga-data.nci.nih.gov/tcgafiles/ftp_auth/distro_ftpusers/anonymous/tumor/hnsc/bcr/nationwidechildrens.org/tissue_images/slide_images/nationwidechildrens.org_HNSC.tissue_images.Level_1.164.4.0/TCGA-CR-7389-01A-01-TS1.accbf255-8c8f-45a1-b8c4-076bce17a3d5.svs\n",
      "SHIT IT DIED!\n",
      "insert into `corrupt_or_unreadable_svs_files` (full_file_name,filesize) Values ('/TCGA_MIRROR/tcga-data.nci.nih.gov/tcgafiles/ftp_auth/distro_ftpusers/anonymous/tumor/hnsc/bcr/nationwidechildrens.org/tissue_images/slide_images/nationwidechildrens.org_HNSC.tissue_images.Level_1.164.4.0/TCGA-CR-7389-01A-01-TS1.accbf255-8c8f-45a1-b8c4-076bce17a3d5.svs',1502485) \n",
      "UNABLE TO OPEN FILE?? /TCGA_MIRROR/tcga-data.nci.nih.gov/tcgafiles/ftp_auth/distro_ftpusers/anonymous/tumor/hnsc/bcr/nationwidechildrens.org/tissue_images/slide_images/nationwidechildrens.org_HNSC.tissue_images.Level_1.164.4.0/TCGA-CR-7389-01A-01-TS1.accbf255-8c8f-45a1-b8c4-076bce17a3d5.svs\n",
      "\u001b[KTotal Processed: 4836  Newly Processed: 0 Dup Slides or Already Loaded: 4564  RESCANNED Slides 25"
     ]
    },
    {
     "name": "stderr",
     "output_type": "stream",
     "text": [
      " ()\n",
      "Verify failed with:"
     ]
    },
    {
     "name": "stdout",
     "output_type": "stream",
     "text": [
      "Openslide returned an error om tje StandardError block /TCGA_MIRROR/tcga-data.nci.nih.gov/tcgafiles/ftp_auth/distro_ftpusers/anonymous/tumor/hnsc/bcr/nationwidechildrens.org/tissue_images/slide_images/nationwidechildrens.org_HNSC.tissue_images.Level_1.164.4.0/TCGA-CR-7393-01A-01-TS1.d1befa29-b24c-4b24-b0c0-2740c9012e01.svs\n",
      "SHIT IT DIED!\n",
      "insert into `corrupt_or_unreadable_svs_files` (full_file_name,filesize) Values ('/TCGA_MIRROR/tcga-data.nci.nih.gov/tcgafiles/ftp_auth/distro_ftpusers/anonymous/tumor/hnsc/bcr/nationwidechildrens.org/tissue_images/slide_images/nationwidechildrens.org_HNSC.tissue_images.Level_1.164.4.0/TCGA-CR-7393-01A-01-TS1.d1befa29-b24c-4b24-b0c0-2740c9012e01.svs',8786500) \n",
      "UNABLE TO OPEN FILE?? /TCGA_MIRROR/tcga-data.nci.nih.gov/tcgafiles/ftp_auth/distro_ftpusers/anonymous/tumor/hnsc/bcr/nationwidechildrens.org/tissue_images/slide_images/nationwidechildrens.org_HNSC.tissue_images.Level_1.164.4.0/TCGA-CR-7393-01A-01-TS1.d1befa29-b24c-4b24-b0c0-2740c9012e01.svs\n",
      "\u001b[KTotal Processed: 4847  Newly Processed: 0 Dup Slides or Already Loaded: 4574  RESCANNED Slides 25"
     ]
    },
    {
     "name": "stderr",
     "output_type": "stream",
     "text": [
      " ()\n",
      "Verify failed with:"
     ]
    },
    {
     "name": "stdout",
     "output_type": "stream",
     "text": [
      "Openslide returned an error om tje StandardError block /TCGA_MIRROR/tcga-data.nci.nih.gov/tcgafiles/ftp_auth/distro_ftpusers/anonymous/tumor/hnsc/bcr/nationwidechildrens.org/tissue_images/slide_images/nationwidechildrens.org_HNSC.tissue_images.Level_1.164.4.0/TCGA-CR-7398-01A-01-TS1.3aef998b-046a-4d86-a8ee-42e771bc6d6d.svs\n",
      "SHIT IT DIED!\n",
      "insert into `corrupt_or_unreadable_svs_files` (full_file_name,filesize) Values ('/TCGA_MIRROR/tcga-data.nci.nih.gov/tcgafiles/ftp_auth/distro_ftpusers/anonymous/tumor/hnsc/bcr/nationwidechildrens.org/tissue_images/slide_images/nationwidechildrens.org_HNSC.tissue_images.Level_1.164.4.0/TCGA-CR-7398-01A-01-TS1.3aef998b-046a-4d86-a8ee-42e771bc6d6d.svs',8310986) \n",
      "UNABLE TO OPEN FILE?? /TCGA_MIRROR/tcga-data.nci.nih.gov/tcgafiles/ftp_auth/distro_ftpusers/anonymous/tumor/hnsc/bcr/nationwidechildrens.org/tissue_images/slide_images/nationwidechildrens.org_HNSC.tissue_images.Level_1.164.4.0/TCGA-CR-7398-01A-01-TS1.3aef998b-046a-4d86-a8ee-42e771bc6d6d.svs\n",
      "\u001b[KTotal Processed: 4859  Newly Processed: 0 Dup Slides or Already Loaded: 4585  RESCANNED Slides 25"
     ]
    },
    {
     "name": "stderr",
     "output_type": "stream",
     "text": [
      " ()\n",
      "Verify failed with:"
     ]
    },
    {
     "name": "stdout",
     "output_type": "stream",
     "text": [
      "Openslide returned an error om tje StandardError block /TCGA_MIRROR/tcga-data.nci.nih.gov/tcgafiles/ftp_auth/distro_ftpusers/anonymous/tumor/hnsc/bcr/nationwidechildrens.org/tissue_images/slide_images/nationwidechildrens.org_HNSC.tissue_images.Level_1.164.4.0/TCGA-CR-7399-01A-01-TS1.b87c5422-1239-4ffd-ba83-5969e2c2d9ce.svs\n",
      "SHIT IT DIED!\n",
      "insert into `corrupt_or_unreadable_svs_files` (full_file_name,filesize) Values ('/TCGA_MIRROR/tcga-data.nci.nih.gov/tcgafiles/ftp_auth/distro_ftpusers/anonymous/tumor/hnsc/bcr/nationwidechildrens.org/tissue_images/slide_images/nationwidechildrens.org_HNSC.tissue_images.Level_1.164.4.0/TCGA-CR-7399-01A-01-TS1.b87c5422-1239-4ffd-ba83-5969e2c2d9ce.svs',8292346) \n",
      "UNABLE TO OPEN FILE?? /TCGA_MIRROR/tcga-data.nci.nih.gov/tcgafiles/ftp_auth/distro_ftpusers/anonymous/tumor/hnsc/bcr/nationwidechildrens.org/tissue_images/slide_images/nationwidechildrens.org_HNSC.tissue_images.Level_1.164.4.0/TCGA-CR-7399-01A-01-TS1.b87c5422-1239-4ffd-ba83-5969e2c2d9ce.svs\n",
      "\u001b[KTotal Processed: 4864  Newly Processed: 0 Dup Slides or Already Loaded: 4589  RESCANNED Slides 25"
     ]
    },
    {
     "name": "stderr",
     "output_type": "stream",
     "text": [
      " ()\n",
      "Verify failed with:"
     ]
    },
    {
     "name": "stdout",
     "output_type": "stream",
     "text": [
      "Openslide returned an error om tje StandardError block /TCGA_MIRROR/tcga-data.nci.nih.gov/tcgafiles/ftp_auth/distro_ftpusers/anonymous/tumor/hnsc/bcr/nationwidechildrens.org/tissue_images/slide_images/nationwidechildrens.org_HNSC.tissue_images.Level_1.164.4.0/TCGA-CR-7391-01A-01-TS1.2d58313c-c239-4ff5-90bb-114a8b219ef7.svs\n",
      "SHIT IT DIED!\n",
      "insert into `corrupt_or_unreadable_svs_files` (full_file_name,filesize) Values ('/TCGA_MIRROR/tcga-data.nci.nih.gov/tcgafiles/ftp_auth/distro_ftpusers/anonymous/tumor/hnsc/bcr/nationwidechildrens.org/tissue_images/slide_images/nationwidechildrens.org_HNSC.tissue_images.Level_1.164.4.0/TCGA-CR-7391-01A-01-TS1.2d58313c-c239-4ff5-90bb-114a8b219ef7.svs',7115740) \n",
      "UNABLE TO OPEN FILE?? /TCGA_MIRROR/tcga-data.nci.nih.gov/tcgafiles/ftp_auth/distro_ftpusers/anonymous/tumor/hnsc/bcr/nationwidechildrens.org/tissue_images/slide_images/nationwidechildrens.org_HNSC.tissue_images.Level_1.164.4.0/TCGA-CR-7391-01A-01-TS1.2d58313c-c239-4ff5-90bb-114a8b219ef7.svs\n",
      "\u001b[KTotal Processed: 4866  Newly Processed: 0 Dup Slides or Already Loaded: 4590  RESCANNED Slides 25"
     ]
    },
    {
     "name": "stderr",
     "output_type": "stream",
     "text": [
      " ()\n",
      "Verify failed with:"
     ]
    },
    {
     "name": "stdout",
     "output_type": "stream",
     "text": [
      "Openslide returned an error om tje StandardError block /TCGA_MIRROR/tcga-data.nci.nih.gov/tcgafiles/ftp_auth/distro_ftpusers/anonymous/tumor/hnsc/bcr/nationwidechildrens.org/tissue_images/slide_images/nationwidechildrens.org_HNSC.tissue_images.Level_1.164.4.0/TCGA-CR-7392-01A-01-TS1.7ca616f1-56b4-4a0c-904f-06a69e736812.svs\n",
      "SHIT IT DIED!\n",
      "insert into `corrupt_or_unreadable_svs_files` (full_file_name,filesize) Values ('/TCGA_MIRROR/tcga-data.nci.nih.gov/tcgafiles/ftp_auth/distro_ftpusers/anonymous/tumor/hnsc/bcr/nationwidechildrens.org/tissue_images/slide_images/nationwidechildrens.org_HNSC.tissue_images.Level_1.164.4.0/TCGA-CR-7392-01A-01-TS1.7ca616f1-56b4-4a0c-904f-06a69e736812.svs',8714796) \n",
      "UNABLE TO OPEN FILE?? /TCGA_MIRROR/tcga-data.nci.nih.gov/tcgafiles/ftp_auth/distro_ftpusers/anonymous/tumor/hnsc/bcr/nationwidechildrens.org/tissue_images/slide_images/nationwidechildrens.org_HNSC.tissue_images.Level_1.164.4.0/TCGA-CR-7392-01A-01-TS1.7ca616f1-56b4-4a0c-904f-06a69e736812.svs\n",
      "\u001b[KTotal Processed: 4877  Newly Processed: 0 Dup Slides or Already Loaded: 4600  RESCANNED Slides 25"
     ]
    },
    {
     "name": "stderr",
     "output_type": "stream",
     "text": [
      " ()\n",
      "Verify failed with:"
     ]
    },
    {
     "name": "stdout",
     "output_type": "stream",
     "text": [
      "Openslide returned an error om tje StandardError block /TCGA_MIRROR/tcga-data.nci.nih.gov/tcgafiles/ftp_auth/distro_ftpusers/anonymous/tumor/hnsc/bcr/nationwidechildrens.org/tissue_images/slide_images/nationwidechildrens.org_HNSC.tissue_images.Level_1.164.4.0/TCGA-CR-7377-01A-01-TS1.45dd6071-5078-4807-a090-bf38fe6931c3.svs\n",
      "SHIT IT DIED!\n",
      "insert into `corrupt_or_unreadable_svs_files` (full_file_name,filesize) Values ('/TCGA_MIRROR/tcga-data.nci.nih.gov/tcgafiles/ftp_auth/distro_ftpusers/anonymous/tumor/hnsc/bcr/nationwidechildrens.org/tissue_images/slide_images/nationwidechildrens.org_HNSC.tissue_images.Level_1.164.4.0/TCGA-CR-7377-01A-01-TS1.45dd6071-5078-4807-a090-bf38fe6931c3.svs',8332454) \n",
      "UNABLE TO OPEN FILE?? /TCGA_MIRROR/tcga-data.nci.nih.gov/tcgafiles/ftp_auth/distro_ftpusers/anonymous/tumor/hnsc/bcr/nationwidechildrens.org/tissue_images/slide_images/nationwidechildrens.org_HNSC.tissue_images.Level_1.164.4.0/TCGA-CR-7377-01A-01-TS1.45dd6071-5078-4807-a090-bf38fe6931c3.svs\n",
      "\u001b[KTotal Processed: 4879  Newly Processed: 0 Dup Slides or Already Loaded: 4601  RESCANNED Slides 25"
     ]
    },
    {
     "name": "stderr",
     "output_type": "stream",
     "text": [
      " ()\n",
      "Verify failed with:"
     ]
    },
    {
     "name": "stdout",
     "output_type": "stream",
     "text": [
      "Openslide returned an error om tje StandardError block /TCGA_MIRROR/tcga-data.nci.nih.gov/tcgafiles/ftp_auth/distro_ftpusers/anonymous/tumor/hnsc/bcr/nationwidechildrens.org/tissue_images/slide_images/nationwidechildrens.org_HNSC.tissue_images.Level_1.164.4.0/TCGA-CR-7367-01A-01-TS1.8c33cb41-d972-4906-8664-b8332d6658c5.svs\n",
      "SHIT IT DIED!\n",
      "insert into `corrupt_or_unreadable_svs_files` (full_file_name,filesize) Values ('/TCGA_MIRROR/tcga-data.nci.nih.gov/tcgafiles/ftp_auth/distro_ftpusers/anonymous/tumor/hnsc/bcr/nationwidechildrens.org/tissue_images/slide_images/nationwidechildrens.org_HNSC.tissue_images.Level_1.164.4.0/TCGA-CR-7367-01A-01-TS1.8c33cb41-d972-4906-8664-b8332d6658c5.svs',7518242) \n",
      "UNABLE TO OPEN FILE?? /TCGA_MIRROR/tcga-data.nci.nih.gov/tcgafiles/ftp_auth/distro_ftpusers/anonymous/tumor/hnsc/bcr/nationwidechildrens.org/tissue_images/slide_images/nationwidechildrens.org_HNSC.tissue_images.Level_1.164.4.0/TCGA-CR-7367-01A-01-TS1.8c33cb41-d972-4906-8664-b8332d6658c5.svs\n",
      "\u001b[KTotal Processed: 4881  Newly Processed: 0 Dup Slides or Already Loaded: 4602  RESCANNED Slides 25"
     ]
    },
    {
     "name": "stderr",
     "output_type": "stream",
     "text": [
      " ()\n",
      "Verify failed with:"
     ]
    },
    {
     "name": "stdout",
     "output_type": "stream",
     "text": [
      "Openslide returned an error om tje StandardError block /TCGA_MIRROR/tcga-data.nci.nih.gov/tcgafiles/ftp_auth/distro_ftpusers/anonymous/tumor/hnsc/bcr/nationwidechildrens.org/tissue_images/slide_images/nationwidechildrens.org_HNSC.tissue_images.Level_1.145.4.0/TCGA-CR-6478-01A-01-TS1.3fff1204-2825-4722-b49f-be544f829ebe.svs\n",
      "SHIT IT DIED!\n",
      "insert into `corrupt_or_unreadable_svs_files` (full_file_name,filesize) Values ('/TCGA_MIRROR/tcga-data.nci.nih.gov/tcgafiles/ftp_auth/distro_ftpusers/anonymous/tumor/hnsc/bcr/nationwidechildrens.org/tissue_images/slide_images/nationwidechildrens.org_HNSC.tissue_images.Level_1.145.4.0/TCGA-CR-6478-01A-01-TS1.3fff1204-2825-4722-b49f-be544f829ebe.svs',6348192) \n",
      "UNABLE TO OPEN FILE?? /TCGA_MIRROR/tcga-data.nci.nih.gov/tcgafiles/ftp_auth/distro_ftpusers/anonymous/tumor/hnsc/bcr/nationwidechildrens.org/tissue_images/slide_images/nationwidechildrens.org_HNSC.tissue_images.Level_1.145.4.0/TCGA-CR-6478-01A-01-TS1.3fff1204-2825-4722-b49f-be544f829ebe.svs\n",
      "\u001b[KTotal Processed: 4884  Newly Processed: 0 Dup Slides or Already Loaded: 4604  RESCANNED Slides 25"
     ]
    },
    {
     "name": "stderr",
     "output_type": "stream",
     "text": [
      " ()\n",
      "Verify failed with:"
     ]
    },
    {
     "name": "stdout",
     "output_type": "stream",
     "text": [
      "Openslide returned an error om tje StandardError block /TCGA_MIRROR/tcga-data.nci.nih.gov/tcgafiles/ftp_auth/distro_ftpusers/anonymous/tumor/hnsc/bcr/nationwidechildrens.org/tissue_images/slide_images/nationwidechildrens.org_HNSC.tissue_images.Level_1.145.4.0/TCGA-CR-6474-01A-01-TS1.cf8548c2-8102-4e76-aac1-b259013208d1.svs\n",
      "SHIT IT DIED!\n",
      "insert into `corrupt_or_unreadable_svs_files` (full_file_name,filesize) Values ('/TCGA_MIRROR/tcga-data.nci.nih.gov/tcgafiles/ftp_auth/distro_ftpusers/anonymous/tumor/hnsc/bcr/nationwidechildrens.org/tissue_images/slide_images/nationwidechildrens.org_HNSC.tissue_images.Level_1.145.4.0/TCGA-CR-6474-01A-01-TS1.cf8548c2-8102-4e76-aac1-b259013208d1.svs',9157482) \n",
      "UNABLE TO OPEN FILE?? /TCGA_MIRROR/tcga-data.nci.nih.gov/tcgafiles/ftp_auth/distro_ftpusers/anonymous/tumor/hnsc/bcr/nationwidechildrens.org/tissue_images/slide_images/nationwidechildrens.org_HNSC.tissue_images.Level_1.145.4.0/TCGA-CR-6474-01A-01-TS1.cf8548c2-8102-4e76-aac1-b259013208d1.svs\n",
      "\u001b[KTotal Processed: 4886  Newly Processed: 0 Dup Slides or Already Loaded: 4605  RESCANNED Slides 25"
     ]
    },
    {
     "name": "stderr",
     "output_type": "stream",
     "text": [
      " ()\n",
      "Verify failed with:"
     ]
    },
    {
     "name": "stdout",
     "output_type": "stream",
     "text": [
      "Openslide returned an error om tje StandardError block /TCGA_MIRROR/tcga-data.nci.nih.gov/tcgafiles/ftp_auth/distro_ftpusers/anonymous/tumor/hnsc/bcr/nationwidechildrens.org/tissue_images/slide_images/nationwidechildrens.org_HNSC.tissue_images.Level_1.145.4.0/TCGA-CR-6467-01A-01-TS1.1a321c2e-156f-436f-9336-63a9faa7a7d4.svs\n",
      "SHIT IT DIED!\n",
      "insert into `corrupt_or_unreadable_svs_files` (full_file_name,filesize) Values ('/TCGA_MIRROR/tcga-data.nci.nih.gov/tcgafiles/ftp_auth/distro_ftpusers/anonymous/tumor/hnsc/bcr/nationwidechildrens.org/tissue_images/slide_images/nationwidechildrens.org_HNSC.tissue_images.Level_1.145.4.0/TCGA-CR-6467-01A-01-TS1.1a321c2e-156f-436f-9336-63a9faa7a7d4.svs',8483546) \n",
      "UNABLE TO OPEN FILE?? /TCGA_MIRROR/tcga-data.nci.nih.gov/tcgafiles/ftp_auth/distro_ftpusers/anonymous/tumor/hnsc/bcr/nationwidechildrens.org/tissue_images/slide_images/nationwidechildrens.org_HNSC.tissue_images.Level_1.145.4.0/TCGA-CR-6467-01A-01-TS1.1a321c2e-156f-436f-9336-63a9faa7a7d4.svs\n",
      "\r",
      "\u001b[KTotal Processed: 4887  Newly Processed: 0 Dup Slides or Already Loaded: 4605  RESCANNED Slides 25"
     ]
    },
    {
     "name": "stderr",
     "output_type": "stream",
     "text": [
      " ()\n",
      "Verify failed with:"
     ]
    },
    {
     "name": "stdout",
     "output_type": "stream",
     "text": [
      "Openslide returned an error om tje StandardError block /TCGA_MIRROR/tcga-data.nci.nih.gov/tcgafiles/ftp_auth/distro_ftpusers/anonymous/tumor/hnsc/bcr/nationwidechildrens.org/tissue_images/slide_images/nationwidechildrens.org_HNSC.tissue_images.Level_1.145.4.0/TCGA-CR-6484-01A-01-TS1.39a06efa-b681-49ed-8516-830495edca41.svs\n",
      "SHIT IT DIED!\n",
      "insert into `corrupt_or_unreadable_svs_files` (full_file_name,filesize) Values ('/TCGA_MIRROR/tcga-data.nci.nih.gov/tcgafiles/ftp_auth/distro_ftpusers/anonymous/tumor/hnsc/bcr/nationwidechildrens.org/tissue_images/slide_images/nationwidechildrens.org_HNSC.tissue_images.Level_1.145.4.0/TCGA-CR-6484-01A-01-TS1.39a06efa-b681-49ed-8516-830495edca41.svs',7399442) \n",
      "UNABLE TO OPEN FILE?? /TCGA_MIRROR/tcga-data.nci.nih.gov/tcgafiles/ftp_auth/distro_ftpusers/anonymous/tumor/hnsc/bcr/nationwidechildrens.org/tissue_images/slide_images/nationwidechildrens.org_HNSC.tissue_images.Level_1.145.4.0/TCGA-CR-6484-01A-01-TS1.39a06efa-b681-49ed-8516-830495edca41.svs\n",
      "\u001b[KTotal Processed: 4893  Newly Processed: 0 Dup Slides or Already Loaded: 4610  RESCANNED Slides 25"
     ]
    },
    {
     "name": "stderr",
     "output_type": "stream",
     "text": [
      " ()\n",
      "Verify failed with:"
     ]
    },
    {
     "name": "stdout",
     "output_type": "stream",
     "text": [
      "Openslide returned an error om tje StandardError block /TCGA_MIRROR/tcga-data.nci.nih.gov/tcgafiles/ftp_auth/distro_ftpusers/anonymous/tumor/hnsc/bcr/nationwidechildrens.org/tissue_images/slide_images/nationwidechildrens.org_HNSC.tissue_images.Level_1.145.4.0/TCGA-CR-6487-01A-01-TS1.10afc9b5-ef5f-47ce-9c6c-4992a530ae7d.svs\n",
      "SHIT IT DIED!\n",
      "insert into `corrupt_or_unreadable_svs_files` (full_file_name,filesize) Values ('/TCGA_MIRROR/tcga-data.nci.nih.gov/tcgafiles/ftp_auth/distro_ftpusers/anonymous/tumor/hnsc/bcr/nationwidechildrens.org/tissue_images/slide_images/nationwidechildrens.org_HNSC.tissue_images.Level_1.145.4.0/TCGA-CR-6487-01A-01-TS1.10afc9b5-ef5f-47ce-9c6c-4992a530ae7d.svs',8427182) \n",
      "UNABLE TO OPEN FILE?? /TCGA_MIRROR/tcga-data.nci.nih.gov/tcgafiles/ftp_auth/distro_ftpusers/anonymous/tumor/hnsc/bcr/nationwidechildrens.org/tissue_images/slide_images/nationwidechildrens.org_HNSC.tissue_images.Level_1.145.4.0/TCGA-CR-6487-01A-01-TS1.10afc9b5-ef5f-47ce-9c6c-4992a530ae7d.svs\n",
      "\r",
      "\u001b[KTotal Processed: 4894  Newly Processed: 0 Dup Slides or Already Loaded: 4610  RESCANNED Slides 25"
     ]
    },
    {
     "name": "stderr",
     "output_type": "stream",
     "text": [
      " ()\n",
      "Verify failed with:"
     ]
    },
    {
     "name": "stdout",
     "output_type": "stream",
     "text": [
      "Openslide returned an error om tje StandardError block /TCGA_MIRROR/tcga-data.nci.nih.gov/tcgafiles/ftp_auth/distro_ftpusers/anonymous/tumor/hnsc/bcr/nationwidechildrens.org/tissue_images/slide_images/nationwidechildrens.org_HNSC.tissue_images.Level_1.145.4.0/TCGA-CR-6482-01A-01-TS1.22e08fdd-b86c-4097-9cae-e4cdc13abf2a.svs\n",
      "SHIT IT DIED!\n",
      "insert into `corrupt_or_unreadable_svs_files` (full_file_name,filesize) Values ('/TCGA_MIRROR/tcga-data.nci.nih.gov/tcgafiles/ftp_auth/distro_ftpusers/anonymous/tumor/hnsc/bcr/nationwidechildrens.org/tissue_images/slide_images/nationwidechildrens.org_HNSC.tissue_images.Level_1.145.4.0/TCGA-CR-6482-01A-01-TS1.22e08fdd-b86c-4097-9cae-e4cdc13abf2a.svs',8434884) \n",
      "UNABLE TO OPEN FILE?? /TCGA_MIRROR/tcga-data.nci.nih.gov/tcgafiles/ftp_auth/distro_ftpusers/anonymous/tumor/hnsc/bcr/nationwidechildrens.org/tissue_images/slide_images/nationwidechildrens.org_HNSC.tissue_images.Level_1.145.4.0/TCGA-CR-6482-01A-01-TS1.22e08fdd-b86c-4097-9cae-e4cdc13abf2a.svs\n",
      "\u001b[KTotal Processed: 4896  Newly Processed: 0 Dup Slides or Already Loaded: 4611  RESCANNED Slides 25"
     ]
    },
    {
     "name": "stderr",
     "output_type": "stream",
     "text": [
      " ()\n",
      "Verify failed with:"
     ]
    },
    {
     "name": "stdout",
     "output_type": "stream",
     "text": [
      "Openslide returned an error om tje StandardError block /TCGA_MIRROR/tcga-data.nci.nih.gov/tcgafiles/ftp_auth/distro_ftpusers/anonymous/tumor/hnsc/bcr/nationwidechildrens.org/tissue_images/slide_images/nationwidechildrens.org_HNSC.tissue_images.Level_1.145.4.0/TCGA-CR-6481-01A-01-TS1.30977a05-0514-4bab-8336-770553702269.svs\n",
      "SHIT IT DIED!\n",
      "insert into `corrupt_or_unreadable_svs_files` (full_file_name,filesize) Values ('/TCGA_MIRROR/tcga-data.nci.nih.gov/tcgafiles/ftp_auth/distro_ftpusers/anonymous/tumor/hnsc/bcr/nationwidechildrens.org/tissue_images/slide_images/nationwidechildrens.org_HNSC.tissue_images.Level_1.145.4.0/TCGA-CR-6481-01A-01-TS1.30977a05-0514-4bab-8336-770553702269.svs',8398688) \n",
      "UNABLE TO OPEN FILE?? /TCGA_MIRROR/tcga-data.nci.nih.gov/tcgafiles/ftp_auth/distro_ftpusers/anonymous/tumor/hnsc/bcr/nationwidechildrens.org/tissue_images/slide_images/nationwidechildrens.org_HNSC.tissue_images.Level_1.145.4.0/TCGA-CR-6481-01A-01-TS1.30977a05-0514-4bab-8336-770553702269.svs\n",
      "\u001b[KTotal Processed: 4898  Newly Processed: 0 Dup Slides or Already Loaded: 4612  RESCANNED Slides 25"
     ]
    },
    {
     "name": "stderr",
     "output_type": "stream",
     "text": [
      " ()\n",
      "Verify failed with:"
     ]
    },
    {
     "name": "stdout",
     "output_type": "stream",
     "text": [
      "Openslide returned an error om tje StandardError block /TCGA_MIRROR/tcga-data.nci.nih.gov/tcgafiles/ftp_auth/distro_ftpusers/anonymous/tumor/hnsc/bcr/nationwidechildrens.org/tissue_images/slide_images/nationwidechildrens.org_HNSC.tissue_images.Level_1.145.4.0/TCGA-CR-6493-01A-01-TS1.e15f7ea9-fe67-458f-bc5e-286148437382.svs\n",
      "SHIT IT DIED!\n",
      "insert into `corrupt_or_unreadable_svs_files` (full_file_name,filesize) Values ('/TCGA_MIRROR/tcga-data.nci.nih.gov/tcgafiles/ftp_auth/distro_ftpusers/anonymous/tumor/hnsc/bcr/nationwidechildrens.org/tissue_images/slide_images/nationwidechildrens.org_HNSC.tissue_images.Level_1.145.4.0/TCGA-CR-6493-01A-01-TS1.e15f7ea9-fe67-458f-bc5e-286148437382.svs',8319390) \n",
      "UNABLE TO OPEN FILE?? /TCGA_MIRROR/tcga-data.nci.nih.gov/tcgafiles/ftp_auth/distro_ftpusers/anonymous/tumor/hnsc/bcr/nationwidechildrens.org/tissue_images/slide_images/nationwidechildrens.org_HNSC.tissue_images.Level_1.145.4.0/TCGA-CR-6493-01A-01-TS1.e15f7ea9-fe67-458f-bc5e-286148437382.svs\n",
      "\u001b[KTotal Processed: 4900  Newly Processed: 0 Dup Slides or Already Loaded: 4613  RESCANNED Slides 25"
     ]
    },
    {
     "name": "stderr",
     "output_type": "stream",
     "text": [
      " ()\n",
      "Verify failed with:"
     ]
    },
    {
     "name": "stdout",
     "output_type": "stream",
     "text": [
      "Openslide returned an error om tje StandardError block /TCGA_MIRROR/tcga-data.nci.nih.gov/tcgafiles/ftp_auth/distro_ftpusers/anonymous/tumor/hnsc/bcr/nationwidechildrens.org/tissue_images/slide_images/nationwidechildrens.org_HNSC.tissue_images.Level_1.145.4.0/TCGA-CR-6480-01A-01-TS1.310e6db0-78c6-4395-8c76-566f0035224a.svs\n",
      "SHIT IT DIED!\n",
      "insert into `corrupt_or_unreadable_svs_files` (full_file_name,filesize) Values ('/TCGA_MIRROR/tcga-data.nci.nih.gov/tcgafiles/ftp_auth/distro_ftpusers/anonymous/tumor/hnsc/bcr/nationwidechildrens.org/tissue_images/slide_images/nationwidechildrens.org_HNSC.tissue_images.Level_1.145.4.0/TCGA-CR-6480-01A-01-TS1.310e6db0-78c6-4395-8c76-566f0035224a.svs',8052114) \n",
      "UNABLE TO OPEN FILE?? /TCGA_MIRROR/tcga-data.nci.nih.gov/tcgafiles/ftp_auth/distro_ftpusers/anonymous/tumor/hnsc/bcr/nationwidechildrens.org/tissue_images/slide_images/nationwidechildrens.org_HNSC.tissue_images.Level_1.145.4.0/TCGA-CR-6480-01A-01-TS1.310e6db0-78c6-4395-8c76-566f0035224a.svs\n",
      "\u001b[KTotal Processed: 4902  Newly Processed: 0 Dup Slides or Already Loaded: 4614  RESCANNED Slides 25"
     ]
    },
    {
     "name": "stderr",
     "output_type": "stream",
     "text": [
      " ()\n",
      "Verify failed with:"
     ]
    },
    {
     "name": "stdout",
     "output_type": "stream",
     "text": [
      "Openslide returned an error om tje StandardError block /TCGA_MIRROR/tcga-data.nci.nih.gov/tcgafiles/ftp_auth/distro_ftpusers/anonymous/tumor/hnsc/bcr/nationwidechildrens.org/tissue_images/slide_images/nationwidechildrens.org_HNSC.tissue_images.Level_1.145.4.0/TCGA-CR-6473-01A-01-TS1.e6d069e9-2a0c-44c6-b235-6765f5145da3.svs\n",
      "SHIT IT DIED!\n",
      "insert into `corrupt_or_unreadable_svs_files` (full_file_name,filesize) Values ('/TCGA_MIRROR/tcga-data.nci.nih.gov/tcgafiles/ftp_auth/distro_ftpusers/anonymous/tumor/hnsc/bcr/nationwidechildrens.org/tissue_images/slide_images/nationwidechildrens.org_HNSC.tissue_images.Level_1.145.4.0/TCGA-CR-6473-01A-01-TS1.e6d069e9-2a0c-44c6-b235-6765f5145da3.svs',6408014) \n",
      "UNABLE TO OPEN FILE?? /TCGA_MIRROR/tcga-data.nci.nih.gov/tcgafiles/ftp_auth/distro_ftpusers/anonymous/tumor/hnsc/bcr/nationwidechildrens.org/tissue_images/slide_images/nationwidechildrens.org_HNSC.tissue_images.Level_1.145.4.0/TCGA-CR-6473-01A-01-TS1.e6d069e9-2a0c-44c6-b235-6765f5145da3.svs\n",
      "\u001b[KTotal Processed: 4906  Newly Processed: 0 Dup Slides or Already Loaded: 4617  RESCANNED Slides 25"
     ]
    },
    {
     "name": "stderr",
     "output_type": "stream",
     "text": [
      " ()\n",
      "Verify failed with:"
     ]
    },
    {
     "name": "stdout",
     "output_type": "stream",
     "text": [
      "Openslide returned an error om tje StandardError block /TCGA_MIRROR/tcga-data.nci.nih.gov/tcgafiles/ftp_auth/distro_ftpusers/anonymous/tumor/hnsc/bcr/nationwidechildrens.org/tissue_images/slide_images/nationwidechildrens.org_HNSC.tissue_images.Level_1.145.4.0/TCGA-CR-6477-01A-01-TS1.aaf2ba30-bd8b-4b8d-a10a-23f1d41f7b20.svs\n",
      "SHIT IT DIED!\n",
      "insert into `corrupt_or_unreadable_svs_files` (full_file_name,filesize) Values ('/TCGA_MIRROR/tcga-data.nci.nih.gov/tcgafiles/ftp_auth/distro_ftpusers/anonymous/tumor/hnsc/bcr/nationwidechildrens.org/tissue_images/slide_images/nationwidechildrens.org_HNSC.tissue_images.Level_1.145.4.0/TCGA-CR-6477-01A-01-TS1.aaf2ba30-bd8b-4b8d-a10a-23f1d41f7b20.svs',8908972) \n",
      "UNABLE TO OPEN FILE?? /TCGA_MIRROR/tcga-data.nci.nih.gov/tcgafiles/ftp_auth/distro_ftpusers/anonymous/tumor/hnsc/bcr/nationwidechildrens.org/tissue_images/slide_images/nationwidechildrens.org_HNSC.tissue_images.Level_1.145.4.0/TCGA-CR-6477-01A-01-TS1.aaf2ba30-bd8b-4b8d-a10a-23f1d41f7b20.svs\n",
      "\u001b[KTotal Processed: 4918  Newly Processed: 0 Dup Slides or Already Loaded: 4628  RESCANNED Slides 25"
     ]
    },
    {
     "name": "stderr",
     "output_type": "stream",
     "text": [
      " ()\n",
      "Verify failed with:"
     ]
    },
    {
     "name": "stdout",
     "output_type": "stream",
     "text": [
      "Openslide returned an error om tje StandardError block /TCGA_MIRROR/tcga-data.nci.nih.gov/tcgafiles/ftp_auth/distro_ftpusers/anonymous/tumor/hnsc/bcr/nationwidechildrens.org/tissue_images/slide_images/nationwidechildrens.org_HNSC.tissue_images.Level_1.145.4.0/TCGA-CR-6491-01A-01-TS1.cdb38d6c-28b3-4715-bfe7-ebe744709696.svs\n",
      "SHIT IT DIED!\n",
      "insert into `corrupt_or_unreadable_svs_files` (full_file_name,filesize) Values ('/TCGA_MIRROR/tcga-data.nci.nih.gov/tcgafiles/ftp_auth/distro_ftpusers/anonymous/tumor/hnsc/bcr/nationwidechildrens.org/tissue_images/slide_images/nationwidechildrens.org_HNSC.tissue_images.Level_1.145.4.0/TCGA-CR-6491-01A-01-TS1.cdb38d6c-28b3-4715-bfe7-ebe744709696.svs',7378782) \n",
      "UNABLE TO OPEN FILE?? /TCGA_MIRROR/tcga-data.nci.nih.gov/tcgafiles/ftp_auth/distro_ftpusers/anonymous/tumor/hnsc/bcr/nationwidechildrens.org/tissue_images/slide_images/nationwidechildrens.org_HNSC.tissue_images.Level_1.145.4.0/TCGA-CR-6491-01A-01-TS1.cdb38d6c-28b3-4715-bfe7-ebe744709696.svs\n",
      "\u001b[KTotal Processed: 4922  Newly Processed: 0 Dup Slides or Already Loaded: 4631  RESCANNED Slides 25"
     ]
    },
    {
     "name": "stderr",
     "output_type": "stream",
     "text": [
      " ()\n",
      "Verify failed with:"
     ]
    },
    {
     "name": "stdout",
     "output_type": "stream",
     "text": [
      "Openslide returned an error om tje StandardError block /TCGA_MIRROR/tcga-data.nci.nih.gov/tcgafiles/ftp_auth/distro_ftpusers/anonymous/tumor/hnsc/bcr/nationwidechildrens.org/tissue_images/slide_images/nationwidechildrens.org_HNSC.tissue_images.Level_1.145.4.0/TCGA-CR-6472-01A-01-TS1.26b197dc-f7fc-40c6-a473-78d992cfd576.svs\n",
      "SHIT IT DIED!\n",
      "insert into `corrupt_or_unreadable_svs_files` (full_file_name,filesize) Values ('/TCGA_MIRROR/tcga-data.nci.nih.gov/tcgafiles/ftp_auth/distro_ftpusers/anonymous/tumor/hnsc/bcr/nationwidechildrens.org/tissue_images/slide_images/nationwidechildrens.org_HNSC.tissue_images.Level_1.145.4.0/TCGA-CR-6472-01A-01-TS1.26b197dc-f7fc-40c6-a473-78d992cfd576.svs',6906450) \n",
      "UNABLE TO OPEN FILE?? /TCGA_MIRROR/tcga-data.nci.nih.gov/tcgafiles/ftp_auth/distro_ftpusers/anonymous/tumor/hnsc/bcr/nationwidechildrens.org/tissue_images/slide_images/nationwidechildrens.org_HNSC.tissue_images.Level_1.145.4.0/TCGA-CR-6472-01A-01-TS1.26b197dc-f7fc-40c6-a473-78d992cfd576.svs\n",
      "\u001b[KTotal Processed: 4924  Newly Processed: 0 Dup Slides or Already Loaded: 4632  RESCANNED Slides 25"
     ]
    },
    {
     "name": "stderr",
     "output_type": "stream",
     "text": [
      " ()\n",
      "Verify failed with:"
     ]
    },
    {
     "name": "stdout",
     "output_type": "stream",
     "text": [
      "Openslide returned an error om tje StandardError block /TCGA_MIRROR/tcga-data.nci.nih.gov/tcgafiles/ftp_auth/distro_ftpusers/anonymous/tumor/hnsc/bcr/nationwidechildrens.org/tissue_images/slide_images/nationwidechildrens.org_HNSC.tissue_images.Level_1.145.4.0/TCGA-CR-6470-01A-01-TS1.a73d75fe-bd80-4dbb-a33b-54942d9b7057.svs\n",
      "SHIT IT DIED!\n",
      "insert into `corrupt_or_unreadable_svs_files` (full_file_name,filesize) Values ('/TCGA_MIRROR/tcga-data.nci.nih.gov/tcgafiles/ftp_auth/distro_ftpusers/anonymous/tumor/hnsc/bcr/nationwidechildrens.org/tissue_images/slide_images/nationwidechildrens.org_HNSC.tissue_images.Level_1.145.4.0/TCGA-CR-6470-01A-01-TS1.a73d75fe-bd80-4dbb-a33b-54942d9b7057.svs',6970156) \n",
      "UNABLE TO OPEN FILE?? /TCGA_MIRROR/tcga-data.nci.nih.gov/tcgafiles/ftp_auth/distro_ftpusers/anonymous/tumor/hnsc/bcr/nationwidechildrens.org/tissue_images/slide_images/nationwidechildrens.org_HNSC.tissue_images.Level_1.145.4.0/TCGA-CR-6470-01A-01-TS1.a73d75fe-bd80-4dbb-a33b-54942d9b7057.svs\n",
      "\u001b[KTotal Processed: 4928  Newly Processed: 0 Dup Slides or Already Loaded: 4635  RESCANNED Slides 25"
     ]
    },
    {
     "name": "stderr",
     "output_type": "stream",
     "text": [
      " ()\n",
      "Verify failed with:"
     ]
    },
    {
     "name": "stdout",
     "output_type": "stream",
     "text": [
      "Openslide returned an error om tje StandardError block /TCGA_MIRROR/tcga-data.nci.nih.gov/tcgafiles/ftp_auth/distro_ftpusers/anonymous/tumor/hnsc/bcr/nationwidechildrens.org/tissue_images/slide_images/nationwidechildrens.org_HNSC.tissue_images.Level_1.145.4.0/TCGA-CR-6471-01A-01-TS1.04a386a5-842c-4b36-a71c-589225cdc20c.svs\n",
      "SHIT IT DIED!\n",
      "insert into `corrupt_or_unreadable_svs_files` (full_file_name,filesize) Values ('/TCGA_MIRROR/tcga-data.nci.nih.gov/tcgafiles/ftp_auth/distro_ftpusers/anonymous/tumor/hnsc/bcr/nationwidechildrens.org/tissue_images/slide_images/nationwidechildrens.org_HNSC.tissue_images.Level_1.145.4.0/TCGA-CR-6471-01A-01-TS1.04a386a5-842c-4b36-a71c-589225cdc20c.svs',6959836) \n",
      "UNABLE TO OPEN FILE?? /TCGA_MIRROR/tcga-data.nci.nih.gov/tcgafiles/ftp_auth/distro_ftpusers/anonymous/tumor/hnsc/bcr/nationwidechildrens.org/tissue_images/slide_images/nationwidechildrens.org_HNSC.tissue_images.Level_1.145.4.0/TCGA-CR-6471-01A-01-TS1.04a386a5-842c-4b36-a71c-589225cdc20c.svs\n",
      "\u001b[KTotal Processed: 4937  Newly Processed: 0 Dup Slides or Already Loaded: 4643  RESCANNED Slides 25"
     ]
    },
    {
     "name": "stderr",
     "output_type": "stream",
     "text": [
      " ()\n",
      "Verify failed with:"
     ]
    },
    {
     "name": "stdout",
     "output_type": "stream",
     "text": [
      "Openslide returned an error om tje StandardError block /TCGA_MIRROR/tcga-data.nci.nih.gov/tcgafiles/ftp_auth/distro_ftpusers/anonymous/tumor/hnsc/bcr/nationwidechildrens.org/tissue_images/slide_images/nationwidechildrens.org_HNSC.tissue_images.Level_1.164.3.0/TCGA-CR-7385-01A-01-TS1.78e3b7a3-f9f5-46c4-b13d-9f2b28e23d77.svs\n",
      "SHIT IT DIED!\n",
      "insert into `corrupt_or_unreadable_svs_files` (full_file_name,filesize) Values ('/TCGA_MIRROR/tcga-data.nci.nih.gov/tcgafiles/ftp_auth/distro_ftpusers/anonymous/tumor/hnsc/bcr/nationwidechildrens.org/tissue_images/slide_images/nationwidechildrens.org_HNSC.tissue_images.Level_1.164.3.0/TCGA-CR-7385-01A-01-TS1.78e3b7a3-f9f5-46c4-b13d-9f2b28e23d77.svs',8390158) \n",
      "UNABLE TO OPEN FILE?? /TCGA_MIRROR/tcga-data.nci.nih.gov/tcgafiles/ftp_auth/distro_ftpusers/anonymous/tumor/hnsc/bcr/nationwidechildrens.org/tissue_images/slide_images/nationwidechildrens.org_HNSC.tissue_images.Level_1.164.3.0/TCGA-CR-7385-01A-01-TS1.78e3b7a3-f9f5-46c4-b13d-9f2b28e23d77.svs\n",
      "\u001b[KTotal Processed: 4943  Newly Processed: 0 Dup Slides or Already Loaded: 4648  RESCANNED Slides 25"
     ]
    },
    {
     "name": "stderr",
     "output_type": "stream",
     "text": [
      " ()\n",
      "Verify failed with:"
     ]
    },
    {
     "name": "stdout",
     "output_type": "stream",
     "text": [
      "Openslide returned an error om tje StandardError block /TCGA_MIRROR/tcga-data.nci.nih.gov/tcgafiles/ftp_auth/distro_ftpusers/anonymous/tumor/hnsc/bcr/nationwidechildrens.org/tissue_images/slide_images/nationwidechildrens.org_HNSC.tissue_images.Level_1.164.3.0/TCGA-CR-7388-01A-01-TS1.472564e9-a7fe-4e01-a1fe-fc89570fb7a9.svs\n",
      "SHIT IT DIED!\n",
      "insert into `corrupt_or_unreadable_svs_files` (full_file_name,filesize) Values ('/TCGA_MIRROR/tcga-data.nci.nih.gov/tcgafiles/ftp_auth/distro_ftpusers/anonymous/tumor/hnsc/bcr/nationwidechildrens.org/tissue_images/slide_images/nationwidechildrens.org_HNSC.tissue_images.Level_1.164.3.0/TCGA-CR-7388-01A-01-TS1.472564e9-a7fe-4e01-a1fe-fc89570fb7a9.svs',8602086) \n",
      "UNABLE TO OPEN FILE?? /TCGA_MIRROR/tcga-data.nci.nih.gov/tcgafiles/ftp_auth/distro_ftpusers/anonymous/tumor/hnsc/bcr/nationwidechildrens.org/tissue_images/slide_images/nationwidechildrens.org_HNSC.tissue_images.Level_1.164.3.0/TCGA-CR-7388-01A-01-TS1.472564e9-a7fe-4e01-a1fe-fc89570fb7a9.svs\n",
      "\u001b[KTotal Processed: 4946  Newly Processed: 0 Dup Slides or Already Loaded: 4650  RESCANNED Slides 25"
     ]
    },
    {
     "name": "stderr",
     "output_type": "stream",
     "text": [
      " ()\n",
      "Verify failed with:"
     ]
    },
    {
     "name": "stdout",
     "output_type": "stream",
     "text": [
      "Openslide returned an error om tje StandardError block /TCGA_MIRROR/tcga-data.nci.nih.gov/tcgafiles/ftp_auth/distro_ftpusers/anonymous/tumor/hnsc/bcr/nationwidechildrens.org/tissue_images/slide_images/nationwidechildrens.org_HNSC.tissue_images.Level_1.164.3.0/TCGA-CR-7374-01A-01-TS1.3d964d61-9a19-468c-acc9-e0b348070cbc.svs\n",
      "SHIT IT DIED!\n",
      "insert into `corrupt_or_unreadable_svs_files` (full_file_name,filesize) Values ('/TCGA_MIRROR/tcga-data.nci.nih.gov/tcgafiles/ftp_auth/distro_ftpusers/anonymous/tumor/hnsc/bcr/nationwidechildrens.org/tissue_images/slide_images/nationwidechildrens.org_HNSC.tissue_images.Level_1.164.3.0/TCGA-CR-7374-01A-01-TS1.3d964d61-9a19-468c-acc9-e0b348070cbc.svs',5616954) \n",
      "UNABLE TO OPEN FILE?? /TCGA_MIRROR/tcga-data.nci.nih.gov/tcgafiles/ftp_auth/distro_ftpusers/anonymous/tumor/hnsc/bcr/nationwidechildrens.org/tissue_images/slide_images/nationwidechildrens.org_HNSC.tissue_images.Level_1.164.3.0/TCGA-CR-7374-01A-01-TS1.3d964d61-9a19-468c-acc9-e0b348070cbc.svs\n",
      "\u001b[KTotal Processed: 4948  Newly Processed: 0 Dup Slides or Already Loaded: 4651  RESCANNED Slides 25"
     ]
    },
    {
     "name": "stderr",
     "output_type": "stream",
     "text": [
      " ()\n",
      "Verify failed with:"
     ]
    },
    {
     "name": "stdout",
     "output_type": "stream",
     "text": [
      "Openslide returned an error om tje StandardError block /TCGA_MIRROR/tcga-data.nci.nih.gov/tcgafiles/ftp_auth/distro_ftpusers/anonymous/tumor/hnsc/bcr/nationwidechildrens.org/tissue_images/slide_images/nationwidechildrens.org_HNSC.tissue_images.Level_1.164.3.0/TCGA-CR-7390-01A-01-TS1.90a9a363-84ca-4d48-b5e9-bd34bf6b786d.svs\n",
      "SHIT IT DIED!\n",
      "insert into `corrupt_or_unreadable_svs_files` (full_file_name,filesize) Values ('/TCGA_MIRROR/tcga-data.nci.nih.gov/tcgafiles/ftp_auth/distro_ftpusers/anonymous/tumor/hnsc/bcr/nationwidechildrens.org/tissue_images/slide_images/nationwidechildrens.org_HNSC.tissue_images.Level_1.164.3.0/TCGA-CR-7390-01A-01-TS1.90a9a363-84ca-4d48-b5e9-bd34bf6b786d.svs',8382892) \n",
      "UNABLE TO OPEN FILE?? /TCGA_MIRROR/tcga-data.nci.nih.gov/tcgafiles/ftp_auth/distro_ftpusers/anonymous/tumor/hnsc/bcr/nationwidechildrens.org/tissue_images/slide_images/nationwidechildrens.org_HNSC.tissue_images.Level_1.164.3.0/TCGA-CR-7390-01A-01-TS1.90a9a363-84ca-4d48-b5e9-bd34bf6b786d.svs\n",
      "\u001b[KTotal Processed: 4955  Newly Processed: 0 Dup Slides or Already Loaded: 4657  RESCANNED Slides 25"
     ]
    },
    {
     "name": "stderr",
     "output_type": "stream",
     "text": [
      " ()\n",
      "Verify failed with:"
     ]
    },
    {
     "name": "stdout",
     "output_type": "stream",
     "text": [
      "Openslide returned an error om tje StandardError block /TCGA_MIRROR/tcga-data.nci.nih.gov/tcgafiles/ftp_auth/distro_ftpusers/anonymous/tumor/hnsc/bcr/nationwidechildrens.org/tissue_images/slide_images/nationwidechildrens.org_HNSC.tissue_images.Level_1.164.3.0/TCGA-CR-7397-01A-01-TS1.666cc25d-2190-4325-8cd1-86723bd8a364.svs\n",
      "SHIT IT DIED!\n",
      "insert into `corrupt_or_unreadable_svs_files` (full_file_name,filesize) Values ('/TCGA_MIRROR/tcga-data.nci.nih.gov/tcgafiles/ftp_auth/distro_ftpusers/anonymous/tumor/hnsc/bcr/nationwidechildrens.org/tissue_images/slide_images/nationwidechildrens.org_HNSC.tissue_images.Level_1.164.3.0/TCGA-CR-7397-01A-01-TS1.666cc25d-2190-4325-8cd1-86723bd8a364.svs',3902748) \n",
      "UNABLE TO OPEN FILE?? /TCGA_MIRROR/tcga-data.nci.nih.gov/tcgafiles/ftp_auth/distro_ftpusers/anonymous/tumor/hnsc/bcr/nationwidechildrens.org/tissue_images/slide_images/nationwidechildrens.org_HNSC.tissue_images.Level_1.164.3.0/TCGA-CR-7397-01A-01-TS1.666cc25d-2190-4325-8cd1-86723bd8a364.svs\n",
      "\r",
      "\u001b[KTotal Processed: 4956  Newly Processed: 0 Dup Slides or Already Loaded: 4657  RESCANNED Slides 25"
     ]
    },
    {
     "name": "stderr",
     "output_type": "stream",
     "text": [
      " ()\n",
      "Verify failed with:"
     ]
    },
    {
     "name": "stdout",
     "output_type": "stream",
     "text": [
      "Openslide returned an error om tje StandardError block /TCGA_MIRROR/tcga-data.nci.nih.gov/tcgafiles/ftp_auth/distro_ftpusers/anonymous/tumor/hnsc/bcr/nationwidechildrens.org/tissue_images/slide_images/nationwidechildrens.org_HNSC.tissue_images.Level_1.164.3.0/TCGA-CR-7379-01A-01-TS1.1b4881f2-f976-42b3-8f75-c5ebbc9560af.svs\n",
      "SHIT IT DIED!\n",
      "insert into `corrupt_or_unreadable_svs_files` (full_file_name,filesize) Values ('/TCGA_MIRROR/tcga-data.nci.nih.gov/tcgafiles/ftp_auth/distro_ftpusers/anonymous/tumor/hnsc/bcr/nationwidechildrens.org/tissue_images/slide_images/nationwidechildrens.org_HNSC.tissue_images.Level_1.164.3.0/TCGA-CR-7379-01A-01-TS1.1b4881f2-f976-42b3-8f75-c5ebbc9560af.svs',7578942) \n",
      "UNABLE TO OPEN FILE?? /TCGA_MIRROR/tcga-data.nci.nih.gov/tcgafiles/ftp_auth/distro_ftpusers/anonymous/tumor/hnsc/bcr/nationwidechildrens.org/tissue_images/slide_images/nationwidechildrens.org_HNSC.tissue_images.Level_1.164.3.0/TCGA-CR-7379-01A-01-TS1.1b4881f2-f976-42b3-8f75-c5ebbc9560af.svs\n",
      "\u001b[KTotal Processed: 4964  Newly Processed: 0 Dup Slides or Already Loaded: 4664  RESCANNED Slides 25"
     ]
    },
    {
     "name": "stderr",
     "output_type": "stream",
     "text": [
      " ()\n",
      "Verify failed with:"
     ]
    },
    {
     "name": "stdout",
     "output_type": "stream",
     "text": [
      "Openslide returned an error om tje StandardError block /TCGA_MIRROR/tcga-data.nci.nih.gov/tcgafiles/ftp_auth/distro_ftpusers/anonymous/tumor/hnsc/bcr/nationwidechildrens.org/tissue_images/slide_images/nationwidechildrens.org_HNSC.tissue_images.Level_1.164.3.0/TCGA-CR-7365-01A-01-TS1.811bb2b7-66e3-4694-891b-10b436ec300d.svs\n",
      "SHIT IT DIED!\n",
      "insert into `corrupt_or_unreadable_svs_files` (full_file_name,filesize) Values ('/TCGA_MIRROR/tcga-data.nci.nih.gov/tcgafiles/ftp_auth/distro_ftpusers/anonymous/tumor/hnsc/bcr/nationwidechildrens.org/tissue_images/slide_images/nationwidechildrens.org_HNSC.tissue_images.Level_1.164.3.0/TCGA-CR-7365-01A-01-TS1.811bb2b7-66e3-4694-891b-10b436ec300d.svs',8147776) \n",
      "UNABLE TO OPEN FILE?? /TCGA_MIRROR/tcga-data.nci.nih.gov/tcgafiles/ftp_auth/distro_ftpusers/anonymous/tumor/hnsc/bcr/nationwidechildrens.org/tissue_images/slide_images/nationwidechildrens.org_HNSC.tissue_images.Level_1.164.3.0/TCGA-CR-7365-01A-01-TS1.811bb2b7-66e3-4694-891b-10b436ec300d.svs\n",
      "\u001b[KTotal Processed: 4970  Newly Processed: 0 Dup Slides or Already Loaded: 4669  RESCANNED Slides 25"
     ]
    },
    {
     "name": "stderr",
     "output_type": "stream",
     "text": [
      " ()\n",
      "Verify failed with:"
     ]
    },
    {
     "name": "stdout",
     "output_type": "stream",
     "text": [
      "Openslide returned an error om tje StandardError block /TCGA_MIRROR/tcga-data.nci.nih.gov/tcgafiles/ftp_auth/distro_ftpusers/anonymous/tumor/hnsc/bcr/nationwidechildrens.org/tissue_images/slide_images/nationwidechildrens.org_HNSC.tissue_images.Level_1.164.3.0/TCGA-CR-7402-01A-01-TS1.1fd22a5f-3c69-4fc2-b5c9-7fbd01f52158.svs\n",
      "SHIT IT DIED!\n",
      "insert into `corrupt_or_unreadable_svs_files` (full_file_name,filesize) Values ('/TCGA_MIRROR/tcga-data.nci.nih.gov/tcgafiles/ftp_auth/distro_ftpusers/anonymous/tumor/hnsc/bcr/nationwidechildrens.org/tissue_images/slide_images/nationwidechildrens.org_HNSC.tissue_images.Level_1.164.3.0/TCGA-CR-7402-01A-01-TS1.1fd22a5f-3c69-4fc2-b5c9-7fbd01f52158.svs',7829698) \n",
      "UNABLE TO OPEN FILE?? /TCGA_MIRROR/tcga-data.nci.nih.gov/tcgafiles/ftp_auth/distro_ftpusers/anonymous/tumor/hnsc/bcr/nationwidechildrens.org/tissue_images/slide_images/nationwidechildrens.org_HNSC.tissue_images.Level_1.164.3.0/TCGA-CR-7402-01A-01-TS1.1fd22a5f-3c69-4fc2-b5c9-7fbd01f52158.svs\n",
      "\r",
      "\u001b[KTotal Processed: 4971  Newly Processed: 0 Dup Slides or Already Loaded: 4669  RESCANNED Slides 25"
     ]
    },
    {
     "name": "stderr",
     "output_type": "stream",
     "text": [
      " ()\n",
      "Verify failed with:"
     ]
    },
    {
     "name": "stdout",
     "output_type": "stream",
     "text": [
      "Openslide returned an error om tje StandardError block /TCGA_MIRROR/tcga-data.nci.nih.gov/tcgafiles/ftp_auth/distro_ftpusers/anonymous/tumor/hnsc/bcr/nationwidechildrens.org/tissue_images/slide_images/nationwidechildrens.org_HNSC.tissue_images.Level_1.164.3.0/TCGA-CR-7401-01A-01-TS1.5473cd39-dca7-4bd3-8410-13d36a2e9eda.svs\n",
      "SHIT IT DIED!\n",
      "insert into `corrupt_or_unreadable_svs_files` (full_file_name,filesize) Values ('/TCGA_MIRROR/tcga-data.nci.nih.gov/tcgafiles/ftp_auth/distro_ftpusers/anonymous/tumor/hnsc/bcr/nationwidechildrens.org/tissue_images/slide_images/nationwidechildrens.org_HNSC.tissue_images.Level_1.164.3.0/TCGA-CR-7401-01A-01-TS1.5473cd39-dca7-4bd3-8410-13d36a2e9eda.svs',7917322) \n",
      "UNABLE TO OPEN FILE?? /TCGA_MIRROR/tcga-data.nci.nih.gov/tcgafiles/ftp_auth/distro_ftpusers/anonymous/tumor/hnsc/bcr/nationwidechildrens.org/tissue_images/slide_images/nationwidechildrens.org_HNSC.tissue_images.Level_1.164.3.0/TCGA-CR-7401-01A-01-TS1.5473cd39-dca7-4bd3-8410-13d36a2e9eda.svs\n",
      "\u001b[KTotal Processed: 4978  Newly Processed: 0 Dup Slides or Already Loaded: 4675  RESCANNED Slides 25"
     ]
    },
    {
     "name": "stderr",
     "output_type": "stream",
     "text": [
      " ()\n",
      "Verify failed with:"
     ]
    },
    {
     "name": "stdout",
     "output_type": "stream",
     "text": [
      "Openslide returned an error om tje StandardError block /TCGA_MIRROR/tcga-data.nci.nih.gov/tcgafiles/ftp_auth/distro_ftpusers/anonymous/tumor/hnsc/bcr/nationwidechildrens.org/tissue_images/slide_images/nationwidechildrens.org_HNSC.tissue_images.Level_1.164.3.0/TCGA-CR-7372-01A-01-TS1.ef52049e-f636-4d1d-bfb0-58cf853ab420.svs\n",
      "SHIT IT DIED!\n",
      "insert into `corrupt_or_unreadable_svs_files` (full_file_name,filesize) Values ('/TCGA_MIRROR/tcga-data.nci.nih.gov/tcgafiles/ftp_auth/distro_ftpusers/anonymous/tumor/hnsc/bcr/nationwidechildrens.org/tissue_images/slide_images/nationwidechildrens.org_HNSC.tissue_images.Level_1.164.3.0/TCGA-CR-7372-01A-01-TS1.ef52049e-f636-4d1d-bfb0-58cf853ab420.svs',9517398) \n",
      "UNABLE TO OPEN FILE?? /TCGA_MIRROR/tcga-data.nci.nih.gov/tcgafiles/ftp_auth/distro_ftpusers/anonymous/tumor/hnsc/bcr/nationwidechildrens.org/tissue_images/slide_images/nationwidechildrens.org_HNSC.tissue_images.Level_1.164.3.0/TCGA-CR-7372-01A-01-TS1.ef52049e-f636-4d1d-bfb0-58cf853ab420.svs\n",
      "\u001b[KTotal Processed: 4980  Newly Processed: 0 Dup Slides or Already Loaded: 4676  RESCANNED Slides 25"
     ]
    },
    {
     "name": "stderr",
     "output_type": "stream",
     "text": [
      " ()\n",
      "Verify failed with:"
     ]
    },
    {
     "name": "stdout",
     "output_type": "stream",
     "text": [
      "Openslide returned an error om tje StandardError block /TCGA_MIRROR/tcga-data.nci.nih.gov/tcgafiles/ftp_auth/distro_ftpusers/anonymous/tumor/hnsc/bcr/nationwidechildrens.org/tissue_images/slide_images/nationwidechildrens.org_HNSC.tissue_images.Level_1.164.3.0/TCGA-CR-7394-01A-01-TS1.2a55e850-94b8-4e8c-a246-55661a96ecdb.svs\n",
      "SHIT IT DIED!\n",
      "insert into `corrupt_or_unreadable_svs_files` (full_file_name,filesize) Values ('/TCGA_MIRROR/tcga-data.nci.nih.gov/tcgafiles/ftp_auth/distro_ftpusers/anonymous/tumor/hnsc/bcr/nationwidechildrens.org/tissue_images/slide_images/nationwidechildrens.org_HNSC.tissue_images.Level_1.164.3.0/TCGA-CR-7394-01A-01-TS1.2a55e850-94b8-4e8c-a246-55661a96ecdb.svs',7529414) \n",
      "UNABLE TO OPEN FILE?? /TCGA_MIRROR/tcga-data.nci.nih.gov/tcgafiles/ftp_auth/distro_ftpusers/anonymous/tumor/hnsc/bcr/nationwidechildrens.org/tissue_images/slide_images/nationwidechildrens.org_HNSC.tissue_images.Level_1.164.3.0/TCGA-CR-7394-01A-01-TS1.2a55e850-94b8-4e8c-a246-55661a96ecdb.svs\n",
      "\u001b[KTotal Processed: 4983  Newly Processed: 0 Dup Slides or Already Loaded: 4678  RESCANNED Slides 25"
     ]
    },
    {
     "name": "stderr",
     "output_type": "stream",
     "text": [
      " ()\n",
      "Verify failed with:"
     ]
    },
    {
     "name": "stdout",
     "output_type": "stream",
     "text": [
      "Openslide returned an error om tje StandardError block /TCGA_MIRROR/tcga-data.nci.nih.gov/tcgafiles/ftp_auth/distro_ftpusers/anonymous/tumor/hnsc/bcr/nationwidechildrens.org/tissue_images/slide_images/nationwidechildrens.org_HNSC.tissue_images.Level_1.164.3.0/TCGA-CR-7373-01A-01-TS1.2dda5c57-eb9e-4edb-aa70-cd91ac8bde70.svs\n",
      "SHIT IT DIED!\n",
      "insert into `corrupt_or_unreadable_svs_files` (full_file_name,filesize) Values ('/TCGA_MIRROR/tcga-data.nci.nih.gov/tcgafiles/ftp_auth/distro_ftpusers/anonymous/tumor/hnsc/bcr/nationwidechildrens.org/tissue_images/slide_images/nationwidechildrens.org_HNSC.tissue_images.Level_1.164.3.0/TCGA-CR-7373-01A-01-TS1.2dda5c57-eb9e-4edb-aa70-cd91ac8bde70.svs',7507622) \n",
      "UNABLE TO OPEN FILE?? /TCGA_MIRROR/tcga-data.nci.nih.gov/tcgafiles/ftp_auth/distro_ftpusers/anonymous/tumor/hnsc/bcr/nationwidechildrens.org/tissue_images/slide_images/nationwidechildrens.org_HNSC.tissue_images.Level_1.164.3.0/TCGA-CR-7373-01A-01-TS1.2dda5c57-eb9e-4edb-aa70-cd91ac8bde70.svs\n",
      "\u001b[KTotal Processed: 4985  Newly Processed: 0 Dup Slides or Already Loaded: 4679  RESCANNED Slides 25"
     ]
    },
    {
     "name": "stderr",
     "output_type": "stream",
     "text": [
      " ()\n",
      "Verify failed with:"
     ]
    },
    {
     "name": "stdout",
     "output_type": "stream",
     "text": [
      "Openslide returned an error om tje StandardError block /TCGA_MIRROR/tcga-data.nci.nih.gov/tcgafiles/ftp_auth/distro_ftpusers/anonymous/tumor/hnsc/bcr/nationwidechildrens.org/tissue_images/slide_images/nationwidechildrens.org_HNSC.tissue_images.Level_1.164.3.0/TCGA-CR-7395-01A-01-TS1.844e558f-3325-40d4-b294-219b31c66e74.svs\n",
      "SHIT IT DIED!\n",
      "insert into `corrupt_or_unreadable_svs_files` (full_file_name,filesize) Values ('/TCGA_MIRROR/tcga-data.nci.nih.gov/tcgafiles/ftp_auth/distro_ftpusers/anonymous/tumor/hnsc/bcr/nationwidechildrens.org/tissue_images/slide_images/nationwidechildrens.org_HNSC.tissue_images.Level_1.164.3.0/TCGA-CR-7395-01A-01-TS1.844e558f-3325-40d4-b294-219b31c66e74.svs',3901814) \n",
      "UNABLE TO OPEN FILE?? /TCGA_MIRROR/tcga-data.nci.nih.gov/tcgafiles/ftp_auth/distro_ftpusers/anonymous/tumor/hnsc/bcr/nationwidechildrens.org/tissue_images/slide_images/nationwidechildrens.org_HNSC.tissue_images.Level_1.164.3.0/TCGA-CR-7395-01A-01-TS1.844e558f-3325-40d4-b294-219b31c66e74.svs\n",
      "\u001b[KTotal Processed: 4989  Newly Processed: 0 Dup Slides or Already Loaded: 4682  RESCANNED Slides 25"
     ]
    },
    {
     "name": "stderr",
     "output_type": "stream",
     "text": [
      " ()\n",
      "Verify failed with:"
     ]
    },
    {
     "name": "stdout",
     "output_type": "stream",
     "text": [
      "Openslide returned an error om tje StandardError block /TCGA_MIRROR/tcga-data.nci.nih.gov/tcgafiles/ftp_auth/distro_ftpusers/anonymous/tumor/hnsc/bcr/nationwidechildrens.org/tissue_images/slide_images/nationwidechildrens.org_HNSC.tissue_images.Level_1.164.3.0/TCGA-CR-7364-01A-01-TS1.5130155c-8da3-495d-8e17-66fd0656af46.svs\n",
      "SHIT IT DIED!\n",
      "insert into `corrupt_or_unreadable_svs_files` (full_file_name,filesize) Values ('/TCGA_MIRROR/tcga-data.nci.nih.gov/tcgafiles/ftp_auth/distro_ftpusers/anonymous/tumor/hnsc/bcr/nationwidechildrens.org/tissue_images/slide_images/nationwidechildrens.org_HNSC.tissue_images.Level_1.164.3.0/TCGA-CR-7364-01A-01-TS1.5130155c-8da3-495d-8e17-66fd0656af46.svs',7595536) \n",
      "UNABLE TO OPEN FILE?? /TCGA_MIRROR/tcga-data.nci.nih.gov/tcgafiles/ftp_auth/distro_ftpusers/anonymous/tumor/hnsc/bcr/nationwidechildrens.org/tissue_images/slide_images/nationwidechildrens.org_HNSC.tissue_images.Level_1.164.3.0/TCGA-CR-7364-01A-01-TS1.5130155c-8da3-495d-8e17-66fd0656af46.svs\n",
      "\u001b[KTotal Processed: 4999  Newly Processed: 0 Dup Slides or Already Loaded: 4691  RESCANNED Slides 25"
     ]
    },
    {
     "name": "stderr",
     "output_type": "stream",
     "text": [
      " ()\n",
      "Verify failed with:"
     ]
    },
    {
     "name": "stdout",
     "output_type": "stream",
     "text": [
      "Openslide returned an error om tje StandardError block /TCGA_MIRROR/tcga-data.nci.nih.gov/tcgafiles/ftp_auth/distro_ftpusers/anonymous/tumor/hnsc/bcr/nationwidechildrens.org/tissue_images/slide_images/nationwidechildrens.org_HNSC.tissue_images.Level_1.164.3.0/TCGA-CR-7371-01A-01-TS1.796eb4e3-4479-4e3c-b210-2d4f271b5ce7.svs\n",
      "SHIT IT DIED!\n",
      "insert into `corrupt_or_unreadable_svs_files` (full_file_name,filesize) Values ('/TCGA_MIRROR/tcga-data.nci.nih.gov/tcgafiles/ftp_auth/distro_ftpusers/anonymous/tumor/hnsc/bcr/nationwidechildrens.org/tissue_images/slide_images/nationwidechildrens.org_HNSC.tissue_images.Level_1.164.3.0/TCGA-CR-7371-01A-01-TS1.796eb4e3-4479-4e3c-b210-2d4f271b5ce7.svs',8681986) \n",
      "UNABLE TO OPEN FILE?? /TCGA_MIRROR/tcga-data.nci.nih.gov/tcgafiles/ftp_auth/distro_ftpusers/anonymous/tumor/hnsc/bcr/nationwidechildrens.org/tissue_images/slide_images/nationwidechildrens.org_HNSC.tissue_images.Level_1.164.3.0/TCGA-CR-7371-01A-01-TS1.796eb4e3-4479-4e3c-b210-2d4f271b5ce7.svs\n",
      "\u001b[KTotal Processed: 5005  Newly Processed: 0 Dup Slides or Already Loaded: 4696  RESCANNED Slides 25"
     ]
    },
    {
     "name": "stderr",
     "output_type": "stream",
     "text": [
      " ()\n",
      "Verify failed with:"
     ]
    },
    {
     "name": "stdout",
     "output_type": "stream",
     "text": [
      "Openslide returned an error om tje StandardError block /TCGA_MIRROR/tcga-data.nci.nih.gov/tcgafiles/ftp_auth/distro_ftpusers/anonymous/tumor/hnsc/bcr/nationwidechildrens.org/tissue_images/slide_images/nationwidechildrens.org_HNSC.tissue_images.Level_1.164.3.0/TCGA-CR-7380-01A-01-TS1.486d7d24-0e06-4e85-8555-9244219d2ffc.svs\n",
      "SHIT IT DIED!\n",
      "insert into `corrupt_or_unreadable_svs_files` (full_file_name,filesize) Values ('/TCGA_MIRROR/tcga-data.nci.nih.gov/tcgafiles/ftp_auth/distro_ftpusers/anonymous/tumor/hnsc/bcr/nationwidechildrens.org/tissue_images/slide_images/nationwidechildrens.org_HNSC.tissue_images.Level_1.164.3.0/TCGA-CR-7380-01A-01-TS1.486d7d24-0e06-4e85-8555-9244219d2ffc.svs',6616176) \n",
      "UNABLE TO OPEN FILE?? /TCGA_MIRROR/tcga-data.nci.nih.gov/tcgafiles/ftp_auth/distro_ftpusers/anonymous/tumor/hnsc/bcr/nationwidechildrens.org/tissue_images/slide_images/nationwidechildrens.org_HNSC.tissue_images.Level_1.164.3.0/TCGA-CR-7380-01A-01-TS1.486d7d24-0e06-4e85-8555-9244219d2ffc.svs\n",
      "\u001b[KTotal Processed: 5014  Newly Processed: 0 Dup Slides or Already Loaded: 4704  RESCANNED Slides 25"
     ]
    },
    {
     "name": "stderr",
     "output_type": "stream",
     "text": [
      " ()\n",
      "Verify failed with:"
     ]
    },
    {
     "name": "stdout",
     "output_type": "stream",
     "text": [
      "Openslide returned an error om tje StandardError block /TCGA_MIRROR/tcga-data.nci.nih.gov/tcgafiles/ftp_auth/distro_ftpusers/anonymous/tumor/hnsc/bcr/nationwidechildrens.org/tissue_images/slide_images/nationwidechildrens.org_HNSC.tissue_images.Level_1.164.3.0/TCGA-CR-7386-01A-01-TS1.ffcf78f3-b25a-46d2-9d38-69185654c9a5.svs\n",
      "SHIT IT DIED!\n",
      "insert into `corrupt_or_unreadable_svs_files` (full_file_name,filesize) Values ('/TCGA_MIRROR/tcga-data.nci.nih.gov/tcgafiles/ftp_auth/distro_ftpusers/anonymous/tumor/hnsc/bcr/nationwidechildrens.org/tissue_images/slide_images/nationwidechildrens.org_HNSC.tissue_images.Level_1.164.3.0/TCGA-CR-7386-01A-01-TS1.ffcf78f3-b25a-46d2-9d38-69185654c9a5.svs',9577100) \n",
      "UNABLE TO OPEN FILE?? /TCGA_MIRROR/tcga-data.nci.nih.gov/tcgafiles/ftp_auth/distro_ftpusers/anonymous/tumor/hnsc/bcr/nationwidechildrens.org/tissue_images/slide_images/nationwidechildrens.org_HNSC.tissue_images.Level_1.164.3.0/TCGA-CR-7386-01A-01-TS1.ffcf78f3-b25a-46d2-9d38-69185654c9a5.svs\n",
      "\u001b[KTotal Processed: 5017  Newly Processed: 0 Dup Slides or Already Loaded: 4706  RESCANNED Slides 25"
     ]
    },
    {
     "name": "stderr",
     "output_type": "stream",
     "text": [
      " ()\n",
      "Verify failed with:"
     ]
    },
    {
     "name": "stdout",
     "output_type": "stream",
     "text": [
      "Openslide returned an error om tje StandardError block /TCGA_MIRROR/tcga-data.nci.nih.gov/tcgafiles/ftp_auth/distro_ftpusers/anonymous/tumor/hnsc/bcr/nationwidechildrens.org/tissue_images/slide_images/nationwidechildrens.org_HNSC.tissue_images.Level_1.164.3.0/TCGA-CR-7389-01A-01-TS1.accbf255-8c8f-45a1-b8c4-076bce17a3d5.svs\n",
      "SHIT IT DIED!\n",
      "insert into `corrupt_or_unreadable_svs_files` (full_file_name,filesize) Values ('/TCGA_MIRROR/tcga-data.nci.nih.gov/tcgafiles/ftp_auth/distro_ftpusers/anonymous/tumor/hnsc/bcr/nationwidechildrens.org/tissue_images/slide_images/nationwidechildrens.org_HNSC.tissue_images.Level_1.164.3.0/TCGA-CR-7389-01A-01-TS1.accbf255-8c8f-45a1-b8c4-076bce17a3d5.svs',1502485) \n",
      "UNABLE TO OPEN FILE?? /TCGA_MIRROR/tcga-data.nci.nih.gov/tcgafiles/ftp_auth/distro_ftpusers/anonymous/tumor/hnsc/bcr/nationwidechildrens.org/tissue_images/slide_images/nationwidechildrens.org_HNSC.tissue_images.Level_1.164.3.0/TCGA-CR-7389-01A-01-TS1.accbf255-8c8f-45a1-b8c4-076bce17a3d5.svs\n",
      "\u001b[KTotal Processed: 5021  Newly Processed: 0 Dup Slides or Already Loaded: 4709  RESCANNED Slides 25"
     ]
    },
    {
     "name": "stderr",
     "output_type": "stream",
     "text": [
      " ()\n",
      "Verify failed with:"
     ]
    },
    {
     "name": "stdout",
     "output_type": "stream",
     "text": [
      "Openslide returned an error om tje StandardError block /TCGA_MIRROR/tcga-data.nci.nih.gov/tcgafiles/ftp_auth/distro_ftpusers/anonymous/tumor/hnsc/bcr/nationwidechildrens.org/tissue_images/slide_images/nationwidechildrens.org_HNSC.tissue_images.Level_1.164.3.0/TCGA-CR-7393-01A-01-TS1.d1befa29-b24c-4b24-b0c0-2740c9012e01.svs\n",
      "SHIT IT DIED!\n",
      "insert into `corrupt_or_unreadable_svs_files` (full_file_name,filesize) Values ('/TCGA_MIRROR/tcga-data.nci.nih.gov/tcgafiles/ftp_auth/distro_ftpusers/anonymous/tumor/hnsc/bcr/nationwidechildrens.org/tissue_images/slide_images/nationwidechildrens.org_HNSC.tissue_images.Level_1.164.3.0/TCGA-CR-7393-01A-01-TS1.d1befa29-b24c-4b24-b0c0-2740c9012e01.svs',8786500) \n",
      "UNABLE TO OPEN FILE?? /TCGA_MIRROR/tcga-data.nci.nih.gov/tcgafiles/ftp_auth/distro_ftpusers/anonymous/tumor/hnsc/bcr/nationwidechildrens.org/tissue_images/slide_images/nationwidechildrens.org_HNSC.tissue_images.Level_1.164.3.0/TCGA-CR-7393-01A-01-TS1.d1befa29-b24c-4b24-b0c0-2740c9012e01.svs\n",
      "\u001b[KTotal Processed: 5032  Newly Processed: 0 Dup Slides or Already Loaded: 4719  RESCANNED Slides 25"
     ]
    },
    {
     "name": "stderr",
     "output_type": "stream",
     "text": [
      " ()\n",
      "Verify failed with:"
     ]
    },
    {
     "name": "stdout",
     "output_type": "stream",
     "text": [
      "Openslide returned an error om tje StandardError block /TCGA_MIRROR/tcga-data.nci.nih.gov/tcgafiles/ftp_auth/distro_ftpusers/anonymous/tumor/hnsc/bcr/nationwidechildrens.org/tissue_images/slide_images/nationwidechildrens.org_HNSC.tissue_images.Level_1.164.3.0/TCGA-CR-7398-01A-01-TS1.3aef998b-046a-4d86-a8ee-42e771bc6d6d.svs\n",
      "SHIT IT DIED!\n",
      "insert into `corrupt_or_unreadable_svs_files` (full_file_name,filesize) Values ('/TCGA_MIRROR/tcga-data.nci.nih.gov/tcgafiles/ftp_auth/distro_ftpusers/anonymous/tumor/hnsc/bcr/nationwidechildrens.org/tissue_images/slide_images/nationwidechildrens.org_HNSC.tissue_images.Level_1.164.3.0/TCGA-CR-7398-01A-01-TS1.3aef998b-046a-4d86-a8ee-42e771bc6d6d.svs',8310986) \n",
      "UNABLE TO OPEN FILE?? /TCGA_MIRROR/tcga-data.nci.nih.gov/tcgafiles/ftp_auth/distro_ftpusers/anonymous/tumor/hnsc/bcr/nationwidechildrens.org/tissue_images/slide_images/nationwidechildrens.org_HNSC.tissue_images.Level_1.164.3.0/TCGA-CR-7398-01A-01-TS1.3aef998b-046a-4d86-a8ee-42e771bc6d6d.svs\n",
      "\u001b[KTotal Processed: 5047  Newly Processed: 0 Dup Slides or Already Loaded: 4733  RESCANNED Slides 25"
     ]
    },
    {
     "name": "stderr",
     "output_type": "stream",
     "text": [
      " ()\n",
      "Verify failed with:"
     ]
    },
    {
     "name": "stdout",
     "output_type": "stream",
     "text": [
      "Openslide returned an error om tje StandardError block /TCGA_MIRROR/tcga-data.nci.nih.gov/tcgafiles/ftp_auth/distro_ftpusers/anonymous/tumor/hnsc/bcr/nationwidechildrens.org/tissue_images/slide_images/nationwidechildrens.org_HNSC.tissue_images.Level_1.164.3.0/TCGA-CR-7399-01A-01-TS1.b87c5422-1239-4ffd-ba83-5969e2c2d9ce.svs\n",
      "SHIT IT DIED!\n",
      "insert into `corrupt_or_unreadable_svs_files` (full_file_name,filesize) Values ('/TCGA_MIRROR/tcga-data.nci.nih.gov/tcgafiles/ftp_auth/distro_ftpusers/anonymous/tumor/hnsc/bcr/nationwidechildrens.org/tissue_images/slide_images/nationwidechildrens.org_HNSC.tissue_images.Level_1.164.3.0/TCGA-CR-7399-01A-01-TS1.b87c5422-1239-4ffd-ba83-5969e2c2d9ce.svs',8292346) \n",
      "UNABLE TO OPEN FILE?? /TCGA_MIRROR/tcga-data.nci.nih.gov/tcgafiles/ftp_auth/distro_ftpusers/anonymous/tumor/hnsc/bcr/nationwidechildrens.org/tissue_images/slide_images/nationwidechildrens.org_HNSC.tissue_images.Level_1.164.3.0/TCGA-CR-7399-01A-01-TS1.b87c5422-1239-4ffd-ba83-5969e2c2d9ce.svs\n",
      "\u001b[KTotal Processed: 5052  Newly Processed: 0 Dup Slides or Already Loaded: 4737  RESCANNED Slides 25"
     ]
    },
    {
     "name": "stderr",
     "output_type": "stream",
     "text": [
      " ()\n",
      "Verify failed with:"
     ]
    },
    {
     "name": "stdout",
     "output_type": "stream",
     "text": [
      "Openslide returned an error om tje StandardError block /TCGA_MIRROR/tcga-data.nci.nih.gov/tcgafiles/ftp_auth/distro_ftpusers/anonymous/tumor/hnsc/bcr/nationwidechildrens.org/tissue_images/slide_images/nationwidechildrens.org_HNSC.tissue_images.Level_1.164.3.0/TCGA-CR-7391-01A-01-TS1.2d58313c-c239-4ff5-90bb-114a8b219ef7.svs\n",
      "SHIT IT DIED!\n",
      "insert into `corrupt_or_unreadable_svs_files` (full_file_name,filesize) Values ('/TCGA_MIRROR/tcga-data.nci.nih.gov/tcgafiles/ftp_auth/distro_ftpusers/anonymous/tumor/hnsc/bcr/nationwidechildrens.org/tissue_images/slide_images/nationwidechildrens.org_HNSC.tissue_images.Level_1.164.3.0/TCGA-CR-7391-01A-01-TS1.2d58313c-c239-4ff5-90bb-114a8b219ef7.svs',7115740) \n",
      "UNABLE TO OPEN FILE?? /TCGA_MIRROR/tcga-data.nci.nih.gov/tcgafiles/ftp_auth/distro_ftpusers/anonymous/tumor/hnsc/bcr/nationwidechildrens.org/tissue_images/slide_images/nationwidechildrens.org_HNSC.tissue_images.Level_1.164.3.0/TCGA-CR-7391-01A-01-TS1.2d58313c-c239-4ff5-90bb-114a8b219ef7.svs\n",
      "\u001b[KTotal Processed: 5055  Newly Processed: 0 Dup Slides or Already Loaded: 4739  RESCANNED Slides 25"
     ]
    },
    {
     "name": "stderr",
     "output_type": "stream",
     "text": [
      " ()\n",
      "Verify failed with:"
     ]
    },
    {
     "name": "stdout",
     "output_type": "stream",
     "text": [
      "Openslide returned an error om tje StandardError block /TCGA_MIRROR/tcga-data.nci.nih.gov/tcgafiles/ftp_auth/distro_ftpusers/anonymous/tumor/hnsc/bcr/nationwidechildrens.org/tissue_images/slide_images/nationwidechildrens.org_HNSC.tissue_images.Level_1.164.3.0/TCGA-CR-7392-01A-01-TS1.7ca616f1-56b4-4a0c-904f-06a69e736812.svs\n",
      "SHIT IT DIED!\n",
      "insert into `corrupt_or_unreadable_svs_files` (full_file_name,filesize) Values ('/TCGA_MIRROR/tcga-data.nci.nih.gov/tcgafiles/ftp_auth/distro_ftpusers/anonymous/tumor/hnsc/bcr/nationwidechildrens.org/tissue_images/slide_images/nationwidechildrens.org_HNSC.tissue_images.Level_1.164.3.0/TCGA-CR-7392-01A-01-TS1.7ca616f1-56b4-4a0c-904f-06a69e736812.svs',8714796) \n",
      "UNABLE TO OPEN FILE?? /TCGA_MIRROR/tcga-data.nci.nih.gov/tcgafiles/ftp_auth/distro_ftpusers/anonymous/tumor/hnsc/bcr/nationwidechildrens.org/tissue_images/slide_images/nationwidechildrens.org_HNSC.tissue_images.Level_1.164.3.0/TCGA-CR-7392-01A-01-TS1.7ca616f1-56b4-4a0c-904f-06a69e736812.svs\n",
      "\u001b[KTotal Processed: 5070  Newly Processed: 0 Dup Slides or Already Loaded: 4753  RESCANNED Slides 25"
     ]
    },
    {
     "name": "stderr",
     "output_type": "stream",
     "text": [
      " ()\n",
      "Verify failed with:"
     ]
    },
    {
     "name": "stdout",
     "output_type": "stream",
     "text": [
      "Openslide returned an error om tje StandardError block /TCGA_MIRROR/tcga-data.nci.nih.gov/tcgafiles/ftp_auth/distro_ftpusers/anonymous/tumor/hnsc/bcr/nationwidechildrens.org/tissue_images/slide_images/nationwidechildrens.org_HNSC.tissue_images.Level_1.164.3.0/TCGA-CR-7377-01A-01-TS1.45dd6071-5078-4807-a090-bf38fe6931c3.svs\n",
      "SHIT IT DIED!\n",
      "insert into `corrupt_or_unreadable_svs_files` (full_file_name,filesize) Values ('/TCGA_MIRROR/tcga-data.nci.nih.gov/tcgafiles/ftp_auth/distro_ftpusers/anonymous/tumor/hnsc/bcr/nationwidechildrens.org/tissue_images/slide_images/nationwidechildrens.org_HNSC.tissue_images.Level_1.164.3.0/TCGA-CR-7377-01A-01-TS1.45dd6071-5078-4807-a090-bf38fe6931c3.svs',8332454) \n",
      "UNABLE TO OPEN FILE?? /TCGA_MIRROR/tcga-data.nci.nih.gov/tcgafiles/ftp_auth/distro_ftpusers/anonymous/tumor/hnsc/bcr/nationwidechildrens.org/tissue_images/slide_images/nationwidechildrens.org_HNSC.tissue_images.Level_1.164.3.0/TCGA-CR-7377-01A-01-TS1.45dd6071-5078-4807-a090-bf38fe6931c3.svs\n",
      "\u001b[KTotal Processed: 5072  Newly Processed: 0 Dup Slides or Already Loaded: 4754  RESCANNED Slides 25"
     ]
    },
    {
     "name": "stderr",
     "output_type": "stream",
     "text": [
      " ()\n",
      "Verify failed with:"
     ]
    },
    {
     "name": "stdout",
     "output_type": "stream",
     "text": [
      "Openslide returned an error om tje StandardError block /TCGA_MIRROR/tcga-data.nci.nih.gov/tcgafiles/ftp_auth/distro_ftpusers/anonymous/tumor/hnsc/bcr/nationwidechildrens.org/tissue_images/slide_images/nationwidechildrens.org_HNSC.tissue_images.Level_1.164.3.0/TCGA-CR-7367-01A-01-TS1.8c33cb41-d972-4906-8664-b8332d6658c5.svs\n",
      "SHIT IT DIED!\n",
      "insert into `corrupt_or_unreadable_svs_files` (full_file_name,filesize) Values ('/TCGA_MIRROR/tcga-data.nci.nih.gov/tcgafiles/ftp_auth/distro_ftpusers/anonymous/tumor/hnsc/bcr/nationwidechildrens.org/tissue_images/slide_images/nationwidechildrens.org_HNSC.tissue_images.Level_1.164.3.0/TCGA-CR-7367-01A-01-TS1.8c33cb41-d972-4906-8664-b8332d6658c5.svs',7518242) \n",
      "UNABLE TO OPEN FILE?? /TCGA_MIRROR/tcga-data.nci.nih.gov/tcgafiles/ftp_auth/distro_ftpusers/anonymous/tumor/hnsc/bcr/nationwidechildrens.org/tissue_images/slide_images/nationwidechildrens.org_HNSC.tissue_images.Level_1.164.3.0/TCGA-CR-7367-01A-01-TS1.8c33cb41-d972-4906-8664-b8332d6658c5.svs\n",
      "\u001b[KTotal Processed: 5089  Newly Processed: 0 Dup Slides or Already Loaded: 4770  RESCANNED Slides 25"
     ]
    },
    {
     "name": "stderr",
     "output_type": "stream",
     "text": [
      " ()\n",
      "Verify failed with:"
     ]
    },
    {
     "name": "stdout",
     "output_type": "stream",
     "text": [
      "Openslide returned an error om tje StandardError block /TCGA_MIRROR/tcga-data.nci.nih.gov/tcgafiles/ftp_auth/distro_ftpusers/anonymous/tumor/hnsc/bcr/nationwidechildrens.org/tissue_images/slide_images/nationwidechildrens.org_HNSC.tissue_images.Level_1.188.4.0/TCGA-CR-6488-01A-01-TS1.e88764b5-31b8-4eee-b07e-c098f8a23a8b.svs\n",
      "SHIT IT DIED!\n",
      "insert into `corrupt_or_unreadable_svs_files` (full_file_name,filesize) Values ('/TCGA_MIRROR/tcga-data.nci.nih.gov/tcgafiles/ftp_auth/distro_ftpusers/anonymous/tumor/hnsc/bcr/nationwidechildrens.org/tissue_images/slide_images/nationwidechildrens.org_HNSC.tissue_images.Level_1.188.4.0/TCGA-CR-6488-01A-01-TS1.e88764b5-31b8-4eee-b07e-c098f8a23a8b.svs',9009486) \n",
      "UNABLE TO OPEN FILE?? /TCGA_MIRROR/tcga-data.nci.nih.gov/tcgafiles/ftp_auth/distro_ftpusers/anonymous/tumor/hnsc/bcr/nationwidechildrens.org/tissue_images/slide_images/nationwidechildrens.org_HNSC.tissue_images.Level_1.188.4.0/TCGA-CR-6488-01A-01-TS1.e88764b5-31b8-4eee-b07e-c098f8a23a8b.svs\n",
      "\u001b[KTotal Processed: 5097  Newly Processed: 0 Dup Slides or Already Loaded: 4777  RESCANNED Slides 25"
     ]
    },
    {
     "name": "stderr",
     "output_type": "stream",
     "text": [
      " ()\n",
      "Verify failed with:"
     ]
    },
    {
     "name": "stdout",
     "output_type": "stream",
     "text": [
      "Openslide returned an error om tje StandardError block /TCGA_MIRROR/tcga-data.nci.nih.gov/tcgafiles/ftp_auth/distro_ftpusers/anonymous/tumor/hnsc/bcr/nationwidechildrens.org/tissue_images/slide_images/nationwidechildrens.org_HNSC.tissue_images.Level_1.188.4.0/TCGA-CV-7418-11A-01-TS1.56a0f884-ee89-4c39-8ae9-339fcd7dd5a3.svs\n",
      "SHIT IT DIED!\n",
      "insert into `corrupt_or_unreadable_svs_files` (full_file_name,filesize) Values ('/TCGA_MIRROR/tcga-data.nci.nih.gov/tcgafiles/ftp_auth/distro_ftpusers/anonymous/tumor/hnsc/bcr/nationwidechildrens.org/tissue_images/slide_images/nationwidechildrens.org_HNSC.tissue_images.Level_1.188.4.0/TCGA-CV-7418-11A-01-TS1.56a0f884-ee89-4c39-8ae9-339fcd7dd5a3.svs',820666) \n",
      "UNABLE TO OPEN FILE?? /TCGA_MIRROR/tcga-data.nci.nih.gov/tcgafiles/ftp_auth/distro_ftpusers/anonymous/tumor/hnsc/bcr/nationwidechildrens.org/tissue_images/slide_images/nationwidechildrens.org_HNSC.tissue_images.Level_1.188.4.0/TCGA-CV-7418-11A-01-TS1.56a0f884-ee89-4c39-8ae9-339fcd7dd5a3.svs\n",
      "\u001b[KTotal Processed: 5103  Newly Processed: 0 Dup Slides or Already Loaded: 4782  RESCANNED Slides 25"
     ]
    },
    {
     "name": "stderr",
     "output_type": "stream",
     "text": [
      " ()\n",
      "Verify failed with:"
     ]
    },
    {
     "name": "stdout",
     "output_type": "stream",
     "text": [
      "Openslide returned an error om tje StandardError block /TCGA_MIRROR/tcga-data.nci.nih.gov/tcgafiles/ftp_auth/distro_ftpusers/anonymous/tumor/hnsc/bcr/nationwidechildrens.org/tissue_images/slide_images/nationwidechildrens.org_HNSC.tissue_images.Level_1.188.4.0/TCGA-CR-6492-01A-01-TS1.3c539bc3-8461-4e61-b8c0-ac5377cc8481.svs\n",
      "SHIT IT DIED!\n",
      "insert into `corrupt_or_unreadable_svs_files` (full_file_name,filesize) Values ('/TCGA_MIRROR/tcga-data.nci.nih.gov/tcgafiles/ftp_auth/distro_ftpusers/anonymous/tumor/hnsc/bcr/nationwidechildrens.org/tissue_images/slide_images/nationwidechildrens.org_HNSC.tissue_images.Level_1.188.4.0/TCGA-CR-6492-01A-01-TS1.3c539bc3-8461-4e61-b8c0-ac5377cc8481.svs',9669662) \n",
      "UNABLE TO OPEN FILE?? /TCGA_MIRROR/tcga-data.nci.nih.gov/tcgafiles/ftp_auth/distro_ftpusers/anonymous/tumor/hnsc/bcr/nationwidechildrens.org/tissue_images/slide_images/nationwidechildrens.org_HNSC.tissue_images.Level_1.188.4.0/TCGA-CR-6492-01A-01-TS1.3c539bc3-8461-4e61-b8c0-ac5377cc8481.svs\n",
      "\u001b[KTotal Processed: 5106  Newly Processed: 0 Dup Slides or Already Loaded: 4784  RESCANNED Slides 25"
     ]
    },
    {
     "name": "stderr",
     "output_type": "stream",
     "text": [
      " ()\n",
      "Verify failed with:"
     ]
    },
    {
     "name": "stdout",
     "output_type": "stream",
     "text": [
      "Openslide returned an error om tje StandardError block /TCGA_MIRROR/tcga-data.nci.nih.gov/tcgafiles/ftp_auth/distro_ftpusers/anonymous/tumor/hnsc/bcr/nationwidechildrens.org/tissue_images/slide_images/nationwidechildrens.org_HNSC.tissue_images.Level_1.188.4.0/TCGA-CV-7424-11A-01-TS1.24110795-f22d-423e-aa10-25ef5971306e.svs\n",
      "SHIT IT DIED!\n",
      "insert into `corrupt_or_unreadable_svs_files` (full_file_name,filesize) Values ('/TCGA_MIRROR/tcga-data.nci.nih.gov/tcgafiles/ftp_auth/distro_ftpusers/anonymous/tumor/hnsc/bcr/nationwidechildrens.org/tissue_images/slide_images/nationwidechildrens.org_HNSC.tissue_images.Level_1.188.4.0/TCGA-CV-7424-11A-01-TS1.24110795-f22d-423e-aa10-25ef5971306e.svs',911920) \n",
      "UNABLE TO OPEN FILE?? /TCGA_MIRROR/tcga-data.nci.nih.gov/tcgafiles/ftp_auth/distro_ftpusers/anonymous/tumor/hnsc/bcr/nationwidechildrens.org/tissue_images/slide_images/nationwidechildrens.org_HNSC.tissue_images.Level_1.188.4.0/TCGA-CV-7424-11A-01-TS1.24110795-f22d-423e-aa10-25ef5971306e.svs\n",
      "\u001b[KTotal Processed: 5108  Newly Processed: 0 Dup Slides or Already Loaded: 4785  RESCANNED Slides 25"
     ]
    },
    {
     "name": "stderr",
     "output_type": "stream",
     "text": [
      " ()\n",
      "Verify failed with:"
     ]
    },
    {
     "name": "stdout",
     "output_type": "stream",
     "text": [
      "Openslide returned an error om tje StandardError block /TCGA_MIRROR/tcga-data.nci.nih.gov/tcgafiles/ftp_auth/distro_ftpusers/anonymous/tumor/hnsc/bcr/nationwidechildrens.org/tissue_images/slide_images/nationwidechildrens.org_HNSC.tissue_images.Level_1.188.4.0/TCGA-CV-7416-11A-01-TS1.0ac55be2-8dff-4513-9c50-c201db22af5f.svs\n",
      "SHIT IT DIED!\n",
      "insert into `corrupt_or_unreadable_svs_files` (full_file_name,filesize) Values ('/TCGA_MIRROR/tcga-data.nci.nih.gov/tcgafiles/ftp_auth/distro_ftpusers/anonymous/tumor/hnsc/bcr/nationwidechildrens.org/tissue_images/slide_images/nationwidechildrens.org_HNSC.tissue_images.Level_1.188.4.0/TCGA-CV-7416-11A-01-TS1.0ac55be2-8dff-4513-9c50-c201db22af5f.svs',991534) \n",
      "UNABLE TO OPEN FILE?? /TCGA_MIRROR/tcga-data.nci.nih.gov/tcgafiles/ftp_auth/distro_ftpusers/anonymous/tumor/hnsc/bcr/nationwidechildrens.org/tissue_images/slide_images/nationwidechildrens.org_HNSC.tissue_images.Level_1.188.4.0/TCGA-CV-7416-11A-01-TS1.0ac55be2-8dff-4513-9c50-c201db22af5f.svs\n",
      "\u001b[KTotal Processed: 5111  Newly Processed: 0 Dup Slides or Already Loaded: 4787  RESCANNED Slides 25"
     ]
    },
    {
     "name": "stderr",
     "output_type": "stream",
     "text": [
      " ()\n",
      "Verify failed with:"
     ]
    },
    {
     "name": "stdout",
     "output_type": "stream",
     "text": [
      "Openslide returned an error om tje StandardError block /TCGA_MIRROR/tcga-data.nci.nih.gov/tcgafiles/ftp_auth/distro_ftpusers/anonymous/tumor/hnsc/bcr/nationwidechildrens.org/tissue_images/slide_images/nationwidechildrens.org_HNSC.tissue_images.Level_1.188.4.0/TCGA-CV-7413-11A-01-TS1.4ef66ce2-6bfd-4d0c-898b-a3105ed9e16d.svs\n",
      "SHIT IT DIED!\n",
      "insert into `corrupt_or_unreadable_svs_files` (full_file_name,filesize) Values ('/TCGA_MIRROR/tcga-data.nci.nih.gov/tcgafiles/ftp_auth/distro_ftpusers/anonymous/tumor/hnsc/bcr/nationwidechildrens.org/tissue_images/slide_images/nationwidechildrens.org_HNSC.tissue_images.Level_1.188.4.0/TCGA-CV-7413-11A-01-TS1.4ef66ce2-6bfd-4d0c-898b-a3105ed9e16d.svs',940890) \n",
      "UNABLE TO OPEN FILE?? /TCGA_MIRROR/tcga-data.nci.nih.gov/tcgafiles/ftp_auth/distro_ftpusers/anonymous/tumor/hnsc/bcr/nationwidechildrens.org/tissue_images/slide_images/nationwidechildrens.org_HNSC.tissue_images.Level_1.188.4.0/TCGA-CV-7413-11A-01-TS1.4ef66ce2-6bfd-4d0c-898b-a3105ed9e16d.svs\n",
      "\u001b[KTotal Processed: 5119  Newly Processed: 0 Dup Slides or Already Loaded: 4794  RESCANNED Slides 25"
     ]
    },
    {
     "name": "stderr",
     "output_type": "stream",
     "text": [
      " ()\n",
      "Verify failed with:"
     ]
    },
    {
     "name": "stdout",
     "output_type": "stream",
     "text": [
      "Openslide returned an error om tje StandardError block /TCGA_MIRROR/tcga-data.nci.nih.gov/tcgafiles/ftp_auth/distro_ftpusers/anonymous/tumor/hnsc/bcr/nationwidechildrens.org/tissue_images/slide_images/nationwidechildrens.org_HNSC.tissue_images.Level_1.188.4.0/TCGA-CV-7423-11A-01-TS1.fff2208d-db47-4273-85d4-fa1fe9182ba6.svs\n",
      "SHIT IT DIED!\n",
      "insert into `corrupt_or_unreadable_svs_files` (full_file_name,filesize) Values ('/TCGA_MIRROR/tcga-data.nci.nih.gov/tcgafiles/ftp_auth/distro_ftpusers/anonymous/tumor/hnsc/bcr/nationwidechildrens.org/tissue_images/slide_images/nationwidechildrens.org_HNSC.tissue_images.Level_1.188.4.0/TCGA-CV-7423-11A-01-TS1.fff2208d-db47-4273-85d4-fa1fe9182ba6.svs',896786) \n",
      "UNABLE TO OPEN FILE?? /TCGA_MIRROR/tcga-data.nci.nih.gov/tcgafiles/ftp_auth/distro_ftpusers/anonymous/tumor/hnsc/bcr/nationwidechildrens.org/tissue_images/slide_images/nationwidechildrens.org_HNSC.tissue_images.Level_1.188.4.0/TCGA-CV-7423-11A-01-TS1.fff2208d-db47-4273-85d4-fa1fe9182ba6.svs\n",
      "\r",
      "\u001b[KTotal Processed: 5120  Newly Processed: 0 Dup Slides or Already Loaded: 4794  RESCANNED Slides 25"
     ]
    },
    {
     "name": "stderr",
     "output_type": "stream",
     "text": [
      " ()\n",
      "Verify failed with:"
     ]
    },
    {
     "name": "stdout",
     "output_type": "stream",
     "text": [
      "Openslide returned an error om tje StandardError block /TCGA_MIRROR/tcga-data.nci.nih.gov/tcgafiles/ftp_auth/distro_ftpusers/anonymous/tumor/hnsc/bcr/nationwidechildrens.org/tissue_images/slide_images/nationwidechildrens.org_HNSC.tissue_images.Level_1.188.4.0/TCGA-CV-7406-11A-01-TS1.5d264754-0b2c-477e-a9da-21c8be156969.svs\n",
      "SHIT IT DIED!\n",
      "insert into `corrupt_or_unreadable_svs_files` (full_file_name,filesize) Values ('/TCGA_MIRROR/tcga-data.nci.nih.gov/tcgafiles/ftp_auth/distro_ftpusers/anonymous/tumor/hnsc/bcr/nationwidechildrens.org/tissue_images/slide_images/nationwidechildrens.org_HNSC.tissue_images.Level_1.188.4.0/TCGA-CV-7406-11A-01-TS1.5d264754-0b2c-477e-a9da-21c8be156969.svs',951454) \n",
      "UNABLE TO OPEN FILE?? /TCGA_MIRROR/tcga-data.nci.nih.gov/tcgafiles/ftp_auth/distro_ftpusers/anonymous/tumor/hnsc/bcr/nationwidechildrens.org/tissue_images/slide_images/nationwidechildrens.org_HNSC.tissue_images.Level_1.188.4.0/TCGA-CV-7406-11A-01-TS1.5d264754-0b2c-477e-a9da-21c8be156969.svs\n",
      "\u001b[KTotal Processed: 5129  Newly Processed: 0 Dup Slides or Already Loaded: 4802  RESCANNED Slides 25"
     ]
    },
    {
     "name": "stderr",
     "output_type": "stream",
     "text": [
      " ()\n",
      "Verify failed with:"
     ]
    },
    {
     "name": "stdout",
     "output_type": "stream",
     "text": [
      "Openslide returned an error om tje StandardError block /TCGA_MIRROR/tcga-data.nci.nih.gov/tcgafiles/ftp_auth/distro_ftpusers/anonymous/tumor/hnsc/bcr/nationwidechildrens.org/tissue_images/slide_images/nationwidechildrens.org_HNSC.tissue_images.Level_1.188.4.0/TCGA-CV-7425-11A-01-TS1.14d506b7-06ce-45be-a009-584e6b92aafc.svs\n",
      "SHIT IT DIED!\n",
      "insert into `corrupt_or_unreadable_svs_files` (full_file_name,filesize) Values ('/TCGA_MIRROR/tcga-data.nci.nih.gov/tcgafiles/ftp_auth/distro_ftpusers/anonymous/tumor/hnsc/bcr/nationwidechildrens.org/tissue_images/slide_images/nationwidechildrens.org_HNSC.tissue_images.Level_1.188.4.0/TCGA-CV-7425-11A-01-TS1.14d506b7-06ce-45be-a009-584e6b92aafc.svs',1045922) \n",
      "UNABLE TO OPEN FILE?? /TCGA_MIRROR/tcga-data.nci.nih.gov/tcgafiles/ftp_auth/distro_ftpusers/anonymous/tumor/hnsc/bcr/nationwidechildrens.org/tissue_images/slide_images/nationwidechildrens.org_HNSC.tissue_images.Level_1.188.4.0/TCGA-CV-7425-11A-01-TS1.14d506b7-06ce-45be-a009-584e6b92aafc.svs\n",
      "\u001b[KTotal Processed: 5233  Newly Processed: 0 Dup Slides or Already Loaded: 4905  RESCANNED Slides 25/TCGA_MIRROR/tcga-data.nci.nih.gov/tcgafiles/ftp_auth/distro_ftpusers/anonymous/tumor/\n",
      "\u001b[KTotal Processed: 5203  Newly Processed: 0 Dup Slides or Already Loaded: 5110  RESCANNED Slides 93/TCGA_MIRROR/tcga-data.nci.nih.gov/tcgafiles/ftp_auth/distro_ftpusers/anonymous/tumor/\n",
      "\u001b[KTotal Processed: 1955  Newly Processed: 0 Dup Slides or Already Loaded: 1955  RESCANNED Slides 0/TCGA_MIRROR/tcga-data.nci.nih.gov/tcgafiles/ftp_auth/distro_ftpusers/anonymous/tumor/\n",
      "\u001b[KTotal Processed: 1104  Newly Processed: 0 Dup Slides or Already Loaded: 1099  RESCANNED Slides 5"
     ]
    },
    {
     "name": "stderr",
     "output_type": "stream",
     "text": [
      " ()\n",
      "/home/dagutman/Envs/dsa-tools/local/lib/python2.7/site-packages/PIL/TiffImagePlugin.py:471: UserWarning: Possibly corrupt EXIF data.  Expecting to read 17103422048 bytes but only got 803420367. Skipping tag 12337\n",
      "  \"Skipping tag %s\" % (size, len(data), tag))\n"
     ]
    },
    {
     "name": "stdout",
     "output_type": "stream",
     "text": [
      "Openslide returned an error om tje StandardError block /TCGA_MIRROR/tcga-data.nci.nih.gov/tcgafiles/ftp_auth/distro_ftpusers/anonymous/tumor/skcm/bcr/nationwidechildrens.org/diagnostic_images/slide_images/nationwidechildrens.org_SKCM.diagnostic_images.Level_1.180.7.0/TCGA-EE-A2GC-01Z-00-DX1.34BD8445-75D9-4F14-ABE2-3A21A57427BA.svs\n",
      "SHIT IT DIED!\n",
      "insert into `corrupt_or_unreadable_svs_files` (full_file_name,filesize) Values ('/TCGA_MIRROR/tcga-data.nci.nih.gov/tcgafiles/ftp_auth/distro_ftpusers/anonymous/tumor/skcm/bcr/nationwidechildrens.org/diagnostic_images/slide_images/nationwidechildrens.org_SKCM.diagnostic_images.Level_1.180.7.0/TCGA-EE-A2GC-01Z-00-DX1.34BD8445-75D9-4F14-ABE2-3A21A57427BA.svs',1502570805) \n",
      "UNABLE TO OPEN FILE?? /TCGA_MIRROR/tcga-data.nci.nih.gov/tcgafiles/ftp_auth/distro_ftpusers/anonymous/tumor/skcm/bcr/nationwidechildrens.org/diagnostic_images/slide_images/nationwidechildrens.org_SKCM.diagnostic_images.Level_1.180.7.0/TCGA-EE-A2GC-01Z-00-DX1.34BD8445-75D9-4F14-ABE2-3A21A57427BA.svs\n",
      "\u001b[KTotal Processed: 1322  Newly Processed: 0 Dup Slides or Already Loaded: 1315  RESCANNED Slides 6"
     ]
    },
    {
     "name": "stderr",
     "output_type": "stream",
     "text": [
      "Verify failed with: (\"cannot identify image file '/TCGA_MIRROR/tcga-data.nci.nih.gov/tcgafiles/ftp_auth/distro_ftpusers/anonymous/tumor/skcm/bcr/nationwidechildrens.org/diagnostic_images/slide_images/nationwidechildrens.org_SKCM.diagnostic_images.Level_1.180.7.0/TCGA-EE-A2GC-01Z-00-DX1.34BD8445-75D9-4F14-ABE2-3A21A57427BA.svs'\",)\n",
      "Verify failed with:"
     ]
    },
    {
     "name": "stdout",
     "output_type": "stream",
     "text": [
      "Openslide returned an error om tje StandardError block /TCGA_MIRROR/tcga-data.nci.nih.gov/tcgafiles/ftp_auth/distro_ftpusers/anonymous/tumor/skcm/bcr/nationwidechildrens.org/diagnostic_images/slide_images/nationwidechildrens.org_SKCM.diagnostic_images.Level_1.180.4.0/TCGA-EE-A2GC-01Z-00-DX1.34BD8445-75D9-4F14-ABE2-3A21A57427BA.svs\n",
      "SHIT IT DIED!\n",
      "insert into `corrupt_or_unreadable_svs_files` (full_file_name,filesize) Values ('/TCGA_MIRROR/tcga-data.nci.nih.gov/tcgafiles/ftp_auth/distro_ftpusers/anonymous/tumor/skcm/bcr/nationwidechildrens.org/diagnostic_images/slide_images/nationwidechildrens.org_SKCM.diagnostic_images.Level_1.180.4.0/TCGA-EE-A2GC-01Z-00-DX1.34BD8445-75D9-4F14-ABE2-3A21A57427BA.svs',1502570805) \n",
      "UNABLE TO OPEN FILE?? /TCGA_MIRROR/tcga-data.nci.nih.gov/tcgafiles/ftp_auth/distro_ftpusers/anonymous/tumor/skcm/bcr/nationwidechildrens.org/diagnostic_images/slide_images/nationwidechildrens.org_SKCM.diagnostic_images.Level_1.180.4.0/TCGA-EE-A2GC-01Z-00-DX1.34BD8445-75D9-4F14-ABE2-3A21A57427BA.svs\n",
      "\u001b[KTotal Processed: 1624  Newly Processed: 0 Dup Slides or Already Loaded: 1615  RESCANNED Slides 7"
     ]
    },
    {
     "name": "stderr",
     "output_type": "stream",
     "text": [
      " (\"cannot identify image file '/TCGA_MIRROR/tcga-data.nci.nih.gov/tcgafiles/ftp_auth/distro_ftpusers/anonymous/tumor/skcm/bcr/nationwidechildrens.org/diagnostic_images/slide_images/nationwidechildrens.org_SKCM.diagnostic_images.Level_1.180.4.0/TCGA-EE-A2GC-01Z-00-DX1.34BD8445-75D9-4F14-ABE2-3A21A57427BA.svs'\",)\n",
      "Verify failed with:"
     ]
    },
    {
     "name": "stdout",
     "output_type": "stream",
     "text": [
      "Openslide returned an error om tje StandardError block /TCGA_MIRROR/tcga-data.nci.nih.gov/tcgafiles/ftp_auth/distro_ftpusers/anonymous/tumor/skcm/bcr/nationwidechildrens.org/diagnostic_images/slide_images/nationwidechildrens.org_SKCM.diagnostic_images.Level_1.180.6.0/TCGA-EE-A2GC-01Z-00-DX1.34BD8445-75D9-4F14-ABE2-3A21A57427BA.svs\n",
      "SHIT IT DIED!\n",
      "insert into `corrupt_or_unreadable_svs_files` (full_file_name,filesize) Values ('/TCGA_MIRROR/tcga-data.nci.nih.gov/tcgafiles/ftp_auth/distro_ftpusers/anonymous/tumor/skcm/bcr/nationwidechildrens.org/diagnostic_images/slide_images/nationwidechildrens.org_SKCM.diagnostic_images.Level_1.180.6.0/TCGA-EE-A2GC-01Z-00-DX1.34BD8445-75D9-4F14-ABE2-3A21A57427BA.svs',1502570805) \n",
      "UNABLE TO OPEN FILE?? /TCGA_MIRROR/tcga-data.nci.nih.gov/tcgafiles/ftp_auth/distro_ftpusers/anonymous/tumor/skcm/bcr/nationwidechildrens.org/diagnostic_images/slide_images/nationwidechildrens.org_SKCM.diagnostic_images.Level_1.180.6.0/TCGA-EE-A2GC-01Z-00-DX1.34BD8445-75D9-4F14-ABE2-3A21A57427BA.svs\n",
      "\u001b[KTotal Processed: 3351  Newly Processed: 0 Dup Slides or Already Loaded: 3339  RESCANNED Slides 9"
     ]
    },
    {
     "name": "stderr",
     "output_type": "stream",
     "text": [
      " (\"cannot identify image file '/TCGA_MIRROR/tcga-data.nci.nih.gov/tcgafiles/ftp_auth/distro_ftpusers/anonymous/tumor/skcm/bcr/nationwidechildrens.org/diagnostic_images/slide_images/nationwidechildrens.org_SKCM.diagnostic_images.Level_1.180.6.0/TCGA-EE-A2GC-01Z-00-DX1.34BD8445-75D9-4F14-ABE2-3A21A57427BA.svs'\",)\n",
      "/home/dagutman/Envs/dsa-tools/local/lib/python2.7/site-packages/PIL/Image.py:2261: DecompressionBombWarning: Image size (1359403640 pixels) exceeds limit of 89478485 pixels, could be decompression bomb DOS attack.\n",
      "  DecompressionBombWarning)\n"
     ]
    },
    {
     "name": "stdout",
     "output_type": "stream",
     "text": [
      "Openslide returned an error om tje StandardError block /TCGA_MIRROR/tcga-data.nci.nih.gov/tcgafiles/ftp_auth/distro_ftpusers/anonymous/tumor/skcm/bcr/nationwidechildrens.org/tissue_images/slide_images/nationwidechildrens.org_SKCM.tissue_images.Level_1.198.0.0/TCGA-EE-A3J3-06A-01-TSA.2A80449D-AD62-40C3-A59B-90E0C683F40F.svs\n",
      "SHIT IT DIED!\n",
      "insert into `corrupt_or_unreadable_svs_files` (full_file_name,filesize) Values ('/TCGA_MIRROR/tcga-data.nci.nih.gov/tcgafiles/ftp_auth/distro_ftpusers/anonymous/tumor/skcm/bcr/nationwidechildrens.org/tissue_images/slide_images/nationwidechildrens.org_SKCM.tissue_images.Level_1.198.0.0/TCGA-EE-A3J3-06A-01-TSA.2A80449D-AD62-40C3-A59B-90E0C683F40F.svs',97808029) \n",
      "UNABLE TO OPEN FILE?? /TCGA_MIRROR/tcga-data.nci.nih.gov/tcgafiles/ftp_auth/distro_ftpusers/anonymous/tumor/skcm/bcr/nationwidechildrens.org/tissue_images/slide_images/nationwidechildrens.org_SKCM.tissue_images.Level_1.198.0.0/TCGA-EE-A3J3-06A-01-TSA.2A80449D-AD62-40C3-A59B-90E0C683F40F.svs\n",
      "\u001b[KTotal Processed: 4060  Newly Processed: 0 Dup Slides or Already Loaded: 4047  RESCANNED Slides 9/TCGA_MIRROR/tcga-data.nci.nih.gov/tcgafiles/ftp_auth/distro_ftpusers/anonymous/tumor/\n",
      "\u001b[KTotal Processed: 733  Newly Processed: 0 Dup Slides or Already Loaded: 733  RESCANNED Slides 0/TCGA_MIRROR/tcga-data.nci.nih.gov/tcgafiles/ftp_auth/distro_ftpusers/anonymous/tumor/\n",
      "\u001b[KTotal Processed: 84  Newly Processed: 0 Dup Slides or Already Loaded: 84  RESCANNED Slides 0"
     ]
    },
    {
     "name": "stderr",
     "output_type": "stream",
     "text": [
      "Verify failed with: ('aperio.AppMag',)\n",
      "Verify failed with:"
     ]
    },
    {
     "name": "stdout",
     "output_type": "stream",
     "text": [
      "Openslide returned an error om tje StandardError block /TCGA_MIRROR/tcga-data.nci.nih.gov/tcgafiles/ftp_auth/distro_ftpusers/anonymous/tumor/cesc/bcr/nationwidechildrens.org/diagnostic_images/slide_images/nationwidechildrens.org_CESC.diagnostic_images.Level_1.127.4.0/TCGA-DS-A1OA-01Z-00-DX1.2452ACCB-9788-44C3-8041-3D9E5A3620BD.svs\n",
      "SHIT IT DIED!\n",
      "insert into `corrupt_or_unreadable_svs_files` (full_file_name,filesize) Values ('/TCGA_MIRROR/tcga-data.nci.nih.gov/tcgafiles/ftp_auth/distro_ftpusers/anonymous/tumor/cesc/bcr/nationwidechildrens.org/diagnostic_images/slide_images/nationwidechildrens.org_CESC.diagnostic_images.Level_1.127.4.0/TCGA-DS-A1OA-01Z-00-DX1.2452ACCB-9788-44C3-8041-3D9E5A3620BD.svs',1796904111) \n",
      "UNABLE TO OPEN FILE?? /TCGA_MIRROR/tcga-data.nci.nih.gov/tcgafiles/ftp_auth/distro_ftpusers/anonymous/tumor/cesc/bcr/nationwidechildrens.org/diagnostic_images/slide_images/nationwidechildrens.org_CESC.diagnostic_images.Level_1.127.4.0/TCGA-DS-A1OA-01Z-00-DX1.2452ACCB-9788-44C3-8041-3D9E5A3620BD.svs\n",
      "\u001b[KTotal Processed: 433  Newly Processed: 0 Dup Slides or Already Loaded: 432  RESCANNED Slides 0"
     ]
    },
    {
     "name": "stderr",
     "output_type": "stream",
     "text": [
      " (\"cannot identify image file '/TCGA_MIRROR/tcga-data.nci.nih.gov/tcgafiles/ftp_auth/distro_ftpusers/anonymous/tumor/cesc/bcr/nationwidechildrens.org/diagnostic_images/slide_images/nationwidechildrens.org_CESC.diagnostic_images.Level_1.127.4.0/TCGA-DS-A1OA-01Z-00-DX1.2452ACCB-9788-44C3-8041-3D9E5A3620BD.svs'\",)\n",
      "Verify failed with:"
     ]
    },
    {
     "name": "stdout",
     "output_type": "stream",
     "text": [
      "Openslide returned an error om tje StandardError block /TCGA_MIRROR/tcga-data.nci.nih.gov/tcgafiles/ftp_auth/distro_ftpusers/anonymous/tumor/cesc/bcr/nationwidechildrens.org/diagnostic_images/slide_images/nationwidechildrens.org_CESC.diagnostic_images.Level_1.200.7.0/.TCGA-FU-A3HZ-01Z-00-DX1.1E78D8EF-B1FF-49AC-9EC4-D6CC2CD5D170.svs.qhJFlT\n",
      "SHIT IT DIED!\n",
      "insert into `corrupt_or_unreadable_svs_files` (full_file_name,filesize) Values ('/TCGA_MIRROR/tcga-data.nci.nih.gov/tcgafiles/ftp_auth/distro_ftpusers/anonymous/tumor/cesc/bcr/nationwidechildrens.org/diagnostic_images/slide_images/nationwidechildrens.org_CESC.diagnostic_images.Level_1.200.7.0/.TCGA-FU-A3HZ-01Z-00-DX1.1E78D8EF-B1FF-49AC-9EC4-D6CC2CD5D170.svs.qhJFlT',273842176) \n",
      "UNABLE TO OPEN FILE?? /TCGA_MIRROR/tcga-data.nci.nih.gov/tcgafiles/ftp_auth/distro_ftpusers/anonymous/tumor/cesc/bcr/nationwidechildrens.org/diagnostic_images/slide_images/nationwidechildrens.org_CESC.diagnostic_images.Level_1.200.7.0/.TCGA-FU-A3HZ-01Z-00-DX1.1E78D8EF-B1FF-49AC-9EC4-D6CC2CD5D170.svs.qhJFlT\n",
      "\u001b[KTotal Processed: 676  Newly Processed: 0 Dup Slides or Already Loaded: 674  RESCANNED Slides 0"
     ]
    },
    {
     "name": "stderr",
     "output_type": "stream",
     "text": [
      " (13, 'Permission denied')\n",
      "Verify failed with:"
     ]
    },
    {
     "name": "stdout",
     "output_type": "stream",
     "text": [
      "Openslide returned an error om tje StandardError block /TCGA_MIRROR/tcga-data.nci.nih.gov/tcgafiles/ftp_auth/distro_ftpusers/anonymous/tumor/cesc/bcr/nationwidechildrens.org/diagnostic_images/slide_images/nationwidechildrens.org_CESC.diagnostic_images.Level_1.127.5.0/TCGA-DS-A1OA-01Z-00-DX1.2452ACCB-9788-44C3-8041-3D9E5A3620BD.svs\n",
      "SHIT IT DIED!\n",
      "insert into `corrupt_or_unreadable_svs_files` (full_file_name,filesize) Values ('/TCGA_MIRROR/tcga-data.nci.nih.gov/tcgafiles/ftp_auth/distro_ftpusers/anonymous/tumor/cesc/bcr/nationwidechildrens.org/diagnostic_images/slide_images/nationwidechildrens.org_CESC.diagnostic_images.Level_1.127.5.0/TCGA-DS-A1OA-01Z-00-DX1.2452ACCB-9788-44C3-8041-3D9E5A3620BD.svs',1796904111) \n",
      "UNABLE TO OPEN FILE?? /TCGA_MIRROR/tcga-data.nci.nih.gov/tcgafiles/ftp_auth/distro_ftpusers/anonymous/tumor/cesc/bcr/nationwidechildrens.org/diagnostic_images/slide_images/nationwidechildrens.org_CESC.diagnostic_images.Level_1.127.5.0/TCGA-DS-A1OA-01Z-00-DX1.2452ACCB-9788-44C3-8041-3D9E5A3620BD.svs\n",
      "\u001b[KTotal Processed: 685  Newly Processed: 0 Dup Slides or Already Loaded: 682  RESCANNED Slides 0"
     ]
    },
    {
     "name": "stderr",
     "output_type": "stream",
     "text": [
      " (\"cannot identify image file '/TCGA_MIRROR/tcga-data.nci.nih.gov/tcgafiles/ftp_auth/distro_ftpusers/anonymous/tumor/cesc/bcr/nationwidechildrens.org/diagnostic_images/slide_images/nationwidechildrens.org_CESC.diagnostic_images.Level_1.127.5.0/TCGA-DS-A1OA-01Z-00-DX1.2452ACCB-9788-44C3-8041-3D9E5A3620BD.svs'\",)\n",
      "Verify failed with:"
     ]
    },
    {
     "name": "stdout",
     "output_type": "stream",
     "text": [
      "Openslide returned an error om tje StandardError block /TCGA_MIRROR/tcga-data.nci.nih.gov/tcgafiles/ftp_auth/distro_ftpusers/anonymous/tumor/cesc/bcr/nationwidechildrens.org/diagnostic_images/slide_images/nationwidechildrens.org_CESC.diagnostic_images.Level_1.127.5.0/TCGA-DS-A1OB-01Z-00-DX1.F3E3B423-D5E3-463A-BE95-76C2ADD14915.svs\n",
      "SHIT IT DIED!\n",
      "insert into `corrupt_or_unreadable_svs_files` (full_file_name,filesize) Values ('/TCGA_MIRROR/tcga-data.nci.nih.gov/tcgafiles/ftp_auth/distro_ftpusers/anonymous/tumor/cesc/bcr/nationwidechildrens.org/diagnostic_images/slide_images/nationwidechildrens.org_CESC.diagnostic_images.Level_1.127.5.0/TCGA-DS-A1OB-01Z-00-DX1.F3E3B423-D5E3-463A-BE95-76C2ADD14915.svs',845977863) \n",
      "UNABLE TO OPEN FILE?? /TCGA_MIRROR/tcga-data.nci.nih.gov/tcgafiles/ftp_auth/distro_ftpusers/anonymous/tumor/cesc/bcr/nationwidechildrens.org/diagnostic_images/slide_images/nationwidechildrens.org_CESC.diagnostic_images.Level_1.127.5.0/TCGA-DS-A1OB-01Z-00-DX1.F3E3B423-D5E3-463A-BE95-76C2ADD14915.svs\n",
      "\u001b[KTotal Processed: 726  Newly Processed: 0 Dup Slides or Already Loaded: 722  RESCANNED Slides 0"
     ]
    },
    {
     "name": "stderr",
     "output_type": "stream",
     "text": [
      " (\"cannot identify image file '/TCGA_MIRROR/tcga-data.nci.nih.gov/tcgafiles/ftp_auth/distro_ftpusers/anonymous/tumor/cesc/bcr/nationwidechildrens.org/diagnostic_images/slide_images/nationwidechildrens.org_CESC.diagnostic_images.Level_1.127.5.0/TCGA-DS-A1OB-01Z-00-DX1.F3E3B423-D5E3-463A-BE95-76C2ADD14915.svs'\",)\n",
      "Verify failed with:"
     ]
    },
    {
     "name": "stdout",
     "output_type": "stream",
     "text": [
      "Openslide returned an error om tje StandardError block /TCGA_MIRROR/tcga-data.nci.nih.gov/tcgafiles/ftp_auth/distro_ftpusers/anonymous/tumor/cesc/bcr/nationwidechildrens.org/diagnostic_images/slide_images/nationwidechildrens.org_CESC.diagnostic_images.Level_1.127.3.0/TCGA-DS-A1OA-01Z-00-DX1.2452ACCB-9788-44C3-8041-3D9E5A3620BD.svs\n",
      "SHIT IT DIED!\n",
      "insert into `corrupt_or_unreadable_svs_files` (full_file_name,filesize) Values ('/TCGA_MIRROR/tcga-data.nci.nih.gov/tcgafiles/ftp_auth/distro_ftpusers/anonymous/tumor/cesc/bcr/nationwidechildrens.org/diagnostic_images/slide_images/nationwidechildrens.org_CESC.diagnostic_images.Level_1.127.3.0/TCGA-DS-A1OA-01Z-00-DX1.2452ACCB-9788-44C3-8041-3D9E5A3620BD.svs',1796904111) \n",
      "UNABLE TO OPEN FILE?? /TCGA_MIRROR/tcga-data.nci.nih.gov/tcgafiles/ftp_auth/distro_ftpusers/anonymous/tumor/cesc/bcr/nationwidechildrens.org/diagnostic_images/slide_images/nationwidechildrens.org_CESC.diagnostic_images.Level_1.127.3.0/TCGA-DS-A1OA-01Z-00-DX1.2452ACCB-9788-44C3-8041-3D9E5A3620BD.svs\n",
      "\u001b[KTotal Processed: 735  Newly Processed: 0 Dup Slides or Already Loaded: 730  RESCANNED Slides 0"
     ]
    },
    {
     "name": "stderr",
     "output_type": "stream",
     "text": [
      " (\"cannot identify image file '/TCGA_MIRROR/tcga-data.nci.nih.gov/tcgafiles/ftp_auth/distro_ftpusers/anonymous/tumor/cesc/bcr/nationwidechildrens.org/diagnostic_images/slide_images/nationwidechildrens.org_CESC.diagnostic_images.Level_1.127.3.0/TCGA-DS-A1OA-01Z-00-DX1.2452ACCB-9788-44C3-8041-3D9E5A3620BD.svs'\",)\n",
      "Verify failed with:"
     ]
    },
    {
     "name": "stdout",
     "output_type": "stream",
     "text": [
      "Openslide returned an error om tje StandardError block /TCGA_MIRROR/tcga-data.nci.nih.gov/tcgafiles/ftp_auth/distro_ftpusers/anonymous/tumor/cesc/bcr/nationwidechildrens.org/diagnostic_images/slide_images/nationwidechildrens.org_CESC.diagnostic_images.Level_1.127.3.0/TCGA-DS-A1OB-01Z-00-DX1.F3E3B423-D5E3-463A-BE95-76C2ADD14915.svs\n",
      "SHIT IT DIED!\n",
      "insert into `corrupt_or_unreadable_svs_files` (full_file_name,filesize) Values ('/TCGA_MIRROR/tcga-data.nci.nih.gov/tcgafiles/ftp_auth/distro_ftpusers/anonymous/tumor/cesc/bcr/nationwidechildrens.org/diagnostic_images/slide_images/nationwidechildrens.org_CESC.diagnostic_images.Level_1.127.3.0/TCGA-DS-A1OB-01Z-00-DX1.F3E3B423-D5E3-463A-BE95-76C2ADD14915.svs',845977863) \n",
      "UNABLE TO OPEN FILE?? /TCGA_MIRROR/tcga-data.nci.nih.gov/tcgafiles/ftp_auth/distro_ftpusers/anonymous/tumor/cesc/bcr/nationwidechildrens.org/diagnostic_images/slide_images/nationwidechildrens.org_CESC.diagnostic_images.Level_1.127.3.0/TCGA-DS-A1OB-01Z-00-DX1.F3E3B423-D5E3-463A-BE95-76C2ADD14915.svs\n",
      "\u001b[KTotal Processed: 1746  Newly Processed: 0 Dup Slides or Already Loaded: 1740  RESCANNED Slides 0/TCGA_MIRROR/tcga-data.nci.nih.gov/tcgafiles/ftp_auth/distro_ftpusers/anonymous/tumor/\n",
      "\u001b[KTotal Processed: 2308  Newly Processed: 0 Dup Slides or Already Loaded: 2308  RESCANNED Slides 0/TCGA_MIRROR/tcga-data.nci.nih.gov/tcgafiles/ftp_auth/distro_ftpusers/anonymous/tumor/\n"
     ]
    },
    {
     "name": "stderr",
     "output_type": "stream",
     "text": [
      " (\"cannot identify image file '/TCGA_MIRROR/tcga-data.nci.nih.gov/tcgafiles/ftp_auth/distro_ftpusers/anonymous/tumor/cesc/bcr/nationwidechildrens.org/diagnostic_images/slide_images/nationwidechildrens.org_CESC.diagnostic_images.Level_1.127.3.0/TCGA-DS-A1OB-01Z-00-DX1.F3E3B423-D5E3-463A-BE95-76C2ADD14915.svs'\",)\n"
     ]
    }
   ],
   "source": [
    "for collection_id in svs_collections:\n",
    "\n",
    "    curr_svs_slide_list = dsa.find_svs_image_list(collection_id,[tcga_mirror_root])\n",
    "    \n",
    "    slides_processed = 0\n",
    "    newly_processed = 0\n",
    "    dup_slide = 0\n",
    "    rescanned_slides =0 \n",
    "\n",
    "    for sld in curr_svs_slide_list:\n",
    "        #print sld\n",
    "        ## Building the basic dictionary to look up.... for now I'll just index on the full slide name... may change this later though\n",
    "\n",
    "        slide_name = os.path.basename(sld)\n",
    "        ### check the DB to see if the slide is indexed already\n",
    "        qry = tcga_slide_db[collection_id].find_one( {'slide_name':slide_name})\n",
    "        if not qry:\n",
    "            #print \"Slide is not already indexed....\",sld\n",
    "            fs = os.path.getsize(sld)\n",
    "            #md5Checksum = dsa.md5sum(sld)\n",
    "            (openslide_could_open, width, height, filesize, orig_resolution, slide_name,md5, sld_properties) = cdsa_helpers.openslide_test_file_mongo( sld, 'svs', client)\n",
    "            if openslide_could_open:\n",
    "\n",
    "                #print width,height,filesize,orig_resolution,md5, sld_properties\n",
    "\n",
    "                if 'diagnostic_images' in sld:\n",
    "                    prep_type = 'diagnostic'\n",
    "                elif 'tissue_images' in sld:\n",
    "                    prep_type = 'tissue_image'\n",
    "                else:\n",
    "                    prep_type = \"Unknown\"\n",
    "\n",
    "                slide_metadata = { 'slide_w_path': sld, 'slide_name': slide_name, 'file_size':fs, 'width':width, 'height':height,\n",
    "                                 'orig_resolution': orig_resolution, 'sld_properties': cdsa_helpers.clean_openslide_keys ( sld_properties), 'slide_md5': md5, 'prep_type': prep_type\n",
    "                                 }\n",
    "                #print slide_metadata\n",
    "                tcga_slide_db[collection_id].insert_one(slide_metadata)\n",
    "                newly_processed +=1 \n",
    "            else:\n",
    "                print \"UNABLE TO OPEN FILE??\",sld\n",
    "                #sys.exit()\n",
    "        else:\n",
    "            ### See if the other slide matches\n",
    "            #print \"Image seems to have been loaded?\"\n",
    "            fs = os.path.getsize(sld)\n",
    "            ## Double check if file size matches\n",
    "            if qry['file_size'] != fs:\n",
    "                #print \"File size mismatch??\",fs,qry['file_size'],qry['slide_w_path'],sld\n",
    "                load_errors_db['rescanned_slides'].insert_one( {'loaded_slide': qry['slide_w_path'], 'rescanned_slide': sld}             )\n",
    "                rescanned_slides +=1 \n",
    "            else:\n",
    "                dup_slide +=1\n",
    "\n",
    "\n",
    "        slides_processed +=1        \n",
    "        output = \"Total Processed: %d  Newly Processed: %d Dup Slides or Already Loaded: %d  RESCANNED Slides %d\" % (slides_processed, newly_processed, dup_slide, rescanned_slides )\n",
    "        dsa.LinePrinter(output)\n"
   ]
  },
  {
   "cell_type": "code",
   "execution_count": null,
   "metadata": {
    "collapsed": false
   },
   "outputs": [],
   "source": [
    "# collection_id='kirp'\n",
    "# print svs_collections ## This lists all the top level folders\n",
    "# curr_svs_slide_list = dsa.find_svs_image_list(collection_id,[tcga_mirror_root])\n",
    "\n"
   ]
  },
  {
   "cell_type": "code",
   "execution_count": null,
   "metadata": {
    "collapsed": true
   },
   "outputs": [],
   "source": [
    "### CHECK OUT FILE 2620 +-10 this is for PRAD"
   ]
  },
  {
   "cell_type": "code",
   "execution_count": null,
   "metadata": {
    "collapsed": false
   },
   "outputs": [],
   "source": [
    "print len(curr_svs_slide_list)"
   ]
  },
  {
   "cell_type": "code",
   "execution_count": null,
   "metadata": {
    "collapsed": false
   },
   "outputs": [],
   "source": [
    "print curr_svs_slide_list[4]"
   ]
  }
 ],
 "metadata": {
  "kernelspec": {
   "display_name": "Python 2",
   "language": "python",
   "name": "python2"
  },
  "language_info": {
   "codemirror_mode": {
    "name": "ipython",
    "version": 2
   },
   "file_extension": ".py",
   "mimetype": "text/x-python",
   "name": "python",
   "nbconvert_exporter": "python",
   "pygments_lexer": "ipython2",
   "version": "2.7.6"
  }
 },
 "nbformat": 4,
 "nbformat_minor": 0
}
