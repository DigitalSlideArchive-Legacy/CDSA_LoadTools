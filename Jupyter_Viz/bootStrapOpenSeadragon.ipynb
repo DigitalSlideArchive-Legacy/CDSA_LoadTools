{
 "cells": [
  {
   "cell_type": "code",
   "execution_count": 12,
   "metadata": {
    "collapsed": true
   },
   "outputs": [],
   "source": [
    "import json\n",
    "import matplotlib.pyplot as plt\n"
   ]
  },
  {
   "cell_type": "code",
   "execution_count": 13,
   "metadata": {},
   "outputs": [
    {
     "data": {
      "text/html": [
       "<div id=\"openseadragon1\" style=\"width: 800px; height: 600px;\"></div>\n",
       "<script src=\"https://cdn.jsdelivr.net/npm/openseadragon@2.3/build/openseadragon/openseadragon.min.js\"></script>\n",
       "<script type=\"text/javascript\">\n",
       "    var viewer = OpenSeadragon({\n",
       "        id: \"openseadragon1\",\n",
       "        prefixUrl: \"https://cdn.jsdelivr.net/npm/openseadragon@2.3/build/openseadragon/images/\",\n",
       "        tileSources: {\n",
       "        type: 'image',\n",
       "        url:  'E17-128_18_P62-region.jpg',\n",
       "        maxZoom: 30\n",
       "    }\n",
       "    \n",
       "    });\n",
       "</script>"
      ],
      "text/plain": [
       "<IPython.core.display.HTML object>"
      ]
     },
     "metadata": {},
     "output_type": "display_data"
    }
   ],
   "source": [
    "%%html\n",
    "<div id=\"openseadragon1\" style=\"width: 800px; height: 600px;\"></div>\n",
    "<script src=\"https://cdn.jsdelivr.net/npm/openseadragon@2.3/build/openseadragon/openseadragon.min.js\"></script>\n",
    "<script type=\"text/javascript\">\n",
    "    var viewer = OpenSeadragon({\n",
    "        id: \"openseadragon1\",\n",
    "        prefixUrl: \"https://cdn.jsdelivr.net/npm/openseadragon@2.3/build/openseadragon/images/\",\n",
    "        tileSources: {\n",
    "        type: 'image',\n",
    "        url:  'E17-128_18_P62-region.jpg',\n",
    "        maxZoom: 30\n",
    "    }\n",
    "    \n",
    "    });\n",
    "</script>"
   ]
  },
  {
   "cell_type": "code",
   "execution_count": 26,
   "metadata": {},
   "outputs": [
    {
     "data": {
      "text/html": [
       "<div id=\"openseadragon3\" style=\"width: 800px; height: 600px;\"></div>\n",
       "<script src=\"https://cdn.jsdelivr.net/npm/openseadragon@2.3/build/openseadragon/openseadragon.min.js\"></script>\n",
       "<script type=\"text/javascript\">\n",
       "\n",
       "//Define TileSource\n",
       "\n",
       "config = {}\n",
       "\n",
       "config['BASE_URL'] = \"http://cancer.digitalslidearchive.net:8080/api/v1\"\n",
       "\n",
       "itemId = '5ad9095692ca9a007825354b'\n",
       "\n",
       "girderTileSource = {\n",
       "    width: 100000,\n",
       "    height: 100000,\n",
       "    tileWidth: 256,\n",
       "    tileHeight: 256,\n",
       "    minLevel: 0,\n",
       "    maxLevel: 10,\n",
       "                        getTileUrl: function(level, x, y) {\n",
       "                                return config.BASE_URL + \"/item/\" + itemId + \"/tiles/zxy/\" + level + \"/\" + x + \"/\" + y +\"?edge=crop\";\n",
       "//\"?edge=crop\";\n",
       "                        }\n",
       "                        };\n",
       "\n",
       "\n",
       "\n",
       "\n",
       "    var viewer = OpenSeadragon({\n",
       "        id: \"openseadragon3\",\n",
       "        prefixUrl: \"https://cdn.jsdelivr.net/npm/openseadragon@2.3/build/openseadragon/images/\",\n",
       "//         tileSources: {\n",
       "//        type: 'image',\n",
       "//        url:  'E17-128_18_P62-region.jpg'},\n",
       "      tileSources: girderTileSource,\n",
       "        \n",
       "        \n",
       "    defaultZoomLevel: 5,\n",
       "    minZoomLevel: 1,\n",
       "    maxZoomLevel: 5,\n",
       "    }\n",
       "    \n",
       "    );\n",
       "</script>"
      ],
      "text/plain": [
       "<IPython.core.display.HTML object>"
      ]
     },
     "metadata": {},
     "output_type": "display_data"
    }
   ],
   "source": [
    "%%html\n",
    "<div id=\"openseadragon3\" style=\"width: 800px; height: 600px;\"></div>\n",
    "<script src=\"https://cdn.jsdelivr.net/npm/openseadragon@2.3/build/openseadragon/openseadragon.min.js\"></script>\n",
    "<script type=\"text/javascript\">\n",
    "\n",
    "//Define TileSource\n",
    "\n",
    "config = {}\n",
    "\n",
    "config['BASE_URL'] = \"http://cancer.digitalslidearchive.net:8080/api/v1\"\n",
    "\n",
    "itemId = '5ad9095692ca9a007825354b'\n",
    "\n",
    "girderTileSource = {\n",
    "    width: 100000,\n",
    "    height: 100000,\n",
    "    tileWidth: 256,\n",
    "    tileHeight: 256,\n",
    "    minLevel: 0,\n",
    "    maxLevel: 10,\n",
    "                        getTileUrl: function(level, x, y) {\n",
    "                                return config.BASE_URL + \"/item/\" + itemId + \"/tiles/zxy/\" + level + \"/\" + x + \"/\" + y +\"?edge=crop\";\n",
    "//\"?edge=crop\";\n",
    "                        }\n",
    "                        };\n",
    "\n",
    "\n",
    "\n",
    "\n",
    "    var viewer = OpenSeadragon({\n",
    "        id: \"openseadragon3\",\n",
    "        prefixUrl: \"https://cdn.jsdelivr.net/npm/openseadragon@2.3/build/openseadragon/images/\",\n",
    "//         tileSources: {\n",
    "//        type: 'image',\n",
    "//        url:  'E17-128_18_P62-region.jpg'},\n",
    "      tileSources: girderTileSource,\n",
    "        \n",
    "        \n",
    "    defaultZoomLevel: 5,\n",
    "    minZoomLevel: 1,\n",
    "    maxZoomLevel: 5,\n",
    "    }\n",
    "    \n",
    "    );\n",
    "</script>"
   ]
  },
  {
   "cell_type": "code",
   "execution_count": null,
   "metadata": {
    "collapsed": true
   },
   "outputs": [],
   "source": [
    "    "
   ]
  },
  {
   "cell_type": "code",
   "execution_count": null,
   "metadata": {
    "collapsed": true
   },
   "outputs": [],
   "source": []
  },
  {
   "cell_type": "code",
   "execution_count": null,
   "metadata": {
    "collapsed": true
   },
   "outputs": [],
   "source": []
  },
  {
   "cell_type": "code",
   "execution_count": null,
   "metadata": {
    "collapsed": true
   },
   "outputs": [],
   "source": []
  },
  {
   "cell_type": "code",
   "execution_count": null,
   "metadata": {
    "collapsed": true
   },
   "outputs": [],
   "source": []
  },
  {
   "cell_type": "code",
   "execution_count": null,
   "metadata": {
    "collapsed": true
   },
   "outputs": [],
   "source": [
    "%%html\n",
    "<div id=\"d3-example\"></div>\n",
    "<style>\n",
    ".node {stroke: #fff; stroke-width: 1.5px;}\n",
    ".link {stroke: #999; stroke-opacity: .6;}\n",
    "</style>"
   ]
  },
  {
   "cell_type": "code",
   "execution_count": null,
   "metadata": {
    "collapsed": true
   },
   "outputs": [],
   "source": [
    "%%javascript\n",
    "// We load the d3.js library from the Web.\n",
    "require.config({paths:\n",
    "    {d3: \"http://d3js.org/d3.v3.min\"}});\n",
    "require([\"d3\"], function(d3) {\n",
    "  // The code in this block is executed when the\n",
    "  // d3.js library has been loaded.\n",
    "\n",
    "  // First, we specify the size of the canvas\n",
    "  // containing the visualization (size of the\n",
    "  // <div> element).\n",
    "  var width = 600, height = 300;\n",
    "\n",
    "  // We create a color scale.\n",
    "  var color = d3.scale.category10();\n",
    "\n",
    "  // We create a force-directed dynamic graph layout.\n",
    "  var force = d3.layout.force()\n",
    "    .charge(-120)\n",
    "    .linkDistance(30)\n",
    "    .size([width, height]);\n",
    "\n",
    "  // In the <div> element, we create a <svg> graphic\n",
    "  // that will contain our interactive visualization.\n",
    "  var svg = d3.select(\"#d3-example\").select(\"svg\")\n",
    "  if (svg.empty()) {\n",
    "    svg = d3.select(\"#d3-example\").append(\"svg\")\n",
    "          .attr(\"width\", width)\n",
    "          .attr(\"height\", height);\n",
    "  }\n",
    "\n",
    "  // We load the JSON file.\n",
    "  d3.json(\"graph.json\", function(error, graph) {\n",
    "    // In this block, the file has been loaded\n",
    "    // and the 'graph' object contains our graph.\n",
    "\n",
    "    // We load the nodes and links in the\n",
    "    // force-directed graph.\n",
    "    force.nodes(graph.nodes)\n",
    "      .links(graph.links)\n",
    "      .start();\n",
    "\n",
    "    // We create a <line> SVG element for each link\n",
    "    // in the graph.\n",
    "    var link = svg.selectAll(\".link\")\n",
    "      .data(graph.links)\n",
    "      .enter().append(\"line\")\n",
    "      .attr(\"class\", \"link\");\n",
    "\n",
    "    // We create a <circle> SVG element for each node\n",
    "    // in the graph, and we specify a few attributes.\n",
    "    var node = svg.selectAll(\".node\")\n",
    "      .data(graph.nodes)\n",
    "      .enter().append(\"circle\")\n",
    "      .attr(\"class\", \"node\")\n",
    "      .attr(\"r\", 5)  // radius\n",
    "      .style(\"fill\", function(d) {\n",
    "         // The node color depends on the club.\n",
    "         return color(d.club);\n",
    "      })\n",
    "      .call(force.drag);\n",
    "\n",
    "    // The name of each node is the node number.\n",
    "    node.append(\"title\")\n",
    "        .text(function(d) { return d.name; });\n",
    "\n",
    "    // We bind the positions of the SVG elements\n",
    "    // to the positions of the dynamic force-directed\n",
    "    // graph, at each time step.\n",
    "    force.on(\"tick\", function() {\n",
    "      link.attr(\"x1\", function(d){return d.source.x})\n",
    "          .attr(\"y1\", function(d){return d.source.y})\n",
    "          .attr(\"x2\", function(d){return d.target.x})\n",
    "          .attr(\"y2\", function(d){return d.target.y});\n",
    "\n",
    "      node.attr(\"cx\", function(d){return d.x})\n",
    "          .attr(\"cy\", function(d){return d.y});\n",
    "    });\n",
    "  });\n",
    "});"
   ]
  }
 ],
 "metadata": {
  "kernelspec": {
   "display_name": "Python 2",
   "language": "python",
   "name": "python2"
  },
  "language_info": {
   "codemirror_mode": {
    "name": "ipython",
    "version": 2
   },
   "file_extension": ".py",
   "mimetype": "text/x-python",
   "name": "python",
   "nbconvert_exporter": "python",
   "pygments_lexer": "ipython2",
   "version": "2.7.13"
  }
 },
 "nbformat": 4,
 "nbformat_minor": 2
}
